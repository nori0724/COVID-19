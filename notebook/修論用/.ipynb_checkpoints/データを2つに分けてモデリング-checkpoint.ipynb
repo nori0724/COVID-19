{
 "cells": [
  {
   "cell_type": "code",
   "execution_count": 1,
   "metadata": {},
   "outputs": [
    {
     "name": "stderr",
     "output_type": "stream",
     "text": [
      "/Users/masanoritakahashi/anaconda3/lib/python3.7/site-packages/japanize_matplotlib/__init__.py:13: MatplotlibDeprecationWarning:\n",
      "\n",
      "\n",
      "The createFontList function was deprecated in Matplotlib 3.2 and will be removed two minor releases later. Use FontManager.addfont instead.\n",
      "\n"
     ]
    }
   ],
   "source": [
    "import scipy as sp\n",
    "import os\n",
    "from scipy import stats\n",
    "import matplotlib.pyplot as plt\n",
    "import numpy as np\n",
    "import pandas as pd\n",
    "from sklearn import preprocessing\n",
    "from sklearn import linear_model\n",
    "import plotly.express as px\n",
    "import plotly\n",
    "import seaborn as sns\n",
    "import statsmodels.api as sm\n",
    "from sklearn.metrics import r2_score\n",
    "\n",
    "\n",
    "import japanize_matplotlib\n",
    "import warnings\n",
    "warnings.filterwarnings('ignore')\n",
    "\n",
    "%matplotlib inline\n",
    "\n",
    "# 乱数seedの固定\n",
    "np.random.seed(seed=123)"
   ]
  },
  {
   "cell_type": "code",
   "execution_count": 2,
   "metadata": {},
   "outputs": [],
   "source": [
    "PATH = \"/Users/masanoritakahashi/Documents/講義/ゼミ/M2/空間生存時間/修士論文/plot/\"\n",
    "FEATS = [\"hf\", \"pop\",   \"gdp\",\"urb\",\"dist\", \"air\", \"detection\"]"
   ]
  },
  {
   "cell_type": "code",
   "execution_count": 3,
   "metadata": {},
   "outputs": [],
   "source": [
    "df = pd.read_csv(\"../../data/data_covid_fix_name_code_coordinate_ltaly_medianage_hdi_density.csv\")\n",
    "df = df.dropna().reset_index(drop=True)"
   ]
  },
  {
   "cell_type": "code",
   "execution_count": 4,
   "metadata": {},
   "outputs": [],
   "source": [
    "y=df[\"date_first\"].values"
   ]
  },
  {
   "cell_type": "code",
   "execution_count": 5,
   "metadata": {},
   "outputs": [
    {
     "data": {
      "text/html": [
       "<div>\n",
       "<style scoped>\n",
       "    .dataframe tbody tr th:only-of-type {\n",
       "        vertical-align: middle;\n",
       "    }\n",
       "\n",
       "    .dataframe tbody tr th {\n",
       "        vertical-align: top;\n",
       "    }\n",
       "\n",
       "    .dataframe thead th {\n",
       "        text-align: right;\n",
       "    }\n",
       "</style>\n",
       "<table border=\"1\" class=\"dataframe\">\n",
       "  <thead>\n",
       "    <tr style=\"text-align: right;\">\n",
       "      <th></th>\n",
       "      <th>hf</th>\n",
       "      <th>pop</th>\n",
       "      <th>gdp</th>\n",
       "      <th>urb</th>\n",
       "      <th>dist</th>\n",
       "      <th>air</th>\n",
       "      <th>detection</th>\n",
       "    </tr>\n",
       "  </thead>\n",
       "  <tbody>\n",
       "    <tr>\n",
       "      <th>0</th>\n",
       "      <td>0.848173</td>\n",
       "      <td>-0.311439</td>\n",
       "      <td>-0.433684</td>\n",
       "      <td>-0.063938</td>\n",
       "      <td>-0.366392</td>\n",
       "      <td>-0.299479</td>\n",
       "      <td>1.168601</td>\n",
       "    </tr>\n",
       "    <tr>\n",
       "      <th>1</th>\n",
       "      <td>-1.758643</td>\n",
       "      <td>0.017707</td>\n",
       "      <td>-0.343016</td>\n",
       "      <td>0.497620</td>\n",
       "      <td>0.163625</td>\n",
       "      <td>-0.222283</td>\n",
       "      <td>-1.629438</td>\n",
       "    </tr>\n",
       "    <tr>\n",
       "      <th>2</th>\n",
       "      <td>-1.383627</td>\n",
       "      <td>-0.077776</td>\n",
       "      <td>-0.729617</td>\n",
       "      <td>0.173047</td>\n",
       "      <td>0.510445</td>\n",
       "      <td>-0.302324</td>\n",
       "      <td>-1.364456</td>\n",
       "    </tr>\n",
       "    <tr>\n",
       "      <th>3</th>\n",
       "      <td>-0.048206</td>\n",
       "      <td>0.036656</td>\n",
       "      <td>-0.123424</td>\n",
       "      <td>1.375357</td>\n",
       "      <td>2.652719</td>\n",
       "      <td>-0.284221</td>\n",
       "      <td>1.195549</td>\n",
       "    </tr>\n",
       "    <tr>\n",
       "      <th>4</th>\n",
       "      <td>1.561618</td>\n",
       "      <td>-0.126421</td>\n",
       "      <td>1.206121</td>\n",
       "      <td>1.108126</td>\n",
       "      <td>-0.212692</td>\n",
       "      <td>0.648163</td>\n",
       "      <td>2.201585</td>\n",
       "    </tr>\n",
       "    <tr>\n",
       "      <th>...</th>\n",
       "      <td>...</td>\n",
       "      <td>...</td>\n",
       "      <td>...</td>\n",
       "      <td>...</td>\n",
       "      <td>...</td>\n",
       "      <td>...</td>\n",
       "      <td>...</td>\n",
       "    </tr>\n",
       "    <tr>\n",
       "      <th>143</th>\n",
       "      <td>-2.847103</td>\n",
       "      <td>-0.093995</td>\n",
       "      <td>-0.230809</td>\n",
       "      <td>1.208304</td>\n",
       "      <td>1.656926</td>\n",
       "      <td>-0.276411</td>\n",
       "      <td>-1.777649</td>\n",
       "    </tr>\n",
       "    <tr>\n",
       "      <th>144</th>\n",
       "      <td>-0.569569</td>\n",
       "      <td>0.463501</td>\n",
       "      <td>-0.686996</td>\n",
       "      <td>-1.177019</td>\n",
       "      <td>-1.565053</td>\n",
       "      <td>0.288317</td>\n",
       "      <td>0.409582</td>\n",
       "    </tr>\n",
       "    <tr>\n",
       "      <th>145</th>\n",
       "      <td>-2.389767</td>\n",
       "      <td>-0.097101</td>\n",
       "      <td>-0.895623</td>\n",
       "      <td>-1.144037</td>\n",
       "      <td>-0.623394</td>\n",
       "      <td>-0.299062</td>\n",
       "      <td>-1.764175</td>\n",
       "    </tr>\n",
       "    <tr>\n",
       "      <th>146</th>\n",
       "      <td>-0.386634</td>\n",
       "      <td>-0.190312</td>\n",
       "      <td>-0.825030</td>\n",
       "      <td>-0.830230</td>\n",
       "      <td>0.308507</td>\n",
       "      <td>-0.303179</td>\n",
       "      <td>-1.184806</td>\n",
       "    </tr>\n",
       "    <tr>\n",
       "      <th>147</th>\n",
       "      <td>-1.154959</td>\n",
       "      <td>-0.214668</td>\n",
       "      <td>-0.876157</td>\n",
       "      <td>-1.346262</td>\n",
       "      <td>0.361865</td>\n",
       "      <td>-0.299738</td>\n",
       "      <td>0.777864</td>\n",
       "    </tr>\n",
       "  </tbody>\n",
       "</table>\n",
       "<p>148 rows × 7 columns</p>\n",
       "</div>"
      ],
      "text/plain": [
       "           hf       pop       gdp       urb      dist       air  detection\n",
       "0    0.848173 -0.311439 -0.433684 -0.063938 -0.366392 -0.299479   1.168601\n",
       "1   -1.758643  0.017707 -0.343016  0.497620  0.163625 -0.222283  -1.629438\n",
       "2   -1.383627 -0.077776 -0.729617  0.173047  0.510445 -0.302324  -1.364456\n",
       "3   -0.048206  0.036656 -0.123424  1.375357  2.652719 -0.284221   1.195549\n",
       "4    1.561618 -0.126421  1.206121  1.108126 -0.212692  0.648163   2.201585\n",
       "..        ...       ...       ...       ...       ...       ...        ...\n",
       "143 -2.847103 -0.093995 -0.230809  1.208304  1.656926 -0.276411  -1.777649\n",
       "144 -0.569569  0.463501 -0.686996 -1.177019 -1.565053  0.288317   0.409582\n",
       "145 -2.389767 -0.097101 -0.895623 -1.144037 -0.623394 -0.299062  -1.764175\n",
       "146 -0.386634 -0.190312 -0.825030 -0.830230  0.308507 -0.303179  -1.184806\n",
       "147 -1.154959 -0.214668 -0.876157 -1.346262  0.361865 -0.299738   0.777864\n",
       "\n",
       "[148 rows x 7 columns]"
      ]
     },
     "execution_count": 5,
     "metadata": {},
     "output_type": "execute_result"
    }
   ],
   "source": [
    "X = df[FEATS]\n",
    "sscaler = preprocessing.StandardScaler() # インスタンスの作成\n",
    "sscaler.fit(X)    \n",
    "X = sscaler.transform(X) # xを変換\n",
    "pd.DataFrame(X, columns=FEATS)"
   ]
  },
  {
   "cell_type": "code",
   "execution_count": 6,
   "metadata": {},
   "outputs": [],
   "source": [
    "# データを早期、晩期に分割\n",
    "y_early = df[\"date_first\"][df[\"date_first\"]<40]\n",
    "y_late = df[\"date_first\"][df[\"date_first\"]>40]\n",
    "\n",
    "x_early = X[df[\"date_first\"]<40]\n",
    "x_late = X[df[\"date_first\"]>40]"
   ]
  },
  {
   "cell_type": "markdown",
   "metadata": {},
   "source": [
    "# 早期感染国"
   ]
  },
  {
   "cell_type": "code",
   "execution_count": 7,
   "metadata": {},
   "outputs": [
    {
     "data": {
      "text/html": [
       "<table class=\"simpletable\">\n",
       "<caption>OLS Regression Results</caption>\n",
       "<tr>\n",
       "  <th>Dep. Variable:</th>       <td>date_first</td>    <th>  R-squared:         </th> <td>   0.581</td>\n",
       "</tr>\n",
       "<tr>\n",
       "  <th>Model:</th>                   <td>OLS</td>       <th>  Adj. R-squared:    </th> <td>   0.385</td>\n",
       "</tr>\n",
       "<tr>\n",
       "  <th>Method:</th>             <td>Least Squares</td>  <th>  F-statistic:       </th> <td>   2.967</td>\n",
       "</tr>\n",
       "<tr>\n",
       "  <th>Date:</th>             <td>Wed, 13 Jan 2021</td> <th>  Prob (F-statistic):</th>  <td>0.0365</td> \n",
       "</tr>\n",
       "<tr>\n",
       "  <th>Time:</th>                 <td>23:50:20</td>     <th>  Log-Likelihood:    </th> <td> -60.616</td>\n",
       "</tr>\n",
       "<tr>\n",
       "  <th>No. Observations:</th>      <td>    23</td>      <th>  AIC:               </th> <td>   137.2</td>\n",
       "</tr>\n",
       "<tr>\n",
       "  <th>Df Residuals:</th>          <td>    15</td>      <th>  BIC:               </th> <td>   146.3</td>\n",
       "</tr>\n",
       "<tr>\n",
       "  <th>Df Model:</th>              <td>     7</td>      <th>                     </th>     <td> </td>   \n",
       "</tr>\n",
       "<tr>\n",
       "  <th>Covariance Type:</th>      <td>nonrobust</td>    <th>                     </th>     <td> </td>   \n",
       "</tr>\n",
       "</table>\n",
       "<table class=\"simpletable\">\n",
       "<tr>\n",
       "       <td></td>         <th>coef</th>     <th>std err</th>      <th>t</th>      <th>P>|t|</th>  <th>[0.025</th>    <th>0.975]</th>  \n",
       "</tr>\n",
       "<tr>\n",
       "  <th> Intercept</th> <td>   36.1802</td> <td>    3.046</td> <td>   11.878</td> <td> 0.000</td> <td>   29.688</td> <td>   42.672</td>\n",
       "</tr>\n",
       "<tr>\n",
       "  <th>hf</th>         <td>    1.0867</td> <td>    2.028</td> <td>    0.536</td> <td> 0.600</td> <td>   -3.235</td> <td>    5.409</td>\n",
       "</tr>\n",
       "<tr>\n",
       "  <th>pop</th>        <td>    0.5718</td> <td>    0.444</td> <td>    1.289</td> <td> 0.217</td> <td>   -0.374</td> <td>    1.517</td>\n",
       "</tr>\n",
       "<tr>\n",
       "  <th>gdp</th>        <td>   -0.6127</td> <td>    1.957</td> <td>   -0.313</td> <td> 0.759</td> <td>   -4.784</td> <td>    3.559</td>\n",
       "</tr>\n",
       "<tr>\n",
       "  <th>urb</th>        <td>   -0.3031</td> <td>    1.953</td> <td>   -0.155</td> <td> 0.879</td> <td>   -4.465</td> <td>    3.859</td>\n",
       "</tr>\n",
       "<tr>\n",
       "  <th>dist</th>       <td>    7.1405</td> <td>    2.039</td> <td>    3.502</td> <td> 0.003</td> <td>    2.795</td> <td>   11.486</td>\n",
       "</tr>\n",
       "<tr>\n",
       "  <th>air</th>        <td>   -1.2628</td> <td>    0.525</td> <td>   -2.405</td> <td> 0.030</td> <td>   -2.382</td> <td>   -0.144</td>\n",
       "</tr>\n",
       "<tr>\n",
       "  <th>detection</th>  <td>   -2.7567</td> <td>    1.631</td> <td>   -1.690</td> <td> 0.112</td> <td>   -6.233</td> <td>    0.719</td>\n",
       "</tr>\n",
       "</table>\n",
       "<table class=\"simpletable\">\n",
       "<tr>\n",
       "  <th>Omnibus:</th>       <td> 2.545</td> <th>  Durbin-Watson:     </th> <td>   2.637</td>\n",
       "</tr>\n",
       "<tr>\n",
       "  <th>Prob(Omnibus):</th> <td> 0.280</td> <th>  Jarque-Bera (JB):  </th> <td>   1.959</td>\n",
       "</tr>\n",
       "<tr>\n",
       "  <th>Skew:</th>          <td>-0.702</td> <th>  Prob(JB):          </th> <td>   0.375</td>\n",
       "</tr>\n",
       "<tr>\n",
       "  <th>Kurtosis:</th>      <td> 2.734</td> <th>  Cond. No.          </th> <td>    13.2</td>\n",
       "</tr>\n",
       "</table><br/><br/>Warnings:<br/>[1] Standard Errors assume that the covariance matrix of the errors is correctly specified."
      ],
      "text/plain": [
       "<class 'statsmodels.iolib.summary.Summary'>\n",
       "\"\"\"\n",
       "                            OLS Regression Results                            \n",
       "==============================================================================\n",
       "Dep. Variable:             date_first   R-squared:                       0.581\n",
       "Model:                            OLS   Adj. R-squared:                  0.385\n",
       "Method:                 Least Squares   F-statistic:                     2.967\n",
       "Date:                Wed, 13 Jan 2021   Prob (F-statistic):             0.0365\n",
       "Time:                        23:50:20   Log-Likelihood:                -60.616\n",
       "No. Observations:                  23   AIC:                             137.2\n",
       "Df Residuals:                      15   BIC:                             146.3\n",
       "Df Model:                           7                                         \n",
       "Covariance Type:            nonrobust                                         \n",
       "==============================================================================\n",
       "                 coef    std err          t      P>|t|      [0.025      0.975]\n",
       "------------------------------------------------------------------------------\n",
       " Intercept    36.1802      3.046     11.878      0.000      29.688      42.672\n",
       "hf             1.0867      2.028      0.536      0.600      -3.235       5.409\n",
       "pop            0.5718      0.444      1.289      0.217      -0.374       1.517\n",
       "gdp           -0.6127      1.957     -0.313      0.759      -4.784       3.559\n",
       "urb           -0.3031      1.953     -0.155      0.879      -4.465       3.859\n",
       "dist           7.1405      2.039      3.502      0.003       2.795      11.486\n",
       "air           -1.2628      0.525     -2.405      0.030      -2.382      -0.144\n",
       "detection     -2.7567      1.631     -1.690      0.112      -6.233       0.719\n",
       "==============================================================================\n",
       "Omnibus:                        2.545   Durbin-Watson:                   2.637\n",
       "Prob(Omnibus):                  0.280   Jarque-Bera (JB):                1.959\n",
       "Skew:                          -0.702   Prob(JB):                        0.375\n",
       "Kurtosis:                       2.734   Cond. No.                         13.2\n",
       "==============================================================================\n",
       "\n",
       "Warnings:\n",
       "[1] Standard Errors assume that the covariance matrix of the errors is correctly specified.\n",
       "\"\"\""
      ]
     },
     "execution_count": 7,
     "metadata": {},
     "output_type": "execute_result"
    }
   ],
   "source": [
    "model_early = sm.OLS(y_early, sm.add_constant(x_early))\n",
    "result_early = model_early.fit()\n",
    "result_early.summary(xname=[\" Intercept\"] + FEATS) "
   ]
  },
  {
   "cell_type": "code",
   "execution_count": 8,
   "metadata": {},
   "outputs": [
    {
     "data": {
      "text/plain": [
       "137.23119921376272"
      ]
     },
     "execution_count": 8,
     "metadata": {},
     "output_type": "execute_result"
    }
   ],
   "source": [
    "result_early.aic"
   ]
  },
  {
   "cell_type": "code",
   "execution_count": 9,
   "metadata": {},
   "outputs": [
    {
     "data": {
      "text/plain": [
       "(array([1., 2., 2., 2., 1., 1., 4., 3., 4., 3.]),\n",
       " array([19.05576355, 20.44587128, 21.835979  , 23.22608672, 24.61619445,\n",
       "        26.00630217, 27.39640989, 28.78651761, 30.17662534, 31.56673306,\n",
       "        32.95684078]),\n",
       " <a list of 10 Patch objects>)"
      ]
     },
     "execution_count": 9,
     "metadata": {},
     "output_type": "execute_result"
    },
    {
     "data": {
      "image/png": "[encoded data removed]",
      "text/plain": [
       "<Figure size 432x288 with 1 Axes>"
      ]
     },
     "metadata": {
      "needs_background": "light"
     },
     "output_type": "display_data"
    }
   ],
   "source": [
    "y_hat_early = result_early.predict(sm.add_constant(x_early))\n",
    "plt.hist(y_hat_early, color=\"orange\")"
   ]
  },
  {
   "cell_type": "code",
   "execution_count": 12,
   "metadata": {},
   "outputs": [
    {
     "data": {
      "image/png": "[encoded data removed]",
      "text/plain": [
       "<Figure size 432x288 with 1 Axes>"
      ]
     },
     "metadata": {
      "needs_background": "light"
     },
     "output_type": "display_data"
    }
   ],
   "source": [
    "# 推定値の可視化\n",
    "plt.hist(y_early,  alpha=0.6, label=\"y_early\")\n",
    "plt.hist(y_hat_early,  alpha=0.6, label=\"y_early_hat\")\n",
    "plt.legend(loc=\"upper left\", fontsize=12)\n",
    "plt.savefig(\"/Users/masanoritakahashi/Documents/講義/ゼミ/M2/空間生存時間/修士論文/plot/y_early_y_early_hat_hist.pdf\")"
   ]
  },
  {
   "cell_type": "code",
   "execution_count": 38,
   "metadata": {},
   "outputs": [
    {
     "data": {
      "text/plain": [
       "0.5806309997799333"
      ]
     },
     "execution_count": 38,
     "metadata": {},
     "output_type": "execute_result"
    }
   ],
   "source": [
    "from sklearn.metrics import r2_score\n",
    "r2_score( y_early, y_hat_early)"
   ]
  },
  {
   "cell_type": "code",
   "execution_count": 114,
   "metadata": {},
   "outputs": [
    {
     "data": {
      "image/png": "[encoded data removed]",
      "text/plain": [
       "<Figure size 432x288 with 1 Axes>"
      ]
     },
     "metadata": {
      "needs_background": "light"
     },
     "output_type": "display_data"
    }
   ],
   "source": [
    "resid_ealry = (y_early - y_hat_early).reset_index(drop=True)\n",
    "plt.hist(resid_ealry, color=\"c\")\n",
    "plt.xlabel(\"残差\")\n",
    "\n",
    "plt.savefig(PATH +\"resid_ealry.eps\")"
   ]
  },
  {
   "cell_type": "code",
   "execution_count": 113,
   "metadata": {},
   "outputs": [
    {
     "data": {
      "image/png": "[encoded data removed]",
      "text/plain": [
       "<Figure size 432x288 with 1 Axes>"
      ]
     },
     "metadata": {
      "needs_background": "light"
     },
     "output_type": "display_data"
    }
   ],
   "source": [
    "plt.scatter(resid_ealry.index, resid_ealry, color=\"c\")\n",
    "plt.xlabel(\"index\")\n",
    "plt.ylabel(\"残差\")\n",
    "\n",
    "plt.savefig(PATH +\"scatter_resid_early.eps\")"
   ]
  },
  {
   "cell_type": "markdown",
   "metadata": {},
   "source": [
    "# 晩期感染国"
   ]
  },
  {
   "cell_type": "code",
   "execution_count": 10,
   "metadata": {},
   "outputs": [
    {
     "data": {
      "text/html": [
       "<table class=\"simpletable\">\n",
       "<caption>OLS Regression Results</caption>\n",
       "<tr>\n",
       "  <th>Dep. Variable:</th>       <td>date_first</td>    <th>  R-squared:         </th> <td>   0.520</td>\n",
       "</tr>\n",
       "<tr>\n",
       "  <th>Model:</th>                   <td>OLS</td>       <th>  Adj. R-squared:    </th> <td>   0.491</td>\n",
       "</tr>\n",
       "<tr>\n",
       "  <th>Method:</th>             <td>Least Squares</td>  <th>  F-statistic:       </th> <td>   18.10</td>\n",
       "</tr>\n",
       "<tr>\n",
       "  <th>Date:</th>             <td>Wed, 13 Jan 2021</td> <th>  Prob (F-statistic):</th> <td>3.94e-16</td>\n",
       "</tr>\n",
       "<tr>\n",
       "  <th>Time:</th>                 <td>23:50:21</td>     <th>  Log-Likelihood:    </th> <td> -419.42</td>\n",
       "</tr>\n",
       "<tr>\n",
       "  <th>No. Observations:</th>      <td>   125</td>      <th>  AIC:               </th> <td>   854.8</td>\n",
       "</tr>\n",
       "<tr>\n",
       "  <th>Df Residuals:</th>          <td>   117</td>      <th>  BIC:               </th> <td>   877.5</td>\n",
       "</tr>\n",
       "<tr>\n",
       "  <th>Df Model:</th>              <td>     7</td>      <th>                     </th>     <td> </td>   \n",
       "</tr>\n",
       "<tr>\n",
       "  <th>Covariance Type:</th>      <td>nonrobust</td>    <th>                     </th>     <td> </td>   \n",
       "</tr>\n",
       "</table>\n",
       "<table class=\"simpletable\">\n",
       "<tr>\n",
       "       <td></td>         <th>coef</th>     <th>std err</th>      <th>t</th>      <th>P>|t|</th>  <th>[0.025</th>    <th>0.975]</th>  \n",
       "</tr>\n",
       "<tr>\n",
       "  <th> Intercept</th> <td>   68.5849</td> <td>    0.743</td> <td>   92.354</td> <td> 0.000</td> <td>   67.114</td> <td>   70.056</td>\n",
       "</tr>\n",
       "<tr>\n",
       "  <th>hf</th>         <td>   -0.8516</td> <td>    0.862</td> <td>   -0.988</td> <td> 0.325</td> <td>   -2.559</td> <td>    0.856</td>\n",
       "</tr>\n",
       "<tr>\n",
       "  <th>pop</th>        <td>   -8.3894</td> <td>    2.255</td> <td>   -3.720</td> <td> 0.000</td> <td>  -12.856</td> <td>   -3.923</td>\n",
       "</tr>\n",
       "<tr>\n",
       "  <th>gdp</th>        <td>   -1.7217</td> <td>    1.057</td> <td>   -1.629</td> <td> 0.106</td> <td>   -3.815</td> <td>    0.372</td>\n",
       "</tr>\n",
       "<tr>\n",
       "  <th>urb</th>        <td>   -4.5901</td> <td>    0.902</td> <td>   -5.089</td> <td> 0.000</td> <td>   -6.377</td> <td>   -2.804</td>\n",
       "</tr>\n",
       "<tr>\n",
       "  <th>dist</th>       <td>    1.7753</td> <td>    0.744</td> <td>    2.387</td> <td> 0.019</td> <td>    0.302</td> <td>    3.248</td>\n",
       "</tr>\n",
       "<tr>\n",
       "  <th>air</th>        <td>    4.2952</td> <td>    2.709</td> <td>    1.585</td> <td> 0.116</td> <td>   -1.070</td> <td>    9.661</td>\n",
       "</tr>\n",
       "<tr>\n",
       "  <th>detection</th>  <td>   -2.8492</td> <td>    0.859</td> <td>   -3.317</td> <td> 0.001</td> <td>   -4.550</td> <td>   -1.148</td>\n",
       "</tr>\n",
       "</table>\n",
       "<table class=\"simpletable\">\n",
       "<tr>\n",
       "  <th>Omnibus:</th>       <td> 4.808</td> <th>  Durbin-Watson:     </th> <td>   2.075</td>\n",
       "</tr>\n",
       "<tr>\n",
       "  <th>Prob(Omnibus):</th> <td> 0.090</td> <th>  Jarque-Bera (JB):  </th> <td>   6.223</td>\n",
       "</tr>\n",
       "<tr>\n",
       "  <th>Skew:</th>          <td> 0.124</td> <th>  Prob(JB):          </th> <td>  0.0445</td>\n",
       "</tr>\n",
       "<tr>\n",
       "  <th>Kurtosis:</th>      <td> 4.064</td> <th>  Cond. No.          </th> <td>    7.17</td>\n",
       "</tr>\n",
       "</table><br/><br/>Warnings:<br/>[1] Standard Errors assume that the covariance matrix of the errors is correctly specified."
      ],
      "text/plain": [
       "<class 'statsmodels.iolib.summary.Summary'>\n",
       "\"\"\"\n",
       "                            OLS Regression Results                            \n",
       "==============================================================================\n",
       "Dep. Variable:             date_first   R-squared:                       0.520\n",
       "Model:                            OLS   Adj. R-squared:                  0.491\n",
       "Method:                 Least Squares   F-statistic:                     18.10\n",
       "Date:                Wed, 13 Jan 2021   Prob (F-statistic):           3.94e-16\n",
       "Time:                        23:50:21   Log-Likelihood:                -419.42\n",
       "No. Observations:                 125   AIC:                             854.8\n",
       "Df Residuals:                     117   BIC:                             877.5\n",
       "Df Model:                           7                                         \n",
       "Covariance Type:            nonrobust                                         \n",
       "==============================================================================\n",
       "                 coef    std err          t      P>|t|      [0.025      0.975]\n",
       "------------------------------------------------------------------------------\n",
       " Intercept    68.5849      0.743     92.354      0.000      67.114      70.056\n",
       "hf            -0.8516      0.862     -0.988      0.325      -2.559       0.856\n",
       "pop           -8.3894      2.255     -3.720      0.000     -12.856      -3.923\n",
       "gdp           -1.7217      1.057     -1.629      0.106      -3.815       0.372\n",
       "urb           -4.5901      0.902     -5.089      0.000      -6.377      -2.804\n",
       "dist           1.7753      0.744      2.387      0.019       0.302       3.248\n",
       "air            4.2952      2.709      1.585      0.116      -1.070       9.661\n",
       "detection     -2.8492      0.859     -3.317      0.001      -4.550      -1.148\n",
       "==============================================================================\n",
       "Omnibus:                        4.808   Durbin-Watson:                   2.075\n",
       "Prob(Omnibus):                  0.090   Jarque-Bera (JB):                6.223\n",
       "Skew:                           0.124   Prob(JB):                       0.0445\n",
       "Kurtosis:                       4.064   Cond. No.                         7.17\n",
       "==============================================================================\n",
       "\n",
       "Warnings:\n",
       "[1] Standard Errors assume that the covariance matrix of the errors is correctly specified.\n",
       "\"\"\""
      ]
     },
     "execution_count": 10,
     "metadata": {},
     "output_type": "execute_result"
    }
   ],
   "source": [
    "model_late = sm.OLS(y_late, sm.add_constant(x_late))\n",
    "result_late = model_late.fit()\n",
    "result_late.summary(xname=[\" Intercept\"] + FEATS) "
   ]
  },
  {
   "cell_type": "code",
   "execution_count": 11,
   "metadata": {},
   "outputs": [
    {
     "data": {
      "text/plain": [
       "854.835259773472"
      ]
     },
     "execution_count": 11,
     "metadata": {},
     "output_type": "execute_result"
    }
   ],
   "source": [
    "result_late.aic"
   ]
  },
  {
   "cell_type": "code",
   "execution_count": 17,
   "metadata": {},
   "outputs": [
    {
     "data": {
      "text/plain": [
       "(array([10., 23., 19., 28., 29., 13.,  3.]),\n",
       " array([55.40734464, 59.93708635, 64.46682807, 68.99656979, 73.52631151,\n",
       "        78.05605322, 82.58579494, 87.11553666]),\n",
       " <a list of 7 Patch objects>)"
      ]
     },
     "execution_count": 17,
     "metadata": {},
     "output_type": "execute_result"
    },
    {
     "data": {
      "image/png": "[encoded data removed]",
      "text/plain": [
       "<Figure size 432x288 with 1 Axes>"
      ]
     },
     "metadata": {
      "needs_background": "light"
     },
     "output_type": "display_data"
    }
   ],
   "source": [
    "y_hat_late = result_late.predict(sm.add_constant(x_late))\n",
    "plt.hist(y_hat_late, color=\"orange\", bins=7)"
   ]
  },
  {
   "cell_type": "code",
   "execution_count": 21,
   "metadata": {},
   "outputs": [
    {
     "data": {
      "image/png": "[encoded data removed]",
      "text/plain": [
       "<Figure size 432x288 with 1 Axes>"
      ]
     },
     "metadata": {
      "needs_background": "light"
     },
     "output_type": "display_data"
    }
   ],
   "source": [
    "# 推定値の可視化\n",
    "plt.hist(y_late,  alpha=0.6, label=\"y_late\", bins=10)\n",
    "plt.hist(y_hat_late,  alpha=0.6, label=\"y_late_hat\", bins=6)\n",
    "plt.legend(loc=\"upper right\", fontsize=12)\n",
    "plt.savefig(\"/Users/masanoritakahashi/Documents/講義/ゼミ/M2/空間生存時間/修士論文/plot/y_late_y_late_hat_hist.pdf\")"
   ]
  },
  {
   "cell_type": "code",
   "execution_count": 71,
   "metadata": {},
   "outputs": [
    {
     "data": {
      "text/plain": [
       "0.51984835803578"
      ]
     },
     "execution_count": 71,
     "metadata": {},
     "output_type": "execute_result"
    }
   ],
   "source": [
    "from sklearn.metrics import r2_score\n",
    "r2_score( y_late, y_hat_late)"
   ]
  },
  {
   "cell_type": "code",
   "execution_count": 111,
   "metadata": {},
   "outputs": [
    {
     "data": {
      "image/png": "[encoded data removed]",
      "text/plain": [
       "<Figure size 432x288 with 1 Axes>"
      ]
     },
     "metadata": {
      "needs_background": "light"
     },
     "output_type": "display_data"
    }
   ],
   "source": [
    "resid_late = (y_late - y_hat_late).reset_index(drop=True)\n",
    "plt.hist(resid_late, color=\"c\")\n",
    "plt.xlabel(\"残差\")\n",
    "\n",
    "plt.savefig(PATH +\"resid_late.eps\")"
   ]
  },
  {
   "cell_type": "code",
   "execution_count": 110,
   "metadata": {},
   "outputs": [
    {
     "data": {
      "image/png": "[encoded data removed]",
      "text/plain": [
       "<Figure size 432x288 with 1 Axes>"
      ]
     },
     "metadata": {
      "needs_background": "light"
     },
     "output_type": "display_data"
    }
   ],
   "source": [
    "plt.scatter(resid_late.index, resid_late, color=\"c\")\n",
    "plt.xlabel(\"index\")\n",
    "plt.ylabel(\"残差\")\n",
    "\n",
    "plt.savefig(PATH +\"scatter_resid_late.eps\")"
   ]
  }
 ],
 "metadata": {
  "kernelspec": {
   "display_name": "Python 3",
   "language": "python",
   "name": "python3"
  },
  "language_info": {
   "codemirror_mode": {
    "name": "ipython",
    "version": 3
   },
   "file_extension": ".py",
   "mimetype": "text/x-python",
   "name": "python",
   "nbconvert_exporter": "python",
   "pygments_lexer": "ipython3",
   "version": "3.7.3"
  }
 },
 "nbformat": 4,
 "nbformat_minor": 4
}
