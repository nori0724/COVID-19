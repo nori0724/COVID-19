{
 "cells": [
  {
   "cell_type": "code",
   "execution_count": 1,
   "metadata": {},
   "outputs": [
    {
     "name": "stderr",
     "output_type": "stream",
     "text": [
      "/Users/masanoritakahashi/anaconda3/lib/python3.7/site-packages/japanize_matplotlib/__init__.py:13: MatplotlibDeprecationWarning:\n",
      "\n",
      "\n",
      "The createFontList function was deprecated in Matplotlib 3.2 and will be removed two minor releases later. Use FontManager.addfont instead.\n",
      "\n"
     ]
    }
   ],
   "source": [
    "import scipy as sp\n",
    "import os\n",
    "from scipy import stats\n",
    "import matplotlib.pyplot as plt\n",
    "import numpy as np\n",
    "import pandas as pd\n",
    "from sklearn import preprocessing\n",
    "from sklearn import linear_model\n",
    "import plotly.express as px\n",
    "import plotly\n",
    "import seaborn as sns\n",
    "import statsmodels.api as sm\n",
    "from sklearn.metrics import r2_score\n",
    "\n",
    "\n",
    "import japanize_matplotlib\n",
    "import warnings\n",
    "warnings.filterwarnings('ignore')\n",
    "\n",
    "%matplotlib inline\n",
    "\n",
    "# 乱数seedの固定\n",
    "np.random.seed(seed=123)"
   ]
  },
  {
   "cell_type": "code",
   "execution_count": 2,
   "metadata": {},
   "outputs": [],
   "source": [
    "PATH = \"/Users/masanoritakahashi/Documents/講義/ゼミ/M2/空間生存時間/修士論文/plot/\"\n",
    "FEATS = [\"hf\", \"pop\",   \"gdp\",\"urb\",\"dist\", \"air\", \"detection\"]"
   ]
  },
  {
   "cell_type": "code",
   "execution_count": 4,
   "metadata": {},
   "outputs": [
    {
     "data": {
      "text/plain": [
       "(150, 19)"
      ]
     },
     "execution_count": 4,
     "metadata": {},
     "output_type": "execute_result"
    }
   ],
   "source": [
    "df = pd.read_csv(\"../../data/data_covid_fix_name_code_coordinate_ltaly_medianage_hdi_density.csv\")\n",
    "del df[\"code2\"], df[\"HDI\"]\n",
    "df = df.dropna().reset_index(drop=True)\n",
    "df.shape"
   ]
  },
  {
   "cell_type": "code",
   "execution_count": 5,
   "metadata": {},
   "outputs": [],
   "source": [
    "y=df[\"date_first\"].values"
   ]
  },
  {
   "cell_type": "code",
   "execution_count": 6,
   "metadata": {},
   "outputs": [
    {
     "data": {
      "text/html": [
       "<div>\n",
       "<style scoped>\n",
       "    .dataframe tbody tr th:only-of-type {\n",
       "        vertical-align: middle;\n",
       "    }\n",
       "\n",
       "    .dataframe tbody tr th {\n",
       "        vertical-align: top;\n",
       "    }\n",
       "\n",
       "    .dataframe thead th {\n",
       "        text-align: right;\n",
       "    }\n",
       "</style>\n",
       "<table border=\"1\" class=\"dataframe\">\n",
       "  <thead>\n",
       "    <tr style=\"text-align: right;\">\n",
       "      <th></th>\n",
       "      <th>hf</th>\n",
       "      <th>pop</th>\n",
       "      <th>gdp</th>\n",
       "      <th>urb</th>\n",
       "      <th>dist</th>\n",
       "      <th>air</th>\n",
       "      <th>detection</th>\n",
       "    </tr>\n",
       "  </thead>\n",
       "  <tbody>\n",
       "    <tr>\n",
       "      <th>0</th>\n",
       "      <td>0.857976</td>\n",
       "      <td>-0.309387</td>\n",
       "      <td>-0.427358</td>\n",
       "      <td>-0.052302</td>\n",
       "      <td>-0.358821</td>\n",
       "      <td>-0.297413</td>\n",
       "      <td>1.166587</td>\n",
       "    </tr>\n",
       "    <tr>\n",
       "      <th>1</th>\n",
       "      <td>-1.762477</td>\n",
       "      <td>0.021782</td>\n",
       "      <td>-0.336308</td>\n",
       "      <td>0.509726</td>\n",
       "      <td>0.169300</td>\n",
       "      <td>-0.219741</td>\n",
       "      <td>-1.640901</td>\n",
       "    </tr>\n",
       "    <tr>\n",
       "      <th>2</th>\n",
       "      <td>-1.385500</td>\n",
       "      <td>-0.074288</td>\n",
       "      <td>-0.724538</td>\n",
       "      <td>0.184882</td>\n",
       "      <td>0.514881</td>\n",
       "      <td>-0.300275</td>\n",
       "      <td>-1.375023</td>\n",
       "    </tr>\n",
       "    <tr>\n",
       "      <th>3</th>\n",
       "      <td>-0.043092</td>\n",
       "      <td>0.040847</td>\n",
       "      <td>-0.115791</td>\n",
       "      <td>1.388198</td>\n",
       "      <td>2.649498</td>\n",
       "      <td>-0.282060</td>\n",
       "      <td>1.193625</td>\n",
       "    </tr>\n",
       "    <tr>\n",
       "      <th>4</th>\n",
       "      <td>1.575153</td>\n",
       "      <td>-0.123232</td>\n",
       "      <td>1.219356</td>\n",
       "      <td>1.120744</td>\n",
       "      <td>-0.205671</td>\n",
       "      <td>0.656070</td>\n",
       "      <td>2.203059</td>\n",
       "    </tr>\n",
       "    <tr>\n",
       "      <th>...</th>\n",
       "      <td>...</td>\n",
       "      <td>...</td>\n",
       "      <td>...</td>\n",
       "      <td>...</td>\n",
       "      <td>...</td>\n",
       "      <td>...</td>\n",
       "      <td>...</td>\n",
       "    </tr>\n",
       "    <tr>\n",
       "      <th>145</th>\n",
       "      <td>-2.856631</td>\n",
       "      <td>-0.090606</td>\n",
       "      <td>-0.223628</td>\n",
       "      <td>1.221005</td>\n",
       "      <td>1.657264</td>\n",
       "      <td>-0.274202</td>\n",
       "      <td>-1.789612</td>\n",
       "    </tr>\n",
       "    <tr>\n",
       "      <th>146</th>\n",
       "      <td>-0.567183</td>\n",
       "      <td>0.470316</td>\n",
       "      <td>-0.681737</td>\n",
       "      <td>-1.166315</td>\n",
       "      <td>-1.553198</td>\n",
       "      <td>0.294006</td>\n",
       "      <td>0.405005</td>\n",
       "    </tr>\n",
       "    <tr>\n",
       "      <th>147</th>\n",
       "      <td>-2.396903</td>\n",
       "      <td>-0.093732</td>\n",
       "      <td>-0.891243</td>\n",
       "      <td>-1.133305</td>\n",
       "      <td>-0.614905</td>\n",
       "      <td>-0.296993</td>\n",
       "      <td>-1.776093</td>\n",
       "    </tr>\n",
       "    <tr>\n",
       "      <th>148</th>\n",
       "      <td>-0.383291</td>\n",
       "      <td>-0.187515</td>\n",
       "      <td>-0.820352</td>\n",
       "      <td>-0.819236</td>\n",
       "      <td>0.313666</td>\n",
       "      <td>-0.301136</td>\n",
       "      <td>-1.194767</td>\n",
       "    </tr>\n",
       "    <tr>\n",
       "      <th>149</th>\n",
       "      <td>-1.155635</td>\n",
       "      <td>-0.212022</td>\n",
       "      <td>-0.871694</td>\n",
       "      <td>-1.335699</td>\n",
       "      <td>0.366833</td>\n",
       "      <td>-0.297674</td>\n",
       "      <td>0.774530</td>\n",
       "    </tr>\n",
       "  </tbody>\n",
       "</table>\n",
       "<p>150 rows × 7 columns</p>\n",
       "</div>"
      ],
      "text/plain": [
       "           hf       pop       gdp       urb      dist       air  detection\n",
       "0    0.857976 -0.309387 -0.427358 -0.052302 -0.358821 -0.297413   1.166587\n",
       "1   -1.762477  0.021782 -0.336308  0.509726  0.169300 -0.219741  -1.640901\n",
       "2   -1.385500 -0.074288 -0.724538  0.184882  0.514881 -0.300275  -1.375023\n",
       "3   -0.043092  0.040847 -0.115791  1.388198  2.649498 -0.282060   1.193625\n",
       "4    1.575153 -0.123232  1.219356  1.120744 -0.205671  0.656070   2.203059\n",
       "..        ...       ...       ...       ...       ...       ...        ...\n",
       "145 -2.856631 -0.090606 -0.223628  1.221005  1.657264 -0.274202  -1.789612\n",
       "146 -0.567183  0.470316 -0.681737 -1.166315 -1.553198  0.294006   0.405005\n",
       "147 -2.396903 -0.093732 -0.891243 -1.133305 -0.614905 -0.296993  -1.776093\n",
       "148 -0.383291 -0.187515 -0.820352 -0.819236  0.313666 -0.301136  -1.194767\n",
       "149 -1.155635 -0.212022 -0.871694 -1.335699  0.366833 -0.297674   0.774530\n",
       "\n",
       "[150 rows x 7 columns]"
      ]
     },
     "execution_count": 6,
     "metadata": {},
     "output_type": "execute_result"
    }
   ],
   "source": [
    "X = df[FEATS]\n",
    "sscaler = preprocessing.StandardScaler() # インスタンスの作成\n",
    "sscaler.fit(X)    \n",
    "X = sscaler.transform(X) # xを変換\n",
    "pd.DataFrame(X, columns=FEATS)"
   ]
  },
  {
   "cell_type": "code",
   "execution_count": 7,
   "metadata": {},
   "outputs": [],
   "source": [
    "# データを早期、晩期に分割\n",
    "y_early = df[\"date_first\"][df[\"date_first\"]<40]\n",
    "y_late = df[\"date_first\"][df[\"date_first\"]>40]\n",
    "\n",
    "x_early = X[df[\"date_first\"]<40]\n",
    "x_late = X[df[\"date_first\"]>40]"
   ]
  },
  {
   "cell_type": "markdown",
   "metadata": {},
   "source": [
    "# 早期感染国"
   ]
  },
  {
   "cell_type": "code",
   "execution_count": 29,
   "metadata": {},
   "outputs": [
    {
     "data": {
      "text/html": [
       "<table class=\"simpletable\">\n",
       "<caption>OLS Regression Results</caption>\n",
       "<tr>\n",
       "  <th>Dep. Variable:</th>       <td>date_first</td>    <th>  R-squared:         </th> <td>   0.581</td>\n",
       "</tr>\n",
       "<tr>\n",
       "  <th>Model:</th>                   <td>OLS</td>       <th>  Adj. R-squared:    </th> <td>   0.385</td>\n",
       "</tr>\n",
       "<tr>\n",
       "  <th>Method:</th>             <td>Least Squares</td>  <th>  F-statistic:       </th> <td>   2.967</td>\n",
       "</tr>\n",
       "<tr>\n",
       "  <th>Date:</th>             <td>Tue, 02 Feb 2021</td> <th>  Prob (F-statistic):</th>  <td>0.0365</td> \n",
       "</tr>\n",
       "<tr>\n",
       "  <th>Time:</th>                 <td>12:26:57</td>     <th>  Log-Likelihood:    </th> <td> -60.616</td>\n",
       "</tr>\n",
       "<tr>\n",
       "  <th>No. Observations:</th>      <td>    23</td>      <th>  AIC:               </th> <td>   137.2</td>\n",
       "</tr>\n",
       "<tr>\n",
       "  <th>Df Residuals:</th>          <td>    15</td>      <th>  BIC:               </th> <td>   146.3</td>\n",
       "</tr>\n",
       "<tr>\n",
       "  <th>Df Model:</th>              <td>     7</td>      <th>                     </th>     <td> </td>   \n",
       "</tr>\n",
       "<tr>\n",
       "  <th>Covariance Type:</th>      <td>nonrobust</td>    <th>                     </th>     <td> </td>   \n",
       "</tr>\n",
       "</table>\n",
       "<table class=\"simpletable\">\n",
       "<tr>\n",
       "       <td></td>         <th>coef</th>     <th>std err</th>      <th>t</th>      <th>P>|t|</th>  <th>[0.025</th>    <th>0.975]</th>  \n",
       "</tr>\n",
       "<tr>\n",
       "  <th> Intercept</th> <td>   36.1244</td> <td>    3.035</td> <td>   11.904</td> <td> 0.000</td> <td>   29.656</td> <td>   42.592</td>\n",
       "</tr>\n",
       "<tr>\n",
       "  <th>hf</th>         <td>    1.0810</td> <td>    2.017</td> <td>    0.536</td> <td> 0.600</td> <td>   -3.218</td> <td>    5.381</td>\n",
       "</tr>\n",
       "<tr>\n",
       "  <th>pop</th>        <td>    0.5683</td> <td>    0.441</td> <td>    1.289</td> <td> 0.217</td> <td>   -0.372</td> <td>    1.508</td>\n",
       "</tr>\n",
       "<tr>\n",
       "  <th>gdp</th>        <td>   -0.6101</td> <td>    1.949</td> <td>   -0.313</td> <td> 0.759</td> <td>   -4.764</td> <td>    3.544</td>\n",
       "</tr>\n",
       "<tr>\n",
       "  <th>urb</th>        <td>   -0.3028</td> <td>    1.951</td> <td>   -0.155</td> <td> 0.879</td> <td>   -4.461</td> <td>    3.856</td>\n",
       "</tr>\n",
       "<tr>\n",
       "  <th>dist</th>       <td>    7.1661</td> <td>    2.046</td> <td>    3.502</td> <td> 0.003</td> <td>    2.805</td> <td>   11.527</td>\n",
       "</tr>\n",
       "<tr>\n",
       "  <th>air</th>        <td>   -1.2551</td> <td>    0.522</td> <td>   -2.405</td> <td> 0.030</td> <td>   -2.367</td> <td>   -0.143</td>\n",
       "</tr>\n",
       "<tr>\n",
       "  <th>detection</th>  <td>   -2.7474</td> <td>    1.625</td> <td>   -1.690</td> <td> 0.112</td> <td>   -6.212</td> <td>    0.717</td>\n",
       "</tr>\n",
       "</table>\n",
       "<table class=\"simpletable\">\n",
       "<tr>\n",
       "  <th>Omnibus:</th>       <td> 2.545</td> <th>  Durbin-Watson:     </th> <td>   2.637</td>\n",
       "</tr>\n",
       "<tr>\n",
       "  <th>Prob(Omnibus):</th> <td> 0.280</td> <th>  Jarque-Bera (JB):  </th> <td>   1.959</td>\n",
       "</tr>\n",
       "<tr>\n",
       "  <th>Skew:</th>          <td>-0.702</td> <th>  Prob(JB):          </th> <td>   0.375</td>\n",
       "</tr>\n",
       "<tr>\n",
       "  <th>Kurtosis:</th>      <td> 2.734</td> <th>  Cond. No.          </th> <td>    13.2</td>\n",
       "</tr>\n",
       "</table><br/><br/>Warnings:<br/>[1] Standard Errors assume that the covariance matrix of the errors is correctly specified."
      ],
      "text/plain": [
       "<class 'statsmodels.iolib.summary.Summary'>\n",
       "\"\"\"\n",
       "                            OLS Regression Results                            \n",
       "==============================================================================\n",
       "Dep. Variable:             date_first   R-squared:                       0.581\n",
       "Model:                            OLS   Adj. R-squared:                  0.385\n",
       "Method:                 Least Squares   F-statistic:                     2.967\n",
       "Date:                Tue, 02 Feb 2021   Prob (F-statistic):             0.0365\n",
       "Time:                        12:26:57   Log-Likelihood:                -60.616\n",
       "No. Observations:                  23   AIC:                             137.2\n",
       "Df Residuals:                      15   BIC:                             146.3\n",
       "Df Model:                           7                                         \n",
       "Covariance Type:            nonrobust                                         \n",
       "==============================================================================\n",
       "                 coef    std err          t      P>|t|      [0.025      0.975]\n",
       "------------------------------------------------------------------------------\n",
       " Intercept    36.1244      3.035     11.904      0.000      29.656      42.592\n",
       "hf             1.0810      2.017      0.536      0.600      -3.218       5.381\n",
       "pop            0.5683      0.441      1.289      0.217      -0.372       1.508\n",
       "gdp           -0.6101      1.949     -0.313      0.759      -4.764       3.544\n",
       "urb           -0.3028      1.951     -0.155      0.879      -4.461       3.856\n",
       "dist           7.1661      2.046      3.502      0.003       2.805      11.527\n",
       "air           -1.2551      0.522     -2.405      0.030      -2.367      -0.143\n",
       "detection     -2.7474      1.625     -1.690      0.112      -6.212       0.717\n",
       "==============================================================================\n",
       "Omnibus:                        2.545   Durbin-Watson:                   2.637\n",
       "Prob(Omnibus):                  0.280   Jarque-Bera (JB):                1.959\n",
       "Skew:                          -0.702   Prob(JB):                        0.375\n",
       "Kurtosis:                       2.734   Cond. No.                         13.2\n",
       "==============================================================================\n",
       "\n",
       "Warnings:\n",
       "[1] Standard Errors assume that the covariance matrix of the errors is correctly specified.\n",
       "\"\"\""
      ]
     },
     "execution_count": 29,
     "metadata": {},
     "output_type": "execute_result"
    }
   ],
   "source": [
    "model_early = sm.OLS(y_early, sm.add_constant(x_early))\n",
    "result_early = model_early.fit()\n",
    "result_early.summary(xname=[\" Intercept\"] + FEATS)"
   ]
  },
  {
   "cell_type": "code",
   "execution_count": 9,
   "metadata": {},
   "outputs": [
    {
     "data": {
      "text/plain": [
       "137.2311992137627"
      ]
     },
     "execution_count": 9,
     "metadata": {},
     "output_type": "execute_result"
    }
   ],
   "source": [
    "result_early.aic"
   ]
  },
  {
   "cell_type": "code",
   "execution_count": 10,
   "metadata": {},
   "outputs": [
    {
     "data": {
      "text/plain": [
       "(array([1., 2., 2., 2., 1., 1., 4., 3., 4., 3.]),\n",
       " array([19.05576355, 20.44587128, 21.835979  , 23.22608672, 24.61619445,\n",
       "        26.00630217, 27.39640989, 28.78651761, 30.17662534, 31.56673306,\n",
       "        32.95684078]),\n",
       " <a list of 10 Patch objects>)"
      ]
     },
     "execution_count": 10,
     "metadata": {},
     "output_type": "execute_result"
    },
    {
     "data": {
      "image/png": "[encoded data removed]",
      "text/plain": [
       "<Figure size 432x288 with 1 Axes>"
      ]
     },
     "metadata": {
      "needs_background": "light"
     },
     "output_type": "display_data"
    }
   ],
   "source": [
    "y_hat_early = result_early.predict(sm.add_constant(x_early))\n",
    "plt.hist(y_hat_early, color=\"orange\")"
   ]
  },
  {
   "cell_type": "code",
   "execution_count": 11,
   "metadata": {},
   "outputs": [
    {
     "data": {
      "image/png": "[encoded data removed]",
      "text/plain": [
       "<Figure size 432x288 with 1 Axes>"
      ]
     },
     "metadata": {
      "needs_background": "light"
     },
     "output_type": "display_data"
    }
   ],
   "source": [
    "# 推定値の可視化\n",
    "plt.hist(y_early,  alpha=0.6, label=\"y_early\")\n",
    "plt.hist(y_hat_early,  alpha=0.6, label=\"y_early_hat\")\n",
    "plt.legend(loc=\"upper left\", fontsize=12)\n",
    "plt.savefig(\"/Users/masanoritakahashi/Documents/講義/ゼミ/M2/空間生存時間/修士論文/plot/y_early_y_early_hat_hist.pdf\")"
   ]
  },
  {
   "cell_type": "code",
   "execution_count": 12,
   "metadata": {},
   "outputs": [
    {
     "data": {
      "text/plain": [
       "0.580630999779933"
      ]
     },
     "execution_count": 12,
     "metadata": {},
     "output_type": "execute_result"
    }
   ],
   "source": [
    "from sklearn.metrics import r2_score\n",
    "r2_score( y_early, y_hat_early)"
   ]
  },
  {
   "cell_type": "code",
   "execution_count": 13,
   "metadata": {},
   "outputs": [
    {
     "data": {
      "image/png": "[encoded data removed]",
      "text/plain": [
       "<Figure size 432x288 with 1 Axes>"
      ]
     },
     "metadata": {
      "needs_background": "light"
     },
     "output_type": "display_data"
    }
   ],
   "source": [
    "resid_ealry = (y_early - y_hat_early).reset_index(drop=True)\n",
    "plt.hist(resid_ealry, color=\"c\")\n",
    "plt.xlabel(\"残差\")\n",
    "\n",
    "plt.savefig(PATH +\"resid_ealry.eps\")"
   ]
  },
  {
   "cell_type": "code",
   "execution_count": 14,
   "metadata": {},
   "outputs": [
    {
     "data": {
      "image/png": "[encoded data removed]",
      "text/plain": [
       "<Figure size 432x288 with 1 Axes>"
      ]
     },
     "metadata": {
      "needs_background": "light"
     },
     "output_type": "display_data"
    }
   ],
   "source": [
    "plt.scatter(resid_ealry.index, resid_ealry, color=\"c\")\n",
    "plt.xlabel(\"index\")\n",
    "plt.ylabel(\"残差\")\n",
    "\n",
    "plt.savefig(PATH +\"scatter_resid_early.eps\")"
   ]
  },
  {
   "cell_type": "markdown",
   "metadata": {},
   "source": [
    "# 晩期感染国"
   ]
  },
  {
   "cell_type": "code",
   "execution_count": 15,
   "metadata": {},
   "outputs": [
    {
     "data": {
      "text/html": [
       "<table class=\"simpletable\">\n",
       "<caption>OLS Regression Results</caption>\n",
       "<tr>\n",
       "  <th>Dep. Variable:</th>       <td>date_first</td>    <th>  R-squared:         </th> <td>   0.515</td>\n",
       "</tr>\n",
       "<tr>\n",
       "  <th>Model:</th>                   <td>OLS</td>       <th>  Adj. R-squared:    </th> <td>   0.486</td>\n",
       "</tr>\n",
       "<tr>\n",
       "  <th>Method:</th>             <td>Least Squares</td>  <th>  F-statistic:       </th> <td>   18.03</td>\n",
       "</tr>\n",
       "<tr>\n",
       "  <th>Date:</th>             <td>Tue, 02 Feb 2021</td> <th>  Prob (F-statistic):</th> <td>3.64e-16</td>\n",
       "</tr>\n",
       "<tr>\n",
       "  <th>Time:</th>                 <td>12:24:34</td>     <th>  Log-Likelihood:    </th> <td> -427.21</td>\n",
       "</tr>\n",
       "<tr>\n",
       "  <th>No. Observations:</th>      <td>   127</td>      <th>  AIC:               </th> <td>   870.4</td>\n",
       "</tr>\n",
       "<tr>\n",
       "  <th>Df Residuals:</th>          <td>   119</td>      <th>  BIC:               </th> <td>   893.2</td>\n",
       "</tr>\n",
       "<tr>\n",
       "  <th>Df Model:</th>              <td>     7</td>      <th>                     </th>     <td> </td>   \n",
       "</tr>\n",
       "<tr>\n",
       "  <th>Covariance Type:</th>      <td>nonrobust</td>    <th>                     </th>     <td> </td>   \n",
       "</tr>\n",
       "</table>\n",
       "<table class=\"simpletable\">\n",
       "<tr>\n",
       "       <td></td>         <th>coef</th>     <th>std err</th>      <th>t</th>      <th>P>|t|</th>  <th>[0.025</th>    <th>0.975]</th>  \n",
       "</tr>\n",
       "<tr>\n",
       "  <th> Intercept</th> <td>   68.7655</td> <td>    0.742</td> <td>   92.714</td> <td> 0.000</td> <td>   67.297</td> <td>   70.234</td>\n",
       "</tr>\n",
       "<tr>\n",
       "  <th>hf</th>         <td>   -0.9953</td> <td>    0.861</td> <td>   -1.156</td> <td> 0.250</td> <td>   -2.701</td> <td>    0.710</td>\n",
       "</tr>\n",
       "<tr>\n",
       "  <th>pop</th>        <td>   -8.8254</td> <td>    2.245</td> <td>   -3.932</td> <td> 0.000</td> <td>  -13.270</td> <td>   -4.381</td>\n",
       "</tr>\n",
       "<tr>\n",
       "  <th>gdp</th>        <td>   -1.8225</td> <td>    1.060</td> <td>   -1.720</td> <td> 0.088</td> <td>   -3.921</td> <td>    0.276</td>\n",
       "</tr>\n",
       "<tr>\n",
       "  <th>urb</th>        <td>   -4.6712</td> <td>    0.907</td> <td>   -5.151</td> <td> 0.000</td> <td>   -6.467</td> <td>   -2.876</td>\n",
       "</tr>\n",
       "<tr>\n",
       "  <th>dist</th>       <td>    1.5919</td> <td>    0.745</td> <td>    2.137</td> <td> 0.035</td> <td>    0.117</td> <td>    3.067</td>\n",
       "</tr>\n",
       "<tr>\n",
       "  <th>air</th>        <td>    4.3593</td> <td>    2.714</td> <td>    1.606</td> <td> 0.111</td> <td>   -1.014</td> <td>    9.733</td>\n",
       "</tr>\n",
       "<tr>\n",
       "  <th>detection</th>  <td>   -2.5776</td> <td>    0.852</td> <td>   -3.025</td> <td> 0.003</td> <td>   -4.265</td> <td>   -0.890</td>\n",
       "</tr>\n",
       "</table>\n",
       "<table class=\"simpletable\">\n",
       "<tr>\n",
       "  <th>Omnibus:</th>       <td> 4.352</td> <th>  Durbin-Watson:     </th> <td>   2.051</td>\n",
       "</tr>\n",
       "<tr>\n",
       "  <th>Prob(Omnibus):</th> <td> 0.113</td> <th>  Jarque-Bera (JB):  </th> <td>   5.410</td>\n",
       "</tr>\n",
       "<tr>\n",
       "  <th>Skew:</th>          <td> 0.102</td> <th>  Prob(JB):          </th> <td>  0.0669</td>\n",
       "</tr>\n",
       "<tr>\n",
       "  <th>Kurtosis:</th>      <td> 3.991</td> <th>  Cond. No.          </th> <td>    7.15</td>\n",
       "</tr>\n",
       "</table><br/><br/>Warnings:<br/>[1] Standard Errors assume that the covariance matrix of the errors is correctly specified."
      ],
      "text/plain": [
       "<class 'statsmodels.iolib.summary.Summary'>\n",
       "\"\"\"\n",
       "                            OLS Regression Results                            \n",
       "==============================================================================\n",
       "Dep. Variable:             date_first   R-squared:                       0.515\n",
       "Model:                            OLS   Adj. R-squared:                  0.486\n",
       "Method:                 Least Squares   F-statistic:                     18.03\n",
       "Date:                Tue, 02 Feb 2021   Prob (F-statistic):           3.64e-16\n",
       "Time:                        12:24:34   Log-Likelihood:                -427.21\n",
       "No. Observations:                 127   AIC:                             870.4\n",
       "Df Residuals:                     119   BIC:                             893.2\n",
       "Df Model:                           7                                         \n",
       "Covariance Type:            nonrobust                                         \n",
       "==============================================================================\n",
       "                 coef    std err          t      P>|t|      [0.025      0.975]\n",
       "------------------------------------------------------------------------------\n",
       " Intercept    68.7655      0.742     92.714      0.000      67.297      70.234\n",
       "hf            -0.9953      0.861     -1.156      0.250      -2.701       0.710\n",
       "pop           -8.8254      2.245     -3.932      0.000     -13.270      -4.381\n",
       "gdp           -1.8225      1.060     -1.720      0.088      -3.921       0.276\n",
       "urb           -4.6712      0.907     -5.151      0.000      -6.467      -2.876\n",
       "dist           1.5919      0.745      2.137      0.035       0.117       3.067\n",
       "air            4.3593      2.714      1.606      0.111      -1.014       9.733\n",
       "detection     -2.5776      0.852     -3.025      0.003      -4.265      -0.890\n",
       "==============================================================================\n",
       "Omnibus:                        4.352   Durbin-Watson:                   2.051\n",
       "Prob(Omnibus):                  0.113   Jarque-Bera (JB):                5.410\n",
       "Skew:                           0.102   Prob(JB):                       0.0669\n",
       "Kurtosis:                       3.991   Cond. No.                         7.15\n",
       "==============================================================================\n",
       "\n",
       "Warnings:\n",
       "[1] Standard Errors assume that the covariance matrix of the errors is correctly specified.\n",
       "\"\"\""
      ]
     },
     "execution_count": 15,
     "metadata": {},
     "output_type": "execute_result"
    }
   ],
   "source": [
    "model_late = sm.OLS(y_late, sm.add_constant(x_late))\n",
    "result_late = model_late.fit()\n",
    "result_late.summary(xname=[\" Intercept\"] + FEATS) "
   ]
  },
  {
   "cell_type": "code",
   "execution_count": 16,
   "metadata": {},
   "outputs": [
    {
     "data": {
      "text/plain": [
       "870.4289276452922"
      ]
     },
     "execution_count": 16,
     "metadata": {},
     "output_type": "execute_result"
    }
   ],
   "source": [
    "result_late.aic"
   ]
  },
  {
   "cell_type": "code",
   "execution_count": 17,
   "metadata": {},
   "outputs": [
    {
     "data": {
      "text/plain": [
       "(array([ 8., 22., 22., 29., 31., 11.,  4.]),\n",
       " array([55.20657552, 59.79793932, 64.38930311, 68.98066691, 73.5720307 ,\n",
       "        78.1633945 , 82.75475829, 87.34612209]),\n",
       " <a list of 7 Patch objects>)"
      ]
     },
     "execution_count": 17,
     "metadata": {},
     "output_type": "execute_result"
    },
    {
     "data": {
      "image/png": "[encoded data removed]",
      "text/plain": [
       "<Figure size 432x288 with 1 Axes>"
      ]
     },
     "metadata": {
      "needs_background": "light"
     },
     "output_type": "display_data"
    }
   ],
   "source": [
    "y_hat_late = result_late.predict(sm.add_constant(x_late))\n",
    "plt.hist(y_hat_late, color=\"orange\", bins=7)"
   ]
  },
  {
   "cell_type": "code",
   "execution_count": 18,
   "metadata": {},
   "outputs": [
    {
     "data": {
      "image/png": "[encoded data removed]",
      "text/plain": [
       "<Figure size 432x288 with 1 Axes>"
      ]
     },
     "metadata": {
      "needs_background": "light"
     },
     "output_type": "display_data"
    }
   ],
   "source": [
    "# 推定値の可視化\n",
    "plt.hist(y_late,  alpha=0.6, label=\"y_late\", bins=10)\n",
    "plt.hist(y_hat_late,  alpha=0.6, label=\"y_late_hat\", bins=6)\n",
    "plt.legend(loc=\"upper right\", fontsize=12)\n",
    "plt.savefig(\"/Users/masanoritakahashi/Documents/講義/ゼミ/M2/空間生存時間/修士論文/plot/y_late_y_late_hat_hist.pdf\")"
   ]
  },
  {
   "cell_type": "code",
   "execution_count": 19,
   "metadata": {},
   "outputs": [
    {
     "data": {
      "text/plain": [
       "0.5146712962999649"
      ]
     },
     "execution_count": 19,
     "metadata": {},
     "output_type": "execute_result"
    }
   ],
   "source": [
    "from sklearn.metrics import r2_score\n",
    "r2_score( y_late, y_hat_late)"
   ]
  },
  {
   "cell_type": "code",
   "execution_count": 20,
   "metadata": {},
   "outputs": [
    {
     "data": {
      "image/png": "[encoded data removed]",
      "text/plain": [
       "<Figure size 432x288 with 1 Axes>"
      ]
     },
     "metadata": {
      "needs_background": "light"
     },
     "output_type": "display_data"
    }
   ],
   "source": [
    "resid_late = (y_late - y_hat_late).reset_index(drop=True)\n",
    "plt.hist(resid_late, color=\"c\")\n",
    "plt.xlabel(\"残差\")\n",
    "\n",
    "plt.savefig(PATH +\"resid_late.eps\")"
   ]
  },
  {
   "cell_type": "code",
   "execution_count": 21,
   "metadata": {},
   "outputs": [
    {
     "data": {
      "image/png": "[encoded data removed]",
      "text/plain": [
       "<Figure size 432x288 with 1 Axes>"
      ]
     },
     "metadata": {
      "needs_background": "light"
     },
     "output_type": "display_data"
    }
   ],
   "source": [
    "plt.scatter(resid_late.index, resid_late, color=\"c\")\n",
    "plt.xlabel(\"index\")\n",
    "plt.ylabel(\"残差\")\n",
    "\n",
    "plt.savefig(PATH +\"scatter_resid_late.eps\")"
   ]
  },
  {
   "cell_type": "code",
   "execution_count": null,
   "metadata": {},
   "outputs": [],
   "source": []
  }
 ],
 "metadata": {
  "kernelspec": {
   "display_name": "Python 3",
   "language": "python",
   "name": "python3"
  },
  "language_info": {
   "codemirror_mode": {
    "name": "ipython",
    "version": 3
   },
   "file_extension": ".py",
   "mimetype": "text/x-python",
   "name": "python",
   "nbconvert_exporter": "python",
   "pygments_lexer": "ipython3",
   "version": "3.7.3"
  }
 },
 "nbformat": 4,
 "nbformat_minor": 4
}
