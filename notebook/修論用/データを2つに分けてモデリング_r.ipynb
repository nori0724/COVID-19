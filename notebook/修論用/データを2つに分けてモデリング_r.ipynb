{
 "cells": [
  {
   "cell_type": "code",
   "execution_count": 1,
   "metadata": {},
   "outputs": [
    {
     "name": "stderr",
     "output_type": "stream",
     "text": [
      "Warning message:\n",
      "“package ‘survival’ was built under R version 3.6.2”\n",
      "corrplot 0.84 loaded\n",
      "\n",
      "Loading required package: sp\n",
      "\n",
      "### Welcome to rworldmap ###\n",
      "\n",
      "For a short introduction type : \t vignette('rworldmap')\n",
      "\n"
     ]
    }
   ],
   "source": [
    "library(survival)\n",
    "library(MASS)\n",
    "library(openxlsx)\n",
    "library(corrplot)\n",
    "library(rworldmap)\n",
    "library(RColorBrewer)"
   ]
  },
  {
   "cell_type": "code",
   "execution_count": 2,
   "metadata": {},
   "outputs": [],
   "source": [
    "library(psych)"
   ]
  },
  {
   "cell_type": "code",
   "execution_count": 3,
   "metadata": {},
   "outputs": [],
   "source": [
    "# 警告メッセージ非表示\n",
    "options(warn=-1)"
   ]
  },
  {
   "cell_type": "code",
   "execution_count": 4,
   "metadata": {},
   "outputs": [
    {
     "data": {
      "text/html": [
       "<table>\n",
       "<caption>A data.frame: 6 × 13</caption>\n",
       "<thead>\n",
       "\t<tr><th></th><th scope=col>country</th><th scope=col>pop</th><th scope=col>urb</th><th scope=col>gdp</th><th scope=col>dist</th><th scope=col>hf</th><th scope=col>pf</th><th scope=col>ef</th><th scope=col>date_first</th><th scope=col>detection</th><th scope=col>status</th><th scope=col>cumul</th><th scope=col>air</th></tr>\n",
       "\t<tr><th></th><th scope=col>&lt;chr&gt;</th><th scope=col>&lt;dbl&gt;</th><th scope=col>&lt;dbl&gt;</th><th scope=col>&lt;dbl&gt;</th><th scope=col>&lt;dbl&gt;</th><th scope=col>&lt;dbl&gt;</th><th scope=col>&lt;dbl&gt;</th><th scope=col>&lt;dbl&gt;</th><th scope=col>&lt;dbl&gt;</th><th scope=col>&lt;dbl&gt;</th><th scope=col>&lt;dbl&gt;</th><th scope=col>&lt;dbl&gt;</th><th scope=col>&lt;dbl&gt;</th></tr>\n",
       "</thead>\n",
       "<tbody>\n",
       "\t<tr><th scope=row>1</th><td>Albania  </td><td> 2866376</td><td>60.319</td><td>13364.155</td><td> 6996524</td><td>7.84</td><td>8.005411</td><td>7.67</td><td>70</td><td>74.3</td><td>1</td><td>108641</td><td>  303.14</td></tr>\n",
       "\t<tr><th scope=row>2</th><td>Algeria  </td><td>42228429</td><td>72.629</td><td>15481.788</td><td> 9108277</td><td>4.99</td><td>5.201489</td><td>4.77</td><td>58</td><td>12.0</td><td>1</td><td> 80272</td><td> 6442.44</td></tr>\n",
       "\t<tr><th scope=row>3</th><td>Angola   </td><td>30809762</td><td>65.514</td><td> 6452.355</td><td>10490120</td><td>5.40</td><td>5.979936</td><td>4.83</td><td>83</td><td>17.9</td><td>1</td><td>303691</td><td>   76.94</td></tr>\n",
       "\t<tr><th scope=row>4</th><td>Argentina</td><td>44494502</td><td>91.870</td><td>20610.569</td><td>19025624</td><td>6.86</td><td>8.044600</td><td>5.67</td><td>65</td><td>74.9</td><td>1</td><td> 92122</td><td> 1516.63</td></tr>\n",
       "\t<tr><th scope=row>6</th><td>Australia</td><td>24992369</td><td>86.012</td><td>51663.365</td><td> 7608913</td><td>8.62</td><td>9.160533</td><td>8.07</td><td>26</td><td>97.3</td><td>1</td><td>  1347</td><td>75667.65</td></tr>\n",
       "\t<tr><th scope=row>7</th><td>Austria  </td><td> 8847037</td><td>58.297</td><td>55454.689</td><td> 7103537</td><td>8.48</td><td>9.245685</td><td>7.71</td><td>58</td><td>73.2</td><td>1</td><td> 80272</td><td>12935.50</td></tr>\n",
       "</tbody>\n",
       "</table>\n"
      ],
      "text/latex": [
       "A data.frame: 6 × 13\n",
       "\\begin{tabular}{r|lllllllllllll}\n",
       "  & country & pop & urb & gdp & dist & hf & pf & ef & date\\_first & detection & status & cumul & air\\\\\n",
       "  & <chr> & <dbl> & <dbl> & <dbl> & <dbl> & <dbl> & <dbl> & <dbl> & <dbl> & <dbl> & <dbl> & <dbl> & <dbl>\\\\\n",
       "\\hline\n",
       "\t1 & Albania   &  2866376 & 60.319 & 13364.155 &  6996524 & 7.84 & 8.005411 & 7.67 & 70 & 74.3 & 1 & 108641 &   303.14\\\\\n",
       "\t2 & Algeria   & 42228429 & 72.629 & 15481.788 &  9108277 & 4.99 & 5.201489 & 4.77 & 58 & 12.0 & 1 &  80272 &  6442.44\\\\\n",
       "\t3 & Angola    & 30809762 & 65.514 &  6452.355 & 10490120 & 5.40 & 5.979936 & 4.83 & 83 & 17.9 & 1 & 303691 &    76.94\\\\\n",
       "\t4 & Argentina & 44494502 & 91.870 & 20610.569 & 19025624 & 6.86 & 8.044600 & 5.67 & 65 & 74.9 & 1 &  92122 &  1516.63\\\\\n",
       "\t6 & Australia & 24992369 & 86.012 & 51663.365 &  7608913 & 8.62 & 9.160533 & 8.07 & 26 & 97.3 & 1 &   1347 & 75667.65\\\\\n",
       "\t7 & Austria   &  8847037 & 58.297 & 55454.689 &  7103537 & 8.48 & 9.245685 & 7.71 & 58 & 73.2 & 1 &  80272 & 12935.50\\\\\n",
       "\\end{tabular}\n"
      ],
      "text/markdown": [
       "\n",
       "A data.frame: 6 × 13\n",
       "\n",
       "| <!--/--> | country &lt;chr&gt; | pop &lt;dbl&gt; | urb &lt;dbl&gt; | gdp &lt;dbl&gt; | dist &lt;dbl&gt; | hf &lt;dbl&gt; | pf &lt;dbl&gt; | ef &lt;dbl&gt; | date_first &lt;dbl&gt; | detection &lt;dbl&gt; | status &lt;dbl&gt; | cumul &lt;dbl&gt; | air &lt;dbl&gt; |\n",
       "|---|---|---|---|---|---|---|---|---|---|---|---|---|---|\n",
       "| 1 | Albania   |  2866376 | 60.319 | 13364.155 |  6996524 | 7.84 | 8.005411 | 7.67 | 70 | 74.3 | 1 | 108641 |   303.14 |\n",
       "| 2 | Algeria   | 42228429 | 72.629 | 15481.788 |  9108277 | 4.99 | 5.201489 | 4.77 | 58 | 12.0 | 1 |  80272 |  6442.44 |\n",
       "| 3 | Angola    | 30809762 | 65.514 |  6452.355 | 10490120 | 5.40 | 5.979936 | 4.83 | 83 | 17.9 | 1 | 303691 |    76.94 |\n",
       "| 4 | Argentina | 44494502 | 91.870 | 20610.569 | 19025624 | 6.86 | 8.044600 | 5.67 | 65 | 74.9 | 1 |  92122 |  1516.63 |\n",
       "| 6 | Australia | 24992369 | 86.012 | 51663.365 |  7608913 | 8.62 | 9.160533 | 8.07 | 26 | 97.3 | 1 |   1347 | 75667.65 |\n",
       "| 7 | Austria   |  8847037 | 58.297 | 55454.689 |  7103537 | 8.48 | 9.245685 | 7.71 | 58 | 73.2 | 1 |  80272 | 12935.50 |\n",
       "\n"
      ],
      "text/plain": [
       "  country   pop      urb    gdp       dist     hf   pf       ef   date_first\n",
       "1 Albania    2866376 60.319 13364.155  6996524 7.84 8.005411 7.67 70        \n",
       "2 Algeria   42228429 72.629 15481.788  9108277 4.99 5.201489 4.77 58        \n",
       "3 Angola    30809762 65.514  6452.355 10490120 5.40 5.979936 4.83 83        \n",
       "4 Argentina 44494502 91.870 20610.569 19025624 6.86 8.044600 5.67 65        \n",
       "6 Australia 24992369 86.012 51663.365  7608913 8.62 9.160533 8.07 26        \n",
       "7 Austria    8847037 58.297 55454.689  7103537 8.48 9.245685 7.71 58        \n",
       "  detection status cumul  air     \n",
       "1 74.3      1      108641   303.14\n",
       "2 12.0      1       80272  6442.44\n",
       "3 17.9      1      303691    76.94\n",
       "4 74.9      1       92122  1516.63\n",
       "6 97.3      1        1347 75667.65\n",
       "7 73.2      1       80272 12935.50"
      ]
     },
     "metadata": {},
     "output_type": "display_data"
    }
   ],
   "source": [
    "df <- read.xlsx(\"../../data/data_covid_fix_name.xlsx\")\n",
    "df <- na.omit(df)\n",
    "head(df)"
   ]
  },
  {
   "cell_type": "code",
   "execution_count": null,
   "metadata": {},
   "outputs": [],
   "source": []
  }
 ],
 "metadata": {
  "kernelspec": {
   "display_name": "R",
   "language": "R",
   "name": "ir"
  },
  "language_info": {
   "codemirror_mode": "r",
   "file_extension": ".r",
   "mimetype": "text/x-r-source",
   "name": "R",
   "pygments_lexer": "r",
   "version": "3.6.1"
  }
 },
 "nbformat": 4,
 "nbformat_minor": 4
}
