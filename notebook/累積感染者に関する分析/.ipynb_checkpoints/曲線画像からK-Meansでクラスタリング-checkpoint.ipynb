{
 "cells": [
  {
   "cell_type": "code",
   "execution_count": 28,
   "metadata": {},
   "outputs": [],
   "source": [
    "from glob import glob\n",
    "import shutil\n",
    "import cv2\n",
    "import os\n",
    "from sklearn.cluster import KMeans\n",
    "import numpy as np\n",
    "import matplotlib.pyplot as plt"
   ]
  },
  {
   "cell_type": "code",
   "execution_count": 20,
   "metadata": {},
   "outputs": [],
   "source": [
    "IMAGE_DIR =  \"../../notebook/累積感染者に関する分析/plot_no_xy/*.png\""
   ]
  },
  {
   "cell_type": "code",
   "execution_count": 47,
   "metadata": {},
   "outputs": [],
   "source": [
    "# 画像をnumpy配列で読み込み、変形\n",
    "impathlist = glob(IMAGE_DIR)\n",
    "features = np.array([cv2.resize(cv2.imread(p), (256, 256), cv2.INTER_CUBIC) for p in impathlist])\n",
    "features = features.reshape(features.shape[0], -1)"
   ]
  },
  {
   "cell_type": "code",
   "execution_count": 48,
   "metadata": {},
   "outputs": [],
   "source": [
    "# モデルの作成\n",
    "model = KMeans(n_clusters=5).fit(features)"
   ]
  },
  {
   "cell_type": "code",
   "execution_count": 49,
   "metadata": {},
   "outputs": [],
   "source": [
    "OUTPUT_DIR =  \"../../notebook/累積感染者に関する分析/output\""
   ]
  },
  {
   "cell_type": "code",
   "execution_count": 50,
   "metadata": {},
   "outputs": [],
   "source": [
    "# クラスタ数を変更して試したいので古い出力結果は消す\n",
    "for i in range(model.n_clusters):\n",
    "    cluster_dir = OUTPUT_DIR + \"/cluster{}\".format(i)\n",
    "    if os.path.exists(cluster_dir):\n",
    "        shutil.rmtree(cluster_dir)\n",
    "    os.makedirs(cluster_dir)"
   ]
  },
  {
   "cell_type": "code",
   "execution_count": 51,
   "metadata": {},
   "outputs": [],
   "source": [
    "# 結果をクラスタごとにディレクトリに保存\n",
    "for label, p in zip(model.labels_, impathlist):\n",
    "    shutil.copyfile(p, OUTPUT_DIR + '/cluster{}/{}'.format(label, p.split('/')[-1]))"
   ]
  },
  {
   "cell_type": "markdown",
   "metadata": {},
   "source": [
    "# エルボー法による"
   ]
  },
  {
   "cell_type": "code",
   "execution_count": 45,
   "metadata": {},
   "outputs": [
    {
     "data": {
      "text/plain": [
       "Text(0, 0.5, 'Distortion')"
      ]
     },
     "execution_count": 45,
     "metadata": {},
     "output_type": "execute_result"
    },
    {
     "data": {
      "image/png": "[encoded data removed]",
      "text/plain": [
       "<Figure size 432x288 with 1 Axes>"
      ]
     },
     "metadata": {
      "needs_background": "light"
     },
     "output_type": "display_data"
    }
   ],
   "source": [
    "# エルボー方による推定。クラスター数を1から10に増やして、それぞれの距離の総和を求める\n",
    "dist_list =[]\n",
    "for i in range(1,10):\n",
    "    kmeans= KMeans(n_clusters=i, init='random', random_state=0)\n",
    "    kmeans.fit(features)\n",
    "    dist_list.append(kmeans.inertia_)\n",
    "    \n",
    "# グラフを表示\n",
    "plt.plot(range(1,10), dist_list,marker='+')\n",
    "plt.xlabel('Number of clusters')\n",
    "plt.ylabel('Distortion')"
   ]
  },
  {
   "cell_type": "code",
   "execution_count": 46,
   "metadata": {},
   "outputs": [
    {
     "data": {
      "text/plain": [
       "[2067865805.0519671,\n",
       " 1974091520.098577,\n",
       " 1931346036.3647258,\n",
       " 1914954806.8691325,\n",
       " 1890535545.187659,\n",
       " 1873896025.6260054,\n",
       " 1869031950.6909084,\n",
       " 1849287663.1749618,\n",
       " 1831583080.2220032]"
      ]
     },
     "execution_count": 46,
     "metadata": {},
     "output_type": "execute_result"
    }
   ],
   "source": [
    "dist_list"
   ]
  },
  {
   "cell_type": "markdown",
   "metadata": {},
   "source": [
    "# 参考   \n",
    "- https://rightcode.co.jp/blog/information-technology/machine-learning-image-clustering"
   ]
  },
  {
   "cell_type": "code",
   "execution_count": null,
   "metadata": {},
   "outputs": [],
   "source": []
  }
 ],
 "metadata": {
  "kernelspec": {
   "display_name": "Python 3",
   "language": "python",
   "name": "python3"
  },
  "language_info": {
   "codemirror_mode": {
    "name": "ipython",
    "version": 3
   },
   "file_extension": ".py",
   "mimetype": "text/x-python",
   "name": "python",
   "nbconvert_exporter": "python",
   "pygments_lexer": "ipython3",
   "version": "3.7.3"
  }
 },
 "nbformat": 4,
 "nbformat_minor": 4
}
