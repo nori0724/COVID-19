{
 "cells": [
  {
   "cell_type": "code",
   "execution_count": 1,
   "metadata": {},
   "outputs": [],
   "source": [
    "library(openxlsx)\n",
    "library(\"geosphere\")"
   ]
  },
  {
   "cell_type": "code",
   "execution_count": 2,
   "metadata": {},
   "outputs": [],
   "source": [
    "setwd(\"../..\")"
   ]
  },
  {
   "cell_type": "code",
   "execution_count": 3,
   "metadata": {},
   "outputs": [],
   "source": [
    "df = read.csv(\"data/data_covid_fix_name_code_coordinate.csv\")"
   ]
  },
  {
   "cell_type": "code",
   "execution_count": 4,
   "metadata": {},
   "outputs": [
    {
     "data": {
      "text/html": [
       "155"
      ],
      "text/latex": [
       "155"
      ],
      "text/markdown": [
       "155"
      ],
      "text/plain": [
       "[1] 155"
      ]
     },
     "metadata": {},
     "output_type": "display_data"
    }
   ],
   "source": [
    "nrow(df)"
   ]
  },
  {
   "cell_type": "code",
   "execution_count": 5,
   "metadata": {},
   "outputs": [],
   "source": [
    "italy_lat <- 41.902783\n",
    "italy_lon <- 12.49637\n",
    "\n",
    "# 経度、緯度(latitude)の順で定義\n",
    "italy_coodinate <- c(italy_lon, italy_lat)"
   ]
  },
  {
   "cell_type": "code",
   "execution_count": 6,
   "metadata": {},
   "outputs": [],
   "source": [
    "dist_italy <- mapply(rep,1:nrow(df),0)\n",
    "\n",
    "for (i in 1 : nrow(df)){\n",
    "    lat <-  df[i,\"lat\"]\n",
    "    lon <-  df[i,\"lon\"]\n",
    "    coodinate <- c(lon, lat)\n",
    "    dist <- distGeo(coodinate, italy_coodinate)\n",
    "    dist_italy[i] = dist\n",
    "    \n",
    "}"
   ]
  },
  {
   "cell_type": "code",
   "execution_count": 7,
   "metadata": {},
   "outputs": [],
   "source": [
    "df$dist_italy= dist_italy"
   ]
  },
  {
   "cell_type": "code",
   "execution_count": 8,
   "metadata": {},
   "outputs": [
    {
     "ename": "ERROR",
     "evalue": "Error in write.table(df, file = \"data/data_covid_fix_name_code_coordinate_ltaly.csv\", :  型 'list'（'EncodeElement' における）は未実装です \n\n",
     "output_type": "error",
     "traceback": [
      "Error in write.table(df, file = \"data/data_covid_fix_name_code_coordinate_ltaly.csv\", :  型 'list'（'EncodeElement' における）は未実装です \n\nTraceback:\n",
      "1. write.csv(df, file = \"data/data_covid_fix_name_code_coordinate_ltaly.csv\")",
      "2. eval.parent(Call)",
      "3. eval(expr, p)",
      "4. eval(expr, p)",
      "5. write.table(df, file = \"data/data_covid_fix_name_code_coordinate_ltaly.csv\", \n .     col.names = NA, sep = \",\", dec = \".\", qmethod = \"double\")"
     ]
    }
   ],
   "source": [
    "write.csv(df, file=\"data/data_covid_fix_name_code_coordinate_ltaly.csv\")"
   ]
  },
  {
   "cell_type": "code",
   "execution_count": null,
   "metadata": {},
   "outputs": [],
   "source": [
    "str(df)"
   ]
  },
  {
   "cell_type": "code",
   "execution_count": null,
   "metadata": {},
   "outputs": [],
   "source": []
  }
 ],
 "metadata": {
  "kernelspec": {
   "display_name": "R",
   "language": "R",
   "name": "ir"
  },
  "language_info": {
   "codemirror_mode": "r",
   "file_extension": ".r",
   "mimetype": "text/x-r-source",
   "name": "R",
   "pygments_lexer": "r",
   "version": "3.6.1"
  }
 },
 "nbformat": 4,
 "nbformat_minor": 4
}
