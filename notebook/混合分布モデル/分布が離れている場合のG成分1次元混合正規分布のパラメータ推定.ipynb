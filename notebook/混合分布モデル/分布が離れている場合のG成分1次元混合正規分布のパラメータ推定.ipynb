{
 "cells": [
  {
   "cell_type": "markdown",
   "metadata": {},
   "source": [
    "# 1次元の混合正規分布に対してのEMアルゴリズムを実装・描画\n",
    "- https://cartman0.hatenablog.com/entry/2019/07/01/EM%E3%82%A2%E3%83%AB%E3%82%B4%E3%83%AA%E3%82%BA%E3%83%A0%E3%81%A7%E6%B7%B7%E5%90%88%E6%AD%A3%E8%A6%8F%E5%88%86%E5%B8%83%28MoG%29%E3%81%AE%E3%83%91%E3%83%A9%E3%83%A1%E3%83%BC%E3%82%BF%E3%82%92%E5%B0%8E\n",
    "-  https://qiita.com/ta-ka/items/3e8b127620ac92a32864"
   ]
  },
  {
   "cell_type": "code",
   "execution_count": 1,
   "metadata": {},
   "outputs": [
    {
     "name": "stderr",
     "output_type": "stream",
     "text": [
      "/Users/masanoritakahashi/anaconda3/lib/python3.7/site-packages/japanize_matplotlib/__init__.py:13: MatplotlibDeprecationWarning: \n",
      "The createFontList function was deprecated in Matplotlib 3.2 and will be removed two minor releases later. Use FontManager.addfont instead.\n",
      "  font_list = font_manager.createFontList(font_files)\n"
     ]
    }
   ],
   "source": [
    "import scipy as sp\n",
    "from scipy import stats\n",
    "import matplotlib.pyplot as plt\n",
    "import numpy as np\n",
    "import warnings\n",
    "import japanize_matplotlib\n",
    "\n",
    "%matplotlib inline\n",
    "warnings.simplefilter('ignore')"
   ]
  },
  {
   "cell_type": "code",
   "execution_count": 2,
   "metadata": {},
   "outputs": [],
   "source": [
    "# E-step\n",
    "def EStep(k_size, data_x, lambda_vec, mu_vec, sigma2_vec):\n",
    "    '''\n",
    "    data_x[i]\n",
    "    lambda[k]\n",
    "    mu[k]\n",
    "    sigma[k]\n",
    "    '''\n",
    "    I = len(data_x)\n",
    "    # 中身を初期化せずに配列を作成する関数である。\n",
    "    # 2行, 1000列の配列を生成\n",
    "    responsibility = sp.empty((k_size, I))\n",
    "    \n",
    "    for k in sp.arange(k_size):\n",
    "        norm = stats.norm(loc=mu_vec[k], scale=sp.sqrt(sigma2_vec[k]))\n",
    "        #responsibility[k] =  norm.pdf(data_x)\n",
    "        responsibility[k] = lambda_vec[k] * norm.pdf(data_x)\n",
    "\n",
    "    responsibility = responsibility / sp.sum(responsibility, axis=0)\n",
    "    return responsibility\n",
    "\n",
    "def MStep(k_size, responsibility, data_x):\n",
    "\n",
    "    lambda_vec = sp.empty(k_size)\n",
    "    mu_vec = sp.empty(k_size)\n",
    "    sigma2_vec = sp.empty(k_size)\n",
    "\n",
    "    for k in sp.arange(k_size):\n",
    "        r_k = responsibility[k]\n",
    "        #lambda_vec[k] = sp.sum(r_k) / sp.sum(responsibility)\n",
    "        lambda_vec[k] = sp.sum(r_k) / responsibility.shape[1]\n",
    "        #mu_vec[k] = sp.sum(r_k * data_x) / sp.sum(r_k)\n",
    "        mu_vec[k] = sp.sum(r_k * data_x) / sp.sum(r_k)\n",
    "        sigma2_vec[k] = sp.sum(r_k * (data_x - mu_vec[k])**2) / sp.sum(r_k)\n",
    "\n",
    "    return lambda_vec, mu_vec, sigma2_vec"
   ]
  },
  {
   "cell_type": "code",
   "execution_count": 3,
   "metadata": {},
   "outputs": [],
   "source": [
    "def calc_mix_pdf(k_size, x, lambda_vec, mu_vec, sigma2_vec):\n",
    "    pdf = sp.zeros_like(x)\n",
    "\n",
    "    for k in sp.arange(k_size):\n",
    "        norm_k = stats.norm(loc=mu_vec[k], scale=sp.sqrt(sigma2_vec[k]))\n",
    "        \n",
    "        # pdf (Probability density function) 確率密度関数\n",
    "        # xのときの値を取得\n",
    "        pdf += lambda_vec[k] * norm_k.pdf(x)\n",
    "    return pdf"
   ]
  },
  {
   "cell_type": "markdown",
   "metadata": {},
   "source": [
    "# データの生成  \n",
    "- f1：平均20, 分散30, データ数15      \n",
    "- f2：平均90, 分散100, データ数125    \n",
    "- f1とf2の割合は15:135  \n",
    "  \n",
    "- Covid-19初期感染と似ているデータを想定"
   ]
  },
  {
   "cell_type": "code",
   "execution_count": 4,
   "metadata": {},
   "outputs": [
    {
     "data": {
      "text/plain": [
       "array([27.57245617, 32.23013222, 30.63275916, 26.63182263, 28.7062105 ,\n",
       "       33.69272436, 24.57378025, 29.04092221, 32.83071953, 28.06190954,\n",
       "       28.48196442, 29.78822431, 33.33484858, 28.5713717 , 29.00722616,\n",
       "       59.31323033, 63.48788171, 63.4576124 , 61.58754861, 60.61061431,\n",
       "       61.16588209, 62.35705429, 58.52031673, 61.85914896, 58.01744059,\n",
       "       58.99162634, 61.43425925, 57.74105747, 59.77853191, 58.63744587,\n",
       "       71.19166058, 63.15008419, 66.39792044, 69.78679386, 74.93289373,\n",
       "       71.45091576, 72.00899958, 74.1763513 , 69.21866187, 72.89690835,\n",
       "       69.45320745, 66.53662935, 70.76386631, 73.81453346, 73.07071259,\n",
       "       71.96258869, 79.56532324, 73.3057429 , 75.09503501, 79.07763068,\n",
       "       67.90774289, 68.71506325, 77.51410222, 69.47630404, 72.09386662,\n",
       "       75.381474  , 74.81666092, 77.54943737, 76.72964204, 75.38171655,\n",
       "       69.5564805 , 74.51357646, 72.99381531, 67.80598036, 76.48189311,\n",
       "       74.55270606, 72.14385227, 71.26289818, 68.21063906, 72.63095052,\n",
       "       73.48133456, 69.37165716, 75.6752119 , 68.53033932, 65.28616719,\n",
       "       75.28790575, 70.72444459, 71.60145946, 69.35153958, 66.92149984,\n",
       "       75.96940911, 69.821605  , 77.25239295, 74.55293264, 71.00464734,\n",
       "       68.5660751 , 69.68375182, 68.16566519, 78.60003195, 72.52000883,\n",
       "       75.63726929, 67.99228093, 72.57248335, 75.7247265 , 70.94060295,\n",
       "       75.26067022, 68.57029512, 67.68832439, 73.19977008, 70.80093883,\n",
       "       74.0303552 , 65.74536918, 74.25237854, 80.21655846, 71.92212581,\n",
       "       72.10796689, 72.56778532, 66.11191581, 73.347594  , 66.92324863,\n",
       "       70.64755836, 75.93029861, 69.67503984, 73.58508848, 75.20256209,\n",
       "       72.88145598, 67.66468028, 70.94862086, 78.19620272, 65.59624302,\n",
       "       71.12788805, 70.25408098, 72.38183669, 74.36606553, 77.08712751,\n",
       "       71.14545014, 74.56884884, 73.5803171 , 73.50001786, 70.21671595,\n",
       "       68.8461926 , 68.52135824, 69.60793551, 73.01726227, 74.40633327])"
      ]
     },
     "execution_count": 4,
     "metadata": {},
     "output_type": "execute_result"
    }
   ],
   "source": [
    "# 乱数seedの固定\n",
    "np.random.seed(seed=123)\n",
    "\n",
    "N1 = stats.norm(loc=30, scale=sp.sqrt(5))\n",
    "N2 = stats.norm(loc=60, scale=sp.sqrt(2.5))\n",
    "N3 = stats.norm(loc=72, scale=sp.sqrt(10))\n",
    "\n",
    "# rvs (Random variates) 確率変数\n",
    "s1 = N1.rvs(size=15)\n",
    "s2 = N2.rvs(size=15)\n",
    "s3 = N3.rvs(size=105)\n",
    "\n",
    "# データの連結\n",
    "data_x = sp.hstack((s1, s2, s3))\n",
    "data_x"
   ]
  },
  {
   "cell_type": "code",
   "execution_count": 5,
   "metadata": {},
   "outputs": [
    {
     "data": {
      "text/plain": [
       "(array([0.01331243, 0.00665622, 0.        , 0.        , 0.        ,\n",
       "        0.00133124, 0.01996865, 0.02795611, 0.07854335, 0.03194984]),\n",
       " array([24.57378025, 30.13805807, 35.70233589, 41.26661372, 46.83089154,\n",
       "        52.39516936, 57.95944718, 63.523725  , 69.08800282, 74.65228064,\n",
       "        80.21655846]),\n",
       " <a list of 10 Patch objects>)"
      ]
     },
     "execution_count": 5,
     "metadata": {},
     "output_type": "execute_result"
    },
    {
     "data": {
      "image/png": "[encoded data removed]",
      "text/plain": [
       "<Figure size 432x288 with 1 Axes>"
      ]
     },
     "metadata": {
      "needs_background": "light"
     },
     "output_type": "display_data"
    }
   ],
   "source": [
    "plt.hist(data_x, density=True)"
   ]
  },
  {
   "cell_type": "markdown",
   "metadata": {},
   "source": [
    "## 初期値の設定  \n",
    "- データをランダムに2分割  \n",
    "- それぞれの平均値を初期値に用いる\n",
    "- 分散は全体の標本分散を用いる  \n",
    "  \n",
    "## 参考\n",
    "- 入門　パターン認識と機械学習(https://www.coronasha.co.jp/np/isbn/9784339024791/)\n"
   ]
  },
  {
   "cell_type": "code",
   "execution_count": 161,
   "metadata": {},
   "outputs": [],
   "source": [
    "# データをランダムに2分割\n",
    "random_x = np.split(data_x, 3)\n",
    "random_x0 = random_x[0]\n",
    "random_x1 = random_x[1]\n",
    "random_x2 = random_x[2]"
   ]
  },
  {
   "cell_type": "code",
   "execution_count": 162,
   "metadata": {},
   "outputs": [
    {
     "name": "stdout",
     "output_type": "stream",
     "text": [
      "mu0の初期値 65.24\n",
      "sigma0の初期値 266.11257777777774\n",
      "mu1の初期値 65.04\n",
      "sigma1の初期値 301.48324444444444\n",
      "mu2の初期値 60.9\n",
      "sigma2の初期値 421.60004444444445\n"
     ]
    }
   ],
   "source": [
    "mu0_first = np.mean(random_x0)\n",
    "sigma0_first = np.sum((random_x0 - np.mean(data_x))**2)/random_x0.shape[0]\n",
    "#sigma1_first = np.var(random_x1)\n",
    "print(\"mu0の初期値\", mu0_first)\n",
    "print(\"sigma0の初期値\", sigma0_first)\n",
    "\n",
    "mu1_first = np.mean(random_x1)\n",
    "sigma1_first = np.sum((random_x1 - np.mean(data_x))**2)/random_x1.shape[0]\n",
    "#sigma1_first = np.var(random_x1)\n",
    "print(\"mu1の初期値\", mu1_first)\n",
    "print(\"sigma1の初期値\", sigma1_first)\n",
    "\n",
    "mu2_first = np.mean(random_x2)\n",
    "sigma2_first = np.sum((random_x2 - np.mean(data_x))**2)/random_x2.shape[0]\n",
    "#sigma2_first = np.var(random_x2)\n",
    "print(\"mu2の初期値\", mu2_first)\n",
    "print(\"sigma2の初期値\", sigma2_first)"
   ]
  },
  {
   "cell_type": "code",
   "execution_count": 163,
   "metadata": {},
   "outputs": [
    {
     "data": {
      "text/plain": [
       "[<matplotlib.lines.Line2D at 0x7fa95e96aac8>]"
      ]
     },
     "execution_count": 163,
     "metadata": {},
     "output_type": "execute_result"
    },
    {
     "data": {
      "image/png": "[encoded data removed]",
      "text/plain": [
       "<Figure size 432x288 with 1 Axes>"
      ]
     },
     "metadata": {
      "needs_background": "light"
     },
     "output_type": "display_data"
    }
   ],
   "source": [
    "# 混合正規分布の数\n",
    "k_size = 3\n",
    "\n",
    "# 正規分布の割合\n",
    "lambda_vec=[0.2, 0.2, 0.6]\n",
    "\n",
    "# 平均(mu)の初期値\n",
    "mu_vec=[mu0_first, mu1_first, mu2_first]\n",
    "# 分散(sigma)の初期値\n",
    "sigma2_vec=[sigma0_first, sigma1_first, sigma2_first]\n",
    "\n",
    "# データ(-6から6までを200こ)\n",
    "x = sp.linspace(np.min(random_x), np.max(random_x), 10000)\n",
    "plt.plot(x, calc_mix_pdf(k_size, x, lambda_vec, mu_vec, sigma2_vec), label=\"ini\")\n"
   ]
  },
  {
   "cell_type": "code",
   "execution_count": 164,
   "metadata": {},
   "outputs": [
    {
     "name": "stdout",
     "output_type": "stream",
     "text": [
      "i: 0 lambda [0.2069 0.2036 0.5895] mu [67.6073 66.9097 61.2649] sigma2 [193.6303 231.3696 396.6413]\n",
      "i: 30 lambda [0.4385 0.3738 0.1877] mu [68.5465 73.5421 32.9155] sigma2 [ 67.8724 116.2689 171.269 ]\n",
      "i: 60 lambda [0.4334 0.4132 0.1534] mu [64.6327 76.293  27.3102] sigma2 [49.0049 85.4697 27.2909]\n",
      "i: 90 lambda [0.2961 0.5503 0.1535] mu [61.355  75.1563 27.3288] sigma2 [21.3961 76.695  27.6178]\n",
      "i: 120 lambda [0.1726 0.674  0.1534] mu [60.2724 72.8967 27.3131] sigma2 [ 8.1606 92.04   27.3685]\n",
      "i: 150 lambda [0.154  0.6927 0.1533] mu [60.0421 72.6072 27.3106] sigma2 [ 6.5424 93.0859 27.3343]\n",
      "i: 180 lambda [0.1501 0.6965 0.1533] mu [59.9883 72.5488 27.3102] sigma2 [ 6.2084 93.2677 27.3283]\n",
      "i: 210 lambda [0.1489 0.6978 0.1533] mu [59.9708 72.5305 27.31  ] sigma2 [ 6.1026 93.3218 27.3265]\n",
      "i: 240 lambda [0.1485 0.6982 0.1533] mu [59.9643 72.5239 27.31  ] sigma2 [ 6.0637 93.3413 27.3259]\n",
      "i: 270 lambda [0.1483 0.6984 0.1533] mu [59.9618 72.5213 27.3099] sigma2 [ 6.0487 93.3487 27.3256]\n",
      "i: 300 lambda [0.1482 0.6984 0.1533] mu [59.9607 72.5203 27.3099] sigma2 [ 6.0427 93.3517 27.3255]\n"
     ]
    },
    {
     "data": {
      "image/png": "[encoded data removed]",
      "text/plain": [
       "<Figure size 432x288 with 1 Axes>"
      ]
     },
     "metadata": {
      "needs_background": "light"
     },
     "output_type": "display_data"
    }
   ],
   "source": [
    "# 100回繰り返す\n",
    "for i in sp.arange(300+1):\n",
    "    # Estep\n",
    "    # responsibilityの更新 \n",
    "    responsibility = EStep(k_size, data_x, lambda_vec, mu_vec, sigma2_vec)\n",
    "    \n",
    "    # Mstep\n",
    "    # 混合割合, 平均, 分散の更新\n",
    "    lambda_vec, mu_vec, sigma2_vec = MStep(k_size, responsibility, data_x)\n",
    "    \n",
    "    if i % 30 == 0:\n",
    "        print(\"i:\", i, \"lambda\", lambda_vec.round(4), \"mu\", mu_vec.round(4), \"sigma2\", sigma2_vec.round(4))\n",
    "        plt.plot(x, calc_mix_pdf(k_size, x, lambda_vec, mu_vec, sigma2_vec), label=f\"i:{i}\", linestyle=\"--\")\n",
    "        \n",
    "plt.plot(x, calc_mix_pdf(k_size, x, lambda_vec, mu_vec, sigma2_vec), label=f\"last{i}\", linestyle=\"-\")\n",
    "\n",
    "plt.legend()\n",
    "plt.tight_layout()\n",
    "plt.show()"
   ]
  },
  {
   "cell_type": "code",
   "execution_count": 165,
   "metadata": {},
   "outputs": [
    {
     "data": {
      "text/plain": [
       "3"
      ]
     },
     "execution_count": 165,
     "metadata": {},
     "output_type": "execute_result"
    }
   ],
   "source": [
    "k_size"
   ]
  },
  {
   "cell_type": "code",
   "execution_count": 166,
   "metadata": {},
   "outputs": [
    {
     "name": "stdout",
     "output_type": "stream",
     "text": [
      "f0の混合比率 0.14823632879435852\n",
      "mu0 59.96074993697144\n",
      "sigma0 6.042717244564692\n"
     ]
    }
   ],
   "source": [
    "print(\"f0の混合比率\", lambda_vec[0])\n",
    "print(\"mu0\", mu_vec[0])\n",
    "print(\"sigma0\", sigma2_vec[0])"
   ]
  },
  {
   "cell_type": "code",
   "execution_count": 167,
   "metadata": {},
   "outputs": [
    {
     "name": "stdout",
     "output_type": "stream",
     "text": [
      "f1の混合比率 0.6984395510755678\n",
      "mu1 72.52028092779774\n",
      "sigma1 93.3516580282996\n"
     ]
    }
   ],
   "source": [
    "print(\"f1の混合比率\", lambda_vec[1])\n",
    "print(\"mu1\", mu_vec[1])\n",
    "print(\"sigma1\", sigma2_vec[1])"
   ]
  },
  {
   "cell_type": "code",
   "execution_count": 168,
   "metadata": {},
   "outputs": [
    {
     "name": "stdout",
     "output_type": "stream",
     "text": [
      "f2の混合比率 0.15332412013007363\n",
      "mu2 27.30994161659653\n",
      "sigma2 27.325538005641377\n"
     ]
    }
   ],
   "source": [
    "print(\"f2の混合比率\", lambda_vec[2])\n",
    "print(\"mu2\", mu_vec[2])\n",
    "print(\"sigma2\", sigma2_vec[2])"
   ]
  },
  {
   "cell_type": "markdown",
   "metadata": {},
   "source": [
    "# 真の値\n",
    "\n",
    "- N1 = stats.norm(loc=30, scale=sp.sqrt(5))  \n",
    "- N2 = stats.norm(loc=60, scale=sp.sqrt(2.5))  \n",
    "- N3 = stats.norm(loc=72, scale=sp.sqrt(10))  "
   ]
  },
  {
   "cell_type": "code",
   "execution_count": 169,
   "metadata": {},
   "outputs": [
    {
     "data": {
      "text/plain": [
       "[<matplotlib.lines.Line2D at 0x7fa9603db5c0>]"
      ]
     },
     "execution_count": 169,
     "metadata": {},
     "output_type": "execute_result"
    },
    {
     "data": {
      "image/png": "[encoded data removed]",
      "text/plain": [
       "<Figure size 432x288 with 1 Axes>"
      ]
     },
     "metadata": {
      "needs_background": "light"
     },
     "output_type": "display_data"
    }
   ],
   "source": [
    "# 推定された分布の可視化\n",
    "plt.hist(data_x, bins=30, density=True)\n",
    "plt.plot(x, calc_mix_pdf(k_size, x, lambda_vec, mu_vec, sigma2_vec), label=f\"last{i}\", linestyle=\"-\")"
   ]
  },
  {
   "cell_type": "markdown",
   "metadata": {},
   "source": [
    "# ✅実データでシミュレーション"
   ]
  },
  {
   "cell_type": "code",
   "execution_count": 6,
   "metadata": {},
   "outputs": [],
   "source": [
    "import pandas as pd\n",
    "\n",
    "# 乱数seedの固定\n",
    "np.random.seed(seed=123)\n",
    "\n",
    "df = pd.read_excel(\"../../data/data_covid_fix_name.xlsx\")\n",
    "df = df.dropna().reset_index(drop=True)"
   ]
  },
  {
   "cell_type": "code",
   "execution_count": 7,
   "metadata": {},
   "outputs": [
    {
     "data": {
      "text/html": [
       "<div>\n",
       "<style scoped>\n",
       "    .dataframe tbody tr th:only-of-type {\n",
       "        vertical-align: middle;\n",
       "    }\n",
       "\n",
       "    .dataframe tbody tr th {\n",
       "        vertical-align: top;\n",
       "    }\n",
       "\n",
       "    .dataframe thead th {\n",
       "        text-align: right;\n",
       "    }\n",
       "</style>\n",
       "<table border=\"1\" class=\"dataframe\">\n",
       "  <thead>\n",
       "    <tr style=\"text-align: right;\">\n",
       "      <th></th>\n",
       "      <th>country</th>\n",
       "      <th>pop</th>\n",
       "      <th>urb</th>\n",
       "      <th>gdp</th>\n",
       "      <th>dist</th>\n",
       "      <th>hf</th>\n",
       "      <th>pf</th>\n",
       "      <th>ef</th>\n",
       "      <th>date_first</th>\n",
       "      <th>detection</th>\n",
       "      <th>status</th>\n",
       "      <th>cumul</th>\n",
       "      <th>air</th>\n",
       "    </tr>\n",
       "  </thead>\n",
       "  <tbody>\n",
       "    <tr>\n",
       "      <th>0</th>\n",
       "      <td>Albania</td>\n",
       "      <td>2866376</td>\n",
       "      <td>60.319</td>\n",
       "      <td>13364.155397</td>\n",
       "      <td>6.996524e+06</td>\n",
       "      <td>7.84</td>\n",
       "      <td>8.005411</td>\n",
       "      <td>7.67</td>\n",
       "      <td>70</td>\n",
       "      <td>74.3</td>\n",
       "      <td>1</td>\n",
       "      <td>108641</td>\n",
       "      <td>303.14</td>\n",
       "    </tr>\n",
       "    <tr>\n",
       "      <th>1</th>\n",
       "      <td>Algeria</td>\n",
       "      <td>42228429</td>\n",
       "      <td>72.629</td>\n",
       "      <td>15481.787620</td>\n",
       "      <td>9.108277e+06</td>\n",
       "      <td>4.99</td>\n",
       "      <td>5.201489</td>\n",
       "      <td>4.77</td>\n",
       "      <td>58</td>\n",
       "      <td>12.0</td>\n",
       "      <td>1</td>\n",
       "      <td>80272</td>\n",
       "      <td>6442.44</td>\n",
       "    </tr>\n",
       "    <tr>\n",
       "      <th>2</th>\n",
       "      <td>Angola</td>\n",
       "      <td>30809762</td>\n",
       "      <td>65.514</td>\n",
       "      <td>6452.355165</td>\n",
       "      <td>1.049012e+07</td>\n",
       "      <td>5.40</td>\n",
       "      <td>5.979936</td>\n",
       "      <td>4.83</td>\n",
       "      <td>83</td>\n",
       "      <td>17.9</td>\n",
       "      <td>1</td>\n",
       "      <td>303691</td>\n",
       "      <td>76.94</td>\n",
       "    </tr>\n",
       "    <tr>\n",
       "      <th>3</th>\n",
       "      <td>Argentina</td>\n",
       "      <td>44494502</td>\n",
       "      <td>91.870</td>\n",
       "      <td>20610.568550</td>\n",
       "      <td>1.902562e+07</td>\n",
       "      <td>6.86</td>\n",
       "      <td>8.044600</td>\n",
       "      <td>5.67</td>\n",
       "      <td>65</td>\n",
       "      <td>74.9</td>\n",
       "      <td>1</td>\n",
       "      <td>92122</td>\n",
       "      <td>1516.63</td>\n",
       "    </tr>\n",
       "    <tr>\n",
       "      <th>4</th>\n",
       "      <td>Australia</td>\n",
       "      <td>24992369</td>\n",
       "      <td>86.012</td>\n",
       "      <td>51663.365095</td>\n",
       "      <td>7.608913e+06</td>\n",
       "      <td>8.62</td>\n",
       "      <td>9.160533</td>\n",
       "      <td>8.07</td>\n",
       "      <td>26</td>\n",
       "      <td>97.3</td>\n",
       "      <td>1</td>\n",
       "      <td>1347</td>\n",
       "      <td>75667.65</td>\n",
       "    </tr>\n",
       "  </tbody>\n",
       "</table>\n",
       "</div>"
      ],
      "text/plain": [
       "     country       pop     urb           gdp          dist    hf        pf  \\\n",
       "0    Albania   2866376  60.319  13364.155397  6.996524e+06  7.84  8.005411   \n",
       "1    Algeria  42228429  72.629  15481.787620  9.108277e+06  4.99  5.201489   \n",
       "2     Angola  30809762  65.514   6452.355165  1.049012e+07  5.40  5.979936   \n",
       "3  Argentina  44494502  91.870  20610.568550  1.902562e+07  6.86  8.044600   \n",
       "4  Australia  24992369  86.012  51663.365095  7.608913e+06  8.62  9.160533   \n",
       "\n",
       "     ef  date_first  detection  status   cumul       air  \n",
       "0  7.67          70       74.3       1  108641    303.14  \n",
       "1  4.77          58       12.0       1   80272   6442.44  \n",
       "2  4.83          83       17.9       1  303691     76.94  \n",
       "3  5.67          65       74.9       1   92122   1516.63  \n",
       "4  8.07          26       97.3       1    1347  75667.65  "
      ]
     },
     "execution_count": 7,
     "metadata": {},
     "output_type": "execute_result"
    }
   ],
   "source": [
    "df.head()"
   ]
  },
  {
   "cell_type": "code",
   "execution_count": 172,
   "metadata": {},
   "outputs": [],
   "source": [
    "y = df[\"date_first\"]"
   ]
  },
  {
   "cell_type": "code",
   "execution_count": 173,
   "metadata": {},
   "outputs": [
    {
     "data": {
      "text/plain": [
       "Text(0.5, 1.0, '初感染が起きるまでの日数')"
      ]
     },
     "execution_count": 173,
     "metadata": {},
     "output_type": "execute_result"
    },
    {
     "data": {
      "image/png": "[encoded data removed]",
      "text/plain": [
       "<Figure size 432x288 with 1 Axes>"
      ]
     },
     "metadata": {
      "needs_background": "light"
     },
     "output_type": "display_data"
    }
   ],
   "source": [
    "plt.hist(y, bins=20, density=True)\n",
    "plt.xlabel(\"day\")\n",
    "plt.ylabel(\"density\")\n",
    "plt.title(\"初感染が起きるまでの日数\")"
   ]
  },
  {
   "cell_type": "markdown",
   "metadata": {},
   "source": [
    "## 初期値の設定"
   ]
  },
  {
   "cell_type": "code",
   "execution_count": 190,
   "metadata": {},
   "outputs": [
    {
     "name": "stdout",
     "output_type": "stream",
     "text": [
      "mu0の初期値 65.24\n",
      "sigma0の初期値 266.11257777777774\n",
      "mu1の初期値 65.04\n",
      "sigma1の初期値 301.48324444444444\n",
      "mu2の初期値 60.9\n",
      "sigma2の初期値 421.60004444444445\n"
     ]
    }
   ],
   "source": [
    "\"\"\"mu0_first = 30\n",
    "sigma0_first = 5\n",
    "print(\"mu0の初期値\", mu0_first)\n",
    "print(\"sigma0の初期値\", sigma0_first)\n",
    "\n",
    "\n",
    "mu1_first = 60\n",
    "sigma1_first = 5\n",
    "print(\"mu1の初期値\", mu1_first)\n",
    "print(\"sigma1の初期値\", sigma1_first)\n",
    "\n",
    "mu2_first = 70\n",
    "sigma2_first = 20\n",
    "#sigma2_first = np.var(random_x2)\n",
    "print(\"mu2の初期値\", mu2_first)\n",
    "print(\"sigma2の初期値\", sigma2_first)\"\"\"\n",
    "\n",
    "\n",
    "# 初期値は主観なし\n",
    "# データをランダムに3分割\n",
    "random_x = np.split(y, 3)\n",
    "random_x0 = random_x[0]\n",
    "random_x1 = random_x[1]\n",
    "random_x2 = random_x[2]\n",
    "\n",
    "mu0_first = np.mean(random_x0)\n",
    "sigma0_first = np.sum((random_x0 - np.mean(data_x))**2)/random_x0.shape[0]\n",
    "#sigma1_first = np.var(random_x1)\n",
    "print(\"mu0の初期値\", mu0_first)\n",
    "print(\"sigma0の初期値\", sigma0_first)\n",
    "\n",
    "mu1_first = np.mean(random_x1)\n",
    "sigma1_first = np.sum((random_x1 - np.mean(data_x))**2)/random_x1.shape[0]\n",
    "#sigma1_first = np.var(random_x1)\n",
    "print(\"mu1の初期値\", mu1_first)\n",
    "print(\"sigma1の初期値\", sigma1_first)\n",
    "\n",
    "mu2_first = np.mean(random_x2)\n",
    "sigma2_first = np.sum((random_x2 - np.mean(data_x))**2)/random_x2.shape[0]\n",
    "#sigma2_first = np.var(random_x2)\n",
    "print(\"mu2の初期値\", mu2_first)\n",
    "print(\"sigma2の初期値\", sigma2_first)"
   ]
  },
  {
   "cell_type": "code",
   "execution_count": 191,
   "metadata": {},
   "outputs": [
    {
     "data": {
      "text/plain": [
       "[<matplotlib.lines.Line2D at 0x7fa96109be10>]"
      ]
     },
     "execution_count": 191,
     "metadata": {},
     "output_type": "execute_result"
    },
    {
     "data": {
      "image/png": "[encoded data removed]",
      "text/plain": [
       "<Figure size 432x288 with 1 Axes>"
      ]
     },
     "metadata": {
      "needs_background": "light"
     },
     "output_type": "display_data"
    }
   ],
   "source": [
    "# 混合正規分布の数\n",
    "k_size = 3\n",
    "\n",
    "# 正規分布の割合\n",
    "lambda_vec=[0.3, 0.3, 0.3]\n",
    "\n",
    "# 平均(mu)の初期値\n",
    "mu_vec=[mu0_first, mu1_first, mu2_first]\n",
    "# 分散(sigma)の初期値\n",
    "sigma2_vec=[sigma0_first, sigma1_first, sigma2_first]\n",
    "\n",
    "# データ(-6から6までを200こ)\n",
    "x = sp.linspace(np.min(y), np.max(y), 200)\n",
    "plt.plot(x, calc_mix_pdf(k_size, x, lambda_vec, mu_vec, sigma2_vec), label=\"ini\")"
   ]
  },
  {
   "cell_type": "code",
   "execution_count": 192,
   "metadata": {},
   "outputs": [
    {
     "name": "stdout",
     "output_type": "stream",
     "text": [
      "i: 0 lambda [0.3342 0.3314 0.3345] mu [66.7081 65.7379 58.7552] sigma2 [225.1605 271.2377 454.5625]\n",
      "i: 50 lambda [0.4356 0.411  0.1534] mu [64.4101 76.5913 27.3108] sigma2 [47.0839 81.3092 27.2986]\n",
      "i: 100 lambda [0.1916 0.655  0.1534] mu [60.4912 73.1993 27.316 ] sigma2 [ 9.8953 90.813  27.4124]\n",
      "i: 150 lambda [0.152  0.6946 0.1533] mu [60.015  72.5772 27.3104] sigma2 [ 6.3721 93.1807 27.3312]\n",
      "i: 200 lambda [0.1489 0.6978 0.1533] mu [59.9705 72.5303 27.31  ] sigma2 [ 6.101  93.3226 27.3265]\n",
      "i: 250 lambda [0.1483 0.6983 0.1533] mu [59.9623 72.5219 27.31  ] sigma2 [ 6.0519 93.3471 27.3257]\n",
      "i: 300 lambda [0.1482 0.6985 0.1533] mu [59.9606 72.5201 27.3099] sigma2 [ 6.0416 93.3522 27.3255]\n",
      "i: 350 lambda [0.1482 0.6985 0.1533] mu [59.9602 72.5197 27.3099] sigma2 [ 6.0394 93.3533 27.3255]\n",
      "i: 400 lambda [0.1482 0.6985 0.1533] mu [59.9601 72.5196 27.3099] sigma2 [ 6.0389 93.3535 27.3255]\n"
     ]
    },
    {
     "data": {
      "image/png": "[encoded data removed]",
      "text/plain": [
       "<Figure size 432x288 with 1 Axes>"
      ]
     },
     "metadata": {
      "needs_background": "light"
     },
     "output_type": "display_data"
    }
   ],
   "source": [
    "# 400回繰り返す\n",
    "for i in sp.arange(400+1):\n",
    "    # Estep\n",
    "    # responsibilityの更新 \n",
    "    responsibility = EStep(k_size, y, lambda_vec, mu_vec, sigma2_vec)\n",
    "    \n",
    "    # Mstep\n",
    "    # 混合割合, 平均, 分散の更新\n",
    "    lambda_vec, mu_vec, sigma2_vec = MStep(k_size, responsibility, y)\n",
    "    \n",
    "    if i % 50 == 0:\n",
    "        print(\"i:\", i, \"lambda\", lambda_vec.round(4), \"mu\", mu_vec.round(4), \"sigma2\", sigma2_vec.round(4))\n",
    "        plt.plot(x, calc_mix_pdf(k_size, x, lambda_vec, mu_vec, sigma2_vec), label=f\"i:{i}\", linestyle=\"--\")\n",
    "        \n",
    "plt.plot(x, calc_mix_pdf(k_size, x, lambda_vec, mu_vec, sigma2_vec), label=f\"last{i}\", linestyle=\"-\")\n",
    "\n",
    "plt.legend()\n",
    "plt.tight_layout()\n",
    "plt.show()"
   ]
  },
  {
   "cell_type": "markdown",
   "metadata": {},
   "source": [
    "## 推定結果"
   ]
  },
  {
   "cell_type": "code",
   "execution_count": 193,
   "metadata": {},
   "outputs": [
    {
     "name": "stdout",
     "output_type": "stream",
     "text": [
      "f1の混合比率 0.14819254011815838\n",
      "mu1 59.960104899160704\n",
      "sigma1 6.038887996109623\n"
     ]
    }
   ],
   "source": [
    "print(\"f1の混合比率\", lambda_vec[0])\n",
    "print(\"mu1\", mu_vec[0])\n",
    "print(\"sigma1\", sigma2_vec[0])"
   ]
  },
  {
   "cell_type": "code",
   "execution_count": 194,
   "metadata": {},
   "outputs": [
    {
     "name": "stdout",
     "output_type": "stream",
     "text": [
      "f1の混合比率 0.6984834041805134\n",
      "mu1 72.51962731494268\n",
      "sigma1 93.35354696275746\n"
     ]
    }
   ],
   "source": [
    "print(\"f1の混合比率\", lambda_vec[1])\n",
    "print(\"mu1\", mu_vec[1])\n",
    "print(\"sigma1\", sigma2_vec[1])"
   ]
  },
  {
   "cell_type": "code",
   "execution_count": 195,
   "metadata": {},
   "outputs": [
    {
     "name": "stdout",
     "output_type": "stream",
     "text": [
      "f2の混合比率 0.1533240557013282\n",
      "mu2 27.309936721359676\n",
      "sigma2 27.32547489769405\n"
     ]
    }
   ],
   "source": [
    "print(\"f2の混合比率\", lambda_vec[2])\n",
    "print(\"mu2\", mu_vec[2])\n",
    "print(\"sigma2\", sigma2_vec[2])"
   ]
  },
  {
   "cell_type": "code",
   "execution_count": 196,
   "metadata": {},
   "outputs": [
    {
     "data": {
      "text/plain": [
       "Text(0.5, 1.0, '初感染が起きるまでの日数')"
      ]
     },
     "execution_count": 196,
     "metadata": {},
     "output_type": "execute_result"
    },
    {
     "data": {
      "image/png": "[encoded data removed]",
      "text/plain": [
       "<Figure size 432x288 with 1 Axes>"
      ]
     },
     "metadata": {
      "needs_background": "light"
     },
     "output_type": "display_data"
    }
   ],
   "source": [
    "# 推定された分布の可視化\n",
    "plt.hist(y, bins=20, density=True)\n",
    "plt.plot(x, calc_mix_pdf(k_size, x, lambda_vec, mu_vec, sigma2_vec), label=f\"last{i}\", linestyle=\"-\")\n",
    "plt.xlabel(\"day\")\n",
    "plt.ylabel(\"density\")\n",
    "plt.title(\"初感染が起きるまでの日数\")"
   ]
  },
  {
   "cell_type": "code",
   "execution_count": 197,
   "metadata": {},
   "outputs": [
    {
     "data": {
      "text/html": [
       "<div>\n",
       "<style scoped>\n",
       "    .dataframe tbody tr th:only-of-type {\n",
       "        vertical-align: middle;\n",
       "    }\n",
       "\n",
       "    .dataframe tbody tr th {\n",
       "        vertical-align: top;\n",
       "    }\n",
       "\n",
       "    .dataframe thead th {\n",
       "        text-align: right;\n",
       "    }\n",
       "</style>\n",
       "<table border=\"1\" class=\"dataframe\">\n",
       "  <thead>\n",
       "    <tr style=\"text-align: right;\">\n",
       "      <th></th>\n",
       "      <th>comp1</th>\n",
       "      <th>comp2</th>\n",
       "      <th>comp3</th>\n",
       "    </tr>\n",
       "  </thead>\n",
       "  <tbody>\n",
       "    <tr>\n",
       "      <th>混合比</th>\n",
       "      <td>0.148193</td>\n",
       "      <td>0.698483</td>\n",
       "      <td>0.153324</td>\n",
       "    </tr>\n",
       "    <tr>\n",
       "      <th>mu</th>\n",
       "      <td>59.960105</td>\n",
       "      <td>72.519627</td>\n",
       "      <td>27.309937</td>\n",
       "    </tr>\n",
       "    <tr>\n",
       "      <th>sigma</th>\n",
       "      <td>6.038888</td>\n",
       "      <td>93.353547</td>\n",
       "      <td>27.325475</td>\n",
       "    </tr>\n",
       "  </tbody>\n",
       "</table>\n",
       "</div>"
      ],
      "text/plain": [
       "           comp1      comp2      comp3\n",
       "混合比     0.148193   0.698483   0.153324\n",
       "mu     59.960105  72.519627  27.309937\n",
       "sigma   6.038888  93.353547  27.325475"
      ]
     },
     "execution_count": 197,
     "metadata": {},
     "output_type": "execute_result"
    }
   ],
   "source": [
    "pd.DataFrame([lambda_vec, mu_vec, sigma2_vec], columns=[\"comp1\", \"comp2\", \"comp3\"], index=[\"混合比\", \"mu\", \"sigma\"])"
   ]
  },
  {
   "cell_type": "markdown",
   "metadata": {},
   "source": [
    "# G成分混合を仮定"
   ]
  },
  {
   "cell_type": "code",
   "execution_count": 8,
   "metadata": {},
   "outputs": [
    {
     "data": {
      "text/plain": [
       "Text(0.5, 1.0, '初感染が起きるまでの日数')"
      ]
     },
     "execution_count": 8,
     "metadata": {},
     "output_type": "execute_result"
    },
    {
     "data": {
      "image/png": "[encoded data removed]",
      "text/plain": [
       "<Figure size 360x360 with 1 Axes>"
      ]
     },
     "metadata": {
      "needs_background": "light"
     },
     "output_type": "display_data"
    }
   ],
   "source": [
    "import pandas as pd\n",
    "\n",
    "# 乱数seedの固定\n",
    "np.random.seed(seed=123)\n",
    "\n",
    "df = pd.read_excel(\"../../data/data_covid_fix_name.xlsx\")\n",
    "df = df.dropna().reset_index(drop=True)\n",
    "\n",
    "y = df[\"date_first\"]\n",
    "plt.figure(figsize=(5,5))\n",
    "plt.hist(y, density=True)\n",
    "plt.xlabel(\"day\")\n",
    "plt.ylabel(\"density\")\n",
    "plt.title(\"初感染が起きるまでの日数\")"
   ]
  },
  {
   "cell_type": "code",
   "execution_count": 14,
   "metadata": {},
   "outputs": [
    {
     "data": {
      "text/html": [
       "<div>\n",
       "<style scoped>\n",
       "    .dataframe tbody tr th:only-of-type {\n",
       "        vertical-align: middle;\n",
       "    }\n",
       "\n",
       "    .dataframe tbody tr th {\n",
       "        vertical-align: top;\n",
       "    }\n",
       "\n",
       "    .dataframe thead th {\n",
       "        text-align: right;\n",
       "    }\n",
       "</style>\n",
       "<table border=\"1\" class=\"dataframe\">\n",
       "  <thead>\n",
       "    <tr style=\"text-align: right;\">\n",
       "      <th></th>\n",
       "      <th>comp0_(初期値)</th>\n",
       "      <th>comp1_(初期値)</th>\n",
       "      <th>comp2_(初期値)</th>\n",
       "      <th>comp3_(初期値)</th>\n",
       "      <th>comp4_(初期値)</th>\n",
       "      <th>comp5_(初期値)</th>\n",
       "      <th>comp6_(初期値)</th>\n",
       "    </tr>\n",
       "  </thead>\n",
       "  <tbody>\n",
       "    <tr>\n",
       "      <th>混合比</th>\n",
       "      <td>0.142857</td>\n",
       "      <td>0.142857</td>\n",
       "      <td>0.142857</td>\n",
       "      <td>0.142857</td>\n",
       "      <td>0.142857</td>\n",
       "      <td>0.142857</td>\n",
       "      <td>0.142857</td>\n",
       "    </tr>\n",
       "    <tr>\n",
       "      <th>mu</th>\n",
       "      <td>66.045455</td>\n",
       "      <td>65.590909</td>\n",
       "      <td>62.045455</td>\n",
       "      <td>64.952381</td>\n",
       "      <td>67.523810</td>\n",
       "      <td>58.666667</td>\n",
       "      <td>61.142857</td>\n",
       "    </tr>\n",
       "    <tr>\n",
       "      <th>sigma</th>\n",
       "      <td>216.783802</td>\n",
       "      <td>239.898954</td>\n",
       "      <td>315.597135</td>\n",
       "      <td>394.690584</td>\n",
       "      <td>188.001060</td>\n",
       "      <td>372.873441</td>\n",
       "      <td>590.608044</td>\n",
       "    </tr>\n",
       "  </tbody>\n",
       "</table>\n",
       "</div>"
      ],
      "text/plain": [
       "       comp0_(初期値)  comp1_(初期値)  comp2_(初期値)  comp3_(初期値)  comp4_(初期値)  \\\n",
       "混合比       0.142857     0.142857     0.142857     0.142857     0.142857   \n",
       "mu       66.045455    65.590909    62.045455    64.952381    67.523810   \n",
       "sigma   216.783802   239.898954   315.597135   394.690584   188.001060   \n",
       "\n",
       "       comp5_(初期値)  comp6_(初期値)  \n",
       "混合比       0.142857     0.142857  \n",
       "mu       58.666667    61.142857  \n",
       "sigma   372.873441   590.608044  "
      ]
     },
     "execution_count": 14,
     "metadata": {},
     "output_type": "execute_result"
    }
   ],
   "source": [
    "k_size=7\n",
    "random_x = np.array_split(y, k_size)\n",
    "\n",
    "mu_vec=np.zeros(k_size)\n",
    "sigma2_vec=np.zeros(k_size)\n",
    "for i in range(k_size):\n",
    "    mu_vec[i] = np.mean(random_x[i])\n",
    "    sigma2_vec[i] = np.sum((random_x[i] - np.mean(y))**2)/random_x[i].shape[0]\n",
    "    \n",
    "lambda_vec = np.ones(k_size)/k_size\n",
    "    \n",
    "first_df = pd.DataFrame([lambda_vec, mu_vec, sigma2_vec], columns=[f\"comp{i}_(初期値)\" for i in range(k_size)], index=[\"混合比\", \"mu\", \"sigma\"])\n",
    "first_df"
   ]
  },
  {
   "cell_type": "code",
   "execution_count": 15,
   "metadata": {},
   "outputs": [
    {
     "name": "stdout",
     "output_type": "stream",
     "text": [
      "i: 0 lambda [0.1451 0.1429 0.1394 0.1391 0.1505 0.1415 0.1416] mu [68.2682 67.5506 62.5213 63.6312 69.5753 57.3973 56.5974] sigma2 [159.9039 191.4878 336.9601 373.3016 120.6547 440.8296 540.1803]\n",
      "i: 100 lambda [0.2413 0.2609 0.0586 0.0529 0.233  0.0132 0.1401] mu [61.1284 75.7876 82.863  82.0439 67.8992 14.9922 28.4604] sigma2 [ 12.4523  24.3532 103.4306 108.0841  78.1977   0.9999  13.9997]\n",
      "i: 200 lambda [0.1436 0.251  0.034  0.023  0.3951 0.0132 0.1401] mu [60.1972 77.9739 94.4488 77.4348 66.6487 14.9922 28.463 ] sigma2 [ 7.2938 19.4971 17.9753 81.8815 53.6076  0.9999 14.0137]\n",
      "i: 300 lambda [0.0683 0.2828 0.037  0.0164 0.4421 0.0132 0.1401] mu [59.003  78.1431 94.1821 70.998  65.0429 14.9922 28.4632] sigma2 [  0.7451  18.2078  19.0208 102.0152  41.3653   0.9999  14.0148]\n",
      "i: 400 lambda [0.0686 0.326  0.0375 0.0328 0.3819 0.0132 0.1401] mu [58.9748 77.7295 94.1648 58.0934 64.7381 14.9922 28.46  ] sigma2 [ 0.7547 19.7061 19.0537 52.749  30.4482  0.9999 13.9976]\n",
      "i: 500 lambda [0.071  0.3622 0.0369 0.0358 0.3407 0.0132 0.1401] mu [58.9484 77.2228 94.2709 55.2152 64.3542 14.9922 28.463 ] sigma2 [ 0.7908 21.9647 18.5449 27.4719 22.7492  0.9999 14.0132]\n",
      "i: 600 lambda [0.071  0.3672 0.0367 0.0321 0.3398 0.0132 0.1401] mu [58.9441 77.1449 94.3025 54.5772 64.2227 14.9922 28.4632] sigma2 [ 0.7921 22.4368 18.3856 25.0103 22.3404  0.9999 14.014 ]\n",
      "i: 700 lambda [0.0706 0.3666 0.0367 0.028  0.3448 0.0132 0.1401] mu [58.9436 77.1514 94.3047 53.997  64.1646 14.9922 28.4632] sigma2 [ 0.7886 22.4314 18.3727 23.4879 22.7832  0.9999 14.0143]\n",
      "i: 800 lambda [0.0701 0.3651 0.0367 0.023  0.3518 0.0132 0.1401] mu [58.9434 77.1714 94.3038 53.186  64.1004 14.9922 28.4633] sigma2 [ 0.783  22.3615 18.3743 21.3909 23.5096  0.9999 14.0146]\n",
      "i: 900 lambda [0.0688 0.3623 0.0367 0.0154 0.3635 0.0132 0.1401] mu [58.9433 77.2076 94.3037 51.5115 63.9907 14.9922 28.4634] sigma2 [ 0.7702 22.25   18.3702 16.7545 24.951   0.9999 14.0155]\n",
      "i: 1000 lambda [nan nan nan nan nan nan nan] mu [nan nan nan nan nan nan nan] sigma2 [nan nan nan nan nan nan nan]\n"
     ]
    },
    {
     "data": {
      "image/png": "[encoded data removed]",
      "text/plain": [
       "<Figure size 432x288 with 1 Axes>"
      ]
     },
     "metadata": {
      "needs_background": "light"
     },
     "output_type": "display_data"
    }
   ],
   "source": [
    "# 1000回繰り返す\n",
    "x = sp.linspace(np.min(y), np.max(y), len(y))\n",
    "\n",
    "for i in sp.arange(1000+1):\n",
    "    # Estep\n",
    "    # responsibilityの更新 \n",
    "    responsibility = EStep(k_size, y, lambda_vec, mu_vec, sigma2_vec)\n",
    "    \n",
    "    # Mstep\n",
    "    # 混合割合, 平均, 分散の更新\n",
    "    lambda_vec, mu_vec, sigma2_vec = MStep(k_size, responsibility, y)\n",
    "    \n",
    "    if i % 100 == 0:\n",
    "        print(\"i:\", i, \"lambda\", lambda_vec.round(4), \"mu\", mu_vec.round(4), \"sigma2\", sigma2_vec.round(4))\n",
    "        plt.plot(x, calc_mix_pdf(k_size, x, lambda_vec, mu_vec, sigma2_vec), label=f\"i:{i}\", linestyle=\"--\")\n",
    "        \n",
    "plt.plot(x, calc_mix_pdf(k_size, x, lambda_vec, mu_vec, sigma2_vec), label=f\"last{i}\", linestyle=\"-\")\n",
    "\n",
    "plt.legend()\n",
    "plt.tight_layout()\n",
    "plt.show()"
   ]
  },
  {
   "cell_type": "code",
   "execution_count": 16,
   "metadata": {},
   "outputs": [
    {
     "data": {
      "text/html": [
       "<div>\n",
       "<style scoped>\n",
       "    .dataframe tbody tr th:only-of-type {\n",
       "        vertical-align: middle;\n",
       "    }\n",
       "\n",
       "    .dataframe tbody tr th {\n",
       "        vertical-align: top;\n",
       "    }\n",
       "\n",
       "    .dataframe thead th {\n",
       "        text-align: right;\n",
       "    }\n",
       "</style>\n",
       "<table border=\"1\" class=\"dataframe\">\n",
       "  <thead>\n",
       "    <tr style=\"text-align: right;\">\n",
       "      <th></th>\n",
       "      <th>comp0</th>\n",
       "      <th>comp1</th>\n",
       "      <th>comp2</th>\n",
       "      <th>comp3</th>\n",
       "      <th>comp4</th>\n",
       "      <th>comp5</th>\n",
       "      <th>comp6</th>\n",
       "    </tr>\n",
       "  </thead>\n",
       "  <tbody>\n",
       "    <tr>\n",
       "      <th>混合比</th>\n",
       "      <td>NaN</td>\n",
       "      <td>NaN</td>\n",
       "      <td>NaN</td>\n",
       "      <td>NaN</td>\n",
       "      <td>NaN</td>\n",
       "      <td>NaN</td>\n",
       "      <td>NaN</td>\n",
       "    </tr>\n",
       "    <tr>\n",
       "      <th>mu</th>\n",
       "      <td>NaN</td>\n",
       "      <td>NaN</td>\n",
       "      <td>NaN</td>\n",
       "      <td>NaN</td>\n",
       "      <td>NaN</td>\n",
       "      <td>NaN</td>\n",
       "      <td>NaN</td>\n",
       "    </tr>\n",
       "    <tr>\n",
       "      <th>sigma</th>\n",
       "      <td>NaN</td>\n",
       "      <td>NaN</td>\n",
       "      <td>NaN</td>\n",
       "      <td>NaN</td>\n",
       "      <td>NaN</td>\n",
       "      <td>NaN</td>\n",
       "      <td>NaN</td>\n",
       "    </tr>\n",
       "  </tbody>\n",
       "</table>\n",
       "</div>"
      ],
      "text/plain": [
       "       comp0  comp1  comp2  comp3  comp4  comp5  comp6\n",
       "混合比      NaN    NaN    NaN    NaN    NaN    NaN    NaN\n",
       "mu       NaN    NaN    NaN    NaN    NaN    NaN    NaN\n",
       "sigma    NaN    NaN    NaN    NaN    NaN    NaN    NaN"
      ]
     },
     "execution_count": 16,
     "metadata": {},
     "output_type": "execute_result"
    }
   ],
   "source": [
    "res_df = pd.DataFrame([lambda_vec, mu_vec, sigma2_vec], columns=[f\"comp{i}\" for i in range(k_size)], index=[\"混合比\", \"mu\", \"sigma\"])\n",
    "res_df"
   ]
  },
  {
   "cell_type": "code",
   "execution_count": 17,
   "metadata": {},
   "outputs": [
    {
     "data": {
      "text/plain": [
       "Text(0.5, 1.0, '初感染が起きるまでの日数')"
      ]
     },
     "execution_count": 17,
     "metadata": {},
     "output_type": "execute_result"
    },
    {
     "data": {
      "image/png": "[encoded data removed]",
      "text/plain": [
       "<Figure size 360x360 with 1 Axes>"
      ]
     },
     "metadata": {
      "needs_background": "light"
     },
     "output_type": "display_data"
    }
   ],
   "source": [
    "# 推定された分布の可視化\n",
    "plt.figure(figsize=(5,5))\n",
    "plt.hist(y, density=True)\n",
    "plt.plot(x, calc_mix_pdf(k_size, x, lambda_vec, mu_vec, sigma2_vec), label=f\"last{i}\", linestyle=\"-\")\n",
    "plt.xlabel(\"day\")\n",
    "plt.ylabel(\"density\")\n",
    "plt.title(\"初感染が起きるまでの日数\")"
   ]
  },
  {
   "cell_type": "code",
   "execution_count": 18,
   "metadata": {},
   "outputs": [
    {
     "data": {
      "text/plain": [
       "nan"
      ]
     },
     "execution_count": 18,
     "metadata": {},
     "output_type": "execute_result"
    }
   ],
   "source": [
    "# 対数尤度を計算\n",
    "likelihood=0\n",
    "for i in range(k_size):\n",
    "    _norm = stats.norm(loc=mu_vec[i], scale=np.sqrt(sigma2_vec[i])).pdf(y)\n",
    "    _norm = lambda_vec[i] * _norm\n",
    "    likelihood+=_norm\n",
    "likelihood = np.sum(np.log(likelihood))\n",
    "likelihood"
   ]
  },
  {
   "cell_type": "code",
   "execution_count": 19,
   "metadata": {},
   "outputs": [
    {
     "data": {
      "text/plain": [
       "nan"
      ]
     },
     "execution_count": 19,
     "metadata": {},
     "output_type": "execute_result"
    }
   ],
   "source": [
    "likelihood"
   ]
  },
  {
   "cell_type": "code",
   "execution_count": null,
   "metadata": {},
   "outputs": [],
   "source": []
  },
  {
   "cell_type": "code",
   "execution_count": null,
   "metadata": {},
   "outputs": [],
   "source": []
  }
 ],
 "metadata": {
  "kernelspec": {
   "display_name": "Python 3",
   "language": "python",
   "name": "python3"
  },
  "language_info": {
   "codemirror_mode": {
    "name": "ipython",
    "version": 3
   },
   "file_extension": ".py",
   "mimetype": "text/x-python",
   "name": "python",
   "nbconvert_exporter": "python",
   "pygments_lexer": "ipython3",
   "version": "3.7.3"
  }
 },
 "nbformat": 4,
 "nbformat_minor": 4
}
