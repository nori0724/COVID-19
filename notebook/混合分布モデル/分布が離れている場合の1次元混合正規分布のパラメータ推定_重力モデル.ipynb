{
 "cells": [
  {
   "cell_type": "markdown",
   "metadata": {},
   "source": [
    "# 1次元の混合正規分布に対してのEMアルゴリズムを実装・描画\n",
    "- https://cartman0.hatenablog.com/entry/2019/07/01/EM%E3%82%A2%E3%83%AB%E3%82%B4%E3%83%AA%E3%82%BA%E3%83%A0%E3%81%A7%E6%B7%B7%E5%90%88%E6%AD%A3%E8%A6%8F%E5%88%86%E5%B8%83%28MoG%29%E3%81%AE%E3%83%91%E3%83%A9%E3%83%A1%E3%83%BC%E3%82%BF%E3%82%92%E5%B0%8E\n",
    "-  https://qiita.com/ta-ka/items/3e8b127620ac92a32864"
   ]
  },
  {
   "cell_type": "code",
   "execution_count": 1,
   "metadata": {},
   "outputs": [
    {
     "name": "stderr",
     "output_type": "stream",
     "text": [
      "/Users/masanoritakahashi/anaconda3/lib/python3.7/site-packages/japanize_matplotlib/__init__.py:13: MatplotlibDeprecationWarning: \n",
      "The createFontList function was deprecated in Matplotlib 3.2 and will be removed two minor releases later. Use FontManager.addfont instead.\n",
      "  font_list = font_manager.createFontList(font_files)\n"
     ]
    }
   ],
   "source": [
    "import scipy as sp\n",
    "from scipy import stats\n",
    "import matplotlib.pyplot as plt\n",
    "import numpy as np\n",
    "import warnings\n",
    "import japanize_matplotlib\n",
    "\n",
    "%matplotlib inline\n",
    "warnings.simplefilter('ignore')"
   ]
  },
  {
   "cell_type": "code",
   "execution_count": 2,
   "metadata": {},
   "outputs": [],
   "source": [
    "# E-step\n",
    "def EStep(k_size, data_x, lambda_vec, mu_vec, sigma2_vec):\n",
    "    '''\n",
    "    data_x[i]\n",
    "    lambda[k]\n",
    "    mu[k]\n",
    "    sigma[k]\n",
    "    '''\n",
    "    I = len(data_x)\n",
    "    # 中身を初期化せずに配列を作成する関数である。\n",
    "    # 2行, 1000列の配列を生成\n",
    "    responsibility = sp.empty((k_size, I))\n",
    "    \n",
    "    for k in sp.arange(k_size):\n",
    "        norm = stats.norm(loc=mu_vec[k], scale=sp.sqrt(sigma2_vec[k]))\n",
    "        #responsibility[k] =  norm.pdf(data_x)\n",
    "        responsibility[k] = lambda_vec[k] * norm.pdf(data_x)\n",
    "\n",
    "    responsibility = responsibility / sp.sum(responsibility, axis=0)\n",
    "    return responsibility\n",
    "\n",
    "def MStep(k_size, responsibility, data_x):\n",
    "\n",
    "    lambda_vec = sp.empty(k_size)\n",
    "    mu_vec = sp.empty(k_size)\n",
    "    sigma2_vec = sp.empty(k_size)\n",
    "\n",
    "    for k in sp.arange(k_size):\n",
    "        r_k = responsibility[k]\n",
    "        #lambda_vec[k] = sp.sum(r_k) / sp.sum(responsibility)\n",
    "        lambda_vec[k] = sp.sum(r_k) / responsibility.shape[1]\n",
    "        #mu_vec[k] = sp.sum(r_k * data_x) / sp.sum(r_k)\n",
    "        mu_vec[k] = sp.sum(r_k * data_x) / sp.sum(r_k)\n",
    "        sigma2_vec[k] = sp.sum(r_k * (data_x - mu_vec[k])**2) / sp.sum(r_k)\n",
    "\n",
    "    return lambda_vec, mu_vec, sigma2_vec"
   ]
  },
  {
   "cell_type": "code",
   "execution_count": 3,
   "metadata": {},
   "outputs": [],
   "source": [
    "def calc_mix_pdf(k_size, x, lambda_vec, mu_vec, sigma2_vec):\n",
    "    pdf = sp.zeros_like(x)\n",
    "\n",
    "    for k in sp.arange(k_size):\n",
    "        norm_k = stats.norm(loc=mu_vec[k], scale=sp.sqrt(sigma2_vec[k]))\n",
    "        \n",
    "        # pdf (Probability density function) 確率密度関数\n",
    "        # xのときの値を取得\n",
    "        pdf += lambda_vec[k] * norm_k.pdf(x)\n",
    "    return pdf"
   ]
  },
  {
   "cell_type": "markdown",
   "metadata": {},
   "source": [
    "# データの生成  \n",
    "- f1：平均20, 分散30, データ数15      \n",
    "- f2：平均90, 分散100, データ数125    \n",
    "- f1とf2の割合は15:135  \n",
    "  \n",
    "- Covid-19初期感染と似ているデータを想定"
   ]
  },
  {
   "cell_type": "code",
   "execution_count": 4,
   "metadata": {},
   "outputs": [
    {
     "data": {
      "text/plain": [
       "array([ 14.05375629,  25.46268599,  21.54993707,  11.74968407,\n",
       "        16.8308759 ,  29.04529044,   6.70853039,  17.65074878,\n",
       "        26.93381845,  15.2526673 ,  16.28158741,  19.48125761,\n",
       "        28.1686774 ,  16.50058964,  17.56821066,  85.24192017,\n",
       "       114.16475333, 113.95504139, 100.99885938,  94.23046004,\n",
       "        98.07746804, 106.33015118,  79.7484536 , 102.88056183,\n",
       "        76.26442548,  83.01378232,  99.93683956,  74.34958706,\n",
       "        88.46562405,  80.55994809,  87.19983009,  59.34299236,\n",
       "        70.59382715,  82.33322902, 100.1598419 ,  88.09791639,\n",
       "        90.03117545,  97.53910207,  80.3651621 ,  93.10698166,\n",
       "        81.17765182,  71.07432892,  85.7179073 ,  96.28572829,\n",
       "        93.70905722,  89.87040343, 116.20704844,  94.52322609,\n",
       "       100.72151577, 114.51763187,  75.82400554,  78.6206453 ,\n",
       "       109.10141039,  81.25766075,  90.3251635 , 101.71376955,\n",
       "        99.75719965, 109.22381495, 106.38396064, 101.71460976,\n",
       "        81.53540014,  98.70728427,  93.44267721,  75.47148981,\n",
       "       105.52573317,  98.84283318,  90.49831887,  87.4466044 ,\n",
       "        76.87326865,  92.18567672,  95.13149345,  80.89515333,\n",
       "       102.73130748,  77.98074283,  66.74260093, 101.38963963,\n",
       "        85.58134644,  88.61941506,  80.82546397,  72.40755939,\n",
       "       103.7504365 ,  82.45381837, 108.19482289,  98.84361809,\n",
       "        86.55199726,  78.10453519,  81.97628095,  76.71747459,\n",
       "       112.86318134,  91.80136342, 102.59987043,  76.11685389,\n",
       "        91.98314048, 102.90283107,  86.33014097, 101.29529297,\n",
       "        78.11915379,  75.06391757,  94.15612547,  85.84633027,\n",
       "        97.03335673,  68.33332327,  97.80246816, 118.46299344,\n",
       "        89.73023589,  90.37400828,  91.96686606,  69.60307803,\n",
       "        94.66820255,  72.41361738,  85.31500473, 103.61495377,\n",
       "        81.94610177,  95.49090757, 101.09400049,  93.05345309,\n",
       "        74.98201196,  86.35791584, 111.46427583,  67.81673511,\n",
       "        86.97891558,  83.9519591 ,  91.32272109,  98.19629143,\n",
       "       107.62232662,  87.03975246,  98.89875342,  95.474379  ,\n",
       "        95.1962143 ,  83.82252284,  79.07489069,  77.94963146,\n",
       "        81.71364554,  93.52389988,  98.33578295,  93.54342369,\n",
       "        83.98649822, 109.78341135, 106.63833928,  86.12212306,\n",
       "        80.97976089,  91.42643335, 103.8825611 ,  93.64525769,\n",
       "        96.0966856 ,  87.67677866,  94.99819723, 106.91963674,\n",
       "        87.37456004,  91.56985756])"
      ]
     },
     "execution_count": 4,
     "metadata": {},
     "output_type": "execute_result"
    }
   ],
   "source": [
    "# 乱数seedの固定\n",
    "np.random.seed(seed=123)\n",
    "\n",
    "# 平均20, 分散30\n",
    "N1 = stats.norm(loc=20, scale=sp.sqrt(30))\n",
    "# 平均90, 分散120\n",
    "N2 = stats.norm(loc=90, scale=sp.sqrt(120))\n",
    "\n",
    "# rvs (Random variates) 確率変数\n",
    "s1 = N1.rvs(size=15)\n",
    "s2 = N2.rvs(size=135)\n",
    "\n",
    "# データの連結\n",
    "data_x = sp.hstack((s1, s2))\n",
    "data_x"
   ]
  },
  {
   "cell_type": "code",
   "execution_count": 5,
   "metadata": {},
   "outputs": [
    {
     "data": {
      "text/plain": [
       "(array([0.00178964, 0.00357928, 0.01073783, 0.00357928, 0.        ,\n",
       "        0.00715855, 0.        , 0.        , 0.        , 0.        ,\n",
       "        0.        , 0.        , 0.        , 0.        , 0.00178964,\n",
       "        0.        , 0.00715855, 0.00715855, 0.01610674, 0.02326529,\n",
       "        0.01968601, 0.03221348, 0.02326529, 0.03042384, 0.02147565,\n",
       "        0.02326529, 0.0143171 , 0.00894819, 0.00894819, 0.00357928]),\n",
       " array([  6.70853039,  10.43367915,  14.15882792,  17.88397669,\n",
       "         21.60912546,  25.33427423,  29.059423  ,  32.78457177,\n",
       "         36.50972053,  40.2348693 ,  43.96001807,  47.68516684,\n",
       "         51.41031561,  55.13546438,  58.86061315,  62.58576192,\n",
       "         66.31091068,  70.03605945,  73.76120822,  77.48635699,\n",
       "         81.21150576,  84.93665453,  88.6618033 ,  92.38695206,\n",
       "         96.11210083,  99.8372496 , 103.56239837, 107.28754714,\n",
       "        111.01269591, 114.73784468, 118.46299344]),\n",
       " <a list of 30 Patch objects>)"
      ]
     },
     "execution_count": 5,
     "metadata": {},
     "output_type": "execute_result"
    },
    {
     "data": {
      "image/png": "[encoded data removed]",
      "text/plain": [
       "<Figure size 432x288 with 1 Axes>"
      ]
     },
     "metadata": {
      "needs_background": "light"
     },
     "output_type": "display_data"
    }
   ],
   "source": [
    "plt.hist(data_x, bins=30, density=True)"
   ]
  },
  {
   "cell_type": "markdown",
   "metadata": {},
   "source": [
    "## 初期値の設定  \n",
    "- データをランダムに2分割  \n",
    "- それぞれの平均値を初期値に用いる\n",
    "- 分散は全体の標本分散を用いる  \n",
    "  \n",
    "## 参考\n",
    "- 入門　パターン認識と機械学習(https://www.coronasha.co.jp/np/isbn/9784339024791/)\n"
   ]
  },
  {
   "cell_type": "code",
   "execution_count": 6,
   "metadata": {},
   "outputs": [],
   "source": [
    "# データをランダムに2分割\n",
    "random_x = np.split(data_x, 2)\n",
    "random_x1 = random_x[0]\n",
    "random_x2 = random_x[1]"
   ]
  },
  {
   "cell_type": "code",
   "execution_count": 7,
   "metadata": {},
   "outputs": [
    {
     "name": "stdout",
     "output_type": "stream",
     "text": [
      "mu1の初期値 76.69284766280447\n",
      "sigma1の初期値 1022.1256507104317\n",
      "mu2の初期値 90.79684441086874\n",
      "sigma2の初期値 173.86155205919823\n"
     ]
    }
   ],
   "source": [
    "mu1_first = np.mean(random_x1)\n",
    "sigma1_first = np.sum((random_x1 - np.mean(data_x))**2)/random_x1.shape[0]\n",
    "#sigma1_first = np.var(random_x1)\n",
    "print(\"mu1の初期値\", mu1_first)\n",
    "print(\"sigma1の初期値\", sigma1_first)\n",
    "\n",
    "mu2_first = np.mean(random_x2)\n",
    "sigma2_first = np.sum((random_x2 - np.mean(data_x))**2)/random_x2.shape[0]\n",
    "#sigma2_first = np.var(random_x2)\n",
    "print(\"mu2の初期値\", mu2_first)\n",
    "print(\"sigma2の初期値\", sigma2_first)"
   ]
  },
  {
   "cell_type": "code",
   "execution_count": 8,
   "metadata": {},
   "outputs": [
    {
     "data": {
      "text/plain": [
       "[<matplotlib.lines.Line2D at 0x7fee57a48f98>]"
      ]
     },
     "execution_count": 8,
     "metadata": {},
     "output_type": "execute_result"
    },
    {
     "data": {
      "image/png": "[encoded data removed]",
      "text/plain": [
       "<Figure size 432x288 with 1 Axes>"
      ]
     },
     "metadata": {
      "needs_background": "light"
     },
     "output_type": "display_data"
    }
   ],
   "source": [
    "# 混合正規分布の数\n",
    "k_size = 2\n",
    "\n",
    "# 正規分布の割合\n",
    "lambda_vec=[0.5, 0.5]\n",
    "\n",
    "# 平均(mu)の初期値\n",
    "mu_vec=[mu1_first, mu2_first]\n",
    "# 分散(sigma)の初期値\n",
    "sigma2_vec=[sigma1_first, sigma2_first]\n",
    "\n",
    "# データ(-6から6までを200こ)\n",
    "x = sp.linspace(np.min(random_x), np.max(random_x), 10000)\n",
    "plt.plot(x, calc_mix_pdf(k_size, x, lambda_vec, mu_vec, sigma2_vec), label=\"ini\")\n"
   ]
  },
  {
   "cell_type": "code",
   "execution_count": 9,
   "metadata": {},
   "outputs": [
    {
     "name": "stdout",
     "output_type": "stream",
     "text": [
      "i: 0 lambda [0.4122 0.5878] mu [72.5622 91.5862] sigma2 [1074.0125  115.0353]\n",
      "i: 10 lambda [0.1148 0.8852] mu [25.615  91.2848] sigma2 [352.6828 134.6659]\n",
      "i: 20 lambda [0.1 0.9] mu [18.8825 90.9517] sigma2 [ 37.3718 140.889 ]\n",
      "i: 30 lambda [0.1 0.9] mu [18.8825 90.9517] sigma2 [ 37.3718 140.889 ]\n",
      "i: 40 lambda [0.1 0.9] mu [18.8825 90.9517] sigma2 [ 37.3718 140.889 ]\n",
      "i: 50 lambda [0.1 0.9] mu [18.8825 90.9517] sigma2 [ 37.3718 140.889 ]\n",
      "i: 60 lambda [0.1 0.9] mu [18.8825 90.9517] sigma2 [ 37.3718 140.889 ]\n",
      "i: 70 lambda [0.1 0.9] mu [18.8825 90.9517] sigma2 [ 37.3718 140.889 ]\n"
     ]
    },
    {
     "data": {
      "image/png": "[encoded data removed]",
      "text/plain": [
       "<Figure size 432x288 with 1 Axes>"
      ]
     },
     "metadata": {
      "needs_background": "light"
     },
     "output_type": "display_data"
    }
   ],
   "source": [
    "# 70回繰り返す\n",
    "for i in sp.arange(70+1):\n",
    "    # Estep\n",
    "    # responsibilityの更新 \n",
    "    responsibility = EStep(k_size, data_x, lambda_vec, mu_vec, sigma2_vec)\n",
    "    \n",
    "    # Mstep\n",
    "    # 混合割合, 平均, 分散の更新\n",
    "    lambda_vec, mu_vec, sigma2_vec = MStep(k_size, responsibility, data_x)\n",
    "    \n",
    "    if i % 10 == 0:\n",
    "        print(\"i:\", i, \"lambda\", lambda_vec.round(4), \"mu\", mu_vec.round(4), \"sigma2\", sigma2_vec.round(4))\n",
    "        plt.plot(x, calc_mix_pdf(k_size, x, lambda_vec, mu_vec, sigma2_vec), label=f\"i:{i}\", linestyle=\"--\")\n",
    "        \n",
    "plt.plot(x, calc_mix_pdf(k_size, x, lambda_vec, mu_vec, sigma2_vec), label=f\"last{i}\", linestyle=\"-\")\n",
    "\n",
    "plt.legend()\n",
    "plt.tight_layout()\n",
    "plt.show()"
   ]
  },
  {
   "cell_type": "code",
   "execution_count": 10,
   "metadata": {},
   "outputs": [
    {
     "data": {
      "text/plain": [
       "2"
      ]
     },
     "execution_count": 10,
     "metadata": {},
     "output_type": "execute_result"
    }
   ],
   "source": [
    "k_size"
   ]
  },
  {
   "cell_type": "code",
   "execution_count": 11,
   "metadata": {},
   "outputs": [
    {
     "name": "stdout",
     "output_type": "stream",
     "text": [
      "f1の混合比率 0.09999971368035912\n",
      "mu1 18.882527580815932\n",
      "sigma1 37.37176505617904\n"
     ]
    }
   ],
   "source": [
    "print(\"f1の混合比率\", lambda_vec[0])\n",
    "print(\"mu1\", mu_vec[0])\n",
    "print(\"sigma1\", sigma2_vec[0])"
   ]
  },
  {
   "cell_type": "code",
   "execution_count": 12,
   "metadata": {},
   "outputs": [
    {
     "name": "stdout",
     "output_type": "stream",
     "text": [
      "f2の混合比率 0.9000002863196408\n",
      "mu2 90.95174738213542\n",
      "sigma2 140.88896122255008\n"
     ]
    }
   ],
   "source": [
    "print(\"f2の混合比率\", lambda_vec[1])\n",
    "print(\"mu2\", mu_vec[1])\n",
    "print(\"sigma2\", sigma2_vec[1])"
   ]
  },
  {
   "cell_type": "markdown",
   "metadata": {},
   "source": [
    "# 真の値\n",
    "\n",
    "- f1：平均20, 分散30, データ数15\n",
    "- f2：平均90, 分散100, データ数125"
   ]
  },
  {
   "cell_type": "code",
   "execution_count": 13,
   "metadata": {},
   "outputs": [
    {
     "data": {
      "text/plain": [
       "[<matplotlib.lines.Line2D at 0x7fee57a67ba8>]"
      ]
     },
     "execution_count": 13,
     "metadata": {},
     "output_type": "execute_result"
    },
    {
     "data": {
      "image/png": "[encoded data removed]",
      "text/plain": [
       "<Figure size 432x288 with 1 Axes>"
      ]
     },
     "metadata": {
      "needs_background": "light"
     },
     "output_type": "display_data"
    }
   ],
   "source": [
    "# 推定された分布の可視化\n",
    "plt.hist(data_x, bins=30, density=True)\n",
    "plt.plot(x, calc_mix_pdf(k_size, x, lambda_vec, mu_vec, sigma2_vec), label=f\"last{i}\", linestyle=\"-\")"
   ]
  },
  {
   "cell_type": "code",
   "execution_count": 14,
   "metadata": {},
   "outputs": [
    {
     "data": {
      "text/plain": [
       "(array([0.00178964, 0.00357928, 0.01073783, 0.00357928, 0.        ,\n",
       "        0.00715855, 0.        , 0.        , 0.        , 0.        ,\n",
       "        0.        , 0.        , 0.        , 0.        , 0.00178964,\n",
       "        0.        , 0.00715855, 0.00715855, 0.01610674, 0.02326529,\n",
       "        0.01968601, 0.03221348, 0.02326529, 0.03042384, 0.02147565,\n",
       "        0.02326529, 0.0143171 , 0.00894819, 0.00894819, 0.00357928]),\n",
       " array([  6.70853039,  10.43367915,  14.15882792,  17.88397669,\n",
       "         21.60912546,  25.33427423,  29.059423  ,  32.78457177,\n",
       "         36.50972053,  40.2348693 ,  43.96001807,  47.68516684,\n",
       "         51.41031561,  55.13546438,  58.86061315,  62.58576192,\n",
       "         66.31091068,  70.03605945,  73.76120822,  77.48635699,\n",
       "         81.21150576,  84.93665453,  88.6618033 ,  92.38695206,\n",
       "         96.11210083,  99.8372496 , 103.56239837, 107.28754714,\n",
       "        111.01269591, 114.73784468, 118.46299344]),\n",
       " <a list of 30 Patch objects>)"
      ]
     },
     "execution_count": 14,
     "metadata": {},
     "output_type": "execute_result"
    },
    {
     "data": {
      "image/png": "[encoded data removed]",
      "text/plain": [
       "<Figure size 432x288 with 1 Axes>"
      ]
     },
     "metadata": {
      "needs_background": "light"
     },
     "output_type": "display_data"
    }
   ],
   "source": [
    "new_N1 = stats.norm(loc=mu_vec[0], scale=sp.sqrt(sigma2_vec[0]))\n",
    "new_N2 = stats.norm(loc=mu_vec[1], scale=sp.sqrt(sigma2_vec[1]))\n",
    "\n",
    "# rvs (Random variates) 確率変数\n",
    "new_s1 = new_N1.rvs(size=int(lambda_vec[0]*150))\n",
    "new_s2 = new_N2.rvs(size=int(lambda_vec[1]*150))\n",
    "\n",
    "\n",
    "plt.hist(data_x, bins=30, density=True)"
   ]
  },
  {
   "cell_type": "code",
   "execution_count": 15,
   "metadata": {},
   "outputs": [
    {
     "data": {
      "text/plain": [
       "(array([ 1.,  2., 10., 19., 33., 38., 19.,  9.,  3.,  1.]),\n",
       " array([ 52.60020493,  59.94714864,  67.29409235,  74.64103606,\n",
       "         81.98797977,  89.33492348,  96.68186719, 104.0288109 ,\n",
       "        111.37575461, 118.72269832, 126.06964203]),\n",
       " <a list of 10 Patch objects>)"
      ]
     },
     "execution_count": 15,
     "metadata": {},
     "output_type": "execute_result"
    },
    {
     "data": {
      "image/png": "[encoded data removed]",
      "text/plain": [
       "<Figure size 432x288 with 1 Axes>"
      ]
     },
     "metadata": {
      "needs_background": "light"
     },
     "output_type": "display_data"
    }
   ],
   "source": [
    "plt.hist(new_s1)\n",
    "plt.hist(new_s2)"
   ]
  },
  {
   "cell_type": "markdown",
   "metadata": {},
   "source": [
    "# ✅実データでシミュレーション"
   ]
  },
  {
   "cell_type": "code",
   "execution_count": 26,
   "metadata": {},
   "outputs": [],
   "source": [
    "import pandas as pd\n",
    "\n",
    "# 乱数seedの固定\n",
    "np.random.seed(seed=123)\n",
    "\n",
    "df = pd.read_excel(\"../../data/data_covid_fix_name.xlsx\")\n",
    "df = df.dropna().reset_index(drop=True)"
   ]
  },
  {
   "cell_type": "code",
   "execution_count": 27,
   "metadata": {},
   "outputs": [
    {
     "data": {
      "text/html": [
       "<div>\n",
       "<style scoped>\n",
       "    .dataframe tbody tr th:only-of-type {\n",
       "        vertical-align: middle;\n",
       "    }\n",
       "\n",
       "    .dataframe tbody tr th {\n",
       "        vertical-align: top;\n",
       "    }\n",
       "\n",
       "    .dataframe thead th {\n",
       "        text-align: right;\n",
       "    }\n",
       "</style>\n",
       "<table border=\"1\" class=\"dataframe\">\n",
       "  <thead>\n",
       "    <tr style=\"text-align: right;\">\n",
       "      <th></th>\n",
       "      <th>country</th>\n",
       "      <th>pop</th>\n",
       "      <th>urb</th>\n",
       "      <th>gdp</th>\n",
       "      <th>dist</th>\n",
       "      <th>hf</th>\n",
       "      <th>pf</th>\n",
       "      <th>ef</th>\n",
       "      <th>date_first</th>\n",
       "      <th>detection</th>\n",
       "      <th>status</th>\n",
       "      <th>cumul</th>\n",
       "      <th>air</th>\n",
       "    </tr>\n",
       "  </thead>\n",
       "  <tbody>\n",
       "    <tr>\n",
       "      <th>0</th>\n",
       "      <td>Albania</td>\n",
       "      <td>2866376</td>\n",
       "      <td>60.319</td>\n",
       "      <td>13364.155397</td>\n",
       "      <td>6.996524e+06</td>\n",
       "      <td>7.84</td>\n",
       "      <td>8.005411</td>\n",
       "      <td>7.67</td>\n",
       "      <td>70</td>\n",
       "      <td>74.3</td>\n",
       "      <td>1</td>\n",
       "      <td>108641</td>\n",
       "      <td>303.14</td>\n",
       "    </tr>\n",
       "    <tr>\n",
       "      <th>1</th>\n",
       "      <td>Algeria</td>\n",
       "      <td>42228429</td>\n",
       "      <td>72.629</td>\n",
       "      <td>15481.787620</td>\n",
       "      <td>9.108277e+06</td>\n",
       "      <td>4.99</td>\n",
       "      <td>5.201489</td>\n",
       "      <td>4.77</td>\n",
       "      <td>58</td>\n",
       "      <td>12.0</td>\n",
       "      <td>1</td>\n",
       "      <td>80272</td>\n",
       "      <td>6442.44</td>\n",
       "    </tr>\n",
       "    <tr>\n",
       "      <th>2</th>\n",
       "      <td>Angola</td>\n",
       "      <td>30809762</td>\n",
       "      <td>65.514</td>\n",
       "      <td>6452.355165</td>\n",
       "      <td>1.049012e+07</td>\n",
       "      <td>5.40</td>\n",
       "      <td>5.979936</td>\n",
       "      <td>4.83</td>\n",
       "      <td>83</td>\n",
       "      <td>17.9</td>\n",
       "      <td>1</td>\n",
       "      <td>303691</td>\n",
       "      <td>76.94</td>\n",
       "    </tr>\n",
       "    <tr>\n",
       "      <th>3</th>\n",
       "      <td>Argentina</td>\n",
       "      <td>44494502</td>\n",
       "      <td>91.870</td>\n",
       "      <td>20610.568550</td>\n",
       "      <td>1.902562e+07</td>\n",
       "      <td>6.86</td>\n",
       "      <td>8.044600</td>\n",
       "      <td>5.67</td>\n",
       "      <td>65</td>\n",
       "      <td>74.9</td>\n",
       "      <td>1</td>\n",
       "      <td>92122</td>\n",
       "      <td>1516.63</td>\n",
       "    </tr>\n",
       "    <tr>\n",
       "      <th>4</th>\n",
       "      <td>Australia</td>\n",
       "      <td>24992369</td>\n",
       "      <td>86.012</td>\n",
       "      <td>51663.365095</td>\n",
       "      <td>7.608913e+06</td>\n",
       "      <td>8.62</td>\n",
       "      <td>9.160533</td>\n",
       "      <td>8.07</td>\n",
       "      <td>26</td>\n",
       "      <td>97.3</td>\n",
       "      <td>1</td>\n",
       "      <td>1347</td>\n",
       "      <td>75667.65</td>\n",
       "    </tr>\n",
       "  </tbody>\n",
       "</table>\n",
       "</div>"
      ],
      "text/plain": [
       "     country       pop     urb           gdp          dist    hf        pf  \\\n",
       "0    Albania   2866376  60.319  13364.155397  6.996524e+06  7.84  8.005411   \n",
       "1    Algeria  42228429  72.629  15481.787620  9.108277e+06  4.99  5.201489   \n",
       "2     Angola  30809762  65.514   6452.355165  1.049012e+07  5.40  5.979936   \n",
       "3  Argentina  44494502  91.870  20610.568550  1.902562e+07  6.86  8.044600   \n",
       "4  Australia  24992369  86.012  51663.365095  7.608913e+06  8.62  9.160533   \n",
       "\n",
       "     ef  date_first  detection  status   cumul       air  \n",
       "0  7.67          70       74.3       1  108641    303.14  \n",
       "1  4.77          58       12.0       1   80272   6442.44  \n",
       "2  4.83          83       17.9       1  303691     76.94  \n",
       "3  5.67          65       74.9       1   92122   1516.63  \n",
       "4  8.07          26       97.3       1    1347  75667.65  "
      ]
     },
     "execution_count": 27,
     "metadata": {},
     "output_type": "execute_result"
    }
   ],
   "source": [
    "df.head()"
   ]
  },
  {
   "cell_type": "code",
   "execution_count": 28,
   "metadata": {},
   "outputs": [],
   "source": [
    "y = np.log(df[\"date_first\"])"
   ]
  },
  {
   "cell_type": "code",
   "execution_count": 29,
   "metadata": {},
   "outputs": [
    {
     "data": {
      "text/plain": [
       "Text(0.5, 1.0, '初感染が起きるまでの日数')"
      ]
     },
     "execution_count": 29,
     "metadata": {},
     "output_type": "execute_result"
    },
    {
     "data": {
      "image/png": "[encoded data removed]",
      "text/plain": [
       "<Figure size 432x288 with 1 Axes>"
      ]
     },
     "metadata": {
      "needs_background": "light"
     },
     "output_type": "display_data"
    }
   ],
   "source": [
    "plt.hist(y, bins=20, density=True)\n",
    "plt.xlabel(\"day\")\n",
    "plt.ylabel(\"density\")\n",
    "plt.title(\"初感染が起きるまでの日数\")"
   ]
  },
  {
   "cell_type": "markdown",
   "metadata": {},
   "source": [
    "## 初期値の設定"
   ]
  },
  {
   "cell_type": "code",
   "execution_count": 30,
   "metadata": {},
   "outputs": [],
   "source": [
    "# データをランダムに2分割\n",
    "random_x1 =y[df[\"date_first\"]<40].values\n",
    "random_x2 = y[df[\"date_first\"]>40].values"
   ]
  },
  {
   "cell_type": "code",
   "execution_count": 31,
   "metadata": {},
   "outputs": [
    {
     "name": "stdout",
     "output_type": "stream",
     "text": [
      "mu1の初期値 3.2850976126670446\n",
      "sigma1の初期値 0.04869854262378894\n",
      "mu2の初期値 4.243030967899744\n",
      "sigma2の初期値 0.02008660507041202\n"
     ]
    }
   ],
   "source": [
    "mu1_first = np.mean(random_x1)\n",
    "sigma1_first = np.sum((random_x1 - np.mean(random_x1))**2)/random_x1.shape[0]\n",
    "#sigma1_first = np.var(random_x1)\n",
    "print(\"mu1の初期値\", mu1_first)\n",
    "print(\"sigma1の初期値\", sigma1_first)\n",
    "\n",
    "mu2_first = np.mean(random_x2)\n",
    "sigma2_first = np.sum((random_x2 - np.mean(random_x2))**2)/random_x2.shape[0]\n",
    "#sigma2_first = np.var(random_x2)\n",
    "print(\"mu2の初期値\", mu2_first)\n",
    "print(\"sigma2の初期値\", sigma2_first)"
   ]
  },
  {
   "cell_type": "code",
   "execution_count": 32,
   "metadata": {},
   "outputs": [
    {
     "data": {
      "text/plain": [
       "[<matplotlib.lines.Line2D at 0x7fee5c47f2b0>]"
      ]
     },
     "execution_count": 32,
     "metadata": {},
     "output_type": "execute_result"
    },
    {
     "data": {
      "image/png": "[encoded data removed]",
      "text/plain": [
       "<Figure size 432x288 with 1 Axes>"
      ]
     },
     "metadata": {
      "needs_background": "light"
     },
     "output_type": "display_data"
    }
   ],
   "source": [
    "# 混合正規分布の数\n",
    "k_size = 2\n",
    "\n",
    "# 正規分布の割合\n",
    "lambda_vec=[len(random_x1)/len(y), len(random_x2)/len(y)]\n",
    "#lambda_vec=[0.5, 0.5]\n",
    "\n",
    "# 平均(mu)の初期値\n",
    "mu_vec=[mu1_first, mu2_first]\n",
    "# 分散(sigma)の初期値\n",
    "sigma2_vec=[sigma1_first, sigma2_first]\n",
    "\n",
    "# データ(-6から6までを200こ)\n",
    "x = sp.linspace(np.min(y), np.max(y), 200)\n",
    "plt.plot(x, calc_mix_pdf(k_size, x, lambda_vec, mu_vec, sigma2_vec), label=\"ini\")"
   ]
  },
  {
   "cell_type": "code",
   "execution_count": 33,
   "metadata": {},
   "outputs": [
    {
     "name": "stdout",
     "output_type": "stream",
     "text": [
      "i: 0 lambda [0.1547 0.8453] mu [3.2902 4.2436] sigma2 [0.0513 0.0199]\n",
      "i: 10 lambda [0.1551 0.8449] mu [3.292  4.2438] sigma2 [0.0523 0.0198]\n",
      "i: 20 lambda [0.1551 0.8449] mu [3.292  4.2438] sigma2 [0.0523 0.0198]\n",
      "i: 30 lambda [0.1551 0.8449] mu [3.292  4.2438] sigma2 [0.0523 0.0198]\n",
      "i: 40 lambda [0.1551 0.8449] mu [3.292  4.2438] sigma2 [0.0523 0.0198]\n",
      "i: 50 lambda [0.1551 0.8449] mu [3.292  4.2438] sigma2 [0.0523 0.0198]\n",
      "i: 60 lambda [0.1551 0.8449] mu [3.292  4.2438] sigma2 [0.0523 0.0198]\n",
      "i: 70 lambda [0.1551 0.8449] mu [3.292  4.2438] sigma2 [0.0523 0.0198]\n",
      "i: 80 lambda [0.1551 0.8449] mu [3.292  4.2438] sigma2 [0.0523 0.0198]\n",
      "i: 90 lambda [0.1551 0.8449] mu [3.292  4.2438] sigma2 [0.0523 0.0198]\n",
      "i: 100 lambda [0.1551 0.8449] mu [3.292  4.2438] sigma2 [0.0523 0.0198]\n"
     ]
    },
    {
     "data": {
      "image/png": "[encoded data removed]",
      "text/plain": [
       "<Figure size 432x288 with 1 Axes>"
      ]
     },
     "metadata": {
      "needs_background": "light"
     },
     "output_type": "display_data"
    }
   ],
   "source": [
    "# 30回繰り返す\n",
    "for i in sp.arange(100+1):\n",
    "    # Estep\n",
    "    # responsibilityの更新 \n",
    "    responsibility = EStep(k_size, y, lambda_vec, mu_vec, sigma2_vec)\n",
    "    \n",
    "    # Mstep\n",
    "    # 混合割合, 平均, 分散の更新\n",
    "    lambda_vec, mu_vec, sigma2_vec = MStep(k_size, responsibility, y)\n",
    "    \n",
    "    if i % 10 == 0:\n",
    "        print(\"i:\", i, \"lambda\", lambda_vec.round(4), \"mu\", mu_vec.round(4), \"sigma2\", sigma2_vec.round(4))\n",
    "        plt.plot(x, calc_mix_pdf(k_size, x, lambda_vec, mu_vec, sigma2_vec), label=f\"i:{i}\", linestyle=\"--\")\n",
    "        \n",
    "plt.plot(x, calc_mix_pdf(k_size, x, lambda_vec, mu_vec, sigma2_vec), label=f\"last{i}\", linestyle=\"-\")\n",
    "\n",
    "plt.legend()\n",
    "plt.tight_layout()\n",
    "plt.show()"
   ]
  },
  {
   "cell_type": "markdown",
   "metadata": {},
   "source": [
    "## 推定結果"
   ]
  },
  {
   "cell_type": "code",
   "execution_count": 34,
   "metadata": {},
   "outputs": [
    {
     "name": "stdout",
     "output_type": "stream",
     "text": [
      "f1の混合比率 0.1551382718721526\n",
      "mu1 3.292029129879307\n",
      "sigma1 0.05226974741036277\n"
     ]
    }
   ],
   "source": [
    "print(\"f1の混合比率\", lambda_vec[0])\n",
    "print(\"mu1\", mu_vec[0])\n",
    "print(\"sigma1\", sigma2_vec[0])"
   ]
  },
  {
   "cell_type": "code",
   "execution_count": 35,
   "metadata": {},
   "outputs": [
    {
     "name": "stdout",
     "output_type": "stream",
     "text": [
      "f2の混合比率 0.8448617281278474\n",
      "mu2 4.243804665188847\n",
      "sigma2 0.019838404730328295\n"
     ]
    }
   ],
   "source": [
    "print(\"f2の混合比率\", lambda_vec[1])\n",
    "print(\"mu2\", mu_vec[1])\n",
    "print(\"sigma2\", sigma2_vec[1])"
   ]
  },
  {
   "cell_type": "code",
   "execution_count": 36,
   "metadata": {},
   "outputs": [
    {
     "data": {
      "text/plain": [
       "Text(0.5, 1.0, '初感染が起きるまでの日数')"
      ]
     },
     "execution_count": 36,
     "metadata": {},
     "output_type": "execute_result"
    },
    {
     "data": {
      "image/png": "[encoded data removed]",
      "text/plain": [
       "<Figure size 432x288 with 1 Axes>"
      ]
     },
     "metadata": {
      "needs_background": "light"
     },
     "output_type": "display_data"
    }
   ],
   "source": [
    "# 推定された分布の可視化\n",
    "plt.hist(y, bins=20, density=True)\n",
    "plt.plot(x, calc_mix_pdf(k_size, x, lambda_vec, mu_vec, sigma2_vec), label=f\"last{i}\", linestyle=\"-\")\n",
    "plt.xlabel(\"day\")\n",
    "plt.ylabel(\"density\")\n",
    "plt.title(\"初感染が起きるまでの日数\")"
   ]
  },
  {
   "cell_type": "code",
   "execution_count": 40,
   "metadata": {},
   "outputs": [
    {
     "data": {
      "text/plain": [
       "Text(0.5, 1.0, '推定された分布の可視化')"
      ]
     },
     "execution_count": 40,
     "metadata": {},
     "output_type": "execute_result"
    },
    {
     "data": {
      "image/png": "[encoded data removed]",
      "text/plain": [
       "<Figure size 432x288 with 1 Axes>"
      ]
     },
     "metadata": {
      "needs_background": "light"
     },
     "output_type": "display_data"
    }
   ],
   "source": [
    "new_N1 = stats.norm.pdf(x, loc=mu_vec[0], scale=sp.sqrt(sigma2_vec[0]))\n",
    "new_N2 = stats.norm.pdf(x, loc=mu_vec[1], scale=sp.sqrt(sigma2_vec[1]))\n",
    "\n",
    "plt.hist(y, density=True,)\n",
    "plt.plot(x, new_N1, color=\"orange\")\n",
    "plt.plot(x, new_N2, color=\"red\")\n",
    "\n",
    "plt.title(\"推定された分布の可視化\")"
   ]
  },
  {
   "cell_type": "code",
   "execution_count": 41,
   "metadata": {},
   "outputs": [
    {
     "data": {
      "text/plain": [
       "[<matplotlib.lines.Line2D at 0x7fee5c552be0>]"
      ]
     },
     "execution_count": 41,
     "metadata": {},
     "output_type": "execute_result"
    },
    {
     "data": {
      "image/png": "[encoded data removed]",
      "text/plain": [
       "<Figure size 432x288 with 1 Axes>"
      ]
     },
     "metadata": {
      "needs_background": "light"
     },
     "output_type": "display_data"
    }
   ],
   "source": [
    "plt.plot(x, new_N2, color=\"red\")"
   ]
  },
  {
   "cell_type": "code",
   "execution_count": 42,
   "metadata": {},
   "outputs": [
    {
     "data": {
      "text/plain": [
       "[<matplotlib.lines.Line2D at 0x7fee5c1344a8>]"
      ]
     },
     "execution_count": 42,
     "metadata": {},
     "output_type": "execute_result"
    },
    {
     "data": {
      "image/png": "[encoded data removed]",
      "text/plain": [
       "<Figure size 432x288 with 1 Axes>"
      ]
     },
     "metadata": {
      "needs_background": "light"
     },
     "output_type": "display_data"
    }
   ],
   "source": [
    "plt.plot(x, new_N1, color=\"orange\")"
   ]
  },
  {
   "cell_type": "code",
   "execution_count": null,
   "metadata": {},
   "outputs": [],
   "source": []
  }
 ],
 "metadata": {
  "kernelspec": {
   "display_name": "Python 3",
   "language": "python",
   "name": "python3"
  },
  "language_info": {
   "codemirror_mode": {
    "name": "ipython",
    "version": 3
   },
   "file_extension": ".py",
   "mimetype": "text/x-python",
   "name": "python",
   "nbconvert_exporter": "python",
   "pygments_lexer": "ipython3",
   "version": "3.7.3"
  }
 },
 "nbformat": 4,
 "nbformat_minor": 4
}
