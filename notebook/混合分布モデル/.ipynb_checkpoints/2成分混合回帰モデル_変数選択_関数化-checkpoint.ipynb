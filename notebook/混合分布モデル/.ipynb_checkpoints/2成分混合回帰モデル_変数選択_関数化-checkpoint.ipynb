{
 "cells": [
  {
   "cell_type": "code",
   "execution_count": 106,
   "metadata": {},
   "outputs": [],
   "source": [
    "import scipy as sp\n",
    "from scipy import stats\n",
    "import matplotlib.pyplot as plt\n",
    "import numpy as np\n",
    "import pandas as pd\n",
    "from sklearn import preprocessing\n",
    "from sklearn import linear_model\n",
    "\n",
    "import japanize_matplotlib\n",
    "\n",
    "%matplotlib inline\n",
    "\n",
    "# 乱数seedの固定\n",
    "np.random.seed(seed=123)"
   ]
  },
  {
   "cell_type": "code",
   "execution_count": 107,
   "metadata": {},
   "outputs": [],
   "source": [
    "# E-step\n",
    "def EStep(k_size, y, lambda_vec, coef_vec, sigma2_vec, X):\n",
    "    '''\n",
    "    y[i]\n",
    "    lambda[k]\n",
    "    mu[k]\n",
    "    sigma[k]\n",
    "    '''\n",
    "    I = len(y)\n",
    "    # 中身を初期化せずに配列を作成する関数である。\n",
    "    # 2行, 1000列の配列を生成\n",
    "    responsibility = sp.empty((k_size, I))\n",
    "    \n",
    "    for k in sp.arange(k_size):\n",
    "        norm = stats.norm(loc=np.mean(X@coef_vec[k]), scale=sp.sqrt(sigma2_vec[k]))\n",
    "        responsibility[k] = lambda_vec[k] *norm.pdf(y)\n",
    "\n",
    "    responsibility = responsibility / sp.sum(responsibility, axis=0)\n",
    "    return responsibility\n",
    "\n",
    "def MStep(k_size, responsibility, y, X):\n",
    "\n",
    "    lambda_vec = sp.empty(k_size)\n",
    "    #mu_vec = sp.empty(k_size)\n",
    "    coef_vec = []\n",
    "    sigma2_vec = sp.empty(k_size)\n",
    "    \n",
    "\n",
    "    for k in sp.arange(k_size):\n",
    "        r_k = responsibility[k]\n",
    "        \n",
    "        #coef_vec[k] = np.linalg.inv(X.T @ np.diag(r_k) @ X) @ X.T @np.diag(r_k)@y\n",
    "        coef_vec.append(np.linalg.inv(X.T @ np.diag(r_k) @ X) @ X.T @np.diag(r_k)@y)\n",
    "        \n",
    "        #lambda_vec[k] = sp.sum(r_k) / sp.sum(responsibility)\n",
    "        lambda_vec[k] = sp.sum(r_k) / responsibility.shape[1]\n",
    "        \n",
    "        #mu_vec[k] = sp.sum(r_k * y) / sp.sum(r_k)\n",
    "        \n",
    "        sigma2_vec[k] = sp.sum(r_k * (y - np.mean(X@coef_vec[k]))**2) / sp.sum(r_k)\n",
    "        \n",
    "    #mu_vec = [np.mean(X@coef_vec[0]), np.mean(X@coef_vec[1])]\n",
    "    mu_vec = np.array([np.mean(X@coef_vec[i]) for i in range(k_size)])\n",
    "        \n",
    "\n",
    "    return lambda_vec, mu_vec, coef_vec, sigma2_vec"
   ]
  },
  {
   "cell_type": "code",
   "execution_count": 160,
   "metadata": {},
   "outputs": [],
   "source": [
    "def calc_mix_pdf(k_size, x, lambda_vec, mu_vec, sigma2_vec, X):\n",
    "    pdf = sp.zeros_like(x)\n",
    "\n",
    "    for k in sp.arange(k_size):\n",
    "        norm_k = stats.norm(loc=mu_vec[k], scale=sp.sqrt(sigma2_vec[k]))\n",
    "        \n",
    "        # pdf (Probability density function) 確率密度関数\n",
    "        # xのときの値を取得\n",
    "        pdf += lambda_vec[k] * norm_k.pdf(x)\n",
    "    return pdf"
   ]
  },
  {
   "cell_type": "markdown",
   "metadata": {},
   "source": [
    "# データの読み込み"
   ]
  },
  {
   "cell_type": "code",
   "execution_count": 161,
   "metadata": {},
   "outputs": [
    {
     "data": {
      "text/plain": [
       "Text(0.5, 1.0, '初感染が起きるまでの日数')"
      ]
     },
     "execution_count": 161,
     "metadata": {},
     "output_type": "execute_result"
    },
    {
     "data": {
      "image/png": "[encoded data removed]",
      "text/plain": [
       "<Figure size 360x360 with 1 Axes>"
      ]
     },
     "metadata": {
      "needs_background": "light"
     },
     "output_type": "display_data"
    }
   ],
   "source": [
    "import pandas as pd\n",
    "\n",
    "# 乱数seedの固定\n",
    "np.random.seed(seed=123)\n",
    "\n",
    "df = pd.read_excel(\"../../data/data_covid_fix_name.xlsx\")\n",
    "df = df.dropna().reset_index(drop=True)\n",
    "\n",
    "y = df[\"date_first\"]\n",
    "plt.figure(figsize=(5,5))\n",
    "plt.hist(y, density=True)\n",
    "plt.xlabel(\"day\")\n",
    "plt.ylabel(\"density\")\n",
    "plt.title(\"初感染が起きるまでの日数\")"
   ]
  },
  {
   "cell_type": "markdown",
   "metadata": {},
   "source": [
    "# Config"
   ]
  },
  {
   "cell_type": "code",
   "execution_count": 186,
   "metadata": {},
   "outputs": [],
   "source": [
    "FEATS = [\"hf\", \"pop\",  \"urb\", \"gdp\", \"air\", \"detection\"]\n",
    "k_size=2"
   ]
  },
  {
   "cell_type": "markdown",
   "metadata": {},
   "source": [
    "### 初期値"
   ]
  },
  {
   "cell_type": "code",
   "execution_count": 187,
   "metadata": {},
   "outputs": [],
   "source": [
    "sscaler = preprocessing.StandardScaler() # インスタンスの作成\n",
    "\n",
    "sscaler.fit(df[FEATS])    \n",
    "X = sscaler.transform(df[FEATS]) # xを変換\n",
    "\n",
    "if k_size==2:\n",
    "    y_early = df[\"date_first\"][df[\"date_first\"]<40]\n",
    "    y_late = df[\"date_first\"][df[\"date_first\"]>40]\n",
    "\n",
    "    x_early = X[df[\"date_first\"]<40]\n",
    "    x_late = X[df[\"date_first\"]>40]\n",
    "    \n",
    "    clf_early = linear_model.LinearRegression()\n",
    "    clf_early.fit(x_early, y_early)\n",
    "\n",
    "    clf_late = linear_model.LinearRegression()\n",
    "    clf_late.fit(x_late, y_late)\n",
    "    \n",
    "    # 早期感染国のβ\n",
    "    coef1_first=[clf_early.intercept_] + list(clf_early.coef_)\n",
    "    # 晩期感染国のβ\n",
    "    coef2_first=[clf_late.intercept_] + list(clf_late.coef_)\n",
    "\n",
    "\n",
    "    first_df = pd.DataFrame(coef1_first, columns=[\"早期感染国β(初期値)\"], index=[\"Intercept\"]+ FEATS)\n",
    "    first_df[\"晩期感染国β(初期値)\"] = coef2_first\n",
    "    \n",
    "    X = np.insert(X, 0, 1, axis=1)\n",
    "\n",
    "    # muの初期値の計算\n",
    "    # mu = βx\n",
    "    mu1_first = np.mean(X@coef1_first)\n",
    "    mu2_first = np.mean(X@coef2_first)\n",
    "\n",
    "    # sigmaの初期値\n",
    "    sigma1_first = np.sum((y_early - np.mean(y_early))**2)/len(y_early)\n",
    "    sigma2_first = np.sum((y_late - np.mean(y_late))**2)/len(y_late)\n",
    "\n",
    "    # 混合比率\n",
    "    lambda_vec=[0.15, 0.85]\n",
    "\n",
    "    # 説明変数のパラメータ\n",
    "    mu_vec = [mu1_first, mu2_first]\n",
    "\n",
    "    # 分散(sigma)の初期値\n",
    "    sigma2_vec=[sigma1_first, sigma2_first]\n",
    "\n",
    "    # coefの初期値\n",
    "    coef_vec = np.array([coef1_first, coef2_first])\n",
    "else:\n",
    "    X = np.insert(X, 0, 1, axis=1)\n",
    "    random_x = np.array_split(y, k_size)\n",
    "    coef_vec=np.zeros([k_size, len(FEATS)+1])\n",
    "    mu_vec=np.zeros(k_size)\n",
    "    sigma2_vec=np.zeros(k_size)\n",
    "    for i in range(k_size):\n",
    "        mu_vec[i] = np.mean(random_x[i])\n",
    "        sigma2_vec[i] = np.sum((random_x[i] - np.mean(y))**2)/random_x[i].shape[0]\n",
    "\n",
    "    lambda_vec = np.ones(k_size)/k_size\n"
   ]
  },
  {
   "cell_type": "code",
   "execution_count": 188,
   "metadata": {},
   "outputs": [
    {
     "data": {
      "text/html": [
       "<div>\n",
       "<style scoped>\n",
       "    .dataframe tbody tr th:only-of-type {\n",
       "        vertical-align: middle;\n",
       "    }\n",
       "\n",
       "    .dataframe tbody tr th {\n",
       "        vertical-align: top;\n",
       "    }\n",
       "\n",
       "    .dataframe thead th {\n",
       "        text-align: right;\n",
       "    }\n",
       "</style>\n",
       "<table border=\"1\" class=\"dataframe\">\n",
       "  <thead>\n",
       "    <tr style=\"text-align: right;\">\n",
       "      <th></th>\n",
       "      <th>comp0_(初期値)</th>\n",
       "      <th>comp1_(初期値)</th>\n",
       "    </tr>\n",
       "  </thead>\n",
       "  <tbody>\n",
       "    <tr>\n",
       "      <th>混合比</th>\n",
       "      <td>0.150000</td>\n",
       "      <td>0.850000</td>\n",
       "    </tr>\n",
       "    <tr>\n",
       "      <th>mu</th>\n",
       "      <td>27.706694</td>\n",
       "      <td>68.924369</td>\n",
       "    </tr>\n",
       "    <tr>\n",
       "      <th>sigma</th>\n",
       "      <td>27.168242</td>\n",
       "      <td>100.769794</td>\n",
       "    </tr>\n",
       "    <tr>\n",
       "      <th>切片</th>\n",
       "      <td>27.706694</td>\n",
       "      <td>68.924369</td>\n",
       "    </tr>\n",
       "    <tr>\n",
       "      <th>hf</th>\n",
       "      <td>3.847780</td>\n",
       "      <td>-0.651066</td>\n",
       "    </tr>\n",
       "    <tr>\n",
       "      <th>pop</th>\n",
       "      <td>0.389038</td>\n",
       "      <td>-9.473606</td>\n",
       "    </tr>\n",
       "    <tr>\n",
       "      <th>urb</th>\n",
       "      <td>-0.212951</td>\n",
       "      <td>-3.997060</td>\n",
       "    </tr>\n",
       "    <tr>\n",
       "      <th>gdp</th>\n",
       "      <td>-0.160500</td>\n",
       "      <td>-2.824348</td>\n",
       "    </tr>\n",
       "    <tr>\n",
       "      <th>air</th>\n",
       "      <td>-0.655912</td>\n",
       "      <td>5.035802</td>\n",
       "    </tr>\n",
       "    <tr>\n",
       "      <th>detection</th>\n",
       "      <td>-2.507140</td>\n",
       "      <td>-2.943951</td>\n",
       "    </tr>\n",
       "  </tbody>\n",
       "</table>\n",
       "</div>"
      ],
      "text/plain": [
       "           comp0_(初期値)  comp1_(初期値)\n",
       "混合比           0.150000     0.850000\n",
       "mu           27.706694    68.924369\n",
       "sigma        27.168242   100.769794\n",
       "切片           27.706694    68.924369\n",
       "hf            3.847780    -0.651066\n",
       "pop           0.389038    -9.473606\n",
       "urb          -0.212951    -3.997060\n",
       "gdp          -0.160500    -2.824348\n",
       "air          -0.655912     5.035802\n",
       "detection    -2.507140    -2.943951"
      ]
     },
     "execution_count": 188,
     "metadata": {},
     "output_type": "execute_result"
    }
   ],
   "source": [
    "first_df = pd.DataFrame([lambda_vec, mu_vec, sigma2_vec], columns=[f\"comp{i}_(初期値)\" for i in range(k_size)], index=[\"混合比\", \"mu\", \"sigma\"])\n",
    "first_beta_df = pd.DataFrame(coef_vec.T, columns=[f\"comp{i}_(初期値)\" for i in range(k_size)],index=[\"切片\"]+FEATS)\n",
    "first_df = pd.concat([first_df, first_beta_df])\n",
    "first_df\n"
   ]
  },
  {
   "cell_type": "code",
   "execution_count": 189,
   "metadata": {},
   "outputs": [
    {
     "name": "stderr",
     "output_type": "stream",
     "text": [
      "/Users/masanoritakahashi/anaconda3/lib/python3.7/site-packages/ipykernel_launcher.py:2: DeprecationWarning: scipy.linspace is deprecated and will be removed in SciPy 2.0.0, use numpy.linspace instead\n",
      "  \n",
      "/Users/masanoritakahashi/anaconda3/lib/python3.7/site-packages/ipykernel_launcher.py:4: DeprecationWarning: scipy.arange is deprecated and will be removed in SciPy 2.0.0, use numpy.arange instead\n",
      "  after removing the cwd from sys.path.\n",
      "/Users/masanoritakahashi/anaconda3/lib/python3.7/site-packages/ipykernel_launcher.py:12: DeprecationWarning: scipy.empty is deprecated and will be removed in SciPy 2.0.0, use numpy.empty instead\n",
      "  if sys.path[0] == '':\n",
      "/Users/masanoritakahashi/anaconda3/lib/python3.7/site-packages/ipykernel_launcher.py:14: DeprecationWarning: scipy.arange is deprecated and will be removed in SciPy 2.0.0, use numpy.arange instead\n",
      "  \n",
      "/Users/masanoritakahashi/anaconda3/lib/python3.7/site-packages/ipykernel_launcher.py:15: DeprecationWarning: scipy.sqrt is deprecated and will be removed in SciPy 2.0.0, use numpy.lib.scimath.sqrt instead\n",
      "  from ipykernel import kernelapp as app\n",
      "/Users/masanoritakahashi/anaconda3/lib/python3.7/site-packages/ipykernel_launcher.py:18: DeprecationWarning: scipy.sum is deprecated and will be removed in SciPy 2.0.0, use numpy.sum instead\n",
      "/Users/masanoritakahashi/anaconda3/lib/python3.7/site-packages/ipykernel_launcher.py:23: DeprecationWarning: scipy.empty is deprecated and will be removed in SciPy 2.0.0, use numpy.empty instead\n",
      "/Users/masanoritakahashi/anaconda3/lib/python3.7/site-packages/ipykernel_launcher.py:26: DeprecationWarning: scipy.empty is deprecated and will be removed in SciPy 2.0.0, use numpy.empty instead\n",
      "/Users/masanoritakahashi/anaconda3/lib/python3.7/site-packages/ipykernel_launcher.py:29: DeprecationWarning: scipy.arange is deprecated and will be removed in SciPy 2.0.0, use numpy.arange instead\n",
      "/Users/masanoritakahashi/anaconda3/lib/python3.7/site-packages/ipykernel_launcher.py:36: DeprecationWarning: scipy.sum is deprecated and will be removed in SciPy 2.0.0, use numpy.sum instead\n",
      "/Users/masanoritakahashi/anaconda3/lib/python3.7/site-packages/ipykernel_launcher.py:40: DeprecationWarning: scipy.sum is deprecated and will be removed in SciPy 2.0.0, use numpy.sum instead\n",
      "/Users/masanoritakahashi/anaconda3/lib/python3.7/site-packages/ipykernel_launcher.py:2: DeprecationWarning: scipy.zeros_like is deprecated and will be removed in SciPy 2.0.0, use numpy.zeros_like instead\n",
      "  \n",
      "/Users/masanoritakahashi/anaconda3/lib/python3.7/site-packages/ipykernel_launcher.py:5: DeprecationWarning: scipy.sqrt is deprecated and will be removed in SciPy 2.0.0, use numpy.lib.scimath.sqrt instead\n",
      "  \"\"\"\n",
      "/Users/masanoritakahashi/anaconda3/lib/python3.7/site-packages/ipykernel_launcher.py:12: DeprecationWarning: scipy.empty is deprecated and will be removed in SciPy 2.0.0, use numpy.empty instead\n",
      "  if sys.path[0] == '':\n",
      "/Users/masanoritakahashi/anaconda3/lib/python3.7/site-packages/ipykernel_launcher.py:14: DeprecationWarning: scipy.arange is deprecated and will be removed in SciPy 2.0.0, use numpy.arange instead\n",
      "  \n",
      "/Users/masanoritakahashi/anaconda3/lib/python3.7/site-packages/ipykernel_launcher.py:15: DeprecationWarning: scipy.sqrt is deprecated and will be removed in SciPy 2.0.0, use numpy.lib.scimath.sqrt instead\n",
      "  from ipykernel import kernelapp as app\n",
      "/Users/masanoritakahashi/anaconda3/lib/python3.7/site-packages/ipykernel_launcher.py:18: DeprecationWarning: scipy.sum is deprecated and will be removed in SciPy 2.0.0, use numpy.sum instead\n",
      "/Users/masanoritakahashi/anaconda3/lib/python3.7/site-packages/ipykernel_launcher.py:23: DeprecationWarning: scipy.empty is deprecated and will be removed in SciPy 2.0.0, use numpy.empty instead\n",
      "/Users/masanoritakahashi/anaconda3/lib/python3.7/site-packages/ipykernel_launcher.py:26: DeprecationWarning: scipy.empty is deprecated and will be removed in SciPy 2.0.0, use numpy.empty instead\n",
      "/Users/masanoritakahashi/anaconda3/lib/python3.7/site-packages/ipykernel_launcher.py:29: DeprecationWarning: scipy.arange is deprecated and will be removed in SciPy 2.0.0, use numpy.arange instead\n",
      "/Users/masanoritakahashi/anaconda3/lib/python3.7/site-packages/ipykernel_launcher.py:36: DeprecationWarning: scipy.sum is deprecated and will be removed in SciPy 2.0.0, use numpy.sum instead\n",
      "/Users/masanoritakahashi/anaconda3/lib/python3.7/site-packages/ipykernel_launcher.py:40: DeprecationWarning: scipy.sum is deprecated and will be removed in SciPy 2.0.0, use numpy.sum instead\n"
     ]
    },
    {
     "name": "stdout",
     "output_type": "stream",
     "text": [
      "i: 0 lambda [0.1528 0.8472] mu [27.6795 68.9036] sigma2 [ 27.3001 103.545 ]\n",
      "i: 100 lambda [0.1527 0.8473] mu [27.672  68.8998] sigma2 [ 27.2842 103.6842]\n"
     ]
    },
    {
     "name": "stderr",
     "output_type": "stream",
     "text": [
      "/Users/masanoritakahashi/anaconda3/lib/python3.7/site-packages/ipykernel_launcher.py:2: DeprecationWarning: scipy.zeros_like is deprecated and will be removed in SciPy 2.0.0, use numpy.zeros_like instead\n",
      "  \n",
      "/Users/masanoritakahashi/anaconda3/lib/python3.7/site-packages/ipykernel_launcher.py:4: DeprecationWarning: scipy.arange is deprecated and will be removed in SciPy 2.0.0, use numpy.arange instead\n",
      "  after removing the cwd from sys.path.\n",
      "/Users/masanoritakahashi/anaconda3/lib/python3.7/site-packages/ipykernel_launcher.py:5: DeprecationWarning: scipy.sqrt is deprecated and will be removed in SciPy 2.0.0, use numpy.lib.scimath.sqrt instead\n",
      "  \"\"\"\n",
      "/Users/masanoritakahashi/anaconda3/lib/python3.7/site-packages/ipykernel_launcher.py:12: DeprecationWarning: scipy.empty is deprecated and will be removed in SciPy 2.0.0, use numpy.empty instead\n",
      "  if sys.path[0] == '':\n",
      "/Users/masanoritakahashi/anaconda3/lib/python3.7/site-packages/ipykernel_launcher.py:14: DeprecationWarning: scipy.arange is deprecated and will be removed in SciPy 2.0.0, use numpy.arange instead\n",
      "  \n",
      "/Users/masanoritakahashi/anaconda3/lib/python3.7/site-packages/ipykernel_launcher.py:15: DeprecationWarning: scipy.sqrt is deprecated and will be removed in SciPy 2.0.0, use numpy.lib.scimath.sqrt instead\n",
      "  from ipykernel import kernelapp as app\n",
      "/Users/masanoritakahashi/anaconda3/lib/python3.7/site-packages/ipykernel_launcher.py:18: DeprecationWarning: scipy.sum is deprecated and will be removed in SciPy 2.0.0, use numpy.sum instead\n",
      "/Users/masanoritakahashi/anaconda3/lib/python3.7/site-packages/ipykernel_launcher.py:23: DeprecationWarning: scipy.empty is deprecated and will be removed in SciPy 2.0.0, use numpy.empty instead\n",
      "/Users/masanoritakahashi/anaconda3/lib/python3.7/site-packages/ipykernel_launcher.py:26: DeprecationWarning: scipy.empty is deprecated and will be removed in SciPy 2.0.0, use numpy.empty instead\n",
      "/Users/masanoritakahashi/anaconda3/lib/python3.7/site-packages/ipykernel_launcher.py:29: DeprecationWarning: scipy.arange is deprecated and will be removed in SciPy 2.0.0, use numpy.arange instead\n",
      "/Users/masanoritakahashi/anaconda3/lib/python3.7/site-packages/ipykernel_launcher.py:36: DeprecationWarning: scipy.sum is deprecated and will be removed in SciPy 2.0.0, use numpy.sum instead\n",
      "/Users/masanoritakahashi/anaconda3/lib/python3.7/site-packages/ipykernel_launcher.py:40: DeprecationWarning: scipy.sum is deprecated and will be removed in SciPy 2.0.0, use numpy.sum instead\n"
     ]
    },
    {
     "name": "stdout",
     "output_type": "stream",
     "text": [
      "i: 200 lambda [0.1527 0.8473] mu [27.672  68.8998] sigma2 [ 27.2842 103.6842]\n"
     ]
    },
    {
     "name": "stderr",
     "output_type": "stream",
     "text": [
      "/Users/masanoritakahashi/anaconda3/lib/python3.7/site-packages/ipykernel_launcher.py:2: DeprecationWarning: scipy.zeros_like is deprecated and will be removed in SciPy 2.0.0, use numpy.zeros_like instead\n",
      "  \n",
      "/Users/masanoritakahashi/anaconda3/lib/python3.7/site-packages/ipykernel_launcher.py:4: DeprecationWarning: scipy.arange is deprecated and will be removed in SciPy 2.0.0, use numpy.arange instead\n",
      "  after removing the cwd from sys.path.\n",
      "/Users/masanoritakahashi/anaconda3/lib/python3.7/site-packages/ipykernel_launcher.py:5: DeprecationWarning: scipy.sqrt is deprecated and will be removed in SciPy 2.0.0, use numpy.lib.scimath.sqrt instead\n",
      "  \"\"\"\n",
      "/Users/masanoritakahashi/anaconda3/lib/python3.7/site-packages/ipykernel_launcher.py:12: DeprecationWarning: scipy.empty is deprecated and will be removed in SciPy 2.0.0, use numpy.empty instead\n",
      "  if sys.path[0] == '':\n",
      "/Users/masanoritakahashi/anaconda3/lib/python3.7/site-packages/ipykernel_launcher.py:14: DeprecationWarning: scipy.arange is deprecated and will be removed in SciPy 2.0.0, use numpy.arange instead\n",
      "  \n",
      "/Users/masanoritakahashi/anaconda3/lib/python3.7/site-packages/ipykernel_launcher.py:15: DeprecationWarning: scipy.sqrt is deprecated and will be removed in SciPy 2.0.0, use numpy.lib.scimath.sqrt instead\n",
      "  from ipykernel import kernelapp as app\n",
      "/Users/masanoritakahashi/anaconda3/lib/python3.7/site-packages/ipykernel_launcher.py:18: DeprecationWarning: scipy.sum is deprecated and will be removed in SciPy 2.0.0, use numpy.sum instead\n",
      "/Users/masanoritakahashi/anaconda3/lib/python3.7/site-packages/ipykernel_launcher.py:23: DeprecationWarning: scipy.empty is deprecated and will be removed in SciPy 2.0.0, use numpy.empty instead\n",
      "/Users/masanoritakahashi/anaconda3/lib/python3.7/site-packages/ipykernel_launcher.py:26: DeprecationWarning: scipy.empty is deprecated and will be removed in SciPy 2.0.0, use numpy.empty instead\n",
      "/Users/masanoritakahashi/anaconda3/lib/python3.7/site-packages/ipykernel_launcher.py:29: DeprecationWarning: scipy.arange is deprecated and will be removed in SciPy 2.0.0, use numpy.arange instead\n",
      "/Users/masanoritakahashi/anaconda3/lib/python3.7/site-packages/ipykernel_launcher.py:36: DeprecationWarning: scipy.sum is deprecated and will be removed in SciPy 2.0.0, use numpy.sum instead\n",
      "/Users/masanoritakahashi/anaconda3/lib/python3.7/site-packages/ipykernel_launcher.py:40: DeprecationWarning: scipy.sum is deprecated and will be removed in SciPy 2.0.0, use numpy.sum instead\n"
     ]
    },
    {
     "name": "stdout",
     "output_type": "stream",
     "text": [
      "i: 300 lambda [0.1527 0.8473] mu [27.672  68.8998] sigma2 [ 27.2842 103.6842]\n"
     ]
    },
    {
     "name": "stderr",
     "output_type": "stream",
     "text": [
      "/Users/masanoritakahashi/anaconda3/lib/python3.7/site-packages/ipykernel_launcher.py:2: DeprecationWarning: scipy.zeros_like is deprecated and will be removed in SciPy 2.0.0, use numpy.zeros_like instead\n",
      "  \n",
      "/Users/masanoritakahashi/anaconda3/lib/python3.7/site-packages/ipykernel_launcher.py:4: DeprecationWarning: scipy.arange is deprecated and will be removed in SciPy 2.0.0, use numpy.arange instead\n",
      "  after removing the cwd from sys.path.\n",
      "/Users/masanoritakahashi/anaconda3/lib/python3.7/site-packages/ipykernel_launcher.py:5: DeprecationWarning: scipy.sqrt is deprecated and will be removed in SciPy 2.0.0, use numpy.lib.scimath.sqrt instead\n",
      "  \"\"\"\n",
      "/Users/masanoritakahashi/anaconda3/lib/python3.7/site-packages/ipykernel_launcher.py:12: DeprecationWarning: scipy.empty is deprecated and will be removed in SciPy 2.0.0, use numpy.empty instead\n",
      "  if sys.path[0] == '':\n",
      "/Users/masanoritakahashi/anaconda3/lib/python3.7/site-packages/ipykernel_launcher.py:14: DeprecationWarning: scipy.arange is deprecated and will be removed in SciPy 2.0.0, use numpy.arange instead\n",
      "  \n",
      "/Users/masanoritakahashi/anaconda3/lib/python3.7/site-packages/ipykernel_launcher.py:15: DeprecationWarning: scipy.sqrt is deprecated and will be removed in SciPy 2.0.0, use numpy.lib.scimath.sqrt instead\n",
      "  from ipykernel import kernelapp as app\n",
      "/Users/masanoritakahashi/anaconda3/lib/python3.7/site-packages/ipykernel_launcher.py:18: DeprecationWarning: scipy.sum is deprecated and will be removed in SciPy 2.0.0, use numpy.sum instead\n",
      "/Users/masanoritakahashi/anaconda3/lib/python3.7/site-packages/ipykernel_launcher.py:23: DeprecationWarning: scipy.empty is deprecated and will be removed in SciPy 2.0.0, use numpy.empty instead\n",
      "/Users/masanoritakahashi/anaconda3/lib/python3.7/site-packages/ipykernel_launcher.py:26: DeprecationWarning: scipy.empty is deprecated and will be removed in SciPy 2.0.0, use numpy.empty instead\n",
      "/Users/masanoritakahashi/anaconda3/lib/python3.7/site-packages/ipykernel_launcher.py:29: DeprecationWarning: scipy.arange is deprecated and will be removed in SciPy 2.0.0, use numpy.arange instead\n",
      "/Users/masanoritakahashi/anaconda3/lib/python3.7/site-packages/ipykernel_launcher.py:36: DeprecationWarning: scipy.sum is deprecated and will be removed in SciPy 2.0.0, use numpy.sum instead\n",
      "/Users/masanoritakahashi/anaconda3/lib/python3.7/site-packages/ipykernel_launcher.py:40: DeprecationWarning: scipy.sum is deprecated and will be removed in SciPy 2.0.0, use numpy.sum instead\n"
     ]
    },
    {
     "name": "stdout",
     "output_type": "stream",
     "text": [
      "i: 400 lambda [0.1527 0.8473] mu [27.672  68.8998] sigma2 [ 27.2842 103.6842]\n"
     ]
    },
    {
     "name": "stderr",
     "output_type": "stream",
     "text": [
      "/Users/masanoritakahashi/anaconda3/lib/python3.7/site-packages/ipykernel_launcher.py:2: DeprecationWarning: scipy.zeros_like is deprecated and will be removed in SciPy 2.0.0, use numpy.zeros_like instead\n",
      "  \n",
      "/Users/masanoritakahashi/anaconda3/lib/python3.7/site-packages/ipykernel_launcher.py:4: DeprecationWarning: scipy.arange is deprecated and will be removed in SciPy 2.0.0, use numpy.arange instead\n",
      "  after removing the cwd from sys.path.\n",
      "/Users/masanoritakahashi/anaconda3/lib/python3.7/site-packages/ipykernel_launcher.py:5: DeprecationWarning: scipy.sqrt is deprecated and will be removed in SciPy 2.0.0, use numpy.lib.scimath.sqrt instead\n",
      "  \"\"\"\n",
      "/Users/masanoritakahashi/anaconda3/lib/python3.7/site-packages/ipykernel_launcher.py:12: DeprecationWarning: scipy.empty is deprecated and will be removed in SciPy 2.0.0, use numpy.empty instead\n",
      "  if sys.path[0] == '':\n",
      "/Users/masanoritakahashi/anaconda3/lib/python3.7/site-packages/ipykernel_launcher.py:14: DeprecationWarning: scipy.arange is deprecated and will be removed in SciPy 2.0.0, use numpy.arange instead\n",
      "  \n",
      "/Users/masanoritakahashi/anaconda3/lib/python3.7/site-packages/ipykernel_launcher.py:15: DeprecationWarning: scipy.sqrt is deprecated and will be removed in SciPy 2.0.0, use numpy.lib.scimath.sqrt instead\n",
      "  from ipykernel import kernelapp as app\n",
      "/Users/masanoritakahashi/anaconda3/lib/python3.7/site-packages/ipykernel_launcher.py:18: DeprecationWarning: scipy.sum is deprecated and will be removed in SciPy 2.0.0, use numpy.sum instead\n",
      "/Users/masanoritakahashi/anaconda3/lib/python3.7/site-packages/ipykernel_launcher.py:23: DeprecationWarning: scipy.empty is deprecated and will be removed in SciPy 2.0.0, use numpy.empty instead\n",
      "/Users/masanoritakahashi/anaconda3/lib/python3.7/site-packages/ipykernel_launcher.py:26: DeprecationWarning: scipy.empty is deprecated and will be removed in SciPy 2.0.0, use numpy.empty instead\n",
      "/Users/masanoritakahashi/anaconda3/lib/python3.7/site-packages/ipykernel_launcher.py:29: DeprecationWarning: scipy.arange is deprecated and will be removed in SciPy 2.0.0, use numpy.arange instead\n",
      "/Users/masanoritakahashi/anaconda3/lib/python3.7/site-packages/ipykernel_launcher.py:36: DeprecationWarning: scipy.sum is deprecated and will be removed in SciPy 2.0.0, use numpy.sum instead\n",
      "/Users/masanoritakahashi/anaconda3/lib/python3.7/site-packages/ipykernel_launcher.py:40: DeprecationWarning: scipy.sum is deprecated and will be removed in SciPy 2.0.0, use numpy.sum instead\n"
     ]
    },
    {
     "name": "stdout",
     "output_type": "stream",
     "text": [
      "i: 500 lambda [0.1527 0.8473] mu [27.672  68.8998] sigma2 [ 27.2842 103.6842]\n"
     ]
    },
    {
     "name": "stderr",
     "output_type": "stream",
     "text": [
      "/Users/masanoritakahashi/anaconda3/lib/python3.7/site-packages/ipykernel_launcher.py:2: DeprecationWarning: scipy.zeros_like is deprecated and will be removed in SciPy 2.0.0, use numpy.zeros_like instead\n",
      "  \n",
      "/Users/masanoritakahashi/anaconda3/lib/python3.7/site-packages/ipykernel_launcher.py:4: DeprecationWarning: scipy.arange is deprecated and will be removed in SciPy 2.0.0, use numpy.arange instead\n",
      "  after removing the cwd from sys.path.\n",
      "/Users/masanoritakahashi/anaconda3/lib/python3.7/site-packages/ipykernel_launcher.py:5: DeprecationWarning: scipy.sqrt is deprecated and will be removed in SciPy 2.0.0, use numpy.lib.scimath.sqrt instead\n",
      "  \"\"\"\n",
      "/Users/masanoritakahashi/anaconda3/lib/python3.7/site-packages/ipykernel_launcher.py:12: DeprecationWarning: scipy.empty is deprecated and will be removed in SciPy 2.0.0, use numpy.empty instead\n",
      "  if sys.path[0] == '':\n",
      "/Users/masanoritakahashi/anaconda3/lib/python3.7/site-packages/ipykernel_launcher.py:14: DeprecationWarning: scipy.arange is deprecated and will be removed in SciPy 2.0.0, use numpy.arange instead\n",
      "  \n",
      "/Users/masanoritakahashi/anaconda3/lib/python3.7/site-packages/ipykernel_launcher.py:15: DeprecationWarning: scipy.sqrt is deprecated and will be removed in SciPy 2.0.0, use numpy.lib.scimath.sqrt instead\n",
      "  from ipykernel import kernelapp as app\n",
      "/Users/masanoritakahashi/anaconda3/lib/python3.7/site-packages/ipykernel_launcher.py:18: DeprecationWarning: scipy.sum is deprecated and will be removed in SciPy 2.0.0, use numpy.sum instead\n",
      "/Users/masanoritakahashi/anaconda3/lib/python3.7/site-packages/ipykernel_launcher.py:23: DeprecationWarning: scipy.empty is deprecated and will be removed in SciPy 2.0.0, use numpy.empty instead\n",
      "/Users/masanoritakahashi/anaconda3/lib/python3.7/site-packages/ipykernel_launcher.py:26: DeprecationWarning: scipy.empty is deprecated and will be removed in SciPy 2.0.0, use numpy.empty instead\n",
      "/Users/masanoritakahashi/anaconda3/lib/python3.7/site-packages/ipykernel_launcher.py:29: DeprecationWarning: scipy.arange is deprecated and will be removed in SciPy 2.0.0, use numpy.arange instead\n",
      "/Users/masanoritakahashi/anaconda3/lib/python3.7/site-packages/ipykernel_launcher.py:36: DeprecationWarning: scipy.sum is deprecated and will be removed in SciPy 2.0.0, use numpy.sum instead\n",
      "/Users/masanoritakahashi/anaconda3/lib/python3.7/site-packages/ipykernel_launcher.py:40: DeprecationWarning: scipy.sum is deprecated and will be removed in SciPy 2.0.0, use numpy.sum instead\n"
     ]
    },
    {
     "name": "stdout",
     "output_type": "stream",
     "text": [
      "i: 600 lambda [0.1527 0.8473] mu [27.672  68.8998] sigma2 [ 27.2842 103.6842]\n"
     ]
    },
    {
     "name": "stderr",
     "output_type": "stream",
     "text": [
      "/Users/masanoritakahashi/anaconda3/lib/python3.7/site-packages/ipykernel_launcher.py:2: DeprecationWarning: scipy.zeros_like is deprecated and will be removed in SciPy 2.0.0, use numpy.zeros_like instead\n",
      "  \n",
      "/Users/masanoritakahashi/anaconda3/lib/python3.7/site-packages/ipykernel_launcher.py:4: DeprecationWarning: scipy.arange is deprecated and will be removed in SciPy 2.0.0, use numpy.arange instead\n",
      "  after removing the cwd from sys.path.\n",
      "/Users/masanoritakahashi/anaconda3/lib/python3.7/site-packages/ipykernel_launcher.py:5: DeprecationWarning: scipy.sqrt is deprecated and will be removed in SciPy 2.0.0, use numpy.lib.scimath.sqrt instead\n",
      "  \"\"\"\n",
      "/Users/masanoritakahashi/anaconda3/lib/python3.7/site-packages/ipykernel_launcher.py:12: DeprecationWarning: scipy.empty is deprecated and will be removed in SciPy 2.0.0, use numpy.empty instead\n",
      "  if sys.path[0] == '':\n",
      "/Users/masanoritakahashi/anaconda3/lib/python3.7/site-packages/ipykernel_launcher.py:14: DeprecationWarning: scipy.arange is deprecated and will be removed in SciPy 2.0.0, use numpy.arange instead\n",
      "  \n",
      "/Users/masanoritakahashi/anaconda3/lib/python3.7/site-packages/ipykernel_launcher.py:15: DeprecationWarning: scipy.sqrt is deprecated and will be removed in SciPy 2.0.0, use numpy.lib.scimath.sqrt instead\n",
      "  from ipykernel import kernelapp as app\n",
      "/Users/masanoritakahashi/anaconda3/lib/python3.7/site-packages/ipykernel_launcher.py:18: DeprecationWarning: scipy.sum is deprecated and will be removed in SciPy 2.0.0, use numpy.sum instead\n",
      "/Users/masanoritakahashi/anaconda3/lib/python3.7/site-packages/ipykernel_launcher.py:23: DeprecationWarning: scipy.empty is deprecated and will be removed in SciPy 2.0.0, use numpy.empty instead\n",
      "/Users/masanoritakahashi/anaconda3/lib/python3.7/site-packages/ipykernel_launcher.py:26: DeprecationWarning: scipy.empty is deprecated and will be removed in SciPy 2.0.0, use numpy.empty instead\n",
      "/Users/masanoritakahashi/anaconda3/lib/python3.7/site-packages/ipykernel_launcher.py:29: DeprecationWarning: scipy.arange is deprecated and will be removed in SciPy 2.0.0, use numpy.arange instead\n",
      "/Users/masanoritakahashi/anaconda3/lib/python3.7/site-packages/ipykernel_launcher.py:36: DeprecationWarning: scipy.sum is deprecated and will be removed in SciPy 2.0.0, use numpy.sum instead\n",
      "/Users/masanoritakahashi/anaconda3/lib/python3.7/site-packages/ipykernel_launcher.py:40: DeprecationWarning: scipy.sum is deprecated and will be removed in SciPy 2.0.0, use numpy.sum instead\n"
     ]
    },
    {
     "name": "stdout",
     "output_type": "stream",
     "text": [
      "i: 700 lambda [0.1527 0.8473] mu [27.672  68.8998] sigma2 [ 27.2842 103.6842]\n"
     ]
    },
    {
     "name": "stderr",
     "output_type": "stream",
     "text": [
      "/Users/masanoritakahashi/anaconda3/lib/python3.7/site-packages/ipykernel_launcher.py:2: DeprecationWarning: scipy.zeros_like is deprecated and will be removed in SciPy 2.0.0, use numpy.zeros_like instead\n",
      "  \n",
      "/Users/masanoritakahashi/anaconda3/lib/python3.7/site-packages/ipykernel_launcher.py:4: DeprecationWarning: scipy.arange is deprecated and will be removed in SciPy 2.0.0, use numpy.arange instead\n",
      "  after removing the cwd from sys.path.\n",
      "/Users/masanoritakahashi/anaconda3/lib/python3.7/site-packages/ipykernel_launcher.py:5: DeprecationWarning: scipy.sqrt is deprecated and will be removed in SciPy 2.0.0, use numpy.lib.scimath.sqrt instead\n",
      "  \"\"\"\n",
      "/Users/masanoritakahashi/anaconda3/lib/python3.7/site-packages/ipykernel_launcher.py:12: DeprecationWarning: scipy.empty is deprecated and will be removed in SciPy 2.0.0, use numpy.empty instead\n",
      "  if sys.path[0] == '':\n",
      "/Users/masanoritakahashi/anaconda3/lib/python3.7/site-packages/ipykernel_launcher.py:14: DeprecationWarning: scipy.arange is deprecated and will be removed in SciPy 2.0.0, use numpy.arange instead\n",
      "  \n",
      "/Users/masanoritakahashi/anaconda3/lib/python3.7/site-packages/ipykernel_launcher.py:15: DeprecationWarning: scipy.sqrt is deprecated and will be removed in SciPy 2.0.0, use numpy.lib.scimath.sqrt instead\n",
      "  from ipykernel import kernelapp as app\n",
      "/Users/masanoritakahashi/anaconda3/lib/python3.7/site-packages/ipykernel_launcher.py:18: DeprecationWarning: scipy.sum is deprecated and will be removed in SciPy 2.0.0, use numpy.sum instead\n",
      "/Users/masanoritakahashi/anaconda3/lib/python3.7/site-packages/ipykernel_launcher.py:23: DeprecationWarning: scipy.empty is deprecated and will be removed in SciPy 2.0.0, use numpy.empty instead\n",
      "/Users/masanoritakahashi/anaconda3/lib/python3.7/site-packages/ipykernel_launcher.py:26: DeprecationWarning: scipy.empty is deprecated and will be removed in SciPy 2.0.0, use numpy.empty instead\n",
      "/Users/masanoritakahashi/anaconda3/lib/python3.7/site-packages/ipykernel_launcher.py:29: DeprecationWarning: scipy.arange is deprecated and will be removed in SciPy 2.0.0, use numpy.arange instead\n",
      "/Users/masanoritakahashi/anaconda3/lib/python3.7/site-packages/ipykernel_launcher.py:36: DeprecationWarning: scipy.sum is deprecated and will be removed in SciPy 2.0.0, use numpy.sum instead\n",
      "/Users/masanoritakahashi/anaconda3/lib/python3.7/site-packages/ipykernel_launcher.py:40: DeprecationWarning: scipy.sum is deprecated and will be removed in SciPy 2.0.0, use numpy.sum instead\n"
     ]
    },
    {
     "name": "stdout",
     "output_type": "stream",
     "text": [
      "i: 800 lambda [0.1527 0.8473] mu [27.672  68.8998] sigma2 [ 27.2842 103.6842]\n"
     ]
    },
    {
     "name": "stderr",
     "output_type": "stream",
     "text": [
      "/Users/masanoritakahashi/anaconda3/lib/python3.7/site-packages/ipykernel_launcher.py:2: DeprecationWarning: scipy.zeros_like is deprecated and will be removed in SciPy 2.0.0, use numpy.zeros_like instead\n",
      "  \n",
      "/Users/masanoritakahashi/anaconda3/lib/python3.7/site-packages/ipykernel_launcher.py:4: DeprecationWarning: scipy.arange is deprecated and will be removed in SciPy 2.0.0, use numpy.arange instead\n",
      "  after removing the cwd from sys.path.\n",
      "/Users/masanoritakahashi/anaconda3/lib/python3.7/site-packages/ipykernel_launcher.py:5: DeprecationWarning: scipy.sqrt is deprecated and will be removed in SciPy 2.0.0, use numpy.lib.scimath.sqrt instead\n",
      "  \"\"\"\n",
      "/Users/masanoritakahashi/anaconda3/lib/python3.7/site-packages/ipykernel_launcher.py:12: DeprecationWarning: scipy.empty is deprecated and will be removed in SciPy 2.0.0, use numpy.empty instead\n",
      "  if sys.path[0] == '':\n",
      "/Users/masanoritakahashi/anaconda3/lib/python3.7/site-packages/ipykernel_launcher.py:14: DeprecationWarning: scipy.arange is deprecated and will be removed in SciPy 2.0.0, use numpy.arange instead\n",
      "  \n",
      "/Users/masanoritakahashi/anaconda3/lib/python3.7/site-packages/ipykernel_launcher.py:15: DeprecationWarning: scipy.sqrt is deprecated and will be removed in SciPy 2.0.0, use numpy.lib.scimath.sqrt instead\n",
      "  from ipykernel import kernelapp as app\n",
      "/Users/masanoritakahashi/anaconda3/lib/python3.7/site-packages/ipykernel_launcher.py:18: DeprecationWarning: scipy.sum is deprecated and will be removed in SciPy 2.0.0, use numpy.sum instead\n",
      "/Users/masanoritakahashi/anaconda3/lib/python3.7/site-packages/ipykernel_launcher.py:23: DeprecationWarning: scipy.empty is deprecated and will be removed in SciPy 2.0.0, use numpy.empty instead\n",
      "/Users/masanoritakahashi/anaconda3/lib/python3.7/site-packages/ipykernel_launcher.py:26: DeprecationWarning: scipy.empty is deprecated and will be removed in SciPy 2.0.0, use numpy.empty instead\n",
      "/Users/masanoritakahashi/anaconda3/lib/python3.7/site-packages/ipykernel_launcher.py:29: DeprecationWarning: scipy.arange is deprecated and will be removed in SciPy 2.0.0, use numpy.arange instead\n",
      "/Users/masanoritakahashi/anaconda3/lib/python3.7/site-packages/ipykernel_launcher.py:36: DeprecationWarning: scipy.sum is deprecated and will be removed in SciPy 2.0.0, use numpy.sum instead\n",
      "/Users/masanoritakahashi/anaconda3/lib/python3.7/site-packages/ipykernel_launcher.py:40: DeprecationWarning: scipy.sum is deprecated and will be removed in SciPy 2.0.0, use numpy.sum instead\n"
     ]
    },
    {
     "name": "stdout",
     "output_type": "stream",
     "text": [
      "i: 900 lambda [0.1527 0.8473] mu [27.672  68.8998] sigma2 [ 27.2842 103.6842]\n"
     ]
    },
    {
     "name": "stderr",
     "output_type": "stream",
     "text": [
      "/Users/masanoritakahashi/anaconda3/lib/python3.7/site-packages/ipykernel_launcher.py:2: DeprecationWarning: scipy.zeros_like is deprecated and will be removed in SciPy 2.0.0, use numpy.zeros_like instead\n",
      "  \n",
      "/Users/masanoritakahashi/anaconda3/lib/python3.7/site-packages/ipykernel_launcher.py:4: DeprecationWarning: scipy.arange is deprecated and will be removed in SciPy 2.0.0, use numpy.arange instead\n",
      "  after removing the cwd from sys.path.\n",
      "/Users/masanoritakahashi/anaconda3/lib/python3.7/site-packages/ipykernel_launcher.py:5: DeprecationWarning: scipy.sqrt is deprecated and will be removed in SciPy 2.0.0, use numpy.lib.scimath.sqrt instead\n",
      "  \"\"\"\n",
      "/Users/masanoritakahashi/anaconda3/lib/python3.7/site-packages/ipykernel_launcher.py:12: DeprecationWarning: scipy.empty is deprecated and will be removed in SciPy 2.0.0, use numpy.empty instead\n",
      "  if sys.path[0] == '':\n",
      "/Users/masanoritakahashi/anaconda3/lib/python3.7/site-packages/ipykernel_launcher.py:14: DeprecationWarning: scipy.arange is deprecated and will be removed in SciPy 2.0.0, use numpy.arange instead\n",
      "  \n",
      "/Users/masanoritakahashi/anaconda3/lib/python3.7/site-packages/ipykernel_launcher.py:15: DeprecationWarning: scipy.sqrt is deprecated and will be removed in SciPy 2.0.0, use numpy.lib.scimath.sqrt instead\n",
      "  from ipykernel import kernelapp as app\n",
      "/Users/masanoritakahashi/anaconda3/lib/python3.7/site-packages/ipykernel_launcher.py:18: DeprecationWarning: scipy.sum is deprecated and will be removed in SciPy 2.0.0, use numpy.sum instead\n",
      "/Users/masanoritakahashi/anaconda3/lib/python3.7/site-packages/ipykernel_launcher.py:23: DeprecationWarning: scipy.empty is deprecated and will be removed in SciPy 2.0.0, use numpy.empty instead\n",
      "/Users/masanoritakahashi/anaconda3/lib/python3.7/site-packages/ipykernel_launcher.py:26: DeprecationWarning: scipy.empty is deprecated and will be removed in SciPy 2.0.0, use numpy.empty instead\n",
      "/Users/masanoritakahashi/anaconda3/lib/python3.7/site-packages/ipykernel_launcher.py:29: DeprecationWarning: scipy.arange is deprecated and will be removed in SciPy 2.0.0, use numpy.arange instead\n",
      "/Users/masanoritakahashi/anaconda3/lib/python3.7/site-packages/ipykernel_launcher.py:36: DeprecationWarning: scipy.sum is deprecated and will be removed in SciPy 2.0.0, use numpy.sum instead\n",
      "/Users/masanoritakahashi/anaconda3/lib/python3.7/site-packages/ipykernel_launcher.py:40: DeprecationWarning: scipy.sum is deprecated and will be removed in SciPy 2.0.0, use numpy.sum instead\n"
     ]
    },
    {
     "name": "stdout",
     "output_type": "stream",
     "text": [
      "i: 1000 lambda [0.1527 0.8473] mu [27.672  68.8998] sigma2 [ 27.2842 103.6842]\n"
     ]
    },
    {
     "name": "stderr",
     "output_type": "stream",
     "text": [
      "/Users/masanoritakahashi/anaconda3/lib/python3.7/site-packages/ipykernel_launcher.py:2: DeprecationWarning: scipy.zeros_like is deprecated and will be removed in SciPy 2.0.0, use numpy.zeros_like instead\n",
      "  \n",
      "/Users/masanoritakahashi/anaconda3/lib/python3.7/site-packages/ipykernel_launcher.py:4: DeprecationWarning: scipy.arange is deprecated and will be removed in SciPy 2.0.0, use numpy.arange instead\n",
      "  after removing the cwd from sys.path.\n",
      "/Users/masanoritakahashi/anaconda3/lib/python3.7/site-packages/ipykernel_launcher.py:5: DeprecationWarning: scipy.sqrt is deprecated and will be removed in SciPy 2.0.0, use numpy.lib.scimath.sqrt instead\n",
      "  \"\"\"\n",
      "/Users/masanoritakahashi/anaconda3/lib/python3.7/site-packages/ipykernel_launcher.py:2: DeprecationWarning: scipy.zeros_like is deprecated and will be removed in SciPy 2.0.0, use numpy.zeros_like instead\n",
      "  \n",
      "/Users/masanoritakahashi/anaconda3/lib/python3.7/site-packages/ipykernel_launcher.py:4: DeprecationWarning: scipy.arange is deprecated and will be removed in SciPy 2.0.0, use numpy.arange instead\n",
      "  after removing the cwd from sys.path.\n",
      "/Users/masanoritakahashi/anaconda3/lib/python3.7/site-packages/ipykernel_launcher.py:5: DeprecationWarning: scipy.sqrt is deprecated and will be removed in SciPy 2.0.0, use numpy.lib.scimath.sqrt instead\n",
      "  \"\"\"\n"
     ]
    },
    {
     "data": {
      "image/png": "[encoded data removed]",
      "text/plain": [
       "<Figure size 432x288 with 1 Axes>"
      ]
     },
     "metadata": {
      "needs_background": "light"
     },
     "output_type": "display_data"
    }
   ],
   "source": [
    "# 1000回繰り返す\n",
    "x = sp.linspace(np.min(y), np.max(y), len(y))\n",
    "\n",
    "for i in sp.arange(1000+1):\n",
    "    # Estep\n",
    "    # responsibilityの更新 \n",
    "    responsibility = EStep(k_size, y, lambda_vec, coef_vec, sigma2_vec, X)\n",
    "    \n",
    "    # Mstep\n",
    "    # 混合割合, 平均, 分散の更新\n",
    "    lambda_vec, mu_vec, coef_vec, sigma2_vec = MStep(k_size, responsibility, y, X)\n",
    "    \n",
    "    if i % 100 == 0:\n",
    "        print(\"i:\", i, \"lambda\", lambda_vec.round(4), \"mu\", mu_vec.round(4), \"sigma2\", sigma2_vec.round(4))\n",
    "        plt.plot(x, calc_mix_pdf(k_size, x, lambda_vec, mu_vec, sigma2_vec, X), label=f\"last{i}\", linestyle=\"-\")\n",
    "        \n",
    "plt.plot(x, calc_mix_pdf(k_size, x, lambda_vec, mu_vec, sigma2_vec, X), label=f\"last{i}\", linestyle=\"-\")\n",
    "\n",
    "plt.legend()\n",
    "plt.tight_layout()\n",
    "plt.show()"
   ]
  },
  {
   "cell_type": "code",
   "execution_count": 190,
   "metadata": {},
   "outputs": [
    {
     "data": {
      "text/html": [
       "<div>\n",
       "<style scoped>\n",
       "    .dataframe tbody tr th:only-of-type {\n",
       "        vertical-align: middle;\n",
       "    }\n",
       "\n",
       "    .dataframe tbody tr th {\n",
       "        vertical-align: top;\n",
       "    }\n",
       "\n",
       "    .dataframe thead th {\n",
       "        text-align: right;\n",
       "    }\n",
       "</style>\n",
       "<table border=\"1\" class=\"dataframe\">\n",
       "  <thead>\n",
       "    <tr style=\"text-align: right;\">\n",
       "      <th></th>\n",
       "      <th>comp0</th>\n",
       "      <th>comp1</th>\n",
       "    </tr>\n",
       "  </thead>\n",
       "  <tbody>\n",
       "    <tr>\n",
       "      <th>混合比</th>\n",
       "      <td>0.15</td>\n",
       "      <td>0.85</td>\n",
       "    </tr>\n",
       "    <tr>\n",
       "      <th>mu</th>\n",
       "      <td>27.67</td>\n",
       "      <td>68.90</td>\n",
       "    </tr>\n",
       "    <tr>\n",
       "      <th>sigma</th>\n",
       "      <td>27.28</td>\n",
       "      <td>103.68</td>\n",
       "    </tr>\n",
       "    <tr>\n",
       "      <th>切片</th>\n",
       "      <td>27.67</td>\n",
       "      <td>68.90</td>\n",
       "    </tr>\n",
       "    <tr>\n",
       "      <th>hf</th>\n",
       "      <td>3.79</td>\n",
       "      <td>-0.64</td>\n",
       "    </tr>\n",
       "    <tr>\n",
       "      <th>pop</th>\n",
       "      <td>0.39</td>\n",
       "      <td>-9.31</td>\n",
       "    </tr>\n",
       "    <tr>\n",
       "      <th>urb</th>\n",
       "      <td>-0.25</td>\n",
       "      <td>-4.01</td>\n",
       "    </tr>\n",
       "    <tr>\n",
       "      <th>gdp</th>\n",
       "      <td>-0.12</td>\n",
       "      <td>-2.81</td>\n",
       "    </tr>\n",
       "    <tr>\n",
       "      <th>air</th>\n",
       "      <td>-0.66</td>\n",
       "      <td>4.90</td>\n",
       "    </tr>\n",
       "    <tr>\n",
       "      <th>detection</th>\n",
       "      <td>-2.46</td>\n",
       "      <td>-2.97</td>\n",
       "    </tr>\n",
       "  </tbody>\n",
       "</table>\n",
       "</div>"
      ],
      "text/plain": [
       "           comp0   comp1\n",
       "混合比         0.15    0.85\n",
       "mu         27.67   68.90\n",
       "sigma      27.28  103.68\n",
       "切片         27.67   68.90\n",
       "hf          3.79   -0.64\n",
       "pop         0.39   -9.31\n",
       "urb        -0.25   -4.01\n",
       "gdp        -0.12   -2.81\n",
       "air        -0.66    4.90\n",
       "detection  -2.46   -2.97"
      ]
     },
     "execution_count": 190,
     "metadata": {},
     "output_type": "execute_result"
    }
   ],
   "source": [
    "first_df = pd.DataFrame([lambda_vec, mu_vec, sigma2_vec], columns=[f\"comp{i}\" for i in range(k_size)], index=[\"混合比\", \"mu\", \"sigma\"])\n",
    "first_beta_df = pd.DataFrame([list(coef_vec[i]) for i in range(k_size)], index=[f\"comp{i}\" for i in range(k_size)],columns=[\"切片\"]+FEATS).T\n",
    "first_df = pd.concat([first_df, first_beta_df])\n",
    "first_df.round(2)"
   ]
  },
  {
   "cell_type": "code",
   "execution_count": 191,
   "metadata": {},
   "outputs": [
    {
     "name": "stderr",
     "output_type": "stream",
     "text": [
      "/Users/masanoritakahashi/anaconda3/lib/python3.7/site-packages/ipykernel_launcher.py:2: DeprecationWarning: scipy.zeros_like is deprecated and will be removed in SciPy 2.0.0, use numpy.zeros_like instead\n",
      "  \n",
      "/Users/masanoritakahashi/anaconda3/lib/python3.7/site-packages/ipykernel_launcher.py:4: DeprecationWarning: scipy.arange is deprecated and will be removed in SciPy 2.0.0, use numpy.arange instead\n",
      "  after removing the cwd from sys.path.\n",
      "/Users/masanoritakahashi/anaconda3/lib/python3.7/site-packages/ipykernel_launcher.py:5: DeprecationWarning: scipy.sqrt is deprecated and will be removed in SciPy 2.0.0, use numpy.lib.scimath.sqrt instead\n",
      "  \"\"\"\n"
     ]
    },
    {
     "data": {
      "text/plain": [
       "Text(0.5, 1.0, '初感染が起きるまでの日数')"
      ]
     },
     "execution_count": 191,
     "metadata": {},
     "output_type": "execute_result"
    },
    {
     "data": {
      "image/png": "[encoded data removed]",
      "text/plain": [
       "<Figure size 360x360 with 1 Axes>"
      ]
     },
     "metadata": {
      "needs_background": "light"
     },
     "output_type": "display_data"
    }
   ],
   "source": [
    "# 推定された分布の可視化\n",
    "plt.figure(figsize=(5,5))\n",
    "plt.hist(y, density=True)\n",
    "plt.plot(x, calc_mix_pdf(k_size, x, lambda_vec, mu_vec, sigma2_vec, X), label=f\"last{i}\", linestyle=\"-\")\n",
    "plt.xlabel(\"day\")\n",
    "plt.ylabel(\"density\")\n",
    "plt.title(\"初感染が起きるまでの日数\")"
   ]
  },
  {
   "cell_type": "code",
   "execution_count": null,
   "metadata": {},
   "outputs": [],
   "source": []
  },
  {
   "cell_type": "code",
   "execution_count": null,
   "metadata": {},
   "outputs": [],
   "source": []
  }
 ],
 "metadata": {
  "kernelspec": {
   "display_name": "Python 3",
   "language": "python",
   "name": "python3"
  },
  "language_info": {
   "codemirror_mode": {
    "name": "ipython",
    "version": 3
   },
   "file_extension": ".py",
   "mimetype": "text/x-python",
   "name": "python",
   "nbconvert_exporter": "python",
   "pygments_lexer": "ipython3",
   "version": "3.7.3"
  }
 },
 "nbformat": 4,
 "nbformat_minor": 4
}
