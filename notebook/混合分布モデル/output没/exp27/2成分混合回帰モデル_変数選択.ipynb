{
 "cells": [
  {
   "cell_type": "code",
   "execution_count": 1,
   "metadata": {},
   "outputs": [
    {
     "name": "stderr",
     "output_type": "stream",
     "text": [
      "/Users/masanoritakahashi/anaconda3/lib/python3.7/site-packages/japanize_matplotlib/__init__.py:13: MatplotlibDeprecationWarning:\n",
      "\n",
      "\n",
      "The createFontList function was deprecated in Matplotlib 3.2 and will be removed two minor releases later. Use FontManager.addfont instead.\n",
      "\n"
     ]
    }
   ],
   "source": [
    "import scipy as sp\n",
    "import os\n",
    "from scipy import stats\n",
    "import matplotlib.pyplot as plt\n",
    "import numpy as np\n",
    "import pandas as pd\n",
    "from sklearn import preprocessing\n",
    "from sklearn import linear_model\n",
    "import plotly.express as px\n",
    "import plotly\n",
    "\n",
    "\n",
    "import japanize_matplotlib\n",
    "import warnings\n",
    "warnings.filterwarnings('ignore')\n",
    "\n",
    "%matplotlib inline\n",
    "\n",
    "# 乱数seedの固定\n",
    "np.random.seed(seed=123)"
   ]
  },
  {
   "cell_type": "code",
   "execution_count": 2,
   "metadata": {},
   "outputs": [],
   "source": [
    "# E-step\n",
    "def EStep(k_size, y, lambda_vec, coef_vec, sigma2_vec):\n",
    "    '''\n",
    "    y[i]\n",
    "    lambda[k]\n",
    "    mu[k]\n",
    "    sigma[k]\n",
    "    '''\n",
    "    I = len(y)\n",
    "    # 中身を初期化せずに配列を作成する関数である。\n",
    "    # 2行, 1000列の配列を生成\n",
    "    responsibility = sp.empty((k_size, I))\n",
    "    \n",
    "    for k in sp.arange(k_size):\n",
    "        norm = stats.norm(loc=np.mean(X@coef_vec[k]), scale=sp.sqrt(sigma2_vec[k]))\n",
    "        responsibility[k] = lambda_vec[k] *norm.pdf(y)\n",
    "\n",
    "    responsibility = responsibility / sp.sum(responsibility, axis=0)\n",
    "    return responsibility\n",
    "\n",
    "def MStep(k_size, responsibility, y):\n",
    "\n",
    "    lambda_vec = sp.empty(k_size)\n",
    "    #mu_vec = sp.empty(k_size)\n",
    "    coef_vec = []\n",
    "    sigma2_vec = sp.empty(k_size)\n",
    "    \n",
    "\n",
    "    for k in sp.arange(k_size):\n",
    "        r_k = responsibility[k]\n",
    "        \n",
    "        #coef_vec[k] = np.linalg.inv(X.T @ np.diag(r_k) @ X) @ X.T @np.diag(r_k)@y\n",
    "        coef_vec.append(np.linalg.inv(X.T @ np.diag(r_k) @ X) @ X.T @np.diag(r_k)@y)\n",
    "        \n",
    "        #lambda_vec[k] = sp.sum(r_k) / sp.sum(responsibility)\n",
    "        lambda_vec[k] = sp.sum(r_k) / responsibility.shape[1]\n",
    "        \n",
    "        #mu_vec[k] = sp.sum(r_k * y) / sp.sum(r_k)\n",
    "        \n",
    "        sigma2_vec[k] = sp.sum(r_k * (y - np.mean(X@coef_vec[k]))**2) / sp.sum(r_k)\n",
    "        \n",
    "    mu_vec = [np.mean(X@coef_vec[0]), np.mean(X@coef_vec[1])]\n",
    "        \n",
    "        \n",
    "        \n",
    "\n",
    "    return lambda_vec, mu_vec, coef_vec, sigma2_vec"
   ]
  },
  {
   "cell_type": "code",
   "execution_count": 3,
   "metadata": {},
   "outputs": [],
   "source": [
    "def calc_mix_pdf(k_size, x, lambda_vec, coef_vec, sigma2_vec):\n",
    "    pdf = sp.zeros_like(x)\n",
    "\n",
    "    for k in sp.arange(k_size):\n",
    "        norm_k = stats.norm(loc=np.mean(X@coef_vec[k]), scale=sp.sqrt(sigma2_vec[k]))\n",
    "        \n",
    "        # pdf (Probability density function) 確率密度関数\n",
    "        # xのときの値を取得\n",
    "        pdf += lambda_vec[k] * norm_k.pdf(x)\n",
    "    return pdf"
   ]
  },
  {
   "cell_type": "code",
   "execution_count": 4,
   "metadata": {},
   "outputs": [],
   "source": [
    "def calc_log_likelihood(X, coef_vec, sigma2_vec, lambda_vec, y):\n",
    "    norm1 = stats.norm(loc=X@coef_vec[0], scale=np.sqrt(sigma2_vec[0])).pdf(y)\n",
    "    norm2 = stats.norm(loc=X@coef_vec[1], scale=np.sqrt(sigma2_vec[1])).pdf(y)\n",
    "    likelihood=lambda_vec[0]*norm1 + lambda_vec[1]*norm2\n",
    "    log_likelihood = np.sum(np.log(likelihood))\n",
    "    return log_likelihood"
   ]
  },
  {
   "cell_type": "markdown",
   "metadata": {},
   "source": [
    "# Config"
   ]
  },
  {
   "cell_type": "code",
   "execution_count": 179,
   "metadata": {},
   "outputs": [],
   "source": [
    "# 　使用する変数\n",
    "#FEATS = [\"hf\", \"pop\",  \"urb\", \"gdp\",\"dist\", \"air\", \"detection\"]\n",
    "#FEATS = ['urb', 'gdp', 'air', 'detection', 'HDI', 'median_age', 'dist_italy']\n",
    "FEATS =  [\"dist_hf\", \"pop\",  \"urb\", \"gdp\", \"dist_air\", \"detection\"]\n",
    "exp_name = \"exp27\"\n",
    "memo=\"distとhf, air交互作用\"\n",
    "\n",
    "NEW_DIR_PATH = f'output/{exp_name}/'\n",
    "os.mkdir(NEW_DIR_PATH)"
   ]
  },
  {
   "cell_type": "markdown",
   "metadata": {},
   "source": [
    "# データの作成"
   ]
  },
  {
   "cell_type": "code",
   "execution_count": 180,
   "metadata": {},
   "outputs": [],
   "source": [
    "#df = pd.read_excel(\"../../data/data_covid_fix_name.xlsx\")\n",
    "#df = pd.read_csv(\"../../data/data_covid_fix_name_code_coordinate_ltaly.csv\").iloc[:,1:]\n",
    "df = pd.read_csv(\"../../data/data_covid_fix_name_code_coordinate_ltaly_medianage_hdi_density.csv\")\n",
    "df = df.dropna().reset_index(drop=True)"
   ]
  },
  {
   "cell_type": "code",
   "execution_count": 181,
   "metadata": {},
   "outputs": [
    {
     "data": {
      "text/html": [
       "<div>\n",
       "<style scoped>\n",
       "    .dataframe tbody tr th:only-of-type {\n",
       "        vertical-align: middle;\n",
       "    }\n",
       "\n",
       "    .dataframe tbody tr th {\n",
       "        vertical-align: top;\n",
       "    }\n",
       "\n",
       "    .dataframe thead th {\n",
       "        text-align: right;\n",
       "    }\n",
       "</style>\n",
       "<table border=\"1\" class=\"dataframe\">\n",
       "  <thead>\n",
       "    <tr style=\"text-align: right;\">\n",
       "      <th></th>\n",
       "      <th>country</th>\n",
       "      <th>pop</th>\n",
       "      <th>urb</th>\n",
       "      <th>gdp</th>\n",
       "      <th>dist</th>\n",
       "      <th>hf</th>\n",
       "      <th>pf</th>\n",
       "      <th>ef</th>\n",
       "      <th>date_first</th>\n",
       "      <th>detection</th>\n",
       "      <th>...</th>\n",
       "      <th>cumul</th>\n",
       "      <th>air</th>\n",
       "      <th>code3</th>\n",
       "      <th>code2</th>\n",
       "      <th>lat</th>\n",
       "      <th>lon</th>\n",
       "      <th>dist_italy</th>\n",
       "      <th>median_age</th>\n",
       "      <th>HDI</th>\n",
       "      <th>population_density</th>\n",
       "    </tr>\n",
       "  </thead>\n",
       "  <tbody>\n",
       "    <tr>\n",
       "      <th>0</th>\n",
       "      <td>Albania</td>\n",
       "      <td>2866376</td>\n",
       "      <td>60.319</td>\n",
       "      <td>13364.155397</td>\n",
       "      <td>6.996524e+06</td>\n",
       "      <td>7.84</td>\n",
       "      <td>8.005411</td>\n",
       "      <td>7.67</td>\n",
       "      <td>70</td>\n",
       "      <td>74.3</td>\n",
       "      <td>...</td>\n",
       "      <td>108641</td>\n",
       "      <td>303.14</td>\n",
       "      <td>ALB</td>\n",
       "      <td>AL</td>\n",
       "      <td>41.327546</td>\n",
       "      <td>19.818698</td>\n",
       "      <td>613446.033335</td>\n",
       "      <td>36.200001</td>\n",
       "      <td>0.792</td>\n",
       "      <td>104.612263</td>\n",
       "    </tr>\n",
       "    <tr>\n",
       "      <th>1</th>\n",
       "      <td>Algeria</td>\n",
       "      <td>42228429</td>\n",
       "      <td>72.629</td>\n",
       "      <td>15481.787620</td>\n",
       "      <td>9.108277e+06</td>\n",
       "      <td>4.99</td>\n",
       "      <td>5.201489</td>\n",
       "      <td>4.77</td>\n",
       "      <td>58</td>\n",
       "      <td>12.0</td>\n",
       "      <td>...</td>\n",
       "      <td>80272</td>\n",
       "      <td>6442.44</td>\n",
       "      <td>DZA</td>\n",
       "      <td>DZ</td>\n",
       "      <td>36.753768</td>\n",
       "      <td>3.058756</td>\n",
       "      <td>993497.660060</td>\n",
       "      <td>27.500000</td>\n",
       "      <td>0.746</td>\n",
       "      <td>17.730075</td>\n",
       "    </tr>\n",
       "  </tbody>\n",
       "</table>\n",
       "<p>2 rows × 21 columns</p>\n",
       "</div>"
      ],
      "text/plain": [
       "   country       pop     urb           gdp          dist    hf        pf  \\\n",
       "0  Albania   2866376  60.319  13364.155397  6.996524e+06  7.84  8.005411   \n",
       "1  Algeria  42228429  72.629  15481.787620  9.108277e+06  4.99  5.201489   \n",
       "\n",
       "     ef  date_first  detection  ...   cumul      air  code3 code2        lat  \\\n",
       "0  7.67          70       74.3  ...  108641   303.14    ALB    AL  41.327546   \n",
       "1  4.77          58       12.0  ...   80272  6442.44    DZA    DZ  36.753768   \n",
       "\n",
       "         lon     dist_italy  median_age    HDI  population_density  \n",
       "0  19.818698  613446.033335   36.200001  0.792          104.612263  \n",
       "1   3.058756  993497.660060   27.500000  0.746           17.730075  \n",
       "\n",
       "[2 rows x 21 columns]"
      ]
     },
     "execution_count": 181,
     "metadata": {},
     "output_type": "execute_result"
    }
   ],
   "source": [
    "df.head(2)"
   ]
  },
  {
   "cell_type": "code",
   "execution_count": 182,
   "metadata": {},
   "outputs": [],
   "source": [
    "y=df[\"date_first\"].values\n",
    "#plt.hist(y, density=True)"
   ]
  },
  {
   "cell_type": "code",
   "execution_count": 183,
   "metadata": {},
   "outputs": [
    {
     "data": {
      "text/plain": [
       "(array([0.00707862, 0.06370761, 0.05662899, 0.14157247, 0.28314494,\n",
       "        0.19112283, 0.17696559, 0.0920221 , 0.02831449, 0.00707862]),\n",
       " array([11.48000963, 12.4345394 , 13.38906917, 14.34359894, 15.29812871,\n",
       "        16.25265847, 17.20718824, 18.16171801, 19.11624778, 20.07077755,\n",
       "        21.02530731]),\n",
       " <a list of 10 Patch objects>)"
      ]
     },
     "execution_count": 183,
     "metadata": {},
     "output_type": "execute_result"
    },
    {
     "data": {
      "image/png": "[encoded data removed]",
      "text/plain": [
       "<Figure size 432x288 with 1 Axes>"
      ]
     },
     "metadata": {
      "needs_background": "light"
     },
     "output_type": "display_data"
    }
   ],
   "source": [
    "plt.hist(np.log(df[\"pop\"]), density=True)"
   ]
  },
  {
   "cell_type": "markdown",
   "metadata": {},
   "source": [
    "### スケーリング(標準化)"
   ]
  },
  {
   "cell_type": "code",
   "execution_count": 184,
   "metadata": {},
   "outputs": [
    {
     "data": {
      "text/html": [
       "<div>\n",
       "<style scoped>\n",
       "    .dataframe tbody tr th:only-of-type {\n",
       "        vertical-align: middle;\n",
       "    }\n",
       "\n",
       "    .dataframe tbody tr th {\n",
       "        vertical-align: top;\n",
       "    }\n",
       "\n",
       "    .dataframe thead th {\n",
       "        text-align: right;\n",
       "    }\n",
       "</style>\n",
       "<table border=\"1\" class=\"dataframe\">\n",
       "  <thead>\n",
       "    <tr style=\"text-align: right;\">\n",
       "      <th></th>\n",
       "      <th>date_first</th>\n",
       "      <th>dist_hf</th>\n",
       "      <th>pop</th>\n",
       "      <th>urb</th>\n",
       "      <th>gdp</th>\n",
       "      <th>dist_air</th>\n",
       "      <th>detection</th>\n",
       "    </tr>\n",
       "    <tr>\n",
       "      <th>country</th>\n",
       "      <th></th>\n",
       "      <th></th>\n",
       "      <th></th>\n",
       "      <th></th>\n",
       "      <th></th>\n",
       "      <th></th>\n",
       "      <th></th>\n",
       "    </tr>\n",
       "  </thead>\n",
       "  <tbody>\n",
       "    <tr>\n",
       "      <th>Albania</th>\n",
       "      <td>70</td>\n",
       "      <td>5.485275e+07</td>\n",
       "      <td>2866376</td>\n",
       "      <td>60.319</td>\n",
       "      <td>13364.155397</td>\n",
       "      <td>2.120926e+09</td>\n",
       "      <td>74.3</td>\n",
       "    </tr>\n",
       "    <tr>\n",
       "      <th>Algeria</th>\n",
       "      <td>58</td>\n",
       "      <td>4.545030e+07</td>\n",
       "      <td>42228429</td>\n",
       "      <td>72.629</td>\n",
       "      <td>15481.787620</td>\n",
       "      <td>5.867953e+10</td>\n",
       "      <td>12.0</td>\n",
       "    </tr>\n",
       "    <tr>\n",
       "      <th>Angola</th>\n",
       "      <td>83</td>\n",
       "      <td>5.664665e+07</td>\n",
       "      <td>30809762</td>\n",
       "      <td>65.514</td>\n",
       "      <td>6452.355165</td>\n",
       "      <td>8.071098e+08</td>\n",
       "      <td>17.9</td>\n",
       "    </tr>\n",
       "    <tr>\n",
       "      <th>Argentina</th>\n",
       "      <td>65</td>\n",
       "      <td>1.305158e+08</td>\n",
       "      <td>44494502</td>\n",
       "      <td>91.870</td>\n",
       "      <td>20610.568550</td>\n",
       "      <td>2.885483e+10</td>\n",
       "      <td>74.9</td>\n",
       "    </tr>\n",
       "    <tr>\n",
       "      <th>Australia</th>\n",
       "      <td>26</td>\n",
       "      <td>6.558883e+07</td>\n",
       "      <td>24992369</td>\n",
       "      <td>86.012</td>\n",
       "      <td>51663.365095</td>\n",
       "      <td>5.757486e+11</td>\n",
       "      <td>97.3</td>\n",
       "    </tr>\n",
       "    <tr>\n",
       "      <th>...</th>\n",
       "      <td>...</td>\n",
       "      <td>...</td>\n",
       "      <td>...</td>\n",
       "      <td>...</td>\n",
       "      <td>...</td>\n",
       "      <td>...</td>\n",
       "      <td>...</td>\n",
       "    </tr>\n",
       "    <tr>\n",
       "      <th>Venezuela</th>\n",
       "      <td>76</td>\n",
       "      <td>5.722065e+07</td>\n",
       "      <td>28870195</td>\n",
       "      <td>88.208</td>\n",
       "      <td>18102.500000</td>\n",
       "      <td>3.219068e+10</td>\n",
       "      <td>8.7</td>\n",
       "    </tr>\n",
       "    <tr>\n",
       "      <th>Vietnam</th>\n",
       "      <td>25</td>\n",
       "      <td>1.396805e+07</td>\n",
       "      <td>95540395</td>\n",
       "      <td>35.919</td>\n",
       "      <td>7447.814334</td>\n",
       "      <td>1.044821e+11</td>\n",
       "      <td>57.4</td>\n",
       "    </tr>\n",
       "    <tr>\n",
       "      <th>Yemen</th>\n",
       "      <td>102</td>\n",
       "      <td>2.568194e+07</td>\n",
       "      <td>28498687</td>\n",
       "      <td>36.642</td>\n",
       "      <td>2575.126385</td>\n",
       "      <td>2.008626e+09</td>\n",
       "      <td>9.0</td>\n",
       "    </tr>\n",
       "    <tr>\n",
       "      <th>Zambia</th>\n",
       "      <td>80</td>\n",
       "      <td>6.285913e+07</td>\n",
       "      <td>17351822</td>\n",
       "      <td>43.521</td>\n",
       "      <td>4223.906936</td>\n",
       "      <td>8.620128e+07</td>\n",
       "      <td>21.9</td>\n",
       "    </tr>\n",
       "    <tr>\n",
       "      <th>Zimbabwe</th>\n",
       "      <td>82</td>\n",
       "      <td>5.592444e+07</td>\n",
       "      <td>14439018</td>\n",
       "      <td>32.209</td>\n",
       "      <td>3029.793005</td>\n",
       "      <td>2.796618e+09</td>\n",
       "      <td>65.6</td>\n",
       "    </tr>\n",
       "  </tbody>\n",
       "</table>\n",
       "<p>148 rows × 7 columns</p>\n",
       "</div>"
      ],
      "text/plain": [
       "           date_first       dist_hf       pop     urb           gdp  \\\n",
       "country                                                               \n",
       "Albania            70  5.485275e+07   2866376  60.319  13364.155397   \n",
       "Algeria            58  4.545030e+07  42228429  72.629  15481.787620   \n",
       "Angola             83  5.664665e+07  30809762  65.514   6452.355165   \n",
       "Argentina          65  1.305158e+08  44494502  91.870  20610.568550   \n",
       "Australia          26  6.558883e+07  24992369  86.012  51663.365095   \n",
       "...               ...           ...       ...     ...           ...   \n",
       "Venezuela          76  5.722065e+07  28870195  88.208  18102.500000   \n",
       "Vietnam            25  1.396805e+07  95540395  35.919   7447.814334   \n",
       "Yemen             102  2.568194e+07  28498687  36.642   2575.126385   \n",
       "Zambia             80  6.285913e+07  17351822  43.521   4223.906936   \n",
       "Zimbabwe           82  5.592444e+07  14439018  32.209   3029.793005   \n",
       "\n",
       "               dist_air  detection  \n",
       "country                             \n",
       "Albania    2.120926e+09       74.3  \n",
       "Algeria    5.867953e+10       12.0  \n",
       "Angola     8.071098e+08       17.9  \n",
       "Argentina  2.885483e+10       74.9  \n",
       "Australia  5.757486e+11       97.3  \n",
       "...                 ...        ...  \n",
       "Venezuela  3.219068e+10        8.7  \n",
       "Vietnam    1.044821e+11       57.4  \n",
       "Yemen      2.008626e+09        9.0  \n",
       "Zambia     8.620128e+07       21.9  \n",
       "Zimbabwe   2.796618e+09       65.6  \n",
       "\n",
       "[148 rows x 7 columns]"
      ]
     },
     "execution_count": 184,
     "metadata": {},
     "output_type": "execute_result"
    }
   ],
   "source": [
    "df[\"dist_hf\"] = df[\"dist\"] * df[\"hf\"]\n",
    "df[\"dist_air\"] = df[\"dist\"] * df[\"air\"]\n",
    "\n",
    "tmp = df[[ \"date_first\"]+FEATS]\n",
    "tmp.index = df[\"country\"]\n",
    "tmp"
   ]
  },
  {
   "cell_type": "code",
   "execution_count": 185,
   "metadata": {},
   "outputs": [
    {
     "data": {
      "text/html": [
       "<div>\n",
       "<style scoped>\n",
       "    .dataframe tbody tr th:only-of-type {\n",
       "        vertical-align: middle;\n",
       "    }\n",
       "\n",
       "    .dataframe tbody tr th {\n",
       "        vertical-align: top;\n",
       "    }\n",
       "\n",
       "    .dataframe thead th {\n",
       "        text-align: right;\n",
       "    }\n",
       "</style>\n",
       "<table border=\"1\" class=\"dataframe\">\n",
       "  <thead>\n",
       "    <tr style=\"text-align: right;\">\n",
       "      <th></th>\n",
       "      <th>dist_hf</th>\n",
       "      <th>pop</th>\n",
       "      <th>urb</th>\n",
       "      <th>gdp</th>\n",
       "      <th>dist_air</th>\n",
       "      <th>detection</th>\n",
       "    </tr>\n",
       "  </thead>\n",
       "  <tbody>\n",
       "    <tr>\n",
       "      <th>0</th>\n",
       "      <td>-0.123894</td>\n",
       "      <td>-0.311439</td>\n",
       "      <td>-0.063938</td>\n",
       "      <td>-0.433684</td>\n",
       "      <td>-0.233854</td>\n",
       "      <td>1.168601</td>\n",
       "    </tr>\n",
       "    <tr>\n",
       "      <th>1</th>\n",
       "      <td>-0.448332</td>\n",
       "      <td>0.017707</td>\n",
       "      <td>0.497620</td>\n",
       "      <td>-0.343016</td>\n",
       "      <td>-0.161035</td>\n",
       "      <td>-1.629438</td>\n",
       "    </tr>\n",
       "    <tr>\n",
       "      <th>2</th>\n",
       "      <td>-0.061994</td>\n",
       "      <td>-0.077776</td>\n",
       "      <td>0.173047</td>\n",
       "      <td>-0.729617</td>\n",
       "      <td>-0.235545</td>\n",
       "      <td>-1.364456</td>\n",
       "    </tr>\n",
       "    <tr>\n",
       "      <th>3</th>\n",
       "      <td>2.486910</td>\n",
       "      <td>0.036656</td>\n",
       "      <td>1.375357</td>\n",
       "      <td>-0.123424</td>\n",
       "      <td>-0.199434</td>\n",
       "      <td>1.195549</td>\n",
       "    </tr>\n",
       "    <tr>\n",
       "      <th>4</th>\n",
       "      <td>0.246562</td>\n",
       "      <td>-0.126421</td>\n",
       "      <td>1.108126</td>\n",
       "      <td>1.206121</td>\n",
       "      <td>0.504690</td>\n",
       "      <td>2.201585</td>\n",
       "    </tr>\n",
       "    <tr>\n",
       "      <th>...</th>\n",
       "      <td>...</td>\n",
       "      <td>...</td>\n",
       "      <td>...</td>\n",
       "      <td>...</td>\n",
       "      <td>...</td>\n",
       "      <td>...</td>\n",
       "    </tr>\n",
       "    <tr>\n",
       "      <th>143</th>\n",
       "      <td>-0.042188</td>\n",
       "      <td>-0.093995</td>\n",
       "      <td>1.208304</td>\n",
       "      <td>-0.230809</td>\n",
       "      <td>-0.195139</td>\n",
       "      <td>-1.777649</td>\n",
       "    </tr>\n",
       "    <tr>\n",
       "      <th>144</th>\n",
       "      <td>-1.534648</td>\n",
       "      <td>0.463501</td>\n",
       "      <td>-1.177019</td>\n",
       "      <td>-0.686996</td>\n",
       "      <td>-0.102064</td>\n",
       "      <td>0.409582</td>\n",
       "    </tr>\n",
       "    <tr>\n",
       "      <th>145</th>\n",
       "      <td>-1.130453</td>\n",
       "      <td>-0.097101</td>\n",
       "      <td>-1.144037</td>\n",
       "      <td>-0.895623</td>\n",
       "      <td>-0.233999</td>\n",
       "      <td>-1.764175</td>\n",
       "    </tr>\n",
       "    <tr>\n",
       "      <th>146</th>\n",
       "      <td>0.152372</td>\n",
       "      <td>-0.190312</td>\n",
       "      <td>-0.830230</td>\n",
       "      <td>-0.825030</td>\n",
       "      <td>-0.236474</td>\n",
       "      <td>-1.184806</td>\n",
       "    </tr>\n",
       "    <tr>\n",
       "      <th>147</th>\n",
       "      <td>-0.086915</td>\n",
       "      <td>-0.214668</td>\n",
       "      <td>-1.346262</td>\n",
       "      <td>-0.876157</td>\n",
       "      <td>-0.232984</td>\n",
       "      <td>0.777864</td>\n",
       "    </tr>\n",
       "  </tbody>\n",
       "</table>\n",
       "<p>148 rows × 6 columns</p>\n",
       "</div>"
      ],
      "text/plain": [
       "      dist_hf       pop       urb       gdp  dist_air  detection\n",
       "0   -0.123894 -0.311439 -0.063938 -0.433684 -0.233854   1.168601\n",
       "1   -0.448332  0.017707  0.497620 -0.343016 -0.161035  -1.629438\n",
       "2   -0.061994 -0.077776  0.173047 -0.729617 -0.235545  -1.364456\n",
       "3    2.486910  0.036656  1.375357 -0.123424 -0.199434   1.195549\n",
       "4    0.246562 -0.126421  1.108126  1.206121  0.504690   2.201585\n",
       "..        ...       ...       ...       ...       ...        ...\n",
       "143 -0.042188 -0.093995  1.208304 -0.230809 -0.195139  -1.777649\n",
       "144 -1.534648  0.463501 -1.177019 -0.686996 -0.102064   0.409582\n",
       "145 -1.130453 -0.097101 -1.144037 -0.895623 -0.233999  -1.764175\n",
       "146  0.152372 -0.190312 -0.830230 -0.825030 -0.236474  -1.184806\n",
       "147 -0.086915 -0.214668 -1.346262 -0.876157 -0.232984   0.777864\n",
       "\n",
       "[148 rows x 6 columns]"
      ]
     },
     "execution_count": 185,
     "metadata": {},
     "output_type": "execute_result"
    }
   ],
   "source": [
    "X = df[FEATS]\n",
    "#X[\"population_density\"] = np.log(X[\"population_density\"])\n",
    "#X[\"air\"] = np.log(X[\"air\"])\n",
    "sscaler = preprocessing.StandardScaler() # インスタンスの作成\n",
    "\n",
    "sscaler.fit(X)    \n",
    "X = sscaler.transform(X) # xを変換\n",
    "pd.DataFrame(X, columns=FEATS)"
   ]
  },
  {
   "cell_type": "code",
   "execution_count": 186,
   "metadata": {},
   "outputs": [],
   "source": [
    "# データを早期、晩期に分割\n",
    "y_early = df[\"date_first\"][df[\"date_first\"]<40]\n",
    "y_late = df[\"date_first\"][df[\"date_first\"]>40]\n",
    "\n",
    "x_early = X[df[\"date_first\"]<40]\n",
    "x_late = X[df[\"date_first\"]>40]"
   ]
  },
  {
   "cell_type": "markdown",
   "metadata": {},
   "source": [
    "# 初期値の設定  \n",
    "- Rで計算済み"
   ]
  },
  {
   "cell_type": "code",
   "execution_count": 187,
   "metadata": {},
   "outputs": [
    {
     "name": "stdout",
     "output_type": "stream",
     "text": [
      "早期感染国の決定係数： 0.5466950543202155\n"
     ]
    }
   ],
   "source": [
    "clf_early = linear_model.LinearRegression()\n",
    "clf_early.fit(x_early, y_early)\n",
    "# 決定係数\n",
    "print(\"早期感染国の決定係数：\", clf_early.score(x_early, y_early))"
   ]
  },
  {
   "cell_type": "code",
   "execution_count": 188,
   "metadata": {},
   "outputs": [
    {
     "name": "stdout",
     "output_type": "stream",
     "text": [
      "晩期感染国の決定係数： 0.5048973825005153\n"
     ]
    }
   ],
   "source": [
    "clf_late = linear_model.LinearRegression()\n",
    "clf_late.fit(x_late, y_late)\n",
    " \n",
    "# 決定係数\n",
    "print(\"晩期感染国の決定係数：\", clf_late.score(x_late, y_late))"
   ]
  },
  {
   "cell_type": "code",
   "execution_count": 189,
   "metadata": {},
   "outputs": [
    {
     "data": {
      "text/html": [
       "<div>\n",
       "<style scoped>\n",
       "    .dataframe tbody tr th:only-of-type {\n",
       "        vertical-align: middle;\n",
       "    }\n",
       "\n",
       "    .dataframe tbody tr th {\n",
       "        vertical-align: top;\n",
       "    }\n",
       "\n",
       "    .dataframe thead th {\n",
       "        text-align: right;\n",
       "    }\n",
       "</style>\n",
       "<table border=\"1\" class=\"dataframe\">\n",
       "  <thead>\n",
       "    <tr style=\"text-align: right;\">\n",
       "      <th></th>\n",
       "      <th>早期感染国β(初期値)</th>\n",
       "      <th>晩期感染国β(初期値)</th>\n",
       "    </tr>\n",
       "  </thead>\n",
       "  <tbody>\n",
       "    <tr>\n",
       "      <th>Intercept</th>\n",
       "      <td>34.974471</td>\n",
       "      <td>68.513937</td>\n",
       "    </tr>\n",
       "    <tr>\n",
       "      <th>dist_hf</th>\n",
       "      <td>6.752499</td>\n",
       "      <td>1.171925</td>\n",
       "    </tr>\n",
       "    <tr>\n",
       "      <th>pop</th>\n",
       "      <td>0.396835</td>\n",
       "      <td>-7.106968</td>\n",
       "    </tr>\n",
       "    <tr>\n",
       "      <th>urb</th>\n",
       "      <td>-0.311024</td>\n",
       "      <td>-4.463892</td>\n",
       "    </tr>\n",
       "    <tr>\n",
       "      <th>gdp</th>\n",
       "      <td>-0.579922</td>\n",
       "      <td>-2.102946</td>\n",
       "    </tr>\n",
       "    <tr>\n",
       "      <th>dist_air</th>\n",
       "      <td>-1.130973</td>\n",
       "      <td>3.488991</td>\n",
       "    </tr>\n",
       "    <tr>\n",
       "      <th>detection</th>\n",
       "      <td>-3.007272</td>\n",
       "      <td>-3.476380</td>\n",
       "    </tr>\n",
       "  </tbody>\n",
       "</table>\n",
       "</div>"
      ],
      "text/plain": [
       "           早期感染国β(初期値)  晩期感染国β(初期値)\n",
       "Intercept    34.974471    68.513937\n",
       "dist_hf       6.752499     1.171925\n",
       "pop           0.396835    -7.106968\n",
       "urb          -0.311024    -4.463892\n",
       "gdp          -0.579922    -2.102946\n",
       "dist_air     -1.130973     3.488991\n",
       "detection    -3.007272    -3.476380"
      ]
     },
     "execution_count": 189,
     "metadata": {},
     "output_type": "execute_result"
    }
   ],
   "source": [
    "# 早期感染国のβ\n",
    "coef1_first=[clf_early.intercept_] + list(clf_early.coef_)\n",
    "#coef1_first=[1 for i in range(len(FEATS)+1)]\n",
    "\n",
    "# 晩期感染国のβ\n",
    "coef2_first=[clf_late.intercept_] + list(clf_late.coef_)\n",
    "#coef2_first=[1 for i in range(len(FEATS)+1)]\n",
    "\n",
    "\n",
    "\n",
    "first_df = pd.DataFrame(coef1_first, columns=[\"早期感染国β(初期値)\"], index=[\"Intercept\"]+ FEATS)\n",
    "first_df[\"晩期感染国β(初期値)\"] = coef2_first\n",
    "first_df"
   ]
  },
  {
   "cell_type": "markdown",
   "metadata": {},
   "source": [
    "### sigmaの初期値設定方法は要検討"
   ]
  },
  {
   "cell_type": "code",
   "execution_count": 190,
   "metadata": {},
   "outputs": [],
   "source": [
    "# 切片の追加\n",
    "X = np.insert(X, 0, 1, axis=1)\n",
    "\n",
    "# muの初期値の計算\n",
    "# mu = βx\n",
    "mu1_first = np.mean(X@coef1_first)\n",
    "mu2_first = np.mean(X@coef2_first)\n",
    "\n",
    "\n",
    "# sigmaの初期値\n",
    "sigma1_first = np.sum((y_early - np.mean(y_early))**2)/len(y_early)\n",
    "sigma2_first = np.sum((y_late - np.mean(y_late))**2)/len(y_late)\n"
   ]
  },
  {
   "cell_type": "code",
   "execution_count": 191,
   "metadata": {},
   "outputs": [],
   "source": [
    "# 混合正規分布の数\n",
    "k_size = 2\n",
    "\n",
    "# 混合比率\n",
    "lambda_vec=[0.15, 0.85]\n",
    "\n",
    "# 説明変数のパラメータ\n",
    "mu_vec = [mu1_first, mu2_first]\n",
    "\n",
    "# 分散(sigma)の初期値\n",
    "sigma2_vec=[sigma1_first, sigma2_first]\n",
    "\n",
    "# coefの初期値\n",
    "coef_vec = [coef1_first, coef2_first]"
   ]
  },
  {
   "cell_type": "code",
   "execution_count": 192,
   "metadata": {},
   "outputs": [
    {
     "name": "stdout",
     "output_type": "stream",
     "text": [
      "f1の混合比率： 0.15\n",
      "mu1： 34.97447073018336\n",
      "sigma1： 27.16824196597353\n"
     ]
    }
   ],
   "source": [
    "print(\"f1の混合比率：\", lambda_vec[0])\n",
    "print(\"mu1：\", mu_vec[0])\n",
    "print(\"sigma1：\", sigma2_vec[0])"
   ]
  },
  {
   "cell_type": "code",
   "execution_count": 193,
   "metadata": {},
   "outputs": [
    {
     "name": "stdout",
     "output_type": "stream",
     "text": [
      "f2の混合比率： 0.85\n",
      "mu2： 68.51393720809546\n",
      "sigma2： 100.12889600000001\n"
     ]
    }
   ],
   "source": [
    "print(\"f2の混合比率：\", lambda_vec[1])\n",
    "print(\"mu2：\", mu_vec[1])\n",
    "print(\"sigma2：\", sigma2_vec[1])"
   ]
  },
  {
   "cell_type": "markdown",
   "metadata": {},
   "source": [
    "### 初期値から生成される分布の確認"
   ]
  },
  {
   "cell_type": "code",
   "execution_count": 194,
   "metadata": {},
   "outputs": [
    {
     "data": {
      "image/png": "[encoded data removed]",
      "text/plain": [
       "<Figure size 432x288 with 1 Axes>"
      ]
     },
     "metadata": {
      "needs_background": "light"
     },
     "output_type": "display_data"
    }
   ],
   "source": [
    "# データ(-6から6までを200こ)\n",
    "x = sp.linspace(np.min(y), np.max(y), 150)\n",
    "plt.plot(x, calc_mix_pdf(k_size, x, lambda_vec, coef_vec, sigma2_vec), label=\"ini\")\n",
    "\n",
    "plt.savefig(NEW_DIR_PATH +\"初期値plot.png\")"
   ]
  },
  {
   "cell_type": "markdown",
   "metadata": {},
   "source": [
    "# EMアルゴリズム"
   ]
  },
  {
   "cell_type": "code",
   "execution_count": 195,
   "metadata": {},
   "outputs": [
    {
     "name": "stdout",
     "output_type": "stream",
     "text": [
      "-570.4778367894357\n",
      "i: 0 lambda [0.1563 0.8437] mu [35.7574 68.5274] sigma2 [ 99.0369 103.051 ]\n",
      "-572.9911080729626\n",
      "i: 1 lambda [0.1646 0.8354] mu [40.8608 68.6499] sigma2 [210.8654 101.7181]\n",
      "-576.1107643395111\n",
      "i: 2 lambda [0.1909 0.8091] mu [48.3215 68.7616] sigma2 [417.9165 101.8672]\n",
      "-578.7504813127571\n",
      "i: 3 lambda [0.2377 0.7623] mu [55.562  68.6113] sigma2 [652.4519  96.8958]\n",
      "-577.6841535800995\n",
      "i: 4 lambda [0.2821 0.7179] mu [58.3516 68.339 ] sigma2 [717.3112  86.2534]\n",
      "-576.1637659902508\n",
      "i: 5 lambda [0.3136 0.6864] mu [59.2358 68.2344] sigma2 [710.1646  78.9162]\n",
      "-575.1658397661424\n",
      "i: 6 lambda [0.3364 0.6636] mu [59.661  68.1893] sigma2 [693.7433  74.7555]\n",
      "-574.5931557765849\n",
      "i: 7 lambda [0.3533 0.6467] mu [59.9083 68.1648] sigma2 [678.7203  72.3613]\n",
      "-574.2684532970079\n",
      "i: 8 lambda [0.3659 0.6341] mu [60.067  68.1504] sigma2 [666.7263  70.8909]\n",
      "-574.0787641595623\n",
      "i: 9 lambda [0.3753 0.6247] mu [60.1755 68.1414] sigma2 [657.5406  69.9273]\n",
      "-573.9633231750029\n",
      "i: 10 lambda [0.3824 0.6176] mu [60.2527 68.1355] sigma2 [650.5963  69.2632]\n",
      "-573.8901847312018\n",
      "i: 11 lambda [0.3878 0.6122] mu [60.3091 68.1315] sigma2 [645.3582  68.789 ]\n",
      "-573.8421625060312\n",
      "i: 12 lambda [0.3918 0.6082] mu [60.3509 68.1286] sigma2 [641.4     68.4421]\n",
      "-573.8096583009836\n",
      "i: 13 lambda [0.3949 0.6051] mu [60.3822 68.1265] sigma2 [638.4     68.1844]\n",
      "-573.7870926319038\n",
      "i: 14 lambda [0.3973 0.6027] mu [60.4059 68.1249] sigma2 [636.1189  67.9909]\n",
      "-573.7710955704765\n",
      "i: 15 lambda [0.3991 0.6009] mu [60.4238 68.1237] sigma2 [634.3795  67.8445]\n",
      "-573.7595592930612\n",
      "i: 16 lambda [0.4005 0.5995] mu [60.4375 68.1228] sigma2 [633.05    67.7331]\n",
      "-573.7511233901134\n",
      "i: 17 lambda [0.4016 0.5984] mu [60.448  68.1221] sigma2 [632.0318  67.6482]\n",
      "-573.7448850046804\n",
      "i: 18 lambda [0.4024 0.5976] mu [60.456  68.1216] sigma2 [631.2508  67.5832]\n",
      "-573.7402299940134\n",
      "i: 19 lambda [0.4031 0.5969] mu [60.4622 68.1212] sigma2 [630.6509  67.5334]\n",
      "-573.7367314905296\n",
      "i: 20 lambda [0.4036 0.5964] mu [60.4669 68.1209] sigma2 [630.1898  67.4951]\n",
      "-573.7340871950257\n",
      "i: 21 lambda [0.4039 0.5961] mu [60.4705 68.1207] sigma2 [629.8351  67.4657]\n",
      "-573.7320795753523\n",
      "i: 22 lambda [0.4042 0.5958] mu [60.4733 68.1205] sigma2 [629.562   67.4431]\n",
      "-573.7305499729368\n",
      "i: 23 lambda [0.4044 0.5956] mu [60.4755 68.1203] sigma2 [629.3517  67.4257]\n",
      "-573.7293813646829\n",
      "i: 24 lambda [0.4046 0.5954] mu [60.4771 68.1202] sigma2 [629.1897  67.4123]\n",
      "-573.7284866389211\n",
      "i: 25 lambda [0.4047 0.5953] mu [60.4784 68.1201] sigma2 [629.0648  67.4019]\n",
      "-573.7278004637546\n",
      "i: 26 lambda [0.4048 0.5952] mu [60.4794 68.1201] sigma2 [628.9686  67.394 ]\n",
      "-573.7272735465789\n",
      "i: 27 lambda [0.4049 0.5951] mu [60.4802 68.12  ] sigma2 [628.8944  67.3879]\n",
      "-573.7268685179239\n",
      "i: 28 lambda [0.405 0.595] mu [60.4807 68.12  ] sigma2 [628.8372  67.3831]\n",
      "-573.7265569398651\n",
      "i: 29 lambda [0.405 0.595] mu [60.4812 68.12  ] sigma2 [628.7931  67.3795]\n",
      "-573.726317106655\n",
      "i: 30 lambda [0.4051 0.5949] mu [60.4815 68.1199] sigma2 [628.7591  67.3767]\n",
      "-573.7261324122021\n",
      "i: 31 lambda [0.4051 0.5949] mu [60.4818 68.1199] sigma2 [628.7329  67.3745]\n",
      "-573.7259901286975\n",
      "i: 32 lambda [0.4051 0.5949] mu [60.482  68.1199] sigma2 [628.7127  67.3728]\n",
      "-573.7258804869634\n",
      "i: 33 lambda [0.4051 0.5949] mu [60.4822 68.1199] sigma2 [628.6971  67.3715]\n",
      "-573.7257959804092\n",
      "i: 34 lambda [0.4051 0.5949] mu [60.4823 68.1199] sigma2 [628.6851  67.3706]\n",
      "-573.7257308360506\n",
      "i: 35 lambda [0.4052 0.5948] mu [60.4824 68.1199] sigma2 [628.6758  67.3698]\n",
      "-573.7256806111898\n",
      "i: 36 lambda [0.4052 0.5948] mu [60.4825 68.1199] sigma2 [628.6686  67.3692]\n",
      "-573.725641885112\n",
      "i: 37 lambda [0.4052 0.5948] mu [60.4825 68.1199] sigma2 [628.6631  67.3687]\n",
      "-573.7256120229439\n",
      "i: 38 lambda [0.4052 0.5948] mu [60.4826 68.1199] sigma2 [628.6588  67.3684]\n",
      "-573.7255889944961\n",
      "i: 39 lambda [0.4052 0.5948] mu [60.4826 68.1199] sigma2 [628.6556  67.3681]\n",
      "-573.725571235121\n",
      "i: 40 lambda [0.4052 0.5948] mu [60.4826 68.1199] sigma2 [628.653   67.3679]\n",
      "-573.7255575387389\n",
      "i: 41 lambda [0.4052 0.5948] mu [60.4827 68.1199] sigma2 [628.6511  67.3677]\n",
      "-573.7255469755326\n",
      "i: 42 lambda [0.4052 0.5948] mu [60.4827 68.1199] sigma2 [628.6496  67.3676]\n",
      "-573.7255388285894\n",
      "i: 43 lambda [0.4052 0.5948] mu [60.4827 68.1199] sigma2 [628.6484  67.3675]\n",
      "-573.7255325451043\n",
      "i: 44 lambda [0.4052 0.5948] mu [60.4827 68.1199] sigma2 [628.6475  67.3674]\n",
      "-573.7255276987864\n",
      "i: 45 lambda [0.4052 0.5948] mu [60.4827 68.1199] sigma2 [628.6468  67.3674]\n",
      "-573.72552396089\n",
      "i: 46 lambda [0.4052 0.5948] mu [60.4827 68.1199] sigma2 [628.6463  67.3673]\n",
      "-573.7255210778816\n",
      "i: 47 lambda [0.4052 0.5948] mu [60.4827 68.1199] sigma2 [628.6459  67.3673]\n",
      "-573.7255188542285\n",
      "i: 48 lambda [0.4052 0.5948] mu [60.4827 68.1199] sigma2 [628.6456  67.3673]\n",
      "-573.7255171391266\n",
      "i: 49 lambda [0.4052 0.5948] mu [60.4827 68.1199] sigma2 [628.6453  67.3673]\n",
      "-573.725515816265\n",
      "i: 50 lambda [0.4052 0.5948] mu [60.4827 68.1199] sigma2 [628.6451  67.3673]\n",
      "-573.7255147959363\n",
      "i: 51 lambda [0.4052 0.5948] mu [60.4827 68.1199] sigma2 [628.645   67.3672]\n",
      "-573.7255140089513\n",
      "i: 52 lambda [0.4052 0.5948] mu [60.4827 68.1199] sigma2 [628.6449  67.3672]\n"
     ]
    },
    {
     "data": {
      "image/png": "[encoded data removed]",
      "text/plain": [
       "<Figure size 432x288 with 1 Axes>"
      ]
     },
     "metadata": {
      "needs_background": "light"
     },
     "output_type": "display_data"
    }
   ],
   "source": [
    "# 100回繰り返す\n",
    "DIFF=0.000001\n",
    "old=0\n",
    "for i in sp.arange(100+1):\n",
    "    # Estep # responsibilityの更新 \n",
    "    responsibility = EStep(k_size, y, lambda_vec, coef_vec, sigma2_vec)\n",
    "    \n",
    "    # Mstep # 混合割合, 平均, 分散の更新\n",
    "    lambda_vec, mu_vec, coef_vec, sigma2_vec = MStep(k_size, responsibility, y)\n",
    "    plt.plot(x, calc_mix_pdf(k_size, x, lambda_vec, coef_vec, sigma2_vec), label=f\"i:{i}\", linestyle=\"--\")\n",
    "    \n",
    "    log_likelihood = calc_log_likelihood(X, coef_vec, sigma2_vec, lambda_vec, y)\n",
    "    print(log_likelihood)\n",
    "    print(\"i:\", i, \"lambda\", lambda_vec.round(4), \"mu\", np.round(mu_vec, 4), \"sigma2\", sigma2_vec.round(4))\n",
    "    \n",
    "    if i !=0:\n",
    "        diff = abs(log_likelihood - old)\n",
    "        if diff <DIFF:\n",
    "            break\n",
    "    old = log_likelihood\n",
    "\n",
    "    if i % 10 == 0:\n",
    "        #print(\"i:\", i, \"lambda\", lambda_vec.round(4), \"mu\", np.round(mu_vec, 4), \"sigma2\", sigma2_vec.round(4))\n",
    "        plt.plot(x, calc_mix_pdf(k_size, x, lambda_vec, coef_vec, sigma2_vec), label=f\"i:{i}\", linestyle=\"--\")\n",
    "        \n",
    "plt.plot(x, calc_mix_pdf(k_size, x, lambda_vec, coef_vec, sigma2_vec), label=f\"last{i}\", linestyle=\"-\")\n",
    "\n",
    "plt.legend()\n",
    "plt.tight_layout()\n",
    "plt.savefig(NEW_DIR_PATH +\"EMplot.png\")\n",
    "plt.show()"
   ]
  },
  {
   "cell_type": "code",
   "execution_count": 196,
   "metadata": {
    "scrolled": true
   },
   "outputs": [
    {
     "data": {
      "image/png": "[encoded data removed]",
      "text/plain": [
       "<Figure size 432x288 with 1 Axes>"
      ]
     },
     "metadata": {
      "needs_background": "light"
     },
     "output_type": "display_data"
    }
   ],
   "source": [
    "plt.hist(y, density=True)\n",
    "plt.plot(x, calc_mix_pdf(k_size, x, lambda_vec, coef_vec, sigma2_vec), label=\"ini\")\n",
    "plt.title(\"推定された分布\")\n",
    "plt.savefig(NEW_DIR_PATH +\"実測値と推定された分布.png\")"
   ]
  },
  {
   "cell_type": "markdown",
   "metadata": {},
   "source": [
    "#### 注  \n",
    "- mu1, mu2は反転する可能性があるため、f1, f2の混合比率を確認"
   ]
  },
  {
   "cell_type": "code",
   "execution_count": 197,
   "metadata": {},
   "outputs": [
    {
     "name": "stdout",
     "output_type": "stream",
     "text": [
      "f1の混合比率： 0.40519220155814056\n",
      "mu1： 60.48271851678495\n",
      "sigma1 628.6448661870961\n",
      "f2の混合比率： 0.5948077984418595\n",
      "mu2： 68.11986835970865\n",
      "sigma2： 67.36722922682975\n"
     ]
    }
   ],
   "source": [
    "print(\"f1の混合比率：\", lambda_vec[0])\n",
    "print(\"mu1：\", mu_vec[0])\n",
    "print(\"sigma1\", sigma2_vec[0])\n",
    "\n",
    "print(\"f2の混合比率：\", lambda_vec[1])\n",
    "print(\"mu2：\", mu_vec[1])\n",
    "print(\"sigma2：\", sigma2_vec[1])"
   ]
  },
  {
   "cell_type": "markdown",
   "metadata": {},
   "source": [
    "###  推定された分布の可視化"
   ]
  },
  {
   "cell_type": "code",
   "execution_count": 198,
   "metadata": {
    "scrolled": true
   },
   "outputs": [
    {
     "data": {
      "text/plain": [
       "Text(0.5, 1.0, '推定された分布の可視化')"
      ]
     },
     "execution_count": 198,
     "metadata": {},
     "output_type": "execute_result"
    },
    {
     "data": {
      "image/png": "[encoded data removed]",
      "text/plain": [
       "<Figure size 432x288 with 1 Axes>"
      ]
     },
     "metadata": {
      "needs_background": "light"
     },
     "output_type": "display_data"
    }
   ],
   "source": [
    "\"\"\"# 推定された分布の可視化\n",
    "new_N1 = stats.norm(loc=mu_vec[0], scale=sp.sqrt(sigma2_vec[0]))\n",
    "new_N2 = stats.norm(loc=mu_vec[1], scale=sp.sqrt(sigma2_vec[1]))\n",
    "\n",
    "# rvs (Random variates) 確率変数\n",
    "new_s1 = new_N1.rvs(size=int(lambda_vec[0]*150))\n",
    "new_s2 = new_N2.rvs(size=int(lambda_vec[1]*150))\n",
    "\n",
    "\n",
    "#plt.hist(y, bins=30, density=True)\n",
    "\n",
    "plt.hist(new_s1, density=True, alpha=0.6)\n",
    "plt.hist(new_s2, density=True, alpha=0.6)\n",
    "\n",
    "\"\"\"\n",
    "np.random.seed(seed=123)\n",
    "new_s1 = np.random.normal(loc=mu_vec[0], scale=sp.sqrt(sigma2_vec[0]), size=int(lambda_vec[0]*150))\n",
    "new_s2 = np.random.normal(loc=mu_vec[1], scale=sp.sqrt(sigma2_vec[1]), size=int(lambda_vec[1]*150))\n",
    "plt.hist(new_s1, density=True, alpha=0.6)\n",
    "plt.hist(new_s2, density=True, alpha=0.6)\n",
    "plt.title(\"推定された分布の可視化\")"
   ]
  },
  {
   "cell_type": "code",
   "execution_count": 199,
   "metadata": {},
   "outputs": [
    {
     "data": {
      "image/png": "[encoded data removed]",
      "text/plain": [
       "<Figure size 432x288 with 1 Axes>"
      ]
     },
     "metadata": {
      "needs_background": "light"
     },
     "output_type": "display_data"
    }
   ],
   "source": [
    "new_N1 = stats.norm.pdf(x, loc=mu_vec[0], scale=sp.sqrt(sigma2_vec[0]))\n",
    "new_N2 = stats.norm.pdf(x, loc=mu_vec[1], scale=sp.sqrt(sigma2_vec[1]))\n",
    "\n",
    "plt.hist(y, density=True,)\n",
    "plt.plot(x, new_N1, color=\"orange\")\n",
    "plt.plot(x, new_N2, color=\"red\")\n",
    "\n",
    "plt.title(\"推定された分布の可視化\")\n",
    "plt.savefig(NEW_DIR_PATH +\"分布1と2の可視化.png\")"
   ]
  },
  {
   "cell_type": "markdown",
   "metadata": {},
   "source": [
    "#### 推定されたパラメータ"
   ]
  },
  {
   "cell_type": "code",
   "execution_count": 200,
   "metadata": {},
   "outputs": [
    {
     "data": {
      "text/html": [
       "<div>\n",
       "<style scoped>\n",
       "    .dataframe tbody tr th:only-of-type {\n",
       "        vertical-align: middle;\n",
       "    }\n",
       "\n",
       "    .dataframe tbody tr th {\n",
       "        vertical-align: top;\n",
       "    }\n",
       "\n",
       "    .dataframe thead th {\n",
       "        text-align: right;\n",
       "    }\n",
       "</style>\n",
       "<table border=\"1\" class=\"dataframe\">\n",
       "  <thead>\n",
       "    <tr style=\"text-align: right;\">\n",
       "      <th></th>\n",
       "      <th>分布1</th>\n",
       "      <th>分布2</th>\n",
       "    </tr>\n",
       "  </thead>\n",
       "  <tbody>\n",
       "    <tr>\n",
       "      <th>Intercept</th>\n",
       "      <td>60.4827</td>\n",
       "      <td>68.1199</td>\n",
       "    </tr>\n",
       "    <tr>\n",
       "      <th>dist_hf</th>\n",
       "      <td>9.4627</td>\n",
       "      <td>1.1369</td>\n",
       "    </tr>\n",
       "    <tr>\n",
       "      <th>pop</th>\n",
       "      <td>-2.3422</td>\n",
       "      <td>-4.9921</td>\n",
       "    </tr>\n",
       "    <tr>\n",
       "      <th>urb</th>\n",
       "      <td>-1.7971</td>\n",
       "      <td>-3.7338</td>\n",
       "    </tr>\n",
       "    <tr>\n",
       "      <th>gdp</th>\n",
       "      <td>-4.8532</td>\n",
       "      <td>-1.7710</td>\n",
       "    </tr>\n",
       "    <tr>\n",
       "      <th>dist_air</th>\n",
       "      <td>-0.9935</td>\n",
       "      <td>1.8166</td>\n",
       "    </tr>\n",
       "    <tr>\n",
       "      <th>detection</th>\n",
       "      <td>-11.0954</td>\n",
       "      <td>-2.7269</td>\n",
       "    </tr>\n",
       "  </tbody>\n",
       "</table>\n",
       "</div>"
      ],
      "text/plain": [
       "               分布1      分布2\n",
       "Intercept  60.4827  68.1199\n",
       "dist_hf     9.4627   1.1369\n",
       "pop        -2.3422  -4.9921\n",
       "urb        -1.7971  -3.7338\n",
       "gdp        -4.8532  -1.7710\n",
       "dist_air   -0.9935   1.8166\n",
       "detection -11.0954  -2.7269"
      ]
     },
     "execution_count": 200,
     "metadata": {},
     "output_type": "execute_result"
    }
   ],
   "source": [
    "res_df = pd.DataFrame(coef_vec[0].round(4), index=[\"Intercept\"]+FEATS,  columns=[\"分布1\"])\n",
    "res_df[\"分布2\"] = coef_vec[1].round(4)\n",
    "res_df"
   ]
  },
  {
   "cell_type": "markdown",
   "metadata": {},
   "source": [
    "# AIC"
   ]
  },
  {
   "cell_type": "code",
   "execution_count": 201,
   "metadata": {},
   "outputs": [
    {
     "name": "stdout",
     "output_type": "stream",
     "text": [
      "対数尤度 -573.7255140089513\n"
     ]
    }
   ],
   "source": [
    "\"\"\"norm1 = 1/(2*np.pi*sigma2_vec[0])**(1/2) * np.exp((-1/2) *((y - X@coef_vec[0]) **2/sigma2_vec[0]) )\n",
    "norm2 = 1/(2*np.pi*sigma2_vec[1])**(1/2) * np.exp((-1/2) *((y - X@coef_vec[1]) **2/sigma2_vec[1]) )\n",
    "\n",
    "likelihood = responsibility[0]@np.log(norm1) + responsibility[1]@np.log(norm2) + np.sum(responsibility[0]*np.log( lambda_vec[0])) + np.sum(responsibility[1]*np.log( lambda_vec[1]))\n",
    "print(\"対数尤度\", likelihood)\"\"\"\n",
    "\n",
    "norm1 = stats.norm(loc=X@coef_vec[0], scale=np.sqrt(sigma2_vec[0])).pdf(y)\n",
    "norm2 = stats.norm(loc=X@coef_vec[1], scale=np.sqrt(sigma2_vec[1])).pdf(y)\n",
    "likelihood=lambda_vec[0]*norm1 + lambda_vec[1]*norm2\n",
    "log_likelihood = np.sum(np.log(likelihood))\n",
    "print(\"対数尤度\", log_likelihood)\n"
   ]
  },
  {
   "cell_type": "code",
   "execution_count": 202,
   "metadata": {},
   "outputs": [
    {
     "name": "stdout",
     "output_type": "stream",
     "text": [
      "AIC 1183.4510280179027\n"
     ]
    }
   ],
   "source": [
    "k=len(coef_vec[0])+2 + len(coef_vec[1])+2\n",
    "aic = -2*(log_likelihood)+ 2 *(k)\n",
    "print(\"AIC\", aic)"
   ]
  },
  {
   "cell_type": "markdown",
   "metadata": {},
   "source": [
    "# 決定係数"
   ]
  },
  {
   "cell_type": "code",
   "execution_count": 203,
   "metadata": {},
   "outputs": [],
   "source": [
    "#y_hat = np.diag(responsibility[0])@X@coef_vec[0]*lambda_vec[0] + np.diag(responsibility[1])@X@coef_vec[1]*lambda_vec[1]\n",
    "y_hat = (X@coef_vec[0])*lambda_vec[0] + (X@coef_vec[1])*lambda_vec[1]"
   ]
  },
  {
   "cell_type": "code",
   "execution_count": 204,
   "metadata": {},
   "outputs": [
    {
     "name": "stdout",
     "output_type": "stream",
     "text": [
      "決定係数 0.472767247318324\n"
     ]
    }
   ],
   "source": [
    "from sklearn.metrics import r2_score\n",
    "r2=r2_score( y, y_hat)\n",
    "print(\"決定係数\", r2)"
   ]
  },
  {
   "cell_type": "code",
   "execution_count": 205,
   "metadata": {},
   "outputs": [],
   "source": [
    "df[\"y_hat\"] = y_hat"
   ]
  },
  {
   "cell_type": "code",
   "execution_count": 206,
   "metadata": {},
   "outputs": [
    {
     "data": {
      "image/png": "[encoded data removed]",
      "text/plain": [
       "<Figure size 432x288 with 1 Axes>"
      ]
     },
     "metadata": {
      "needs_background": "light"
     },
     "output_type": "display_data"
    }
   ],
   "source": [
    "plt.hist(df[\"y_hat\"], bins=20)\n",
    "plt.title(\"y_hatのヒストグラム\")\n",
    "plt.savefig(NEW_DIR_PATH +\"y_hatのヒストグラム.png\")"
   ]
  },
  {
   "cell_type": "code",
   "execution_count": 207,
   "metadata": {},
   "outputs": [
    {
     "data": {
      "text/plain": [
       "count    148.000000\n",
       "mean      65.025355\n",
       "std       11.238706\n",
       "min       22.032609\n",
       "25%       56.932315\n",
       "50%       65.493250\n",
       "75%       73.804472\n",
       "max       87.222169\n",
       "Name: y_hat, dtype: float64"
      ]
     },
     "execution_count": 207,
     "metadata": {},
     "output_type": "execute_result"
    }
   ],
   "source": [
    "df[\"y_hat\"].describe()"
   ]
  },
  {
   "cell_type": "markdown",
   "metadata": {},
   "source": [
    "# その他評価指標"
   ]
  },
  {
   "cell_type": "code",
   "execution_count": 208,
   "metadata": {},
   "outputs": [
    {
     "data": {
      "text/plain": [
       "13.18567787008132"
      ]
     },
     "execution_count": 208,
     "metadata": {},
     "output_type": "execute_result"
    }
   ],
   "source": [
    "from sklearn.metrics import mean_squared_error\n",
    "\n",
    "rmse = np.sqrt(mean_squared_error(y, y_hat))\n",
    "rmse"
   ]
  },
  {
   "cell_type": "code",
   "execution_count": 209,
   "metadata": {},
   "outputs": [
    {
     "data": {
      "text/plain": [
       "9.624473747930631"
      ]
     },
     "execution_count": 209,
     "metadata": {},
     "output_type": "execute_result"
    }
   ],
   "source": [
    "from sklearn.metrics import mean_absolute_error\n",
    "\n",
    "mae = mean_absolute_error(y, y_hat)\n",
    "mae"
   ]
  },
  {
   "cell_type": "markdown",
   "metadata": {},
   "source": [
    "# 残差の可視化"
   ]
  },
  {
   "cell_type": "code",
   "execution_count": 210,
   "metadata": {},
   "outputs": [
    {
     "data": {
      "text/html": [
       "<div>\n",
       "<style scoped>\n",
       "    .dataframe tbody tr th:only-of-type {\n",
       "        vertical-align: middle;\n",
       "    }\n",
       "\n",
       "    .dataframe tbody tr th {\n",
       "        vertical-align: top;\n",
       "    }\n",
       "\n",
       "    .dataframe thead th {\n",
       "        text-align: right;\n",
       "    }\n",
       "</style>\n",
       "<table border=\"1\" class=\"dataframe\">\n",
       "  <thead>\n",
       "    <tr style=\"text-align: right;\">\n",
       "      <th></th>\n",
       "      <th>country</th>\n",
       "      <th>date_first</th>\n",
       "      <th>y_hat</th>\n",
       "      <th>y-y_hat</th>\n",
       "    </tr>\n",
       "  </thead>\n",
       "  <tbody>\n",
       "    <tr>\n",
       "      <th>0</th>\n",
       "      <td>Albania</td>\n",
       "      <td>70</td>\n",
       "      <td>59.877361</td>\n",
       "      <td>10.122639</td>\n",
       "    </tr>\n",
       "    <tr>\n",
       "      <th>1</th>\n",
       "      <td>Algeria</td>\n",
       "      <td>58</td>\n",
       "      <td>72.361433</td>\n",
       "      <td>-14.361433</td>\n",
       "    </tr>\n",
       "    <tr>\n",
       "      <th>2</th>\n",
       "      <td>Angola</td>\n",
       "      <td>83</td>\n",
       "      <td>74.931199</td>\n",
       "      <td>8.068801</td>\n",
       "    </tr>\n",
       "    <tr>\n",
       "      <th>3</th>\n",
       "      <td>Argentina</td>\n",
       "      <td>65</td>\n",
       "      <td>64.966188</td>\n",
       "      <td>0.033812</td>\n",
       "    </tr>\n",
       "    <tr>\n",
       "      <th>4</th>\n",
       "      <td>Australia</td>\n",
       "      <td>26</td>\n",
       "      <td>46.595951</td>\n",
       "      <td>-20.595951</td>\n",
       "    </tr>\n",
       "  </tbody>\n",
       "</table>\n",
       "</div>"
      ],
      "text/plain": [
       "     country  date_first      y_hat    y-y_hat\n",
       "0    Albania          70  59.877361  10.122639\n",
       "1    Algeria          58  72.361433 -14.361433\n",
       "2     Angola          83  74.931199   8.068801\n",
       "3  Argentina          65  64.966188   0.033812\n",
       "4  Australia          26  46.595951 -20.595951"
      ]
     },
     "execution_count": 210,
     "metadata": {},
     "output_type": "execute_result"
    }
   ],
   "source": [
    "df[\"y-y_hat\"] = df[\"date_first\"] - df[\"y_hat\"]\n",
    "df[[\"country\", \"date_first\", \"y_hat\", \"y-y_hat\"]].head()"
   ]
  },
  {
   "cell_type": "code",
   "execution_count": 211,
   "metadata": {},
   "outputs": [
    {
     "data": {
      "application/vnd.plotly.v1+json": {
       "config": {
        "plotlyServerURL": "https://plot.ly"
       },
       "data": [
        {
         "coloraxis": "coloraxis",
         "geo": "geo",
         "hovertemplate": "<b>%{hovertext}</b><br><br>code3=%{location}<br>date_first=%{z}<extra></extra>",
         "hovertext": [
          "Albania",
          "Algeria",
          "Angola",
          "Argentina",
          "Australia",
          "Austria",
          "Azerbaijan",
          "Bahamas",
          "Bahrain",
          "Bangladesh",
          "Belarus",
          "Belgium",
          "Belize",
          "Benin",
          "Bhutan",
          "Bolivia",
          "Bosnia and Herzegovina",
          "Botswana",
          "Brazil",
          "Brunei",
          "Bulgaria",
          "Burkina Faso",
          "Burundi",
          "Cambodia",
          "Cameroon",
          "Canada",
          "Cape Verde",
          "Central African Republic",
          "Chad",
          "Chile",
          "Colombia",
          "Congo",
          "Costa Rica",
          "Ivory Coast",
          "Croatia",
          "Cyprus",
          "Czech Republic",
          "Democratic Republic of the Congo",
          "Denmark",
          "Dominican Republic",
          "Ecuador",
          "Egypt",
          "El Salvador",
          "Estonia",
          "Ethiopia",
          "Fiji",
          "Finland",
          "France",
          "Gabon",
          "Gambia",
          "Georgia",
          "Germany",
          "Ghana",
          "Greece",
          "Guatemala",
          "Guinea",
          "Guinea-Bissau",
          "Guyana",
          "Honduras",
          "Hungary",
          "Iceland",
          "India",
          "Indonesia",
          "Iran",
          "Iraq",
          "Ireland",
          "Israel",
          "Italy",
          "Jamaica",
          "Japan",
          "Jordan",
          "Kazakhstan",
          "Kenya",
          "Kuwait",
          "Kyrgyzstan",
          "Latvia",
          "Lebanon",
          "Liberia",
          "Libya",
          "Lithuania",
          "Luxembourg",
          "Madagascar",
          "Malawi",
          "Malaysia",
          "Malta",
          "Mauritania",
          "Mauritius",
          "Mexico",
          "Moldova",
          "Mongolia",
          "Montenegro",
          "Morocco",
          "Mozambique",
          "Myanmar",
          "Nepal",
          "Netherlands",
          "New Zealand",
          "Nicaragua",
          "Niger",
          "Nigeria",
          "Macedonia",
          "Norway",
          "Oman",
          "Pakistan",
          "Panama",
          "Papua New Guinea",
          "Paraguay",
          "Peru",
          "Philippines",
          "Poland",
          "Portugal",
          "Qatar",
          "Romania",
          "Russia",
          "Rwanda",
          "Saudi Arabia",
          "Senegal",
          "Serbia",
          "Seychelles",
          "Sierra Leone",
          "Singapore",
          "Slovakia",
          "Slovenia",
          "South Africa",
          "South Korea",
          "Spain",
          "Sri Lanka",
          "Sudan",
          "Suriname",
          "Sweden",
          "Switzerland",
          "Thailand",
          "Togo",
          "Tobago",
          "Tunisia",
          "Turkey",
          "Uganda",
          "Ukraine",
          "United Arab Emirates",
          "UK",
          "Tanzania",
          "USA",
          "Uruguay",
          "Venezuela",
          "Vietnam",
          "Yemen",
          "Zambia",
          "Zimbabwe"
         ],
         "locations": [
          "ALB",
          "DZA",
          "AGO",
          "ARG",
          "AUS",
          "AUT",
          "AZE",
          "BHM",
          "BHR",
          "BGD",
          "BLR",
          "BEL",
          "BLZ",
          "BEN",
          "BTN",
          "BOL",
          "BIH",
          "BWA",
          "BRA",
          "BRN",
          "BGR",
          "BFA",
          "BDI",
          "KHM",
          "CMR",
          "CAN",
          "CPV",
          "CAF",
          "TCD",
          "CHL",
          "COL",
          "COG",
          "CRI",
          "CIV",
          "HRV",
          "CYP",
          "CZE",
          "COD",
          "DNK",
          "DOM",
          "ECU",
          "EGY",
          "SLV",
          "EST",
          "ETH",
          "FJI",
          "FIN",
          "FRA",
          "GAB",
          "GMB",
          "GEO",
          "DEU",
          "GHA",
          "GRC",
          "GTM",
          "GIN",
          "GNB",
          "GUY",
          "HND",
          "HUN",
          "ISL",
          "IND",
          "IDN",
          "IRN",
          "IRQ",
          "IRL",
          "ISR",
          "ITA",
          "JAM",
          "JPN",
          "JOR",
          "KAZ",
          "KEN",
          "KWT",
          "KGZ",
          "LVA",
          "LBN",
          "LBR",
          "LBY",
          "LTU",
          "LUX",
          "MDG",
          "MWI",
          "MYS",
          "MLT",
          "MRT",
          "MUS",
          "MEX",
          "MDA",
          "MNG",
          "MNE",
          "MAR",
          "MOZ",
          "MMR",
          "NPL",
          "NLD",
          "NZL",
          "NIC",
          "NER",
          "NGA",
          "MKD",
          "NOR",
          "OMN",
          "PAK",
          "PAN",
          "PNG",
          "PRY",
          "PER",
          "PHL",
          "POL",
          "PRT",
          "QAT",
          "ROU",
          "RUS",
          "RWA",
          "SAU",
          "SEN",
          "SRB",
          "SYC",
          "SLE",
          "SGP",
          "SVK",
          "SVN",
          "ZAF",
          "KOR",
          "ESP",
          "LKA",
          "SDN",
          "SUR",
          "SWE",
          "CHE",
          "THA",
          "TGO",
          "TTO",
          "TUN",
          "TUR",
          "UGA",
          "UKR",
          "ARE",
          "GBR",
          "TZA",
          "USA",
          "URY",
          "VEN",
          "VNM",
          "YEM",
          "ZMB",
          "ZWE"
         ],
         "name": "",
         "type": "choropleth",
         "z": [
          70,
          58,
          83,
          65,
          26,
          58,
          61,
          77,
          56,
          70,
          60,
          36,
          85,
          78,
          67,
          73,
          67,
          93,
          58,
          71,
          69,
          72,
          93,
          29,
          68,
          27,
          82,
          77,
          81,
          65,
          68,
          77,
          68,
          73,
          58,
          71,
          63,
          72,
          59,
          63,
          62,
          47,
          80,
          60,
          75,
          81,
          31,
          26,
          74,
          79,
          59,
          29,
          74,
          59,
          76,
          75,
          88,
          74,
          73,
          66,
          61,
          31,
          63,
          52,
          57,
          62,
          54,
          32,
          73,
          16,
          64,
          76,
          75,
          56,
          80,
          64,
          54,
          78,
          86,
          60,
          62,
          82,
          95,
          26,
          69,
          76,
          81,
          61,
          69,
          71,
          79,
          64,
          84,
          78,
          26,
          60,
          60,
          80,
          82,
          60,
          59,
          59,
          57,
          59,
          71,
          82,
          69,
          68,
          31,
          65,
          64,
          62,
          59,
          64,
          76,
          64,
          64,
          68,
          76,
          93,
          25,
          68,
          66,
          67,
          21,
          33,
          29,
          75,
          76,
          33,
          58,
          14,
          68,
          74,
          64,
          73,
          83,
          65,
          28,
          32,
          78,
          22,
          76,
          76,
          25,
          102,
          80,
          82
         ]
        }
       ],
       "layout": {
        "coloraxis": {
         "cmax": 102,
         "cmin": 0,
         "colorbar": {
          "title": {
           "text": "date_first"
          }
         },
         "colorscale": [
          [
           0,
           "rgb(127,0,0)"
          ],
          [
           0.125,
           "rgb(179,0,0)"
          ],
          [
           0.25,
           "rgb(215,48,31)"
          ],
          [
           0.375,
           "rgb(239,101,72)"
          ],
          [
           0.5,
           "rgb(252,141,89)"
          ],
          [
           0.625,
           "rgb(253,187,132)"
          ],
          [
           0.75,
           "rgb(253,212,158)"
          ],
          [
           0.875,
           "rgb(254,232,200)"
          ],
          [
           1,
           "rgb(255,247,236)"
          ]
         ]
        },
        "geo": {
         "center": {},
         "domain": {
          "x": [
           0,
           1
          ],
          "y": [
           0,
           1
          ]
         }
        },
        "legend": {
         "tracegroupgap": 0
        },
        "margin": {
         "t": 60
        },
        "template": {
         "data": {
          "bar": [
           {
            "error_x": {
             "color": "#2a3f5f"
            },
            "error_y": {
             "color": "#2a3f5f"
            },
            "marker": {
             "line": {
              "color": "#E5ECF6",
              "width": 0.5
             }
            },
            "type": "bar"
           }
          ],
          "barpolar": [
           {
            "marker": {
             "line": {
              "color": "#E5ECF6",
              "width": 0.5
             }
            },
            "type": "barpolar"
           }
          ],
          "carpet": [
           {
            "aaxis": {
             "endlinecolor": "#2a3f5f",
             "gridcolor": "white",
             "linecolor": "white",
             "minorgridcolor": "white",
             "startlinecolor": "#2a3f5f"
            },
            "baxis": {
             "endlinecolor": "#2a3f5f",
             "gridcolor": "white",
             "linecolor": "white",
             "minorgridcolor": "white",
             "startlinecolor": "#2a3f5f"
            },
            "type": "carpet"
           }
          ],
          "choropleth": [
           {
            "colorbar": {
             "outlinewidth": 0,
             "ticks": ""
            },
            "type": "choropleth"
           }
          ],
          "contour": [
           {
            "colorbar": {
             "outlinewidth": 0,
             "ticks": ""
            },
            "colorscale": [
             [
              0,
              "#0d0887"
             ],
             [
              0.1111111111111111,
              "#46039f"
             ],
             [
              0.2222222222222222,
              "#7201a8"
             ],
             [
              0.3333333333333333,
              "#9c179e"
             ],
             [
              0.4444444444444444,
              "#bd3786"
             ],
             [
              0.5555555555555556,
              "#d8576b"
             ],
             [
              0.6666666666666666,
              "#ed7953"
             ],
             [
              0.7777777777777778,
              "#fb9f3a"
             ],
             [
              0.8888888888888888,
              "#fdca26"
             ],
             [
              1,
              "#f0f921"
             ]
            ],
            "type": "contour"
           }
          ],
          "contourcarpet": [
           {
            "colorbar": {
             "outlinewidth": 0,
             "ticks": ""
            },
            "type": "contourcarpet"
           }
          ],
          "heatmap": [
           {
            "colorbar": {
             "outlinewidth": 0,
             "ticks": ""
            },
            "colorscale": [
             [
              0,
              "#0d0887"
             ],
             [
              0.1111111111111111,
              "#46039f"
             ],
             [
              0.2222222222222222,
              "#7201a8"
             ],
             [
              0.3333333333333333,
              "#9c179e"
             ],
             [
              0.4444444444444444,
              "#bd3786"
             ],
             [
              0.5555555555555556,
              "#d8576b"
             ],
             [
              0.6666666666666666,
              "#ed7953"
             ],
             [
              0.7777777777777778,
              "#fb9f3a"
             ],
             [
              0.8888888888888888,
              "#fdca26"
             ],
             [
              1,
              "#f0f921"
             ]
            ],
            "type": "heatmap"
           }
          ],
          "heatmapgl": [
           {
            "colorbar": {
             "outlinewidth": 0,
             "ticks": ""
            },
            "colorscale": [
             [
              0,
              "#0d0887"
             ],
             [
              0.1111111111111111,
              "#46039f"
             ],
             [
              0.2222222222222222,
              "#7201a8"
             ],
             [
              0.3333333333333333,
              "#9c179e"
             ],
             [
              0.4444444444444444,
              "#bd3786"
             ],
             [
              0.5555555555555556,
              "#d8576b"
             ],
             [
              0.6666666666666666,
              "#ed7953"
             ],
             [
              0.7777777777777778,
              "#fb9f3a"
             ],
             [
              0.8888888888888888,
              "#fdca26"
             ],
             [
              1,
              "#f0f921"
             ]
            ],
            "type": "heatmapgl"
           }
          ],
          "histogram": [
           {
            "marker": {
             "colorbar": {
              "outlinewidth": 0,
              "ticks": ""
             }
            },
            "type": "histogram"
           }
          ],
          "histogram2d": [
           {
            "colorbar": {
             "outlinewidth": 0,
             "ticks": ""
            },
            "colorscale": [
             [
              0,
              "#0d0887"
             ],
             [
              0.1111111111111111,
              "#46039f"
             ],
             [
              0.2222222222222222,
              "#7201a8"
             ],
             [
              0.3333333333333333,
              "#9c179e"
             ],
             [
              0.4444444444444444,
              "#bd3786"
             ],
             [
              0.5555555555555556,
              "#d8576b"
             ],
             [
              0.6666666666666666,
              "#ed7953"
             ],
             [
              0.7777777777777778,
              "#fb9f3a"
             ],
             [
              0.8888888888888888,
              "#fdca26"
             ],
             [
              1,
              "#f0f921"
             ]
            ],
            "type": "histogram2d"
           }
          ],
          "histogram2dcontour": [
           {
            "colorbar": {
             "outlinewidth": 0,
             "ticks": ""
            },
            "colorscale": [
             [
              0,
              "#0d0887"
             ],
             [
              0.1111111111111111,
              "#46039f"
             ],
             [
              0.2222222222222222,
              "#7201a8"
             ],
             [
              0.3333333333333333,
              "#9c179e"
             ],
             [
              0.4444444444444444,
              "#bd3786"
             ],
             [
              0.5555555555555556,
              "#d8576b"
             ],
             [
              0.6666666666666666,
              "#ed7953"
             ],
             [
              0.7777777777777778,
              "#fb9f3a"
             ],
             [
              0.8888888888888888,
              "#fdca26"
             ],
             [
              1,
              "#f0f921"
             ]
            ],
            "type": "histogram2dcontour"
           }
          ],
          "mesh3d": [
           {
            "colorbar": {
             "outlinewidth": 0,
             "ticks": ""
            },
            "type": "mesh3d"
           }
          ],
          "parcoords": [
           {
            "line": {
             "colorbar": {
              "outlinewidth": 0,
              "ticks": ""
             }
            },
            "type": "parcoords"
           }
          ],
          "pie": [
           {
            "automargin": true,
            "type": "pie"
           }
          ],
          "scatter": [
           {
            "marker": {
             "colorbar": {
              "outlinewidth": 0,
              "ticks": ""
             }
            },
            "type": "scatter"
           }
          ],
          "scatter3d": [
           {
            "line": {
             "colorbar": {
              "outlinewidth": 0,
              "ticks": ""
             }
            },
            "marker": {
             "colorbar": {
              "outlinewidth": 0,
              "ticks": ""
             }
            },
            "type": "scatter3d"
           }
          ],
          "scattercarpet": [
           {
            "marker": {
             "colorbar": {
              "outlinewidth": 0,
              "ticks": ""
             }
            },
            "type": "scattercarpet"
           }
          ],
          "scattergeo": [
           {
            "marker": {
             "colorbar": {
              "outlinewidth": 0,
              "ticks": ""
             }
            },
            "type": "scattergeo"
           }
          ],
          "scattergl": [
           {
            "marker": {
             "colorbar": {
              "outlinewidth": 0,
              "ticks": ""
             }
            },
            "type": "scattergl"
           }
          ],
          "scattermapbox": [
           {
            "marker": {
             "colorbar": {
              "outlinewidth": 0,
              "ticks": ""
             }
            },
            "type": "scattermapbox"
           }
          ],
          "scatterpolar": [
           {
            "marker": {
             "colorbar": {
              "outlinewidth": 0,
              "ticks": ""
             }
            },
            "type": "scatterpolar"
           }
          ],
          "scatterpolargl": [
           {
            "marker": {
             "colorbar": {
              "outlinewidth": 0,
              "ticks": ""
             }
            },
            "type": "scatterpolargl"
           }
          ],
          "scatterternary": [
           {
            "marker": {
             "colorbar": {
              "outlinewidth": 0,
              "ticks": ""
             }
            },
            "type": "scatterternary"
           }
          ],
          "surface": [
           {
            "colorbar": {
             "outlinewidth": 0,
             "ticks": ""
            },
            "colorscale": [
             [
              0,
              "#0d0887"
             ],
             [
              0.1111111111111111,
              "#46039f"
             ],
             [
              0.2222222222222222,
              "#7201a8"
             ],
             [
              0.3333333333333333,
              "#9c179e"
             ],
             [
              0.4444444444444444,
              "#bd3786"
             ],
             [
              0.5555555555555556,
              "#d8576b"
             ],
             [
              0.6666666666666666,
              "#ed7953"
             ],
             [
              0.7777777777777778,
              "#fb9f3a"
             ],
             [
              0.8888888888888888,
              "#fdca26"
             ],
             [
              1,
              "#f0f921"
             ]
            ],
            "type": "surface"
           }
          ],
          "table": [
           {
            "cells": {
             "fill": {
              "color": "#EBF0F8"
             },
             "line": {
              "color": "white"
             }
            },
            "header": {
             "fill": {
              "color": "#C8D4E3"
             },
             "line": {
              "color": "white"
             }
            },
            "type": "table"
           }
          ]
         },
         "layout": {
          "annotationdefaults": {
           "arrowcolor": "#2a3f5f",
           "arrowhead": 0,
           "arrowwidth": 1
          },
          "coloraxis": {
           "colorbar": {
            "outlinewidth": 0,
            "ticks": ""
           }
          },
          "colorscale": {
           "diverging": [
            [
             0,
             "#8e0152"
            ],
            [
             0.1,
             "#c51b7d"
            ],
            [
             0.2,
             "#de77ae"
            ],
            [
             0.3,
             "#f1b6da"
            ],
            [
             0.4,
             "#fde0ef"
            ],
            [
             0.5,
             "#f7f7f7"
            ],
            [
             0.6,
             "#e6f5d0"
            ],
            [
             0.7,
             "#b8e186"
            ],
            [
             0.8,
             "#7fbc41"
            ],
            [
             0.9,
             "#4d9221"
            ],
            [
             1,
             "#276419"
            ]
           ],
           "sequential": [
            [
             0,
             "#0d0887"
            ],
            [
             0.1111111111111111,
             "#46039f"
            ],
            [
             0.2222222222222222,
             "#7201a8"
            ],
            [
             0.3333333333333333,
             "#9c179e"
            ],
            [
             0.4444444444444444,
             "#bd3786"
            ],
            [
             0.5555555555555556,
             "#d8576b"
            ],
            [
             0.6666666666666666,
             "#ed7953"
            ],
            [
             0.7777777777777778,
             "#fb9f3a"
            ],
            [
             0.8888888888888888,
             "#fdca26"
            ],
            [
             1,
             "#f0f921"
            ]
           ],
           "sequentialminus": [
            [
             0,
             "#0d0887"
            ],
            [
             0.1111111111111111,
             "#46039f"
            ],
            [
             0.2222222222222222,
             "#7201a8"
            ],
            [
             0.3333333333333333,
             "#9c179e"
            ],
            [
             0.4444444444444444,
             "#bd3786"
            ],
            [
             0.5555555555555556,
             "#d8576b"
            ],
            [
             0.6666666666666666,
             "#ed7953"
            ],
            [
             0.7777777777777778,
             "#fb9f3a"
            ],
            [
             0.8888888888888888,
             "#fdca26"
            ],
            [
             1,
             "#f0f921"
            ]
           ]
          },
          "colorway": [
           "#636efa",
           "#EF553B",
           "#00cc96",
           "#ab63fa",
           "#FFA15A",
           "#19d3f3",
           "#FF6692",
           "#B6E880",
           "#FF97FF",
           "#FECB52"
          ],
          "font": {
           "color": "#2a3f5f"
          },
          "geo": {
           "bgcolor": "white",
           "lakecolor": "white",
           "landcolor": "#E5ECF6",
           "showlakes": true,
           "showland": true,
           "subunitcolor": "white"
          },
          "hoverlabel": {
           "align": "left"
          },
          "hovermode": "closest",
          "mapbox": {
           "style": "light"
          },
          "paper_bgcolor": "white",
          "plot_bgcolor": "#E5ECF6",
          "polar": {
           "angularaxis": {
            "gridcolor": "white",
            "linecolor": "white",
            "ticks": ""
           },
           "bgcolor": "#E5ECF6",
           "radialaxis": {
            "gridcolor": "white",
            "linecolor": "white",
            "ticks": ""
           }
          },
          "scene": {
           "xaxis": {
            "backgroundcolor": "#E5ECF6",
            "gridcolor": "white",
            "gridwidth": 2,
            "linecolor": "white",
            "showbackground": true,
            "ticks": "",
            "zerolinecolor": "white"
           },
           "yaxis": {
            "backgroundcolor": "#E5ECF6",
            "gridcolor": "white",
            "gridwidth": 2,
            "linecolor": "white",
            "showbackground": true,
            "ticks": "",
            "zerolinecolor": "white"
           },
           "zaxis": {
            "backgroundcolor": "#E5ECF6",
            "gridcolor": "white",
            "gridwidth": 2,
            "linecolor": "white",
            "showbackground": true,
            "ticks": "",
            "zerolinecolor": "white"
           }
          },
          "shapedefaults": {
           "line": {
            "color": "#2a3f5f"
           }
          },
          "ternary": {
           "aaxis": {
            "gridcolor": "white",
            "linecolor": "white",
            "ticks": ""
           },
           "baxis": {
            "gridcolor": "white",
            "linecolor": "white",
            "ticks": ""
           },
           "bgcolor": "#E5ECF6",
           "caxis": {
            "gridcolor": "white",
            "linecolor": "white",
            "ticks": ""
           }
          },
          "title": {
           "x": 0.05
          },
          "xaxis": {
           "automargin": true,
           "gridcolor": "white",
           "linecolor": "white",
           "ticks": "",
           "title": {
            "standoff": 15
           },
           "zerolinecolor": "white",
           "zerolinewidth": 2
          },
          "yaxis": {
           "automargin": true,
           "gridcolor": "white",
           "linecolor": "white",
           "ticks": "",
           "title": {
            "standoff": 15
           },
           "zerolinecolor": "white",
           "zerolinewidth": 2
          }
         }
        }
       }
      },
      "text/html": [
       "<div>\n",
       "        \n",
       "        \n",
       "            <div id=\"9bf598c8-078c-41d6-bb1e-bd7d0264c677\" class=\"plotly-graph-div\" style=\"height:525px; width:100%;\"></div>\n",
       "            <script type=\"text/javascript\">\n",
       "                require([\"plotly\"], function(Plotly) {\n",
       "                    window.PLOTLYENV=window.PLOTLYENV || {};\n",
       "                    \n",
       "                if (document.getElementById(\"9bf598c8-078c-41d6-bb1e-bd7d0264c677\")) {\n",
       "                    Plotly.newPlot(\n",
       "                        '9bf598c8-078c-41d6-bb1e-bd7d0264c677',\n",
       "                        [{\"coloraxis\": \"coloraxis\", \"geo\": \"geo\", \"hovertemplate\": \"<b>%{hovertext}</b><br><br>code3=%{location}<br>date_first=%{z}<extra></extra>\", \"hovertext\": [\"Albania\", \"Algeria\", \"Angola\", \"Argentina\", \"Australia\", \"Austria\", \"Azerbaijan\", \"Bahamas\", \"Bahrain\", \"Bangladesh\", \"Belarus\", \"Belgium\", \"Belize\", \"Benin\", \"Bhutan\", \"Bolivia\", \"Bosnia and Herzegovina\", \"Botswana\", \"Brazil\", \"Brunei\", \"Bulgaria\", \"Burkina Faso\", \"Burundi\", \"Cambodia\", \"Cameroon\", \"Canada\", \"Cape Verde\", \"Central African Republic\", \"Chad\", \"Chile\", \"Colombia\", \"Congo\", \"Costa Rica\", \"Ivory Coast\", \"Croatia\", \"Cyprus\", \"Czech Republic\", \"Democratic Republic of the Congo\", \"Denmark\", \"Dominican Republic\", \"Ecuador\", \"Egypt\", \"El Salvador\", \"Estonia\", \"Ethiopia\", \"Fiji\", \"Finland\", \"France\", \"Gabon\", \"Gambia\", \"Georgia\", \"Germany\", \"Ghana\", \"Greece\", \"Guatemala\", \"Guinea\", \"Guinea-Bissau\", \"Guyana\", \"Honduras\", \"Hungary\", \"Iceland\", \"India\", \"Indonesia\", \"Iran\", \"Iraq\", \"Ireland\", \"Israel\", \"Italy\", \"Jamaica\", \"Japan\", \"Jordan\", \"Kazakhstan\", \"Kenya\", \"Kuwait\", \"Kyrgyzstan\", \"Latvia\", \"Lebanon\", \"Liberia\", \"Libya\", \"Lithuania\", \"Luxembourg\", \"Madagascar\", \"Malawi\", \"Malaysia\", \"Malta\", \"Mauritania\", \"Mauritius\", \"Mexico\", \"Moldova\", \"Mongolia\", \"Montenegro\", \"Morocco\", \"Mozambique\", \"Myanmar\", \"Nepal\", \"Netherlands\", \"New Zealand\", \"Nicaragua\", \"Niger\", \"Nigeria\", \"Macedonia\", \"Norway\", \"Oman\", \"Pakistan\", \"Panama\", \"Papua New Guinea\", \"Paraguay\", \"Peru\", \"Philippines\", \"Poland\", \"Portugal\", \"Qatar\", \"Romania\", \"Russia\", \"Rwanda\", \"Saudi Arabia\", \"Senegal\", \"Serbia\", \"Seychelles\", \"Sierra Leone\", \"Singapore\", \"Slovakia\", \"Slovenia\", \"South Africa\", \"South Korea\", \"Spain\", \"Sri Lanka\", \"Sudan\", \"Suriname\", \"Sweden\", \"Switzerland\", \"Thailand\", \"Togo\", \"Tobago\", \"Tunisia\", \"Turkey\", \"Uganda\", \"Ukraine\", \"United Arab Emirates\", \"UK\", \"Tanzania\", \"USA\", \"Uruguay\", \"Venezuela\", \"Vietnam\", \"Yemen\", \"Zambia\", \"Zimbabwe\"], \"locations\": [\"ALB\", \"DZA\", \"AGO\", \"ARG\", \"AUS\", \"AUT\", \"AZE\", \"BHM\", \"BHR\", \"BGD\", \"BLR\", \"BEL\", \"BLZ\", \"BEN\", \"BTN\", \"BOL\", \"BIH\", \"BWA\", \"BRA\", \"BRN\", \"BGR\", \"BFA\", \"BDI\", \"KHM\", \"CMR\", \"CAN\", \"CPV\", \"CAF\", \"TCD\", \"CHL\", \"COL\", \"COG\", \"CRI\", \"CIV\", \"HRV\", \"CYP\", \"CZE\", \"COD\", \"DNK\", \"DOM\", \"ECU\", \"EGY\", \"SLV\", \"EST\", \"ETH\", \"FJI\", \"FIN\", \"FRA\", \"GAB\", \"GMB\", \"GEO\", \"DEU\", \"GHA\", \"GRC\", \"GTM\", \"GIN\", \"GNB\", \"GUY\", \"HND\", \"HUN\", \"ISL\", \"IND\", \"IDN\", \"IRN\", \"IRQ\", \"IRL\", \"ISR\", \"ITA\", \"JAM\", \"JPN\", \"JOR\", \"KAZ\", \"KEN\", \"KWT\", \"KGZ\", \"LVA\", \"LBN\", \"LBR\", \"LBY\", \"LTU\", \"LUX\", \"MDG\", \"MWI\", \"MYS\", \"MLT\", \"MRT\", \"MUS\", \"MEX\", \"MDA\", \"MNG\", \"MNE\", \"MAR\", \"MOZ\", \"MMR\", \"NPL\", \"NLD\", \"NZL\", \"NIC\", \"NER\", \"NGA\", \"MKD\", \"NOR\", \"OMN\", \"PAK\", \"PAN\", \"PNG\", \"PRY\", \"PER\", \"PHL\", \"POL\", \"PRT\", \"QAT\", \"ROU\", \"RUS\", \"RWA\", \"SAU\", \"SEN\", \"SRB\", \"SYC\", \"SLE\", \"SGP\", \"SVK\", \"SVN\", \"ZAF\", \"KOR\", \"ESP\", \"LKA\", \"SDN\", \"SUR\", \"SWE\", \"CHE\", \"THA\", \"TGO\", \"TTO\", \"TUN\", \"TUR\", \"UGA\", \"UKR\", \"ARE\", \"GBR\", \"TZA\", \"USA\", \"URY\", \"VEN\", \"VNM\", \"YEM\", \"ZMB\", \"ZWE\"], \"name\": \"\", \"type\": \"choropleth\", \"z\": [70, 58, 83, 65, 26, 58, 61, 77, 56, 70, 60, 36, 85, 78, 67, 73, 67, 93, 58, 71, 69, 72, 93, 29, 68, 27, 82, 77, 81, 65, 68, 77, 68, 73, 58, 71, 63, 72, 59, 63, 62, 47, 80, 60, 75, 81, 31, 26, 74, 79, 59, 29, 74, 59, 76, 75, 88, 74, 73, 66, 61, 31, 63, 52, 57, 62, 54, 32, 73, 16, 64, 76, 75, 56, 80, 64, 54, 78, 86, 60, 62, 82, 95, 26, 69, 76, 81, 61, 69, 71, 79, 64, 84, 78, 26, 60, 60, 80, 82, 60, 59, 59, 57, 59, 71, 82, 69, 68, 31, 65, 64, 62, 59, 64, 76, 64, 64, 68, 76, 93, 25, 68, 66, 67, 21, 33, 29, 75, 76, 33, 58, 14, 68, 74, 64, 73, 83, 65, 28, 32, 78, 22, 76, 76, 25, 102, 80, 82]}],\n",
       "                        {\"coloraxis\": {\"cmax\": 102, \"cmin\": 0, \"colorbar\": {\"title\": {\"text\": \"date_first\"}}, \"colorscale\": [[0.0, \"rgb(127,0,0)\"], [0.125, \"rgb(179,0,0)\"], [0.25, \"rgb(215,48,31)\"], [0.375, \"rgb(239,101,72)\"], [0.5, \"rgb(252,141,89)\"], [0.625, \"rgb(253,187,132)\"], [0.75, \"rgb(253,212,158)\"], [0.875, \"rgb(254,232,200)\"], [1.0, \"rgb(255,247,236)\"]]}, \"geo\": {\"center\": {}, \"domain\": {\"x\": [0.0, 1.0], \"y\": [0.0, 1.0]}}, \"legend\": {\"tracegroupgap\": 0}, \"margin\": {\"t\": 60}, \"template\": {\"data\": {\"bar\": [{\"error_x\": {\"color\": \"#2a3f5f\"}, \"error_y\": {\"color\": \"#2a3f5f\"}, \"marker\": {\"line\": {\"color\": \"#E5ECF6\", \"width\": 0.5}}, \"type\": \"bar\"}], \"barpolar\": [{\"marker\": {\"line\": {\"color\": \"#E5ECF6\", \"width\": 0.5}}, \"type\": \"barpolar\"}], \"carpet\": [{\"aaxis\": {\"endlinecolor\": \"#2a3f5f\", \"gridcolor\": \"white\", \"linecolor\": \"white\", \"minorgridcolor\": \"white\", \"startlinecolor\": \"#2a3f5f\"}, \"baxis\": {\"endlinecolor\": \"#2a3f5f\", \"gridcolor\": \"white\", \"linecolor\": \"white\", \"minorgridcolor\": \"white\", \"startlinecolor\": \"#2a3f5f\"}, \"type\": \"carpet\"}], \"choropleth\": [{\"colorbar\": {\"outlinewidth\": 0, \"ticks\": \"\"}, \"type\": \"choropleth\"}], \"contour\": [{\"colorbar\": {\"outlinewidth\": 0, \"ticks\": \"\"}, \"colorscale\": [[0.0, \"#0d0887\"], [0.1111111111111111, \"#46039f\"], [0.2222222222222222, \"#7201a8\"], [0.3333333333333333, \"#9c179e\"], [0.4444444444444444, \"#bd3786\"], [0.5555555555555556, \"#d8576b\"], [0.6666666666666666, \"#ed7953\"], [0.7777777777777778, \"#fb9f3a\"], [0.8888888888888888, \"#fdca26\"], [1.0, \"#f0f921\"]], \"type\": \"contour\"}], \"contourcarpet\": [{\"colorbar\": {\"outlinewidth\": 0, \"ticks\": \"\"}, \"type\": \"contourcarpet\"}], \"heatmap\": [{\"colorbar\": {\"outlinewidth\": 0, \"ticks\": \"\"}, \"colorscale\": [[0.0, \"#0d0887\"], [0.1111111111111111, \"#46039f\"], [0.2222222222222222, \"#7201a8\"], [0.3333333333333333, \"#9c179e\"], [0.4444444444444444, \"#bd3786\"], [0.5555555555555556, \"#d8576b\"], [0.6666666666666666, \"#ed7953\"], [0.7777777777777778, \"#fb9f3a\"], [0.8888888888888888, \"#fdca26\"], [1.0, \"#f0f921\"]], \"type\": \"heatmap\"}], \"heatmapgl\": [{\"colorbar\": {\"outlinewidth\": 0, \"ticks\": \"\"}, \"colorscale\": [[0.0, \"#0d0887\"], [0.1111111111111111, \"#46039f\"], [0.2222222222222222, \"#7201a8\"], [0.3333333333333333, \"#9c179e\"], [0.4444444444444444, \"#bd3786\"], [0.5555555555555556, \"#d8576b\"], [0.6666666666666666, \"#ed7953\"], [0.7777777777777778, \"#fb9f3a\"], [0.8888888888888888, \"#fdca26\"], [1.0, \"#f0f921\"]], \"type\": \"heatmapgl\"}], \"histogram\": [{\"marker\": {\"colorbar\": {\"outlinewidth\": 0, \"ticks\": \"\"}}, \"type\": \"histogram\"}], \"histogram2d\": [{\"colorbar\": {\"outlinewidth\": 0, \"ticks\": \"\"}, \"colorscale\": [[0.0, \"#0d0887\"], [0.1111111111111111, \"#46039f\"], [0.2222222222222222, \"#7201a8\"], [0.3333333333333333, \"#9c179e\"], [0.4444444444444444, \"#bd3786\"], [0.5555555555555556, \"#d8576b\"], [0.6666666666666666, \"#ed7953\"], [0.7777777777777778, \"#fb9f3a\"], [0.8888888888888888, \"#fdca26\"], [1.0, \"#f0f921\"]], \"type\": \"histogram2d\"}], \"histogram2dcontour\": [{\"colorbar\": {\"outlinewidth\": 0, \"ticks\": \"\"}, \"colorscale\": [[0.0, \"#0d0887\"], [0.1111111111111111, \"#46039f\"], [0.2222222222222222, \"#7201a8\"], [0.3333333333333333, \"#9c179e\"], [0.4444444444444444, \"#bd3786\"], [0.5555555555555556, \"#d8576b\"], [0.6666666666666666, \"#ed7953\"], [0.7777777777777778, \"#fb9f3a\"], [0.8888888888888888, \"#fdca26\"], [1.0, \"#f0f921\"]], \"type\": \"histogram2dcontour\"}], \"mesh3d\": [{\"colorbar\": {\"outlinewidth\": 0, \"ticks\": \"\"}, \"type\": \"mesh3d\"}], \"parcoords\": [{\"line\": {\"colorbar\": {\"outlinewidth\": 0, \"ticks\": \"\"}}, \"type\": \"parcoords\"}], \"pie\": [{\"automargin\": true, \"type\": \"pie\"}], \"scatter\": [{\"marker\": {\"colorbar\": {\"outlinewidth\": 0, \"ticks\": \"\"}}, \"type\": \"scatter\"}], \"scatter3d\": [{\"line\": {\"colorbar\": {\"outlinewidth\": 0, \"ticks\": \"\"}}, \"marker\": {\"colorbar\": {\"outlinewidth\": 0, \"ticks\": \"\"}}, \"type\": \"scatter3d\"}], \"scattercarpet\": [{\"marker\": {\"colorbar\": {\"outlinewidth\": 0, \"ticks\": \"\"}}, \"type\": \"scattercarpet\"}], \"scattergeo\": [{\"marker\": {\"colorbar\": {\"outlinewidth\": 0, \"ticks\": \"\"}}, \"type\": \"scattergeo\"}], \"scattergl\": [{\"marker\": {\"colorbar\": {\"outlinewidth\": 0, \"ticks\": \"\"}}, \"type\": \"scattergl\"}], \"scattermapbox\": [{\"marker\": {\"colorbar\": {\"outlinewidth\": 0, \"ticks\": \"\"}}, \"type\": \"scattermapbox\"}], \"scatterpolar\": [{\"marker\": {\"colorbar\": {\"outlinewidth\": 0, \"ticks\": \"\"}}, \"type\": \"scatterpolar\"}], \"scatterpolargl\": [{\"marker\": {\"colorbar\": {\"outlinewidth\": 0, \"ticks\": \"\"}}, \"type\": \"scatterpolargl\"}], \"scatterternary\": [{\"marker\": {\"colorbar\": {\"outlinewidth\": 0, \"ticks\": \"\"}}, \"type\": \"scatterternary\"}], \"surface\": [{\"colorbar\": {\"outlinewidth\": 0, \"ticks\": \"\"}, \"colorscale\": [[0.0, \"#0d0887\"], [0.1111111111111111, \"#46039f\"], [0.2222222222222222, \"#7201a8\"], [0.3333333333333333, \"#9c179e\"], [0.4444444444444444, \"#bd3786\"], [0.5555555555555556, \"#d8576b\"], [0.6666666666666666, \"#ed7953\"], [0.7777777777777778, \"#fb9f3a\"], [0.8888888888888888, \"#fdca26\"], [1.0, \"#f0f921\"]], \"type\": \"surface\"}], \"table\": [{\"cells\": {\"fill\": {\"color\": \"#EBF0F8\"}, \"line\": {\"color\": \"white\"}}, \"header\": {\"fill\": {\"color\": \"#C8D4E3\"}, \"line\": {\"color\": \"white\"}}, \"type\": \"table\"}]}, \"layout\": {\"annotationdefaults\": {\"arrowcolor\": \"#2a3f5f\", \"arrowhead\": 0, \"arrowwidth\": 1}, \"coloraxis\": {\"colorbar\": {\"outlinewidth\": 0, \"ticks\": \"\"}}, \"colorscale\": {\"diverging\": [[0, \"#8e0152\"], [0.1, \"#c51b7d\"], [0.2, \"#de77ae\"], [0.3, \"#f1b6da\"], [0.4, \"#fde0ef\"], [0.5, \"#f7f7f7\"], [0.6, \"#e6f5d0\"], [0.7, \"#b8e186\"], [0.8, \"#7fbc41\"], [0.9, \"#4d9221\"], [1, \"#276419\"]], \"sequential\": [[0.0, \"#0d0887\"], [0.1111111111111111, \"#46039f\"], [0.2222222222222222, \"#7201a8\"], [0.3333333333333333, \"#9c179e\"], [0.4444444444444444, \"#bd3786\"], [0.5555555555555556, \"#d8576b\"], [0.6666666666666666, \"#ed7953\"], [0.7777777777777778, \"#fb9f3a\"], [0.8888888888888888, \"#fdca26\"], [1.0, \"#f0f921\"]], \"sequentialminus\": [[0.0, \"#0d0887\"], [0.1111111111111111, \"#46039f\"], [0.2222222222222222, \"#7201a8\"], [0.3333333333333333, \"#9c179e\"], [0.4444444444444444, \"#bd3786\"], [0.5555555555555556, \"#d8576b\"], [0.6666666666666666, \"#ed7953\"], [0.7777777777777778, \"#fb9f3a\"], [0.8888888888888888, \"#fdca26\"], [1.0, \"#f0f921\"]]}, \"colorway\": [\"#636efa\", \"#EF553B\", \"#00cc96\", \"#ab63fa\", \"#FFA15A\", \"#19d3f3\", \"#FF6692\", \"#B6E880\", \"#FF97FF\", \"#FECB52\"], \"font\": {\"color\": \"#2a3f5f\"}, \"geo\": {\"bgcolor\": \"white\", \"lakecolor\": \"white\", \"landcolor\": \"#E5ECF6\", \"showlakes\": true, \"showland\": true, \"subunitcolor\": \"white\"}, \"hoverlabel\": {\"align\": \"left\"}, \"hovermode\": \"closest\", \"mapbox\": {\"style\": \"light\"}, \"paper_bgcolor\": \"white\", \"plot_bgcolor\": \"#E5ECF6\", \"polar\": {\"angularaxis\": {\"gridcolor\": \"white\", \"linecolor\": \"white\", \"ticks\": \"\"}, \"bgcolor\": \"#E5ECF6\", \"radialaxis\": {\"gridcolor\": \"white\", \"linecolor\": \"white\", \"ticks\": \"\"}}, \"scene\": {\"xaxis\": {\"backgroundcolor\": \"#E5ECF6\", \"gridcolor\": \"white\", \"gridwidth\": 2, \"linecolor\": \"white\", \"showbackground\": true, \"ticks\": \"\", \"zerolinecolor\": \"white\"}, \"yaxis\": {\"backgroundcolor\": \"#E5ECF6\", \"gridcolor\": \"white\", \"gridwidth\": 2, \"linecolor\": \"white\", \"showbackground\": true, \"ticks\": \"\", \"zerolinecolor\": \"white\"}, \"zaxis\": {\"backgroundcolor\": \"#E5ECF6\", \"gridcolor\": \"white\", \"gridwidth\": 2, \"linecolor\": \"white\", \"showbackground\": true, \"ticks\": \"\", \"zerolinecolor\": \"white\"}}, \"shapedefaults\": {\"line\": {\"color\": \"#2a3f5f\"}}, \"ternary\": {\"aaxis\": {\"gridcolor\": \"white\", \"linecolor\": \"white\", \"ticks\": \"\"}, \"baxis\": {\"gridcolor\": \"white\", \"linecolor\": \"white\", \"ticks\": \"\"}, \"bgcolor\": \"#E5ECF6\", \"caxis\": {\"gridcolor\": \"white\", \"linecolor\": \"white\", \"ticks\": \"\"}}, \"title\": {\"x\": 0.05}, \"xaxis\": {\"automargin\": true, \"gridcolor\": \"white\", \"linecolor\": \"white\", \"ticks\": \"\", \"title\": {\"standoff\": 15}, \"zerolinecolor\": \"white\", \"zerolinewidth\": 2}, \"yaxis\": {\"automargin\": true, \"gridcolor\": \"white\", \"linecolor\": \"white\", \"ticks\": \"\", \"title\": {\"standoff\": 15}, \"zerolinecolor\": \"white\", \"zerolinewidth\": 2}}}},\n",
       "                        {\"responsive\": true}\n",
       "                    ).then(function(){\n",
       "                            \n",
       "var gd = document.getElementById('9bf598c8-078c-41d6-bb1e-bd7d0264c677');\n",
       "var x = new MutationObserver(function (mutations, observer) {{\n",
       "        var display = window.getComputedStyle(gd).display;\n",
       "        if (!display || display === 'none') {{\n",
       "            console.log([gd, 'removed!']);\n",
       "            Plotly.purge(gd);\n",
       "            observer.disconnect();\n",
       "        }}\n",
       "}});\n",
       "\n",
       "// Listen for the removal of the full notebook cells\n",
       "var notebookContainer = gd.closest('#notebook-container');\n",
       "if (notebookContainer) {{\n",
       "    x.observe(notebookContainer, {childList: true});\n",
       "}}\n",
       "\n",
       "// Listen for the clearing of the current output cell\n",
       "var outputEl = gd.closest('.output');\n",
       "if (outputEl) {{\n",
       "    x.observe(outputEl, {childList: true});\n",
       "}}\n",
       "\n",
       "                        })\n",
       "                };\n",
       "                });\n",
       "            </script>\n",
       "        </div>"
      ]
     },
     "metadata": {},
     "output_type": "display_data"
    }
   ],
   "source": [
    "# 実測値の可視化\n",
    "fig =px.choropleth(\n",
    "    df,\n",
    "    locations=\"code3\",\n",
    "    color=\"date_first\",\n",
    "    hover_name=\"country\",\n",
    "    range_color=[0,102],\n",
    "    #animation_frame='variable',\n",
    "    #projection=\"natural earth\",\n",
    "    color_continuous_scale=list(reversed(px.colors.sequential.OrRd)),\n",
    "                                )\n",
    "\n",
    "fig.show()\n",
    "#plotly.offline.plot(fig, filename='output/実測値の可視化.png')"
   ]
  },
  {
   "cell_type": "code",
   "execution_count": 212,
   "metadata": {},
   "outputs": [
    {
     "data": {
      "application/vnd.plotly.v1+json": {
       "config": {
        "plotlyServerURL": "https://plot.ly"
       },
       "data": [
        {
         "coloraxis": "coloraxis",
         "geo": "geo",
         "hovertemplate": "<b>%{hovertext}</b><br><br>code3=%{location}<br>y_hat=%{z}<extra></extra>",
         "hovertext": [
          "Albania",
          "Algeria",
          "Angola",
          "Argentina",
          "Australia",
          "Austria",
          "Azerbaijan",
          "Bahamas",
          "Bahrain",
          "Bangladesh",
          "Belarus",
          "Belgium",
          "Belize",
          "Benin",
          "Bhutan",
          "Bolivia",
          "Bosnia and Herzegovina",
          "Botswana",
          "Brazil",
          "Brunei",
          "Bulgaria",
          "Burkina Faso",
          "Burundi",
          "Cambodia",
          "Cameroon",
          "Canada",
          "Cape Verde",
          "Central African Republic",
          "Chad",
          "Chile",
          "Colombia",
          "Congo",
          "Costa Rica",
          "Ivory Coast",
          "Croatia",
          "Cyprus",
          "Czech Republic",
          "Democratic Republic of the Congo",
          "Denmark",
          "Dominican Republic",
          "Ecuador",
          "Egypt",
          "El Salvador",
          "Estonia",
          "Ethiopia",
          "Fiji",
          "Finland",
          "France",
          "Gabon",
          "Gambia",
          "Georgia",
          "Germany",
          "Ghana",
          "Greece",
          "Guatemala",
          "Guinea",
          "Guinea-Bissau",
          "Guyana",
          "Honduras",
          "Hungary",
          "Iceland",
          "India",
          "Indonesia",
          "Iran",
          "Iraq",
          "Ireland",
          "Israel",
          "Italy",
          "Jamaica",
          "Japan",
          "Jordan",
          "Kazakhstan",
          "Kenya",
          "Kuwait",
          "Kyrgyzstan",
          "Latvia",
          "Lebanon",
          "Liberia",
          "Libya",
          "Lithuania",
          "Luxembourg",
          "Madagascar",
          "Malawi",
          "Malaysia",
          "Malta",
          "Mauritania",
          "Mauritius",
          "Mexico",
          "Moldova",
          "Mongolia",
          "Montenegro",
          "Morocco",
          "Mozambique",
          "Myanmar",
          "Nepal",
          "Netherlands",
          "New Zealand",
          "Nicaragua",
          "Niger",
          "Nigeria",
          "Macedonia",
          "Norway",
          "Oman",
          "Pakistan",
          "Panama",
          "Papua New Guinea",
          "Paraguay",
          "Peru",
          "Philippines",
          "Poland",
          "Portugal",
          "Qatar",
          "Romania",
          "Russia",
          "Rwanda",
          "Saudi Arabia",
          "Senegal",
          "Serbia",
          "Seychelles",
          "Sierra Leone",
          "Singapore",
          "Slovakia",
          "Slovenia",
          "South Africa",
          "South Korea",
          "Spain",
          "Sri Lanka",
          "Sudan",
          "Suriname",
          "Sweden",
          "Switzerland",
          "Thailand",
          "Togo",
          "Tobago",
          "Tunisia",
          "Turkey",
          "Uganda",
          "Ukraine",
          "United Arab Emirates",
          "UK",
          "Tanzania",
          "USA",
          "Uruguay",
          "Venezuela",
          "Vietnam",
          "Yemen",
          "Zambia",
          "Zimbabwe"
         ],
         "locations": [
          "ALB",
          "DZA",
          "AGO",
          "ARG",
          "AUS",
          "AUT",
          "AZE",
          "BHM",
          "BHR",
          "BGD",
          "BLR",
          "BEL",
          "BLZ",
          "BEN",
          "BTN",
          "BOL",
          "BIH",
          "BWA",
          "BRA",
          "BRN",
          "BGR",
          "BFA",
          "BDI",
          "KHM",
          "CMR",
          "CAN",
          "CPV",
          "CAF",
          "TCD",
          "CHL",
          "COL",
          "COG",
          "CRI",
          "CIV",
          "HRV",
          "CYP",
          "CZE",
          "COD",
          "DNK",
          "DOM",
          "ECU",
          "EGY",
          "SLV",
          "EST",
          "ETH",
          "FJI",
          "FIN",
          "FRA",
          "GAB",
          "GMB",
          "GEO",
          "DEU",
          "GHA",
          "GRC",
          "GTM",
          "GIN",
          "GNB",
          "GUY",
          "HND",
          "HUN",
          "ISL",
          "IND",
          "IDN",
          "IRN",
          "IRQ",
          "IRL",
          "ISR",
          "ITA",
          "JAM",
          "JPN",
          "JOR",
          "KAZ",
          "KEN",
          "KWT",
          "KGZ",
          "LVA",
          "LBN",
          "LBR",
          "LBY",
          "LTU",
          "LUX",
          "MDG",
          "MWI",
          "MYS",
          "MLT",
          "MRT",
          "MUS",
          "MEX",
          "MDA",
          "MNG",
          "MNE",
          "MAR",
          "MOZ",
          "MMR",
          "NPL",
          "NLD",
          "NZL",
          "NIC",
          "NER",
          "NGA",
          "MKD",
          "NOR",
          "OMN",
          "PAK",
          "PAN",
          "PNG",
          "PRY",
          "PER",
          "PHL",
          "POL",
          "PRT",
          "QAT",
          "ROU",
          "RUS",
          "RWA",
          "SAU",
          "SEN",
          "SRB",
          "SYC",
          "SLE",
          "SGP",
          "SVK",
          "SVN",
          "ZAF",
          "KOR",
          "ESP",
          "LKA",
          "SDN",
          "SUR",
          "SWE",
          "CHE",
          "THA",
          "TGO",
          "TTO",
          "TUN",
          "TUR",
          "UGA",
          "UKR",
          "ARE",
          "GBR",
          "TZA",
          "USA",
          "URY",
          "VEN",
          "VNM",
          "YEM",
          "ZMB",
          "ZWE"
         ],
         "name": "",
         "type": "choropleth",
         "z": [
          59.87736126980646,
          72.36143300295362,
          74.93119907801832,
          64.9661884930158,
          46.59595120942186,
          55.72996446354085,
          63.88007852856352,
          76.00384286950282,
          56.25470966582837,
          58.657385167278605,
          66.4545263990601,
          54.14080794337609,
          81.11774856662302,
          78.93292505868651,
          64.73728835138924,
          79.96730519480667,
          69.79098337733407,
          73.96218328367696,
          56.38941788296146,
          55.68727624649749,
          61.81004628013227,
          78.7475030003547,
          83.96592875849811,
          64.53052224865145,
          71.55707813411738,
          49.5825962541952,
          83.26133341509735,
          78.56647330516267,
          75.09606021947432,
          71.2254599036653,
          72.9844888506208,
          78.83889029176898,
          70.92541275802846,
          72.7683131039519,
          59.12661615728642,
          72.52215429825642,
          62.95785397476713,
          73.72509273076008,
          48.1492933479335,
          72.91368002407835,
          68.63338565662248,
          64.65091831489967,
          65.75370358184838,
          54.27169737402605,
          71.70842814056437,
          77.87181731162198,
          54.63598506673743,
          53.31664365753713,
          75.1509150335967,
          73.60738137319905,
          57.69887849169159,
          48.67053625927742,
          73.1131046771677,
          53.26783636921384,
          74.86702362961472,
          70.38279893016534,
          80.14980405303476,
          87.22216881457172,
          80.48812684096455,
          60.7365129289777,
          61.55242473453336,
          22.032609242582026,
          50.32655287400196,
          59.54581818636633,
          60.77235888849961,
          52.78156722516863,
          56.84659974219593,
          52.817965847919695,
          81.85200493442159,
          44.655223447599376,
          62.627501659740645,
          65.50650540332393,
          65.4799939065584,
          50.70708430788804,
          61.118580248055906,
          49.64100179590652,
          57.19079833357645,
          77.95849990569786,
          63.850293231549244,
          53.492687705079845,
          53.33739980650221,
          72.5520182271578,
          81.6171371321042,
          50.13216223484147,
          64.45584618278698,
          72.02978156991188,
          70.75690835792236,
          58.56971902306641,
          69.71823354803999,
          50.707689577788585,
          62.85608073299908,
          64.90468322480297,
          76.69365080819722,
          60.257947837481154,
          73.78504003471589,
          48.02272075109551,
          69.97019823643407,
          77.36338548503781,
          74.86923348937033,
          65.3608215070804,
          68.07899901028166,
          54.10150829985362,
          58.09197894202862,
          60.54841120469999,
          75.00545954107449,
          76.94393702831634,
          80.99227125857425,
          77.96861690391547,
          56.9608870102017,
          59.35057022439862,
          66.24916752971242,
          47.898490923395684,
          66.5143651248496,
          57.087326868271404,
          78.04584103370412,
          46.776971959203976,
          76.38970997826003,
          66.70165871704187,
          68.97268444530428,
          73.86276964440943,
          42.2590714939079,
          65.63287437895546,
          57.966616526271345,
          59.0114606543915,
          41.45196377651942,
          53.07548540032962,
          68.9202914394441,
          78.19472045568226,
          78.20304581605188,
          47.51447845768935,
          56.98379094668639,
          50.574284551497804,
          73.1321919022015,
          81.35603690361202,
          70.97077414802591,
          59.02602361082674,
          71.52252584040787,
          65.41635931799165,
          56.44056464430881,
          49.719149982912654,
          71.71752221596061,
          46.14176423177349,
          78.35430806846983,
          73.07987746429835,
          59.258080212487144,
          77.01966775890682,
          78.48627719677823,
          67.173908534936
         ]
        }
       ],
       "layout": {
        "coloraxis": {
         "cmax": 102,
         "cmin": 0,
         "colorbar": {
          "title": {
           "text": "y_hat"
          }
         },
         "colorscale": [
          [
           0,
           "rgb(127,0,0)"
          ],
          [
           0.125,
           "rgb(179,0,0)"
          ],
          [
           0.25,
           "rgb(215,48,31)"
          ],
          [
           0.375,
           "rgb(239,101,72)"
          ],
          [
           0.5,
           "rgb(252,141,89)"
          ],
          [
           0.625,
           "rgb(253,187,132)"
          ],
          [
           0.75,
           "rgb(253,212,158)"
          ],
          [
           0.875,
           "rgb(254,232,200)"
          ],
          [
           1,
           "rgb(255,247,236)"
          ]
         ]
        },
        "geo": {
         "center": {},
         "domain": {
          "x": [
           0,
           1
          ],
          "y": [
           0,
           1
          ]
         }
        },
        "legend": {
         "tracegroupgap": 0
        },
        "margin": {
         "t": 60
        },
        "template": {
         "data": {
          "bar": [
           {
            "error_x": {
             "color": "#2a3f5f"
            },
            "error_y": {
             "color": "#2a3f5f"
            },
            "marker": {
             "line": {
              "color": "#E5ECF6",
              "width": 0.5
             }
            },
            "type": "bar"
           }
          ],
          "barpolar": [
           {
            "marker": {
             "line": {
              "color": "#E5ECF6",
              "width": 0.5
             }
            },
            "type": "barpolar"
           }
          ],
          "carpet": [
           {
            "aaxis": {
             "endlinecolor": "#2a3f5f",
             "gridcolor": "white",
             "linecolor": "white",
             "minorgridcolor": "white",
             "startlinecolor": "#2a3f5f"
            },
            "baxis": {
             "endlinecolor": "#2a3f5f",
             "gridcolor": "white",
             "linecolor": "white",
             "minorgridcolor": "white",
             "startlinecolor": "#2a3f5f"
            },
            "type": "carpet"
           }
          ],
          "choropleth": [
           {
            "colorbar": {
             "outlinewidth": 0,
             "ticks": ""
            },
            "type": "choropleth"
           }
          ],
          "contour": [
           {
            "colorbar": {
             "outlinewidth": 0,
             "ticks": ""
            },
            "colorscale": [
             [
              0,
              "#0d0887"
             ],
             [
              0.1111111111111111,
              "#46039f"
             ],
             [
              0.2222222222222222,
              "#7201a8"
             ],
             [
              0.3333333333333333,
              "#9c179e"
             ],
             [
              0.4444444444444444,
              "#bd3786"
             ],
             [
              0.5555555555555556,
              "#d8576b"
             ],
             [
              0.6666666666666666,
              "#ed7953"
             ],
             [
              0.7777777777777778,
              "#fb9f3a"
             ],
             [
              0.8888888888888888,
              "#fdca26"
             ],
             [
              1,
              "#f0f921"
             ]
            ],
            "type": "contour"
           }
          ],
          "contourcarpet": [
           {
            "colorbar": {
             "outlinewidth": 0,
             "ticks": ""
            },
            "type": "contourcarpet"
           }
          ],
          "heatmap": [
           {
            "colorbar": {
             "outlinewidth": 0,
             "ticks": ""
            },
            "colorscale": [
             [
              0,
              "#0d0887"
             ],
             [
              0.1111111111111111,
              "#46039f"
             ],
             [
              0.2222222222222222,
              "#7201a8"
             ],
             [
              0.3333333333333333,
              "#9c179e"
             ],
             [
              0.4444444444444444,
              "#bd3786"
             ],
             [
              0.5555555555555556,
              "#d8576b"
             ],
             [
              0.6666666666666666,
              "#ed7953"
             ],
             [
              0.7777777777777778,
              "#fb9f3a"
             ],
             [
              0.8888888888888888,
              "#fdca26"
             ],
             [
              1,
              "#f0f921"
             ]
            ],
            "type": "heatmap"
           }
          ],
          "heatmapgl": [
           {
            "colorbar": {
             "outlinewidth": 0,
             "ticks": ""
            },
            "colorscale": [
             [
              0,
              "#0d0887"
             ],
             [
              0.1111111111111111,
              "#46039f"
             ],
             [
              0.2222222222222222,
              "#7201a8"
             ],
             [
              0.3333333333333333,
              "#9c179e"
             ],
             [
              0.4444444444444444,
              "#bd3786"
             ],
             [
              0.5555555555555556,
              "#d8576b"
             ],
             [
              0.6666666666666666,
              "#ed7953"
             ],
             [
              0.7777777777777778,
              "#fb9f3a"
             ],
             [
              0.8888888888888888,
              "#fdca26"
             ],
             [
              1,
              "#f0f921"
             ]
            ],
            "type": "heatmapgl"
           }
          ],
          "histogram": [
           {
            "marker": {
             "colorbar": {
              "outlinewidth": 0,
              "ticks": ""
             }
            },
            "type": "histogram"
           }
          ],
          "histogram2d": [
           {
            "colorbar": {
             "outlinewidth": 0,
             "ticks": ""
            },
            "colorscale": [
             [
              0,
              "#0d0887"
             ],
             [
              0.1111111111111111,
              "#46039f"
             ],
             [
              0.2222222222222222,
              "#7201a8"
             ],
             [
              0.3333333333333333,
              "#9c179e"
             ],
             [
              0.4444444444444444,
              "#bd3786"
             ],
             [
              0.5555555555555556,
              "#d8576b"
             ],
             [
              0.6666666666666666,
              "#ed7953"
             ],
             [
              0.7777777777777778,
              "#fb9f3a"
             ],
             [
              0.8888888888888888,
              "#fdca26"
             ],
             [
              1,
              "#f0f921"
             ]
            ],
            "type": "histogram2d"
           }
          ],
          "histogram2dcontour": [
           {
            "colorbar": {
             "outlinewidth": 0,
             "ticks": ""
            },
            "colorscale": [
             [
              0,
              "#0d0887"
             ],
             [
              0.1111111111111111,
              "#46039f"
             ],
             [
              0.2222222222222222,
              "#7201a8"
             ],
             [
              0.3333333333333333,
              "#9c179e"
             ],
             [
              0.4444444444444444,
              "#bd3786"
             ],
             [
              0.5555555555555556,
              "#d8576b"
             ],
             [
              0.6666666666666666,
              "#ed7953"
             ],
             [
              0.7777777777777778,
              "#fb9f3a"
             ],
             [
              0.8888888888888888,
              "#fdca26"
             ],
             [
              1,
              "#f0f921"
             ]
            ],
            "type": "histogram2dcontour"
           }
          ],
          "mesh3d": [
           {
            "colorbar": {
             "outlinewidth": 0,
             "ticks": ""
            },
            "type": "mesh3d"
           }
          ],
          "parcoords": [
           {
            "line": {
             "colorbar": {
              "outlinewidth": 0,
              "ticks": ""
             }
            },
            "type": "parcoords"
           }
          ],
          "pie": [
           {
            "automargin": true,
            "type": "pie"
           }
          ],
          "scatter": [
           {
            "marker": {
             "colorbar": {
              "outlinewidth": 0,
              "ticks": ""
             }
            },
            "type": "scatter"
           }
          ],
          "scatter3d": [
           {
            "line": {
             "colorbar": {
              "outlinewidth": 0,
              "ticks": ""
             }
            },
            "marker": {
             "colorbar": {
              "outlinewidth": 0,
              "ticks": ""
             }
            },
            "type": "scatter3d"
           }
          ],
          "scattercarpet": [
           {
            "marker": {
             "colorbar": {
              "outlinewidth": 0,
              "ticks": ""
             }
            },
            "type": "scattercarpet"
           }
          ],
          "scattergeo": [
           {
            "marker": {
             "colorbar": {
              "outlinewidth": 0,
              "ticks": ""
             }
            },
            "type": "scattergeo"
           }
          ],
          "scattergl": [
           {
            "marker": {
             "colorbar": {
              "outlinewidth": 0,
              "ticks": ""
             }
            },
            "type": "scattergl"
           }
          ],
          "scattermapbox": [
           {
            "marker": {
             "colorbar": {
              "outlinewidth": 0,
              "ticks": ""
             }
            },
            "type": "scattermapbox"
           }
          ],
          "scatterpolar": [
           {
            "marker": {
             "colorbar": {
              "outlinewidth": 0,
              "ticks": ""
             }
            },
            "type": "scatterpolar"
           }
          ],
          "scatterpolargl": [
           {
            "marker": {
             "colorbar": {
              "outlinewidth": 0,
              "ticks": ""
             }
            },
            "type": "scatterpolargl"
           }
          ],
          "scatterternary": [
           {
            "marker": {
             "colorbar": {
              "outlinewidth": 0,
              "ticks": ""
             }
            },
            "type": "scatterternary"
           }
          ],
          "surface": [
           {
            "colorbar": {
             "outlinewidth": 0,
             "ticks": ""
            },
            "colorscale": [
             [
              0,
              "#0d0887"
             ],
             [
              0.1111111111111111,
              "#46039f"
             ],
             [
              0.2222222222222222,
              "#7201a8"
             ],
             [
              0.3333333333333333,
              "#9c179e"
             ],
             [
              0.4444444444444444,
              "#bd3786"
             ],
             [
              0.5555555555555556,
              "#d8576b"
             ],
             [
              0.6666666666666666,
              "#ed7953"
             ],
             [
              0.7777777777777778,
              "#fb9f3a"
             ],
             [
              0.8888888888888888,
              "#fdca26"
             ],
             [
              1,
              "#f0f921"
             ]
            ],
            "type": "surface"
           }
          ],
          "table": [
           {
            "cells": {
             "fill": {
              "color": "#EBF0F8"
             },
             "line": {
              "color": "white"
             }
            },
            "header": {
             "fill": {
              "color": "#C8D4E3"
             },
             "line": {
              "color": "white"
             }
            },
            "type": "table"
           }
          ]
         },
         "layout": {
          "annotationdefaults": {
           "arrowcolor": "#2a3f5f",
           "arrowhead": 0,
           "arrowwidth": 1
          },
          "coloraxis": {
           "colorbar": {
            "outlinewidth": 0,
            "ticks": ""
           }
          },
          "colorscale": {
           "diverging": [
            [
             0,
             "#8e0152"
            ],
            [
             0.1,
             "#c51b7d"
            ],
            [
             0.2,
             "#de77ae"
            ],
            [
             0.3,
             "#f1b6da"
            ],
            [
             0.4,
             "#fde0ef"
            ],
            [
             0.5,
             "#f7f7f7"
            ],
            [
             0.6,
             "#e6f5d0"
            ],
            [
             0.7,
             "#b8e186"
            ],
            [
             0.8,
             "#7fbc41"
            ],
            [
             0.9,
             "#4d9221"
            ],
            [
             1,
             "#276419"
            ]
           ],
           "sequential": [
            [
             0,
             "#0d0887"
            ],
            [
             0.1111111111111111,
             "#46039f"
            ],
            [
             0.2222222222222222,
             "#7201a8"
            ],
            [
             0.3333333333333333,
             "#9c179e"
            ],
            [
             0.4444444444444444,
             "#bd3786"
            ],
            [
             0.5555555555555556,
             "#d8576b"
            ],
            [
             0.6666666666666666,
             "#ed7953"
            ],
            [
             0.7777777777777778,
             "#fb9f3a"
            ],
            [
             0.8888888888888888,
             "#fdca26"
            ],
            [
             1,
             "#f0f921"
            ]
           ],
           "sequentialminus": [
            [
             0,
             "#0d0887"
            ],
            [
             0.1111111111111111,
             "#46039f"
            ],
            [
             0.2222222222222222,
             "#7201a8"
            ],
            [
             0.3333333333333333,
             "#9c179e"
            ],
            [
             0.4444444444444444,
             "#bd3786"
            ],
            [
             0.5555555555555556,
             "#d8576b"
            ],
            [
             0.6666666666666666,
             "#ed7953"
            ],
            [
             0.7777777777777778,
             "#fb9f3a"
            ],
            [
             0.8888888888888888,
             "#fdca26"
            ],
            [
             1,
             "#f0f921"
            ]
           ]
          },
          "colorway": [
           "#636efa",
           "#EF553B",
           "#00cc96",
           "#ab63fa",
           "#FFA15A",
           "#19d3f3",
           "#FF6692",
           "#B6E880",
           "#FF97FF",
           "#FECB52"
          ],
          "font": {
           "color": "#2a3f5f"
          },
          "geo": {
           "bgcolor": "white",
           "lakecolor": "white",
           "landcolor": "#E5ECF6",
           "showlakes": true,
           "showland": true,
           "subunitcolor": "white"
          },
          "hoverlabel": {
           "align": "left"
          },
          "hovermode": "closest",
          "mapbox": {
           "style": "light"
          },
          "paper_bgcolor": "white",
          "plot_bgcolor": "#E5ECF6",
          "polar": {
           "angularaxis": {
            "gridcolor": "white",
            "linecolor": "white",
            "ticks": ""
           },
           "bgcolor": "#E5ECF6",
           "radialaxis": {
            "gridcolor": "white",
            "linecolor": "white",
            "ticks": ""
           }
          },
          "scene": {
           "xaxis": {
            "backgroundcolor": "#E5ECF6",
            "gridcolor": "white",
            "gridwidth": 2,
            "linecolor": "white",
            "showbackground": true,
            "ticks": "",
            "zerolinecolor": "white"
           },
           "yaxis": {
            "backgroundcolor": "#E5ECF6",
            "gridcolor": "white",
            "gridwidth": 2,
            "linecolor": "white",
            "showbackground": true,
            "ticks": "",
            "zerolinecolor": "white"
           },
           "zaxis": {
            "backgroundcolor": "#E5ECF6",
            "gridcolor": "white",
            "gridwidth": 2,
            "linecolor": "white",
            "showbackground": true,
            "ticks": "",
            "zerolinecolor": "white"
           }
          },
          "shapedefaults": {
           "line": {
            "color": "#2a3f5f"
           }
          },
          "ternary": {
           "aaxis": {
            "gridcolor": "white",
            "linecolor": "white",
            "ticks": ""
           },
           "baxis": {
            "gridcolor": "white",
            "linecolor": "white",
            "ticks": ""
           },
           "bgcolor": "#E5ECF6",
           "caxis": {
            "gridcolor": "white",
            "linecolor": "white",
            "ticks": ""
           }
          },
          "title": {
           "x": 0.05
          },
          "xaxis": {
           "automargin": true,
           "gridcolor": "white",
           "linecolor": "white",
           "ticks": "",
           "title": {
            "standoff": 15
           },
           "zerolinecolor": "white",
           "zerolinewidth": 2
          },
          "yaxis": {
           "automargin": true,
           "gridcolor": "white",
           "linecolor": "white",
           "ticks": "",
           "title": {
            "standoff": 15
           },
           "zerolinecolor": "white",
           "zerolinewidth": 2
          }
         }
        }
       }
      },
      "text/html": [
       "<div>\n",
       "        \n",
       "        \n",
       "            <div id=\"54f1c5fb-ddb6-4f2b-a2b6-76184081805f\" class=\"plotly-graph-div\" style=\"height:525px; width:100%;\"></div>\n",
       "            <script type=\"text/javascript\">\n",
       "                require([\"plotly\"], function(Plotly) {\n",
       "                    window.PLOTLYENV=window.PLOTLYENV || {};\n",
       "                    \n",
       "                if (document.getElementById(\"54f1c5fb-ddb6-4f2b-a2b6-76184081805f\")) {\n",
       "                    Plotly.newPlot(\n",
       "                        '54f1c5fb-ddb6-4f2b-a2b6-76184081805f',\n",
       "                        [{\"coloraxis\": \"coloraxis\", \"geo\": \"geo\", \"hovertemplate\": \"<b>%{hovertext}</b><br><br>code3=%{location}<br>y_hat=%{z}<extra></extra>\", \"hovertext\": [\"Albania\", \"Algeria\", \"Angola\", \"Argentina\", \"Australia\", \"Austria\", \"Azerbaijan\", \"Bahamas\", \"Bahrain\", \"Bangladesh\", \"Belarus\", \"Belgium\", \"Belize\", \"Benin\", \"Bhutan\", \"Bolivia\", \"Bosnia and Herzegovina\", \"Botswana\", \"Brazil\", \"Brunei\", \"Bulgaria\", \"Burkina Faso\", \"Burundi\", \"Cambodia\", \"Cameroon\", \"Canada\", \"Cape Verde\", \"Central African Republic\", \"Chad\", \"Chile\", \"Colombia\", \"Congo\", \"Costa Rica\", \"Ivory Coast\", \"Croatia\", \"Cyprus\", \"Czech Republic\", \"Democratic Republic of the Congo\", \"Denmark\", \"Dominican Republic\", \"Ecuador\", \"Egypt\", \"El Salvador\", \"Estonia\", \"Ethiopia\", \"Fiji\", \"Finland\", \"France\", \"Gabon\", \"Gambia\", \"Georgia\", \"Germany\", \"Ghana\", \"Greece\", \"Guatemala\", \"Guinea\", \"Guinea-Bissau\", \"Guyana\", \"Honduras\", \"Hungary\", \"Iceland\", \"India\", \"Indonesia\", \"Iran\", \"Iraq\", \"Ireland\", \"Israel\", \"Italy\", \"Jamaica\", \"Japan\", \"Jordan\", \"Kazakhstan\", \"Kenya\", \"Kuwait\", \"Kyrgyzstan\", \"Latvia\", \"Lebanon\", \"Liberia\", \"Libya\", \"Lithuania\", \"Luxembourg\", \"Madagascar\", \"Malawi\", \"Malaysia\", \"Malta\", \"Mauritania\", \"Mauritius\", \"Mexico\", \"Moldova\", \"Mongolia\", \"Montenegro\", \"Morocco\", \"Mozambique\", \"Myanmar\", \"Nepal\", \"Netherlands\", \"New Zealand\", \"Nicaragua\", \"Niger\", \"Nigeria\", \"Macedonia\", \"Norway\", \"Oman\", \"Pakistan\", \"Panama\", \"Papua New Guinea\", \"Paraguay\", \"Peru\", \"Philippines\", \"Poland\", \"Portugal\", \"Qatar\", \"Romania\", \"Russia\", \"Rwanda\", \"Saudi Arabia\", \"Senegal\", \"Serbia\", \"Seychelles\", \"Sierra Leone\", \"Singapore\", \"Slovakia\", \"Slovenia\", \"South Africa\", \"South Korea\", \"Spain\", \"Sri Lanka\", \"Sudan\", \"Suriname\", \"Sweden\", \"Switzerland\", \"Thailand\", \"Togo\", \"Tobago\", \"Tunisia\", \"Turkey\", \"Uganda\", \"Ukraine\", \"United Arab Emirates\", \"UK\", \"Tanzania\", \"USA\", \"Uruguay\", \"Venezuela\", \"Vietnam\", \"Yemen\", \"Zambia\", \"Zimbabwe\"], \"locations\": [\"ALB\", \"DZA\", \"AGO\", \"ARG\", \"AUS\", \"AUT\", \"AZE\", \"BHM\", \"BHR\", \"BGD\", \"BLR\", \"BEL\", \"BLZ\", \"BEN\", \"BTN\", \"BOL\", \"BIH\", \"BWA\", \"BRA\", \"BRN\", \"BGR\", \"BFA\", \"BDI\", \"KHM\", \"CMR\", \"CAN\", \"CPV\", \"CAF\", \"TCD\", \"CHL\", \"COL\", \"COG\", \"CRI\", \"CIV\", \"HRV\", \"CYP\", \"CZE\", \"COD\", \"DNK\", \"DOM\", \"ECU\", \"EGY\", \"SLV\", \"EST\", \"ETH\", \"FJI\", \"FIN\", \"FRA\", \"GAB\", \"GMB\", \"GEO\", \"DEU\", \"GHA\", \"GRC\", \"GTM\", \"GIN\", \"GNB\", \"GUY\", \"HND\", \"HUN\", \"ISL\", \"IND\", \"IDN\", \"IRN\", \"IRQ\", \"IRL\", \"ISR\", \"ITA\", \"JAM\", \"JPN\", \"JOR\", \"KAZ\", \"KEN\", \"KWT\", \"KGZ\", \"LVA\", \"LBN\", \"LBR\", \"LBY\", \"LTU\", \"LUX\", \"MDG\", \"MWI\", \"MYS\", \"MLT\", \"MRT\", \"MUS\", \"MEX\", \"MDA\", \"MNG\", \"MNE\", \"MAR\", \"MOZ\", \"MMR\", \"NPL\", \"NLD\", \"NZL\", \"NIC\", \"NER\", \"NGA\", \"MKD\", \"NOR\", \"OMN\", \"PAK\", \"PAN\", \"PNG\", \"PRY\", \"PER\", \"PHL\", \"POL\", \"PRT\", \"QAT\", \"ROU\", \"RUS\", \"RWA\", \"SAU\", \"SEN\", \"SRB\", \"SYC\", \"SLE\", \"SGP\", \"SVK\", \"SVN\", \"ZAF\", \"KOR\", \"ESP\", \"LKA\", \"SDN\", \"SUR\", \"SWE\", \"CHE\", \"THA\", \"TGO\", \"TTO\", \"TUN\", \"TUR\", \"UGA\", \"UKR\", \"ARE\", \"GBR\", \"TZA\", \"USA\", \"URY\", \"VEN\", \"VNM\", \"YEM\", \"ZMB\", \"ZWE\"], \"name\": \"\", \"type\": \"choropleth\", \"z\": [59.87736126980646, 72.36143300295362, 74.93119907801832, 64.9661884930158, 46.59595120942186, 55.72996446354085, 63.88007852856352, 76.00384286950282, 56.25470966582837, 58.657385167278605, 66.4545263990601, 54.14080794337609, 81.11774856662302, 78.93292505868651, 64.73728835138924, 79.96730519480667, 69.79098337733407, 73.96218328367696, 56.38941788296146, 55.68727624649749, 61.81004628013227, 78.7475030003547, 83.96592875849811, 64.53052224865145, 71.55707813411738, 49.5825962541952, 83.26133341509735, 78.56647330516267, 75.09606021947432, 71.2254599036653, 72.9844888506208, 78.83889029176898, 70.92541275802846, 72.7683131039519, 59.12661615728642, 72.52215429825642, 62.95785397476713, 73.72509273076008, 48.1492933479335, 72.91368002407835, 68.63338565662248, 64.65091831489967, 65.75370358184838, 54.27169737402605, 71.70842814056437, 77.87181731162198, 54.63598506673743, 53.31664365753713, 75.1509150335967, 73.60738137319905, 57.69887849169159, 48.67053625927742, 73.1131046771677, 53.26783636921384, 74.86702362961472, 70.38279893016534, 80.14980405303476, 87.22216881457172, 80.48812684096455, 60.7365129289777, 61.55242473453336, 22.032609242582026, 50.32655287400196, 59.54581818636633, 60.77235888849961, 52.78156722516863, 56.84659974219593, 52.817965847919695, 81.85200493442159, 44.655223447599376, 62.627501659740645, 65.50650540332393, 65.4799939065584, 50.70708430788804, 61.118580248055906, 49.64100179590652, 57.19079833357645, 77.95849990569786, 63.850293231549244, 53.492687705079845, 53.33739980650221, 72.5520182271578, 81.6171371321042, 50.13216223484147, 64.45584618278698, 72.02978156991188, 70.75690835792236, 58.56971902306641, 69.71823354803999, 50.707689577788585, 62.85608073299908, 64.90468322480297, 76.69365080819722, 60.257947837481154, 73.78504003471589, 48.02272075109551, 69.97019823643407, 77.36338548503781, 74.86923348937033, 65.3608215070804, 68.07899901028166, 54.10150829985362, 58.09197894202862, 60.54841120469999, 75.00545954107449, 76.94393702831634, 80.99227125857425, 77.96861690391547, 56.9608870102017, 59.35057022439862, 66.24916752971242, 47.898490923395684, 66.5143651248496, 57.087326868271404, 78.04584103370412, 46.776971959203976, 76.38970997826003, 66.70165871704187, 68.97268444530428, 73.86276964440943, 42.2590714939079, 65.63287437895546, 57.966616526271345, 59.0114606543915, 41.45196377651942, 53.07548540032962, 68.9202914394441, 78.19472045568226, 78.20304581605188, 47.51447845768935, 56.98379094668639, 50.574284551497804, 73.1321919022015, 81.35603690361202, 70.97077414802591, 59.02602361082674, 71.52252584040787, 65.41635931799165, 56.44056464430881, 49.719149982912654, 71.71752221596061, 46.14176423177349, 78.35430806846983, 73.07987746429835, 59.258080212487144, 77.01966775890682, 78.48627719677823, 67.173908534936]}],\n",
       "                        {\"coloraxis\": {\"cmax\": 102, \"cmin\": 0, \"colorbar\": {\"title\": {\"text\": \"y_hat\"}}, \"colorscale\": [[0.0, \"rgb(127,0,0)\"], [0.125, \"rgb(179,0,0)\"], [0.25, \"rgb(215,48,31)\"], [0.375, \"rgb(239,101,72)\"], [0.5, \"rgb(252,141,89)\"], [0.625, \"rgb(253,187,132)\"], [0.75, \"rgb(253,212,158)\"], [0.875, \"rgb(254,232,200)\"], [1.0, \"rgb(255,247,236)\"]]}, \"geo\": {\"center\": {}, \"domain\": {\"x\": [0.0, 1.0], \"y\": [0.0, 1.0]}}, \"legend\": {\"tracegroupgap\": 0}, \"margin\": {\"t\": 60}, \"template\": {\"data\": {\"bar\": [{\"error_x\": {\"color\": \"#2a3f5f\"}, \"error_y\": {\"color\": \"#2a3f5f\"}, \"marker\": {\"line\": {\"color\": \"#E5ECF6\", \"width\": 0.5}}, \"type\": \"bar\"}], \"barpolar\": [{\"marker\": {\"line\": {\"color\": \"#E5ECF6\", \"width\": 0.5}}, \"type\": \"barpolar\"}], \"carpet\": [{\"aaxis\": {\"endlinecolor\": \"#2a3f5f\", \"gridcolor\": \"white\", \"linecolor\": \"white\", \"minorgridcolor\": \"white\", \"startlinecolor\": \"#2a3f5f\"}, \"baxis\": {\"endlinecolor\": \"#2a3f5f\", \"gridcolor\": \"white\", \"linecolor\": \"white\", \"minorgridcolor\": \"white\", \"startlinecolor\": \"#2a3f5f\"}, \"type\": \"carpet\"}], \"choropleth\": [{\"colorbar\": {\"outlinewidth\": 0, \"ticks\": \"\"}, \"type\": \"choropleth\"}], \"contour\": [{\"colorbar\": {\"outlinewidth\": 0, \"ticks\": \"\"}, \"colorscale\": [[0.0, \"#0d0887\"], [0.1111111111111111, \"#46039f\"], [0.2222222222222222, \"#7201a8\"], [0.3333333333333333, \"#9c179e\"], [0.4444444444444444, \"#bd3786\"], [0.5555555555555556, \"#d8576b\"], [0.6666666666666666, \"#ed7953\"], [0.7777777777777778, \"#fb9f3a\"], [0.8888888888888888, \"#fdca26\"], [1.0, \"#f0f921\"]], \"type\": \"contour\"}], \"contourcarpet\": [{\"colorbar\": {\"outlinewidth\": 0, \"ticks\": \"\"}, \"type\": \"contourcarpet\"}], \"heatmap\": [{\"colorbar\": {\"outlinewidth\": 0, \"ticks\": \"\"}, \"colorscale\": [[0.0, \"#0d0887\"], [0.1111111111111111, \"#46039f\"], [0.2222222222222222, \"#7201a8\"], [0.3333333333333333, \"#9c179e\"], [0.4444444444444444, \"#bd3786\"], [0.5555555555555556, \"#d8576b\"], [0.6666666666666666, \"#ed7953\"], [0.7777777777777778, \"#fb9f3a\"], [0.8888888888888888, \"#fdca26\"], [1.0, \"#f0f921\"]], \"type\": \"heatmap\"}], \"heatmapgl\": [{\"colorbar\": {\"outlinewidth\": 0, \"ticks\": \"\"}, \"colorscale\": [[0.0, \"#0d0887\"], [0.1111111111111111, \"#46039f\"], [0.2222222222222222, \"#7201a8\"], [0.3333333333333333, \"#9c179e\"], [0.4444444444444444, \"#bd3786\"], [0.5555555555555556, \"#d8576b\"], [0.6666666666666666, \"#ed7953\"], [0.7777777777777778, \"#fb9f3a\"], [0.8888888888888888, \"#fdca26\"], [1.0, \"#f0f921\"]], \"type\": \"heatmapgl\"}], \"histogram\": [{\"marker\": {\"colorbar\": {\"outlinewidth\": 0, \"ticks\": \"\"}}, \"type\": \"histogram\"}], \"histogram2d\": [{\"colorbar\": {\"outlinewidth\": 0, \"ticks\": \"\"}, \"colorscale\": [[0.0, \"#0d0887\"], [0.1111111111111111, \"#46039f\"], [0.2222222222222222, \"#7201a8\"], [0.3333333333333333, \"#9c179e\"], [0.4444444444444444, \"#bd3786\"], [0.5555555555555556, \"#d8576b\"], [0.6666666666666666, \"#ed7953\"], [0.7777777777777778, \"#fb9f3a\"], [0.8888888888888888, \"#fdca26\"], [1.0, \"#f0f921\"]], \"type\": \"histogram2d\"}], \"histogram2dcontour\": [{\"colorbar\": {\"outlinewidth\": 0, \"ticks\": \"\"}, \"colorscale\": [[0.0, \"#0d0887\"], [0.1111111111111111, \"#46039f\"], [0.2222222222222222, \"#7201a8\"], [0.3333333333333333, \"#9c179e\"], [0.4444444444444444, \"#bd3786\"], [0.5555555555555556, \"#d8576b\"], [0.6666666666666666, \"#ed7953\"], [0.7777777777777778, \"#fb9f3a\"], [0.8888888888888888, \"#fdca26\"], [1.0, \"#f0f921\"]], \"type\": \"histogram2dcontour\"}], \"mesh3d\": [{\"colorbar\": {\"outlinewidth\": 0, \"ticks\": \"\"}, \"type\": \"mesh3d\"}], \"parcoords\": [{\"line\": {\"colorbar\": {\"outlinewidth\": 0, \"ticks\": \"\"}}, \"type\": \"parcoords\"}], \"pie\": [{\"automargin\": true, \"type\": \"pie\"}], \"scatter\": [{\"marker\": {\"colorbar\": {\"outlinewidth\": 0, \"ticks\": \"\"}}, \"type\": \"scatter\"}], \"scatter3d\": [{\"line\": {\"colorbar\": {\"outlinewidth\": 0, \"ticks\": \"\"}}, \"marker\": {\"colorbar\": {\"outlinewidth\": 0, \"ticks\": \"\"}}, \"type\": \"scatter3d\"}], \"scattercarpet\": [{\"marker\": {\"colorbar\": {\"outlinewidth\": 0, \"ticks\": \"\"}}, \"type\": \"scattercarpet\"}], \"scattergeo\": [{\"marker\": {\"colorbar\": {\"outlinewidth\": 0, \"ticks\": \"\"}}, \"type\": \"scattergeo\"}], \"scattergl\": [{\"marker\": {\"colorbar\": {\"outlinewidth\": 0, \"ticks\": \"\"}}, \"type\": \"scattergl\"}], \"scattermapbox\": [{\"marker\": {\"colorbar\": {\"outlinewidth\": 0, \"ticks\": \"\"}}, \"type\": \"scattermapbox\"}], \"scatterpolar\": [{\"marker\": {\"colorbar\": {\"outlinewidth\": 0, \"ticks\": \"\"}}, \"type\": \"scatterpolar\"}], \"scatterpolargl\": [{\"marker\": {\"colorbar\": {\"outlinewidth\": 0, \"ticks\": \"\"}}, \"type\": \"scatterpolargl\"}], \"scatterternary\": [{\"marker\": {\"colorbar\": {\"outlinewidth\": 0, \"ticks\": \"\"}}, \"type\": \"scatterternary\"}], \"surface\": [{\"colorbar\": {\"outlinewidth\": 0, \"ticks\": \"\"}, \"colorscale\": [[0.0, \"#0d0887\"], [0.1111111111111111, \"#46039f\"], [0.2222222222222222, \"#7201a8\"], [0.3333333333333333, \"#9c179e\"], [0.4444444444444444, \"#bd3786\"], [0.5555555555555556, \"#d8576b\"], [0.6666666666666666, \"#ed7953\"], [0.7777777777777778, \"#fb9f3a\"], [0.8888888888888888, \"#fdca26\"], [1.0, \"#f0f921\"]], \"type\": \"surface\"}], \"table\": [{\"cells\": {\"fill\": {\"color\": \"#EBF0F8\"}, \"line\": {\"color\": \"white\"}}, \"header\": {\"fill\": {\"color\": \"#C8D4E3\"}, \"line\": {\"color\": \"white\"}}, \"type\": \"table\"}]}, \"layout\": {\"annotationdefaults\": {\"arrowcolor\": \"#2a3f5f\", \"arrowhead\": 0, \"arrowwidth\": 1}, \"coloraxis\": {\"colorbar\": {\"outlinewidth\": 0, \"ticks\": \"\"}}, \"colorscale\": {\"diverging\": [[0, \"#8e0152\"], [0.1, \"#c51b7d\"], [0.2, \"#de77ae\"], [0.3, \"#f1b6da\"], [0.4, \"#fde0ef\"], [0.5, \"#f7f7f7\"], [0.6, \"#e6f5d0\"], [0.7, \"#b8e186\"], [0.8, \"#7fbc41\"], [0.9, \"#4d9221\"], [1, \"#276419\"]], \"sequential\": [[0.0, \"#0d0887\"], [0.1111111111111111, \"#46039f\"], [0.2222222222222222, \"#7201a8\"], [0.3333333333333333, \"#9c179e\"], [0.4444444444444444, \"#bd3786\"], [0.5555555555555556, \"#d8576b\"], [0.6666666666666666, \"#ed7953\"], [0.7777777777777778, \"#fb9f3a\"], [0.8888888888888888, \"#fdca26\"], [1.0, \"#f0f921\"]], \"sequentialminus\": [[0.0, \"#0d0887\"], [0.1111111111111111, \"#46039f\"], [0.2222222222222222, \"#7201a8\"], [0.3333333333333333, \"#9c179e\"], [0.4444444444444444, \"#bd3786\"], [0.5555555555555556, \"#d8576b\"], [0.6666666666666666, \"#ed7953\"], [0.7777777777777778, \"#fb9f3a\"], [0.8888888888888888, \"#fdca26\"], [1.0, \"#f0f921\"]]}, \"colorway\": [\"#636efa\", \"#EF553B\", \"#00cc96\", \"#ab63fa\", \"#FFA15A\", \"#19d3f3\", \"#FF6692\", \"#B6E880\", \"#FF97FF\", \"#FECB52\"], \"font\": {\"color\": \"#2a3f5f\"}, \"geo\": {\"bgcolor\": \"white\", \"lakecolor\": \"white\", \"landcolor\": \"#E5ECF6\", \"showlakes\": true, \"showland\": true, \"subunitcolor\": \"white\"}, \"hoverlabel\": {\"align\": \"left\"}, \"hovermode\": \"closest\", \"mapbox\": {\"style\": \"light\"}, \"paper_bgcolor\": \"white\", \"plot_bgcolor\": \"#E5ECF6\", \"polar\": {\"angularaxis\": {\"gridcolor\": \"white\", \"linecolor\": \"white\", \"ticks\": \"\"}, \"bgcolor\": \"#E5ECF6\", \"radialaxis\": {\"gridcolor\": \"white\", \"linecolor\": \"white\", \"ticks\": \"\"}}, \"scene\": {\"xaxis\": {\"backgroundcolor\": \"#E5ECF6\", \"gridcolor\": \"white\", \"gridwidth\": 2, \"linecolor\": \"white\", \"showbackground\": true, \"ticks\": \"\", \"zerolinecolor\": \"white\"}, \"yaxis\": {\"backgroundcolor\": \"#E5ECF6\", \"gridcolor\": \"white\", \"gridwidth\": 2, \"linecolor\": \"white\", \"showbackground\": true, \"ticks\": \"\", \"zerolinecolor\": \"white\"}, \"zaxis\": {\"backgroundcolor\": \"#E5ECF6\", \"gridcolor\": \"white\", \"gridwidth\": 2, \"linecolor\": \"white\", \"showbackground\": true, \"ticks\": \"\", \"zerolinecolor\": \"white\"}}, \"shapedefaults\": {\"line\": {\"color\": \"#2a3f5f\"}}, \"ternary\": {\"aaxis\": {\"gridcolor\": \"white\", \"linecolor\": \"white\", \"ticks\": \"\"}, \"baxis\": {\"gridcolor\": \"white\", \"linecolor\": \"white\", \"ticks\": \"\"}, \"bgcolor\": \"#E5ECF6\", \"caxis\": {\"gridcolor\": \"white\", \"linecolor\": \"white\", \"ticks\": \"\"}}, \"title\": {\"x\": 0.05}, \"xaxis\": {\"automargin\": true, \"gridcolor\": \"white\", \"linecolor\": \"white\", \"ticks\": \"\", \"title\": {\"standoff\": 15}, \"zerolinecolor\": \"white\", \"zerolinewidth\": 2}, \"yaxis\": {\"automargin\": true, \"gridcolor\": \"white\", \"linecolor\": \"white\", \"ticks\": \"\", \"title\": {\"standoff\": 15}, \"zerolinecolor\": \"white\", \"zerolinewidth\": 2}}}},\n",
       "                        {\"responsive\": true}\n",
       "                    ).then(function(){\n",
       "                            \n",
       "var gd = document.getElementById('54f1c5fb-ddb6-4f2b-a2b6-76184081805f');\n",
       "var x = new MutationObserver(function (mutations, observer) {{\n",
       "        var display = window.getComputedStyle(gd).display;\n",
       "        if (!display || display === 'none') {{\n",
       "            console.log([gd, 'removed!']);\n",
       "            Plotly.purge(gd);\n",
       "            observer.disconnect();\n",
       "        }}\n",
       "}});\n",
       "\n",
       "// Listen for the removal of the full notebook cells\n",
       "var notebookContainer = gd.closest('#notebook-container');\n",
       "if (notebookContainer) {{\n",
       "    x.observe(notebookContainer, {childList: true});\n",
       "}}\n",
       "\n",
       "// Listen for the clearing of the current output cell\n",
       "var outputEl = gd.closest('.output');\n",
       "if (outputEl) {{\n",
       "    x.observe(outputEl, {childList: true});\n",
       "}}\n",
       "\n",
       "                        })\n",
       "                };\n",
       "                });\n",
       "            </script>\n",
       "        </div>"
      ]
     },
     "metadata": {},
     "output_type": "display_data"
    },
    {
     "data": {
      "text/plain": [
       "'output/exp27/y_hatの可視化.html'"
      ]
     },
     "execution_count": 212,
     "metadata": {},
     "output_type": "execute_result"
    }
   ],
   "source": [
    "# 予測値の可視化\n",
    "fig = px.choropleth(\n",
    "    df,\n",
    "    locations=\"code3\",\n",
    "    color=\"y_hat\",\n",
    "    hover_name=\"country\",\n",
    "    range_color=[0,102],\n",
    "    #animation_frame='variable',\n",
    "    #projection=\"natural earth\",\n",
    "    color_continuous_scale=list(reversed(px.colors.sequential.OrRd)),\n",
    "                                )\n",
    "fig.show()\n",
    "plotly.offline.plot(fig, filename=NEW_DIR_PATH + \"y_hatの可視化.html\")"
   ]
  },
  {
   "cell_type": "code",
   "execution_count": 213,
   "metadata": {
    "scrolled": true
   },
   "outputs": [
    {
     "data": {
      "application/vnd.plotly.v1+json": {
       "config": {
        "plotlyServerURL": "https://plot.ly"
       },
       "data": [
        {
         "coloraxis": "coloraxis",
         "geo": "geo",
         "hovertemplate": "<b>%{hovertext}</b><br><br>code3=%{location}<br>y-y_hat=%{z}<extra></extra>",
         "hovertext": [
          "Albania",
          "Algeria",
          "Angola",
          "Argentina",
          "Australia",
          "Austria",
          "Azerbaijan",
          "Bahamas",
          "Bahrain",
          "Bangladesh",
          "Belarus",
          "Belgium",
          "Belize",
          "Benin",
          "Bhutan",
          "Bolivia",
          "Bosnia and Herzegovina",
          "Botswana",
          "Brazil",
          "Brunei",
          "Bulgaria",
          "Burkina Faso",
          "Burundi",
          "Cambodia",
          "Cameroon",
          "Canada",
          "Cape Verde",
          "Central African Republic",
          "Chad",
          "Chile",
          "Colombia",
          "Congo",
          "Costa Rica",
          "Ivory Coast",
          "Croatia",
          "Cyprus",
          "Czech Republic",
          "Democratic Republic of the Congo",
          "Denmark",
          "Dominican Republic",
          "Ecuador",
          "Egypt",
          "El Salvador",
          "Estonia",
          "Ethiopia",
          "Fiji",
          "Finland",
          "France",
          "Gabon",
          "Gambia",
          "Georgia",
          "Germany",
          "Ghana",
          "Greece",
          "Guatemala",
          "Guinea",
          "Guinea-Bissau",
          "Guyana",
          "Honduras",
          "Hungary",
          "Iceland",
          "India",
          "Indonesia",
          "Iran",
          "Iraq",
          "Ireland",
          "Israel",
          "Italy",
          "Jamaica",
          "Japan",
          "Jordan",
          "Kazakhstan",
          "Kenya",
          "Kuwait",
          "Kyrgyzstan",
          "Latvia",
          "Lebanon",
          "Liberia",
          "Libya",
          "Lithuania",
          "Luxembourg",
          "Madagascar",
          "Malawi",
          "Malaysia",
          "Malta",
          "Mauritania",
          "Mauritius",
          "Mexico",
          "Moldova",
          "Mongolia",
          "Montenegro",
          "Morocco",
          "Mozambique",
          "Myanmar",
          "Nepal",
          "Netherlands",
          "New Zealand",
          "Nicaragua",
          "Niger",
          "Nigeria",
          "Macedonia",
          "Norway",
          "Oman",
          "Pakistan",
          "Panama",
          "Papua New Guinea",
          "Paraguay",
          "Peru",
          "Philippines",
          "Poland",
          "Portugal",
          "Qatar",
          "Romania",
          "Russia",
          "Rwanda",
          "Saudi Arabia",
          "Senegal",
          "Serbia",
          "Seychelles",
          "Sierra Leone",
          "Singapore",
          "Slovakia",
          "Slovenia",
          "South Africa",
          "South Korea",
          "Spain",
          "Sri Lanka",
          "Sudan",
          "Suriname",
          "Sweden",
          "Switzerland",
          "Thailand",
          "Togo",
          "Tobago",
          "Tunisia",
          "Turkey",
          "Uganda",
          "Ukraine",
          "United Arab Emirates",
          "UK",
          "Tanzania",
          "USA",
          "Uruguay",
          "Venezuela",
          "Vietnam",
          "Yemen",
          "Zambia",
          "Zimbabwe"
         ],
         "locations": [
          "ALB",
          "DZA",
          "AGO",
          "ARG",
          "AUS",
          "AUT",
          "AZE",
          "BHM",
          "BHR",
          "BGD",
          "BLR",
          "BEL",
          "BLZ",
          "BEN",
          "BTN",
          "BOL",
          "BIH",
          "BWA",
          "BRA",
          "BRN",
          "BGR",
          "BFA",
          "BDI",
          "KHM",
          "CMR",
          "CAN",
          "CPV",
          "CAF",
          "TCD",
          "CHL",
          "COL",
          "COG",
          "CRI",
          "CIV",
          "HRV",
          "CYP",
          "CZE",
          "COD",
          "DNK",
          "DOM",
          "ECU",
          "EGY",
          "SLV",
          "EST",
          "ETH",
          "FJI",
          "FIN",
          "FRA",
          "GAB",
          "GMB",
          "GEO",
          "DEU",
          "GHA",
          "GRC",
          "GTM",
          "GIN",
          "GNB",
          "GUY",
          "HND",
          "HUN",
          "ISL",
          "IND",
          "IDN",
          "IRN",
          "IRQ",
          "IRL",
          "ISR",
          "ITA",
          "JAM",
          "JPN",
          "JOR",
          "KAZ",
          "KEN",
          "KWT",
          "KGZ",
          "LVA",
          "LBN",
          "LBR",
          "LBY",
          "LTU",
          "LUX",
          "MDG",
          "MWI",
          "MYS",
          "MLT",
          "MRT",
          "MUS",
          "MEX",
          "MDA",
          "MNG",
          "MNE",
          "MAR",
          "MOZ",
          "MMR",
          "NPL",
          "NLD",
          "NZL",
          "NIC",
          "NER",
          "NGA",
          "MKD",
          "NOR",
          "OMN",
          "PAK",
          "PAN",
          "PNG",
          "PRY",
          "PER",
          "PHL",
          "POL",
          "PRT",
          "QAT",
          "ROU",
          "RUS",
          "RWA",
          "SAU",
          "SEN",
          "SRB",
          "SYC",
          "SLE",
          "SGP",
          "SVK",
          "SVN",
          "ZAF",
          "KOR",
          "ESP",
          "LKA",
          "SDN",
          "SUR",
          "SWE",
          "CHE",
          "THA",
          "TGO",
          "TTO",
          "TUN",
          "TUR",
          "UGA",
          "UKR",
          "ARE",
          "GBR",
          "TZA",
          "USA",
          "URY",
          "VEN",
          "VNM",
          "YEM",
          "ZMB",
          "ZWE"
         ],
         "name": "",
         "type": "choropleth",
         "z": [
          10.122638730193543,
          -14.361433002953618,
          8.068800921981676,
          0.03381150698419333,
          -20.595951209421862,
          2.2700355364591474,
          -2.880078528563523,
          0.9961571304971812,
          -0.25470966582837207,
          11.342614832721395,
          -6.4545263990601,
          -18.14080794337609,
          3.882251433376979,
          -0.9329250586865072,
          2.262711648610761,
          -6.96730519480667,
          -2.790983377334072,
          19.037816716323036,
          1.6105821170385397,
          15.31272375350251,
          7.189953719867731,
          -6.747503000354698,
          9.034071241501891,
          -35.53052224865145,
          -3.5570781341173756,
          -22.582596254195202,
          -1.2613334150973543,
          -1.566473305162674,
          5.9039397805256755,
          -6.225459903665296,
          -4.9844888506208065,
          -1.8388902917689762,
          -2.9254127580284575,
          0.2316868960481031,
          -1.1266161572864206,
          -1.5221542982564245,
          0.042146025232867146,
          -1.7250927307600818,
          10.8507066520665,
          -9.913680024078346,
          -6.63338565662248,
          -17.65091831489967,
          14.246296418151616,
          5.728302625973953,
          3.291571859435635,
          3.1281826883780184,
          -23.635985066737433,
          -27.316643657537128,
          -1.1509150335967036,
          5.392618626800953,
          1.3011215083084124,
          -19.67053625927742,
          0.8868953228323022,
          5.732163630786161,
          1.132976370385279,
          4.617201069834664,
          7.850195946965243,
          -13.222168814571717,
          -7.488126840964554,
          5.263487071022297,
          -0.5524247345333606,
          8.967390757417974,
          12.673447125998038,
          -7.545818186366333,
          -3.7723588884996104,
          9.21843277483137,
          -2.8465997421959273,
          -20.817965847919695,
          -8.852004934421586,
          -28.655223447599376,
          1.3724983402593551,
          10.493494596676072,
          9.520006093441594,
          5.292915692111961,
          18.881419751944094,
          14.358998204093481,
          -3.1907983335764527,
          0.04150009430213686,
          22.149706768450756,
          6.507312294920155,
          8.662600193497788,
          9.447981772842198,
          13.382862867895795,
          -24.132162234841473,
          4.544153817213015,
          3.9702184300881243,
          10.243091642077644,
          2.430280976933588,
          -0.71823354803999,
          20.292310422211415,
          16.143919267000918,
          -0.9046832248029659,
          7.306349191802781,
          17.742052162518846,
          -47.78504003471589,
          11.977279248904487,
          -9.970198236434072,
          2.63661451496219,
          7.13076651062967,
          -5.360821507080402,
          -9.078999010281663,
          4.89849170014638,
          -1.091978942028618,
          -1.5484112046999883,
          -4.005459541074487,
          5.056062971683659,
          -11.992271258574249,
          -9.968616903915475,
          -25.960887010201702,
          5.6494297756013765,
          -2.249167529712423,
          14.101509076604316,
          -7.514365124849604,
          6.912673131728596,
          -2.0458410337041215,
          17.223028040796024,
          -12.38970997826003,
          1.298341282958134,
          7.0273155546957184,
          19.137230355590575,
          -17.259071493907904,
          2.3671256210445364,
          8.033383473728655,
          7.988539345608501,
          -20.45196377651942,
          -20.07548540032962,
          -39.9202914394441,
          -3.1947204556822584,
          -2.2030458160518833,
          -14.51447845768935,
          1.0162090533136094,
          -36.574284551497804,
          -5.132191902201498,
          -7.356036903612022,
          -6.97077414802591,
          13.97397638917326,
          11.477474159592134,
          -0.41635931799164894,
          -28.440564644308807,
          -17.719149982912654,
          6.282477784039386,
          -24.141764231773493,
          -2.354308068469834,
          2.920122535701651,
          -34.258080212487144,
          24.98033224109318,
          1.5137228032217678,
          14.826091465063996
         ]
        }
       ],
       "layout": {
        "coloraxis": {
         "colorbar": {
          "title": {
           "text": "y-y_hat"
          }
         },
         "colorscale": [
          [
           0,
           "rgb(5,48,97)"
          ],
          [
           0.1,
           "rgb(33,102,172)"
          ],
          [
           0.2,
           "rgb(67,147,195)"
          ],
          [
           0.3,
           "rgb(146,197,222)"
          ],
          [
           0.4,
           "rgb(209,229,240)"
          ],
          [
           0.5,
           "rgb(247,247,247)"
          ],
          [
           0.6,
           "rgb(253,219,199)"
          ],
          [
           0.7,
           "rgb(244,165,130)"
          ],
          [
           0.8,
           "rgb(214,96,77)"
          ],
          [
           0.9,
           "rgb(178,24,43)"
          ],
          [
           1,
           "rgb(103,0,31)"
          ]
         ]
        },
        "geo": {
         "center": {},
         "domain": {
          "x": [
           0,
           1
          ],
          "y": [
           0,
           1
          ]
         }
        },
        "legend": {
         "tracegroupgap": 0
        },
        "margin": {
         "t": 60
        },
        "template": {
         "data": {
          "bar": [
           {
            "error_x": {
             "color": "#2a3f5f"
            },
            "error_y": {
             "color": "#2a3f5f"
            },
            "marker": {
             "line": {
              "color": "#E5ECF6",
              "width": 0.5
             }
            },
            "type": "bar"
           }
          ],
          "barpolar": [
           {
            "marker": {
             "line": {
              "color": "#E5ECF6",
              "width": 0.5
             }
            },
            "type": "barpolar"
           }
          ],
          "carpet": [
           {
            "aaxis": {
             "endlinecolor": "#2a3f5f",
             "gridcolor": "white",
             "linecolor": "white",
             "minorgridcolor": "white",
             "startlinecolor": "#2a3f5f"
            },
            "baxis": {
             "endlinecolor": "#2a3f5f",
             "gridcolor": "white",
             "linecolor": "white",
             "minorgridcolor": "white",
             "startlinecolor": "#2a3f5f"
            },
            "type": "carpet"
           }
          ],
          "choropleth": [
           {
            "colorbar": {
             "outlinewidth": 0,
             "ticks": ""
            },
            "type": "choropleth"
           }
          ],
          "contour": [
           {
            "colorbar": {
             "outlinewidth": 0,
             "ticks": ""
            },
            "colorscale": [
             [
              0,
              "#0d0887"
             ],
             [
              0.1111111111111111,
              "#46039f"
             ],
             [
              0.2222222222222222,
              "#7201a8"
             ],
             [
              0.3333333333333333,
              "#9c179e"
             ],
             [
              0.4444444444444444,
              "#bd3786"
             ],
             [
              0.5555555555555556,
              "#d8576b"
             ],
             [
              0.6666666666666666,
              "#ed7953"
             ],
             [
              0.7777777777777778,
              "#fb9f3a"
             ],
             [
              0.8888888888888888,
              "#fdca26"
             ],
             [
              1,
              "#f0f921"
             ]
            ],
            "type": "contour"
           }
          ],
          "contourcarpet": [
           {
            "colorbar": {
             "outlinewidth": 0,
             "ticks": ""
            },
            "type": "contourcarpet"
           }
          ],
          "heatmap": [
           {
            "colorbar": {
             "outlinewidth": 0,
             "ticks": ""
            },
            "colorscale": [
             [
              0,
              "#0d0887"
             ],
             [
              0.1111111111111111,
              "#46039f"
             ],
             [
              0.2222222222222222,
              "#7201a8"
             ],
             [
              0.3333333333333333,
              "#9c179e"
             ],
             [
              0.4444444444444444,
              "#bd3786"
             ],
             [
              0.5555555555555556,
              "#d8576b"
             ],
             [
              0.6666666666666666,
              "#ed7953"
             ],
             [
              0.7777777777777778,
              "#fb9f3a"
             ],
             [
              0.8888888888888888,
              "#fdca26"
             ],
             [
              1,
              "#f0f921"
             ]
            ],
            "type": "heatmap"
           }
          ],
          "heatmapgl": [
           {
            "colorbar": {
             "outlinewidth": 0,
             "ticks": ""
            },
            "colorscale": [
             [
              0,
              "#0d0887"
             ],
             [
              0.1111111111111111,
              "#46039f"
             ],
             [
              0.2222222222222222,
              "#7201a8"
             ],
             [
              0.3333333333333333,
              "#9c179e"
             ],
             [
              0.4444444444444444,
              "#bd3786"
             ],
             [
              0.5555555555555556,
              "#d8576b"
             ],
             [
              0.6666666666666666,
              "#ed7953"
             ],
             [
              0.7777777777777778,
              "#fb9f3a"
             ],
             [
              0.8888888888888888,
              "#fdca26"
             ],
             [
              1,
              "#f0f921"
             ]
            ],
            "type": "heatmapgl"
           }
          ],
          "histogram": [
           {
            "marker": {
             "colorbar": {
              "outlinewidth": 0,
              "ticks": ""
             }
            },
            "type": "histogram"
           }
          ],
          "histogram2d": [
           {
            "colorbar": {
             "outlinewidth": 0,
             "ticks": ""
            },
            "colorscale": [
             [
              0,
              "#0d0887"
             ],
             [
              0.1111111111111111,
              "#46039f"
             ],
             [
              0.2222222222222222,
              "#7201a8"
             ],
             [
              0.3333333333333333,
              "#9c179e"
             ],
             [
              0.4444444444444444,
              "#bd3786"
             ],
             [
              0.5555555555555556,
              "#d8576b"
             ],
             [
              0.6666666666666666,
              "#ed7953"
             ],
             [
              0.7777777777777778,
              "#fb9f3a"
             ],
             [
              0.8888888888888888,
              "#fdca26"
             ],
             [
              1,
              "#f0f921"
             ]
            ],
            "type": "histogram2d"
           }
          ],
          "histogram2dcontour": [
           {
            "colorbar": {
             "outlinewidth": 0,
             "ticks": ""
            },
            "colorscale": [
             [
              0,
              "#0d0887"
             ],
             [
              0.1111111111111111,
              "#46039f"
             ],
             [
              0.2222222222222222,
              "#7201a8"
             ],
             [
              0.3333333333333333,
              "#9c179e"
             ],
             [
              0.4444444444444444,
              "#bd3786"
             ],
             [
              0.5555555555555556,
              "#d8576b"
             ],
             [
              0.6666666666666666,
              "#ed7953"
             ],
             [
              0.7777777777777778,
              "#fb9f3a"
             ],
             [
              0.8888888888888888,
              "#fdca26"
             ],
             [
              1,
              "#f0f921"
             ]
            ],
            "type": "histogram2dcontour"
           }
          ],
          "mesh3d": [
           {
            "colorbar": {
             "outlinewidth": 0,
             "ticks": ""
            },
            "type": "mesh3d"
           }
          ],
          "parcoords": [
           {
            "line": {
             "colorbar": {
              "outlinewidth": 0,
              "ticks": ""
             }
            },
            "type": "parcoords"
           }
          ],
          "pie": [
           {
            "automargin": true,
            "type": "pie"
           }
          ],
          "scatter": [
           {
            "marker": {
             "colorbar": {
              "outlinewidth": 0,
              "ticks": ""
             }
            },
            "type": "scatter"
           }
          ],
          "scatter3d": [
           {
            "line": {
             "colorbar": {
              "outlinewidth": 0,
              "ticks": ""
             }
            },
            "marker": {
             "colorbar": {
              "outlinewidth": 0,
              "ticks": ""
             }
            },
            "type": "scatter3d"
           }
          ],
          "scattercarpet": [
           {
            "marker": {
             "colorbar": {
              "outlinewidth": 0,
              "ticks": ""
             }
            },
            "type": "scattercarpet"
           }
          ],
          "scattergeo": [
           {
            "marker": {
             "colorbar": {
              "outlinewidth": 0,
              "ticks": ""
             }
            },
            "type": "scattergeo"
           }
          ],
          "scattergl": [
           {
            "marker": {
             "colorbar": {
              "outlinewidth": 0,
              "ticks": ""
             }
            },
            "type": "scattergl"
           }
          ],
          "scattermapbox": [
           {
            "marker": {
             "colorbar": {
              "outlinewidth": 0,
              "ticks": ""
             }
            },
            "type": "scattermapbox"
           }
          ],
          "scatterpolar": [
           {
            "marker": {
             "colorbar": {
              "outlinewidth": 0,
              "ticks": ""
             }
            },
            "type": "scatterpolar"
           }
          ],
          "scatterpolargl": [
           {
            "marker": {
             "colorbar": {
              "outlinewidth": 0,
              "ticks": ""
             }
            },
            "type": "scatterpolargl"
           }
          ],
          "scatterternary": [
           {
            "marker": {
             "colorbar": {
              "outlinewidth": 0,
              "ticks": ""
             }
            },
            "type": "scatterternary"
           }
          ],
          "surface": [
           {
            "colorbar": {
             "outlinewidth": 0,
             "ticks": ""
            },
            "colorscale": [
             [
              0,
              "#0d0887"
             ],
             [
              0.1111111111111111,
              "#46039f"
             ],
             [
              0.2222222222222222,
              "#7201a8"
             ],
             [
              0.3333333333333333,
              "#9c179e"
             ],
             [
              0.4444444444444444,
              "#bd3786"
             ],
             [
              0.5555555555555556,
              "#d8576b"
             ],
             [
              0.6666666666666666,
              "#ed7953"
             ],
             [
              0.7777777777777778,
              "#fb9f3a"
             ],
             [
              0.8888888888888888,
              "#fdca26"
             ],
             [
              1,
              "#f0f921"
             ]
            ],
            "type": "surface"
           }
          ],
          "table": [
           {
            "cells": {
             "fill": {
              "color": "#EBF0F8"
             },
             "line": {
              "color": "white"
             }
            },
            "header": {
             "fill": {
              "color": "#C8D4E3"
             },
             "line": {
              "color": "white"
             }
            },
            "type": "table"
           }
          ]
         },
         "layout": {
          "annotationdefaults": {
           "arrowcolor": "#2a3f5f",
           "arrowhead": 0,
           "arrowwidth": 1
          },
          "coloraxis": {
           "colorbar": {
            "outlinewidth": 0,
            "ticks": ""
           }
          },
          "colorscale": {
           "diverging": [
            [
             0,
             "#8e0152"
            ],
            [
             0.1,
             "#c51b7d"
            ],
            [
             0.2,
             "#de77ae"
            ],
            [
             0.3,
             "#f1b6da"
            ],
            [
             0.4,
             "#fde0ef"
            ],
            [
             0.5,
             "#f7f7f7"
            ],
            [
             0.6,
             "#e6f5d0"
            ],
            [
             0.7,
             "#b8e186"
            ],
            [
             0.8,
             "#7fbc41"
            ],
            [
             0.9,
             "#4d9221"
            ],
            [
             1,
             "#276419"
            ]
           ],
           "sequential": [
            [
             0,
             "#0d0887"
            ],
            [
             0.1111111111111111,
             "#46039f"
            ],
            [
             0.2222222222222222,
             "#7201a8"
            ],
            [
             0.3333333333333333,
             "#9c179e"
            ],
            [
             0.4444444444444444,
             "#bd3786"
            ],
            [
             0.5555555555555556,
             "#d8576b"
            ],
            [
             0.6666666666666666,
             "#ed7953"
            ],
            [
             0.7777777777777778,
             "#fb9f3a"
            ],
            [
             0.8888888888888888,
             "#fdca26"
            ],
            [
             1,
             "#f0f921"
            ]
           ],
           "sequentialminus": [
            [
             0,
             "#0d0887"
            ],
            [
             0.1111111111111111,
             "#46039f"
            ],
            [
             0.2222222222222222,
             "#7201a8"
            ],
            [
             0.3333333333333333,
             "#9c179e"
            ],
            [
             0.4444444444444444,
             "#bd3786"
            ],
            [
             0.5555555555555556,
             "#d8576b"
            ],
            [
             0.6666666666666666,
             "#ed7953"
            ],
            [
             0.7777777777777778,
             "#fb9f3a"
            ],
            [
             0.8888888888888888,
             "#fdca26"
            ],
            [
             1,
             "#f0f921"
            ]
           ]
          },
          "colorway": [
           "#636efa",
           "#EF553B",
           "#00cc96",
           "#ab63fa",
           "#FFA15A",
           "#19d3f3",
           "#FF6692",
           "#B6E880",
           "#FF97FF",
           "#FECB52"
          ],
          "font": {
           "color": "#2a3f5f"
          },
          "geo": {
           "bgcolor": "white",
           "lakecolor": "white",
           "landcolor": "#E5ECF6",
           "showlakes": true,
           "showland": true,
           "subunitcolor": "white"
          },
          "hoverlabel": {
           "align": "left"
          },
          "hovermode": "closest",
          "mapbox": {
           "style": "light"
          },
          "paper_bgcolor": "white",
          "plot_bgcolor": "#E5ECF6",
          "polar": {
           "angularaxis": {
            "gridcolor": "white",
            "linecolor": "white",
            "ticks": ""
           },
           "bgcolor": "#E5ECF6",
           "radialaxis": {
            "gridcolor": "white",
            "linecolor": "white",
            "ticks": ""
           }
          },
          "scene": {
           "xaxis": {
            "backgroundcolor": "#E5ECF6",
            "gridcolor": "white",
            "gridwidth": 2,
            "linecolor": "white",
            "showbackground": true,
            "ticks": "",
            "zerolinecolor": "white"
           },
           "yaxis": {
            "backgroundcolor": "#E5ECF6",
            "gridcolor": "white",
            "gridwidth": 2,
            "linecolor": "white",
            "showbackground": true,
            "ticks": "",
            "zerolinecolor": "white"
           },
           "zaxis": {
            "backgroundcolor": "#E5ECF6",
            "gridcolor": "white",
            "gridwidth": 2,
            "linecolor": "white",
            "showbackground": true,
            "ticks": "",
            "zerolinecolor": "white"
           }
          },
          "shapedefaults": {
           "line": {
            "color": "#2a3f5f"
           }
          },
          "ternary": {
           "aaxis": {
            "gridcolor": "white",
            "linecolor": "white",
            "ticks": ""
           },
           "baxis": {
            "gridcolor": "white",
            "linecolor": "white",
            "ticks": ""
           },
           "bgcolor": "#E5ECF6",
           "caxis": {
            "gridcolor": "white",
            "linecolor": "white",
            "ticks": ""
           }
          },
          "title": {
           "x": 0.05
          },
          "xaxis": {
           "automargin": true,
           "gridcolor": "white",
           "linecolor": "white",
           "ticks": "",
           "title": {
            "standoff": 15
           },
           "zerolinecolor": "white",
           "zerolinewidth": 2
          },
          "yaxis": {
           "automargin": true,
           "gridcolor": "white",
           "linecolor": "white",
           "ticks": "",
           "title": {
            "standoff": 15
           },
           "zerolinecolor": "white",
           "zerolinewidth": 2
          }
         }
        }
       }
      },
      "text/html": [
       "<div>\n",
       "        \n",
       "        \n",
       "            <div id=\"ccc8c4c4-9277-4800-8ddd-430635f00bb1\" class=\"plotly-graph-div\" style=\"height:525px; width:100%;\"></div>\n",
       "            <script type=\"text/javascript\">\n",
       "                require([\"plotly\"], function(Plotly) {\n",
       "                    window.PLOTLYENV=window.PLOTLYENV || {};\n",
       "                    \n",
       "                if (document.getElementById(\"ccc8c4c4-9277-4800-8ddd-430635f00bb1\")) {\n",
       "                    Plotly.newPlot(\n",
       "                        'ccc8c4c4-9277-4800-8ddd-430635f00bb1',\n",
       "                        [{\"coloraxis\": \"coloraxis\", \"geo\": \"geo\", \"hovertemplate\": \"<b>%{hovertext}</b><br><br>code3=%{location}<br>y-y_hat=%{z}<extra></extra>\", \"hovertext\": [\"Albania\", \"Algeria\", \"Angola\", \"Argentina\", \"Australia\", \"Austria\", \"Azerbaijan\", \"Bahamas\", \"Bahrain\", \"Bangladesh\", \"Belarus\", \"Belgium\", \"Belize\", \"Benin\", \"Bhutan\", \"Bolivia\", \"Bosnia and Herzegovina\", \"Botswana\", \"Brazil\", \"Brunei\", \"Bulgaria\", \"Burkina Faso\", \"Burundi\", \"Cambodia\", \"Cameroon\", \"Canada\", \"Cape Verde\", \"Central African Republic\", \"Chad\", \"Chile\", \"Colombia\", \"Congo\", \"Costa Rica\", \"Ivory Coast\", \"Croatia\", \"Cyprus\", \"Czech Republic\", \"Democratic Republic of the Congo\", \"Denmark\", \"Dominican Republic\", \"Ecuador\", \"Egypt\", \"El Salvador\", \"Estonia\", \"Ethiopia\", \"Fiji\", \"Finland\", \"France\", \"Gabon\", \"Gambia\", \"Georgia\", \"Germany\", \"Ghana\", \"Greece\", \"Guatemala\", \"Guinea\", \"Guinea-Bissau\", \"Guyana\", \"Honduras\", \"Hungary\", \"Iceland\", \"India\", \"Indonesia\", \"Iran\", \"Iraq\", \"Ireland\", \"Israel\", \"Italy\", \"Jamaica\", \"Japan\", \"Jordan\", \"Kazakhstan\", \"Kenya\", \"Kuwait\", \"Kyrgyzstan\", \"Latvia\", \"Lebanon\", \"Liberia\", \"Libya\", \"Lithuania\", \"Luxembourg\", \"Madagascar\", \"Malawi\", \"Malaysia\", \"Malta\", \"Mauritania\", \"Mauritius\", \"Mexico\", \"Moldova\", \"Mongolia\", \"Montenegro\", \"Morocco\", \"Mozambique\", \"Myanmar\", \"Nepal\", \"Netherlands\", \"New Zealand\", \"Nicaragua\", \"Niger\", \"Nigeria\", \"Macedonia\", \"Norway\", \"Oman\", \"Pakistan\", \"Panama\", \"Papua New Guinea\", \"Paraguay\", \"Peru\", \"Philippines\", \"Poland\", \"Portugal\", \"Qatar\", \"Romania\", \"Russia\", \"Rwanda\", \"Saudi Arabia\", \"Senegal\", \"Serbia\", \"Seychelles\", \"Sierra Leone\", \"Singapore\", \"Slovakia\", \"Slovenia\", \"South Africa\", \"South Korea\", \"Spain\", \"Sri Lanka\", \"Sudan\", \"Suriname\", \"Sweden\", \"Switzerland\", \"Thailand\", \"Togo\", \"Tobago\", \"Tunisia\", \"Turkey\", \"Uganda\", \"Ukraine\", \"United Arab Emirates\", \"UK\", \"Tanzania\", \"USA\", \"Uruguay\", \"Venezuela\", \"Vietnam\", \"Yemen\", \"Zambia\", \"Zimbabwe\"], \"locations\": [\"ALB\", \"DZA\", \"AGO\", \"ARG\", \"AUS\", \"AUT\", \"AZE\", \"BHM\", \"BHR\", \"BGD\", \"BLR\", \"BEL\", \"BLZ\", \"BEN\", \"BTN\", \"BOL\", \"BIH\", \"BWA\", \"BRA\", \"BRN\", \"BGR\", \"BFA\", \"BDI\", \"KHM\", \"CMR\", \"CAN\", \"CPV\", \"CAF\", \"TCD\", \"CHL\", \"COL\", \"COG\", \"CRI\", \"CIV\", \"HRV\", \"CYP\", \"CZE\", \"COD\", \"DNK\", \"DOM\", \"ECU\", \"EGY\", \"SLV\", \"EST\", \"ETH\", \"FJI\", \"FIN\", \"FRA\", \"GAB\", \"GMB\", \"GEO\", \"DEU\", \"GHA\", \"GRC\", \"GTM\", \"GIN\", \"GNB\", \"GUY\", \"HND\", \"HUN\", \"ISL\", \"IND\", \"IDN\", \"IRN\", \"IRQ\", \"IRL\", \"ISR\", \"ITA\", \"JAM\", \"JPN\", \"JOR\", \"KAZ\", \"KEN\", \"KWT\", \"KGZ\", \"LVA\", \"LBN\", \"LBR\", \"LBY\", \"LTU\", \"LUX\", \"MDG\", \"MWI\", \"MYS\", \"MLT\", \"MRT\", \"MUS\", \"MEX\", \"MDA\", \"MNG\", \"MNE\", \"MAR\", \"MOZ\", \"MMR\", \"NPL\", \"NLD\", \"NZL\", \"NIC\", \"NER\", \"NGA\", \"MKD\", \"NOR\", \"OMN\", \"PAK\", \"PAN\", \"PNG\", \"PRY\", \"PER\", \"PHL\", \"POL\", \"PRT\", \"QAT\", \"ROU\", \"RUS\", \"RWA\", \"SAU\", \"SEN\", \"SRB\", \"SYC\", \"SLE\", \"SGP\", \"SVK\", \"SVN\", \"ZAF\", \"KOR\", \"ESP\", \"LKA\", \"SDN\", \"SUR\", \"SWE\", \"CHE\", \"THA\", \"TGO\", \"TTO\", \"TUN\", \"TUR\", \"UGA\", \"UKR\", \"ARE\", \"GBR\", \"TZA\", \"USA\", \"URY\", \"VEN\", \"VNM\", \"YEM\", \"ZMB\", \"ZWE\"], \"name\": \"\", \"type\": \"choropleth\", \"z\": [10.122638730193543, -14.361433002953618, 8.068800921981676, 0.03381150698419333, -20.595951209421862, 2.2700355364591474, -2.880078528563523, 0.9961571304971812, -0.25470966582837207, 11.342614832721395, -6.4545263990601, -18.14080794337609, 3.882251433376979, -0.9329250586865072, 2.262711648610761, -6.96730519480667, -2.790983377334072, 19.037816716323036, 1.6105821170385397, 15.31272375350251, 7.189953719867731, -6.747503000354698, 9.034071241501891, -35.53052224865145, -3.5570781341173756, -22.582596254195202, -1.2613334150973543, -1.566473305162674, 5.9039397805256755, -6.225459903665296, -4.9844888506208065, -1.8388902917689762, -2.9254127580284575, 0.2316868960481031, -1.1266161572864206, -1.5221542982564245, 0.042146025232867146, -1.7250927307600818, 10.8507066520665, -9.913680024078346, -6.63338565662248, -17.65091831489967, 14.246296418151616, 5.728302625973953, 3.291571859435635, 3.1281826883780184, -23.635985066737433, -27.316643657537128, -1.1509150335967036, 5.392618626800953, 1.3011215083084124, -19.67053625927742, 0.8868953228323022, 5.732163630786161, 1.132976370385279, 4.617201069834664, 7.850195946965243, -13.222168814571717, -7.488126840964554, 5.263487071022297, -0.5524247345333606, 8.967390757417974, 12.673447125998038, -7.545818186366333, -3.7723588884996104, 9.21843277483137, -2.8465997421959273, -20.817965847919695, -8.852004934421586, -28.655223447599376, 1.3724983402593551, 10.493494596676072, 9.520006093441594, 5.292915692111961, 18.881419751944094, 14.358998204093481, -3.1907983335764527, 0.04150009430213686, 22.149706768450756, 6.507312294920155, 8.662600193497788, 9.447981772842198, 13.382862867895795, -24.132162234841473, 4.544153817213015, 3.9702184300881243, 10.243091642077644, 2.430280976933588, -0.71823354803999, 20.292310422211415, 16.143919267000918, -0.9046832248029659, 7.306349191802781, 17.742052162518846, -47.78504003471589, 11.977279248904487, -9.970198236434072, 2.63661451496219, 7.13076651062967, -5.360821507080402, -9.078999010281663, 4.89849170014638, -1.091978942028618, -1.5484112046999883, -4.005459541074487, 5.056062971683659, -11.992271258574249, -9.968616903915475, -25.960887010201702, 5.6494297756013765, -2.249167529712423, 14.101509076604316, -7.514365124849604, 6.912673131728596, -2.0458410337041215, 17.223028040796024, -12.38970997826003, 1.298341282958134, 7.0273155546957184, 19.137230355590575, -17.259071493907904, 2.3671256210445364, 8.033383473728655, 7.988539345608501, -20.45196377651942, -20.07548540032962, -39.9202914394441, -3.1947204556822584, -2.2030458160518833, -14.51447845768935, 1.0162090533136094, -36.574284551497804, -5.132191902201498, -7.356036903612022, -6.97077414802591, 13.97397638917326, 11.477474159592134, -0.41635931799164894, -28.440564644308807, -17.719149982912654, 6.282477784039386, -24.141764231773493, -2.354308068469834, 2.920122535701651, -34.258080212487144, 24.98033224109318, 1.5137228032217678, 14.826091465063996]}],\n",
       "                        {\"coloraxis\": {\"colorbar\": {\"title\": {\"text\": \"y-y_hat\"}}, \"colorscale\": [[0.0, \"rgb(5,48,97)\"], [0.1, \"rgb(33,102,172)\"], [0.2, \"rgb(67,147,195)\"], [0.3, \"rgb(146,197,222)\"], [0.4, \"rgb(209,229,240)\"], [0.5, \"rgb(247,247,247)\"], [0.6, \"rgb(253,219,199)\"], [0.7, \"rgb(244,165,130)\"], [0.8, \"rgb(214,96,77)\"], [0.9, \"rgb(178,24,43)\"], [1.0, \"rgb(103,0,31)\"]]}, \"geo\": {\"center\": {}, \"domain\": {\"x\": [0.0, 1.0], \"y\": [0.0, 1.0]}}, \"legend\": {\"tracegroupgap\": 0}, \"margin\": {\"t\": 60}, \"template\": {\"data\": {\"bar\": [{\"error_x\": {\"color\": \"#2a3f5f\"}, \"error_y\": {\"color\": \"#2a3f5f\"}, \"marker\": {\"line\": {\"color\": \"#E5ECF6\", \"width\": 0.5}}, \"type\": \"bar\"}], \"barpolar\": [{\"marker\": {\"line\": {\"color\": \"#E5ECF6\", \"width\": 0.5}}, \"type\": \"barpolar\"}], \"carpet\": [{\"aaxis\": {\"endlinecolor\": \"#2a3f5f\", \"gridcolor\": \"white\", \"linecolor\": \"white\", \"minorgridcolor\": \"white\", \"startlinecolor\": \"#2a3f5f\"}, \"baxis\": {\"endlinecolor\": \"#2a3f5f\", \"gridcolor\": \"white\", \"linecolor\": \"white\", \"minorgridcolor\": \"white\", \"startlinecolor\": \"#2a3f5f\"}, \"type\": \"carpet\"}], \"choropleth\": [{\"colorbar\": {\"outlinewidth\": 0, \"ticks\": \"\"}, \"type\": \"choropleth\"}], \"contour\": [{\"colorbar\": {\"outlinewidth\": 0, \"ticks\": \"\"}, \"colorscale\": [[0.0, \"#0d0887\"], [0.1111111111111111, \"#46039f\"], [0.2222222222222222, \"#7201a8\"], [0.3333333333333333, \"#9c179e\"], [0.4444444444444444, \"#bd3786\"], [0.5555555555555556, \"#d8576b\"], [0.6666666666666666, \"#ed7953\"], [0.7777777777777778, \"#fb9f3a\"], [0.8888888888888888, \"#fdca26\"], [1.0, \"#f0f921\"]], \"type\": \"contour\"}], \"contourcarpet\": [{\"colorbar\": {\"outlinewidth\": 0, \"ticks\": \"\"}, \"type\": \"contourcarpet\"}], \"heatmap\": [{\"colorbar\": {\"outlinewidth\": 0, \"ticks\": \"\"}, \"colorscale\": [[0.0, \"#0d0887\"], [0.1111111111111111, \"#46039f\"], [0.2222222222222222, \"#7201a8\"], [0.3333333333333333, \"#9c179e\"], [0.4444444444444444, \"#bd3786\"], [0.5555555555555556, \"#d8576b\"], [0.6666666666666666, \"#ed7953\"], [0.7777777777777778, \"#fb9f3a\"], [0.8888888888888888, \"#fdca26\"], [1.0, \"#f0f921\"]], \"type\": \"heatmap\"}], \"heatmapgl\": [{\"colorbar\": {\"outlinewidth\": 0, \"ticks\": \"\"}, \"colorscale\": [[0.0, \"#0d0887\"], [0.1111111111111111, \"#46039f\"], [0.2222222222222222, \"#7201a8\"], [0.3333333333333333, \"#9c179e\"], [0.4444444444444444, \"#bd3786\"], [0.5555555555555556, \"#d8576b\"], [0.6666666666666666, \"#ed7953\"], [0.7777777777777778, \"#fb9f3a\"], [0.8888888888888888, \"#fdca26\"], [1.0, \"#f0f921\"]], \"type\": \"heatmapgl\"}], \"histogram\": [{\"marker\": {\"colorbar\": {\"outlinewidth\": 0, \"ticks\": \"\"}}, \"type\": \"histogram\"}], \"histogram2d\": [{\"colorbar\": {\"outlinewidth\": 0, \"ticks\": \"\"}, \"colorscale\": [[0.0, \"#0d0887\"], [0.1111111111111111, \"#46039f\"], [0.2222222222222222, \"#7201a8\"], [0.3333333333333333, \"#9c179e\"], [0.4444444444444444, \"#bd3786\"], [0.5555555555555556, \"#d8576b\"], [0.6666666666666666, \"#ed7953\"], [0.7777777777777778, \"#fb9f3a\"], [0.8888888888888888, \"#fdca26\"], [1.0, \"#f0f921\"]], \"type\": \"histogram2d\"}], \"histogram2dcontour\": [{\"colorbar\": {\"outlinewidth\": 0, \"ticks\": \"\"}, \"colorscale\": [[0.0, \"#0d0887\"], [0.1111111111111111, \"#46039f\"], [0.2222222222222222, \"#7201a8\"], [0.3333333333333333, \"#9c179e\"], [0.4444444444444444, \"#bd3786\"], [0.5555555555555556, \"#d8576b\"], [0.6666666666666666, \"#ed7953\"], [0.7777777777777778, \"#fb9f3a\"], [0.8888888888888888, \"#fdca26\"], [1.0, \"#f0f921\"]], \"type\": \"histogram2dcontour\"}], \"mesh3d\": [{\"colorbar\": {\"outlinewidth\": 0, \"ticks\": \"\"}, \"type\": \"mesh3d\"}], \"parcoords\": [{\"line\": {\"colorbar\": {\"outlinewidth\": 0, \"ticks\": \"\"}}, \"type\": \"parcoords\"}], \"pie\": [{\"automargin\": true, \"type\": \"pie\"}], \"scatter\": [{\"marker\": {\"colorbar\": {\"outlinewidth\": 0, \"ticks\": \"\"}}, \"type\": \"scatter\"}], \"scatter3d\": [{\"line\": {\"colorbar\": {\"outlinewidth\": 0, \"ticks\": \"\"}}, \"marker\": {\"colorbar\": {\"outlinewidth\": 0, \"ticks\": \"\"}}, \"type\": \"scatter3d\"}], \"scattercarpet\": [{\"marker\": {\"colorbar\": {\"outlinewidth\": 0, \"ticks\": \"\"}}, \"type\": \"scattercarpet\"}], \"scattergeo\": [{\"marker\": {\"colorbar\": {\"outlinewidth\": 0, \"ticks\": \"\"}}, \"type\": \"scattergeo\"}], \"scattergl\": [{\"marker\": {\"colorbar\": {\"outlinewidth\": 0, \"ticks\": \"\"}}, \"type\": \"scattergl\"}], \"scattermapbox\": [{\"marker\": {\"colorbar\": {\"outlinewidth\": 0, \"ticks\": \"\"}}, \"type\": \"scattermapbox\"}], \"scatterpolar\": [{\"marker\": {\"colorbar\": {\"outlinewidth\": 0, \"ticks\": \"\"}}, \"type\": \"scatterpolar\"}], \"scatterpolargl\": [{\"marker\": {\"colorbar\": {\"outlinewidth\": 0, \"ticks\": \"\"}}, \"type\": \"scatterpolargl\"}], \"scatterternary\": [{\"marker\": {\"colorbar\": {\"outlinewidth\": 0, \"ticks\": \"\"}}, \"type\": \"scatterternary\"}], \"surface\": [{\"colorbar\": {\"outlinewidth\": 0, \"ticks\": \"\"}, \"colorscale\": [[0.0, \"#0d0887\"], [0.1111111111111111, \"#46039f\"], [0.2222222222222222, \"#7201a8\"], [0.3333333333333333, \"#9c179e\"], [0.4444444444444444, \"#bd3786\"], [0.5555555555555556, \"#d8576b\"], [0.6666666666666666, \"#ed7953\"], [0.7777777777777778, \"#fb9f3a\"], [0.8888888888888888, \"#fdca26\"], [1.0, \"#f0f921\"]], \"type\": \"surface\"}], \"table\": [{\"cells\": {\"fill\": {\"color\": \"#EBF0F8\"}, \"line\": {\"color\": \"white\"}}, \"header\": {\"fill\": {\"color\": \"#C8D4E3\"}, \"line\": {\"color\": \"white\"}}, \"type\": \"table\"}]}, \"layout\": {\"annotationdefaults\": {\"arrowcolor\": \"#2a3f5f\", \"arrowhead\": 0, \"arrowwidth\": 1}, \"coloraxis\": {\"colorbar\": {\"outlinewidth\": 0, \"ticks\": \"\"}}, \"colorscale\": {\"diverging\": [[0, \"#8e0152\"], [0.1, \"#c51b7d\"], [0.2, \"#de77ae\"], [0.3, \"#f1b6da\"], [0.4, \"#fde0ef\"], [0.5, \"#f7f7f7\"], [0.6, \"#e6f5d0\"], [0.7, \"#b8e186\"], [0.8, \"#7fbc41\"], [0.9, \"#4d9221\"], [1, \"#276419\"]], \"sequential\": [[0.0, \"#0d0887\"], [0.1111111111111111, \"#46039f\"], [0.2222222222222222, \"#7201a8\"], [0.3333333333333333, \"#9c179e\"], [0.4444444444444444, \"#bd3786\"], [0.5555555555555556, \"#d8576b\"], [0.6666666666666666, \"#ed7953\"], [0.7777777777777778, \"#fb9f3a\"], [0.8888888888888888, \"#fdca26\"], [1.0, \"#f0f921\"]], \"sequentialminus\": [[0.0, \"#0d0887\"], [0.1111111111111111, \"#46039f\"], [0.2222222222222222, \"#7201a8\"], [0.3333333333333333, \"#9c179e\"], [0.4444444444444444, \"#bd3786\"], [0.5555555555555556, \"#d8576b\"], [0.6666666666666666, \"#ed7953\"], [0.7777777777777778, \"#fb9f3a\"], [0.8888888888888888, \"#fdca26\"], [1.0, \"#f0f921\"]]}, \"colorway\": [\"#636efa\", \"#EF553B\", \"#00cc96\", \"#ab63fa\", \"#FFA15A\", \"#19d3f3\", \"#FF6692\", \"#B6E880\", \"#FF97FF\", \"#FECB52\"], \"font\": {\"color\": \"#2a3f5f\"}, \"geo\": {\"bgcolor\": \"white\", \"lakecolor\": \"white\", \"landcolor\": \"#E5ECF6\", \"showlakes\": true, \"showland\": true, \"subunitcolor\": \"white\"}, \"hoverlabel\": {\"align\": \"left\"}, \"hovermode\": \"closest\", \"mapbox\": {\"style\": \"light\"}, \"paper_bgcolor\": \"white\", \"plot_bgcolor\": \"#E5ECF6\", \"polar\": {\"angularaxis\": {\"gridcolor\": \"white\", \"linecolor\": \"white\", \"ticks\": \"\"}, \"bgcolor\": \"#E5ECF6\", \"radialaxis\": {\"gridcolor\": \"white\", \"linecolor\": \"white\", \"ticks\": \"\"}}, \"scene\": {\"xaxis\": {\"backgroundcolor\": \"#E5ECF6\", \"gridcolor\": \"white\", \"gridwidth\": 2, \"linecolor\": \"white\", \"showbackground\": true, \"ticks\": \"\", \"zerolinecolor\": \"white\"}, \"yaxis\": {\"backgroundcolor\": \"#E5ECF6\", \"gridcolor\": \"white\", \"gridwidth\": 2, \"linecolor\": \"white\", \"showbackground\": true, \"ticks\": \"\", \"zerolinecolor\": \"white\"}, \"zaxis\": {\"backgroundcolor\": \"#E5ECF6\", \"gridcolor\": \"white\", \"gridwidth\": 2, \"linecolor\": \"white\", \"showbackground\": true, \"ticks\": \"\", \"zerolinecolor\": \"white\"}}, \"shapedefaults\": {\"line\": {\"color\": \"#2a3f5f\"}}, \"ternary\": {\"aaxis\": {\"gridcolor\": \"white\", \"linecolor\": \"white\", \"ticks\": \"\"}, \"baxis\": {\"gridcolor\": \"white\", \"linecolor\": \"white\", \"ticks\": \"\"}, \"bgcolor\": \"#E5ECF6\", \"caxis\": {\"gridcolor\": \"white\", \"linecolor\": \"white\", \"ticks\": \"\"}}, \"title\": {\"x\": 0.05}, \"xaxis\": {\"automargin\": true, \"gridcolor\": \"white\", \"linecolor\": \"white\", \"ticks\": \"\", \"title\": {\"standoff\": 15}, \"zerolinecolor\": \"white\", \"zerolinewidth\": 2}, \"yaxis\": {\"automargin\": true, \"gridcolor\": \"white\", \"linecolor\": \"white\", \"ticks\": \"\", \"title\": {\"standoff\": 15}, \"zerolinecolor\": \"white\", \"zerolinewidth\": 2}}}},\n",
       "                        {\"responsive\": true}\n",
       "                    ).then(function(){\n",
       "                            \n",
       "var gd = document.getElementById('ccc8c4c4-9277-4800-8ddd-430635f00bb1');\n",
       "var x = new MutationObserver(function (mutations, observer) {{\n",
       "        var display = window.getComputedStyle(gd).display;\n",
       "        if (!display || display === 'none') {{\n",
       "            console.log([gd, 'removed!']);\n",
       "            Plotly.purge(gd);\n",
       "            observer.disconnect();\n",
       "        }}\n",
       "}});\n",
       "\n",
       "// Listen for the removal of the full notebook cells\n",
       "var notebookContainer = gd.closest('#notebook-container');\n",
       "if (notebookContainer) {{\n",
       "    x.observe(notebookContainer, {childList: true});\n",
       "}}\n",
       "\n",
       "// Listen for the clearing of the current output cell\n",
       "var outputEl = gd.closest('.output');\n",
       "if (outputEl) {{\n",
       "    x.observe(outputEl, {childList: true});\n",
       "}}\n",
       "\n",
       "                        })\n",
       "                };\n",
       "                });\n",
       "            </script>\n",
       "        </div>"
      ]
     },
     "metadata": {},
     "output_type": "display_data"
    }
   ],
   "source": [
    "# 残差の可視化\n",
    "fig = px.choropleth(\n",
    "    df,\n",
    "    locations=\"code3\",\n",
    "    color=\"y-y_hat\",\n",
    "    hover_name=\"country\",\n",
    "    #range_color=[0,102],\n",
    "    #animation_frame='variable',\n",
    "    #projection=\"natural earth\",\n",
    "    color_continuous_scale=list(reversed(px.colors.sequential.RdBu)),\n",
    "                                )\n",
    "plotly.offline.plot(fig, filename=NEW_DIR_PATH + \"y_hatの可視化.html\")\n",
    "fig.show()"
   ]
  },
  {
   "cell_type": "code",
   "execution_count": 214,
   "metadata": {},
   "outputs": [
    {
     "data": {
      "text/html": [
       "<div>\n",
       "<style scoped>\n",
       "    .dataframe tbody tr th:only-of-type {\n",
       "        vertical-align: middle;\n",
       "    }\n",
       "\n",
       "    .dataframe tbody tr th {\n",
       "        vertical-align: top;\n",
       "    }\n",
       "\n",
       "    .dataframe thead th {\n",
       "        text-align: right;\n",
       "    }\n",
       "</style>\n",
       "<table border=\"1\" class=\"dataframe\">\n",
       "  <thead>\n",
       "    <tr style=\"text-align: right;\">\n",
       "      <th></th>\n",
       "      <th>実験名</th>\n",
       "      <th>memo</th>\n",
       "      <th>説明変数</th>\n",
       "      <th>分布1のβ</th>\n",
       "      <th>分布2のβ</th>\n",
       "      <th>混合比率</th>\n",
       "      <th>平均</th>\n",
       "      <th>分散</th>\n",
       "      <th>対数尤度</th>\n",
       "      <th>パラメータ数</th>\n",
       "      <th>AIC</th>\n",
       "      <th>決定係数</th>\n",
       "      <th>RMSE</th>\n",
       "      <th>MAE</th>\n",
       "    </tr>\n",
       "  </thead>\n",
       "  <tbody>\n",
       "    <tr>\n",
       "      <th>0</th>\n",
       "      <td>exp27</td>\n",
       "      <td>distとhf, air交互作用</td>\n",
       "      <td>[dist_hf, pop, urb, gdp, dist_air, detection]</td>\n",
       "      <td>[60.4827, 9.4627, -2.3422, -1.7971, -4.8532, -...</td>\n",
       "      <td>[68.1199, 1.1369, -4.9921, -3.7338, -1.771, 1....</td>\n",
       "      <td>[0.4052, 0.5948]</td>\n",
       "      <td>[60.4827, 68.1199]</td>\n",
       "      <td>[628.6449, 67.3672]</td>\n",
       "      <td>-573.7255</td>\n",
       "      <td>18</td>\n",
       "      <td>1183.451</td>\n",
       "      <td>0.4728</td>\n",
       "      <td>13.1857</td>\n",
       "      <td>9.6245</td>\n",
       "    </tr>\n",
       "  </tbody>\n",
       "</table>\n",
       "</div>"
      ],
      "text/plain": [
       "     実験名              memo                                           説明変数  \\\n",
       "0  exp27  distとhf, air交互作用  [dist_hf, pop, urb, gdp, dist_air, detection]   \n",
       "\n",
       "                                               分布1のβ  \\\n",
       "0  [60.4827, 9.4627, -2.3422, -1.7971, -4.8532, -...   \n",
       "\n",
       "                                               分布2のβ              混合比率  \\\n",
       "0  [68.1199, 1.1369, -4.9921, -3.7338, -1.771, 1....  [0.4052, 0.5948]   \n",
       "\n",
       "                   平均                   分散      対数尤度  パラメータ数       AIC  \\\n",
       "0  [60.4827, 68.1199]  [628.6449, 67.3672] -573.7255      18  1183.451   \n",
       "\n",
       "     決定係数     RMSE     MAE  \n",
       "0  0.4728  13.1857  9.6245  "
      ]
     },
     "execution_count": 214,
     "metadata": {},
     "output_type": "execute_result"
    }
   ],
   "source": [
    "write_df = pd.DataFrame({\n",
    "    \"実験名\":exp_name,\n",
    "    \"memo\":memo,\n",
    "    \"説明変数\":[FEATS],\n",
    "    \"分布1のβ\":[coef_vec[0].round(4)],\n",
    "    \"分布2のβ\":[coef_vec[1].round(4)],\n",
    "    \"混合比率\":[lambda_vec.round(4)],\n",
    "    \"平均\":[np.round(mu_vec, 4)],\n",
    "    \"分散\":[np.round(sigma2_vec, 4)],\n",
    "    \"対数尤度\":log_likelihood.round(4),\n",
    "    \"パラメータ数\":k,\n",
    "    \"AIC\":aic.round(4),\n",
    "    \"決定係数\":r2.round(4),\n",
    "    \"RMSE\":rmse.round(4),\n",
    "    \"MAE\":mae.round(4)\n",
    "})\n",
    "write_df"
   ]
  },
  {
   "cell_type": "code",
   "execution_count": 215,
   "metadata": {},
   "outputs": [],
   "source": [
    "PATH=\"output/2成分混合回帰実験管理.xlsx\"\n",
    "excel_df = pd.read_excel(PATH)\n",
    "excel_df = pd.concat([excel_df, write_df]).reset_index(drop=True)\n",
    "excel_df.to_excel(PATH, sheet_name = \"all\", index=False)\n",
    "\n",
    "#write_df.to_excel(PATH, sheet_name = exp_name)"
   ]
  },
  {
   "cell_type": "code",
   "execution_count": 216,
   "metadata": {},
   "outputs": [
    {
     "data": {
      "text/plain": [
       "'output/exp27/2成分混合回帰モデル_変数選択.ipynb'"
      ]
     },
     "execution_count": 216,
     "metadata": {},
     "output_type": "execute_result"
    }
   ],
   "source": [
    "FILE_NAME = \"2成分混合回帰モデル_変数選択.ipynb\"\n",
    "f\"{NEW_DIR_PATH}{FILE_NAME}\""
   ]
  },
  {
   "cell_type": "code",
   "execution_count": 178,
   "metadata": {},
   "outputs": [],
   "source": [
    "!cp \"2成分混合回帰モデル_変数選択.ipynb\" 'output/exp26/2成分混合回帰モデル_変数選択.ipynb'"
   ]
  },
  {
   "cell_type": "markdown",
   "metadata": {},
   "source": [
    "# t値"
   ]
  },
  {
   "cell_type": "code",
   "execution_count": 45,
   "metadata": {},
   "outputs": [
    {
     "name": "stdout",
     "output_type": "stream",
     "text": [
      "std_err :  [1.59553157 1.7434003  1.41344327 1.79398721 1.90095583 1.47307449\n",
      " 1.66063009]\n"
     ]
    }
   ],
   "source": [
    "sse =  np.sum((y - y_hat) **2, axis=0)\n",
    "sse = sse / (X.shape[0] - X.shape[1] -1 )\n",
    "X_tmp = X-X.mean()\n",
    "ss_ij = np.linalg.inv(X_tmp.T@X_tmp)\n",
    "std_err2 = np.sqrt(np.diagonal(sse * ss_ij))\n",
    "std_err2\n",
    "\n",
    "print(\"std_err : \", std_err2)"
   ]
  },
  {
   "cell_type": "code",
   "execution_count": 46,
   "metadata": {},
   "outputs": [],
   "source": [
    "t_value1 = coef_vec[0]/std_err2\n",
    "t_value2 = coef_vec[1]/std_err2"
   ]
  },
  {
   "cell_type": "markdown",
   "metadata": {},
   "source": [
    "# p値"
   ]
  },
  {
   "cell_type": "code",
   "execution_count": 47,
   "metadata": {},
   "outputs": [
    {
     "data": {
      "text/html": [
       "<div>\n",
       "<style scoped>\n",
       "    .dataframe tbody tr th:only-of-type {\n",
       "        vertical-align: middle;\n",
       "    }\n",
       "\n",
       "    .dataframe tbody tr th {\n",
       "        vertical-align: top;\n",
       "    }\n",
       "\n",
       "    .dataframe thead th {\n",
       "        text-align: right;\n",
       "    }\n",
       "</style>\n",
       "<table border=\"1\" class=\"dataframe\">\n",
       "  <thead>\n",
       "    <tr style=\"text-align: right;\">\n",
       "      <th></th>\n",
       "      <th>0</th>\n",
       "    </tr>\n",
       "  </thead>\n",
       "  <tbody>\n",
       "    <tr>\n",
       "      <th>0</th>\n",
       "      <td>0.000</td>\n",
       "    </tr>\n",
       "    <tr>\n",
       "      <th>1</th>\n",
       "      <td>0.023</td>\n",
       "    </tr>\n",
       "    <tr>\n",
       "      <th>2</th>\n",
       "      <td>0.861</td>\n",
       "    </tr>\n",
       "    <tr>\n",
       "      <th>3</th>\n",
       "      <td>0.954</td>\n",
       "    </tr>\n",
       "    <tr>\n",
       "      <th>4</th>\n",
       "      <td>0.818</td>\n",
       "    </tr>\n",
       "    <tr>\n",
       "      <th>5</th>\n",
       "      <td>0.797</td>\n",
       "    </tr>\n",
       "    <tr>\n",
       "      <th>6</th>\n",
       "      <td>0.088</td>\n",
       "    </tr>\n",
       "  </tbody>\n",
       "</table>\n",
       "</div>"
      ],
      "text/plain": [
       "       0\n",
       "0  0.000\n",
       "1  0.023\n",
       "2  0.861\n",
       "3  0.954\n",
       "4  0.818\n",
       "5  0.797\n",
       "6  0.088"
      ]
     },
     "execution_count": 47,
     "metadata": {},
     "output_type": "execute_result"
    }
   ],
   "source": [
    "from scipy import stats\n",
    "p_values1 =[2*(1-stats.t.cdf(np.abs(i),(len(X)-len(X[0])))) for i in t_value1]\n",
    "pd.DataFrame(np.round(p_values1, 3))"
   ]
  },
  {
   "cell_type": "code",
   "execution_count": 48,
   "metadata": {},
   "outputs": [
    {
     "data": {
      "text/html": [
       "<div>\n",
       "<style scoped>\n",
       "    .dataframe tbody tr th:only-of-type {\n",
       "        vertical-align: middle;\n",
       "    }\n",
       "\n",
       "    .dataframe tbody tr th {\n",
       "        vertical-align: top;\n",
       "    }\n",
       "\n",
       "    .dataframe thead th {\n",
       "        text-align: right;\n",
       "    }\n",
       "</style>\n",
       "<table border=\"1\" class=\"dataframe\">\n",
       "  <thead>\n",
       "    <tr style=\"text-align: right;\">\n",
       "      <th></th>\n",
       "      <th>0</th>\n",
       "    </tr>\n",
       "  </thead>\n",
       "  <tbody>\n",
       "    <tr>\n",
       "      <th>0</th>\n",
       "      <td>0.000</td>\n",
       "    </tr>\n",
       "    <tr>\n",
       "      <th>1</th>\n",
       "      <td>0.773</td>\n",
       "    </tr>\n",
       "    <tr>\n",
       "      <th>2</th>\n",
       "      <td>0.000</td>\n",
       "    </tr>\n",
       "    <tr>\n",
       "      <th>3</th>\n",
       "      <td>0.027</td>\n",
       "    </tr>\n",
       "    <tr>\n",
       "      <th>4</th>\n",
       "      <td>0.183</td>\n",
       "    </tr>\n",
       "    <tr>\n",
       "      <th>5</th>\n",
       "      <td>0.001</td>\n",
       "    </tr>\n",
       "    <tr>\n",
       "      <th>6</th>\n",
       "      <td>0.047</td>\n",
       "    </tr>\n",
       "  </tbody>\n",
       "</table>\n",
       "</div>"
      ],
      "text/plain": [
       "       0\n",
       "0  0.000\n",
       "1  0.773\n",
       "2  0.000\n",
       "3  0.027\n",
       "4  0.183\n",
       "5  0.001\n",
       "6  0.047"
      ]
     },
     "execution_count": 48,
     "metadata": {},
     "output_type": "execute_result"
    }
   ],
   "source": [
    "from scipy import stats\n",
    "p_values2 =[2*(1-stats.t.cdf(np.abs(i),(len(X)-len(X[0])))) for i in t_value2]\n",
    "pd.DataFrame(np.round(p_values2, 3))"
   ]
  },
  {
   "cell_type": "code",
   "execution_count": 49,
   "metadata": {},
   "outputs": [
    {
     "data": {
      "text/html": [
       "<div>\n",
       "<style scoped>\n",
       "    .dataframe tbody tr th:only-of-type {\n",
       "        vertical-align: middle;\n",
       "    }\n",
       "\n",
       "    .dataframe tbody tr th {\n",
       "        vertical-align: top;\n",
       "    }\n",
       "\n",
       "    .dataframe thead th {\n",
       "        text-align: right;\n",
       "    }\n",
       "</style>\n",
       "<table border=\"1\" class=\"dataframe\">\n",
       "  <thead>\n",
       "    <tr style=\"text-align: right;\">\n",
       "      <th></th>\n",
       "      <th>分布1</th>\n",
       "      <th>分布1_p値</th>\n",
       "      <th>分布2</th>\n",
       "      <th>分布2_p値</th>\n",
       "    </tr>\n",
       "  </thead>\n",
       "  <tbody>\n",
       "    <tr>\n",
       "      <th>Intercept</th>\n",
       "      <td>27.8327</td>\n",
       "      <td>0.0000</td>\n",
       "      <td>68.5757</td>\n",
       "      <td>0.0000</td>\n",
       "    </tr>\n",
       "    <tr>\n",
       "      <th>hf</th>\n",
       "      <td>4.0030</td>\n",
       "      <td>0.0231</td>\n",
       "      <td>-0.5039</td>\n",
       "      <td>0.7730</td>\n",
       "    </tr>\n",
       "    <tr>\n",
       "      <th>pop</th>\n",
       "      <td>0.2487</td>\n",
       "      <td>0.8606</td>\n",
       "      <td>-8.5853</td>\n",
       "      <td>0.0000</td>\n",
       "    </tr>\n",
       "    <tr>\n",
       "      <th>urb</th>\n",
       "      <td>-0.1043</td>\n",
       "      <td>0.9537</td>\n",
       "      <td>-4.0200</td>\n",
       "      <td>0.0266</td>\n",
       "    </tr>\n",
       "    <tr>\n",
       "      <th>gdp</th>\n",
       "      <td>-0.4382</td>\n",
       "      <td>0.8180</td>\n",
       "      <td>-2.5414</td>\n",
       "      <td>0.1834</td>\n",
       "    </tr>\n",
       "    <tr>\n",
       "      <th>dist_air</th>\n",
       "      <td>-0.3791</td>\n",
       "      <td>0.7973</td>\n",
       "      <td>5.0269</td>\n",
       "      <td>0.0008</td>\n",
       "    </tr>\n",
       "    <tr>\n",
       "      <th>detection</th>\n",
       "      <td>-2.8492</td>\n",
       "      <td>0.0884</td>\n",
       "      <td>-3.3230</td>\n",
       "      <td>0.0473</td>\n",
       "    </tr>\n",
       "  </tbody>\n",
       "</table>\n",
       "</div>"
      ],
      "text/plain": [
       "               分布1  分布1_p値      分布2  分布2_p値\n",
       "Intercept  27.8327  0.0000  68.5757  0.0000\n",
       "hf          4.0030  0.0231  -0.5039  0.7730\n",
       "pop         0.2487  0.8606  -8.5853  0.0000\n",
       "urb        -0.1043  0.9537  -4.0200  0.0266\n",
       "gdp        -0.4382  0.8180  -2.5414  0.1834\n",
       "dist_air   -0.3791  0.7973   5.0269  0.0008\n",
       "detection  -2.8492  0.0884  -3.3230  0.0473"
      ]
     },
     "execution_count": 49,
     "metadata": {},
     "output_type": "execute_result"
    }
   ],
   "source": [
    "res_df = pd.DataFrame(coef_vec[0].round(4), index=[\"Intercept\"]+FEATS,  columns=[\"分布1\"])\n",
    "res_df[\"分布1_p値\"] =np.round(p_values1, 4)\n",
    "res_df[\"分布2\"] = coef_vec[1].round(4)\n",
    "res_df[\"分布2_p値\"] =np.round(p_values2, 4)\n",
    "res_df"
   ]
  },
  {
   "cell_type": "code",
   "execution_count": 50,
   "metadata": {},
   "outputs": [
    {
     "data": {
      "text/html": [
       "<table class=\"simpletable\">\n",
       "<caption>OLS Regression Results</caption>\n",
       "<tr>\n",
       "  <th>Dep. Variable:</th>       <td>date_first</td>    <th>  R-squared:         </th> <td>   0.208</td>\n",
       "</tr>\n",
       "<tr>\n",
       "  <th>Model:</th>                   <td>OLS</td>       <th>  Adj. R-squared:    </th> <td>  -0.089</td>\n",
       "</tr>\n",
       "<tr>\n",
       "  <th>Method:</th>             <td>Least Squares</td>  <th>  F-statistic:       </th> <td>  0.6991</td>\n",
       "</tr>\n",
       "<tr>\n",
       "  <th>Date:</th>             <td>Wed, 30 Dec 2020</td> <th>  Prob (F-statistic):</th>  <td> 0.654</td> \n",
       "</tr>\n",
       "<tr>\n",
       "  <th>Time:</th>                 <td>22:07:12</td>     <th>  Log-Likelihood:    </th> <td> -67.932</td>\n",
       "</tr>\n",
       "<tr>\n",
       "  <th>No. Observations:</th>      <td>    23</td>      <th>  AIC:               </th> <td>   149.9</td>\n",
       "</tr>\n",
       "<tr>\n",
       "  <th>Df Residuals:</th>          <td>    16</td>      <th>  BIC:               </th> <td>   157.8</td>\n",
       "</tr>\n",
       "<tr>\n",
       "  <th>Df Model:</th>              <td>     6</td>      <th>                     </th>     <td> </td>   \n",
       "</tr>\n",
       "<tr>\n",
       "  <th>Covariance Type:</th>      <td>nonrobust</td>    <th>                     </th>     <td> </td>   \n",
       "</tr>\n",
       "</table>\n",
       "<table class=\"simpletable\">\n",
       "<tr>\n",
       "    <td></td>       <th>coef</th>     <th>std err</th>      <th>t</th>      <th>P>|t|</th>  <th>[0.025</th>    <th>0.975]</th>  \n",
       "</tr>\n",
       "<tr>\n",
       "  <th>const</th> <td>   27.8680</td> <td>    2.544</td> <td>   10.955</td> <td> 0.000</td> <td>   22.475</td> <td>   33.261</td>\n",
       "</tr>\n",
       "<tr>\n",
       "  <th>x1</th>    <td>    4.0682</td> <td>    2.473</td> <td>    1.645</td> <td> 0.119</td> <td>   -1.175</td> <td>    9.311</td>\n",
       "</tr>\n",
       "<tr>\n",
       "  <th>x2</th>    <td>    0.2481</td> <td>    0.557</td> <td>    0.446</td> <td> 0.662</td> <td>   -0.933</td> <td>    1.429</td>\n",
       "</tr>\n",
       "<tr>\n",
       "  <th>x3</th>    <td>   -0.0660</td> <td>    2.643</td> <td>   -0.025</td> <td> 0.980</td> <td>   -5.668</td> <td>    5.536</td>\n",
       "</tr>\n",
       "<tr>\n",
       "  <th>x4</th>    <td>   -0.4790</td> <td>    2.621</td> <td>   -0.183</td> <td> 0.857</td> <td>   -6.035</td> <td>    5.077</td>\n",
       "</tr>\n",
       "<tr>\n",
       "  <th>x5</th>    <td>   -0.3784</td> <td>    0.603</td> <td>   -0.628</td> <td> 0.539</td> <td>   -1.656</td> <td>    0.899</td>\n",
       "</tr>\n",
       "<tr>\n",
       "  <th>x6</th>    <td>   -2.8977</td> <td>    2.140</td> <td>   -1.354</td> <td> 0.195</td> <td>   -7.435</td> <td>    1.640</td>\n",
       "</tr>\n",
       "</table>\n",
       "<table class=\"simpletable\">\n",
       "<tr>\n",
       "  <th>Omnibus:</th>       <td> 9.170</td> <th>  Durbin-Watson:     </th> <td>   2.769</td>\n",
       "</tr>\n",
       "<tr>\n",
       "  <th>Prob(Omnibus):</th> <td> 0.010</td> <th>  Jarque-Bera (JB):  </th> <td>   6.896</td>\n",
       "</tr>\n",
       "<tr>\n",
       "  <th>Skew:</th>          <td>-1.171</td> <th>  Prob(JB):          </th> <td>  0.0318</td>\n",
       "</tr>\n",
       "<tr>\n",
       "  <th>Kurtosis:</th>      <td> 4.308</td> <th>  Cond. No.          </th> <td>    10.6</td>\n",
       "</tr>\n",
       "</table><br/><br/>Warnings:<br/>[1] Standard Errors assume that the covariance matrix of the errors is correctly specified."
      ],
      "text/plain": [
       "<class 'statsmodels.iolib.summary.Summary'>\n",
       "\"\"\"\n",
       "                            OLS Regression Results                            \n",
       "==============================================================================\n",
       "Dep. Variable:             date_first   R-squared:                       0.208\n",
       "Model:                            OLS   Adj. R-squared:                 -0.089\n",
       "Method:                 Least Squares   F-statistic:                    0.6991\n",
       "Date:                Wed, 30 Dec 2020   Prob (F-statistic):              0.654\n",
       "Time:                        22:07:12   Log-Likelihood:                -67.932\n",
       "No. Observations:                  23   AIC:                             149.9\n",
       "Df Residuals:                      16   BIC:                             157.8\n",
       "Df Model:                           6                                         \n",
       "Covariance Type:            nonrobust                                         \n",
       "==============================================================================\n",
       "                 coef    std err          t      P>|t|      [0.025      0.975]\n",
       "------------------------------------------------------------------------------\n",
       "const         27.8680      2.544     10.955      0.000      22.475      33.261\n",
       "x1             4.0682      2.473      1.645      0.119      -1.175       9.311\n",
       "x2             0.2481      0.557      0.446      0.662      -0.933       1.429\n",
       "x3            -0.0660      2.643     -0.025      0.980      -5.668       5.536\n",
       "x4            -0.4790      2.621     -0.183      0.857      -6.035       5.077\n",
       "x5            -0.3784      0.603     -0.628      0.539      -1.656       0.899\n",
       "x6            -2.8977      2.140     -1.354      0.195      -7.435       1.640\n",
       "==============================================================================\n",
       "Omnibus:                        9.170   Durbin-Watson:                   2.769\n",
       "Prob(Omnibus):                  0.010   Jarque-Bera (JB):                6.896\n",
       "Skew:                          -1.171   Prob(JB):                       0.0318\n",
       "Kurtosis:                       4.308   Cond. No.                         10.6\n",
       "==============================================================================\n",
       "\n",
       "Warnings:\n",
       "[1] Standard Errors assume that the covariance matrix of the errors is correctly specified.\n",
       "\"\"\""
      ]
     },
     "execution_count": 50,
     "metadata": {},
     "output_type": "execute_result"
    }
   ],
   "source": [
    "import statsmodels.api as sm\n",
    "  \n",
    "model_early = sm.OLS(y_early, sm.add_constant(x_early))\n",
    "result_early = model_early.fit()\n",
    "result_early.summary() "
   ]
  },
  {
   "cell_type": "code",
   "execution_count": 91,
   "metadata": {},
   "outputs": [
    {
     "data": {
      "text/html": [
       "<table class=\"simpletable\">\n",
       "<caption>OLS Regression Results</caption>\n",
       "<tr>\n",
       "  <th>Dep. Variable:</th>       <td>date_first</td>    <th>  R-squared:         </th> <td>   0.493</td>\n",
       "</tr>\n",
       "<tr>\n",
       "  <th>Model:</th>                   <td>OLS</td>       <th>  Adj. R-squared:    </th> <td>   0.471</td>\n",
       "</tr>\n",
       "<tr>\n",
       "  <th>Method:</th>             <td>Least Squares</td>  <th>  F-statistic:       </th> <td>   23.30</td>\n",
       "</tr>\n",
       "<tr>\n",
       "  <th>Date:</th>             <td>Mon, 07 Dec 2020</td> <th>  Prob (F-statistic):</th> <td>2.69e-16</td>\n",
       "</tr>\n",
       "<tr>\n",
       "  <th>Time:</th>                 <td>18:32:51</td>     <th>  Log-Likelihood:    </th> <td> -426.99</td>\n",
       "</tr>\n",
       "<tr>\n",
       "  <th>No. Observations:</th>      <td>   126</td>      <th>  AIC:               </th> <td>   866.0</td>\n",
       "</tr>\n",
       "<tr>\n",
       "  <th>Df Residuals:</th>          <td>   120</td>      <th>  BIC:               </th> <td>   883.0</td>\n",
       "</tr>\n",
       "<tr>\n",
       "  <th>Df Model:</th>              <td>     5</td>      <th>                     </th>     <td> </td>   \n",
       "</tr>\n",
       "<tr>\n",
       "  <th>Covariance Type:</th>      <td>nonrobust</td>    <th>                     </th>     <td> </td>   \n",
       "</tr>\n",
       "</table>\n",
       "<table class=\"simpletable\">\n",
       "<tr>\n",
       "    <td></td>       <th>coef</th>     <th>std err</th>      <th>t</th>      <th>P>|t|</th>  <th>[0.025</th>    <th>0.975]</th>  \n",
       "</tr>\n",
       "<tr>\n",
       "  <th>const</th> <td>   68.9275</td> <td>    0.751</td> <td>   91.785</td> <td> 0.000</td> <td>   67.441</td> <td>   70.414</td>\n",
       "</tr>\n",
       "<tr>\n",
       "  <th>x1</th>    <td>   -8.9373</td> <td>    2.156</td> <td>   -4.145</td> <td> 0.000</td> <td>  -13.206</td> <td>   -4.668</td>\n",
       "</tr>\n",
       "<tr>\n",
       "  <th>x2</th>    <td>   -4.0466</td> <td>    0.865</td> <td>   -4.679</td> <td> 0.000</td> <td>   -5.759</td> <td>   -2.334</td>\n",
       "</tr>\n",
       "<tr>\n",
       "  <th>x3</th>    <td>   -2.9779</td> <td>    0.948</td> <td>   -3.141</td> <td> 0.002</td> <td>   -4.855</td> <td>   -1.101</td>\n",
       "</tr>\n",
       "<tr>\n",
       "  <th>x4</th>    <td>    4.9255</td> <td>    2.745</td> <td>    1.794</td> <td> 0.075</td> <td>   -0.509</td> <td>   10.360</td>\n",
       "</tr>\n",
       "<tr>\n",
       "  <th>x5</th>    <td>   -3.2410</td> <td>    0.766</td> <td>   -4.234</td> <td> 0.000</td> <td>   -4.757</td> <td>   -1.725</td>\n",
       "</tr>\n",
       "</table>\n",
       "<table class=\"simpletable\">\n",
       "<tr>\n",
       "  <th>Omnibus:</th>       <td> 2.590</td> <th>  Durbin-Watson:     </th> <td>   2.105</td>\n",
       "</tr>\n",
       "<tr>\n",
       "  <th>Prob(Omnibus):</th> <td> 0.274</td> <th>  Jarque-Bera (JB):  </th> <td>   2.348</td>\n",
       "</tr>\n",
       "<tr>\n",
       "  <th>Skew:</th>          <td> 0.112</td> <th>  Prob(JB):          </th> <td>   0.309</td>\n",
       "</tr>\n",
       "<tr>\n",
       "  <th>Kurtosis:</th>      <td> 3.630</td> <th>  Cond. No.          </th> <td>    6.21</td>\n",
       "</tr>\n",
       "</table><br/><br/>Warnings:<br/>[1] Standard Errors assume that the covariance matrix of the errors is correctly specified."
      ],
      "text/plain": [
       "<class 'statsmodels.iolib.summary.Summary'>\n",
       "\"\"\"\n",
       "                            OLS Regression Results                            \n",
       "==============================================================================\n",
       "Dep. Variable:             date_first   R-squared:                       0.493\n",
       "Model:                            OLS   Adj. R-squared:                  0.471\n",
       "Method:                 Least Squares   F-statistic:                     23.30\n",
       "Date:                Mon, 07 Dec 2020   Prob (F-statistic):           2.69e-16\n",
       "Time:                        18:32:51   Log-Likelihood:                -426.99\n",
       "No. Observations:                 126   AIC:                             866.0\n",
       "Df Residuals:                     120   BIC:                             883.0\n",
       "Df Model:                           5                                         \n",
       "Covariance Type:            nonrobust                                         \n",
       "==============================================================================\n",
       "                 coef    std err          t      P>|t|      [0.025      0.975]\n",
       "------------------------------------------------------------------------------\n",
       "const         68.9275      0.751     91.785      0.000      67.441      70.414\n",
       "x1            -8.9373      2.156     -4.145      0.000     -13.206      -4.668\n",
       "x2            -4.0466      0.865     -4.679      0.000      -5.759      -2.334\n",
       "x3            -2.9779      0.948     -3.141      0.002      -4.855      -1.101\n",
       "x4             4.9255      2.745      1.794      0.075      -0.509      10.360\n",
       "x5            -3.2410      0.766     -4.234      0.000      -4.757      -1.725\n",
       "==============================================================================\n",
       "Omnibus:                        2.590   Durbin-Watson:                   2.105\n",
       "Prob(Omnibus):                  0.274   Jarque-Bera (JB):                2.348\n",
       "Skew:                           0.112   Prob(JB):                        0.309\n",
       "Kurtosis:                       3.630   Cond. No.                         6.21\n",
       "==============================================================================\n",
       "\n",
       "Warnings:\n",
       "[1] Standard Errors assume that the covariance matrix of the errors is correctly specified.\n",
       "\"\"\""
      ]
     },
     "execution_count": 91,
     "metadata": {},
     "output_type": "execute_result"
    }
   ],
   "source": [
    "import statsmodels.api as sm\n",
    "  \n",
    "model_late = sm.OLS(y_late, sm.add_constant(x_late))\n",
    "result_late = model_late.fit()\n",
    "result_late.summary() "
   ]
  },
  {
   "cell_type": "code",
   "execution_count": null,
   "metadata": {},
   "outputs": [],
   "source": []
  },
  {
   "cell_type": "markdown",
   "metadata": {},
   "source": [
    "### ✅hf, pop, urb, gdp, air, detection, dist_itary"
   ]
  },
  {
   "cell_type": "code",
   "execution_count": 69,
   "metadata": {},
   "outputs": [
    {
     "data": {
      "text/html": [
       "<div>\n",
       "<style scoped>\n",
       "    .dataframe tbody tr th:only-of-type {\n",
       "        vertical-align: middle;\n",
       "    }\n",
       "\n",
       "    .dataframe tbody tr th {\n",
       "        vertical-align: top;\n",
       "    }\n",
       "\n",
       "    .dataframe thead th {\n",
       "        text-align: right;\n",
       "    }\n",
       "</style>\n",
       "<table border=\"1\" class=\"dataframe\">\n",
       "  <thead>\n",
       "    <tr style=\"text-align: right;\">\n",
       "      <th></th>\n",
       "      <th>分布1</th>\n",
       "      <th>分布2</th>\n",
       "    </tr>\n",
       "  </thead>\n",
       "  <tbody>\n",
       "    <tr>\n",
       "      <th>Intercept</th>\n",
       "      <td>27.8169</td>\n",
       "      <td>68.9503</td>\n",
       "    </tr>\n",
       "    <tr>\n",
       "      <th>hf</th>\n",
       "      <td>2.1937</td>\n",
       "      <td>-0.9721</td>\n",
       "    </tr>\n",
       "    <tr>\n",
       "      <th>pop</th>\n",
       "      <td>0.3344</td>\n",
       "      <td>-9.8995</td>\n",
       "    </tr>\n",
       "    <tr>\n",
       "      <th>urb</th>\n",
       "      <td>-1.0413</td>\n",
       "      <td>-4.3070</td>\n",
       "    </tr>\n",
       "    <tr>\n",
       "      <th>gdp</th>\n",
       "      <td>0.4835</td>\n",
       "      <td>-1.9898</td>\n",
       "    </tr>\n",
       "    <tr>\n",
       "      <th>air</th>\n",
       "      <td>-0.6551</td>\n",
       "      <td>4.4905</td>\n",
       "    </tr>\n",
       "    <tr>\n",
       "      <th>detection</th>\n",
       "      <td>-1.0642</td>\n",
       "      <td>-2.5043</td>\n",
       "    </tr>\n",
       "    <tr>\n",
       "      <th>dist_italy</th>\n",
       "      <td>-2.3026</td>\n",
       "      <td>2.5252</td>\n",
       "    </tr>\n",
       "  </tbody>\n",
       "</table>\n",
       "</div>"
      ],
      "text/plain": [
       "                分布1      分布2\n",
       "Intercept   27.8169  68.9503\n",
       "hf           2.1937  -0.9721\n",
       "pop          0.3344  -9.8995\n",
       "urb         -1.0413  -4.3070\n",
       "gdp          0.4835  -1.9898\n",
       "air         -0.6551   4.4905\n",
       "detection   -1.0642  -2.5043\n",
       "dist_italy  -2.3026   2.5252"
      ]
     },
     "execution_count": 69,
     "metadata": {},
     "output_type": "execute_result"
    }
   ],
   "source": [
    "res_df"
   ]
  },
  {
   "cell_type": "code",
   "execution_count": 111,
   "metadata": {},
   "outputs": [
    {
     "name": "stdout",
     "output_type": "stream",
     "text": [
      "AIC 1169.1093682602955\n"
     ]
    }
   ],
   "source": [
    "k=len(coef_vec[0])+2 + len(coef_vec[1])+2\n",
    "aic = -2*(log_likelihood)+ 2 *(k)\n",
    "print(\"AIC\", aic)"
   ]
  },
  {
   "cell_type": "code",
   "execution_count": 72,
   "metadata": {},
   "outputs": [
    {
     "name": "stderr",
     "output_type": "stream",
     "text": [
      "/Users/masanoritakahashi/anaconda3/lib/python3.7/site-packages/ipykernel_launcher.py:2: DeprecationWarning: scipy.zeros_like is deprecated and will be removed in SciPy 2.0.0, use numpy.zeros_like instead\n",
      "  \n",
      "/Users/masanoritakahashi/anaconda3/lib/python3.7/site-packages/ipykernel_launcher.py:4: DeprecationWarning: scipy.arange is deprecated and will be removed in SciPy 2.0.0, use numpy.arange instead\n",
      "  after removing the cwd from sys.path.\n",
      "/Users/masanoritakahashi/anaconda3/lib/python3.7/site-packages/ipykernel_launcher.py:5: DeprecationWarning: scipy.sqrt is deprecated and will be removed in SciPy 2.0.0, use numpy.lib.scimath.sqrt instead\n",
      "  \"\"\"\n"
     ]
    },
    {
     "data": {
      "text/plain": [
       "[<matplotlib.lines.Line2D at 0x7fdf26791f98>]"
      ]
     },
     "execution_count": 72,
     "metadata": {},
     "output_type": "execute_result"
    },
    {
     "data": {
      "image/png": "[encoded data removed]",
      "text/plain": [
       "<Figure size 432x288 with 1 Axes>"
      ]
     },
     "metadata": {
      "needs_background": "light"
     },
     "output_type": "display_data"
    }
   ],
   "source": [
    "plt.hist(y, density=True)\n",
    "plt.plot(x, calc_mix_pdf(k_size, x, lambda_vec, coef_vec, sigma2_vec), label=\"ini\")"
   ]
  },
  {
   "cell_type": "markdown",
   "metadata": {},
   "source": [
    "### ✅hf, pop, urb, gdp, air, dist"
   ]
  },
  {
   "cell_type": "code",
   "execution_count": 159,
   "metadata": {},
   "outputs": [
    {
     "data": {
      "text/html": [
       "<div>\n",
       "<style scoped>\n",
       "    .dataframe tbody tr th:only-of-type {\n",
       "        vertical-align: middle;\n",
       "    }\n",
       "\n",
       "    .dataframe tbody tr th {\n",
       "        vertical-align: top;\n",
       "    }\n",
       "\n",
       "    .dataframe thead th {\n",
       "        text-align: right;\n",
       "    }\n",
       "</style>\n",
       "<table border=\"1\" class=\"dataframe\">\n",
       "  <thead>\n",
       "    <tr style=\"text-align: right;\">\n",
       "      <th></th>\n",
       "      <th>早期感染国</th>\n",
       "      <th>晩期感染国</th>\n",
       "    </tr>\n",
       "  </thead>\n",
       "  <tbody>\n",
       "    <tr>\n",
       "      <th>Intercept</th>\n",
       "      <td>60.2320</td>\n",
       "      <td>68.3693</td>\n",
       "    </tr>\n",
       "    <tr>\n",
       "      <th>hf</th>\n",
       "      <td>-6.7426</td>\n",
       "      <td>-1.8981</td>\n",
       "    </tr>\n",
       "    <tr>\n",
       "      <th>pop</th>\n",
       "      <td>-1.7336</td>\n",
       "      <td>-7.4032</td>\n",
       "    </tr>\n",
       "    <tr>\n",
       "      <th>urb</th>\n",
       "      <td>-4.9434</td>\n",
       "      <td>-4.0617</td>\n",
       "    </tr>\n",
       "    <tr>\n",
       "      <th>gdp</th>\n",
       "      <td>-0.5626</td>\n",
       "      <td>-1.3212</td>\n",
       "    </tr>\n",
       "    <tr>\n",
       "      <th>air</th>\n",
       "      <td>-3.4071</td>\n",
       "      <td>2.0536</td>\n",
       "    </tr>\n",
       "    <tr>\n",
       "      <th>dist</th>\n",
       "      <td>13.1993</td>\n",
       "      <td>1.7964</td>\n",
       "    </tr>\n",
       "  </tbody>\n",
       "</table>\n",
       "</div>"
      ],
      "text/plain": [
       "             早期感染国    晩期感染国\n",
       "Intercept  60.2320  68.3693\n",
       "hf         -6.7426  -1.8981\n",
       "pop        -1.7336  -7.4032\n",
       "urb        -4.9434  -4.0617\n",
       "gdp        -0.5626  -1.3212\n",
       "air        -3.4071   2.0536\n",
       "dist       13.1993   1.7964"
      ]
     },
     "execution_count": 159,
     "metadata": {},
     "output_type": "execute_result"
    }
   ],
   "source": [
    "res_df"
   ]
  },
  {
   "cell_type": "code",
   "execution_count": 160,
   "metadata": {},
   "outputs": [
    {
     "data": {
      "text/html": [
       "<div>\n",
       "<style scoped>\n",
       "    .dataframe tbody tr th:only-of-type {\n",
       "        vertical-align: middle;\n",
       "    }\n",
       "\n",
       "    .dataframe tbody tr th {\n",
       "        vertical-align: top;\n",
       "    }\n",
       "\n",
       "    .dataframe thead th {\n",
       "        text-align: right;\n",
       "    }\n",
       "</style>\n",
       "<table border=\"1\" class=\"dataframe\">\n",
       "  <thead>\n",
       "    <tr style=\"text-align: right;\">\n",
       "      <th></th>\n",
       "      <th>早期感染国β(初期値)</th>\n",
       "      <th>晩期感染国β(初期値)</th>\n",
       "    </tr>\n",
       "  </thead>\n",
       "  <tbody>\n",
       "    <tr>\n",
       "      <th>Intercept</th>\n",
       "      <td>34.144527</td>\n",
       "      <td>68.705715</td>\n",
       "    </tr>\n",
       "    <tr>\n",
       "      <th>hf</th>\n",
       "      <td>-0.574947</td>\n",
       "      <td>-2.193724</td>\n",
       "    </tr>\n",
       "    <tr>\n",
       "      <th>pop</th>\n",
       "      <td>0.704297</td>\n",
       "      <td>-9.775305</td>\n",
       "    </tr>\n",
       "    <tr>\n",
       "      <th>urb</th>\n",
       "      <td>-1.465996</td>\n",
       "      <td>-4.893013</td>\n",
       "    </tr>\n",
       "    <tr>\n",
       "      <th>gdp</th>\n",
       "      <td>0.742538</td>\n",
       "      <td>-1.552997</td>\n",
       "    </tr>\n",
       "    <tr>\n",
       "      <th>air</th>\n",
       "      <td>-1.592736</td>\n",
       "      <td>3.112941</td>\n",
       "    </tr>\n",
       "    <tr>\n",
       "      <th>dist</th>\n",
       "      <td>7.020140</td>\n",
       "      <td>2.045302</td>\n",
       "    </tr>\n",
       "  </tbody>\n",
       "</table>\n",
       "</div>"
      ],
      "text/plain": [
       "           早期感染国β(初期値)  晩期感染国β(初期値)\n",
       "Intercept    34.144527    68.705715\n",
       "hf           -0.574947    -2.193724\n",
       "pop           0.704297    -9.775305\n",
       "urb          -1.465996    -4.893013\n",
       "gdp           0.742538    -1.552997\n",
       "air          -1.592736     3.112941\n",
       "dist          7.020140     2.045302"
      ]
     },
     "execution_count": 160,
     "metadata": {},
     "output_type": "execute_result"
    }
   ],
   "source": [
    "first_df"
   ]
  },
  {
   "cell_type": "code",
   "execution_count": 161,
   "metadata": {},
   "outputs": [
    {
     "name": "stderr",
     "output_type": "stream",
     "text": [
      "/Users/masanoritakahashi/anaconda3/lib/python3.7/site-packages/ipykernel_launcher.py:2: DeprecationWarning: scipy.zeros_like is deprecated and will be removed in SciPy 2.0.0, use numpy.zeros_like instead\n",
      "  \n",
      "/Users/masanoritakahashi/anaconda3/lib/python3.7/site-packages/ipykernel_launcher.py:4: DeprecationWarning: scipy.arange is deprecated and will be removed in SciPy 2.0.0, use numpy.arange instead\n",
      "  after removing the cwd from sys.path.\n",
      "/Users/masanoritakahashi/anaconda3/lib/python3.7/site-packages/ipykernel_launcher.py:5: DeprecationWarning: scipy.sqrt is deprecated and will be removed in SciPy 2.0.0, use numpy.lib.scimath.sqrt instead\n",
      "  \"\"\"\n"
     ]
    },
    {
     "data": {
      "text/plain": [
       "[<matplotlib.lines.Line2D at 0x7faef12d6198>]"
      ]
     },
     "execution_count": 161,
     "metadata": {},
     "output_type": "execute_result"
    },
    {
     "data": {
      "image/png": "[encoded data removed]",
      "text/plain": [
       "<Figure size 432x288 with 1 Axes>"
      ]
     },
     "metadata": {
      "needs_background": "light"
     },
     "output_type": "display_data"
    }
   ],
   "source": [
    "plt.hist(y, density=True)\n",
    "plt.plot(x, calc_mix_pdf(k_size, x, lambda_vec, coef_vec, sigma2_vec), label=\"ini\")"
   ]
  },
  {
   "cell_type": "markdown",
   "metadata": {},
   "source": [
    "### ✅hf, pop, urb, gdp, air, detection"
   ]
  },
  {
   "cell_type": "code",
   "execution_count": 200,
   "metadata": {},
   "outputs": [
    {
     "data": {
      "text/html": [
       "<div>\n",
       "<style scoped>\n",
       "    .dataframe tbody tr th:only-of-type {\n",
       "        vertical-align: middle;\n",
       "    }\n",
       "\n",
       "    .dataframe tbody tr th {\n",
       "        vertical-align: top;\n",
       "    }\n",
       "\n",
       "    .dataframe thead th {\n",
       "        text-align: right;\n",
       "    }\n",
       "</style>\n",
       "<table border=\"1\" class=\"dataframe\">\n",
       "  <thead>\n",
       "    <tr style=\"text-align: right;\">\n",
       "      <th></th>\n",
       "      <th>早期感染国</th>\n",
       "      <th>晩期感染国</th>\n",
       "    </tr>\n",
       "  </thead>\n",
       "  <tbody>\n",
       "    <tr>\n",
       "      <th>Intercept</th>\n",
       "      <td>27.6720</td>\n",
       "      <td>68.8998</td>\n",
       "    </tr>\n",
       "    <tr>\n",
       "      <th>hf</th>\n",
       "      <td>3.7881</td>\n",
       "      <td>-0.6450</td>\n",
       "    </tr>\n",
       "    <tr>\n",
       "      <th>pop</th>\n",
       "      <td>0.3898</td>\n",
       "      <td>-9.3063</td>\n",
       "    </tr>\n",
       "    <tr>\n",
       "      <th>urb</th>\n",
       "      <td>-0.2511</td>\n",
       "      <td>-4.0103</td>\n",
       "    </tr>\n",
       "    <tr>\n",
       "      <th>gdp</th>\n",
       "      <td>-0.1208</td>\n",
       "      <td>-2.8115</td>\n",
       "    </tr>\n",
       "    <tr>\n",
       "      <th>air</th>\n",
       "      <td>-0.6565</td>\n",
       "      <td>4.9016</td>\n",
       "    </tr>\n",
       "    <tr>\n",
       "      <th>detection</th>\n",
       "      <td>-2.4609</td>\n",
       "      <td>-2.9686</td>\n",
       "    </tr>\n",
       "  </tbody>\n",
       "</table>\n",
       "</div>"
      ],
      "text/plain": [
       "             早期感染国    晩期感染国\n",
       "Intercept  27.6720  68.8998\n",
       "hf          3.7881  -0.6450\n",
       "pop         0.3898  -9.3063\n",
       "urb        -0.2511  -4.0103\n",
       "gdp        -0.1208  -2.8115\n",
       "air        -0.6565   4.9016\n",
       "detection  -2.4609  -2.9686"
      ]
     },
     "execution_count": 200,
     "metadata": {},
     "output_type": "execute_result"
    }
   ],
   "source": [
    "res_df"
   ]
  },
  {
   "cell_type": "code",
   "execution_count": 201,
   "metadata": {},
   "outputs": [
    {
     "data": {
      "text/html": [
       "<div>\n",
       "<style scoped>\n",
       "    .dataframe tbody tr th:only-of-type {\n",
       "        vertical-align: middle;\n",
       "    }\n",
       "\n",
       "    .dataframe tbody tr th {\n",
       "        vertical-align: top;\n",
       "    }\n",
       "\n",
       "    .dataframe thead th {\n",
       "        text-align: right;\n",
       "    }\n",
       "</style>\n",
       "<table border=\"1\" class=\"dataframe\">\n",
       "  <thead>\n",
       "    <tr style=\"text-align: right;\">\n",
       "      <th></th>\n",
       "      <th>早期感染国β(初期値)</th>\n",
       "      <th>晩期感染国β(初期値)</th>\n",
       "    </tr>\n",
       "  </thead>\n",
       "  <tbody>\n",
       "    <tr>\n",
       "      <th>Intercept</th>\n",
       "      <td>27.706694</td>\n",
       "      <td>68.924369</td>\n",
       "    </tr>\n",
       "    <tr>\n",
       "      <th>hf</th>\n",
       "      <td>3.847780</td>\n",
       "      <td>-0.651066</td>\n",
       "    </tr>\n",
       "    <tr>\n",
       "      <th>pop</th>\n",
       "      <td>0.389038</td>\n",
       "      <td>-9.473606</td>\n",
       "    </tr>\n",
       "    <tr>\n",
       "      <th>urb</th>\n",
       "      <td>-0.212951</td>\n",
       "      <td>-3.997060</td>\n",
       "    </tr>\n",
       "    <tr>\n",
       "      <th>gdp</th>\n",
       "      <td>-0.160500</td>\n",
       "      <td>-2.824348</td>\n",
       "    </tr>\n",
       "    <tr>\n",
       "      <th>air</th>\n",
       "      <td>-0.655912</td>\n",
       "      <td>5.035802</td>\n",
       "    </tr>\n",
       "    <tr>\n",
       "      <th>detection</th>\n",
       "      <td>-2.507140</td>\n",
       "      <td>-2.943951</td>\n",
       "    </tr>\n",
       "  </tbody>\n",
       "</table>\n",
       "</div>"
      ],
      "text/plain": [
       "           早期感染国β(初期値)  晩期感染国β(初期値)\n",
       "Intercept    27.706694    68.924369\n",
       "hf            3.847780    -0.651066\n",
       "pop           0.389038    -9.473606\n",
       "urb          -0.212951    -3.997060\n",
       "gdp          -0.160500    -2.824348\n",
       "air          -0.655912     5.035802\n",
       "detection    -2.507140    -2.943951"
      ]
     },
     "execution_count": 201,
     "metadata": {},
     "output_type": "execute_result"
    }
   ],
   "source": [
    "first_df"
   ]
  },
  {
   "cell_type": "code",
   "execution_count": 133,
   "metadata": {},
   "outputs": [
    {
     "name": "stderr",
     "output_type": "stream",
     "text": [
      "/Users/masanoritakahashi/anaconda3/lib/python3.7/site-packages/ipykernel_launcher.py:2: DeprecationWarning: scipy.zeros_like is deprecated and will be removed in SciPy 2.0.0, use numpy.zeros_like instead\n",
      "  \n",
      "/Users/masanoritakahashi/anaconda3/lib/python3.7/site-packages/ipykernel_launcher.py:4: DeprecationWarning: scipy.arange is deprecated and will be removed in SciPy 2.0.0, use numpy.arange instead\n",
      "  after removing the cwd from sys.path.\n",
      "/Users/masanoritakahashi/anaconda3/lib/python3.7/site-packages/ipykernel_launcher.py:5: DeprecationWarning: scipy.sqrt is deprecated and will be removed in SciPy 2.0.0, use numpy.lib.scimath.sqrt instead\n",
      "  \"\"\"\n"
     ]
    },
    {
     "data": {
      "text/plain": [
       "Text(0.5, 1.0, '推定された分布')"
      ]
     },
     "execution_count": 133,
     "metadata": {},
     "output_type": "execute_result"
    },
    {
     "data": {
      "image/png": "[encoded data removed]",
      "text/plain": [
       "<Figure size 432x288 with 1 Axes>"
      ]
     },
     "metadata": {
      "needs_background": "light"
     },
     "output_type": "display_data"
    }
   ],
   "source": [
    "plt.hist(y, density=True)\n",
    "plt.plot(x, calc_mix_pdf(k_size, x, lambda_vec, coef_vec, sigma2_vec), label=\"ini\")\n",
    "plt.title(\"推定された分布\")"
   ]
  },
  {
   "cell_type": "markdown",
   "metadata": {},
   "source": [
    "### ✅hf, pop, urb, gdp, air"
   ]
  },
  {
   "cell_type": "code",
   "execution_count": 134,
   "metadata": {},
   "outputs": [
    {
     "data": {
      "text/html": [
       "<div>\n",
       "<style scoped>\n",
       "    .dataframe tbody tr th:only-of-type {\n",
       "        vertical-align: middle;\n",
       "    }\n",
       "\n",
       "    .dataframe tbody tr th {\n",
       "        vertical-align: top;\n",
       "    }\n",
       "\n",
       "    .dataframe thead th {\n",
       "        text-align: right;\n",
       "    }\n",
       "</style>\n",
       "<table border=\"1\" class=\"dataframe\">\n",
       "  <thead>\n",
       "    <tr style=\"text-align: right;\">\n",
       "      <th></th>\n",
       "      <th>早期感染国</th>\n",
       "      <th>晩期感染国</th>\n",
       "    </tr>\n",
       "  </thead>\n",
       "  <tbody>\n",
       "    <tr>\n",
       "      <th>Intercept</th>\n",
       "      <td>25.9985</td>\n",
       "      <td>68.8723</td>\n",
       "    </tr>\n",
       "    <tr>\n",
       "      <th>hf</th>\n",
       "      <td>2.2768</td>\n",
       "      <td>-1.9647</td>\n",
       "    </tr>\n",
       "    <tr>\n",
       "      <th>pop</th>\n",
       "      <td>0.5155</td>\n",
       "      <td>-10.5575</td>\n",
       "    </tr>\n",
       "    <tr>\n",
       "      <th>urb</th>\n",
       "      <td>-1.3567</td>\n",
       "      <td>-4.0571</td>\n",
       "    </tr>\n",
       "    <tr>\n",
       "      <th>gdp</th>\n",
       "      <td>1.1242</td>\n",
       "      <td>-2.8229</td>\n",
       "    </tr>\n",
       "    <tr>\n",
       "      <th>air</th>\n",
       "      <td>-0.9666</td>\n",
       "      <td>3.5627</td>\n",
       "    </tr>\n",
       "  </tbody>\n",
       "</table>\n",
       "</div>"
      ],
      "text/plain": [
       "             早期感染国    晩期感染国\n",
       "Intercept  25.9985  68.8723\n",
       "hf          2.2768  -1.9647\n",
       "pop         0.5155 -10.5575\n",
       "urb        -1.3567  -4.0571\n",
       "gdp         1.1242  -2.8229\n",
       "air        -0.9666   3.5627"
      ]
     },
     "execution_count": 134,
     "metadata": {},
     "output_type": "execute_result"
    }
   ],
   "source": [
    "res_df"
   ]
  },
  {
   "cell_type": "code",
   "execution_count": 135,
   "metadata": {},
   "outputs": [
    {
     "data": {
      "text/html": [
       "<div>\n",
       "<style scoped>\n",
       "    .dataframe tbody tr th:only-of-type {\n",
       "        vertical-align: middle;\n",
       "    }\n",
       "\n",
       "    .dataframe tbody tr th {\n",
       "        vertical-align: top;\n",
       "    }\n",
       "\n",
       "    .dataframe thead th {\n",
       "        text-align: right;\n",
       "    }\n",
       "</style>\n",
       "<table border=\"1\" class=\"dataframe\">\n",
       "  <thead>\n",
       "    <tr style=\"text-align: right;\">\n",
       "      <th></th>\n",
       "      <th>早期感染国β(初期値)</th>\n",
       "      <th>晩期感染国β(初期値)</th>\n",
       "    </tr>\n",
       "  </thead>\n",
       "  <tbody>\n",
       "    <tr>\n",
       "      <th>Intercept</th>\n",
       "      <td>26.053547</td>\n",
       "      <td>68.907071</td>\n",
       "    </tr>\n",
       "    <tr>\n",
       "      <th>hf</th>\n",
       "      <td>2.282413</td>\n",
       "      <td>-1.960874</td>\n",
       "    </tr>\n",
       "    <tr>\n",
       "      <th>pop</th>\n",
       "      <td>0.516722</td>\n",
       "      <td>-10.823974</td>\n",
       "    </tr>\n",
       "    <tr>\n",
       "      <th>urb</th>\n",
       "      <td>-1.277986</td>\n",
       "      <td>-4.032543</td>\n",
       "    </tr>\n",
       "    <tr>\n",
       "      <th>gdp</th>\n",
       "      <td>1.067690</td>\n",
       "      <td>-2.843152</td>\n",
       "    </tr>\n",
       "    <tr>\n",
       "      <th>air</th>\n",
       "      <td>-0.975720</td>\n",
       "      <td>3.781667</td>\n",
       "    </tr>\n",
       "  </tbody>\n",
       "</table>\n",
       "</div>"
      ],
      "text/plain": [
       "           早期感染国β(初期値)  晩期感染国β(初期値)\n",
       "Intercept    26.053547    68.907071\n",
       "hf            2.282413    -1.960874\n",
       "pop           0.516722   -10.823974\n",
       "urb          -1.277986    -4.032543\n",
       "gdp           1.067690    -2.843152\n",
       "air          -0.975720     3.781667"
      ]
     },
     "execution_count": 135,
     "metadata": {},
     "output_type": "execute_result"
    }
   ],
   "source": [
    "first_df"
   ]
  },
  {
   "cell_type": "code",
   "execution_count": 136,
   "metadata": {},
   "outputs": [
    {
     "name": "stderr",
     "output_type": "stream",
     "text": [
      "/Users/masanoritakahashi/anaconda3/lib/python3.7/site-packages/ipykernel_launcher.py:2: DeprecationWarning: scipy.zeros_like is deprecated and will be removed in SciPy 2.0.0, use numpy.zeros_like instead\n",
      "  \n",
      "/Users/masanoritakahashi/anaconda3/lib/python3.7/site-packages/ipykernel_launcher.py:4: DeprecationWarning: scipy.arange is deprecated and will be removed in SciPy 2.0.0, use numpy.arange instead\n",
      "  after removing the cwd from sys.path.\n",
      "/Users/masanoritakahashi/anaconda3/lib/python3.7/site-packages/ipykernel_launcher.py:5: DeprecationWarning: scipy.sqrt is deprecated and will be removed in SciPy 2.0.0, use numpy.lib.scimath.sqrt instead\n",
      "  \"\"\"\n"
     ]
    },
    {
     "data": {
      "text/plain": [
       "[<matplotlib.lines.Line2D at 0x7faeef6c0ac8>]"
      ]
     },
     "execution_count": 136,
     "metadata": {},
     "output_type": "execute_result"
    },
    {
     "data": {
      "image/png": "[encoded data removed]",
      "text/plain": [
       "<Figure size 432x288 with 1 Axes>"
      ]
     },
     "metadata": {
      "needs_background": "light"
     },
     "output_type": "display_data"
    }
   ],
   "source": [
    "plt.hist(y, density=True)\n",
    "plt.plot(x, calc_mix_pdf(k_size, x, lambda_vec, coef_vec, sigma2_vec), label=\"ini\")"
   ]
  },
  {
   "cell_type": "markdown",
   "metadata": {},
   "source": [
    "# 改善事項  \n",
    "- p値  \n",
    "- 信頼区間  \n",
    "- AIC  \n",
    "  \n",
    "  \n",
    "- 対数化しない場合  \n",
    "- 変数選択  \n",
    "- f1とf2で変数を帰る"
   ]
  },
  {
   "cell_type": "markdown",
   "metadata": {},
   "source": [
    "# 散布図行列"
   ]
  },
  {
   "cell_type": "code",
   "execution_count": 116,
   "metadata": {},
   "outputs": [],
   "source": [
    "data = df.copy()\n",
    "data = data[[\"date_first\", \"hf\", \"pop\",  \"urb\", \"gdp\",\"dist\", \"air\", \"detection\"]]\n",
    "data[\"flag\"]=0\n",
    "data.loc[data[\"date_first\"]>40, \"flag\"]=1"
   ]
  },
  {
   "cell_type": "code",
   "execution_count": 26,
   "metadata": {},
   "outputs": [
    {
     "name": "stderr",
     "output_type": "stream",
     "text": [
      "/Users/masanoritakahashi/anaconda3/lib/python3.7/site-packages/ipykernel_launcher.py:2: RuntimeWarning: divide by zero encountered in log\n",
      "  \n"
     ]
    },
    {
     "data": {
      "text/plain": [
       "<seaborn.axisgrid.PairGrid at 0x7fed23d011d0>"
      ]
     },
     "execution_count": 26,
     "metadata": {},
     "output_type": "execute_result"
    },
    {
     "data": {
      "image/png": "[encoded data removed]",
      "text/plain": [
       "<Figure size 1491.62x1440 with 72 Axes>"
      ]
     },
     "metadata": {
      "needs_background": "light"
     },
     "output_type": "display_data"
    }
   ],
   "source": [
    "import seaborn as sns\n",
    "sns.pairplot(np.log(data), hue='flag')"
   ]
  },
  {
   "cell_type": "code",
   "execution_count": null,
   "metadata": {},
   "outputs": [],
   "source": []
  }
 ],
 "metadata": {
  "kernelspec": {
   "display_name": "Python 3",
   "language": "python",
   "name": "python3"
  },
  "language_info": {
   "codemirror_mode": {
    "name": "ipython",
    "version": 3
   },
   "file_extension": ".py",
   "mimetype": "text/x-python",
   "name": "python",
   "nbconvert_exporter": "python",
   "pygments_lexer": "ipython3",
   "version": "3.7.3"
  }
 },
 "nbformat": 4,
 "nbformat_minor": 4
}
