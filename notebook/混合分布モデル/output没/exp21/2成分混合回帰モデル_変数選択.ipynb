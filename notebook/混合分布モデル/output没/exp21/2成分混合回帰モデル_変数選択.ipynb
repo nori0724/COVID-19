{
 "cells": [
  {
   "cell_type": "code",
   "execution_count": 1,
   "metadata": {},
   "outputs": [
    {
     "name": "stderr",
     "output_type": "stream",
     "text": [
      "/Users/masanoritakahashi/anaconda3/lib/python3.7/site-packages/japanize_matplotlib/__init__.py:13: MatplotlibDeprecationWarning:\n",
      "\n",
      "\n",
      "The createFontList function was deprecated in Matplotlib 3.2 and will be removed two minor releases later. Use FontManager.addfont instead.\n",
      "\n"
     ]
    }
   ],
   "source": [
    "import scipy as sp\n",
    "import os\n",
    "from scipy import stats\n",
    "import matplotlib.pyplot as plt\n",
    "import numpy as np\n",
    "import pandas as pd\n",
    "from sklearn import preprocessing\n",
    "from sklearn import linear_model\n",
    "import plotly.express as px\n",
    "import plotly\n",
    "\n",
    "\n",
    "import japanize_matplotlib\n",
    "import warnings\n",
    "warnings.filterwarnings('ignore')\n",
    "\n",
    "%matplotlib inline\n",
    "\n",
    "# 乱数seedの固定\n",
    "np.random.seed(seed=123)"
   ]
  },
  {
   "cell_type": "code",
   "execution_count": 2,
   "metadata": {},
   "outputs": [],
   "source": [
    "# E-step\n",
    "def EStep(k_size, y, lambda_vec, coef_vec, sigma2_vec):\n",
    "    '''\n",
    "    y[i]\n",
    "    lambda[k]\n",
    "    mu[k]\n",
    "    sigma[k]\n",
    "    '''\n",
    "    I = len(y)\n",
    "    # 中身を初期化せずに配列を作成する関数である。\n",
    "    # 2行, 1000列の配列を生成\n",
    "    responsibility = sp.empty((k_size, I))\n",
    "    \n",
    "    for k in sp.arange(k_size):\n",
    "        norm = stats.norm(loc=np.mean(X@coef_vec[k]), scale=sp.sqrt(sigma2_vec[k]))\n",
    "        responsibility[k] = lambda_vec[k] *norm.pdf(y)\n",
    "\n",
    "    responsibility = responsibility / sp.sum(responsibility, axis=0)\n",
    "    return responsibility\n",
    "\n",
    "def MStep(k_size, responsibility, y):\n",
    "\n",
    "    lambda_vec = sp.empty(k_size)\n",
    "    #mu_vec = sp.empty(k_size)\n",
    "    coef_vec = []\n",
    "    sigma2_vec = sp.empty(k_size)\n",
    "    \n",
    "\n",
    "    for k in sp.arange(k_size):\n",
    "        r_k = responsibility[k]\n",
    "        \n",
    "        #coef_vec[k] = np.linalg.inv(X.T @ np.diag(r_k) @ X) @ X.T @np.diag(r_k)@y\n",
    "        coef_vec.append(np.linalg.inv(X.T @ np.diag(r_k) @ X) @ X.T @np.diag(r_k)@y)\n",
    "        \n",
    "        #lambda_vec[k] = sp.sum(r_k) / sp.sum(responsibility)\n",
    "        lambda_vec[k] = sp.sum(r_k) / responsibility.shape[1]\n",
    "        \n",
    "        #mu_vec[k] = sp.sum(r_k * y) / sp.sum(r_k)\n",
    "        \n",
    "        sigma2_vec[k] = sp.sum(r_k * (y - np.mean(X@coef_vec[k]))**2) / sp.sum(r_k)\n",
    "        \n",
    "    mu_vec = [np.mean(X@coef_vec[0]), np.mean(X@coef_vec[1])]\n",
    "        \n",
    "        \n",
    "        \n",
    "\n",
    "    return lambda_vec, mu_vec, coef_vec, sigma2_vec"
   ]
  },
  {
   "cell_type": "code",
   "execution_count": 3,
   "metadata": {},
   "outputs": [],
   "source": [
    "def calc_mix_pdf(k_size, x, lambda_vec, coef_vec, sigma2_vec):\n",
    "    pdf = sp.zeros_like(x)\n",
    "\n",
    "    for k in sp.arange(k_size):\n",
    "        norm_k = stats.norm(loc=np.mean(X@coef_vec[k]), scale=sp.sqrt(sigma2_vec[k]))\n",
    "        \n",
    "        # pdf (Probability density function) 確率密度関数\n",
    "        # xのときの値を取得\n",
    "        pdf += lambda_vec[k] * norm_k.pdf(x)\n",
    "    return pdf"
   ]
  },
  {
   "cell_type": "code",
   "execution_count": 4,
   "metadata": {},
   "outputs": [],
   "source": [
    "def calc_log_likelihood(X, coef_vec, sigma2_vec, lambda_vec, y):\n",
    "    norm1 = stats.norm(loc=X@coef_vec[0], scale=np.sqrt(sigma2_vec[0])).pdf(y)\n",
    "    norm2 = stats.norm(loc=X@coef_vec[1], scale=np.sqrt(sigma2_vec[1])).pdf(y)\n",
    "    likelihood=lambda_vec[0]*norm1 + lambda_vec[1]*norm2\n",
    "    log_likelihood = np.sum(np.log(likelihood))\n",
    "    return log_likelihood"
   ]
  },
  {
   "cell_type": "markdown",
   "metadata": {},
   "source": [
    "# Config"
   ]
  },
  {
   "cell_type": "code",
   "execution_count": 518,
   "metadata": {},
   "outputs": [],
   "source": [
    "# 　使用する変数\n",
    "#FEATS = [\"hf\", \"pop\",  \"urb\", \"gdp\",\"dist\", \"air\", \"detection\"]\n",
    "\n",
    "FEATS = ['urb', 'gdp', 'air', 'detection', 'HDI', 'median_age', 'dist_italy']\n",
    "exp_name = \"exp21\"\n",
    "memo=\"重力モデル、dist/hf/popを除く、HDI/median_age/dist_italyを追加\"\n",
    "\n",
    "NEW_DIR_PATH = f'output/{exp_name}/'\n",
    "os.mkdir(NEW_DIR_PATH)"
   ]
  },
  {
   "cell_type": "markdown",
   "metadata": {},
   "source": [
    "# データの作成"
   ]
  },
  {
   "cell_type": "code",
   "execution_count": 519,
   "metadata": {},
   "outputs": [],
   "source": [
    "#df = pd.read_excel(\"../../data/data_covid_fix_name.xlsx\")\n",
    "#df = pd.read_csv(\"../../data/data_covid_fix_name_code_coordinate_ltaly.csv\").iloc[:,1:]\n",
    "df = pd.read_csv(\"../../data/data_covid_fix_name_code_coordinate_ltaly_medianage_hdi_density.csv\")\n",
    "df = df.dropna().reset_index(drop=True)"
   ]
  },
  {
   "cell_type": "code",
   "execution_count": 520,
   "metadata": {},
   "outputs": [
    {
     "data": {
      "text/html": [
       "<div>\n",
       "<style scoped>\n",
       "    .dataframe tbody tr th:only-of-type {\n",
       "        vertical-align: middle;\n",
       "    }\n",
       "\n",
       "    .dataframe tbody tr th {\n",
       "        vertical-align: top;\n",
       "    }\n",
       "\n",
       "    .dataframe thead th {\n",
       "        text-align: right;\n",
       "    }\n",
       "</style>\n",
       "<table border=\"1\" class=\"dataframe\">\n",
       "  <thead>\n",
       "    <tr style=\"text-align: right;\">\n",
       "      <th></th>\n",
       "      <th>country</th>\n",
       "      <th>pop</th>\n",
       "      <th>urb</th>\n",
       "      <th>gdp</th>\n",
       "      <th>dist</th>\n",
       "      <th>hf</th>\n",
       "      <th>pf</th>\n",
       "      <th>ef</th>\n",
       "      <th>date_first</th>\n",
       "      <th>detection</th>\n",
       "      <th>...</th>\n",
       "      <th>cumul</th>\n",
       "      <th>air</th>\n",
       "      <th>code3</th>\n",
       "      <th>code2</th>\n",
       "      <th>lat</th>\n",
       "      <th>lon</th>\n",
       "      <th>dist_italy</th>\n",
       "      <th>median_age</th>\n",
       "      <th>HDI</th>\n",
       "      <th>population_density</th>\n",
       "    </tr>\n",
       "  </thead>\n",
       "  <tbody>\n",
       "    <tr>\n",
       "      <th>0</th>\n",
       "      <td>Albania</td>\n",
       "      <td>2866376</td>\n",
       "      <td>60.319</td>\n",
       "      <td>13364.155397</td>\n",
       "      <td>6.996524e+06</td>\n",
       "      <td>7.84</td>\n",
       "      <td>8.005411</td>\n",
       "      <td>7.67</td>\n",
       "      <td>70</td>\n",
       "      <td>74.3</td>\n",
       "      <td>...</td>\n",
       "      <td>108641</td>\n",
       "      <td>303.14</td>\n",
       "      <td>ALB</td>\n",
       "      <td>AL</td>\n",
       "      <td>41.327546</td>\n",
       "      <td>19.818698</td>\n",
       "      <td>613446.033335</td>\n",
       "      <td>36.200001</td>\n",
       "      <td>0.792</td>\n",
       "      <td>104.612263</td>\n",
       "    </tr>\n",
       "    <tr>\n",
       "      <th>1</th>\n",
       "      <td>Algeria</td>\n",
       "      <td>42228429</td>\n",
       "      <td>72.629</td>\n",
       "      <td>15481.787620</td>\n",
       "      <td>9.108277e+06</td>\n",
       "      <td>4.99</td>\n",
       "      <td>5.201489</td>\n",
       "      <td>4.77</td>\n",
       "      <td>58</td>\n",
       "      <td>12.0</td>\n",
       "      <td>...</td>\n",
       "      <td>80272</td>\n",
       "      <td>6442.44</td>\n",
       "      <td>DZA</td>\n",
       "      <td>DZ</td>\n",
       "      <td>36.753768</td>\n",
       "      <td>3.058756</td>\n",
       "      <td>993497.660060</td>\n",
       "      <td>27.500000</td>\n",
       "      <td>0.746</td>\n",
       "      <td>17.730075</td>\n",
       "    </tr>\n",
       "  </tbody>\n",
       "</table>\n",
       "<p>2 rows × 21 columns</p>\n",
       "</div>"
      ],
      "text/plain": [
       "   country       pop     urb           gdp          dist    hf        pf  \\\n",
       "0  Albania   2866376  60.319  13364.155397  6.996524e+06  7.84  8.005411   \n",
       "1  Algeria  42228429  72.629  15481.787620  9.108277e+06  4.99  5.201489   \n",
       "\n",
       "     ef  date_first  detection  ...   cumul      air  code3 code2        lat  \\\n",
       "0  7.67          70       74.3  ...  108641   303.14    ALB    AL  41.327546   \n",
       "1  4.77          58       12.0  ...   80272  6442.44    DZA    DZ  36.753768   \n",
       "\n",
       "         lon     dist_italy  median_age    HDI  population_density  \n",
       "0  19.818698  613446.033335   36.200001  0.792          104.612263  \n",
       "1   3.058756  993497.660060   27.500000  0.746           17.730075  \n",
       "\n",
       "[2 rows x 21 columns]"
      ]
     },
     "execution_count": 520,
     "metadata": {},
     "output_type": "execute_result"
    }
   ],
   "source": [
    "df.head(2)"
   ]
  },
  {
   "cell_type": "code",
   "execution_count": 521,
   "metadata": {},
   "outputs": [],
   "source": [
    "y=np.log(df[\"date_first\"]).values\n",
    "#plt.hist(y, density=True)"
   ]
  },
  {
   "cell_type": "code",
   "execution_count": 522,
   "metadata": {},
   "outputs": [
    {
     "data": {
      "text/plain": [
       "(array([0.00707862, 0.06370761, 0.05662899, 0.14157247, 0.28314494,\n",
       "        0.19112283, 0.17696559, 0.0920221 , 0.02831449, 0.00707862]),\n",
       " array([11.48000963, 12.4345394 , 13.38906917, 14.34359894, 15.29812871,\n",
       "        16.25265847, 17.20718824, 18.16171801, 19.11624778, 20.07077755,\n",
       "        21.02530731]),\n",
       " <a list of 10 Patch objects>)"
      ]
     },
     "execution_count": 522,
     "metadata": {},
     "output_type": "execute_result"
    },
    {
     "data": {
      "image/png": "[encoded data removed]",
      "text/plain": [
       "<Figure size 432x288 with 1 Axes>"
      ]
     },
     "metadata": {
      "needs_background": "light"
     },
     "output_type": "display_data"
    }
   ],
   "source": [
    "plt.hist(np.log(df[\"pop\"]), density=True)"
   ]
  },
  {
   "cell_type": "markdown",
   "metadata": {},
   "source": [
    "### スケーリング(標準化)"
   ]
  },
  {
   "cell_type": "code",
   "execution_count": 523,
   "metadata": {},
   "outputs": [
    {
     "data": {
      "text/html": [
       "<div>\n",
       "<style scoped>\n",
       "    .dataframe tbody tr th:only-of-type {\n",
       "        vertical-align: middle;\n",
       "    }\n",
       "\n",
       "    .dataframe tbody tr th {\n",
       "        vertical-align: top;\n",
       "    }\n",
       "\n",
       "    .dataframe thead th {\n",
       "        text-align: right;\n",
       "    }\n",
       "</style>\n",
       "<table border=\"1\" class=\"dataframe\">\n",
       "  <thead>\n",
       "    <tr style=\"text-align: right;\">\n",
       "      <th></th>\n",
       "      <th>date_first</th>\n",
       "      <th>urb</th>\n",
       "      <th>gdp</th>\n",
       "      <th>air</th>\n",
       "      <th>detection</th>\n",
       "      <th>HDI</th>\n",
       "      <th>median_age</th>\n",
       "      <th>dist_italy</th>\n",
       "    </tr>\n",
       "    <tr>\n",
       "      <th>country</th>\n",
       "      <th></th>\n",
       "      <th></th>\n",
       "      <th></th>\n",
       "      <th></th>\n",
       "      <th></th>\n",
       "      <th></th>\n",
       "      <th></th>\n",
       "      <th></th>\n",
       "    </tr>\n",
       "  </thead>\n",
       "  <tbody>\n",
       "    <tr>\n",
       "      <th>Albania</th>\n",
       "      <td>70</td>\n",
       "      <td>60.319</td>\n",
       "      <td>13364.155397</td>\n",
       "      <td>303.14</td>\n",
       "      <td>74.3</td>\n",
       "      <td>0.792</td>\n",
       "      <td>36.200001</td>\n",
       "      <td>6.134460e+05</td>\n",
       "    </tr>\n",
       "    <tr>\n",
       "      <th>Algeria</th>\n",
       "      <td>58</td>\n",
       "      <td>72.629</td>\n",
       "      <td>15481.787620</td>\n",
       "      <td>6442.44</td>\n",
       "      <td>12.0</td>\n",
       "      <td>0.746</td>\n",
       "      <td>27.500000</td>\n",
       "      <td>9.934977e+05</td>\n",
       "    </tr>\n",
       "    <tr>\n",
       "      <th>Angola</th>\n",
       "      <td>83</td>\n",
       "      <td>65.514</td>\n",
       "      <td>6452.355165</td>\n",
       "      <td>76.94</td>\n",
       "      <td>17.9</td>\n",
       "      <td>0.582</td>\n",
       "      <td>16.400000</td>\n",
       "      <td>5.618975e+06</td>\n",
       "    </tr>\n",
       "    <tr>\n",
       "      <th>Argentina</th>\n",
       "      <td>65</td>\n",
       "      <td>91.870</td>\n",
       "      <td>20610.568550</td>\n",
       "      <td>1516.63</td>\n",
       "      <td>74.9</td>\n",
       "      <td>0.842</td>\n",
       "      <td>30.799999</td>\n",
       "      <td>1.113159e+07</td>\n",
       "    </tr>\n",
       "    <tr>\n",
       "      <th>Australia</th>\n",
       "      <td>26</td>\n",
       "      <td>86.012</td>\n",
       "      <td>51663.365095</td>\n",
       "      <td>75667.65</td>\n",
       "      <td>97.3</td>\n",
       "      <td>0.943</td>\n",
       "      <td>37.400002</td>\n",
       "      <td>1.621597e+07</td>\n",
       "    </tr>\n",
       "    <tr>\n",
       "      <th>...</th>\n",
       "      <td>...</td>\n",
       "      <td>...</td>\n",
       "      <td>...</td>\n",
       "      <td>...</td>\n",
       "      <td>...</td>\n",
       "      <td>...</td>\n",
       "      <td>...</td>\n",
       "      <td>...</td>\n",
       "    </tr>\n",
       "    <tr>\n",
       "      <th>Venezuela</th>\n",
       "      <td>76</td>\n",
       "      <td>88.208</td>\n",
       "      <td>18102.500000</td>\n",
       "      <td>2137.77</td>\n",
       "      <td>8.7</td>\n",
       "      <td>0.733</td>\n",
       "      <td>27.400000</td>\n",
       "      <td>8.364562e+06</td>\n",
       "    </tr>\n",
       "    <tr>\n",
       "      <th>Vietnam</th>\n",
       "      <td>25</td>\n",
       "      <td>35.919</td>\n",
       "      <td>7447.814334</td>\n",
       "      <td>47049.67</td>\n",
       "      <td>57.4</td>\n",
       "      <td>0.700</td>\n",
       "      <td>30.400000</td>\n",
       "      <td>8.744323e+06</td>\n",
       "    </tr>\n",
       "    <tr>\n",
       "      <th>Yemen</th>\n",
       "      <td>102</td>\n",
       "      <td>36.642</td>\n",
       "      <td>2575.126385</td>\n",
       "      <td>336.31</td>\n",
       "      <td>9.0</td>\n",
       "      <td>0.468</td>\n",
       "      <td>19.200001</td>\n",
       "      <td>4.226779e+06</td>\n",
       "    </tr>\n",
       "    <tr>\n",
       "      <th>Zambia</th>\n",
       "      <td>80</td>\n",
       "      <td>43.521</td>\n",
       "      <td>4223.906936</td>\n",
       "      <td>8.90</td>\n",
       "      <td>21.9</td>\n",
       "      <td>0.582</td>\n",
       "      <td>17.100000</td>\n",
       "      <td>6.548084e+06</td>\n",
       "    </tr>\n",
       "    <tr>\n",
       "      <th>Zimbabwe</th>\n",
       "      <td>82</td>\n",
       "      <td>32.209</td>\n",
       "      <td>3029.793005</td>\n",
       "      <td>282.54</td>\n",
       "      <td>65.6</td>\n",
       "      <td>0.569</td>\n",
       "      <td>19.000000</td>\n",
       "      <td>6.882359e+06</td>\n",
       "    </tr>\n",
       "  </tbody>\n",
       "</table>\n",
       "<p>148 rows × 8 columns</p>\n",
       "</div>"
      ],
      "text/plain": [
       "           date_first     urb           gdp       air  detection    HDI  \\\n",
       "country                                                                   \n",
       "Albania            70  60.319  13364.155397    303.14       74.3  0.792   \n",
       "Algeria            58  72.629  15481.787620   6442.44       12.0  0.746   \n",
       "Angola             83  65.514   6452.355165     76.94       17.9  0.582   \n",
       "Argentina          65  91.870  20610.568550   1516.63       74.9  0.842   \n",
       "Australia          26  86.012  51663.365095  75667.65       97.3  0.943   \n",
       "...               ...     ...           ...       ...        ...    ...   \n",
       "Venezuela          76  88.208  18102.500000   2137.77        8.7  0.733   \n",
       "Vietnam            25  35.919   7447.814334  47049.67       57.4  0.700   \n",
       "Yemen             102  36.642   2575.126385    336.31        9.0  0.468   \n",
       "Zambia             80  43.521   4223.906936      8.90       21.9  0.582   \n",
       "Zimbabwe           82  32.209   3029.793005    282.54       65.6  0.569   \n",
       "\n",
       "           median_age    dist_italy  \n",
       "country                              \n",
       "Albania     36.200001  6.134460e+05  \n",
       "Algeria     27.500000  9.934977e+05  \n",
       "Angola      16.400000  5.618975e+06  \n",
       "Argentina   30.799999  1.113159e+07  \n",
       "Australia   37.400002  1.621597e+07  \n",
       "...               ...           ...  \n",
       "Venezuela   27.400000  8.364562e+06  \n",
       "Vietnam     30.400000  8.744323e+06  \n",
       "Yemen       19.200001  4.226779e+06  \n",
       "Zambia      17.100000  6.548084e+06  \n",
       "Zimbabwe    19.000000  6.882359e+06  \n",
       "\n",
       "[148 rows x 8 columns]"
      ]
     },
     "execution_count": 523,
     "metadata": {},
     "output_type": "execute_result"
    }
   ],
   "source": [
    "tmp = df[[ \"date_first\"]+FEATS]\n",
    "tmp.index = df[\"country\"]\n",
    "tmp"
   ]
  },
  {
   "cell_type": "code",
   "execution_count": 524,
   "metadata": {},
   "outputs": [
    {
     "data": {
      "text/html": [
       "<div>\n",
       "<style scoped>\n",
       "    .dataframe tbody tr th:only-of-type {\n",
       "        vertical-align: middle;\n",
       "    }\n",
       "\n",
       "    .dataframe tbody tr th {\n",
       "        vertical-align: top;\n",
       "    }\n",
       "\n",
       "    .dataframe thead th {\n",
       "        text-align: right;\n",
       "    }\n",
       "</style>\n",
       "<table border=\"1\" class=\"dataframe\">\n",
       "  <thead>\n",
       "    <tr style=\"text-align: right;\">\n",
       "      <th></th>\n",
       "      <th>urb</th>\n",
       "      <th>gdp</th>\n",
       "      <th>air</th>\n",
       "      <th>detection</th>\n",
       "      <th>HDI</th>\n",
       "      <th>median_age</th>\n",
       "      <th>dist_italy</th>\n",
       "    </tr>\n",
       "  </thead>\n",
       "  <tbody>\n",
       "    <tr>\n",
       "      <th>0</th>\n",
       "      <td>0.136279</td>\n",
       "      <td>0.003753</td>\n",
       "      <td>-0.702490</td>\n",
       "      <td>0.984823</td>\n",
       "      <td>0.443805</td>\n",
       "      <td>0.766565</td>\n",
       "      <td>-1.070980</td>\n",
       "    </tr>\n",
       "    <tr>\n",
       "      <th>1</th>\n",
       "      <td>0.550802</td>\n",
       "      <td>0.127258</td>\n",
       "      <td>0.425582</td>\n",
       "      <td>-2.180751</td>\n",
       "      <td>0.182704</td>\n",
       "      <td>-0.107690</td>\n",
       "      <td>-0.768912</td>\n",
       "    </tr>\n",
       "    <tr>\n",
       "      <th>2</th>\n",
       "      <td>0.320680</td>\n",
       "      <td>-0.607634</td>\n",
       "      <td>-1.208557</td>\n",
       "      <td>-1.486427</td>\n",
       "      <td>-0.900588</td>\n",
       "      <td>-1.751744</td>\n",
       "      <td>0.316633</td>\n",
       "    </tr>\n",
       "    <tr>\n",
       "      <th>3</th>\n",
       "      <td>1.075349</td>\n",
       "      <td>0.367519</td>\n",
       "      <td>-0.108257</td>\n",
       "      <td>0.998787</td>\n",
       "      <td>0.710940</td>\n",
       "      <td>0.252760</td>\n",
       "      <td>0.744943</td>\n",
       "    </tr>\n",
       "    <tr>\n",
       "      <th>4</th>\n",
       "      <td>0.928286</td>\n",
       "      <td>1.139126</td>\n",
       "      <td>1.334783</td>\n",
       "      <td>1.453074</td>\n",
       "      <td>1.205279</td>\n",
       "      <td>0.870289</td>\n",
       "      <td>0.980644</td>\n",
       "    </tr>\n",
       "    <tr>\n",
       "      <th>...</th>\n",
       "      <td>...</td>\n",
       "      <td>...</td>\n",
       "      <td>...</td>\n",
       "      <td>...</td>\n",
       "      <td>...</td>\n",
       "      <td>...</td>\n",
       "      <td>...</td>\n",
       "    </tr>\n",
       "    <tr>\n",
       "      <th>143</th>\n",
       "      <td>0.984557</td>\n",
       "      <td>0.258569</td>\n",
       "      <td>0.018437</td>\n",
       "      <td>-2.739106</td>\n",
       "      <td>0.105992</td>\n",
       "      <td>-0.119277</td>\n",
       "      <td>0.565895</td>\n",
       "    </tr>\n",
       "    <tr>\n",
       "      <th>144</th>\n",
       "      <td>-1.020756</td>\n",
       "      <td>-0.487163</td>\n",
       "      <td>1.159417</td>\n",
       "      <td>0.536750</td>\n",
       "      <td>-0.095020</td>\n",
       "      <td>0.211184</td>\n",
       "      <td>0.593713</td>\n",
       "    </tr>\n",
       "    <tr>\n",
       "      <th>145</th>\n",
       "      <td>-0.976274</td>\n",
       "      <td>-1.378907</td>\n",
       "      <td>-0.664166</td>\n",
       "      <td>-2.680244</td>\n",
       "      <td>-1.851867</td>\n",
       "      <td>-1.250393</td>\n",
       "      <td>0.138259</td>\n",
       "    </tr>\n",
       "    <tr>\n",
       "      <th>146</th>\n",
       "      <td>-0.592259</td>\n",
       "      <td>-0.963388</td>\n",
       "      <td>-2.004647</td>\n",
       "      <td>-1.136246</td>\n",
       "      <td>-0.900588</td>\n",
       "      <td>-1.618805</td>\n",
       "      <td>0.412505</td>\n",
       "    </tr>\n",
       "    <tr>\n",
       "      <th>147</th>\n",
       "      <td>-1.264091</td>\n",
       "      <td>-1.242381</td>\n",
       "      <td>-0.728464</td>\n",
       "      <td>0.768596</td>\n",
       "      <td>-0.999162</td>\n",
       "      <td>-1.283698</td>\n",
       "      <td>0.443698</td>\n",
       "    </tr>\n",
       "  </tbody>\n",
       "</table>\n",
       "<p>148 rows × 7 columns</p>\n",
       "</div>"
      ],
      "text/plain": [
       "          urb       gdp       air  detection       HDI  median_age  dist_italy\n",
       "0    0.136279  0.003753 -0.702490   0.984823  0.443805    0.766565   -1.070980\n",
       "1    0.550802  0.127258  0.425582  -2.180751  0.182704   -0.107690   -0.768912\n",
       "2    0.320680 -0.607634 -1.208557  -1.486427 -0.900588   -1.751744    0.316633\n",
       "3    1.075349  0.367519 -0.108257   0.998787  0.710940    0.252760    0.744943\n",
       "4    0.928286  1.139126  1.334783   1.453074  1.205279    0.870289    0.980644\n",
       "..        ...       ...       ...        ...       ...         ...         ...\n",
       "143  0.984557  0.258569  0.018437  -2.739106  0.105992   -0.119277    0.565895\n",
       "144 -1.020756 -0.487163  1.159417   0.536750 -0.095020    0.211184    0.593713\n",
       "145 -0.976274 -1.378907 -0.664166  -2.680244 -1.851867   -1.250393    0.138259\n",
       "146 -0.592259 -0.963388 -2.004647  -1.136246 -0.900588   -1.618805    0.412505\n",
       "147 -1.264091 -1.242381 -0.728464   0.768596 -0.999162   -1.283698    0.443698\n",
       "\n",
       "[148 rows x 7 columns]"
      ]
     },
     "execution_count": 524,
     "metadata": {},
     "output_type": "execute_result"
    }
   ],
   "source": [
    "X = np.log(df[FEATS])\n",
    "#X[\"population_density\"] = np.log(X[\"population_density\"])\n",
    "#X[\"air\"] = np.log(X[\"air\"])\n",
    "sscaler = preprocessing.StandardScaler() # インスタンスの作成\n",
    "\n",
    "sscaler.fit(X)    \n",
    "X = sscaler.transform(X) # xを変換\n",
    "pd.DataFrame(X, columns=FEATS)"
   ]
  },
  {
   "cell_type": "code",
   "execution_count": 525,
   "metadata": {},
   "outputs": [],
   "source": [
    "# データを早期、晩期に分割\n",
    "y_early = df[\"date_first\"][df[\"date_first\"]<40]\n",
    "y_late = df[\"date_first\"][df[\"date_first\"]>40]\n",
    "\n",
    "x_early = X[df[\"date_first\"]<40]\n",
    "x_late = X[df[\"date_first\"]>40]"
   ]
  },
  {
   "cell_type": "markdown",
   "metadata": {},
   "source": [
    "# 初期値の設定  \n",
    "- Rで計算済み"
   ]
  },
  {
   "cell_type": "code",
   "execution_count": 526,
   "metadata": {},
   "outputs": [
    {
     "name": "stdout",
     "output_type": "stream",
     "text": [
      "早期感染国の決定係数： 0.3777634510787814\n"
     ]
    }
   ],
   "source": [
    "clf_early = linear_model.LinearRegression()\n",
    "clf_early.fit(x_early, y_early)\n",
    "# 決定係数\n",
    "print(\"早期感染国の決定係数：\", clf_early.score(x_early, y_early))"
   ]
  },
  {
   "cell_type": "code",
   "execution_count": 527,
   "metadata": {},
   "outputs": [
    {
     "name": "stdout",
     "output_type": "stream",
     "text": [
      "晩期感染国の決定係数： 0.5441128323765725\n"
     ]
    }
   ],
   "source": [
    "clf_late = linear_model.LinearRegression()\n",
    "clf_late.fit(x_late, y_late)\n",
    " \n",
    "# 決定係数\n",
    "print(\"晩期感染国の決定係数：\", clf_late.score(x_late, y_late))"
   ]
  },
  {
   "cell_type": "code",
   "execution_count": 528,
   "metadata": {},
   "outputs": [
    {
     "data": {
      "text/html": [
       "<div>\n",
       "<style scoped>\n",
       "    .dataframe tbody tr th:only-of-type {\n",
       "        vertical-align: middle;\n",
       "    }\n",
       "\n",
       "    .dataframe tbody tr th {\n",
       "        vertical-align: top;\n",
       "    }\n",
       "\n",
       "    .dataframe thead th {\n",
       "        text-align: right;\n",
       "    }\n",
       "</style>\n",
       "<table border=\"1\" class=\"dataframe\">\n",
       "  <thead>\n",
       "    <tr style=\"text-align: right;\">\n",
       "      <th></th>\n",
       "      <th>早期感染国β(初期値)</th>\n",
       "      <th>晩期感染国β(初期値)</th>\n",
       "    </tr>\n",
       "  </thead>\n",
       "  <tbody>\n",
       "    <tr>\n",
       "      <th>Intercept</th>\n",
       "      <td>32.193838</td>\n",
       "      <td>68.821799</td>\n",
       "    </tr>\n",
       "    <tr>\n",
       "      <th>urb</th>\n",
       "      <td>1.107990</td>\n",
       "      <td>-2.065095</td>\n",
       "    </tr>\n",
       "    <tr>\n",
       "      <th>gdp</th>\n",
       "      <td>-4.619999</td>\n",
       "      <td>-2.213927</td>\n",
       "    </tr>\n",
       "    <tr>\n",
       "      <th>air</th>\n",
       "      <td>-3.940539</td>\n",
       "      <td>-2.630309</td>\n",
       "    </tr>\n",
       "    <tr>\n",
       "      <th>detection</th>\n",
       "      <td>-0.589429</td>\n",
       "      <td>-2.424498</td>\n",
       "    </tr>\n",
       "    <tr>\n",
       "      <th>HDI</th>\n",
       "      <td>11.627787</td>\n",
       "      <td>-0.975041</td>\n",
       "    </tr>\n",
       "    <tr>\n",
       "      <th>median_age</th>\n",
       "      <td>-7.205801</td>\n",
       "      <td>1.504245</td>\n",
       "    </tr>\n",
       "    <tr>\n",
       "      <th>dist_italy</th>\n",
       "      <td>-1.097477</td>\n",
       "      <td>4.257348</td>\n",
       "    </tr>\n",
       "  </tbody>\n",
       "</table>\n",
       "</div>"
      ],
      "text/plain": [
       "            早期感染国β(初期値)  晩期感染国β(初期値)\n",
       "Intercept     32.193838    68.821799\n",
       "urb            1.107990    -2.065095\n",
       "gdp           -4.619999    -2.213927\n",
       "air           -3.940539    -2.630309\n",
       "detection     -0.589429    -2.424498\n",
       "HDI           11.627787    -0.975041\n",
       "median_age    -7.205801     1.504245\n",
       "dist_italy    -1.097477     4.257348"
      ]
     },
     "execution_count": 528,
     "metadata": {},
     "output_type": "execute_result"
    }
   ],
   "source": [
    "# 早期感染国のβ\n",
    "coef1_first=[clf_early.intercept_] + list(clf_early.coef_)\n",
    "#coef1_first=[1 for i in range(len(FEATS)+1)]\n",
    "\n",
    "# 晩期感染国のβ\n",
    "coef2_first=[clf_late.intercept_] + list(clf_late.coef_)\n",
    "#coef2_first=[1 for i in range(len(FEATS)+1)]\n",
    "\n",
    "\n",
    "\n",
    "first_df = pd.DataFrame(coef1_first, columns=[\"早期感染国β(初期値)\"], index=[\"Intercept\"]+ FEATS)\n",
    "first_df[\"晩期感染国β(初期値)\"] = coef2_first\n",
    "first_df"
   ]
  },
  {
   "cell_type": "markdown",
   "metadata": {},
   "source": [
    "### sigmaの初期値設定方法は要検討"
   ]
  },
  {
   "cell_type": "code",
   "execution_count": 529,
   "metadata": {},
   "outputs": [],
   "source": [
    "# 切片の追加\n",
    "X = np.insert(X, 0, 1, axis=1)\n",
    "\n",
    "# muの初期値の計算\n",
    "# mu = βx\n",
    "mu1_first = np.mean(X@coef1_first)\n",
    "mu2_first = np.mean(X@coef2_first)\n",
    "\n",
    "\n",
    "# sigmaの初期値\n",
    "sigma1_first = np.sum((y_early - np.mean(y_early))**2)/len(y_early)\n",
    "sigma2_first = np.sum((y_late - np.mean(y_late))**2)/len(y_late)\n"
   ]
  },
  {
   "cell_type": "code",
   "execution_count": 530,
   "metadata": {},
   "outputs": [],
   "source": [
    "# 混合正規分布の数\n",
    "k_size = 2\n",
    "\n",
    "# 混合比率\n",
    "lambda_vec=[0.15, 0.85]\n",
    "\n",
    "# 説明変数のパラメータ\n",
    "mu_vec = [mu1_first, mu2_first]\n",
    "\n",
    "# 分散(sigma)の初期値\n",
    "sigma2_vec=[sigma1_first, sigma2_first]\n",
    "\n",
    "# coefの初期値\n",
    "coef_vec = [coef1_first, coef2_first]"
   ]
  },
  {
   "cell_type": "code",
   "execution_count": 531,
   "metadata": {},
   "outputs": [
    {
     "name": "stdout",
     "output_type": "stream",
     "text": [
      "f1の混合比率： 0.15\n",
      "mu1： 32.19383759179379\n",
      "sigma1： 27.16824196597353\n"
     ]
    }
   ],
   "source": [
    "print(\"f1の混合比率：\", lambda_vec[0])\n",
    "print(\"mu1：\", mu_vec[0])\n",
    "print(\"sigma1：\", sigma2_vec[0])"
   ]
  },
  {
   "cell_type": "code",
   "execution_count": 532,
   "metadata": {},
   "outputs": [
    {
     "name": "stdout",
     "output_type": "stream",
     "text": [
      "f2の混合比率： 0.85\n",
      "mu2： 68.82179932088708\n",
      "sigma2： 100.12889600000001\n"
     ]
    }
   ],
   "source": [
    "print(\"f2の混合比率：\", lambda_vec[1])\n",
    "print(\"mu2：\", mu_vec[1])\n",
    "print(\"sigma2：\", sigma2_vec[1])"
   ]
  },
  {
   "cell_type": "markdown",
   "metadata": {},
   "source": [
    "### 初期値から生成される分布の確認"
   ]
  },
  {
   "cell_type": "code",
   "execution_count": 533,
   "metadata": {},
   "outputs": [
    {
     "data": {
      "image/png": "[encoded data removed]",
      "text/plain": [
       "<Figure size 432x288 with 1 Axes>"
      ]
     },
     "metadata": {
      "needs_background": "light"
     },
     "output_type": "display_data"
    }
   ],
   "source": [
    "# データ(-6から6までを200こ)\n",
    "x = sp.linspace(np.min(y), np.max(y), 150)\n",
    "plt.plot(x, calc_mix_pdf(k_size, x, lambda_vec, coef_vec, sigma2_vec), label=\"ini\")\n",
    "\n",
    "plt.savefig(NEW_DIR_PATH +\"初期値plot.png\")"
   ]
  },
  {
   "cell_type": "markdown",
   "metadata": {},
   "source": [
    "# EMアルゴリズム"
   ]
  },
  {
   "cell_type": "code",
   "execution_count": 534,
   "metadata": {},
   "outputs": [
    {
     "name": "stdout",
     "output_type": "stream",
     "text": [
      "-34.10876724014962\n",
      "i: 0 lambda [0.995 0.005] mu [4.0923 4.0593] sigma2 [0.1441 0.1854]\n",
      "-34.00395554967069\n",
      "i: 1 lambda [0.9948 0.0052] mu [4.0927 4.0189] sigma2 [0.1435 0.2758]\n",
      "-33.49204491918763\n",
      "i: 2 lambda [0.9932 0.0068] mu [4.0945 3.9495] sigma2 [0.1405 0.5738]\n",
      "-31.808942096186325\n",
      "i: 3 lambda [0.9875 0.0125] mu [4.1001 3.915 ] sigma2 [0.131  0.9056]\n",
      "-30.005422338805516\n",
      "i: 4 lambda [0.9785 0.0215] mu [4.1067 3.9033] sigma2 [0.1211 0.8784]\n",
      "-28.30036467545859\n",
      "i: 5 lambda [0.9665 0.0335] mu [4.1131 3.8962] sigma2 [0.1129 0.7458]\n",
      "-26.346474193839086\n",
      "i: 6 lambda [0.9506 0.0494] mu [4.1207 3.8925] sigma2 [0.1045 0.6274]\n",
      "-23.729690715966097\n",
      "i: 7 lambda [0.9289 0.0711] mu [4.1311 3.891 ] sigma2 [0.0939 0.5367]\n",
      "-19.30276794714514\n",
      "i: 8 lambda [0.8985 0.1015] mu [4.147  3.8906] sigma2 [0.0791 0.4661]\n",
      "-8.08483735043755\n",
      "i: 9 lambda [0.8562 0.1438] mu [4.1729 3.8915] sigma2 [0.0572 0.4095]\n",
      "19.83584018802067\n",
      "i: 10 lambda [0.8066 0.1934] mu [4.2075 3.8977] sigma2 [0.0305 0.3672]\n",
      "37.692999588639964\n",
      "i: 11 lambda [0.777 0.223] mu [4.2223 3.9137] sigma2 [0.0192 0.354 ]\n",
      "40.14658467639221\n",
      "i: 12 lambda [0.759 0.241] mu [4.2237 3.9293] sigma2 [0.0176 0.3516]\n",
      "40.861048778869204\n",
      "i: 13 lambda [0.7483 0.2517] mu [4.2239 3.9356] sigma2 [0.0171 0.3472]\n",
      "41.14865907011469\n",
      "i: 14 lambda [0.7422 0.2578] mu [4.2239 3.9387] sigma2 [0.0168 0.3443]\n",
      "41.28396993192741\n",
      "i: 15 lambda [0.7388 0.2612] mu [4.224  3.9403] sigma2 [0.0167 0.3425]\n",
      "41.353169743660054\n",
      "i: 16 lambda [0.7369 0.2631] mu [4.224  3.9412] sigma2 [0.0167 0.3415]\n",
      "41.39011698968473\n",
      "i: 17 lambda [0.7358 0.2642] mu [4.224  3.9417] sigma2 [0.0166 0.341 ]\n",
      "41.410281282899405\n",
      "i: 18 lambda [0.7352 0.2648] mu [4.224 3.942] sigma2 [0.0166 0.3407]\n",
      "41.42141055395396\n",
      "i: 19 lambda [0.7349 0.2651] mu [4.224  3.9421] sigma2 [0.0166 0.3405]\n",
      "41.42758919147346\n",
      "i: 20 lambda [0.7347 0.2653] mu [4.224  3.9422] sigma2 [0.0166 0.3404]\n",
      "41.43103003191064\n",
      "i: 21 lambda [0.7346 0.2654] mu [4.224  3.9423] sigma2 [0.0166 0.3403]\n",
      "41.43294940412047\n",
      "i: 22 lambda [0.7346 0.2654] mu [4.224  3.9423] sigma2 [0.0166 0.3403]\n",
      "41.43402103841292\n",
      "i: 23 lambda [0.7345 0.2655] mu [4.224  3.9423] sigma2 [0.0166 0.3403]\n",
      "41.43461965564123\n",
      "i: 24 lambda [0.7345 0.2655] mu [4.224  3.9423] sigma2 [0.0166 0.3403]\n",
      "41.43495413589163\n",
      "i: 25 lambda [0.7345 0.2655] mu [4.224  3.9423] sigma2 [0.0166 0.3403]\n",
      "41.43514105661596\n",
      "i: 26 lambda [0.7345 0.2655] mu [4.224  3.9423] sigma2 [0.0166 0.3403]\n",
      "41.43524552405033\n",
      "i: 27 lambda [0.7345 0.2655] mu [4.224  3.9423] sigma2 [0.0166 0.3403]\n",
      "41.43530391220011\n",
      "i: 28 lambda [0.7345 0.2655] mu [4.224  3.9423] sigma2 [0.0166 0.3403]\n",
      "41.43533654691524\n",
      "i: 29 lambda [0.7345 0.2655] mu [4.224  3.9423] sigma2 [0.0166 0.3403]\n",
      "41.43535478760395\n",
      "i: 30 lambda [0.7345 0.2655] mu [4.224  3.9423] sigma2 [0.0166 0.3403]\n",
      "41.43536498304914\n",
      "i: 31 lambda [0.7345 0.2655] mu [4.224  3.9423] sigma2 [0.0166 0.3403]\n",
      "41.435370681713735\n",
      "i: 32 lambda [0.7345 0.2655] mu [4.224  3.9423] sigma2 [0.0166 0.3403]\n",
      "41.435373866946136\n",
      "i: 33 lambda [0.7345 0.2655] mu [4.224  3.9423] sigma2 [0.0166 0.3403]\n",
      "41.435375647314096\n",
      "i: 34 lambda [0.7345 0.2655] mu [4.224  3.9423] sigma2 [0.0166 0.3403]\n",
      "41.435376642441724\n",
      "i: 35 lambda [0.7345 0.2655] mu [4.224  3.9423] sigma2 [0.0166 0.3403]\n"
     ]
    },
    {
     "data": {
      "image/png": "[encoded data removed]",
      "text/plain": [
       "<Figure size 432x288 with 1 Axes>"
      ]
     },
     "metadata": {
      "needs_background": "light"
     },
     "output_type": "display_data"
    }
   ],
   "source": [
    "# 100回繰り返す\n",
    "DIFF=0.000001\n",
    "old=0\n",
    "for i in sp.arange(100+1):\n",
    "    # Estep # responsibilityの更新 \n",
    "    responsibility = EStep(k_size, y, lambda_vec, coef_vec, sigma2_vec)\n",
    "    \n",
    "    # Mstep # 混合割合, 平均, 分散の更新\n",
    "    lambda_vec, mu_vec, coef_vec, sigma2_vec = MStep(k_size, responsibility, y)\n",
    "    plt.plot(x, calc_mix_pdf(k_size, x, lambda_vec, coef_vec, sigma2_vec), label=f\"i:{i}\", linestyle=\"--\")\n",
    "    \n",
    "    log_likelihood = calc_log_likelihood(X, coef_vec, sigma2_vec, lambda_vec, y)\n",
    "    print(log_likelihood)\n",
    "    print(\"i:\", i, \"lambda\", lambda_vec.round(4), \"mu\", np.round(mu_vec, 4), \"sigma2\", sigma2_vec.round(4))\n",
    "    \n",
    "    if i !=0:\n",
    "        diff = abs(log_likelihood - old)\n",
    "        if diff <DIFF:\n",
    "            break\n",
    "    old = log_likelihood\n",
    "\n",
    "    if i % 10 == 0:\n",
    "        #print(\"i:\", i, \"lambda\", lambda_vec.round(4), \"mu\", np.round(mu_vec, 4), \"sigma2\", sigma2_vec.round(4))\n",
    "        plt.plot(x, calc_mix_pdf(k_size, x, lambda_vec, coef_vec, sigma2_vec), label=f\"i:{i}\", linestyle=\"--\")\n",
    "        \n",
    "plt.plot(x, calc_mix_pdf(k_size, x, lambda_vec, coef_vec, sigma2_vec), label=f\"last{i}\", linestyle=\"-\")\n",
    "\n",
    "plt.legend()\n",
    "plt.tight_layout()\n",
    "plt.savefig(NEW_DIR_PATH +\"EMplot.png\")\n",
    "plt.show()"
   ]
  },
  {
   "cell_type": "code",
   "execution_count": 535,
   "metadata": {
    "scrolled": true
   },
   "outputs": [
    {
     "data": {
      "image/png": "[encoded data removed]",
      "text/plain": [
       "<Figure size 432x288 with 1 Axes>"
      ]
     },
     "metadata": {
      "needs_background": "light"
     },
     "output_type": "display_data"
    }
   ],
   "source": [
    "plt.hist(y, density=True)\n",
    "plt.plot(x, calc_mix_pdf(k_size, x, lambda_vec, coef_vec, sigma2_vec), label=\"ini\")\n",
    "plt.title(\"推定された分布\")\n",
    "plt.savefig(NEW_DIR_PATH +\"実測値と推定された分布.png\")"
   ]
  },
  {
   "cell_type": "markdown",
   "metadata": {},
   "source": [
    "#### 注  \n",
    "- mu1, mu2は反転する可能性があるため、f1, f2の混合比率を確認"
   ]
  },
  {
   "cell_type": "code",
   "execution_count": 536,
   "metadata": {},
   "outputs": [
    {
     "name": "stdout",
     "output_type": "stream",
     "text": [
      "f1の混合比率： 0.7344849767898032\n",
      "mu1： 4.22399403586193\n",
      "sigma1 0.016589925019980575\n",
      "f2の混合比率： 0.2655150232101967\n",
      "mu2： 3.9423383204600313\n",
      "sigma2： 0.34026460061518476\n"
     ]
    }
   ],
   "source": [
    "print(\"f1の混合比率：\", lambda_vec[0])\n",
    "print(\"mu1：\", mu_vec[0])\n",
    "print(\"sigma1\", sigma2_vec[0])\n",
    "\n",
    "print(\"f2の混合比率：\", lambda_vec[1])\n",
    "print(\"mu2：\", mu_vec[1])\n",
    "print(\"sigma2：\", sigma2_vec[1])"
   ]
  },
  {
   "cell_type": "markdown",
   "metadata": {},
   "source": [
    "###  推定された分布の可視化"
   ]
  },
  {
   "cell_type": "code",
   "execution_count": 537,
   "metadata": {
    "scrolled": true
   },
   "outputs": [
    {
     "data": {
      "text/plain": [
       "Text(0.5, 1.0, '推定された分布の可視化')"
      ]
     },
     "execution_count": 537,
     "metadata": {},
     "output_type": "execute_result"
    },
    {
     "data": {
      "image/png": "[encoded data removed]",
      "text/plain": [
       "<Figure size 432x288 with 1 Axes>"
      ]
     },
     "metadata": {
      "needs_background": "light"
     },
     "output_type": "display_data"
    }
   ],
   "source": [
    "\"\"\"# 推定された分布の可視化\n",
    "new_N1 = stats.norm(loc=mu_vec[0], scale=sp.sqrt(sigma2_vec[0]))\n",
    "new_N2 = stats.norm(loc=mu_vec[1], scale=sp.sqrt(sigma2_vec[1]))\n",
    "\n",
    "# rvs (Random variates) 確率変数\n",
    "new_s1 = new_N1.rvs(size=int(lambda_vec[0]*150))\n",
    "new_s2 = new_N2.rvs(size=int(lambda_vec[1]*150))\n",
    "\n",
    "\n",
    "#plt.hist(y, bins=30, density=True)\n",
    "\n",
    "plt.hist(new_s1, density=True, alpha=0.6)\n",
    "plt.hist(new_s2, density=True, alpha=0.6)\n",
    "\n",
    "\"\"\"\n",
    "np.random.seed(seed=123)\n",
    "new_s1 = np.random.normal(loc=mu_vec[0], scale=sp.sqrt(sigma2_vec[0]), size=int(lambda_vec[0]*150))\n",
    "new_s2 = np.random.normal(loc=mu_vec[1], scale=sp.sqrt(sigma2_vec[1]), size=int(lambda_vec[1]*150))\n",
    "plt.hist(new_s1, density=True, alpha=0.6)\n",
    "plt.hist(new_s2, density=True, alpha=0.6)\n",
    "plt.title(\"推定された分布の可視化\")"
   ]
  },
  {
   "cell_type": "code",
   "execution_count": 538,
   "metadata": {},
   "outputs": [
    {
     "data": {
      "image/png": "[encoded data removed]",
      "text/plain": [
       "<Figure size 432x288 with 1 Axes>"
      ]
     },
     "metadata": {
      "needs_background": "light"
     },
     "output_type": "display_data"
    }
   ],
   "source": [
    "new_N1 = stats.norm.pdf(x, loc=mu_vec[0], scale=sp.sqrt(sigma2_vec[0]))\n",
    "new_N2 = stats.norm.pdf(x, loc=mu_vec[1], scale=sp.sqrt(sigma2_vec[1]))\n",
    "\n",
    "plt.hist(y, density=True,)\n",
    "plt.plot(x, new_N1, color=\"orange\")\n",
    "plt.plot(x, new_N2, color=\"red\")\n",
    "\n",
    "plt.title(\"推定された分布の可視化\")\n",
    "plt.savefig(NEW_DIR_PATH +\"分布1と2の可視化.png\")"
   ]
  },
  {
   "cell_type": "markdown",
   "metadata": {},
   "source": [
    "#### 推定されたパラメータ"
   ]
  },
  {
   "cell_type": "code",
   "execution_count": 539,
   "metadata": {},
   "outputs": [
    {
     "data": {
      "text/html": [
       "<div>\n",
       "<style scoped>\n",
       "    .dataframe tbody tr th:only-of-type {\n",
       "        vertical-align: middle;\n",
       "    }\n",
       "\n",
       "    .dataframe tbody tr th {\n",
       "        vertical-align: top;\n",
       "    }\n",
       "\n",
       "    .dataframe thead th {\n",
       "        text-align: right;\n",
       "    }\n",
       "</style>\n",
       "<table border=\"1\" class=\"dataframe\">\n",
       "  <thead>\n",
       "    <tr style=\"text-align: right;\">\n",
       "      <th></th>\n",
       "      <th>分布1</th>\n",
       "      <th>分布2</th>\n",
       "    </tr>\n",
       "  </thead>\n",
       "  <tbody>\n",
       "    <tr>\n",
       "      <th>Intercept</th>\n",
       "      <td>4.2240</td>\n",
       "      <td>3.9423</td>\n",
       "    </tr>\n",
       "    <tr>\n",
       "      <th>urb</th>\n",
       "      <td>-0.0331</td>\n",
       "      <td>0.1561</td>\n",
       "    </tr>\n",
       "    <tr>\n",
       "      <th>gdp</th>\n",
       "      <td>-0.0406</td>\n",
       "      <td>-0.0391</td>\n",
       "    </tr>\n",
       "    <tr>\n",
       "      <th>air</th>\n",
       "      <td>-0.0325</td>\n",
       "      <td>-0.3244</td>\n",
       "    </tr>\n",
       "    <tr>\n",
       "      <th>detection</th>\n",
       "      <td>-0.0303</td>\n",
       "      <td>-0.0956</td>\n",
       "    </tr>\n",
       "    <tr>\n",
       "      <th>HDI</th>\n",
       "      <td>0.0149</td>\n",
       "      <td>0.0823</td>\n",
       "    </tr>\n",
       "    <tr>\n",
       "      <th>median_age</th>\n",
       "      <td>0.0050</td>\n",
       "      <td>-0.2140</td>\n",
       "    </tr>\n",
       "    <tr>\n",
       "      <th>dist_italy</th>\n",
       "      <td>0.0536</td>\n",
       "      <td>-0.0338</td>\n",
       "    </tr>\n",
       "  </tbody>\n",
       "</table>\n",
       "</div>"
      ],
      "text/plain": [
       "               分布1     分布2\n",
       "Intercept   4.2240  3.9423\n",
       "urb        -0.0331  0.1561\n",
       "gdp        -0.0406 -0.0391\n",
       "air        -0.0325 -0.3244\n",
       "detection  -0.0303 -0.0956\n",
       "HDI         0.0149  0.0823\n",
       "median_age  0.0050 -0.2140\n",
       "dist_italy  0.0536 -0.0338"
      ]
     },
     "execution_count": 539,
     "metadata": {},
     "output_type": "execute_result"
    }
   ],
   "source": [
    "res_df = pd.DataFrame(coef_vec[0].round(4), index=[\"Intercept\"]+FEATS,  columns=[\"分布1\"])\n",
    "res_df[\"分布2\"] = coef_vec[1].round(4)\n",
    "res_df"
   ]
  },
  {
   "cell_type": "markdown",
   "metadata": {},
   "source": [
    "# AIC"
   ]
  },
  {
   "cell_type": "code",
   "execution_count": 540,
   "metadata": {},
   "outputs": [
    {
     "name": "stdout",
     "output_type": "stream",
     "text": [
      "対数尤度 41.435376642441724\n"
     ]
    }
   ],
   "source": [
    "\"\"\"norm1 = 1/(2*np.pi*sigma2_vec[0])**(1/2) * np.exp((-1/2) *((y - X@coef_vec[0]) **2/sigma2_vec[0]) )\n",
    "norm2 = 1/(2*np.pi*sigma2_vec[1])**(1/2) * np.exp((-1/2) *((y - X@coef_vec[1]) **2/sigma2_vec[1]) )\n",
    "\n",
    "likelihood = responsibility[0]@np.log(norm1) + responsibility[1]@np.log(norm2) + np.sum(responsibility[0]*np.log( lambda_vec[0])) + np.sum(responsibility[1]*np.log( lambda_vec[1]))\n",
    "print(\"対数尤度\", likelihood)\"\"\"\n",
    "\n",
    "norm1 = stats.norm(loc=X@coef_vec[0], scale=np.sqrt(sigma2_vec[0])).pdf(y)\n",
    "norm2 = stats.norm(loc=X@coef_vec[1], scale=np.sqrt(sigma2_vec[1])).pdf(y)\n",
    "likelihood=lambda_vec[0]*norm1 + lambda_vec[1]*norm2\n",
    "log_likelihood = np.sum(np.log(likelihood))\n",
    "print(\"対数尤度\", log_likelihood)\n"
   ]
  },
  {
   "cell_type": "code",
   "execution_count": 541,
   "metadata": {},
   "outputs": [
    {
     "name": "stdout",
     "output_type": "stream",
     "text": [
      "AIC -42.87075328488345\n"
     ]
    }
   ],
   "source": [
    "k=len(coef_vec[0])+2 + len(coef_vec[1])+2\n",
    "aic = -2*(log_likelihood)+ 2 *(k)\n",
    "print(\"AIC\", aic)"
   ]
  },
  {
   "cell_type": "markdown",
   "metadata": {},
   "source": [
    "# 決定係数"
   ]
  },
  {
   "cell_type": "code",
   "execution_count": 542,
   "metadata": {},
   "outputs": [],
   "source": [
    "#y_hat = np.diag(responsibility[0])@X@coef_vec[0]*lambda_vec[0] + np.diag(responsibility[1])@X@coef_vec[1]*lambda_vec[1]\n",
    "y_hat = (X@coef_vec[0])*lambda_vec[0] + (X@coef_vec[1])*lambda_vec[1]"
   ]
  },
  {
   "cell_type": "code",
   "execution_count": 543,
   "metadata": {},
   "outputs": [
    {
     "name": "stdout",
     "output_type": "stream",
     "text": [
      "決定係数 0.36411465388838726\n"
     ]
    }
   ],
   "source": [
    "from sklearn.metrics import r2_score\n",
    "r2=r2_score( y, y_hat)\n",
    "print(\"決定係数\", r2)"
   ]
  },
  {
   "cell_type": "code",
   "execution_count": 544,
   "metadata": {},
   "outputs": [],
   "source": [
    "df[\"y_hat\"] = y_hat"
   ]
  },
  {
   "cell_type": "code",
   "execution_count": 545,
   "metadata": {},
   "outputs": [
    {
     "data": {
      "image/png": "[encoded data removed]",
      "text/plain": [
       "<Figure size 432x288 with 1 Axes>"
      ]
     },
     "metadata": {
      "needs_background": "light"
     },
     "output_type": "display_data"
    }
   ],
   "source": [
    "plt.hist(df[\"y_hat\"], bins=20)\n",
    "plt.title(\"y_hatのヒストグラム\")\n",
    "plt.savefig(NEW_DIR_PATH +\"y_hatのヒストグラム.png\")"
   ]
  },
  {
   "cell_type": "code",
   "execution_count": 546,
   "metadata": {},
   "outputs": [
    {
     "data": {
      "text/plain": [
       "count    148.000000\n",
       "mean       4.149210\n",
       "std        0.180335\n",
       "min        3.607156\n",
       "25%        4.014502\n",
       "50%        4.125993\n",
       "75%        4.278928\n",
       "max        4.598028\n",
       "Name: y_hat, dtype: float64"
      ]
     },
     "execution_count": 546,
     "metadata": {},
     "output_type": "execute_result"
    }
   ],
   "source": [
    "df[\"y_hat\"].describe()"
   ]
  },
  {
   "cell_type": "markdown",
   "metadata": {},
   "source": [
    "# その他評価指標"
   ]
  },
  {
   "cell_type": "code",
   "execution_count": 547,
   "metadata": {},
   "outputs": [
    {
     "data": {
      "text/plain": [
       "0.3029048450286311"
      ]
     },
     "execution_count": 547,
     "metadata": {},
     "output_type": "execute_result"
    }
   ],
   "source": [
    "from sklearn.metrics import mean_squared_error\n",
    "\n",
    "rmse = np.sqrt(mean_squared_error(y, y_hat))\n",
    "rmse"
   ]
  },
  {
   "cell_type": "code",
   "execution_count": 548,
   "metadata": {},
   "outputs": [
    {
     "data": {
      "text/plain": [
       "0.19789471370198508"
      ]
     },
     "execution_count": 548,
     "metadata": {},
     "output_type": "execute_result"
    }
   ],
   "source": [
    "from sklearn.metrics import mean_absolute_error\n",
    "\n",
    "mae = mean_absolute_error(y, y_hat)\n",
    "mae"
   ]
  },
  {
   "cell_type": "markdown",
   "metadata": {},
   "source": [
    "# 残差の可視化"
   ]
  },
  {
   "cell_type": "code",
   "execution_count": 549,
   "metadata": {},
   "outputs": [
    {
     "data": {
      "text/html": [
       "<div>\n",
       "<style scoped>\n",
       "    .dataframe tbody tr th:only-of-type {\n",
       "        vertical-align: middle;\n",
       "    }\n",
       "\n",
       "    .dataframe tbody tr th {\n",
       "        vertical-align: top;\n",
       "    }\n",
       "\n",
       "    .dataframe thead th {\n",
       "        text-align: right;\n",
       "    }\n",
       "</style>\n",
       "<table border=\"1\" class=\"dataframe\">\n",
       "  <thead>\n",
       "    <tr style=\"text-align: right;\">\n",
       "      <th></th>\n",
       "      <th>country</th>\n",
       "      <th>date_first</th>\n",
       "      <th>y_hat</th>\n",
       "      <th>y-y_hat</th>\n",
       "    </tr>\n",
       "  </thead>\n",
       "  <tbody>\n",
       "    <tr>\n",
       "      <th>0</th>\n",
       "      <td>Albania</td>\n",
       "      <td>70</td>\n",
       "      <td>4.123016</td>\n",
       "      <td>65.876984</td>\n",
       "    </tr>\n",
       "    <tr>\n",
       "      <th>1</th>\n",
       "      <td>Algeria</td>\n",
       "      <td>58</td>\n",
       "      <td>4.198957</td>\n",
       "      <td>53.801043</td>\n",
       "    </tr>\n",
       "    <tr>\n",
       "      <th>2</th>\n",
       "      <td>Angola</td>\n",
       "      <td>83</td>\n",
       "      <td>4.456102</td>\n",
       "      <td>78.543898</td>\n",
       "    </tr>\n",
       "    <tr>\n",
       "      <th>3</th>\n",
       "      <td>Argentina</td>\n",
       "      <td>65</td>\n",
       "      <td>4.149641</td>\n",
       "      <td>60.850359</td>\n",
       "    </tr>\n",
       "    <tr>\n",
       "      <th>4</th>\n",
       "      <td>Australia</td>\n",
       "      <td>26</td>\n",
       "      <td>3.926273</td>\n",
       "      <td>22.073727</td>\n",
       "    </tr>\n",
       "  </tbody>\n",
       "</table>\n",
       "</div>"
      ],
      "text/plain": [
       "     country  date_first     y_hat    y-y_hat\n",
       "0    Albania          70  4.123016  65.876984\n",
       "1    Algeria          58  4.198957  53.801043\n",
       "2     Angola          83  4.456102  78.543898\n",
       "3  Argentina          65  4.149641  60.850359\n",
       "4  Australia          26  3.926273  22.073727"
      ]
     },
     "execution_count": 549,
     "metadata": {},
     "output_type": "execute_result"
    }
   ],
   "source": [
    "df[\"y-y_hat\"] = df[\"date_first\"] - df[\"y_hat\"]\n",
    "df[[\"country\", \"date_first\", \"y_hat\", \"y-y_hat\"]].head()"
   ]
  },
  {
   "cell_type": "code",
   "execution_count": null,
   "metadata": {},
   "outputs": [],
   "source": [
    "# 実測値の可視化\n",
    "fig =px.choropleth(\n",
    "    df,\n",
    "    locations=\"code3\",\n",
    "    color=\"date_first\",\n",
    "    hover_name=\"country\",\n",
    "    range_color=[0,102],\n",
    "    #animation_frame='variable',\n",
    "    #projection=\"natural earth\",\n",
    "    color_continuous_scale=list(reversed(px.colors.sequential.OrRd)),\n",
    "                                )\n",
    "\n",
    "fig.show()\n",
    "#plotly.offline.plot(fig, filename='output/実測値の可視化.png')"
   ]
  },
  {
   "cell_type": "code",
   "execution_count": null,
   "metadata": {},
   "outputs": [],
   "source": [
    "# 予測値の可視化\n",
    "fig = px.choropleth(\n",
    "    df,\n",
    "    locations=\"code3\",\n",
    "    color=\"y_hat\",\n",
    "    hover_name=\"country\",\n",
    "    range_color=[0,102],\n",
    "    #animation_frame='variable',\n",
    "    #projection=\"natural earth\",\n",
    "    color_continuous_scale=list(reversed(px.colors.sequential.OrRd)),\n",
    "                                )\n",
    "fig.show()\n",
    "plotly.offline.plot(fig, filename=NEW_DIR_PATH + \"y_hatの可視化.html\")"
   ]
  },
  {
   "cell_type": "code",
   "execution_count": 513,
   "metadata": {
    "scrolled": true
   },
   "outputs": [
    {
     "data": {
      "application/vnd.plotly.v1+json": {
       "config": {
        "plotlyServerURL": "https://plot.ly"
       },
       "data": [
        {
         "coloraxis": "coloraxis",
         "geo": "geo",
         "hovertemplate": "<b>%{hovertext}</b><br><br>code3=%{location}<br>y-y_hat=%{z}<extra></extra>",
         "hovertext": [
          "Albania",
          "Algeria",
          "Angola",
          "Argentina",
          "Australia",
          "Austria",
          "Azerbaijan",
          "Bahamas",
          "Bahrain",
          "Bangladesh",
          "Belarus",
          "Belgium",
          "Belize",
          "Benin",
          "Bhutan",
          "Bolivia",
          "Bosnia and Herzegovina",
          "Botswana",
          "Brazil",
          "Brunei",
          "Bulgaria",
          "Burkina Faso",
          "Burundi",
          "Cambodia",
          "Cameroon",
          "Canada",
          "Cape Verde",
          "Central African Republic",
          "Chad",
          "Chile",
          "Colombia",
          "Congo",
          "Costa Rica",
          "Ivory Coast",
          "Croatia",
          "Cyprus",
          "Czech Republic",
          "Democratic Republic of the Congo",
          "Denmark",
          "Dominican Republic",
          "Ecuador",
          "Egypt",
          "El Salvador",
          "Estonia",
          "Ethiopia",
          "Fiji",
          "Finland",
          "France",
          "Gabon",
          "Gambia",
          "Georgia",
          "Germany",
          "Ghana",
          "Greece",
          "Guatemala",
          "Guinea",
          "Guinea-Bissau",
          "Guyana",
          "Honduras",
          "Hungary",
          "Iceland",
          "India",
          "Indonesia",
          "Iran",
          "Iraq",
          "Ireland",
          "Israel",
          "Italy",
          "Jamaica",
          "Japan",
          "Jordan",
          "Kazakhstan",
          "Kenya",
          "Kuwait",
          "Kyrgyzstan",
          "Latvia",
          "Lebanon",
          "Liberia",
          "Libya",
          "Lithuania",
          "Luxembourg",
          "Madagascar",
          "Malawi",
          "Malaysia",
          "Malta",
          "Mauritania",
          "Mauritius",
          "Mexico",
          "Moldova",
          "Mongolia",
          "Montenegro",
          "Morocco",
          "Mozambique",
          "Myanmar",
          "Nepal",
          "Netherlands",
          "New Zealand",
          "Nicaragua",
          "Niger",
          "Nigeria",
          "Macedonia",
          "Norway",
          "Oman",
          "Pakistan",
          "Panama",
          "Papua New Guinea",
          "Paraguay",
          "Peru",
          "Philippines",
          "Poland",
          "Portugal",
          "Qatar",
          "Romania",
          "Russia",
          "Rwanda",
          "Saudi Arabia",
          "Senegal",
          "Serbia",
          "Seychelles",
          "Sierra Leone",
          "Singapore",
          "Slovakia",
          "Slovenia",
          "South Africa",
          "South Korea",
          "Spain",
          "Sri Lanka",
          "Sudan",
          "Suriname",
          "Sweden",
          "Switzerland",
          "Thailand",
          "Togo",
          "Tobago",
          "Tunisia",
          "Turkey",
          "Uganda",
          "Ukraine",
          "United Arab Emirates",
          "UK",
          "Tanzania",
          "USA",
          "Uruguay",
          "Venezuela",
          "Vietnam",
          "Yemen",
          "Zambia",
          "Zimbabwe"
         ],
         "locations": [
          "ALB",
          "DZA",
          "AGO",
          "ARG",
          "AUS",
          "AUT",
          "AZE",
          "BHM",
          "BHR",
          "BGD",
          "BLR",
          "BEL",
          "BLZ",
          "BEN",
          "BTN",
          "BOL",
          "BIH",
          "BWA",
          "BRA",
          "BRN",
          "BGR",
          "BFA",
          "BDI",
          "KHM",
          "CMR",
          "CAN",
          "CPV",
          "CAF",
          "TCD",
          "CHL",
          "COL",
          "COG",
          "CRI",
          "CIV",
          "HRV",
          "CYP",
          "CZE",
          "COD",
          "DNK",
          "DOM",
          "ECU",
          "EGY",
          "SLV",
          "EST",
          "ETH",
          "FJI",
          "FIN",
          "FRA",
          "GAB",
          "GMB",
          "GEO",
          "DEU",
          "GHA",
          "GRC",
          "GTM",
          "GIN",
          "GNB",
          "GUY",
          "HND",
          "HUN",
          "ISL",
          "IND",
          "IDN",
          "IRN",
          "IRQ",
          "IRL",
          "ISR",
          "ITA",
          "JAM",
          "JPN",
          "JOR",
          "KAZ",
          "KEN",
          "KWT",
          "KGZ",
          "LVA",
          "LBN",
          "LBR",
          "LBY",
          "LTU",
          "LUX",
          "MDG",
          "MWI",
          "MYS",
          "MLT",
          "MRT",
          "MUS",
          "MEX",
          "MDA",
          "MNG",
          "MNE",
          "MAR",
          "MOZ",
          "MMR",
          "NPL",
          "NLD",
          "NZL",
          "NIC",
          "NER",
          "NGA",
          "MKD",
          "NOR",
          "OMN",
          "PAK",
          "PAN",
          "PNG",
          "PRY",
          "PER",
          "PHL",
          "POL",
          "PRT",
          "QAT",
          "ROU",
          "RUS",
          "RWA",
          "SAU",
          "SEN",
          "SRB",
          "SYC",
          "SLE",
          "SGP",
          "SVK",
          "SVN",
          "ZAF",
          "KOR",
          "ESP",
          "LKA",
          "SDN",
          "SUR",
          "SWE",
          "CHE",
          "THA",
          "TGO",
          "TTO",
          "TUN",
          "TUR",
          "UGA",
          "UKR",
          "ARE",
          "GBR",
          "TZA",
          "USA",
          "URY",
          "VEN",
          "VNM",
          "YEM",
          "ZMB",
          "ZWE"
         ],
         "name": "",
         "type": "choropleth",
         "z": [
          11.71856808122908,
          -14.223272714005446,
          4.875769220769072,
          -3.4036092763693944,
          -19.511381574772074,
          2.962798036107877,
          -1.0436614610143806,
          5.044595746052892,
          -1.4962630221115205,
          8.383777606842358,
          -1.8158687128914224,
          -18.27330626776866,
          8.069798525502804,
          -1.3212453210426816,
          5.120937248934638,
          -5.924754740854496,
          2.571121991914822,
          21.475050195168933,
          -5.912380103133046,
          11.800429020379042,
          10.205891796326405,
          -10.023784889348178,
          8.404910117824457,
          -34.327608407225526,
          -7.468383416633145,
          -21.86762177533663,
          3.273840400425158,
          -5.764026801946045,
          0.16842562168088193,
          -3.738335515604547,
          -3.7695803532911327,
          -2.143468445046082,
          -0.1508543431526448,
          -3.8679084109009523,
          0.991769311000624,
          5.59851338485052,
          3.9772541546370803,
          -7.584154559352143,
          8.657931183918997,
          -9.360464496315757,
          -7.891448135695114,
          -20.952065241461952,
          10.95804660034338,
          7.090096021876398,
          -1.8694251117191527,
          11.392709823917073,
          -21.689832499639138,
          -27.96691287199986,
          -0.7504276991019481,
          -0.14866099326931703,
          3.9248554065196686,
          -19.310896873715627,
          -0.6232510167923806,
          6.164951675686439,
          0.8815477085401113,
          -2.64739189037104,
          5.0879954005667685,
          -8.507023893467775,
          -5.9524171236245,
          8.346212910248568,
          1.9692065746456109,
          -28.123671597994836,
          8.09700961387911,
          -8.140329963371158,
          -8.494792790205366,
          10.593497049396838,
          -2.1565959537258266,
          -21.75134380047743,
          -3.272725948314232,
          -27.163486516580157,
          1.0937925439757237,
          15.023774746833595,
          6.550038931942055,
          -1.9154008045320765,
          21.05394733827005,
          13.783433930724378,
          -4.755348326581711,
          -3.116665747957015,
          18.845366625671915,
          7.150422718606393,
          1.8223527517422937,
          7.365528760910848,
          13.626702047815755,
          -25.1048258063651,
          8.236686943046514,
          -0.5523072385884973,
          16.17275239966088,
          -1.7003684191054589,
          4.35912876912775,
          19.62282724879166,
          19.010476961292085,
          -3.7739657708290792,
          4.3185233941306365,
          16.499136500056153,
          -42.98484481689427,
          10.374687642003664,
          -1.0497656814874574,
          3.763974325858854,
          0.8767588223894336,
          -15.243395166000425,
          -5.094917155499687,
          4.863470445773807,
          -2.2615281222787473,
          -8.333952540533346,
          -0.29030928788579047,
          8.637473205799125,
          -10.31791327918529,
          -6.606747868114766,
          -26.147392580078616,
          7.761912146995883,
          2.4632459286481065,
          2.234448211757879,
          -2.896548544904846,
          8.892660644619866,
          -1.1853956462754667,
          10.605463277611975,
          -15.452779318064827,
          5.742470941391751,
          10.958105193366123,
          13.017933266561585,
          -22.94987478486052,
          6.640942534522267,
          10.424820225263616,
          3.912778107208119,
          -19.99742095804774,
          -19.130628106300378,
          -33.23656971441859,
          -5.496167440481699,
          0.8216464513656376,
          -16.332751984098984,
          2.1667325046887527,
          -35.3481884649212,
          -8.911179715229906,
          -3.191861770159477,
          -4.858735946922664,
          15.22890124385384,
          8.676684194295632,
          3.0260927952117385,
          -28.663434810472538,
          -15.680333119178954,
          2.6353560064519,
          -8.092203695115277,
          1.8552638080425652,
          -2.222423092676536,
          -32.28755756361011,
          23.15918150769494,
          2.1845625109912135,
          10.26649980822134
         ]
        }
       ],
       "layout": {
        "coloraxis": {
         "colorbar": {
          "title": {
           "text": "y-y_hat"
          }
         },
         "colorscale": [
          [
           0,
           "rgb(5,48,97)"
          ],
          [
           0.1,
           "rgb(33,102,172)"
          ],
          [
           0.2,
           "rgb(67,147,195)"
          ],
          [
           0.3,
           "rgb(146,197,222)"
          ],
          [
           0.4,
           "rgb(209,229,240)"
          ],
          [
           0.5,
           "rgb(247,247,247)"
          ],
          [
           0.6,
           "rgb(253,219,199)"
          ],
          [
           0.7,
           "rgb(244,165,130)"
          ],
          [
           0.8,
           "rgb(214,96,77)"
          ],
          [
           0.9,
           "rgb(178,24,43)"
          ],
          [
           1,
           "rgb(103,0,31)"
          ]
         ]
        },
        "geo": {
         "center": {},
         "domain": {
          "x": [
           0,
           1
          ],
          "y": [
           0,
           1
          ]
         }
        },
        "legend": {
         "tracegroupgap": 0
        },
        "margin": {
         "t": 60
        },
        "template": {
         "data": {
          "bar": [
           {
            "error_x": {
             "color": "#2a3f5f"
            },
            "error_y": {
             "color": "#2a3f5f"
            },
            "marker": {
             "line": {
              "color": "#E5ECF6",
              "width": 0.5
             }
            },
            "type": "bar"
           }
          ],
          "barpolar": [
           {
            "marker": {
             "line": {
              "color": "#E5ECF6",
              "width": 0.5
             }
            },
            "type": "barpolar"
           }
          ],
          "carpet": [
           {
            "aaxis": {
             "endlinecolor": "#2a3f5f",
             "gridcolor": "white",
             "linecolor": "white",
             "minorgridcolor": "white",
             "startlinecolor": "#2a3f5f"
            },
            "baxis": {
             "endlinecolor": "#2a3f5f",
             "gridcolor": "white",
             "linecolor": "white",
             "minorgridcolor": "white",
             "startlinecolor": "#2a3f5f"
            },
            "type": "carpet"
           }
          ],
          "choropleth": [
           {
            "colorbar": {
             "outlinewidth": 0,
             "ticks": ""
            },
            "type": "choropleth"
           }
          ],
          "contour": [
           {
            "colorbar": {
             "outlinewidth": 0,
             "ticks": ""
            },
            "colorscale": [
             [
              0,
              "#0d0887"
             ],
             [
              0.1111111111111111,
              "#46039f"
             ],
             [
              0.2222222222222222,
              "#7201a8"
             ],
             [
              0.3333333333333333,
              "#9c179e"
             ],
             [
              0.4444444444444444,
              "#bd3786"
             ],
             [
              0.5555555555555556,
              "#d8576b"
             ],
             [
              0.6666666666666666,
              "#ed7953"
             ],
             [
              0.7777777777777778,
              "#fb9f3a"
             ],
             [
              0.8888888888888888,
              "#fdca26"
             ],
             [
              1,
              "#f0f921"
             ]
            ],
            "type": "contour"
           }
          ],
          "contourcarpet": [
           {
            "colorbar": {
             "outlinewidth": 0,
             "ticks": ""
            },
            "type": "contourcarpet"
           }
          ],
          "heatmap": [
           {
            "colorbar": {
             "outlinewidth": 0,
             "ticks": ""
            },
            "colorscale": [
             [
              0,
              "#0d0887"
             ],
             [
              0.1111111111111111,
              "#46039f"
             ],
             [
              0.2222222222222222,
              "#7201a8"
             ],
             [
              0.3333333333333333,
              "#9c179e"
             ],
             [
              0.4444444444444444,
              "#bd3786"
             ],
             [
              0.5555555555555556,
              "#d8576b"
             ],
             [
              0.6666666666666666,
              "#ed7953"
             ],
             [
              0.7777777777777778,
              "#fb9f3a"
             ],
             [
              0.8888888888888888,
              "#fdca26"
             ],
             [
              1,
              "#f0f921"
             ]
            ],
            "type": "heatmap"
           }
          ],
          "heatmapgl": [
           {
            "colorbar": {
             "outlinewidth": 0,
             "ticks": ""
            },
            "colorscale": [
             [
              0,
              "#0d0887"
             ],
             [
              0.1111111111111111,
              "#46039f"
             ],
             [
              0.2222222222222222,
              "#7201a8"
             ],
             [
              0.3333333333333333,
              "#9c179e"
             ],
             [
              0.4444444444444444,
              "#bd3786"
             ],
             [
              0.5555555555555556,
              "#d8576b"
             ],
             [
              0.6666666666666666,
              "#ed7953"
             ],
             [
              0.7777777777777778,
              "#fb9f3a"
             ],
             [
              0.8888888888888888,
              "#fdca26"
             ],
             [
              1,
              "#f0f921"
             ]
            ],
            "type": "heatmapgl"
           }
          ],
          "histogram": [
           {
            "marker": {
             "colorbar": {
              "outlinewidth": 0,
              "ticks": ""
             }
            },
            "type": "histogram"
           }
          ],
          "histogram2d": [
           {
            "colorbar": {
             "outlinewidth": 0,
             "ticks": ""
            },
            "colorscale": [
             [
              0,
              "#0d0887"
             ],
             [
              0.1111111111111111,
              "#46039f"
             ],
             [
              0.2222222222222222,
              "#7201a8"
             ],
             [
              0.3333333333333333,
              "#9c179e"
             ],
             [
              0.4444444444444444,
              "#bd3786"
             ],
             [
              0.5555555555555556,
              "#d8576b"
             ],
             [
              0.6666666666666666,
              "#ed7953"
             ],
             [
              0.7777777777777778,
              "#fb9f3a"
             ],
             [
              0.8888888888888888,
              "#fdca26"
             ],
             [
              1,
              "#f0f921"
             ]
            ],
            "type": "histogram2d"
           }
          ],
          "histogram2dcontour": [
           {
            "colorbar": {
             "outlinewidth": 0,
             "ticks": ""
            },
            "colorscale": [
             [
              0,
              "#0d0887"
             ],
             [
              0.1111111111111111,
              "#46039f"
             ],
             [
              0.2222222222222222,
              "#7201a8"
             ],
             [
              0.3333333333333333,
              "#9c179e"
             ],
             [
              0.4444444444444444,
              "#bd3786"
             ],
             [
              0.5555555555555556,
              "#d8576b"
             ],
             [
              0.6666666666666666,
              "#ed7953"
             ],
             [
              0.7777777777777778,
              "#fb9f3a"
             ],
             [
              0.8888888888888888,
              "#fdca26"
             ],
             [
              1,
              "#f0f921"
             ]
            ],
            "type": "histogram2dcontour"
           }
          ],
          "mesh3d": [
           {
            "colorbar": {
             "outlinewidth": 0,
             "ticks": ""
            },
            "type": "mesh3d"
           }
          ],
          "parcoords": [
           {
            "line": {
             "colorbar": {
              "outlinewidth": 0,
              "ticks": ""
             }
            },
            "type": "parcoords"
           }
          ],
          "pie": [
           {
            "automargin": true,
            "type": "pie"
           }
          ],
          "scatter": [
           {
            "marker": {
             "colorbar": {
              "outlinewidth": 0,
              "ticks": ""
             }
            },
            "type": "scatter"
           }
          ],
          "scatter3d": [
           {
            "line": {
             "colorbar": {
              "outlinewidth": 0,
              "ticks": ""
             }
            },
            "marker": {
             "colorbar": {
              "outlinewidth": 0,
              "ticks": ""
             }
            },
            "type": "scatter3d"
           }
          ],
          "scattercarpet": [
           {
            "marker": {
             "colorbar": {
              "outlinewidth": 0,
              "ticks": ""
             }
            },
            "type": "scattercarpet"
           }
          ],
          "scattergeo": [
           {
            "marker": {
             "colorbar": {
              "outlinewidth": 0,
              "ticks": ""
             }
            },
            "type": "scattergeo"
           }
          ],
          "scattergl": [
           {
            "marker": {
             "colorbar": {
              "outlinewidth": 0,
              "ticks": ""
             }
            },
            "type": "scattergl"
           }
          ],
          "scattermapbox": [
           {
            "marker": {
             "colorbar": {
              "outlinewidth": 0,
              "ticks": ""
             }
            },
            "type": "scattermapbox"
           }
          ],
          "scatterpolar": [
           {
            "marker": {
             "colorbar": {
              "outlinewidth": 0,
              "ticks": ""
             }
            },
            "type": "scatterpolar"
           }
          ],
          "scatterpolargl": [
           {
            "marker": {
             "colorbar": {
              "outlinewidth": 0,
              "ticks": ""
             }
            },
            "type": "scatterpolargl"
           }
          ],
          "scatterternary": [
           {
            "marker": {
             "colorbar": {
              "outlinewidth": 0,
              "ticks": ""
             }
            },
            "type": "scatterternary"
           }
          ],
          "surface": [
           {
            "colorbar": {
             "outlinewidth": 0,
             "ticks": ""
            },
            "colorscale": [
             [
              0,
              "#0d0887"
             ],
             [
              0.1111111111111111,
              "#46039f"
             ],
             [
              0.2222222222222222,
              "#7201a8"
             ],
             [
              0.3333333333333333,
              "#9c179e"
             ],
             [
              0.4444444444444444,
              "#bd3786"
             ],
             [
              0.5555555555555556,
              "#d8576b"
             ],
             [
              0.6666666666666666,
              "#ed7953"
             ],
             [
              0.7777777777777778,
              "#fb9f3a"
             ],
             [
              0.8888888888888888,
              "#fdca26"
             ],
             [
              1,
              "#f0f921"
             ]
            ],
            "type": "surface"
           }
          ],
          "table": [
           {
            "cells": {
             "fill": {
              "color": "#EBF0F8"
             },
             "line": {
              "color": "white"
             }
            },
            "header": {
             "fill": {
              "color": "#C8D4E3"
             },
             "line": {
              "color": "white"
             }
            },
            "type": "table"
           }
          ]
         },
         "layout": {
          "annotationdefaults": {
           "arrowcolor": "#2a3f5f",
           "arrowhead": 0,
           "arrowwidth": 1
          },
          "coloraxis": {
           "colorbar": {
            "outlinewidth": 0,
            "ticks": ""
           }
          },
          "colorscale": {
           "diverging": [
            [
             0,
             "#8e0152"
            ],
            [
             0.1,
             "#c51b7d"
            ],
            [
             0.2,
             "#de77ae"
            ],
            [
             0.3,
             "#f1b6da"
            ],
            [
             0.4,
             "#fde0ef"
            ],
            [
             0.5,
             "#f7f7f7"
            ],
            [
             0.6,
             "#e6f5d0"
            ],
            [
             0.7,
             "#b8e186"
            ],
            [
             0.8,
             "#7fbc41"
            ],
            [
             0.9,
             "#4d9221"
            ],
            [
             1,
             "#276419"
            ]
           ],
           "sequential": [
            [
             0,
             "#0d0887"
            ],
            [
             0.1111111111111111,
             "#46039f"
            ],
            [
             0.2222222222222222,
             "#7201a8"
            ],
            [
             0.3333333333333333,
             "#9c179e"
            ],
            [
             0.4444444444444444,
             "#bd3786"
            ],
            [
             0.5555555555555556,
             "#d8576b"
            ],
            [
             0.6666666666666666,
             "#ed7953"
            ],
            [
             0.7777777777777778,
             "#fb9f3a"
            ],
            [
             0.8888888888888888,
             "#fdca26"
            ],
            [
             1,
             "#f0f921"
            ]
           ],
           "sequentialminus": [
            [
             0,
             "#0d0887"
            ],
            [
             0.1111111111111111,
             "#46039f"
            ],
            [
             0.2222222222222222,
             "#7201a8"
            ],
            [
             0.3333333333333333,
             "#9c179e"
            ],
            [
             0.4444444444444444,
             "#bd3786"
            ],
            [
             0.5555555555555556,
             "#d8576b"
            ],
            [
             0.6666666666666666,
             "#ed7953"
            ],
            [
             0.7777777777777778,
             "#fb9f3a"
            ],
            [
             0.8888888888888888,
             "#fdca26"
            ],
            [
             1,
             "#f0f921"
            ]
           ]
          },
          "colorway": [
           "#636efa",
           "#EF553B",
           "#00cc96",
           "#ab63fa",
           "#FFA15A",
           "#19d3f3",
           "#FF6692",
           "#B6E880",
           "#FF97FF",
           "#FECB52"
          ],
          "font": {
           "color": "#2a3f5f"
          },
          "geo": {
           "bgcolor": "white",
           "lakecolor": "white",
           "landcolor": "#E5ECF6",
           "showlakes": true,
           "showland": true,
           "subunitcolor": "white"
          },
          "hoverlabel": {
           "align": "left"
          },
          "hovermode": "closest",
          "mapbox": {
           "style": "light"
          },
          "paper_bgcolor": "white",
          "plot_bgcolor": "#E5ECF6",
          "polar": {
           "angularaxis": {
            "gridcolor": "white",
            "linecolor": "white",
            "ticks": ""
           },
           "bgcolor": "#E5ECF6",
           "radialaxis": {
            "gridcolor": "white",
            "linecolor": "white",
            "ticks": ""
           }
          },
          "scene": {
           "xaxis": {
            "backgroundcolor": "#E5ECF6",
            "gridcolor": "white",
            "gridwidth": 2,
            "linecolor": "white",
            "showbackground": true,
            "ticks": "",
            "zerolinecolor": "white"
           },
           "yaxis": {
            "backgroundcolor": "#E5ECF6",
            "gridcolor": "white",
            "gridwidth": 2,
            "linecolor": "white",
            "showbackground": true,
            "ticks": "",
            "zerolinecolor": "white"
           },
           "zaxis": {
            "backgroundcolor": "#E5ECF6",
            "gridcolor": "white",
            "gridwidth": 2,
            "linecolor": "white",
            "showbackground": true,
            "ticks": "",
            "zerolinecolor": "white"
           }
          },
          "shapedefaults": {
           "line": {
            "color": "#2a3f5f"
           }
          },
          "ternary": {
           "aaxis": {
            "gridcolor": "white",
            "linecolor": "white",
            "ticks": ""
           },
           "baxis": {
            "gridcolor": "white",
            "linecolor": "white",
            "ticks": ""
           },
           "bgcolor": "#E5ECF6",
           "caxis": {
            "gridcolor": "white",
            "linecolor": "white",
            "ticks": ""
           }
          },
          "title": {
           "x": 0.05
          },
          "xaxis": {
           "automargin": true,
           "gridcolor": "white",
           "linecolor": "white",
           "ticks": "",
           "title": {
            "standoff": 15
           },
           "zerolinecolor": "white",
           "zerolinewidth": 2
          },
          "yaxis": {
           "automargin": true,
           "gridcolor": "white",
           "linecolor": "white",
           "ticks": "",
           "title": {
            "standoff": 15
           },
           "zerolinecolor": "white",
           "zerolinewidth": 2
          }
         }
        }
       }
      },
      "text/html": [
       "<div>\n",
       "        \n",
       "        \n",
       "            <div id=\"00ce64ca-d77f-4b63-834c-d29b2bfae1bd\" class=\"plotly-graph-div\" style=\"height:525px; width:100%;\"></div>\n",
       "            <script type=\"text/javascript\">\n",
       "                require([\"plotly\"], function(Plotly) {\n",
       "                    window.PLOTLYENV=window.PLOTLYENV || {};\n",
       "                    \n",
       "                if (document.getElementById(\"00ce64ca-d77f-4b63-834c-d29b2bfae1bd\")) {\n",
       "                    Plotly.newPlot(\n",
       "                        '00ce64ca-d77f-4b63-834c-d29b2bfae1bd',\n",
       "                        [{\"coloraxis\": \"coloraxis\", \"geo\": \"geo\", \"hovertemplate\": \"<b>%{hovertext}</b><br><br>code3=%{location}<br>y-y_hat=%{z}<extra></extra>\", \"hovertext\": [\"Albania\", \"Algeria\", \"Angola\", \"Argentina\", \"Australia\", \"Austria\", \"Azerbaijan\", \"Bahamas\", \"Bahrain\", \"Bangladesh\", \"Belarus\", \"Belgium\", \"Belize\", \"Benin\", \"Bhutan\", \"Bolivia\", \"Bosnia and Herzegovina\", \"Botswana\", \"Brazil\", \"Brunei\", \"Bulgaria\", \"Burkina Faso\", \"Burundi\", \"Cambodia\", \"Cameroon\", \"Canada\", \"Cape Verde\", \"Central African Republic\", \"Chad\", \"Chile\", \"Colombia\", \"Congo\", \"Costa Rica\", \"Ivory Coast\", \"Croatia\", \"Cyprus\", \"Czech Republic\", \"Democratic Republic of the Congo\", \"Denmark\", \"Dominican Republic\", \"Ecuador\", \"Egypt\", \"El Salvador\", \"Estonia\", \"Ethiopia\", \"Fiji\", \"Finland\", \"France\", \"Gabon\", \"Gambia\", \"Georgia\", \"Germany\", \"Ghana\", \"Greece\", \"Guatemala\", \"Guinea\", \"Guinea-Bissau\", \"Guyana\", \"Honduras\", \"Hungary\", \"Iceland\", \"India\", \"Indonesia\", \"Iran\", \"Iraq\", \"Ireland\", \"Israel\", \"Italy\", \"Jamaica\", \"Japan\", \"Jordan\", \"Kazakhstan\", \"Kenya\", \"Kuwait\", \"Kyrgyzstan\", \"Latvia\", \"Lebanon\", \"Liberia\", \"Libya\", \"Lithuania\", \"Luxembourg\", \"Madagascar\", \"Malawi\", \"Malaysia\", \"Malta\", \"Mauritania\", \"Mauritius\", \"Mexico\", \"Moldova\", \"Mongolia\", \"Montenegro\", \"Morocco\", \"Mozambique\", \"Myanmar\", \"Nepal\", \"Netherlands\", \"New Zealand\", \"Nicaragua\", \"Niger\", \"Nigeria\", \"Macedonia\", \"Norway\", \"Oman\", \"Pakistan\", \"Panama\", \"Papua New Guinea\", \"Paraguay\", \"Peru\", \"Philippines\", \"Poland\", \"Portugal\", \"Qatar\", \"Romania\", \"Russia\", \"Rwanda\", \"Saudi Arabia\", \"Senegal\", \"Serbia\", \"Seychelles\", \"Sierra Leone\", \"Singapore\", \"Slovakia\", \"Slovenia\", \"South Africa\", \"South Korea\", \"Spain\", \"Sri Lanka\", \"Sudan\", \"Suriname\", \"Sweden\", \"Switzerland\", \"Thailand\", \"Togo\", \"Tobago\", \"Tunisia\", \"Turkey\", \"Uganda\", \"Ukraine\", \"United Arab Emirates\", \"UK\", \"Tanzania\", \"USA\", \"Uruguay\", \"Venezuela\", \"Vietnam\", \"Yemen\", \"Zambia\", \"Zimbabwe\"], \"locations\": [\"ALB\", \"DZA\", \"AGO\", \"ARG\", \"AUS\", \"AUT\", \"AZE\", \"BHM\", \"BHR\", \"BGD\", \"BLR\", \"BEL\", \"BLZ\", \"BEN\", \"BTN\", \"BOL\", \"BIH\", \"BWA\", \"BRA\", \"BRN\", \"BGR\", \"BFA\", \"BDI\", \"KHM\", \"CMR\", \"CAN\", \"CPV\", \"CAF\", \"TCD\", \"CHL\", \"COL\", \"COG\", \"CRI\", \"CIV\", \"HRV\", \"CYP\", \"CZE\", \"COD\", \"DNK\", \"DOM\", \"ECU\", \"EGY\", \"SLV\", \"EST\", \"ETH\", \"FJI\", \"FIN\", \"FRA\", \"GAB\", \"GMB\", \"GEO\", \"DEU\", \"GHA\", \"GRC\", \"GTM\", \"GIN\", \"GNB\", \"GUY\", \"HND\", \"HUN\", \"ISL\", \"IND\", \"IDN\", \"IRN\", \"IRQ\", \"IRL\", \"ISR\", \"ITA\", \"JAM\", \"JPN\", \"JOR\", \"KAZ\", \"KEN\", \"KWT\", \"KGZ\", \"LVA\", \"LBN\", \"LBR\", \"LBY\", \"LTU\", \"LUX\", \"MDG\", \"MWI\", \"MYS\", \"MLT\", \"MRT\", \"MUS\", \"MEX\", \"MDA\", \"MNG\", \"MNE\", \"MAR\", \"MOZ\", \"MMR\", \"NPL\", \"NLD\", \"NZL\", \"NIC\", \"NER\", \"NGA\", \"MKD\", \"NOR\", \"OMN\", \"PAK\", \"PAN\", \"PNG\", \"PRY\", \"PER\", \"PHL\", \"POL\", \"PRT\", \"QAT\", \"ROU\", \"RUS\", \"RWA\", \"SAU\", \"SEN\", \"SRB\", \"SYC\", \"SLE\", \"SGP\", \"SVK\", \"SVN\", \"ZAF\", \"KOR\", \"ESP\", \"LKA\", \"SDN\", \"SUR\", \"SWE\", \"CHE\", \"THA\", \"TGO\", \"TTO\", \"TUN\", \"TUR\", \"UGA\", \"UKR\", \"ARE\", \"GBR\", \"TZA\", \"USA\", \"URY\", \"VEN\", \"VNM\", \"YEM\", \"ZMB\", \"ZWE\"], \"name\": \"\", \"type\": \"choropleth\", \"z\": [11.71856808122908, -14.223272714005446, 4.875769220769072, -3.4036092763693944, -19.511381574772074, 2.962798036107877, -1.0436614610143806, 5.044595746052892, -1.4962630221115205, 8.383777606842358, -1.8158687128914224, -18.27330626776866, 8.069798525502804, -1.3212453210426816, 5.120937248934638, -5.924754740854496, 2.571121991914822, 21.475050195168933, -5.912380103133046, 11.800429020379042, 10.205891796326405, -10.023784889348178, 8.404910117824457, -34.327608407225526, -7.468383416633145, -21.86762177533663, 3.273840400425158, -5.764026801946045, 0.16842562168088193, -3.738335515604547, -3.7695803532911327, -2.143468445046082, -0.1508543431526448, -3.8679084109009523, 0.991769311000624, 5.59851338485052, 3.9772541546370803, -7.584154559352143, 8.657931183918997, -9.360464496315757, -7.891448135695114, -20.952065241461952, 10.95804660034338, 7.090096021876398, -1.8694251117191527, 11.392709823917073, -21.689832499639138, -27.96691287199986, -0.7504276991019481, -0.14866099326931703, 3.9248554065196686, -19.310896873715627, -0.6232510167923806, 6.164951675686439, 0.8815477085401113, -2.64739189037104, 5.0879954005667685, -8.507023893467775, -5.9524171236245, 8.346212910248568, 1.9692065746456109, -28.123671597994836, 8.09700961387911, -8.140329963371158, -8.494792790205366, 10.593497049396838, -2.1565959537258266, -21.75134380047743, -3.272725948314232, -27.163486516580157, 1.0937925439757237, 15.023774746833595, 6.550038931942055, -1.9154008045320765, 21.05394733827005, 13.783433930724378, -4.755348326581711, -3.116665747957015, 18.845366625671915, 7.150422718606393, 1.8223527517422937, 7.365528760910848, 13.626702047815755, -25.1048258063651, 8.236686943046514, -0.5523072385884973, 16.17275239966088, -1.7003684191054589, 4.35912876912775, 19.62282724879166, 19.010476961292085, -3.7739657708290792, 4.3185233941306365, 16.499136500056153, -42.98484481689427, 10.374687642003664, -1.0497656814874574, 3.763974325858854, 0.8767588223894336, -15.243395166000425, -5.094917155499687, 4.863470445773807, -2.2615281222787473, -8.333952540533346, -0.29030928788579047, 8.637473205799125, -10.31791327918529, -6.606747868114766, -26.147392580078616, 7.761912146995883, 2.4632459286481065, 2.234448211757879, -2.896548544904846, 8.892660644619866, -1.1853956462754667, 10.605463277611975, -15.452779318064827, 5.742470941391751, 10.958105193366123, 13.017933266561585, -22.94987478486052, 6.640942534522267, 10.424820225263616, 3.912778107208119, -19.99742095804774, -19.130628106300378, -33.23656971441859, -5.496167440481699, 0.8216464513656376, -16.332751984098984, 2.1667325046887527, -35.3481884649212, -8.911179715229906, -3.191861770159477, -4.858735946922664, 15.22890124385384, 8.676684194295632, 3.0260927952117385, -28.663434810472538, -15.680333119178954, 2.6353560064519, -8.092203695115277, 1.8552638080425652, -2.222423092676536, -32.28755756361011, 23.15918150769494, 2.1845625109912135, 10.26649980822134]}],\n",
       "                        {\"coloraxis\": {\"colorbar\": {\"title\": {\"text\": \"y-y_hat\"}}, \"colorscale\": [[0.0, \"rgb(5,48,97)\"], [0.1, \"rgb(33,102,172)\"], [0.2, \"rgb(67,147,195)\"], [0.3, \"rgb(146,197,222)\"], [0.4, \"rgb(209,229,240)\"], [0.5, \"rgb(247,247,247)\"], [0.6, \"rgb(253,219,199)\"], [0.7, \"rgb(244,165,130)\"], [0.8, \"rgb(214,96,77)\"], [0.9, \"rgb(178,24,43)\"], [1.0, \"rgb(103,0,31)\"]]}, \"geo\": {\"center\": {}, \"domain\": {\"x\": [0.0, 1.0], \"y\": [0.0, 1.0]}}, \"legend\": {\"tracegroupgap\": 0}, \"margin\": {\"t\": 60}, \"template\": {\"data\": {\"bar\": [{\"error_x\": {\"color\": \"#2a3f5f\"}, \"error_y\": {\"color\": \"#2a3f5f\"}, \"marker\": {\"line\": {\"color\": \"#E5ECF6\", \"width\": 0.5}}, \"type\": \"bar\"}], \"barpolar\": [{\"marker\": {\"line\": {\"color\": \"#E5ECF6\", \"width\": 0.5}}, \"type\": \"barpolar\"}], \"carpet\": [{\"aaxis\": {\"endlinecolor\": \"#2a3f5f\", \"gridcolor\": \"white\", \"linecolor\": \"white\", \"minorgridcolor\": \"white\", \"startlinecolor\": \"#2a3f5f\"}, \"baxis\": {\"endlinecolor\": \"#2a3f5f\", \"gridcolor\": \"white\", \"linecolor\": \"white\", \"minorgridcolor\": \"white\", \"startlinecolor\": \"#2a3f5f\"}, \"type\": \"carpet\"}], \"choropleth\": [{\"colorbar\": {\"outlinewidth\": 0, \"ticks\": \"\"}, \"type\": \"choropleth\"}], \"contour\": [{\"colorbar\": {\"outlinewidth\": 0, \"ticks\": \"\"}, \"colorscale\": [[0.0, \"#0d0887\"], [0.1111111111111111, \"#46039f\"], [0.2222222222222222, \"#7201a8\"], [0.3333333333333333, \"#9c179e\"], [0.4444444444444444, \"#bd3786\"], [0.5555555555555556, \"#d8576b\"], [0.6666666666666666, \"#ed7953\"], [0.7777777777777778, \"#fb9f3a\"], [0.8888888888888888, \"#fdca26\"], [1.0, \"#f0f921\"]], \"type\": \"contour\"}], \"contourcarpet\": [{\"colorbar\": {\"outlinewidth\": 0, \"ticks\": \"\"}, \"type\": \"contourcarpet\"}], \"heatmap\": [{\"colorbar\": {\"outlinewidth\": 0, \"ticks\": \"\"}, \"colorscale\": [[0.0, \"#0d0887\"], [0.1111111111111111, \"#46039f\"], [0.2222222222222222, \"#7201a8\"], [0.3333333333333333, \"#9c179e\"], [0.4444444444444444, \"#bd3786\"], [0.5555555555555556, \"#d8576b\"], [0.6666666666666666, \"#ed7953\"], [0.7777777777777778, \"#fb9f3a\"], [0.8888888888888888, \"#fdca26\"], [1.0, \"#f0f921\"]], \"type\": \"heatmap\"}], \"heatmapgl\": [{\"colorbar\": {\"outlinewidth\": 0, \"ticks\": \"\"}, \"colorscale\": [[0.0, \"#0d0887\"], [0.1111111111111111, \"#46039f\"], [0.2222222222222222, \"#7201a8\"], [0.3333333333333333, \"#9c179e\"], [0.4444444444444444, \"#bd3786\"], [0.5555555555555556, \"#d8576b\"], [0.6666666666666666, \"#ed7953\"], [0.7777777777777778, \"#fb9f3a\"], [0.8888888888888888, \"#fdca26\"], [1.0, \"#f0f921\"]], \"type\": \"heatmapgl\"}], \"histogram\": [{\"marker\": {\"colorbar\": {\"outlinewidth\": 0, \"ticks\": \"\"}}, \"type\": \"histogram\"}], \"histogram2d\": [{\"colorbar\": {\"outlinewidth\": 0, \"ticks\": \"\"}, \"colorscale\": [[0.0, \"#0d0887\"], [0.1111111111111111, \"#46039f\"], [0.2222222222222222, \"#7201a8\"], [0.3333333333333333, \"#9c179e\"], [0.4444444444444444, \"#bd3786\"], [0.5555555555555556, \"#d8576b\"], [0.6666666666666666, \"#ed7953\"], [0.7777777777777778, \"#fb9f3a\"], [0.8888888888888888, \"#fdca26\"], [1.0, \"#f0f921\"]], \"type\": \"histogram2d\"}], \"histogram2dcontour\": [{\"colorbar\": {\"outlinewidth\": 0, \"ticks\": \"\"}, \"colorscale\": [[0.0, \"#0d0887\"], [0.1111111111111111, \"#46039f\"], [0.2222222222222222, \"#7201a8\"], [0.3333333333333333, \"#9c179e\"], [0.4444444444444444, \"#bd3786\"], [0.5555555555555556, \"#d8576b\"], [0.6666666666666666, \"#ed7953\"], [0.7777777777777778, \"#fb9f3a\"], [0.8888888888888888, \"#fdca26\"], [1.0, \"#f0f921\"]], \"type\": \"histogram2dcontour\"}], \"mesh3d\": [{\"colorbar\": {\"outlinewidth\": 0, \"ticks\": \"\"}, \"type\": \"mesh3d\"}], \"parcoords\": [{\"line\": {\"colorbar\": {\"outlinewidth\": 0, \"ticks\": \"\"}}, \"type\": \"parcoords\"}], \"pie\": [{\"automargin\": true, \"type\": \"pie\"}], \"scatter\": [{\"marker\": {\"colorbar\": {\"outlinewidth\": 0, \"ticks\": \"\"}}, \"type\": \"scatter\"}], \"scatter3d\": [{\"line\": {\"colorbar\": {\"outlinewidth\": 0, \"ticks\": \"\"}}, \"marker\": {\"colorbar\": {\"outlinewidth\": 0, \"ticks\": \"\"}}, \"type\": \"scatter3d\"}], \"scattercarpet\": [{\"marker\": {\"colorbar\": {\"outlinewidth\": 0, \"ticks\": \"\"}}, \"type\": \"scattercarpet\"}], \"scattergeo\": [{\"marker\": {\"colorbar\": {\"outlinewidth\": 0, \"ticks\": \"\"}}, \"type\": \"scattergeo\"}], \"scattergl\": [{\"marker\": {\"colorbar\": {\"outlinewidth\": 0, \"ticks\": \"\"}}, \"type\": \"scattergl\"}], \"scattermapbox\": [{\"marker\": {\"colorbar\": {\"outlinewidth\": 0, \"ticks\": \"\"}}, \"type\": \"scattermapbox\"}], \"scatterpolar\": [{\"marker\": {\"colorbar\": {\"outlinewidth\": 0, \"ticks\": \"\"}}, \"type\": \"scatterpolar\"}], \"scatterpolargl\": [{\"marker\": {\"colorbar\": {\"outlinewidth\": 0, \"ticks\": \"\"}}, \"type\": \"scatterpolargl\"}], \"scatterternary\": [{\"marker\": {\"colorbar\": {\"outlinewidth\": 0, \"ticks\": \"\"}}, \"type\": \"scatterternary\"}], \"surface\": [{\"colorbar\": {\"outlinewidth\": 0, \"ticks\": \"\"}, \"colorscale\": [[0.0, \"#0d0887\"], [0.1111111111111111, \"#46039f\"], [0.2222222222222222, \"#7201a8\"], [0.3333333333333333, \"#9c179e\"], [0.4444444444444444, \"#bd3786\"], [0.5555555555555556, \"#d8576b\"], [0.6666666666666666, \"#ed7953\"], [0.7777777777777778, \"#fb9f3a\"], [0.8888888888888888, \"#fdca26\"], [1.0, \"#f0f921\"]], \"type\": \"surface\"}], \"table\": [{\"cells\": {\"fill\": {\"color\": \"#EBF0F8\"}, \"line\": {\"color\": \"white\"}}, \"header\": {\"fill\": {\"color\": \"#C8D4E3\"}, \"line\": {\"color\": \"white\"}}, \"type\": \"table\"}]}, \"layout\": {\"annotationdefaults\": {\"arrowcolor\": \"#2a3f5f\", \"arrowhead\": 0, \"arrowwidth\": 1}, \"coloraxis\": {\"colorbar\": {\"outlinewidth\": 0, \"ticks\": \"\"}}, \"colorscale\": {\"diverging\": [[0, \"#8e0152\"], [0.1, \"#c51b7d\"], [0.2, \"#de77ae\"], [0.3, \"#f1b6da\"], [0.4, \"#fde0ef\"], [0.5, \"#f7f7f7\"], [0.6, \"#e6f5d0\"], [0.7, \"#b8e186\"], [0.8, \"#7fbc41\"], [0.9, \"#4d9221\"], [1, \"#276419\"]], \"sequential\": [[0.0, \"#0d0887\"], [0.1111111111111111, \"#46039f\"], [0.2222222222222222, \"#7201a8\"], [0.3333333333333333, \"#9c179e\"], [0.4444444444444444, \"#bd3786\"], [0.5555555555555556, \"#d8576b\"], [0.6666666666666666, \"#ed7953\"], [0.7777777777777778, \"#fb9f3a\"], [0.8888888888888888, \"#fdca26\"], [1.0, \"#f0f921\"]], \"sequentialminus\": [[0.0, \"#0d0887\"], [0.1111111111111111, \"#46039f\"], [0.2222222222222222, \"#7201a8\"], [0.3333333333333333, \"#9c179e\"], [0.4444444444444444, \"#bd3786\"], [0.5555555555555556, \"#d8576b\"], [0.6666666666666666, \"#ed7953\"], [0.7777777777777778, \"#fb9f3a\"], [0.8888888888888888, \"#fdca26\"], [1.0, \"#f0f921\"]]}, \"colorway\": [\"#636efa\", \"#EF553B\", \"#00cc96\", \"#ab63fa\", \"#FFA15A\", \"#19d3f3\", \"#FF6692\", \"#B6E880\", \"#FF97FF\", \"#FECB52\"], \"font\": {\"color\": \"#2a3f5f\"}, \"geo\": {\"bgcolor\": \"white\", \"lakecolor\": \"white\", \"landcolor\": \"#E5ECF6\", \"showlakes\": true, \"showland\": true, \"subunitcolor\": \"white\"}, \"hoverlabel\": {\"align\": \"left\"}, \"hovermode\": \"closest\", \"mapbox\": {\"style\": \"light\"}, \"paper_bgcolor\": \"white\", \"plot_bgcolor\": \"#E5ECF6\", \"polar\": {\"angularaxis\": {\"gridcolor\": \"white\", \"linecolor\": \"white\", \"ticks\": \"\"}, \"bgcolor\": \"#E5ECF6\", \"radialaxis\": {\"gridcolor\": \"white\", \"linecolor\": \"white\", \"ticks\": \"\"}}, \"scene\": {\"xaxis\": {\"backgroundcolor\": \"#E5ECF6\", \"gridcolor\": \"white\", \"gridwidth\": 2, \"linecolor\": \"white\", \"showbackground\": true, \"ticks\": \"\", \"zerolinecolor\": \"white\"}, \"yaxis\": {\"backgroundcolor\": \"#E5ECF6\", \"gridcolor\": \"white\", \"gridwidth\": 2, \"linecolor\": \"white\", \"showbackground\": true, \"ticks\": \"\", \"zerolinecolor\": \"white\"}, \"zaxis\": {\"backgroundcolor\": \"#E5ECF6\", \"gridcolor\": \"white\", \"gridwidth\": 2, \"linecolor\": \"white\", \"showbackground\": true, \"ticks\": \"\", \"zerolinecolor\": \"white\"}}, \"shapedefaults\": {\"line\": {\"color\": \"#2a3f5f\"}}, \"ternary\": {\"aaxis\": {\"gridcolor\": \"white\", \"linecolor\": \"white\", \"ticks\": \"\"}, \"baxis\": {\"gridcolor\": \"white\", \"linecolor\": \"white\", \"ticks\": \"\"}, \"bgcolor\": \"#E5ECF6\", \"caxis\": {\"gridcolor\": \"white\", \"linecolor\": \"white\", \"ticks\": \"\"}}, \"title\": {\"x\": 0.05}, \"xaxis\": {\"automargin\": true, \"gridcolor\": \"white\", \"linecolor\": \"white\", \"ticks\": \"\", \"title\": {\"standoff\": 15}, \"zerolinecolor\": \"white\", \"zerolinewidth\": 2}, \"yaxis\": {\"automargin\": true, \"gridcolor\": \"white\", \"linecolor\": \"white\", \"ticks\": \"\", \"title\": {\"standoff\": 15}, \"zerolinecolor\": \"white\", \"zerolinewidth\": 2}}}},\n",
       "                        {\"responsive\": true}\n",
       "                    ).then(function(){\n",
       "                            \n",
       "var gd = document.getElementById('00ce64ca-d77f-4b63-834c-d29b2bfae1bd');\n",
       "var x = new MutationObserver(function (mutations, observer) {{\n",
       "        var display = window.getComputedStyle(gd).display;\n",
       "        if (!display || display === 'none') {{\n",
       "            console.log([gd, 'removed!']);\n",
       "            Plotly.purge(gd);\n",
       "            observer.disconnect();\n",
       "        }}\n",
       "}});\n",
       "\n",
       "// Listen for the removal of the full notebook cells\n",
       "var notebookContainer = gd.closest('#notebook-container');\n",
       "if (notebookContainer) {{\n",
       "    x.observe(notebookContainer, {childList: true});\n",
       "}}\n",
       "\n",
       "// Listen for the clearing of the current output cell\n",
       "var outputEl = gd.closest('.output');\n",
       "if (outputEl) {{\n",
       "    x.observe(outputEl, {childList: true});\n",
       "}}\n",
       "\n",
       "                        })\n",
       "                };\n",
       "                });\n",
       "            </script>\n",
       "        </div>"
      ]
     },
     "metadata": {},
     "output_type": "display_data"
    }
   ],
   "source": [
    "# 残差の可視化\n",
    "fig = px.choropleth(\n",
    "    df,\n",
    "    locations=\"code3\",\n",
    "    color=\"y-y_hat\",\n",
    "    hover_name=\"country\",\n",
    "    #range_color=[0,102],\n",
    "    #animation_frame='variable',\n",
    "    #projection=\"natural earth\",\n",
    "    color_continuous_scale=list(reversed(px.colors.sequential.RdBu)),\n",
    "                                )\n",
    "plotly.offline.plot(fig, filename=NEW_DIR_PATH + \"y_hatの可視化.html\")\n",
    "fig.show()"
   ]
  },
  {
   "cell_type": "code",
   "execution_count": 514,
   "metadata": {},
   "outputs": [
    {
     "data": {
      "text/html": [
       "<div>\n",
       "<style scoped>\n",
       "    .dataframe tbody tr th:only-of-type {\n",
       "        vertical-align: middle;\n",
       "    }\n",
       "\n",
       "    .dataframe tbody tr th {\n",
       "        vertical-align: top;\n",
       "    }\n",
       "\n",
       "    .dataframe thead th {\n",
       "        text-align: right;\n",
       "    }\n",
       "</style>\n",
       "<table border=\"1\" class=\"dataframe\">\n",
       "  <thead>\n",
       "    <tr style=\"text-align: right;\">\n",
       "      <th></th>\n",
       "      <th>実験名</th>\n",
       "      <th>memo</th>\n",
       "      <th>説明変数</th>\n",
       "      <th>分布1のβ</th>\n",
       "      <th>分布2のβ</th>\n",
       "      <th>混合比率</th>\n",
       "      <th>平均</th>\n",
       "      <th>分散</th>\n",
       "      <th>対数尤度</th>\n",
       "      <th>パラメータ数</th>\n",
       "      <th>AIC</th>\n",
       "      <th>決定係数</th>\n",
       "      <th>RMSE</th>\n",
       "      <th>MAE</th>\n",
       "    </tr>\n",
       "  </thead>\n",
       "  <tbody>\n",
       "    <tr>\n",
       "      <th>0</th>\n",
       "      <td>exp20</td>\n",
       "      <td>pop/hfを除く、HDI/median_age/dist_italyを追加</td>\n",
       "      <td>[dist, urb, gdp, air, detection, HDI, median_a...</td>\n",
       "      <td>[60.5314, 10.7684, 0.4372, 0.9072, -2.5906, -5...</td>\n",
       "      <td>[68.4583, 0.9673, -2.9911, 0.0344, -1.6676, -2...</td>\n",
       "      <td>[0.403, 0.597]</td>\n",
       "      <td>[60.5314, 68.4583]</td>\n",
       "      <td>[628.2457, 67.3004]</td>\n",
       "      <td>-571.9342</td>\n",
       "      <td>22</td>\n",
       "      <td>1187.8684</td>\n",
       "      <td>0.4995</td>\n",
       "      <td>12.8474</td>\n",
       "      <td>9.5211</td>\n",
       "    </tr>\n",
       "  </tbody>\n",
       "</table>\n",
       "</div>"
      ],
      "text/plain": [
       "     実験名                                    memo  \\\n",
       "0  exp20  pop/hfを除く、HDI/median_age/dist_italyを追加   \n",
       "\n",
       "                                                説明変数  \\\n",
       "0  [dist, urb, gdp, air, detection, HDI, median_a...   \n",
       "\n",
       "                                               分布1のβ  \\\n",
       "0  [60.5314, 10.7684, 0.4372, 0.9072, -2.5906, -5...   \n",
       "\n",
       "                                               分布2のβ            混合比率  \\\n",
       "0  [68.4583, 0.9673, -2.9911, 0.0344, -1.6676, -2...  [0.403, 0.597]   \n",
       "\n",
       "                   平均                   分散      対数尤度  パラメータ数        AIC  \\\n",
       "0  [60.5314, 68.4583]  [628.2457, 67.3004] -571.9342      22  1187.8684   \n",
       "\n",
       "     決定係数     RMSE     MAE  \n",
       "0  0.4995  12.8474  9.5211  "
      ]
     },
     "execution_count": 514,
     "metadata": {},
     "output_type": "execute_result"
    }
   ],
   "source": [
    "write_df = pd.DataFrame({\n",
    "    \"実験名\":exp_name,\n",
    "    \"memo\":memo,\n",
    "    \"説明変数\":[FEATS],\n",
    "    \"分布1のβ\":[coef_vec[0].round(4)],\n",
    "    \"分布2のβ\":[coef_vec[1].round(4)],\n",
    "    \"混合比率\":[lambda_vec.round(4)],\n",
    "    \"平均\":[np.round(mu_vec, 4)],\n",
    "    \"分散\":[np.round(sigma2_vec, 4)],\n",
    "    \"対数尤度\":log_likelihood.round(4),\n",
    "    \"パラメータ数\":k,\n",
    "    \"AIC\":aic.round(4),\n",
    "    \"決定係数\":r2.round(4),\n",
    "    \"RMSE\":rmse.round(4),\n",
    "    \"MAE\":mae.round(4)\n",
    "})\n",
    "write_df"
   ]
  },
  {
   "cell_type": "code",
   "execution_count": 515,
   "metadata": {},
   "outputs": [],
   "source": [
    "PATH=\"output/2成分混合回帰実験管理.xlsx\"\n",
    "excel_df = pd.read_excel(PATH)\n",
    "excel_df = pd.concat([excel_df, write_df]).reset_index(drop=True)\n",
    "excel_df.to_excel(PATH, sheet_name = \"all\", index=False)\n",
    "\n",
    "#write_df.to_excel(PATH, sheet_name = exp_name)"
   ]
  },
  {
   "cell_type": "code",
   "execution_count": 516,
   "metadata": {},
   "outputs": [
    {
     "data": {
      "text/plain": [
       "'output/exp20/2成分混合回帰モデル_変数選択.ipynb'"
      ]
     },
     "execution_count": 516,
     "metadata": {},
     "output_type": "execute_result"
    }
   ],
   "source": [
    "FILE_NAME = \"2成分混合回帰モデル_変数選択.ipynb\"\n",
    "f\"{NEW_DIR_PATH}{FILE_NAME}\""
   ]
  },
  {
   "cell_type": "code",
   "execution_count": 517,
   "metadata": {},
   "outputs": [],
   "source": [
    "!cp \"2成分混合回帰モデル_変数選択.ipynb\" 'output/exp20/2成分混合回帰モデル_変数選択.ipynb'"
   ]
  },
  {
   "cell_type": "markdown",
   "metadata": {},
   "source": [
    "# t値"
   ]
  },
  {
   "cell_type": "code",
   "execution_count": 276,
   "metadata": {},
   "outputs": [
    {
     "name": "stdout",
     "output_type": "stream",
     "text": [
      "std_err :  [1.58074003 1.50827569 2.22946661 2.17364351 1.61957918 1.68649391\n",
      " 4.38710441 3.39265018]\n"
     ]
    }
   ],
   "source": [
    "sse =  np.sum((y - y_hat) **2, axis=0)\n",
    "sse = sse / (X.shape[0] - X.shape[1] -1 )\n",
    "X_tmp = X-X.mean()\n",
    "ss_ij = np.linalg.inv(X_tmp.T@X_tmp)\n",
    "std_err2 = np.sqrt(np.diagonal(sse * ss_ij))\n",
    "std_err2\n",
    "\n",
    "print(\"std_err : \", std_err2)"
   ]
  },
  {
   "cell_type": "code",
   "execution_count": 277,
   "metadata": {},
   "outputs": [],
   "source": [
    "t_value1 = coef_vec[0]/std_err2\n",
    "t_value2 = coef_vec[1]/std_err2"
   ]
  },
  {
   "cell_type": "markdown",
   "metadata": {},
   "source": [
    "# p値"
   ]
  },
  {
   "cell_type": "code",
   "execution_count": 278,
   "metadata": {},
   "outputs": [
    {
     "data": {
      "text/html": [
       "<div>\n",
       "<style scoped>\n",
       "    .dataframe tbody tr th:only-of-type {\n",
       "        vertical-align: middle;\n",
       "    }\n",
       "\n",
       "    .dataframe tbody tr th {\n",
       "        vertical-align: top;\n",
       "    }\n",
       "\n",
       "    .dataframe thead th {\n",
       "        text-align: right;\n",
       "    }\n",
       "</style>\n",
       "<table border=\"1\" class=\"dataframe\">\n",
       "  <thead>\n",
       "    <tr style=\"text-align: right;\">\n",
       "      <th></th>\n",
       "      <th>0</th>\n",
       "    </tr>\n",
       "  </thead>\n",
       "  <tbody>\n",
       "    <tr>\n",
       "      <th>0</th>\n",
       "      <td>0.000</td>\n",
       "    </tr>\n",
       "    <tr>\n",
       "      <th>1</th>\n",
       "      <td>0.664</td>\n",
       "    </tr>\n",
       "    <tr>\n",
       "      <th>2</th>\n",
       "      <td>0.629</td>\n",
       "    </tr>\n",
       "    <tr>\n",
       "      <th>3</th>\n",
       "      <td>0.673</td>\n",
       "    </tr>\n",
       "    <tr>\n",
       "      <th>4</th>\n",
       "      <td>0.570</td>\n",
       "    </tr>\n",
       "    <tr>\n",
       "      <th>5</th>\n",
       "      <td>0.534</td>\n",
       "    </tr>\n",
       "    <tr>\n",
       "      <th>6</th>\n",
       "      <td>0.055</td>\n",
       "    </tr>\n",
       "    <tr>\n",
       "      <th>7</th>\n",
       "      <td>0.238</td>\n",
       "    </tr>\n",
       "  </tbody>\n",
       "</table>\n",
       "</div>"
      ],
      "text/plain": [
       "       0\n",
       "0  0.000\n",
       "1  0.664\n",
       "2  0.629\n",
       "3  0.673\n",
       "4  0.570\n",
       "5  0.534\n",
       "6  0.055\n",
       "7  0.238"
      ]
     },
     "execution_count": 278,
     "metadata": {},
     "output_type": "execute_result"
    }
   ],
   "source": [
    "from scipy import stats\n",
    "p_values1 =[2*(1-stats.t.cdf(np.abs(i),(len(X)-len(X[0])))) for i in t_value1]\n",
    "pd.DataFrame(np.round(p_values1, 3))"
   ]
  },
  {
   "cell_type": "code",
   "execution_count": 279,
   "metadata": {},
   "outputs": [
    {
     "data": {
      "text/html": [
       "<div>\n",
       "<style scoped>\n",
       "    .dataframe tbody tr th:only-of-type {\n",
       "        vertical-align: middle;\n",
       "    }\n",
       "\n",
       "    .dataframe tbody tr th {\n",
       "        vertical-align: top;\n",
       "    }\n",
       "\n",
       "    .dataframe thead th {\n",
       "        text-align: right;\n",
       "    }\n",
       "</style>\n",
       "<table border=\"1\" class=\"dataframe\">\n",
       "  <thead>\n",
       "    <tr style=\"text-align: right;\">\n",
       "      <th></th>\n",
       "      <th>0</th>\n",
       "    </tr>\n",
       "  </thead>\n",
       "  <tbody>\n",
       "    <tr>\n",
       "      <th>0</th>\n",
       "      <td>0.000</td>\n",
       "    </tr>\n",
       "    <tr>\n",
       "      <th>1</th>\n",
       "      <td>0.000</td>\n",
       "    </tr>\n",
       "    <tr>\n",
       "      <th>2</th>\n",
       "      <td>0.299</td>\n",
       "    </tr>\n",
       "    <tr>\n",
       "      <th>3</th>\n",
       "      <td>0.522</td>\n",
       "    </tr>\n",
       "    <tr>\n",
       "      <th>4</th>\n",
       "      <td>0.001</td>\n",
       "    </tr>\n",
       "    <tr>\n",
       "      <th>5</th>\n",
       "      <td>0.161</td>\n",
       "    </tr>\n",
       "    <tr>\n",
       "      <th>6</th>\n",
       "      <td>0.499</td>\n",
       "    </tr>\n",
       "    <tr>\n",
       "      <th>7</th>\n",
       "      <td>0.761</td>\n",
       "    </tr>\n",
       "  </tbody>\n",
       "</table>\n",
       "</div>"
      ],
      "text/plain": [
       "       0\n",
       "0  0.000\n",
       "1  0.000\n",
       "2  0.299\n",
       "3  0.522\n",
       "4  0.001\n",
       "5  0.161\n",
       "6  0.499\n",
       "7  0.761"
      ]
     },
     "execution_count": 279,
     "metadata": {},
     "output_type": "execute_result"
    }
   ],
   "source": [
    "from scipy import stats\n",
    "p_values2 =[2*(1-stats.t.cdf(np.abs(i),(len(X)-len(X[0])))) for i in t_value2]\n",
    "pd.DataFrame(np.round(p_values2, 3))"
   ]
  },
  {
   "cell_type": "code",
   "execution_count": 280,
   "metadata": {},
   "outputs": [
    {
     "data": {
      "text/html": [
       "<div>\n",
       "<style scoped>\n",
       "    .dataframe tbody tr th:only-of-type {\n",
       "        vertical-align: middle;\n",
       "    }\n",
       "\n",
       "    .dataframe tbody tr th {\n",
       "        vertical-align: top;\n",
       "    }\n",
       "\n",
       "    .dataframe thead th {\n",
       "        text-align: right;\n",
       "    }\n",
       "</style>\n",
       "<table border=\"1\" class=\"dataframe\">\n",
       "  <thead>\n",
       "    <tr style=\"text-align: right;\">\n",
       "      <th></th>\n",
       "      <th>分布1</th>\n",
       "      <th>分布1_p値</th>\n",
       "      <th>分布2</th>\n",
       "      <th>分布2_p値</th>\n",
       "    </tr>\n",
       "  </thead>\n",
       "  <tbody>\n",
       "    <tr>\n",
       "      <th>Intercept</th>\n",
       "      <td>26.6494</td>\n",
       "      <td>0.0000</td>\n",
       "      <td>68.6690</td>\n",
       "      <td>0.0000</td>\n",
       "    </tr>\n",
       "    <tr>\n",
       "      <th>pop</th>\n",
       "      <td>0.6565</td>\n",
       "      <td>0.6641</td>\n",
       "      <td>-9.6678</td>\n",
       "      <td>0.0000</td>\n",
       "    </tr>\n",
       "    <tr>\n",
       "      <th>urb</th>\n",
       "      <td>-1.0796</td>\n",
       "      <td>0.6290</td>\n",
       "      <td>-2.3227</td>\n",
       "      <td>0.2993</td>\n",
       "    </tr>\n",
       "    <tr>\n",
       "      <th>gdp</th>\n",
       "      <td>-0.9199</td>\n",
       "      <td>0.6728</td>\n",
       "      <td>-1.3965</td>\n",
       "      <td>0.5216</td>\n",
       "    </tr>\n",
       "    <tr>\n",
       "      <th>air</th>\n",
       "      <td>-0.9232</td>\n",
       "      <td>0.5696</td>\n",
       "      <td>5.3491</td>\n",
       "      <td>0.0012</td>\n",
       "    </tr>\n",
       "    <tr>\n",
       "      <th>detection</th>\n",
       "      <td>-1.0517</td>\n",
       "      <td>0.5339</td>\n",
       "      <td>-2.3792</td>\n",
       "      <td>0.1605</td>\n",
       "    </tr>\n",
       "    <tr>\n",
       "      <th>HDI</th>\n",
       "      <td>8.4942</td>\n",
       "      <td>0.0549</td>\n",
       "      <td>-2.9751</td>\n",
       "      <td>0.4988</td>\n",
       "    </tr>\n",
       "    <tr>\n",
       "      <th>median_age</th>\n",
       "      <td>-4.0207</td>\n",
       "      <td>0.2380</td>\n",
       "      <td>-1.0335</td>\n",
       "      <td>0.7611</td>\n",
       "    </tr>\n",
       "  </tbody>\n",
       "</table>\n",
       "</div>"
      ],
      "text/plain": [
       "                分布1  分布1_p値      分布2  分布2_p値\n",
       "Intercept   26.6494  0.0000  68.6690  0.0000\n",
       "pop          0.6565  0.6641  -9.6678  0.0000\n",
       "urb         -1.0796  0.6290  -2.3227  0.2993\n",
       "gdp         -0.9199  0.6728  -1.3965  0.5216\n",
       "air         -0.9232  0.5696   5.3491  0.0012\n",
       "detection   -1.0517  0.5339  -2.3792  0.1605\n",
       "HDI          8.4942  0.0549  -2.9751  0.4988\n",
       "median_age  -4.0207  0.2380  -1.0335  0.7611"
      ]
     },
     "execution_count": 280,
     "metadata": {},
     "output_type": "execute_result"
    }
   ],
   "source": [
    "res_df = pd.DataFrame(coef_vec[0].round(4), index=[\"Intercept\"]+FEATS,  columns=[\"分布1\"])\n",
    "res_df[\"分布1_p値\"] =np.round(p_values1, 4)\n",
    "res_df[\"分布2\"] = coef_vec[1].round(4)\n",
    "res_df[\"分布2_p値\"] =np.round(p_values2, 4)\n",
    "res_df"
   ]
  },
  {
   "cell_type": "code",
   "execution_count": 141,
   "metadata": {},
   "outputs": [
    {
     "data": {
      "text/html": [
       "<table class=\"simpletable\">\n",
       "<caption>OLS Regression Results</caption>\n",
       "<tr>\n",
       "  <th>Dep. Variable:</th>       <td>date_first</td>    <th>  R-squared:         </th> <td>   0.252</td>\n",
       "</tr>\n",
       "<tr>\n",
       "  <th>Model:</th>                   <td>OLS</td>       <th>  Adj. R-squared:    </th> <td>  -0.176</td>\n",
       "</tr>\n",
       "<tr>\n",
       "  <th>Method:</th>             <td>Least Squares</td>  <th>  F-statistic:       </th> <td>  0.5888</td>\n",
       "</tr>\n",
       "<tr>\n",
       "  <th>Date:</th>             <td>Wed, 30 Dec 2020</td> <th>  Prob (F-statistic):</th>  <td> 0.772</td> \n",
       "</tr>\n",
       "<tr>\n",
       "  <th>Time:</th>                 <td>20:56:31</td>     <th>  Log-Likelihood:    </th> <td> -67.274</td>\n",
       "</tr>\n",
       "<tr>\n",
       "  <th>No. Observations:</th>      <td>    23</td>      <th>  AIC:               </th> <td>   152.5</td>\n",
       "</tr>\n",
       "<tr>\n",
       "  <th>Df Residuals:</th>          <td>    14</td>      <th>  BIC:               </th> <td>   162.8</td>\n",
       "</tr>\n",
       "<tr>\n",
       "  <th>Df Model:</th>              <td>     8</td>      <th>                     </th>     <td> </td>   \n",
       "</tr>\n",
       "<tr>\n",
       "  <th>Covariance Type:</th>      <td>nonrobust</td>    <th>                     </th>     <td> </td>   \n",
       "</tr>\n",
       "</table>\n",
       "<table class=\"simpletable\">\n",
       "<tr>\n",
       "    <td></td>       <th>coef</th>     <th>std err</th>      <th>t</th>      <th>P>|t|</th>  <th>[0.025</th>    <th>0.975]</th>  \n",
       "</tr>\n",
       "<tr>\n",
       "  <th>const</th> <td>   26.5896</td> <td>    2.944</td> <td>    9.032</td> <td> 0.000</td> <td>   20.276</td> <td>   32.904</td>\n",
       "</tr>\n",
       "<tr>\n",
       "  <th>x1</th>    <td>    0.7216</td> <td>    0.639</td> <td>    1.130</td> <td> 0.277</td> <td>   -0.648</td> <td>    2.091</td>\n",
       "</tr>\n",
       "<tr>\n",
       "  <th>x2</th>    <td>   -1.6057</td> <td>    3.202</td> <td>   -0.501</td> <td> 0.624</td> <td>   -8.473</td> <td>    5.261</td>\n",
       "</tr>\n",
       "<tr>\n",
       "  <th>x3</th>    <td>    1.8206</td> <td>    4.682</td> <td>    0.389</td> <td> 0.703</td> <td>   -8.222</td> <td>   11.863</td>\n",
       "</tr>\n",
       "<tr>\n",
       "  <th>x4</th>    <td>   -1.1825</td> <td>    0.782</td> <td>   -1.512</td> <td> 0.153</td> <td>   -2.860</td> <td>    0.495</td>\n",
       "</tr>\n",
       "<tr>\n",
       "  <th>x5</th>    <td>   -0.5281</td> <td>    2.236</td> <td>   -0.236</td> <td> 0.817</td> <td>   -5.324</td> <td>    4.268</td>\n",
       "</tr>\n",
       "<tr>\n",
       "  <th>x6</th>    <td>   -3.5598</td> <td>    3.417</td> <td>   -1.042</td> <td> 0.315</td> <td>  -10.888</td> <td>    3.768</td>\n",
       "</tr>\n",
       "<tr>\n",
       "  <th>x7</th>    <td>    5.8831</td> <td>    7.171</td> <td>    0.820</td> <td> 0.426</td> <td>   -9.498</td> <td>   21.264</td>\n",
       "</tr>\n",
       "<tr>\n",
       "  <th>x8</th>    <td>   -0.6978</td> <td>    0.914</td> <td>   -0.764</td> <td> 0.458</td> <td>   -2.658</td> <td>    1.262</td>\n",
       "</tr>\n",
       "</table>\n",
       "<table class=\"simpletable\">\n",
       "<tr>\n",
       "  <th>Omnibus:</th>       <td> 1.004</td> <th>  Durbin-Watson:     </th> <td>   2.317</td>\n",
       "</tr>\n",
       "<tr>\n",
       "  <th>Prob(Omnibus):</th> <td> 0.605</td> <th>  Jarque-Bera (JB):  </th> <td>   0.797</td>\n",
       "</tr>\n",
       "<tr>\n",
       "  <th>Skew:</th>          <td>-0.428</td> <th>  Prob(JB):          </th> <td>   0.671</td>\n",
       "</tr>\n",
       "<tr>\n",
       "  <th>Kurtosis:</th>      <td> 2.684</td> <th>  Cond. No.          </th> <td>    21.1</td>\n",
       "</tr>\n",
       "</table><br/><br/>Warnings:<br/>[1] Standard Errors assume that the covariance matrix of the errors is correctly specified."
      ],
      "text/plain": [
       "<class 'statsmodels.iolib.summary.Summary'>\n",
       "\"\"\"\n",
       "                            OLS Regression Results                            \n",
       "==============================================================================\n",
       "Dep. Variable:             date_first   R-squared:                       0.252\n",
       "Model:                            OLS   Adj. R-squared:                 -0.176\n",
       "Method:                 Least Squares   F-statistic:                    0.5888\n",
       "Date:                Wed, 30 Dec 2020   Prob (F-statistic):              0.772\n",
       "Time:                        20:56:31   Log-Likelihood:                -67.274\n",
       "No. Observations:                  23   AIC:                             152.5\n",
       "Df Residuals:                      14   BIC:                             162.8\n",
       "Df Model:                           8                                         \n",
       "Covariance Type:            nonrobust                                         \n",
       "==============================================================================\n",
       "                 coef    std err          t      P>|t|      [0.025      0.975]\n",
       "------------------------------------------------------------------------------\n",
       "const         26.5896      2.944      9.032      0.000      20.276      32.904\n",
       "x1             0.7216      0.639      1.130      0.277      -0.648       2.091\n",
       "x2            -1.6057      3.202     -0.501      0.624      -8.473       5.261\n",
       "x3             1.8206      4.682      0.389      0.703      -8.222      11.863\n",
       "x4            -1.1825      0.782     -1.512      0.153      -2.860       0.495\n",
       "x5            -0.5281      2.236     -0.236      0.817      -5.324       4.268\n",
       "x6            -3.5598      3.417     -1.042      0.315     -10.888       3.768\n",
       "x7             5.8831      7.171      0.820      0.426      -9.498      21.264\n",
       "x8            -0.6978      0.914     -0.764      0.458      -2.658       1.262\n",
       "==============================================================================\n",
       "Omnibus:                        1.004   Durbin-Watson:                   2.317\n",
       "Prob(Omnibus):                  0.605   Jarque-Bera (JB):                0.797\n",
       "Skew:                          -0.428   Prob(JB):                        0.671\n",
       "Kurtosis:                       2.684   Cond. No.                         21.1\n",
       "==============================================================================\n",
       "\n",
       "Warnings:\n",
       "[1] Standard Errors assume that the covariance matrix of the errors is correctly specified.\n",
       "\"\"\""
      ]
     },
     "execution_count": 141,
     "metadata": {},
     "output_type": "execute_result"
    }
   ],
   "source": [
    "import statsmodels.api as sm\n",
    "  \n",
    "model_early = sm.OLS(y_early, sm.add_constant(x_early))\n",
    "result_early = model_early.fit()\n",
    "result_early.summary() "
   ]
  },
  {
   "cell_type": "code",
   "execution_count": 91,
   "metadata": {},
   "outputs": [
    {
     "data": {
      "text/html": [
       "<table class=\"simpletable\">\n",
       "<caption>OLS Regression Results</caption>\n",
       "<tr>\n",
       "  <th>Dep. Variable:</th>       <td>date_first</td>    <th>  R-squared:         </th> <td>   0.493</td>\n",
       "</tr>\n",
       "<tr>\n",
       "  <th>Model:</th>                   <td>OLS</td>       <th>  Adj. R-squared:    </th> <td>   0.471</td>\n",
       "</tr>\n",
       "<tr>\n",
       "  <th>Method:</th>             <td>Least Squares</td>  <th>  F-statistic:       </th> <td>   23.30</td>\n",
       "</tr>\n",
       "<tr>\n",
       "  <th>Date:</th>             <td>Mon, 07 Dec 2020</td> <th>  Prob (F-statistic):</th> <td>2.69e-16</td>\n",
       "</tr>\n",
       "<tr>\n",
       "  <th>Time:</th>                 <td>18:32:51</td>     <th>  Log-Likelihood:    </th> <td> -426.99</td>\n",
       "</tr>\n",
       "<tr>\n",
       "  <th>No. Observations:</th>      <td>   126</td>      <th>  AIC:               </th> <td>   866.0</td>\n",
       "</tr>\n",
       "<tr>\n",
       "  <th>Df Residuals:</th>          <td>   120</td>      <th>  BIC:               </th> <td>   883.0</td>\n",
       "</tr>\n",
       "<tr>\n",
       "  <th>Df Model:</th>              <td>     5</td>      <th>                     </th>     <td> </td>   \n",
       "</tr>\n",
       "<tr>\n",
       "  <th>Covariance Type:</th>      <td>nonrobust</td>    <th>                     </th>     <td> </td>   \n",
       "</tr>\n",
       "</table>\n",
       "<table class=\"simpletable\">\n",
       "<tr>\n",
       "    <td></td>       <th>coef</th>     <th>std err</th>      <th>t</th>      <th>P>|t|</th>  <th>[0.025</th>    <th>0.975]</th>  \n",
       "</tr>\n",
       "<tr>\n",
       "  <th>const</th> <td>   68.9275</td> <td>    0.751</td> <td>   91.785</td> <td> 0.000</td> <td>   67.441</td> <td>   70.414</td>\n",
       "</tr>\n",
       "<tr>\n",
       "  <th>x1</th>    <td>   -8.9373</td> <td>    2.156</td> <td>   -4.145</td> <td> 0.000</td> <td>  -13.206</td> <td>   -4.668</td>\n",
       "</tr>\n",
       "<tr>\n",
       "  <th>x2</th>    <td>   -4.0466</td> <td>    0.865</td> <td>   -4.679</td> <td> 0.000</td> <td>   -5.759</td> <td>   -2.334</td>\n",
       "</tr>\n",
       "<tr>\n",
       "  <th>x3</th>    <td>   -2.9779</td> <td>    0.948</td> <td>   -3.141</td> <td> 0.002</td> <td>   -4.855</td> <td>   -1.101</td>\n",
       "</tr>\n",
       "<tr>\n",
       "  <th>x4</th>    <td>    4.9255</td> <td>    2.745</td> <td>    1.794</td> <td> 0.075</td> <td>   -0.509</td> <td>   10.360</td>\n",
       "</tr>\n",
       "<tr>\n",
       "  <th>x5</th>    <td>   -3.2410</td> <td>    0.766</td> <td>   -4.234</td> <td> 0.000</td> <td>   -4.757</td> <td>   -1.725</td>\n",
       "</tr>\n",
       "</table>\n",
       "<table class=\"simpletable\">\n",
       "<tr>\n",
       "  <th>Omnibus:</th>       <td> 2.590</td> <th>  Durbin-Watson:     </th> <td>   2.105</td>\n",
       "</tr>\n",
       "<tr>\n",
       "  <th>Prob(Omnibus):</th> <td> 0.274</td> <th>  Jarque-Bera (JB):  </th> <td>   2.348</td>\n",
       "</tr>\n",
       "<tr>\n",
       "  <th>Skew:</th>          <td> 0.112</td> <th>  Prob(JB):          </th> <td>   0.309</td>\n",
       "</tr>\n",
       "<tr>\n",
       "  <th>Kurtosis:</th>      <td> 3.630</td> <th>  Cond. No.          </th> <td>    6.21</td>\n",
       "</tr>\n",
       "</table><br/><br/>Warnings:<br/>[1] Standard Errors assume that the covariance matrix of the errors is correctly specified."
      ],
      "text/plain": [
       "<class 'statsmodels.iolib.summary.Summary'>\n",
       "\"\"\"\n",
       "                            OLS Regression Results                            \n",
       "==============================================================================\n",
       "Dep. Variable:             date_first   R-squared:                       0.493\n",
       "Model:                            OLS   Adj. R-squared:                  0.471\n",
       "Method:                 Least Squares   F-statistic:                     23.30\n",
       "Date:                Mon, 07 Dec 2020   Prob (F-statistic):           2.69e-16\n",
       "Time:                        18:32:51   Log-Likelihood:                -426.99\n",
       "No. Observations:                 126   AIC:                             866.0\n",
       "Df Residuals:                     120   BIC:                             883.0\n",
       "Df Model:                           5                                         \n",
       "Covariance Type:            nonrobust                                         \n",
       "==============================================================================\n",
       "                 coef    std err          t      P>|t|      [0.025      0.975]\n",
       "------------------------------------------------------------------------------\n",
       "const         68.9275      0.751     91.785      0.000      67.441      70.414\n",
       "x1            -8.9373      2.156     -4.145      0.000     -13.206      -4.668\n",
       "x2            -4.0466      0.865     -4.679      0.000      -5.759      -2.334\n",
       "x3            -2.9779      0.948     -3.141      0.002      -4.855      -1.101\n",
       "x4             4.9255      2.745      1.794      0.075      -0.509      10.360\n",
       "x5            -3.2410      0.766     -4.234      0.000      -4.757      -1.725\n",
       "==============================================================================\n",
       "Omnibus:                        2.590   Durbin-Watson:                   2.105\n",
       "Prob(Omnibus):                  0.274   Jarque-Bera (JB):                2.348\n",
       "Skew:                           0.112   Prob(JB):                        0.309\n",
       "Kurtosis:                       3.630   Cond. No.                         6.21\n",
       "==============================================================================\n",
       "\n",
       "Warnings:\n",
       "[1] Standard Errors assume that the covariance matrix of the errors is correctly specified.\n",
       "\"\"\""
      ]
     },
     "execution_count": 91,
     "metadata": {},
     "output_type": "execute_result"
    }
   ],
   "source": [
    "import statsmodels.api as sm\n",
    "  \n",
    "model_late = sm.OLS(y_late, sm.add_constant(x_late))\n",
    "result_late = model_late.fit()\n",
    "result_late.summary() "
   ]
  },
  {
   "cell_type": "code",
   "execution_count": null,
   "metadata": {},
   "outputs": [],
   "source": []
  },
  {
   "cell_type": "markdown",
   "metadata": {},
   "source": [
    "### ✅hf, pop, urb, gdp, air, detection, dist_itary"
   ]
  },
  {
   "cell_type": "code",
   "execution_count": 69,
   "metadata": {},
   "outputs": [
    {
     "data": {
      "text/html": [
       "<div>\n",
       "<style scoped>\n",
       "    .dataframe tbody tr th:only-of-type {\n",
       "        vertical-align: middle;\n",
       "    }\n",
       "\n",
       "    .dataframe tbody tr th {\n",
       "        vertical-align: top;\n",
       "    }\n",
       "\n",
       "    .dataframe thead th {\n",
       "        text-align: right;\n",
       "    }\n",
       "</style>\n",
       "<table border=\"1\" class=\"dataframe\">\n",
       "  <thead>\n",
       "    <tr style=\"text-align: right;\">\n",
       "      <th></th>\n",
       "      <th>分布1</th>\n",
       "      <th>分布2</th>\n",
       "    </tr>\n",
       "  </thead>\n",
       "  <tbody>\n",
       "    <tr>\n",
       "      <th>Intercept</th>\n",
       "      <td>27.8169</td>\n",
       "      <td>68.9503</td>\n",
       "    </tr>\n",
       "    <tr>\n",
       "      <th>hf</th>\n",
       "      <td>2.1937</td>\n",
       "      <td>-0.9721</td>\n",
       "    </tr>\n",
       "    <tr>\n",
       "      <th>pop</th>\n",
       "      <td>0.3344</td>\n",
       "      <td>-9.8995</td>\n",
       "    </tr>\n",
       "    <tr>\n",
       "      <th>urb</th>\n",
       "      <td>-1.0413</td>\n",
       "      <td>-4.3070</td>\n",
       "    </tr>\n",
       "    <tr>\n",
       "      <th>gdp</th>\n",
       "      <td>0.4835</td>\n",
       "      <td>-1.9898</td>\n",
       "    </tr>\n",
       "    <tr>\n",
       "      <th>air</th>\n",
       "      <td>-0.6551</td>\n",
       "      <td>4.4905</td>\n",
       "    </tr>\n",
       "    <tr>\n",
       "      <th>detection</th>\n",
       "      <td>-1.0642</td>\n",
       "      <td>-2.5043</td>\n",
       "    </tr>\n",
       "    <tr>\n",
       "      <th>dist_italy</th>\n",
       "      <td>-2.3026</td>\n",
       "      <td>2.5252</td>\n",
       "    </tr>\n",
       "  </tbody>\n",
       "</table>\n",
       "</div>"
      ],
      "text/plain": [
       "                分布1      分布2\n",
       "Intercept   27.8169  68.9503\n",
       "hf           2.1937  -0.9721\n",
       "pop          0.3344  -9.8995\n",
       "urb         -1.0413  -4.3070\n",
       "gdp          0.4835  -1.9898\n",
       "air         -0.6551   4.4905\n",
       "detection   -1.0642  -2.5043\n",
       "dist_italy  -2.3026   2.5252"
      ]
     },
     "execution_count": 69,
     "metadata": {},
     "output_type": "execute_result"
    }
   ],
   "source": [
    "res_df"
   ]
  },
  {
   "cell_type": "code",
   "execution_count": 111,
   "metadata": {},
   "outputs": [
    {
     "name": "stdout",
     "output_type": "stream",
     "text": [
      "AIC 1169.1093682602955\n"
     ]
    }
   ],
   "source": [
    "k=len(coef_vec[0])+2 + len(coef_vec[1])+2\n",
    "aic = -2*(log_likelihood)+ 2 *(k)\n",
    "print(\"AIC\", aic)"
   ]
  },
  {
   "cell_type": "code",
   "execution_count": 72,
   "metadata": {},
   "outputs": [
    {
     "name": "stderr",
     "output_type": "stream",
     "text": [
      "/Users/masanoritakahashi/anaconda3/lib/python3.7/site-packages/ipykernel_launcher.py:2: DeprecationWarning: scipy.zeros_like is deprecated and will be removed in SciPy 2.0.0, use numpy.zeros_like instead\n",
      "  \n",
      "/Users/masanoritakahashi/anaconda3/lib/python3.7/site-packages/ipykernel_launcher.py:4: DeprecationWarning: scipy.arange is deprecated and will be removed in SciPy 2.0.0, use numpy.arange instead\n",
      "  after removing the cwd from sys.path.\n",
      "/Users/masanoritakahashi/anaconda3/lib/python3.7/site-packages/ipykernel_launcher.py:5: DeprecationWarning: scipy.sqrt is deprecated and will be removed in SciPy 2.0.0, use numpy.lib.scimath.sqrt instead\n",
      "  \"\"\"\n"
     ]
    },
    {
     "data": {
      "text/plain": [
       "[<matplotlib.lines.Line2D at 0x7fdf26791f98>]"
      ]
     },
     "execution_count": 72,
     "metadata": {},
     "output_type": "execute_result"
    },
    {
     "data": {
      "image/png": "[encoded data removed]",
      "text/plain": [
       "<Figure size 432x288 with 1 Axes>"
      ]
     },
     "metadata": {
      "needs_background": "light"
     },
     "output_type": "display_data"
    }
   ],
   "source": [
    "plt.hist(y, density=True)\n",
    "plt.plot(x, calc_mix_pdf(k_size, x, lambda_vec, coef_vec, sigma2_vec), label=\"ini\")"
   ]
  },
  {
   "cell_type": "markdown",
   "metadata": {},
   "source": [
    "### ✅hf, pop, urb, gdp, air, dist"
   ]
  },
  {
   "cell_type": "code",
   "execution_count": 159,
   "metadata": {},
   "outputs": [
    {
     "data": {
      "text/html": [
       "<div>\n",
       "<style scoped>\n",
       "    .dataframe tbody tr th:only-of-type {\n",
       "        vertical-align: middle;\n",
       "    }\n",
       "\n",
       "    .dataframe tbody tr th {\n",
       "        vertical-align: top;\n",
       "    }\n",
       "\n",
       "    .dataframe thead th {\n",
       "        text-align: right;\n",
       "    }\n",
       "</style>\n",
       "<table border=\"1\" class=\"dataframe\">\n",
       "  <thead>\n",
       "    <tr style=\"text-align: right;\">\n",
       "      <th></th>\n",
       "      <th>早期感染国</th>\n",
       "      <th>晩期感染国</th>\n",
       "    </tr>\n",
       "  </thead>\n",
       "  <tbody>\n",
       "    <tr>\n",
       "      <th>Intercept</th>\n",
       "      <td>60.2320</td>\n",
       "      <td>68.3693</td>\n",
       "    </tr>\n",
       "    <tr>\n",
       "      <th>hf</th>\n",
       "      <td>-6.7426</td>\n",
       "      <td>-1.8981</td>\n",
       "    </tr>\n",
       "    <tr>\n",
       "      <th>pop</th>\n",
       "      <td>-1.7336</td>\n",
       "      <td>-7.4032</td>\n",
       "    </tr>\n",
       "    <tr>\n",
       "      <th>urb</th>\n",
       "      <td>-4.9434</td>\n",
       "      <td>-4.0617</td>\n",
       "    </tr>\n",
       "    <tr>\n",
       "      <th>gdp</th>\n",
       "      <td>-0.5626</td>\n",
       "      <td>-1.3212</td>\n",
       "    </tr>\n",
       "    <tr>\n",
       "      <th>air</th>\n",
       "      <td>-3.4071</td>\n",
       "      <td>2.0536</td>\n",
       "    </tr>\n",
       "    <tr>\n",
       "      <th>dist</th>\n",
       "      <td>13.1993</td>\n",
       "      <td>1.7964</td>\n",
       "    </tr>\n",
       "  </tbody>\n",
       "</table>\n",
       "</div>"
      ],
      "text/plain": [
       "             早期感染国    晩期感染国\n",
       "Intercept  60.2320  68.3693\n",
       "hf         -6.7426  -1.8981\n",
       "pop        -1.7336  -7.4032\n",
       "urb        -4.9434  -4.0617\n",
       "gdp        -0.5626  -1.3212\n",
       "air        -3.4071   2.0536\n",
       "dist       13.1993   1.7964"
      ]
     },
     "execution_count": 159,
     "metadata": {},
     "output_type": "execute_result"
    }
   ],
   "source": [
    "res_df"
   ]
  },
  {
   "cell_type": "code",
   "execution_count": 160,
   "metadata": {},
   "outputs": [
    {
     "data": {
      "text/html": [
       "<div>\n",
       "<style scoped>\n",
       "    .dataframe tbody tr th:only-of-type {\n",
       "        vertical-align: middle;\n",
       "    }\n",
       "\n",
       "    .dataframe tbody tr th {\n",
       "        vertical-align: top;\n",
       "    }\n",
       "\n",
       "    .dataframe thead th {\n",
       "        text-align: right;\n",
       "    }\n",
       "</style>\n",
       "<table border=\"1\" class=\"dataframe\">\n",
       "  <thead>\n",
       "    <tr style=\"text-align: right;\">\n",
       "      <th></th>\n",
       "      <th>早期感染国β(初期値)</th>\n",
       "      <th>晩期感染国β(初期値)</th>\n",
       "    </tr>\n",
       "  </thead>\n",
       "  <tbody>\n",
       "    <tr>\n",
       "      <th>Intercept</th>\n",
       "      <td>34.144527</td>\n",
       "      <td>68.705715</td>\n",
       "    </tr>\n",
       "    <tr>\n",
       "      <th>hf</th>\n",
       "      <td>-0.574947</td>\n",
       "      <td>-2.193724</td>\n",
       "    </tr>\n",
       "    <tr>\n",
       "      <th>pop</th>\n",
       "      <td>0.704297</td>\n",
       "      <td>-9.775305</td>\n",
       "    </tr>\n",
       "    <tr>\n",
       "      <th>urb</th>\n",
       "      <td>-1.465996</td>\n",
       "      <td>-4.893013</td>\n",
       "    </tr>\n",
       "    <tr>\n",
       "      <th>gdp</th>\n",
       "      <td>0.742538</td>\n",
       "      <td>-1.552997</td>\n",
       "    </tr>\n",
       "    <tr>\n",
       "      <th>air</th>\n",
       "      <td>-1.592736</td>\n",
       "      <td>3.112941</td>\n",
       "    </tr>\n",
       "    <tr>\n",
       "      <th>dist</th>\n",
       "      <td>7.020140</td>\n",
       "      <td>2.045302</td>\n",
       "    </tr>\n",
       "  </tbody>\n",
       "</table>\n",
       "</div>"
      ],
      "text/plain": [
       "           早期感染国β(初期値)  晩期感染国β(初期値)\n",
       "Intercept    34.144527    68.705715\n",
       "hf           -0.574947    -2.193724\n",
       "pop           0.704297    -9.775305\n",
       "urb          -1.465996    -4.893013\n",
       "gdp           0.742538    -1.552997\n",
       "air          -1.592736     3.112941\n",
       "dist          7.020140     2.045302"
      ]
     },
     "execution_count": 160,
     "metadata": {},
     "output_type": "execute_result"
    }
   ],
   "source": [
    "first_df"
   ]
  },
  {
   "cell_type": "code",
   "execution_count": 161,
   "metadata": {},
   "outputs": [
    {
     "name": "stderr",
     "output_type": "stream",
     "text": [
      "/Users/masanoritakahashi/anaconda3/lib/python3.7/site-packages/ipykernel_launcher.py:2: DeprecationWarning: scipy.zeros_like is deprecated and will be removed in SciPy 2.0.0, use numpy.zeros_like instead\n",
      "  \n",
      "/Users/masanoritakahashi/anaconda3/lib/python3.7/site-packages/ipykernel_launcher.py:4: DeprecationWarning: scipy.arange is deprecated and will be removed in SciPy 2.0.0, use numpy.arange instead\n",
      "  after removing the cwd from sys.path.\n",
      "/Users/masanoritakahashi/anaconda3/lib/python3.7/site-packages/ipykernel_launcher.py:5: DeprecationWarning: scipy.sqrt is deprecated and will be removed in SciPy 2.0.0, use numpy.lib.scimath.sqrt instead\n",
      "  \"\"\"\n"
     ]
    },
    {
     "data": {
      "text/plain": [
       "[<matplotlib.lines.Line2D at 0x7faef12d6198>]"
      ]
     },
     "execution_count": 161,
     "metadata": {},
     "output_type": "execute_result"
    },
    {
     "data": {
      "image/png": "[encoded data removed]",
      "text/plain": [
       "<Figure size 432x288 with 1 Axes>"
      ]
     },
     "metadata": {
      "needs_background": "light"
     },
     "output_type": "display_data"
    }
   ],
   "source": [
    "plt.hist(y, density=True)\n",
    "plt.plot(x, calc_mix_pdf(k_size, x, lambda_vec, coef_vec, sigma2_vec), label=\"ini\")"
   ]
  },
  {
   "cell_type": "markdown",
   "metadata": {},
   "source": [
    "### ✅hf, pop, urb, gdp, air, detection"
   ]
  },
  {
   "cell_type": "code",
   "execution_count": 200,
   "metadata": {},
   "outputs": [
    {
     "data": {
      "text/html": [
       "<div>\n",
       "<style scoped>\n",
       "    .dataframe tbody tr th:only-of-type {\n",
       "        vertical-align: middle;\n",
       "    }\n",
       "\n",
       "    .dataframe tbody tr th {\n",
       "        vertical-align: top;\n",
       "    }\n",
       "\n",
       "    .dataframe thead th {\n",
       "        text-align: right;\n",
       "    }\n",
       "</style>\n",
       "<table border=\"1\" class=\"dataframe\">\n",
       "  <thead>\n",
       "    <tr style=\"text-align: right;\">\n",
       "      <th></th>\n",
       "      <th>早期感染国</th>\n",
       "      <th>晩期感染国</th>\n",
       "    </tr>\n",
       "  </thead>\n",
       "  <tbody>\n",
       "    <tr>\n",
       "      <th>Intercept</th>\n",
       "      <td>27.6720</td>\n",
       "      <td>68.8998</td>\n",
       "    </tr>\n",
       "    <tr>\n",
       "      <th>hf</th>\n",
       "      <td>3.7881</td>\n",
       "      <td>-0.6450</td>\n",
       "    </tr>\n",
       "    <tr>\n",
       "      <th>pop</th>\n",
       "      <td>0.3898</td>\n",
       "      <td>-9.3063</td>\n",
       "    </tr>\n",
       "    <tr>\n",
       "      <th>urb</th>\n",
       "      <td>-0.2511</td>\n",
       "      <td>-4.0103</td>\n",
       "    </tr>\n",
       "    <tr>\n",
       "      <th>gdp</th>\n",
       "      <td>-0.1208</td>\n",
       "      <td>-2.8115</td>\n",
       "    </tr>\n",
       "    <tr>\n",
       "      <th>air</th>\n",
       "      <td>-0.6565</td>\n",
       "      <td>4.9016</td>\n",
       "    </tr>\n",
       "    <tr>\n",
       "      <th>detection</th>\n",
       "      <td>-2.4609</td>\n",
       "      <td>-2.9686</td>\n",
       "    </tr>\n",
       "  </tbody>\n",
       "</table>\n",
       "</div>"
      ],
      "text/plain": [
       "             早期感染国    晩期感染国\n",
       "Intercept  27.6720  68.8998\n",
       "hf          3.7881  -0.6450\n",
       "pop         0.3898  -9.3063\n",
       "urb        -0.2511  -4.0103\n",
       "gdp        -0.1208  -2.8115\n",
       "air        -0.6565   4.9016\n",
       "detection  -2.4609  -2.9686"
      ]
     },
     "execution_count": 200,
     "metadata": {},
     "output_type": "execute_result"
    }
   ],
   "source": [
    "res_df"
   ]
  },
  {
   "cell_type": "code",
   "execution_count": 201,
   "metadata": {},
   "outputs": [
    {
     "data": {
      "text/html": [
       "<div>\n",
       "<style scoped>\n",
       "    .dataframe tbody tr th:only-of-type {\n",
       "        vertical-align: middle;\n",
       "    }\n",
       "\n",
       "    .dataframe tbody tr th {\n",
       "        vertical-align: top;\n",
       "    }\n",
       "\n",
       "    .dataframe thead th {\n",
       "        text-align: right;\n",
       "    }\n",
       "</style>\n",
       "<table border=\"1\" class=\"dataframe\">\n",
       "  <thead>\n",
       "    <tr style=\"text-align: right;\">\n",
       "      <th></th>\n",
       "      <th>早期感染国β(初期値)</th>\n",
       "      <th>晩期感染国β(初期値)</th>\n",
       "    </tr>\n",
       "  </thead>\n",
       "  <tbody>\n",
       "    <tr>\n",
       "      <th>Intercept</th>\n",
       "      <td>27.706694</td>\n",
       "      <td>68.924369</td>\n",
       "    </tr>\n",
       "    <tr>\n",
       "      <th>hf</th>\n",
       "      <td>3.847780</td>\n",
       "      <td>-0.651066</td>\n",
       "    </tr>\n",
       "    <tr>\n",
       "      <th>pop</th>\n",
       "      <td>0.389038</td>\n",
       "      <td>-9.473606</td>\n",
       "    </tr>\n",
       "    <tr>\n",
       "      <th>urb</th>\n",
       "      <td>-0.212951</td>\n",
       "      <td>-3.997060</td>\n",
       "    </tr>\n",
       "    <tr>\n",
       "      <th>gdp</th>\n",
       "      <td>-0.160500</td>\n",
       "      <td>-2.824348</td>\n",
       "    </tr>\n",
       "    <tr>\n",
       "      <th>air</th>\n",
       "      <td>-0.655912</td>\n",
       "      <td>5.035802</td>\n",
       "    </tr>\n",
       "    <tr>\n",
       "      <th>detection</th>\n",
       "      <td>-2.507140</td>\n",
       "      <td>-2.943951</td>\n",
       "    </tr>\n",
       "  </tbody>\n",
       "</table>\n",
       "</div>"
      ],
      "text/plain": [
       "           早期感染国β(初期値)  晩期感染国β(初期値)\n",
       "Intercept    27.706694    68.924369\n",
       "hf            3.847780    -0.651066\n",
       "pop           0.389038    -9.473606\n",
       "urb          -0.212951    -3.997060\n",
       "gdp          -0.160500    -2.824348\n",
       "air          -0.655912     5.035802\n",
       "detection    -2.507140    -2.943951"
      ]
     },
     "execution_count": 201,
     "metadata": {},
     "output_type": "execute_result"
    }
   ],
   "source": [
    "first_df"
   ]
  },
  {
   "cell_type": "code",
   "execution_count": 133,
   "metadata": {},
   "outputs": [
    {
     "name": "stderr",
     "output_type": "stream",
     "text": [
      "/Users/masanoritakahashi/anaconda3/lib/python3.7/site-packages/ipykernel_launcher.py:2: DeprecationWarning: scipy.zeros_like is deprecated and will be removed in SciPy 2.0.0, use numpy.zeros_like instead\n",
      "  \n",
      "/Users/masanoritakahashi/anaconda3/lib/python3.7/site-packages/ipykernel_launcher.py:4: DeprecationWarning: scipy.arange is deprecated and will be removed in SciPy 2.0.0, use numpy.arange instead\n",
      "  after removing the cwd from sys.path.\n",
      "/Users/masanoritakahashi/anaconda3/lib/python3.7/site-packages/ipykernel_launcher.py:5: DeprecationWarning: scipy.sqrt is deprecated and will be removed in SciPy 2.0.0, use numpy.lib.scimath.sqrt instead\n",
      "  \"\"\"\n"
     ]
    },
    {
     "data": {
      "text/plain": [
       "Text(0.5, 1.0, '推定された分布')"
      ]
     },
     "execution_count": 133,
     "metadata": {},
     "output_type": "execute_result"
    },
    {
     "data": {
      "image/png": "[encoded data removed]",
      "text/plain": [
       "<Figure size 432x288 with 1 Axes>"
      ]
     },
     "metadata": {
      "needs_background": "light"
     },
     "output_type": "display_data"
    }
   ],
   "source": [
    "plt.hist(y, density=True)\n",
    "plt.plot(x, calc_mix_pdf(k_size, x, lambda_vec, coef_vec, sigma2_vec), label=\"ini\")\n",
    "plt.title(\"推定された分布\")"
   ]
  },
  {
   "cell_type": "markdown",
   "metadata": {},
   "source": [
    "### ✅hf, pop, urb, gdp, air"
   ]
  },
  {
   "cell_type": "code",
   "execution_count": 134,
   "metadata": {},
   "outputs": [
    {
     "data": {
      "text/html": [
       "<div>\n",
       "<style scoped>\n",
       "    .dataframe tbody tr th:only-of-type {\n",
       "        vertical-align: middle;\n",
       "    }\n",
       "\n",
       "    .dataframe tbody tr th {\n",
       "        vertical-align: top;\n",
       "    }\n",
       "\n",
       "    .dataframe thead th {\n",
       "        text-align: right;\n",
       "    }\n",
       "</style>\n",
       "<table border=\"1\" class=\"dataframe\">\n",
       "  <thead>\n",
       "    <tr style=\"text-align: right;\">\n",
       "      <th></th>\n",
       "      <th>早期感染国</th>\n",
       "      <th>晩期感染国</th>\n",
       "    </tr>\n",
       "  </thead>\n",
       "  <tbody>\n",
       "    <tr>\n",
       "      <th>Intercept</th>\n",
       "      <td>25.9985</td>\n",
       "      <td>68.8723</td>\n",
       "    </tr>\n",
       "    <tr>\n",
       "      <th>hf</th>\n",
       "      <td>2.2768</td>\n",
       "      <td>-1.9647</td>\n",
       "    </tr>\n",
       "    <tr>\n",
       "      <th>pop</th>\n",
       "      <td>0.5155</td>\n",
       "      <td>-10.5575</td>\n",
       "    </tr>\n",
       "    <tr>\n",
       "      <th>urb</th>\n",
       "      <td>-1.3567</td>\n",
       "      <td>-4.0571</td>\n",
       "    </tr>\n",
       "    <tr>\n",
       "      <th>gdp</th>\n",
       "      <td>1.1242</td>\n",
       "      <td>-2.8229</td>\n",
       "    </tr>\n",
       "    <tr>\n",
       "      <th>air</th>\n",
       "      <td>-0.9666</td>\n",
       "      <td>3.5627</td>\n",
       "    </tr>\n",
       "  </tbody>\n",
       "</table>\n",
       "</div>"
      ],
      "text/plain": [
       "             早期感染国    晩期感染国\n",
       "Intercept  25.9985  68.8723\n",
       "hf          2.2768  -1.9647\n",
       "pop         0.5155 -10.5575\n",
       "urb        -1.3567  -4.0571\n",
       "gdp         1.1242  -2.8229\n",
       "air        -0.9666   3.5627"
      ]
     },
     "execution_count": 134,
     "metadata": {},
     "output_type": "execute_result"
    }
   ],
   "source": [
    "res_df"
   ]
  },
  {
   "cell_type": "code",
   "execution_count": 135,
   "metadata": {},
   "outputs": [
    {
     "data": {
      "text/html": [
       "<div>\n",
       "<style scoped>\n",
       "    .dataframe tbody tr th:only-of-type {\n",
       "        vertical-align: middle;\n",
       "    }\n",
       "\n",
       "    .dataframe tbody tr th {\n",
       "        vertical-align: top;\n",
       "    }\n",
       "\n",
       "    .dataframe thead th {\n",
       "        text-align: right;\n",
       "    }\n",
       "</style>\n",
       "<table border=\"1\" class=\"dataframe\">\n",
       "  <thead>\n",
       "    <tr style=\"text-align: right;\">\n",
       "      <th></th>\n",
       "      <th>早期感染国β(初期値)</th>\n",
       "      <th>晩期感染国β(初期値)</th>\n",
       "    </tr>\n",
       "  </thead>\n",
       "  <tbody>\n",
       "    <tr>\n",
       "      <th>Intercept</th>\n",
       "      <td>26.053547</td>\n",
       "      <td>68.907071</td>\n",
       "    </tr>\n",
       "    <tr>\n",
       "      <th>hf</th>\n",
       "      <td>2.282413</td>\n",
       "      <td>-1.960874</td>\n",
       "    </tr>\n",
       "    <tr>\n",
       "      <th>pop</th>\n",
       "      <td>0.516722</td>\n",
       "      <td>-10.823974</td>\n",
       "    </tr>\n",
       "    <tr>\n",
       "      <th>urb</th>\n",
       "      <td>-1.277986</td>\n",
       "      <td>-4.032543</td>\n",
       "    </tr>\n",
       "    <tr>\n",
       "      <th>gdp</th>\n",
       "      <td>1.067690</td>\n",
       "      <td>-2.843152</td>\n",
       "    </tr>\n",
       "    <tr>\n",
       "      <th>air</th>\n",
       "      <td>-0.975720</td>\n",
       "      <td>3.781667</td>\n",
       "    </tr>\n",
       "  </tbody>\n",
       "</table>\n",
       "</div>"
      ],
      "text/plain": [
       "           早期感染国β(初期値)  晩期感染国β(初期値)\n",
       "Intercept    26.053547    68.907071\n",
       "hf            2.282413    -1.960874\n",
       "pop           0.516722   -10.823974\n",
       "urb          -1.277986    -4.032543\n",
       "gdp           1.067690    -2.843152\n",
       "air          -0.975720     3.781667"
      ]
     },
     "execution_count": 135,
     "metadata": {},
     "output_type": "execute_result"
    }
   ],
   "source": [
    "first_df"
   ]
  },
  {
   "cell_type": "code",
   "execution_count": 136,
   "metadata": {},
   "outputs": [
    {
     "name": "stderr",
     "output_type": "stream",
     "text": [
      "/Users/masanoritakahashi/anaconda3/lib/python3.7/site-packages/ipykernel_launcher.py:2: DeprecationWarning: scipy.zeros_like is deprecated and will be removed in SciPy 2.0.0, use numpy.zeros_like instead\n",
      "  \n",
      "/Users/masanoritakahashi/anaconda3/lib/python3.7/site-packages/ipykernel_launcher.py:4: DeprecationWarning: scipy.arange is deprecated and will be removed in SciPy 2.0.0, use numpy.arange instead\n",
      "  after removing the cwd from sys.path.\n",
      "/Users/masanoritakahashi/anaconda3/lib/python3.7/site-packages/ipykernel_launcher.py:5: DeprecationWarning: scipy.sqrt is deprecated and will be removed in SciPy 2.0.0, use numpy.lib.scimath.sqrt instead\n",
      "  \"\"\"\n"
     ]
    },
    {
     "data": {
      "text/plain": [
       "[<matplotlib.lines.Line2D at 0x7faeef6c0ac8>]"
      ]
     },
     "execution_count": 136,
     "metadata": {},
     "output_type": "execute_result"
    },
    {
     "data": {
      "image/png": "[encoded data removed]",
      "text/plain": [
       "<Figure size 432x288 with 1 Axes>"
      ]
     },
     "metadata": {
      "needs_background": "light"
     },
     "output_type": "display_data"
    }
   ],
   "source": [
    "plt.hist(y, density=True)\n",
    "plt.plot(x, calc_mix_pdf(k_size, x, lambda_vec, coef_vec, sigma2_vec), label=\"ini\")"
   ]
  },
  {
   "cell_type": "markdown",
   "metadata": {},
   "source": [
    "# 改善事項  \n",
    "- p値  \n",
    "- 信頼区間  \n",
    "- AIC  \n",
    "  \n",
    "  \n",
    "- 対数化しない場合  \n",
    "- 変数選択  \n",
    "- f1とf2で変数を帰る"
   ]
  },
  {
   "cell_type": "markdown",
   "metadata": {},
   "source": [
    "# 散布図行列"
   ]
  },
  {
   "cell_type": "code",
   "execution_count": 116,
   "metadata": {},
   "outputs": [],
   "source": [
    "data = df.copy()\n",
    "data = data[[\"date_first\", \"hf\", \"pop\",  \"urb\", \"gdp\",\"dist\", \"air\", \"detection\"]]\n",
    "data[\"flag\"]=0\n",
    "data.loc[data[\"date_first\"]>40, \"flag\"]=1"
   ]
  },
  {
   "cell_type": "code",
   "execution_count": 26,
   "metadata": {},
   "outputs": [
    {
     "name": "stderr",
     "output_type": "stream",
     "text": [
      "/Users/masanoritakahashi/anaconda3/lib/python3.7/site-packages/ipykernel_launcher.py:2: RuntimeWarning: divide by zero encountered in log\n",
      "  \n"
     ]
    },
    {
     "data": {
      "text/plain": [
       "<seaborn.axisgrid.PairGrid at 0x7fed23d011d0>"
      ]
     },
     "execution_count": 26,
     "metadata": {},
     "output_type": "execute_result"
    },
    {
     "data": {
      "image/png": "[encoded data removed]",
      "text/plain": [
       "<Figure size 1491.62x1440 with 72 Axes>"
      ]
     },
     "metadata": {
      "needs_background": "light"
     },
     "output_type": "display_data"
    }
   ],
   "source": [
    "import seaborn as sns\n",
    "sns.pairplot(np.log(data), hue='flag')"
   ]
  },
  {
   "cell_type": "code",
   "execution_count": null,
   "metadata": {},
   "outputs": [],
   "source": []
  }
 ],
 "metadata": {
  "kernelspec": {
   "display_name": "Python 3",
   "language": "python",
   "name": "python3"
  },
  "language_info": {
   "codemirror_mode": {
    "name": "ipython",
    "version": 3
   },
   "file_extension": ".py",
   "mimetype": "text/x-python",
   "name": "python",
   "nbconvert_exporter": "python",
   "pygments_lexer": "ipython3",
   "version": "3.7.3"
  }
 },
 "nbformat": 4,
 "nbformat_minor": 4
}
