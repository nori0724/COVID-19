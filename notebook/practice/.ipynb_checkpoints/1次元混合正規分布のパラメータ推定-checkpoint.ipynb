{
 "cells": [
  {
   "cell_type": "markdown",
   "metadata": {},
   "source": [
    "# 1次元の混合正規分布に対してのEMアルゴリズムを実装・描画\n",
    "- https://cartman0.hatenablog.com/entry/2019/07/01/EM%E3%82%A2%E3%83%AB%E3%82%B4%E3%83%AA%E3%82%BA%E3%83%A0%E3%81%A7%E6%B7%B7%E5%90%88%E6%AD%A3%E8%A6%8F%E5%88%86%E5%B8%83%28MoG%29%E3%81%AE%E3%83%91%E3%83%A9%E3%83%A1%E3%83%BC%E3%82%BF%E3%82%92%E5%B0%8E\n",
    "-  https://qiita.com/ta-ka/items/3e8b127620ac92a32864"
   ]
  },
  {
   "cell_type": "code",
   "execution_count": 1,
   "metadata": {},
   "outputs": [],
   "source": [
    "import scipy as sp\n",
    "from scipy import stats\n",
    "import matplotlib.pyplot as plt\n",
    "import numpy as np\n",
    "\n",
    "%matplotlib inline\n"
   ]
  },
  {
   "cell_type": "code",
   "execution_count": 22,
   "metadata": {},
   "outputs": [
    {
     "name": "stderr",
     "output_type": "stream",
     "text": [
      "/Users/masanoritakahashi/anaconda3/lib/python3.7/site-packages/ipykernel_launcher.py:1: DeprecationWarning: scipy.empty is deprecated and will be removed in SciPy 2.0.0, use numpy.empty instead\n",
      "  \"\"\"Entry point for launching an IPython kernel.\n"
     ]
    },
    {
     "data": {
      "text/plain": [
       "array([[0.  , 0.05, 0.1 ],\n",
       "       [0.15, 0.2 , 0.25]])"
      ]
     },
     "execution_count": 22,
     "metadata": {},
     "output_type": "execute_result"
    }
   ],
   "source": [
    "sp.empty((2,3))"
   ]
  },
  {
   "cell_type": "code",
   "execution_count": 6,
   "metadata": {},
   "outputs": [],
   "source": [
    "# E-step\n",
    "def EStep(k_size, data_x, lambda_vec, mu_vec, sigma2_vec):\n",
    "    '''\n",
    "    data_x[i]\n",
    "    lambda[k]\n",
    "    mu[k]\n",
    "    sigma[k]\n",
    "    '''\n",
    "    I = len(data_x)\n",
    "    # 中身を初期化せずに配列を作成する関数である。\n",
    "    # 2行, 1000列の配列を生成\n",
    "    responsibility = sp.empty((k_size, I))\n",
    "    \n",
    "    for k in sp.arange(k_size):\n",
    "        norm = stats.norm(loc=mu_vec[k], scale=sp.sqrt(sigma2_vec[k]))\n",
    "        responsibility[k] = norm.pdf(data_x)\n",
    "\n",
    "    responsibility = responsibility / sp.sum(responsibility, axis=0)\n",
    "    return responsibility\n",
    "\n",
    "def MStep(k_size, responsibility, data_x):\n",
    "\n",
    "    lambda_vec = sp.empty(k_size)\n",
    "    mu_vec = sp.empty(k_size)\n",
    "    sigma2_vec = sp.empty(k_size)\n",
    "\n",
    "    for k in sp.arange(k_size):\n",
    "        r_k = responsibility[k]\n",
    "        lambda_vec[k] = sp.sum(r_k) / sp.sum(responsibility)\n",
    "        mu_vec[k] = sp.sum(r_k * data_x) / sp.sum(r_k)\n",
    "        sigma2_vec[k] = sp.sum(r_k * (data_x - mu_vec[k])**2) / sp.sum(r_k)\n",
    "\n",
    "    return lambda_vec, mu_vec, sigma2_vec"
   ]
  },
  {
   "cell_type": "code",
   "execution_count": 7,
   "metadata": {},
   "outputs": [],
   "source": [
    "def calc_mix_pdf(k_size, x, lambda_vec, mu_vec, sigma2_vec):\n",
    "    pdf = sp.zeros_like(x)\n",
    "\n",
    "    for k in sp.arange(k_size):\n",
    "        norm_k = stats.norm(loc=mu_vec[k], scale=sp.sqrt(sigma2_vec[k]))\n",
    "        \n",
    "        # pdf (Probability density function) 確率密度関数\n",
    "        # xのときの値を取得\n",
    "        pdf += lambda_vec[k] * norm_k.pdf(x)\n",
    "    return pdf"
   ]
  },
  {
   "cell_type": "markdown",
   "metadata": {},
   "source": [
    "# データの生成  \n",
    "- f1：平均2, 分散1, データ数667    \n",
    "- f2：平均-2, 分散1, データ数333  \n",
    "- f1とf2の割合は2/3:1/3"
   ]
  },
  {
   "cell_type": "code",
   "execution_count": 106,
   "metadata": {},
   "outputs": [
    {
     "name": "stderr",
     "output_type": "stream",
     "text": [
      "/Users/masanoritakahashi/anaconda3/lib/python3.7/site-packages/ipykernel_launcher.py:5: DeprecationWarning: scipy.sqrt is deprecated and will be removed in SciPy 2.0.0, use numpy.lib.scimath.sqrt instead\n",
      "  \"\"\"\n",
      "/Users/masanoritakahashi/anaconda3/lib/python3.7/site-packages/ipykernel_launcher.py:7: DeprecationWarning: scipy.sqrt is deprecated and will be removed in SciPy 2.0.0, use numpy.lib.scimath.sqrt instead\n",
      "  import sys\n",
      "/Users/masanoritakahashi/anaconda3/lib/python3.7/site-packages/ipykernel_launcher.py:14: DeprecationWarning: scipy.hstack is deprecated and will be removed in SciPy 2.0.0, use numpy.hstack instead\n",
      "  \n"
     ]
    },
    {
     "data": {
      "text/plain": [
       "array([29.14369397, 49.97345447, 42.82978498, 24.93705286, 34.21399748,\n",
       "       56.51436537, 15.73320757, 35.71087371, 52.65936259, 31.33259598,\n",
       "       33.21113848, 39.05291031, 54.91389626, 33.61098003, 35.5601804 ,\n",
       "       35.65648724, 62.05930083, 61.86786089, 50.04053898, 43.86186399,\n",
       "       47.37368576, 54.90732028, 30.64166132, 51.75829045, 27.46119332,\n",
       "       33.62248498, 49.07105196, 25.713193  , 38.5993128 , 31.38245104,\n",
       "       37.44380629, 12.01410895, 22.28466895, 33.00122765, 49.27462432,\n",
       "       38.26364317, 40.02845916, 46.88222711, 31.20463657, 42.83627324,\n",
       "       31.94633482, 22.72330506, 36.09100206, 45.73805862, 43.38589051,\n",
       "       39.88169506, 63.92365266, 44.1291216 , 49.78736006, 62.38143338,\n",
       "       27.05914677, 29.6121179 , 57.43712225, 32.01937265, 40.2968323 ,\n",
       "       50.69315969, 48.90706391, 57.54886182, 54.95644137, 50.6939267 ,\n",
       "       32.27291286, 47.94862668, 43.14271995, 26.7373454 , 54.17299046,\n",
       "       48.07236535, 40.45490081, 37.66907939, 28.01698855, 41.99524074,\n",
       "       44.68439119, 31.68845016, 51.62204049, 29.02796954, 18.7689965 ,\n",
       "       50.39727091, 35.96633962, 38.73970415, 31.62483277, 23.94037239,\n",
       "       52.55237375, 33.11131016, 56.60952488, 48.07308186, 36.85241853,\n",
       "       29.14097599, 32.67538013, 27.87476869, 60.8711336 , 41.6444123 ,\n",
       "       51.50205543, 27.32647951, 41.8103513 , 51.77861939, 36.64989238,\n",
       "       50.31114459, 29.15432088, 26.36528455, 43.79400612, 36.20823565,\n",
       "       46.42054689, 20.22112068, 47.12264635, 65.98303927, 39.75374019,\n",
       "       40.34142129, 41.79549485, 21.38024289, 44.2614664 , 23.94590256,\n",
       "       35.72320402, 52.4286955 , 32.64783044, 45.0124899 , 50.12739054,\n",
       "       42.78740856, 26.2905153 , 36.67524725, 59.59411342, 19.74954237,\n",
       "       37.24213986, 34.47891929, 41.20747363, 47.48215617, 56.08690968,\n",
       "       37.29767608, 48.1234133 , 44.99740145, 44.74347298, 34.36076068,\n",
       "       30.02678531, 28.99956887, 32.43562791, 43.21686576, 47.60949393,\n",
       "       43.23468848, 34.51044904, 58.0597011 , 55.18865624, 36.45999887,\n",
       "       31.76568594, 41.30214954, 52.67298645, 43.32764977, 45.56548705,\n",
       "       37.87919878, 44.56270895, 55.44544451, 37.60331219, 41.43307733,\n",
       "       42.53816477, 42.83725356, 25.88111124, 21.23131344, 29.80344929,\n",
       "       41.67942295, 45.53856166, 34.6932544 , 53.77257483, 38.56824026,\n",
       "       40.20315998, 38.06036129, 41.34026793, 47.04474074, 46.65653438,\n",
       "       31.01577059, 55.23663776, 29.04973543, 40.79227014, 37.25603426,\n",
       "       29.51008323, 39.24879412, 32.59186227, 40.72907243, 44.03085961,\n",
       "       54.71929369, 43.07384219, 33.8877466 , 36.08380189, 41.39978106,\n",
       "       40.93460829, 54.59589268, 53.9535293 , 36.41064074, 34.51357872,\n",
       "       14.42945396, 34.51079587, 30.21942294, 36.45175542, 43.91584242,\n",
       "       41.77192329, 39.70031993, 41.99582111, 38.73882227, 41.97018933,\n",
       "        7.68944992, 37.3070651 , 38.89149279, 36.58738284, 37.82053738,\n",
       "       47.03310118, 34.01894669, 62.00702099, 46.8829693 , 39.93692749,\n",
       "       37.93337697, 39.13477714, 30.8469293 , 39.04797461, 42.78683517,\n",
       "       45.79541616, 45.79689779, 37.25122453, 25.83917747, 33.30897374,\n",
       "       56.12193043, 48.96058313, 43.69619586, 32.38705755, 40.03645155,\n",
       "       27.44331314, 34.48063124, 37.54796658, 36.38360068, 49.56601931,\n",
       "       25.81274086, 31.34567728, 26.25312029, 27.62646787, 41.24055896,\n",
       "       23.99559467, 47.53868779, 37.53184223, 40.68788333, 43.22576738,\n",
       "       35.6583348 , 50.32479716, 38.05657273, 45.94070255, 38.00887617,\n",
       "       42.90874387, 42.7966267 , 42.49969939, 30.2569215 , 44.35875771,\n",
       "       36.81043011, 46.3048803 , 18.47506556, 25.34883778, 43.63445562,\n",
       "       58.62927585, 48.35058747, 33.17549066, 23.07947585, 47.42686221,\n",
       "       39.19416778, 45.90704218, 41.15298722, 40.29642925, 69.58625446,\n",
       "       39.93870039, 38.40754791, 38.78551325, 34.16463283, 49.90132895,\n",
       "       36.46245666, 46.35942706, 42.8460303 , 52.18985862, 44.20179597,\n",
       "       27.86615219, 26.73512215, 54.08369146, 33.91289197, 26.7939742 ,\n",
       "       33.303814  , 52.64625287, 25.79787001, 31.33504796, 33.33192491,\n",
       "       27.48810127, 28.15672661, 24.81892025, 35.38812587, 36.45091168,\n",
       "       33.17461846, 23.46302161, 52.53335947, 26.70921171, 42.78033712,\n",
       "       29.25233407, 46.68316867, 49.55832355, 31.22386413, 20.7628427 ,\n",
       "       46.95787319, 58.75800547, 44.1569454 , 41.60544421, 48.1976061 ,\n",
       "       47.65054846, 31.71011166, 33.40848689, 46.1112355 , 38.55986653,\n",
       "       53.16605596, 32.95657853, 47.50609917, 43.42637981, 38.73562436,\n",
       "       51.75910772, 46.80071533, 29.95032847, 46.4021868 , 53.74990631,\n",
       "       38.69555311, 37.5134415 , 33.30352852, 39.86396114, 46.86200686,\n",
       "       31.823317  , 26.53642439, 36.24250089, 26.20275021, 45.23218441,\n",
       "       35.7331023 , 22.44598155, 36.51392485, 38.07385014, 44.49135613,\n",
       "       38.54636457, 58.68726457, 34.81296148, 39.37601451, 38.97089386,\n",
       "       37.17371616, 41.42425585, 45.41231297, 53.40098704, 24.30743873,\n",
       "       34.89657126, 35.52228575, 49.37850297, 36.43336939, 21.04824407,\n",
       "       40.87730464, 39.66310768, 41.79751566, 29.59837119, 57.19034681,\n",
       "       36.76140216, 38.11703142, 30.9999143 , 30.68997996, 27.7726304 ,\n",
       "       36.06689148, 30.42418161, 60.56467341, 21.1150762 , 28.71669452,\n",
       "       35.98585572, 46.73491278, 35.86243119, 46.75963393, 30.13196111,\n",
       "       40.59291134, 57.44041087, 30.32255604, 44.19567676, 42.06927519,\n",
       "       17.48465014, 34.11029454, 51.31151905, 41.35077672, 27.87731037,\n",
       "       46.90777273, 35.20877055, 43.60050728, 43.76920114, 28.81304399,\n",
       "       47.89828035, 29.92491199, 26.94214134, 31.17171012, 36.53909966,\n",
       "       41.09403156, 32.27416268, 47.44819312, 42.51464184, 33.05201785,\n",
       "       48.88992918, 51.61068358, 39.01315303, 37.85016955, 22.26228647,\n",
       "       35.92487408, 37.08493287, 42.45379407, 38.31573568, 42.44026938,\n",
       "       55.34090289, 34.70085901, 35.09027717, 26.90834686, 39.91339533,\n",
       "       49.76812982, 22.48929651, 33.34143033, 40.35940503, 48.50102884,\n",
       "       43.82870239, 43.25463628, 37.75687214, 44.81874257, 50.14303884,\n",
       "       22.91008223, 47.28535401, 39.01240194, 34.70011136, 15.56924214,\n",
       "       26.19648676, 56.98058992, 33.11451468, 29.15231229, 35.43574044,\n",
       "       32.54852778, 41.24358633, 55.16973678, 34.13384049, 41.54290051,\n",
       "       28.52762859, 55.20166442, 41.89043442, 29.18180877, 49.0430622 ,\n",
       "       51.99987649, 41.61456363, 23.60603032, 57.85168814, 43.10122521,\n",
       "       51.70454297, 34.49106795, 36.01376075, 41.10453109, 51.13401678,\n",
       "       41.42990028, 27.43166187, 42.61989197, 56.29534195, 40.65806282,\n",
       "       41.29385524, 27.37456257, 25.97010912, 33.62307861, 36.73482353,\n",
       "       41.04060735, 41.65956974, 56.01907651, 40.58687438, 50.64422688,\n",
       "       39.60670665, 54.48903612, 21.29602521, 34.01268233, 49.83033396,\n",
       "       38.28403995, 49.31529613, 43.85066103, 49.45876984, 46.13067728,\n",
       "       46.73648934, 54.92455387, 49.86474019, 49.93806707, 40.20418759,\n",
       "       34.1814979 , 33.40439912, 47.50944597, 15.61539436, 26.92821812,\n",
       "       30.36746314, 37.52378621, 13.68561963, 52.58721303, 46.00175236,\n",
       "       59.84582398, 50.62214469, 50.30379331, 62.50676031, 34.29041913,\n",
       "       24.96541601, 37.67642604, 31.75007946, 37.43154639, 29.4978101 ,\n",
       "       45.67880067, 45.1298285 , 39.73077409, 43.11581503, 38.57949273,\n",
       "       73.76016834, 70.34820375, 68.67277188, 74.64792235, 76.30410635,\n",
       "       76.68726913, 65.04862655, 67.32776396, 61.49251953, 68.80717491,\n",
       "       72.08061907, 69.33599413, 79.65425434, 67.97078312, 64.55745722,\n",
       "       72.84252103, 70.74966914, 72.74821298, 71.51893965, 71.2188288 ,\n",
       "       59.38850558, 66.36942986, 67.04837541, 68.26017831, 67.75804181,\n",
       "       72.06409381, 73.00441254, 64.34179537, 73.43402203, 72.92884069,\n",
       "       72.32885033, 62.91052756, 72.2029115 , 70.4129771 , 74.80440038,\n",
       "       78.92178398, 77.94033943, 70.56322086, 69.99062654, 73.15974142,\n",
       "       64.42480023, 62.74658429, 67.63734704, 76.10284457, 68.34435851,\n",
       "       77.51290453, 56.05943558, 62.06396787, 69.38155634, 74.44097271,\n",
       "       69.65188451, 69.52173628, 69.39129252, 61.18551133, 75.79034437,\n",
       "       66.5861764 , 75.44766329, 69.64738291, 75.34080194, 71.7162899 ,\n",
       "       69.46662755, 71.13130824, 62.63511195, 70.03014664, 78.58020161,\n",
       "       76.54096782, 65.07488209, 72.52842926, 71.23989942, 74.0859414 ,\n",
       "       70.47076443, 68.83248003, 76.65315388, 71.08198284, 76.27732161,\n",
       "       74.87193102, 68.37756379, 69.16499863, 79.64916217, 70.95741163,\n",
       "       66.20685788, 63.99978361, 74.87066218, 70.80146861, 66.03954025,\n",
       "       73.37292416, 70.79874348, 61.69762465, 72.94342777, 76.66595351,\n",
       "       82.79925115, 70.17451282, 71.16324829, 78.03298403, 70.84361133,\n",
       "       71.37670932, 66.84690804, 63.02812444, 74.56343968, 63.63214882,\n",
       "       75.70328121, 66.05917221, 71.32616979, 68.13864134, 75.87300119,\n",
       "       71.50423201, 79.79547676, 64.5816116 , 72.06931541, 70.2367094 ,\n",
       "       71.39971786, 77.97960586, 72.92659015, 64.26237296, 72.66755409,\n",
       "       67.92190312, 67.63322515, 75.22928664, 66.98830008, 68.10134836,\n",
       "       70.16203627, 74.73092948, 72.90794901, 68.82792544, 68.63911767,\n",
       "       64.19935169, 66.20082456, 66.72809457, 69.25354529, 79.93381519,\n",
       "       66.62265283, 68.52085466, 59.73800798, 73.00285547, 62.11275603,\n",
       "       65.46705239, 75.21167684, 59.47535785, 70.47960206, 74.00464823,\n",
       "       77.62722118, 65.39953446, 66.87987575, 79.02218162, 69.87469928,\n",
       "       66.31868033, 66.41257081, 65.13721838, 67.80163897, 75.44110238,\n",
       "       74.43883034, 64.12864849, 71.07293037, 67.98920132, 73.91220202,\n",
       "       69.21820136, 71.85762341, 69.20697397, 59.06457035, 70.23501223,\n",
       "       63.64126525, 73.73564206, 66.60086054, 66.97493672, 69.95548587,\n",
       "       72.88896977, 69.15128091, 78.21091386, 78.24408931, 78.57734296,\n",
       "       68.82840638, 62.59020772, 76.10039257, 67.91827357, 70.19083156,\n",
       "       73.14160051, 61.977818  , 78.14560603, 74.37481165, 71.76135791,\n",
       "       74.45458375, 72.7847627 , 70.58414058, 68.46112839, 66.30428863,\n",
       "       71.4360714 , 71.8060153 , 75.41599401, 71.00330004, 65.73399242,\n",
       "       62.11883576, 69.36218919, 69.86270812, 69.50954209, 62.34743551,\n",
       "       75.3723257 , 75.36314873, 65.88357418, 74.02991056, 74.76415431,\n",
       "       70.19223538, 65.25750687, 78.06690768, 71.90460717, 68.74481272,\n",
       "       73.86422698, 78.11104244, 67.51419927, 73.45711273, 79.71580085,\n",
       "       64.41717583, 67.25373206, 67.0107246 , 69.20836431, 68.95013132,\n",
       "       71.5039772 , 65.8981224 , 66.88668256, 71.50645242, 70.7745593 ,\n",
       "       74.37039905, 72.04677512, 73.85923318, 64.2852398 , 68.08291844,\n",
       "       79.24189975, 71.96039023, 73.73696481, 71.36367369, 72.12667928,\n",
       "       68.84547974, 87.85789609, 68.01922039, 69.80839391, 57.87581837,\n",
       "       75.53133329, 67.23873525, 69.69602947, 67.35979725, 69.30658527,\n",
       "       68.57876451, 69.78479112, 69.73599259, 69.22897344, 69.16061387,\n",
       "       76.54259226, 74.4070846 , 74.43721159, 66.33775559, 76.28410416,\n",
       "       75.65822255, 67.23297836, 77.61926009, 66.58387029, 60.78984081,\n",
       "       75.50762993, 69.4024061 , 74.88460782, 66.22898919, 63.69114994,\n",
       "       76.15935894, 62.96365718, 62.19484744, 60.37206555, 56.02763851,\n",
       "       64.80447808, 59.15296021, 69.82197258, 58.81791325, 64.5286329 ,\n",
       "       81.66030998, 71.7256212 , 70.26402838, 61.8962401 , 68.77201167,\n",
       "       70.24054282, 61.97409602, 70.6309034 , 75.95616229, 68.25870941,\n",
       "       69.01381816, 59.78951792, 63.00383066, 75.28847551, 66.69224677,\n",
       "       65.35144183, 66.53708442, 69.71266936, 64.20792045, 70.63258253,\n",
       "       63.19996161, 73.87000001, 64.71472111, 76.60134159, 69.94983674,\n",
       "       65.77177786, 74.55730305, 63.1275156 , 67.26467177, 69.99962237,\n",
       "       69.39416598, 59.95707266, 65.39676729, 70.84117171, 63.4005422 ,\n",
       "       76.33214649, 72.47590444, 67.42879805, 68.89853767, 79.30782062,\n",
       "       74.67994225, 71.90109572, 62.92240615, 78.14805659, 75.26200534,\n",
       "       69.25797306, 67.25150965, 69.06048031, 63.9903166 , 67.64607221,\n",
       "       73.81580257, 60.96189361, 68.42962813, 70.56877986, 70.51784019,\n",
       "       64.10531523, 64.08923554, 75.44582691, 63.87735454, 75.04325478,\n",
       "       67.58817342, 75.39898175, 67.89460747, 64.1676434 , 74.28277428,\n",
       "       69.91304389, 77.24288293, 74.46100043, 68.85286686, 67.75166199,\n",
       "       70.11686172, 70.95105009, 65.59125737, 74.20969787, 68.01318254,\n",
       "       67.88486127, 67.29655831, 71.15508634, 66.53973699, 70.67485055,\n",
       "       83.83301536, 69.7319527 , 67.82997631, 61.66155386, 70.25110962,\n",
       "       64.45384528, 68.12220941, 70.75803797, 61.34505275, 70.78731376,\n",
       "       71.52257588, 63.5144999 , 68.03845404, 60.84666819, 77.87750468,\n",
       "       71.65281638, 69.1020575 , 69.18282085, 75.65721804, 69.52917224,\n",
       "       71.65408386, 77.5931478 , 68.26916426, 64.53682338, 65.87749713,\n",
       "       77.14331917, 70.45714154, 67.48834356, 74.8682219 , 74.98978693,\n",
       "       67.62176116, 65.14031581, 62.14735699, 61.0305554 , 68.67506774,\n",
       "       65.53402026, 79.29237205, 70.29268877, 60.28925228, 77.09364638,\n",
       "       70.80855155, 73.5248974 , 73.41017388, 71.48278284, 72.61671315,\n",
       "       71.19380336, 64.46807047, 71.83366099, 75.11952752, 68.94971794,\n",
       "       72.75651109, 72.09794573, 79.07826032, 68.7362485 , 68.53997919,\n",
       "       69.4153413 , 69.48804462, 58.63691145, 66.78695079, 71.49942533,\n",
       "       69.95871743, 66.00330423, 66.67610374, 68.22193436, 65.9921411 ,\n",
       "       67.43474695, 67.3030494 , 74.47685423, 75.08195634, 74.66792547,\n",
       "       72.133509  , 66.45838758, 74.79915225, 68.42874707, 70.11526104,\n",
       "       76.69110266, 70.41996428, 71.23642015, 62.93610257, 72.43504647,\n",
       "       65.09996676, 75.05969828, 69.07700411, 58.81915579, 68.20989949,\n",
       "       68.85982731, 72.42737613, 73.35256195, 68.36117878, 75.06434097,\n",
       "       54.16472336, 66.43005501, 64.43817865, 63.72908245, 74.79853186,\n",
       "       74.145852  , 66.1211499 , 75.89028502, 70.50733446, 67.8915795 ,\n",
       "       66.53538602, 66.10864137, 72.36387429, 73.2507745 , 71.19250606,\n",
       "       59.74891161, 71.48179328, 72.82698282, 66.65397197, 70.21625271,\n",
       "       60.6805785 , 63.85015469, 68.37882326, 68.45124428, 71.75839686,\n",
       "       64.06537307, 68.29396968, 67.5511011 , 72.64005237, 77.10521384,\n",
       "       78.6046016 , 62.15779977, 69.75992904, 64.43735345, 69.67627524,\n",
       "       72.1145964 , 70.40745449, 69.75494151, 77.41519587, 73.60494696,\n",
       "       68.63672769, 70.1210568 , 74.35448903, 73.04895253, 67.87461948,\n",
       "       61.12378579, 64.07671254, 70.72989613, 61.06736574, 69.23802751,\n",
       "       67.73215412, 74.99626402, 63.40978088, 60.34115511, 67.90179629,\n",
       "       73.17381566, 75.34959299, 65.45336492, 72.35131874, 64.44284776])"
      ]
     },
     "execution_count": 106,
     "metadata": {},
     "output_type": "execute_result"
    }
   ],
   "source": [
    "# 乱数seedの固定\n",
    "np.random.seed(seed=123)\n",
    "\n",
    "# 平均40, 分散100\n",
    "N1 = stats.norm(loc=40, scale=sp.sqrt(10*10))\n",
    "# 平均70, 分散25\n",
    "N2 = stats.norm(loc=70, scale=sp.sqrt(5*5))\n",
    "\n",
    "# rvs (Random variates) 確率変数\n",
    "s1 = N1.rvs(size=500)\n",
    "s2 = N2.rvs(size=500)\n",
    "\n",
    "# データの連結\n",
    "data_x = sp.hstack((s1, s2))\n",
    "data_x"
   ]
  },
  {
   "cell_type": "code",
   "execution_count": 107,
   "metadata": {},
   "outputs": [
    {
     "data": {
      "text/plain": [
       "(array([0.00037421, 0.00037421, 0.00149685, 0.00074842, 0.00224527,\n",
       "        0.00486476, 0.00711003, 0.01047794, 0.01309742, 0.01571691,\n",
       "        0.01796218, 0.02058166, 0.01945903, 0.01833639, 0.01571691,\n",
       "        0.012349  , 0.00823267, 0.00785845, 0.00598739, 0.01047794,\n",
       "        0.01422006, 0.02394957, 0.03667278, 0.04378281, 0.02694327,\n",
       "        0.02245272, 0.01085215, 0.00074842, 0.00074842, 0.00037421]),\n",
       " array([ 7.68944992, 10.36173146, 13.034013  , 15.70629454, 18.37857608,\n",
       "        21.05085762, 23.72313915, 26.39542069, 29.06770223, 31.73998377,\n",
       "        34.41226531, 37.08454685, 39.75682839, 42.42910993, 45.10139147,\n",
       "        47.77367301, 50.44595454, 53.11823608, 55.79051762, 58.46279916,\n",
       "        61.1350807 , 63.80736224, 66.47964378, 69.15192532, 71.82420686,\n",
       "        74.4964884 , 77.16876993, 79.84105147, 82.51333301, 85.18561455,\n",
       "        87.85789609]),\n",
       " <a list of 30 Patch objects>)"
      ]
     },
     "execution_count": 107,
     "metadata": {},
     "output_type": "execute_result"
    },
    {
     "data": {
      "image/png": "[encoded data removed]",
      "text/plain": [
       "<Figure size 432x288 with 1 Axes>"
      ]
     },
     "metadata": {
      "needs_background": "light"
     },
     "output_type": "display_data"
    }
   ],
   "source": [
    "plt.hist(data_x, bins=30, density=True)"
   ]
  },
  {
   "cell_type": "markdown",
   "metadata": {},
   "source": [
    "## 初期値の設定  \n",
    "- データをランダムに2分割  \n",
    "- それぞれの平均値を初期値に用いる\n",
    "- 分散は全体の標本分散を用いる  \n",
    "  \n",
    "## 参考\n",
    "- 入門　パターン認識と機械学習(https://www.coronasha.co.jp/np/isbn/9784339024791/)\n"
   ]
  },
  {
   "cell_type": "code",
   "execution_count": 126,
   "metadata": {},
   "outputs": [],
   "source": [
    "# データをランダムに2分割\n",
    "random_x = np.split(data_x, 2)\n",
    "random_x1 = random_x[0]\n",
    "random_x2 = random_x[1]"
   ]
  },
  {
   "cell_type": "code",
   "execution_count": 127,
   "metadata": {},
   "outputs": [
    {
     "name": "stdout",
     "output_type": "stream",
     "text": [
      "mu1の初期値 39.61356026486789\n",
      "sigma1の初期値 328.4103363668116\n",
      "mu2の初期値 69.79757850675811\n",
      "sigma2の初期値 252.68708246909324\n"
     ]
    }
   ],
   "source": [
    "mu1_first = np.mean(random_x1)\n",
    "sigma1_first = np.sum((random_x1 - np.mean(data_x))**2)/random_x1.shape[0]\n",
    "print(\"mu1の初期値\", mu1_first)\n",
    "print(\"sigma1の初期値\", sigma1_first)\n",
    "\n",
    "mu2_first = np.mean(random_x2)\n",
    "sigma2_first = np.sum((random_x2 - np.mean(data_x))**2)/random_x2.shape[0]\n",
    "print(\"mu2の初期値\", mu2_first)\n",
    "print(\"sigma2の初期値\", sigma2_first)"
   ]
  },
  {
   "cell_type": "code",
   "execution_count": 128,
   "metadata": {},
   "outputs": [
    {
     "name": "stderr",
     "output_type": "stream",
     "text": [
      "/Users/masanoritakahashi/anaconda3/lib/python3.7/site-packages/ipykernel_launcher.py:13: DeprecationWarning: scipy.linspace is deprecated and will be removed in SciPy 2.0.0, use numpy.linspace instead\n",
      "  del sys.path[0]\n",
      "/Users/masanoritakahashi/anaconda3/lib/python3.7/site-packages/ipykernel_launcher.py:2: DeprecationWarning: scipy.zeros_like is deprecated and will be removed in SciPy 2.0.0, use numpy.zeros_like instead\n",
      "  \n",
      "/Users/masanoritakahashi/anaconda3/lib/python3.7/site-packages/ipykernel_launcher.py:4: DeprecationWarning: scipy.arange is deprecated and will be removed in SciPy 2.0.0, use numpy.arange instead\n",
      "  after removing the cwd from sys.path.\n",
      "/Users/masanoritakahashi/anaconda3/lib/python3.7/site-packages/ipykernel_launcher.py:5: DeprecationWarning: scipy.sqrt is deprecated and will be removed in SciPy 2.0.0, use numpy.lib.scimath.sqrt instead\n",
      "  \"\"\"\n"
     ]
    },
    {
     "data": {
      "text/plain": [
       "[<matplotlib.lines.Line2D at 0x7f9c7b4c0780>]"
      ]
     },
     "execution_count": 128,
     "metadata": {},
     "output_type": "execute_result"
    },
    {
     "data": {
      "image/png": "[encoded data removed]",
      "text/plain": [
       "<Figure size 432x288 with 1 Axes>"
      ]
     },
     "metadata": {
      "needs_background": "light"
     },
     "output_type": "display_data"
    }
   ],
   "source": [
    "# 混合正規分布の数\n",
    "k_size = 2\n",
    "\n",
    "# 正規分布の割合\n",
    "lambda_vec=[0.5, 0.5]\n",
    "\n",
    "# 平均(mu)の初期値\n",
    "mu_vec=[mu1_first, mu2_first]\n",
    "# 分散(sigma)の初期値\n",
    "sigma2_vec=[mu1_first, mu2_first]\n",
    "\n",
    "# データ(-6から6までを200こ)\n",
    "x = sp.linspace(np.min(random_x), np.max(random_x), 1000)\n",
    "plt.plot(x, calc_mix_pdf(k_size, x, lambda_vec, mu_vec, sigma2_vec), label=\"ini\")\n"
   ]
  },
  {
   "cell_type": "code",
   "execution_count": 130,
   "metadata": {},
   "outputs": [
    {
     "name": "stderr",
     "output_type": "stream",
     "text": [
      "/Users/masanoritakahashi/anaconda3/lib/python3.7/site-packages/ipykernel_launcher.py:2: DeprecationWarning: scipy.arange is deprecated and will be removed in SciPy 2.0.0, use numpy.arange instead\n",
      "  \n",
      "/Users/masanoritakahashi/anaconda3/lib/python3.7/site-packages/ipykernel_launcher.py:11: DeprecationWarning: scipy.empty is deprecated and will be removed in SciPy 2.0.0, use numpy.empty instead\n",
      "  # This is added back by InteractiveShellApp.init_path()\n",
      "/Users/masanoritakahashi/anaconda3/lib/python3.7/site-packages/ipykernel_launcher.py:12: DeprecationWarning: scipy.arange is deprecated and will be removed in SciPy 2.0.0, use numpy.arange instead\n",
      "  if sys.path[0] == '':\n",
      "/Users/masanoritakahashi/anaconda3/lib/python3.7/site-packages/ipykernel_launcher.py:13: DeprecationWarning: scipy.sqrt is deprecated and will be removed in SciPy 2.0.0, use numpy.lib.scimath.sqrt instead\n",
      "  del sys.path[0]\n",
      "/Users/masanoritakahashi/anaconda3/lib/python3.7/site-packages/ipykernel_launcher.py:16: DeprecationWarning: scipy.sum is deprecated and will be removed in SciPy 2.0.0, use numpy.sum instead\n",
      "  app.launch_new_instance()\n",
      "/Users/masanoritakahashi/anaconda3/lib/python3.7/site-packages/ipykernel_launcher.py:21: DeprecationWarning: scipy.empty is deprecated and will be removed in SciPy 2.0.0, use numpy.empty instead\n",
      "/Users/masanoritakahashi/anaconda3/lib/python3.7/site-packages/ipykernel_launcher.py:22: DeprecationWarning: scipy.empty is deprecated and will be removed in SciPy 2.0.0, use numpy.empty instead\n",
      "/Users/masanoritakahashi/anaconda3/lib/python3.7/site-packages/ipykernel_launcher.py:23: DeprecationWarning: scipy.empty is deprecated and will be removed in SciPy 2.0.0, use numpy.empty instead\n",
      "/Users/masanoritakahashi/anaconda3/lib/python3.7/site-packages/ipykernel_launcher.py:25: DeprecationWarning: scipy.arange is deprecated and will be removed in SciPy 2.0.0, use numpy.arange instead\n",
      "/Users/masanoritakahashi/anaconda3/lib/python3.7/site-packages/ipykernel_launcher.py:27: DeprecationWarning: scipy.sum is deprecated and will be removed in SciPy 2.0.0, use numpy.sum instead\n",
      "/Users/masanoritakahashi/anaconda3/lib/python3.7/site-packages/ipykernel_launcher.py:28: DeprecationWarning: scipy.sum is deprecated and will be removed in SciPy 2.0.0, use numpy.sum instead\n",
      "/Users/masanoritakahashi/anaconda3/lib/python3.7/site-packages/ipykernel_launcher.py:29: DeprecationWarning: scipy.sum is deprecated and will be removed in SciPy 2.0.0, use numpy.sum instead\n",
      "/Users/masanoritakahashi/anaconda3/lib/python3.7/site-packages/ipykernel_launcher.py:2: DeprecationWarning: scipy.zeros_like is deprecated and will be removed in SciPy 2.0.0, use numpy.zeros_like instead\n",
      "  \n",
      "/Users/masanoritakahashi/anaconda3/lib/python3.7/site-packages/ipykernel_launcher.py:4: DeprecationWarning: scipy.arange is deprecated and will be removed in SciPy 2.0.0, use numpy.arange instead\n",
      "  after removing the cwd from sys.path.\n",
      "/Users/masanoritakahashi/anaconda3/lib/python3.7/site-packages/ipykernel_launcher.py:5: DeprecationWarning: scipy.sqrt is deprecated and will be removed in SciPy 2.0.0, use numpy.lib.scimath.sqrt instead\n",
      "  \"\"\"\n",
      "/Users/masanoritakahashi/anaconda3/lib/python3.7/site-packages/ipykernel_launcher.py:11: DeprecationWarning: scipy.empty is deprecated and will be removed in SciPy 2.0.0, use numpy.empty instead\n",
      "  # This is added back by InteractiveShellApp.init_path()\n",
      "/Users/masanoritakahashi/anaconda3/lib/python3.7/site-packages/ipykernel_launcher.py:12: DeprecationWarning: scipy.arange is deprecated and will be removed in SciPy 2.0.0, use numpy.arange instead\n",
      "  if sys.path[0] == '':\n",
      "/Users/masanoritakahashi/anaconda3/lib/python3.7/site-packages/ipykernel_launcher.py:13: DeprecationWarning: scipy.sqrt is deprecated and will be removed in SciPy 2.0.0, use numpy.lib.scimath.sqrt instead\n",
      "  del sys.path[0]\n",
      "/Users/masanoritakahashi/anaconda3/lib/python3.7/site-packages/ipykernel_launcher.py:16: DeprecationWarning: scipy.sum is deprecated and will be removed in SciPy 2.0.0, use numpy.sum instead\n",
      "  app.launch_new_instance()\n",
      "/Users/masanoritakahashi/anaconda3/lib/python3.7/site-packages/ipykernel_launcher.py:21: DeprecationWarning: scipy.empty is deprecated and will be removed in SciPy 2.0.0, use numpy.empty instead\n",
      "/Users/masanoritakahashi/anaconda3/lib/python3.7/site-packages/ipykernel_launcher.py:22: DeprecationWarning: scipy.empty is deprecated and will be removed in SciPy 2.0.0, use numpy.empty instead\n",
      "/Users/masanoritakahashi/anaconda3/lib/python3.7/site-packages/ipykernel_launcher.py:23: DeprecationWarning: scipy.empty is deprecated and will be removed in SciPy 2.0.0, use numpy.empty instead\n",
      "/Users/masanoritakahashi/anaconda3/lib/python3.7/site-packages/ipykernel_launcher.py:25: DeprecationWarning: scipy.arange is deprecated and will be removed in SciPy 2.0.0, use numpy.arange instead\n",
      "/Users/masanoritakahashi/anaconda3/lib/python3.7/site-packages/ipykernel_launcher.py:27: DeprecationWarning: scipy.sum is deprecated and will be removed in SciPy 2.0.0, use numpy.sum instead\n",
      "/Users/masanoritakahashi/anaconda3/lib/python3.7/site-packages/ipykernel_launcher.py:28: DeprecationWarning: scipy.sum is deprecated and will be removed in SciPy 2.0.0, use numpy.sum instead\n",
      "/Users/masanoritakahashi/anaconda3/lib/python3.7/site-packages/ipykernel_launcher.py:29: DeprecationWarning: scipy.sum is deprecated and will be removed in SciPy 2.0.0, use numpy.sum instead\n",
      "/Users/masanoritakahashi/anaconda3/lib/python3.7/site-packages/ipykernel_launcher.py:2: DeprecationWarning: scipy.zeros_like is deprecated and will be removed in SciPy 2.0.0, use numpy.zeros_like instead\n",
      "  \n",
      "/Users/masanoritakahashi/anaconda3/lib/python3.7/site-packages/ipykernel_launcher.py:4: DeprecationWarning: scipy.arange is deprecated and will be removed in SciPy 2.0.0, use numpy.arange instead\n",
      "  after removing the cwd from sys.path.\n",
      "/Users/masanoritakahashi/anaconda3/lib/python3.7/site-packages/ipykernel_launcher.py:5: DeprecationWarning: scipy.sqrt is deprecated and will be removed in SciPy 2.0.0, use numpy.lib.scimath.sqrt instead\n",
      "  \"\"\"\n",
      "/Users/masanoritakahashi/anaconda3/lib/python3.7/site-packages/ipykernel_launcher.py:11: DeprecationWarning: scipy.empty is deprecated and will be removed in SciPy 2.0.0, use numpy.empty instead\n",
      "  # This is added back by InteractiveShellApp.init_path()\n",
      "/Users/masanoritakahashi/anaconda3/lib/python3.7/site-packages/ipykernel_launcher.py:12: DeprecationWarning: scipy.arange is deprecated and will be removed in SciPy 2.0.0, use numpy.arange instead\n",
      "  if sys.path[0] == '':\n",
      "/Users/masanoritakahashi/anaconda3/lib/python3.7/site-packages/ipykernel_launcher.py:13: DeprecationWarning: scipy.sqrt is deprecated and will be removed in SciPy 2.0.0, use numpy.lib.scimath.sqrt instead\n",
      "  del sys.path[0]\n",
      "/Users/masanoritakahashi/anaconda3/lib/python3.7/site-packages/ipykernel_launcher.py:16: DeprecationWarning: scipy.sum is deprecated and will be removed in SciPy 2.0.0, use numpy.sum instead\n",
      "  app.launch_new_instance()\n",
      "/Users/masanoritakahashi/anaconda3/lib/python3.7/site-packages/ipykernel_launcher.py:21: DeprecationWarning: scipy.empty is deprecated and will be removed in SciPy 2.0.0, use numpy.empty instead\n",
      "/Users/masanoritakahashi/anaconda3/lib/python3.7/site-packages/ipykernel_launcher.py:22: DeprecationWarning: scipy.empty is deprecated and will be removed in SciPy 2.0.0, use numpy.empty instead\n",
      "/Users/masanoritakahashi/anaconda3/lib/python3.7/site-packages/ipykernel_launcher.py:23: DeprecationWarning: scipy.empty is deprecated and will be removed in SciPy 2.0.0, use numpy.empty instead\n",
      "/Users/masanoritakahashi/anaconda3/lib/python3.7/site-packages/ipykernel_launcher.py:25: DeprecationWarning: scipy.arange is deprecated and will be removed in SciPy 2.0.0, use numpy.arange instead\n",
      "/Users/masanoritakahashi/anaconda3/lib/python3.7/site-packages/ipykernel_launcher.py:27: DeprecationWarning: scipy.sum is deprecated and will be removed in SciPy 2.0.0, use numpy.sum instead\n",
      "/Users/masanoritakahashi/anaconda3/lib/python3.7/site-packages/ipykernel_launcher.py:28: DeprecationWarning: scipy.sum is deprecated and will be removed in SciPy 2.0.0, use numpy.sum instead\n",
      "/Users/masanoritakahashi/anaconda3/lib/python3.7/site-packages/ipykernel_launcher.py:29: DeprecationWarning: scipy.sum is deprecated and will be removed in SciPy 2.0.0, use numpy.sum instead\n",
      "/Users/masanoritakahashi/anaconda3/lib/python3.7/site-packages/ipykernel_launcher.py:2: DeprecationWarning: scipy.zeros_like is deprecated and will be removed in SciPy 2.0.0, use numpy.zeros_like instead\n",
      "  \n",
      "/Users/masanoritakahashi/anaconda3/lib/python3.7/site-packages/ipykernel_launcher.py:4: DeprecationWarning: scipy.arange is deprecated and will be removed in SciPy 2.0.0, use numpy.arange instead\n",
      "  after removing the cwd from sys.path.\n",
      "/Users/masanoritakahashi/anaconda3/lib/python3.7/site-packages/ipykernel_launcher.py:5: DeprecationWarning: scipy.sqrt is deprecated and will be removed in SciPy 2.0.0, use numpy.lib.scimath.sqrt instead\n",
      "  \"\"\"\n",
      "/Users/masanoritakahashi/anaconda3/lib/python3.7/site-packages/ipykernel_launcher.py:11: DeprecationWarning: scipy.empty is deprecated and will be removed in SciPy 2.0.0, use numpy.empty instead\n",
      "  # This is added back by InteractiveShellApp.init_path()\n",
      "/Users/masanoritakahashi/anaconda3/lib/python3.7/site-packages/ipykernel_launcher.py:12: DeprecationWarning: scipy.arange is deprecated and will be removed in SciPy 2.0.0, use numpy.arange instead\n",
      "  if sys.path[0] == '':\n",
      "/Users/masanoritakahashi/anaconda3/lib/python3.7/site-packages/ipykernel_launcher.py:13: DeprecationWarning: scipy.sqrt is deprecated and will be removed in SciPy 2.0.0, use numpy.lib.scimath.sqrt instead\n",
      "  del sys.path[0]\n",
      "/Users/masanoritakahashi/anaconda3/lib/python3.7/site-packages/ipykernel_launcher.py:16: DeprecationWarning: scipy.sum is deprecated and will be removed in SciPy 2.0.0, use numpy.sum instead\n",
      "  app.launch_new_instance()\n",
      "/Users/masanoritakahashi/anaconda3/lib/python3.7/site-packages/ipykernel_launcher.py:21: DeprecationWarning: scipy.empty is deprecated and will be removed in SciPy 2.0.0, use numpy.empty instead\n",
      "/Users/masanoritakahashi/anaconda3/lib/python3.7/site-packages/ipykernel_launcher.py:22: DeprecationWarning: scipy.empty is deprecated and will be removed in SciPy 2.0.0, use numpy.empty instead\n",
      "/Users/masanoritakahashi/anaconda3/lib/python3.7/site-packages/ipykernel_launcher.py:23: DeprecationWarning: scipy.empty is deprecated and will be removed in SciPy 2.0.0, use numpy.empty instead\n",
      "/Users/masanoritakahashi/anaconda3/lib/python3.7/site-packages/ipykernel_launcher.py:25: DeprecationWarning: scipy.arange is deprecated and will be removed in SciPy 2.0.0, use numpy.arange instead\n",
      "/Users/masanoritakahashi/anaconda3/lib/python3.7/site-packages/ipykernel_launcher.py:27: DeprecationWarning: scipy.sum is deprecated and will be removed in SciPy 2.0.0, use numpy.sum instead\n",
      "/Users/masanoritakahashi/anaconda3/lib/python3.7/site-packages/ipykernel_launcher.py:28: DeprecationWarning: scipy.sum is deprecated and will be removed in SciPy 2.0.0, use numpy.sum instead\n",
      "/Users/masanoritakahashi/anaconda3/lib/python3.7/site-packages/ipykernel_launcher.py:29: DeprecationWarning: scipy.sum is deprecated and will be removed in SciPy 2.0.0, use numpy.sum instead\n",
      "/Users/masanoritakahashi/anaconda3/lib/python3.7/site-packages/ipykernel_launcher.py:2: DeprecationWarning: scipy.zeros_like is deprecated and will be removed in SciPy 2.0.0, use numpy.zeros_like instead\n",
      "  \n",
      "/Users/masanoritakahashi/anaconda3/lib/python3.7/site-packages/ipykernel_launcher.py:4: DeprecationWarning: scipy.arange is deprecated and will be removed in SciPy 2.0.0, use numpy.arange instead\n",
      "  after removing the cwd from sys.path.\n",
      "/Users/masanoritakahashi/anaconda3/lib/python3.7/site-packages/ipykernel_launcher.py:5: DeprecationWarning: scipy.sqrt is deprecated and will be removed in SciPy 2.0.0, use numpy.lib.scimath.sqrt instead\n",
      "  \"\"\"\n",
      "/Users/masanoritakahashi/anaconda3/lib/python3.7/site-packages/ipykernel_launcher.py:11: DeprecationWarning: scipy.empty is deprecated and will be removed in SciPy 2.0.0, use numpy.empty instead\n",
      "  # This is added back by InteractiveShellApp.init_path()\n",
      "/Users/masanoritakahashi/anaconda3/lib/python3.7/site-packages/ipykernel_launcher.py:12: DeprecationWarning: scipy.arange is deprecated and will be removed in SciPy 2.0.0, use numpy.arange instead\n",
      "  if sys.path[0] == '':\n",
      "/Users/masanoritakahashi/anaconda3/lib/python3.7/site-packages/ipykernel_launcher.py:13: DeprecationWarning: scipy.sqrt is deprecated and will be removed in SciPy 2.0.0, use numpy.lib.scimath.sqrt instead\n",
      "  del sys.path[0]\n",
      "/Users/masanoritakahashi/anaconda3/lib/python3.7/site-packages/ipykernel_launcher.py:16: DeprecationWarning: scipy.sum is deprecated and will be removed in SciPy 2.0.0, use numpy.sum instead\n",
      "  app.launch_new_instance()\n",
      "/Users/masanoritakahashi/anaconda3/lib/python3.7/site-packages/ipykernel_launcher.py:21: DeprecationWarning: scipy.empty is deprecated and will be removed in SciPy 2.0.0, use numpy.empty instead\n",
      "/Users/masanoritakahashi/anaconda3/lib/python3.7/site-packages/ipykernel_launcher.py:22: DeprecationWarning: scipy.empty is deprecated and will be removed in SciPy 2.0.0, use numpy.empty instead\n",
      "/Users/masanoritakahashi/anaconda3/lib/python3.7/site-packages/ipykernel_launcher.py:23: DeprecationWarning: scipy.empty is deprecated and will be removed in SciPy 2.0.0, use numpy.empty instead\n",
      "/Users/masanoritakahashi/anaconda3/lib/python3.7/site-packages/ipykernel_launcher.py:25: DeprecationWarning: scipy.arange is deprecated and will be removed in SciPy 2.0.0, use numpy.arange instead\n",
      "/Users/masanoritakahashi/anaconda3/lib/python3.7/site-packages/ipykernel_launcher.py:27: DeprecationWarning: scipy.sum is deprecated and will be removed in SciPy 2.0.0, use numpy.sum instead\n",
      "/Users/masanoritakahashi/anaconda3/lib/python3.7/site-packages/ipykernel_launcher.py:28: DeprecationWarning: scipy.sum is deprecated and will be removed in SciPy 2.0.0, use numpy.sum instead\n",
      "/Users/masanoritakahashi/anaconda3/lib/python3.7/site-packages/ipykernel_launcher.py:29: DeprecationWarning: scipy.sum is deprecated and will be removed in SciPy 2.0.0, use numpy.sum instead\n",
      "/Users/masanoritakahashi/anaconda3/lib/python3.7/site-packages/ipykernel_launcher.py:2: DeprecationWarning: scipy.zeros_like is deprecated and will be removed in SciPy 2.0.0, use numpy.zeros_like instead\n",
      "  \n",
      "/Users/masanoritakahashi/anaconda3/lib/python3.7/site-packages/ipykernel_launcher.py:4: DeprecationWarning: scipy.arange is deprecated and will be removed in SciPy 2.0.0, use numpy.arange instead\n",
      "  after removing the cwd from sys.path.\n",
      "/Users/masanoritakahashi/anaconda3/lib/python3.7/site-packages/ipykernel_launcher.py:5: DeprecationWarning: scipy.sqrt is deprecated and will be removed in SciPy 2.0.0, use numpy.lib.scimath.sqrt instead\n",
      "  \"\"\"\n",
      "/Users/masanoritakahashi/anaconda3/lib/python3.7/site-packages/ipykernel_launcher.py:11: DeprecationWarning: scipy.empty is deprecated and will be removed in SciPy 2.0.0, use numpy.empty instead\n",
      "  # This is added back by InteractiveShellApp.init_path()\n",
      "/Users/masanoritakahashi/anaconda3/lib/python3.7/site-packages/ipykernel_launcher.py:12: DeprecationWarning: scipy.arange is deprecated and will be removed in SciPy 2.0.0, use numpy.arange instead\n",
      "  if sys.path[0] == '':\n",
      "/Users/masanoritakahashi/anaconda3/lib/python3.7/site-packages/ipykernel_launcher.py:13: DeprecationWarning: scipy.sqrt is deprecated and will be removed in SciPy 2.0.0, use numpy.lib.scimath.sqrt instead\n",
      "  del sys.path[0]\n",
      "/Users/masanoritakahashi/anaconda3/lib/python3.7/site-packages/ipykernel_launcher.py:16: DeprecationWarning: scipy.sum is deprecated and will be removed in SciPy 2.0.0, use numpy.sum instead\n",
      "  app.launch_new_instance()\n",
      "/Users/masanoritakahashi/anaconda3/lib/python3.7/site-packages/ipykernel_launcher.py:21: DeprecationWarning: scipy.empty is deprecated and will be removed in SciPy 2.0.0, use numpy.empty instead\n",
      "/Users/masanoritakahashi/anaconda3/lib/python3.7/site-packages/ipykernel_launcher.py:22: DeprecationWarning: scipy.empty is deprecated and will be removed in SciPy 2.0.0, use numpy.empty instead\n",
      "/Users/masanoritakahashi/anaconda3/lib/python3.7/site-packages/ipykernel_launcher.py:23: DeprecationWarning: scipy.empty is deprecated and will be removed in SciPy 2.0.0, use numpy.empty instead\n",
      "/Users/masanoritakahashi/anaconda3/lib/python3.7/site-packages/ipykernel_launcher.py:25: DeprecationWarning: scipy.arange is deprecated and will be removed in SciPy 2.0.0, use numpy.arange instead\n",
      "/Users/masanoritakahashi/anaconda3/lib/python3.7/site-packages/ipykernel_launcher.py:27: DeprecationWarning: scipy.sum is deprecated and will be removed in SciPy 2.0.0, use numpy.sum instead\n",
      "/Users/masanoritakahashi/anaconda3/lib/python3.7/site-packages/ipykernel_launcher.py:28: DeprecationWarning: scipy.sum is deprecated and will be removed in SciPy 2.0.0, use numpy.sum instead\n",
      "/Users/masanoritakahashi/anaconda3/lib/python3.7/site-packages/ipykernel_launcher.py:29: DeprecationWarning: scipy.sum is deprecated and will be removed in SciPy 2.0.0, use numpy.sum instead\n",
      "/Users/masanoritakahashi/anaconda3/lib/python3.7/site-packages/ipykernel_launcher.py:2: DeprecationWarning: scipy.zeros_like is deprecated and will be removed in SciPy 2.0.0, use numpy.zeros_like instead\n",
      "  \n",
      "/Users/masanoritakahashi/anaconda3/lib/python3.7/site-packages/ipykernel_launcher.py:4: DeprecationWarning: scipy.arange is deprecated and will be removed in SciPy 2.0.0, use numpy.arange instead\n",
      "  after removing the cwd from sys.path.\n",
      "/Users/masanoritakahashi/anaconda3/lib/python3.7/site-packages/ipykernel_launcher.py:5: DeprecationWarning: scipy.sqrt is deprecated and will be removed in SciPy 2.0.0, use numpy.lib.scimath.sqrt instead\n",
      "  \"\"\"\n",
      "/Users/masanoritakahashi/anaconda3/lib/python3.7/site-packages/ipykernel_launcher.py:11: DeprecationWarning: scipy.empty is deprecated and will be removed in SciPy 2.0.0, use numpy.empty instead\n",
      "  # This is added back by InteractiveShellApp.init_path()\n",
      "/Users/masanoritakahashi/anaconda3/lib/python3.7/site-packages/ipykernel_launcher.py:12: DeprecationWarning: scipy.arange is deprecated and will be removed in SciPy 2.0.0, use numpy.arange instead\n",
      "  if sys.path[0] == '':\n",
      "/Users/masanoritakahashi/anaconda3/lib/python3.7/site-packages/ipykernel_launcher.py:13: DeprecationWarning: scipy.sqrt is deprecated and will be removed in SciPy 2.0.0, use numpy.lib.scimath.sqrt instead\n",
      "  del sys.path[0]\n",
      "/Users/masanoritakahashi/anaconda3/lib/python3.7/site-packages/ipykernel_launcher.py:16: DeprecationWarning: scipy.sum is deprecated and will be removed in SciPy 2.0.0, use numpy.sum instead\n",
      "  app.launch_new_instance()\n",
      "/Users/masanoritakahashi/anaconda3/lib/python3.7/site-packages/ipykernel_launcher.py:21: DeprecationWarning: scipy.empty is deprecated and will be removed in SciPy 2.0.0, use numpy.empty instead\n",
      "/Users/masanoritakahashi/anaconda3/lib/python3.7/site-packages/ipykernel_launcher.py:22: DeprecationWarning: scipy.empty is deprecated and will be removed in SciPy 2.0.0, use numpy.empty instead\n",
      "/Users/masanoritakahashi/anaconda3/lib/python3.7/site-packages/ipykernel_launcher.py:23: DeprecationWarning: scipy.empty is deprecated and will be removed in SciPy 2.0.0, use numpy.empty instead\n",
      "/Users/masanoritakahashi/anaconda3/lib/python3.7/site-packages/ipykernel_launcher.py:25: DeprecationWarning: scipy.arange is deprecated and will be removed in SciPy 2.0.0, use numpy.arange instead\n",
      "/Users/masanoritakahashi/anaconda3/lib/python3.7/site-packages/ipykernel_launcher.py:27: DeprecationWarning: scipy.sum is deprecated and will be removed in SciPy 2.0.0, use numpy.sum instead\n",
      "/Users/masanoritakahashi/anaconda3/lib/python3.7/site-packages/ipykernel_launcher.py:28: DeprecationWarning: scipy.sum is deprecated and will be removed in SciPy 2.0.0, use numpy.sum instead\n",
      "/Users/masanoritakahashi/anaconda3/lib/python3.7/site-packages/ipykernel_launcher.py:29: DeprecationWarning: scipy.sum is deprecated and will be removed in SciPy 2.0.0, use numpy.sum instead\n",
      "/Users/masanoritakahashi/anaconda3/lib/python3.7/site-packages/ipykernel_launcher.py:2: DeprecationWarning: scipy.zeros_like is deprecated and will be removed in SciPy 2.0.0, use numpy.zeros_like instead\n",
      "  \n",
      "/Users/masanoritakahashi/anaconda3/lib/python3.7/site-packages/ipykernel_launcher.py:4: DeprecationWarning: scipy.arange is deprecated and will be removed in SciPy 2.0.0, use numpy.arange instead\n",
      "  after removing the cwd from sys.path.\n",
      "/Users/masanoritakahashi/anaconda3/lib/python3.7/site-packages/ipykernel_launcher.py:5: DeprecationWarning: scipy.sqrt is deprecated and will be removed in SciPy 2.0.0, use numpy.lib.scimath.sqrt instead\n",
      "  \"\"\"\n",
      "/Users/masanoritakahashi/anaconda3/lib/python3.7/site-packages/ipykernel_launcher.py:11: DeprecationWarning: scipy.empty is deprecated and will be removed in SciPy 2.0.0, use numpy.empty instead\n",
      "  # This is added back by InteractiveShellApp.init_path()\n",
      "/Users/masanoritakahashi/anaconda3/lib/python3.7/site-packages/ipykernel_launcher.py:12: DeprecationWarning: scipy.arange is deprecated and will be removed in SciPy 2.0.0, use numpy.arange instead\n",
      "  if sys.path[0] == '':\n",
      "/Users/masanoritakahashi/anaconda3/lib/python3.7/site-packages/ipykernel_launcher.py:13: DeprecationWarning: scipy.sqrt is deprecated and will be removed in SciPy 2.0.0, use numpy.lib.scimath.sqrt instead\n",
      "  del sys.path[0]\n",
      "/Users/masanoritakahashi/anaconda3/lib/python3.7/site-packages/ipykernel_launcher.py:16: DeprecationWarning: scipy.sum is deprecated and will be removed in SciPy 2.0.0, use numpy.sum instead\n",
      "  app.launch_new_instance()\n",
      "/Users/masanoritakahashi/anaconda3/lib/python3.7/site-packages/ipykernel_launcher.py:21: DeprecationWarning: scipy.empty is deprecated and will be removed in SciPy 2.0.0, use numpy.empty instead\n",
      "/Users/masanoritakahashi/anaconda3/lib/python3.7/site-packages/ipykernel_launcher.py:22: DeprecationWarning: scipy.empty is deprecated and will be removed in SciPy 2.0.0, use numpy.empty instead\n",
      "/Users/masanoritakahashi/anaconda3/lib/python3.7/site-packages/ipykernel_launcher.py:23: DeprecationWarning: scipy.empty is deprecated and will be removed in SciPy 2.0.0, use numpy.empty instead\n",
      "/Users/masanoritakahashi/anaconda3/lib/python3.7/site-packages/ipykernel_launcher.py:25: DeprecationWarning: scipy.arange is deprecated and will be removed in SciPy 2.0.0, use numpy.arange instead\n",
      "/Users/masanoritakahashi/anaconda3/lib/python3.7/site-packages/ipykernel_launcher.py:27: DeprecationWarning: scipy.sum is deprecated and will be removed in SciPy 2.0.0, use numpy.sum instead\n",
      "/Users/masanoritakahashi/anaconda3/lib/python3.7/site-packages/ipykernel_launcher.py:28: DeprecationWarning: scipy.sum is deprecated and will be removed in SciPy 2.0.0, use numpy.sum instead\n",
      "/Users/masanoritakahashi/anaconda3/lib/python3.7/site-packages/ipykernel_launcher.py:29: DeprecationWarning: scipy.sum is deprecated and will be removed in SciPy 2.0.0, use numpy.sum instead\n",
      "/Users/masanoritakahashi/anaconda3/lib/python3.7/site-packages/ipykernel_launcher.py:2: DeprecationWarning: scipy.zeros_like is deprecated and will be removed in SciPy 2.0.0, use numpy.zeros_like instead\n",
      "  \n",
      "/Users/masanoritakahashi/anaconda3/lib/python3.7/site-packages/ipykernel_launcher.py:4: DeprecationWarning: scipy.arange is deprecated and will be removed in SciPy 2.0.0, use numpy.arange instead\n",
      "  after removing the cwd from sys.path.\n",
      "/Users/masanoritakahashi/anaconda3/lib/python3.7/site-packages/ipykernel_launcher.py:5: DeprecationWarning: scipy.sqrt is deprecated and will be removed in SciPy 2.0.0, use numpy.lib.scimath.sqrt instead\n",
      "  \"\"\"\n",
      "/Users/masanoritakahashi/anaconda3/lib/python3.7/site-packages/ipykernel_launcher.py:11: DeprecationWarning: scipy.empty is deprecated and will be removed in SciPy 2.0.0, use numpy.empty instead\n",
      "  # This is added back by InteractiveShellApp.init_path()\n",
      "/Users/masanoritakahashi/anaconda3/lib/python3.7/site-packages/ipykernel_launcher.py:12: DeprecationWarning: scipy.arange is deprecated and will be removed in SciPy 2.0.0, use numpy.arange instead\n",
      "  if sys.path[0] == '':\n",
      "/Users/masanoritakahashi/anaconda3/lib/python3.7/site-packages/ipykernel_launcher.py:13: DeprecationWarning: scipy.sqrt is deprecated and will be removed in SciPy 2.0.0, use numpy.lib.scimath.sqrt instead\n",
      "  del sys.path[0]\n",
      "/Users/masanoritakahashi/anaconda3/lib/python3.7/site-packages/ipykernel_launcher.py:16: DeprecationWarning: scipy.sum is deprecated and will be removed in SciPy 2.0.0, use numpy.sum instead\n",
      "  app.launch_new_instance()\n",
      "/Users/masanoritakahashi/anaconda3/lib/python3.7/site-packages/ipykernel_launcher.py:21: DeprecationWarning: scipy.empty is deprecated and will be removed in SciPy 2.0.0, use numpy.empty instead\n",
      "/Users/masanoritakahashi/anaconda3/lib/python3.7/site-packages/ipykernel_launcher.py:22: DeprecationWarning: scipy.empty is deprecated and will be removed in SciPy 2.0.0, use numpy.empty instead\n",
      "/Users/masanoritakahashi/anaconda3/lib/python3.7/site-packages/ipykernel_launcher.py:23: DeprecationWarning: scipy.empty is deprecated and will be removed in SciPy 2.0.0, use numpy.empty instead\n",
      "/Users/masanoritakahashi/anaconda3/lib/python3.7/site-packages/ipykernel_launcher.py:25: DeprecationWarning: scipy.arange is deprecated and will be removed in SciPy 2.0.0, use numpy.arange instead\n",
      "/Users/masanoritakahashi/anaconda3/lib/python3.7/site-packages/ipykernel_launcher.py:27: DeprecationWarning: scipy.sum is deprecated and will be removed in SciPy 2.0.0, use numpy.sum instead\n",
      "/Users/masanoritakahashi/anaconda3/lib/python3.7/site-packages/ipykernel_launcher.py:28: DeprecationWarning: scipy.sum is deprecated and will be removed in SciPy 2.0.0, use numpy.sum instead\n",
      "/Users/masanoritakahashi/anaconda3/lib/python3.7/site-packages/ipykernel_launcher.py:29: DeprecationWarning: scipy.sum is deprecated and will be removed in SciPy 2.0.0, use numpy.sum instead\n",
      "/Users/masanoritakahashi/anaconda3/lib/python3.7/site-packages/ipykernel_launcher.py:2: DeprecationWarning: scipy.zeros_like is deprecated and will be removed in SciPy 2.0.0, use numpy.zeros_like instead\n",
      "  \n",
      "/Users/masanoritakahashi/anaconda3/lib/python3.7/site-packages/ipykernel_launcher.py:4: DeprecationWarning: scipy.arange is deprecated and will be removed in SciPy 2.0.0, use numpy.arange instead\n",
      "  after removing the cwd from sys.path.\n",
      "/Users/masanoritakahashi/anaconda3/lib/python3.7/site-packages/ipykernel_launcher.py:5: DeprecationWarning: scipy.sqrt is deprecated and will be removed in SciPy 2.0.0, use numpy.lib.scimath.sqrt instead\n",
      "  \"\"\"\n",
      "/Users/masanoritakahashi/anaconda3/lib/python3.7/site-packages/ipykernel_launcher.py:11: DeprecationWarning: scipy.empty is deprecated and will be removed in SciPy 2.0.0, use numpy.empty instead\n",
      "  # This is added back by InteractiveShellApp.init_path()\n",
      "/Users/masanoritakahashi/anaconda3/lib/python3.7/site-packages/ipykernel_launcher.py:12: DeprecationWarning: scipy.arange is deprecated and will be removed in SciPy 2.0.0, use numpy.arange instead\n",
      "  if sys.path[0] == '':\n",
      "/Users/masanoritakahashi/anaconda3/lib/python3.7/site-packages/ipykernel_launcher.py:13: DeprecationWarning: scipy.sqrt is deprecated and will be removed in SciPy 2.0.0, use numpy.lib.scimath.sqrt instead\n",
      "  del sys.path[0]\n",
      "/Users/masanoritakahashi/anaconda3/lib/python3.7/site-packages/ipykernel_launcher.py:16: DeprecationWarning: scipy.sum is deprecated and will be removed in SciPy 2.0.0, use numpy.sum instead\n",
      "  app.launch_new_instance()\n",
      "/Users/masanoritakahashi/anaconda3/lib/python3.7/site-packages/ipykernel_launcher.py:21: DeprecationWarning: scipy.empty is deprecated and will be removed in SciPy 2.0.0, use numpy.empty instead\n",
      "/Users/masanoritakahashi/anaconda3/lib/python3.7/site-packages/ipykernel_launcher.py:22: DeprecationWarning: scipy.empty is deprecated and will be removed in SciPy 2.0.0, use numpy.empty instead\n",
      "/Users/masanoritakahashi/anaconda3/lib/python3.7/site-packages/ipykernel_launcher.py:23: DeprecationWarning: scipy.empty is deprecated and will be removed in SciPy 2.0.0, use numpy.empty instead\n",
      "/Users/masanoritakahashi/anaconda3/lib/python3.7/site-packages/ipykernel_launcher.py:25: DeprecationWarning: scipy.arange is deprecated and will be removed in SciPy 2.0.0, use numpy.arange instead\n",
      "/Users/masanoritakahashi/anaconda3/lib/python3.7/site-packages/ipykernel_launcher.py:27: DeprecationWarning: scipy.sum is deprecated and will be removed in SciPy 2.0.0, use numpy.sum instead\n",
      "/Users/masanoritakahashi/anaconda3/lib/python3.7/site-packages/ipykernel_launcher.py:28: DeprecationWarning: scipy.sum is deprecated and will be removed in SciPy 2.0.0, use numpy.sum instead\n",
      "/Users/masanoritakahashi/anaconda3/lib/python3.7/site-packages/ipykernel_launcher.py:29: DeprecationWarning: scipy.sum is deprecated and will be removed in SciPy 2.0.0, use numpy.sum instead\n",
      "/Users/masanoritakahashi/anaconda3/lib/python3.7/site-packages/ipykernel_launcher.py:2: DeprecationWarning: scipy.zeros_like is deprecated and will be removed in SciPy 2.0.0, use numpy.zeros_like instead\n",
      "  \n",
      "/Users/masanoritakahashi/anaconda3/lib/python3.7/site-packages/ipykernel_launcher.py:4: DeprecationWarning: scipy.arange is deprecated and will be removed in SciPy 2.0.0, use numpy.arange instead\n",
      "  after removing the cwd from sys.path.\n",
      "/Users/masanoritakahashi/anaconda3/lib/python3.7/site-packages/ipykernel_launcher.py:5: DeprecationWarning: scipy.sqrt is deprecated and will be removed in SciPy 2.0.0, use numpy.lib.scimath.sqrt instead\n",
      "  \"\"\"\n",
      "/Users/masanoritakahashi/anaconda3/lib/python3.7/site-packages/ipykernel_launcher.py:11: DeprecationWarning: scipy.empty is deprecated and will be removed in SciPy 2.0.0, use numpy.empty instead\n",
      "  # This is added back by InteractiveShellApp.init_path()\n",
      "/Users/masanoritakahashi/anaconda3/lib/python3.7/site-packages/ipykernel_launcher.py:12: DeprecationWarning: scipy.arange is deprecated and will be removed in SciPy 2.0.0, use numpy.arange instead\n",
      "  if sys.path[0] == '':\n",
      "/Users/masanoritakahashi/anaconda3/lib/python3.7/site-packages/ipykernel_launcher.py:13: DeprecationWarning: scipy.sqrt is deprecated and will be removed in SciPy 2.0.0, use numpy.lib.scimath.sqrt instead\n",
      "  del sys.path[0]\n",
      "/Users/masanoritakahashi/anaconda3/lib/python3.7/site-packages/ipykernel_launcher.py:16: DeprecationWarning: scipy.sum is deprecated and will be removed in SciPy 2.0.0, use numpy.sum instead\n",
      "  app.launch_new_instance()\n",
      "/Users/masanoritakahashi/anaconda3/lib/python3.7/site-packages/ipykernel_launcher.py:21: DeprecationWarning: scipy.empty is deprecated and will be removed in SciPy 2.0.0, use numpy.empty instead\n",
      "/Users/masanoritakahashi/anaconda3/lib/python3.7/site-packages/ipykernel_launcher.py:22: DeprecationWarning: scipy.empty is deprecated and will be removed in SciPy 2.0.0, use numpy.empty instead\n",
      "/Users/masanoritakahashi/anaconda3/lib/python3.7/site-packages/ipykernel_launcher.py:23: DeprecationWarning: scipy.empty is deprecated and will be removed in SciPy 2.0.0, use numpy.empty instead\n",
      "/Users/masanoritakahashi/anaconda3/lib/python3.7/site-packages/ipykernel_launcher.py:25: DeprecationWarning: scipy.arange is deprecated and will be removed in SciPy 2.0.0, use numpy.arange instead\n",
      "/Users/masanoritakahashi/anaconda3/lib/python3.7/site-packages/ipykernel_launcher.py:27: DeprecationWarning: scipy.sum is deprecated and will be removed in SciPy 2.0.0, use numpy.sum instead\n",
      "/Users/masanoritakahashi/anaconda3/lib/python3.7/site-packages/ipykernel_launcher.py:28: DeprecationWarning: scipy.sum is deprecated and will be removed in SciPy 2.0.0, use numpy.sum instead\n",
      "/Users/masanoritakahashi/anaconda3/lib/python3.7/site-packages/ipykernel_launcher.py:29: DeprecationWarning: scipy.sum is deprecated and will be removed in SciPy 2.0.0, use numpy.sum instead\n"
     ]
    },
    {
     "name": "stdout",
     "output_type": "stream",
     "text": [
      "i: 0 lambda [0.44770054 0.55229946] mu [37.68761238 68.50052839] sigma2 [74.37709096 40.71708946]\n",
      "i: 5 lambda [0.49507094 0.50492906] mu [39.42969238 69.68320349] sigma2 [98.19952725 26.01648802]\n",
      "i: 10 lambda [0.50077361 0.49922639] mu [39.66837913 69.78936313] sigma2 [102.26941694  25.07281012]\n",
      "i: 15 lambda [0.50142227 0.49857773] mu [39.6959957  69.80077724] sigma2 [102.75452742  24.97637932]\n",
      "i: 20 lambda [0.50149598 0.49850402] mu [39.69913984 69.8020659 ] sigma2 [102.80993701  24.9655513 ]\n",
      "i: 25 lambda [0.50150436 0.49849564] mu [39.69949724 69.80221225] sigma2 [102.81623779  24.96432238]\n",
      "i: 30 lambda [0.50150531 0.49849469] mu [39.69953786 69.80222888] sigma2 [102.81695391  24.96418274]\n",
      "i: 35 lambda [0.50150542 0.49849458] mu [39.69954247 69.80223077] sigma2 [102.8170353   24.96416687]\n",
      "i: 40 lambda [0.50150543 0.49849457] mu [39.699543   69.80223098] sigma2 [102.81704455  24.96416507]\n",
      "i: 45 lambda [0.50150544 0.49849456] mu [39.69954306 69.80223101] sigma2 [102.8170456   24.96416486]\n",
      "i: 50 lambda [0.50150544 0.49849456] mu [39.69954307 69.80223101] sigma2 [102.81704572  24.96416484]\n"
     ]
    },
    {
     "name": "stderr",
     "output_type": "stream",
     "text": [
      "/Users/masanoritakahashi/anaconda3/lib/python3.7/site-packages/ipykernel_launcher.py:2: DeprecationWarning: scipy.zeros_like is deprecated and will be removed in SciPy 2.0.0, use numpy.zeros_like instead\n",
      "  \n",
      "/Users/masanoritakahashi/anaconda3/lib/python3.7/site-packages/ipykernel_launcher.py:4: DeprecationWarning: scipy.arange is deprecated and will be removed in SciPy 2.0.0, use numpy.arange instead\n",
      "  after removing the cwd from sys.path.\n",
      "/Users/masanoritakahashi/anaconda3/lib/python3.7/site-packages/ipykernel_launcher.py:5: DeprecationWarning: scipy.sqrt is deprecated and will be removed in SciPy 2.0.0, use numpy.lib.scimath.sqrt instead\n",
      "  \"\"\"\n",
      "/Users/masanoritakahashi/anaconda3/lib/python3.7/site-packages/ipykernel_launcher.py:2: DeprecationWarning: scipy.zeros_like is deprecated and will be removed in SciPy 2.0.0, use numpy.zeros_like instead\n",
      "  \n",
      "/Users/masanoritakahashi/anaconda3/lib/python3.7/site-packages/ipykernel_launcher.py:4: DeprecationWarning: scipy.arange is deprecated and will be removed in SciPy 2.0.0, use numpy.arange instead\n",
      "  after removing the cwd from sys.path.\n",
      "/Users/masanoritakahashi/anaconda3/lib/python3.7/site-packages/ipykernel_launcher.py:5: DeprecationWarning: scipy.sqrt is deprecated and will be removed in SciPy 2.0.0, use numpy.lib.scimath.sqrt instead\n",
      "  \"\"\"\n"
     ]
    },
    {
     "data": {
      "image/png": "[encoded data removed]",
      "text/plain": [
       "<Figure size 432x288 with 1 Axes>"
      ]
     },
     "metadata": {
      "needs_background": "light"
     },
     "output_type": "display_data"
    }
   ],
   "source": [
    "# 50回繰り返す\n",
    "for i in sp.arange(50+1):\n",
    "    # Estep\n",
    "    # responsibilityの更新 \n",
    "    responsibility = EStep(k_size, data_x, lambda_vec, mu_vec, sigma2_vec)\n",
    "    \n",
    "    # Mstep\n",
    "    # 混合割合, 平均, 分散の更新\n",
    "    lambda_vec, mu_vec, sigma2_vec = MStep(k_size, responsibility, data_x)\n",
    "    \n",
    "    if i % 5 == 0:\n",
    "        print(\"i:\", i, \"lambda\", lambda_vec, \"mu\", mu_vec, \"sigma2\", sigma2_vec)\n",
    "        plt.plot(x, calc_mix_pdf(k_size, x, lambda_vec, mu_vec, sigma2_vec), label=f\"i:{i}\", linestyle=\"--\")\n",
    "        \n",
    "plt.plot(x, calc_mix_pdf(k_size, x, lambda_vec, mu_vec, sigma2_vec), label=f\"last{i}\", linestyle=\"-\")\n",
    "\n",
    "plt.legend()\n",
    "plt.tight_layout()\n",
    "plt.show()"
   ]
  },
  {
   "cell_type": "code",
   "execution_count": 131,
   "metadata": {},
   "outputs": [
    {
     "data": {
      "text/plain": [
       "2"
      ]
     },
     "execution_count": 131,
     "metadata": {},
     "output_type": "execute_result"
    }
   ],
   "source": [
    "k_size"
   ]
  },
  {
   "cell_type": "code",
   "execution_count": 132,
   "metadata": {},
   "outputs": [
    {
     "name": "stdout",
     "output_type": "stream",
     "text": [
      "f1の混合比率 0.5015054353560148\n",
      "mu1 39.699543065011625\n",
      "sigma1 102.81704571797046\n"
     ]
    }
   ],
   "source": [
    "print(\"f1の混合比率\", lambda_vec[0])\n",
    "print(\"mu1\", mu_vec[0])\n",
    "print(\"sigma1\", sigma2_vec[0])"
   ]
  },
  {
   "cell_type": "code",
   "execution_count": 133,
   "metadata": {},
   "outputs": [
    {
     "name": "stdout",
     "output_type": "stream",
     "text": [
      "f2の混合比率 0.5015054353560148\n",
      "mu2 69.8022310080956\n",
      "sigma2 24.964164838638073\n"
     ]
    }
   ],
   "source": [
    "print(\"f2の混合比率\", lambda_vec[0])\n",
    "print(\"mu2\", mu_vec[1])\n",
    "print(\"sigma2\", sigma2_vec[1])"
   ]
  },
  {
   "cell_type": "markdown",
   "metadata": {},
   "source": [
    "# 真の値\n",
    "- 平均40, 分散100  \n",
    "N1 = stats.norm(loc=40, scale=sp.sqrt(10*10))  \n",
    "- 平均70, 分散25  \n",
    "N2 = stats.norm(loc=70, scale=sp.sqrt(5*5))  "
   ]
  },
  {
   "cell_type": "code",
   "execution_count": 136,
   "metadata": {},
   "outputs": [
    {
     "name": "stderr",
     "output_type": "stream",
     "text": [
      "/Users/masanoritakahashi/anaconda3/lib/python3.7/site-packages/ipykernel_launcher.py:2: DeprecationWarning: scipy.zeros_like is deprecated and will be removed in SciPy 2.0.0, use numpy.zeros_like instead\n",
      "  \n",
      "/Users/masanoritakahashi/anaconda3/lib/python3.7/site-packages/ipykernel_launcher.py:4: DeprecationWarning: scipy.arange is deprecated and will be removed in SciPy 2.0.0, use numpy.arange instead\n",
      "  after removing the cwd from sys.path.\n",
      "/Users/masanoritakahashi/anaconda3/lib/python3.7/site-packages/ipykernel_launcher.py:5: DeprecationWarning: scipy.sqrt is deprecated and will be removed in SciPy 2.0.0, use numpy.lib.scimath.sqrt instead\n",
      "  \"\"\"\n"
     ]
    },
    {
     "data": {
      "text/plain": [
       "(array([0.00037421, 0.00037421, 0.00149685, 0.00074842, 0.00224527,\n",
       "        0.00486476, 0.00711003, 0.01047794, 0.01309742, 0.01571691,\n",
       "        0.01796218, 0.02058166, 0.01945903, 0.01833639, 0.01571691,\n",
       "        0.012349  , 0.00823267, 0.00785845, 0.00598739, 0.01047794,\n",
       "        0.01422006, 0.02394957, 0.03667278, 0.04378281, 0.02694327,\n",
       "        0.02245272, 0.01085215, 0.00074842, 0.00074842, 0.00037421]),\n",
       " array([ 7.68944992, 10.36173146, 13.034013  , 15.70629454, 18.37857608,\n",
       "        21.05085762, 23.72313915, 26.39542069, 29.06770223, 31.73998377,\n",
       "        34.41226531, 37.08454685, 39.75682839, 42.42910993, 45.10139147,\n",
       "        47.77367301, 50.44595454, 53.11823608, 55.79051762, 58.46279916,\n",
       "        61.1350807 , 63.80736224, 66.47964378, 69.15192532, 71.82420686,\n",
       "        74.4964884 , 77.16876993, 79.84105147, 82.51333301, 85.18561455,\n",
       "        87.85789609]),\n",
       " <a list of 30 Patch objects>)"
      ]
     },
     "execution_count": 136,
     "metadata": {},
     "output_type": "execute_result"
    },
    {
     "data": {
      "image/png": "[encoded data removed]",
      "text/plain": [
       "<Figure size 432x288 with 1 Axes>"
      ]
     },
     "metadata": {
      "needs_background": "light"
     },
     "output_type": "display_data"
    }
   ],
   "source": [
    "# 推定された分布の可視化\n",
    "plt.plot(x, calc_mix_pdf(k_size, x, lambda_vec, mu_vec, sigma2_vec), label=f\"last{i}\", linestyle=\"-\")\n",
    "plt.hist(data_x, bins=30, density=True)"
   ]
  },
  {
   "cell_type": "code",
   "execution_count": null,
   "metadata": {},
   "outputs": [],
   "source": []
  }
 ],
 "metadata": {
  "kernelspec": {
   "display_name": "Python 3",
   "language": "python",
   "name": "python3"
  },
  "language_info": {
   "codemirror_mode": {
    "name": "ipython",
    "version": 3
   },
   "file_extension": ".py",
   "mimetype": "text/x-python",
   "name": "python",
   "nbconvert_exporter": "python",
   "pygments_lexer": "ipython3",
   "version": "3.7.3"
  }
 },
 "nbformat": 4,
 "nbformat_minor": 4
}
