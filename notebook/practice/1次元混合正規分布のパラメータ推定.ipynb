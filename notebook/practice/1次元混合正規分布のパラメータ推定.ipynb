{
 "cells": [
  {
   "cell_type": "markdown",
   "metadata": {},
   "source": [
    "# 1次元の混合正規分布に対してのEMアルゴリズムを実装・描画\n",
    "- https://cartman0.hatenablog.com/entry/2019/07/01/EM%E3%82%A2%E3%83%AB%E3%82%B4%E3%83%AA%E3%82%BA%E3%83%A0%E3%81%A7%E6%B7%B7%E5%90%88%E6%AD%A3%E8%A6%8F%E5%88%86%E5%B8%83%28MoG%29%E3%81%AE%E3%83%91%E3%83%A9%E3%83%A1%E3%83%BC%E3%82%BF%E3%82%92%E5%B0%8E\n",
    "-  https://qiita.com/ta-ka/items/3e8b127620ac92a32864"
   ]
  },
  {
   "cell_type": "code",
   "execution_count": 1,
   "metadata": {},
   "outputs": [],
   "source": [
    "import scipy as sp\n",
    "from scipy import stats\n",
    "import matplotlib.pyplot as plt\n",
    "\n",
    "%matplotlib inline\n"
   ]
  },
  {
   "cell_type": "code",
   "execution_count": 18,
   "metadata": {},
   "outputs": [],
   "source": [
    "# E-step\n",
    "def EStep(k_size, data_x, lambda_vec, mu_vec, sigma2_vec):\n",
    "    '''\n",
    "    data_x[i]\n",
    "    lambda[k]\n",
    "    mu[k]\n",
    "    sigma[k]\n",
    "    '''\n",
    "    I = len(data_x)\n",
    "    responsibility = sp.empty((k_size, I))\n",
    "    for k in sp.arange(k_size):\n",
    "        norm = stats.norm(loc=mu_vec[k], scale=sp.sqrt(sigma2_vec[k]))\n",
    "        responsibility[k] = norm.pdf(data_x)\n",
    "\n",
    "    responsibility = responsibility / sp.sum(responsibility, axis=0)\n",
    "    return responsibility\n",
    "\n",
    "def MStep(k_size, responsibility, data_x):\n",
    "\n",
    "    lambda_vec = sp.empty(k_size)\n",
    "    mu_vec = sp.empty(k_size)\n",
    "    sigma2_vec = sp.empty(k_size)\n",
    "\n",
    "    for k in sp.arange(k_size):\n",
    "        r_k = responsibility[k]\n",
    "        lambda_vec[k] = sp.sum(r_k) / sp.sum(responsibility)\n",
    "        mu_vec[k] = sp.sum(r_k * data_x) / sp.sum(r_k)\n",
    "        sigma2_vec[k] = sp.sum(r_k * (data_x - mu_vec[k])**2) / sp.sum(r_k)\n",
    "\n",
    "    return lambda_vec, mu_vec, sigma2_vec"
   ]
  },
  {
   "cell_type": "code",
   "execution_count": 19,
   "metadata": {},
   "outputs": [],
   "source": [
    "def calc_mix_pdf(k_size, x, lambda_vec, mu_vec, sigma2_vec):\n",
    "    pdf = sp.zeros_like(x)\n",
    "\n",
    "    for k in sp.arange(k_size):\n",
    "        norm_k = stats.norm(loc=mu_vec[k], scale=sp.sqrt(sigma2_vec[k]))\n",
    "        pdf += lambda_vec[k] * norm_k.pdf(x)\n",
    "    return pdf"
   ]
  },
  {
   "cell_type": "code",
   "execution_count": 20,
   "metadata": {},
   "outputs": [
    {
     "name": "stderr",
     "output_type": "stream",
     "text": [
      "/Users/masanoritakahashi/anaconda3/lib/python3.7/site-packages/ipykernel_launcher.py:1: DeprecationWarning: scipy.sqrt is deprecated and will be removed in SciPy 2.0.0, use numpy.lib.scimath.sqrt instead\n",
      "  \"\"\"Entry point for launching an IPython kernel.\n",
      "/Users/masanoritakahashi/anaconda3/lib/python3.7/site-packages/ipykernel_launcher.py:2: DeprecationWarning: scipy.sqrt is deprecated and will be removed in SciPy 2.0.0, use numpy.lib.scimath.sqrt instead\n",
      "  \n",
      "/Users/masanoritakahashi/anaconda3/lib/python3.7/site-packages/ipykernel_launcher.py:4: DeprecationWarning: scipy.around is deprecated and will be removed in SciPy 2.0.0, use numpy.around instead\n",
      "  after removing the cwd from sys.path.\n",
      "/Users/masanoritakahashi/anaconda3/lib/python3.7/site-packages/ipykernel_launcher.py:5: DeprecationWarning: scipy.around is deprecated and will be removed in SciPy 2.0.0, use numpy.around instead\n",
      "  \"\"\"\n",
      "/Users/masanoritakahashi/anaconda3/lib/python3.7/site-packages/ipykernel_launcher.py:7: DeprecationWarning: scipy.hstack is deprecated and will be removed in SciPy 2.0.0, use numpy.hstack instead\n",
      "  import sys\n"
     ]
    },
    {
     "data": {
      "text/plain": [
       "array([ 0.451561  ,  2.57702714,  2.60767316,  2.78609303,  2.25855502,\n",
       "        1.20100074,  2.00858177,  2.25491291,  1.14294744,  1.93436351,\n",
       "        1.11159703,  2.89203096,  2.26106405,  2.3019888 ,  3.80969819,\n",
       "       -0.294587  ,  2.2033619 ,  3.02772942,  0.70938407,  1.44405468,\n",
       "        0.94176999, -0.48419912,  3.12504298,  2.42216775,  1.21781153,\n",
       "        2.44878583,  1.86962413,  3.6296551 ,  2.10739398,  2.47636464,\n",
       "        0.02604175,  2.11496547, -0.1059809 ,  2.79401886,  2.19690883,\n",
       "        2.84720744,  2.86094799,  2.07725188,  2.25144116,  1.15531307,\n",
       "        3.0127475 ,  2.4472172 ,  1.9867726 ,  2.97434096,  0.54431758,\n",
       "        0.75467008,  0.33219096,  1.49076344,  0.32452611,  2.82954392,\n",
       "        0.87137407, -0.35135103,  2.83344057,  2.35176034,  2.34654802,\n",
       "        2.65600163,  1.35651816,  2.12836789,  1.31925894,  0.47808539,\n",
       "        3.93801921,  1.62491457,  3.03824727,  2.95940389,  2.51365906,\n",
       "        2.21938531,  2.89993441,  1.91843565,  2.27613704,  3.4372798 ,\n",
       "        1.67670265,  1.72206358,  0.45976325,  1.21876643,  0.64008744,\n",
       "        1.40189299,  0.60346321,  3.04754715,  1.81477837,  2.16150375,\n",
       "        2.03685011,  0.78351865,  0.93275401,  1.03219754,  1.94517059,\n",
       "        0.49671307,  1.54995115,  2.19512696,  2.73592917,  1.11520879,\n",
       "        1.76660554,  0.77848489,  1.63796184,  1.23563928,  3.45152697,\n",
       "        1.66622706,  1.55717463,  2.31965411,  1.82509612,  1.98284049,\n",
       "        1.16275015,  3.35967051,  1.86264217,  2.30899399,  2.37675924,\n",
       "        2.36802202,  2.86282904,  0.98616804,  0.91062682,  0.67056595,\n",
       "        1.64649699,  2.09453901,  2.22449646,  3.16286172,  2.66955811,\n",
       "        2.33975944,  1.42046803,  1.38442667,  2.19676668,  2.28247063,\n",
       "        0.11199389,  1.1210467 ,  2.95840128,  4.10176635,  2.04367552,\n",
       "        2.51028584,  0.29422086,  3.31987459,  1.15600607,  2.93975099,\n",
       "        3.39768565,  1.17623443,  2.24178896,  1.39354617,  1.81830939,\n",
       "        1.69731348,  2.41917201,  1.77243106,  3.17898028,  4.0768878 ,\n",
       "        0.4991379 ,  0.6036789 ,  0.2424948 ,  1.55429028,  0.47796769,\n",
       "        0.98348379,  3.44875529,  1.41342315,  4.88542793,  0.65486827,\n",
       "        3.08277107,  3.50740257,  0.3851798 ,  3.79034711,  1.77995184,\n",
       "        1.219134  ,  3.17657557,  2.48163391,  0.61089168,  1.68929749,\n",
       "        4.04706345,  3.42184457,  2.55286834,  3.85591766,  1.01577137,\n",
       "        2.06065223,  3.0497548 ,  0.36946281,  1.73517266,  2.08530945,\n",
       "        2.08110767,  0.27200457,  3.39132541,  2.59217616,  1.80741312,\n",
       "        1.48678098,  2.09099585,  1.68175953,  2.66594859,  1.5940632 ,\n",
       "        1.90443545,  1.80431676,  1.90401834,  3.39228794,  1.17394785,\n",
       "        1.22096195,  2.65343802,  2.86982568,  1.47022581,  2.17720212,\n",
       "        2.1272289 ,  3.10606719,  0.3264012 ,  1.76199958,  0.54522636,\n",
       "        0.85519883,  0.83718073,  2.66310959,  2.23563773,  4.31555339,\n",
       "        1.20030919,  4.23184629,  0.6094768 , -0.31717306,  2.80813156,\n",
       "        2.38802029,  2.93359837,  2.31795691,  1.82910269,  3.46462574,\n",
       "        0.90202981,  1.58922608,  1.74012958,  0.45296042,  2.3233349 ,\n",
       "        1.81456232,  1.8864126 ,  1.46438632,  2.14191726,  3.15809922,\n",
       "        2.33065952,  2.99371332,  3.11385945, -0.10296031,  1.51449716,\n",
       "        1.41577957,  1.97014008,  2.64012476,  2.2020861 ,  1.6469107 ,\n",
       "        2.59987562,  1.56110168,  4.6982985 ,  1.89944513,  2.24835781,\n",
       "        3.26907633,  2.48665404,  2.34258218,  1.26431205,  2.76186464,\n",
       "        1.29824847,  3.21979903, -0.30538156,  2.30572565,  0.99034853,\n",
       "        1.54917345,  1.51839276,  2.38836474,  3.68243555,  1.78121376,\n",
       "        2.61042162,  1.93047301,  1.11234425, -0.63437775,  1.10592881,\n",
       "        1.61581606,  0.87725233,  2.41649165,  3.02996764,  2.77399941,\n",
       "        2.07718678,  1.55033531,  1.06455634,  2.31511476,  3.93973781,\n",
       "        4.0368039 ,  1.51030217,  2.35809466,  2.12423131,  2.03051469,\n",
       "        0.98072572,  1.98100391,  1.75427768,  3.87091767,  1.39754711,\n",
       "        2.68287437,  0.83326241,  0.62527829,  0.8687423 ,  1.06409163,\n",
       "        1.14173462,  0.71535293,  3.09607786,  0.4633464 ,  2.35806657,\n",
       "        1.55662553,  0.84320833,  2.80986308,  3.77892104,  1.82082862,\n",
       "        1.82693742,  3.04749651,  0.66673924,  1.15971407,  2.60545171,\n",
       "        1.43058802,  2.37234242,  2.04386498,  2.12148367,  2.00719522,\n",
       "        2.94539289,  2.51933711,  1.92955754,  2.30617224,  1.17693432,\n",
       "        2.84941407,  1.54322247,  0.16608801,  2.91664913,  3.6336479 ,\n",
       "        2.7573794 ,  2.47106974,  1.85038416,  1.8810106 ,  1.84014938,\n",
       "        2.51995245,  1.77628386,  2.23866278,  1.22999022,  0.75233548,\n",
       "        1.60462493,  1.70163352,  0.1769353 ,  1.77570119,  2.13826224,\n",
       "        1.62062373,  2.93612663,  2.39585433,  2.57338951,  1.57773585,\n",
       "        0.96246437,  0.79058083,  1.98822098,  2.56344471,  0.29078792,\n",
       "        2.87278864,  2.81023269,  3.08295245,  2.84294978, -0.66440637,\n",
       "        2.31971972,  0.1514117 ,  3.26642371,  1.377376  ,  0.0527748 ,\n",
       "        0.88321433,  2.54875004,  1.93331802,  1.18158538,  1.81677355,\n",
       "        2.78689862,  2.11093266,  2.92996492,  0.98705311,  1.04461025,\n",
       "        1.3880904 ,  3.07362184,  4.07920584,  3.36846295,  1.28483545,\n",
       "        1.23792648,  2.26447765,  1.84849367,  2.91640323,  1.27727903,\n",
       "        1.26418299,  4.17111022,  1.93050854,  3.05383156,  1.04307151,\n",
       "        2.90172592,  3.66801844,  4.16323074,  0.62676265,  1.25974171,\n",
       "        1.19595571,  1.09584738,  1.97015036, -0.19192509,  2.90837948,\n",
       "        0.433925  ,  1.47702806,  0.07029047,  1.10404591,  1.14010243,\n",
       "        1.04153679,  1.55166979,  1.8822552 ,  0.75781726,  1.73137611,\n",
       "        2.02833537,  1.91016427,  1.92236723,  3.42244757,  1.71658216,\n",
       "        2.21024607,  2.59778784,  2.17931768,  2.82209604,  0.66599071,\n",
       "        2.12273601,  2.99558589,  2.23132089,  2.18368073,  1.9007346 ,\n",
       "        2.24275236,  3.49453717,  1.19855024,  3.37639785,  3.20707369,\n",
       "        1.38449169,  2.54704695,  3.47922324,  1.83327536,  1.31376744,\n",
       "        2.44590886,  3.1694454 ,  1.86169923,  2.21497826,  2.31632217,\n",
       "        1.75201752,  2.88138211,  1.95820744,  0.96711977,  2.32288722,\n",
       "        0.1538979 ,  1.91522649,  2.70009551,  1.7524997 ,  3.87026757,\n",
       "        3.11174394,  0.32174747,  2.51436392,  2.76093901,  0.98604768,\n",
       "        1.42609301,  0.6647053 ,  2.61767119,  0.77335401,  1.88875059,\n",
       "        0.92034264,  2.65724909,  2.54224839,  2.68318553,  2.50038682,\n",
       "        0.72430864,  1.41133655,  3.09427844,  1.56415763,  0.84625006,\n",
       "        3.00375318,  2.8568307 ,  2.52807054,  1.8016606 ,  0.17830614,\n",
       "        1.56390795,  1.63602896,  2.73107147,  1.22507193,  2.40344259,\n",
       "        1.52509765,  2.74987546,  0.79279108,  1.04681934,  1.65889238,\n",
       "        2.04892593,  1.88445073,  1.41023468,  1.23350357,  0.62493968,\n",
       "        3.92325746,  3.0932929 ,  1.45606884,  2.34884493,  1.56318029,\n",
       "        1.63777819,  1.23351541,  1.89691767,  1.36438265,  1.68531565,\n",
       "        1.18147985,  2.13874975,  3.03398159,  2.7898014 ,  1.56509511,\n",
       "        1.50778755, -0.41663152,  0.29318709, -0.48134457,  1.67011469,\n",
       "        1.34999967,  3.08968011,  1.38980227,  1.78874567,  3.59064865,\n",
       "        1.78353773,  1.5755212 ,  3.01093998,  2.75159548,  1.35783712,\n",
       "        0.74698463,  2.31144398,  2.80613558,  0.71247699,  1.48021723,\n",
       "        2.54337851,  2.88639395,  1.92117025,  1.60638933,  1.60283751,\n",
       "        0.92333453,  3.59261001,  1.19104924,  2.33033155,  1.92050194,\n",
       "        4.15024379,  3.32805516, -0.17877847,  2.63633269,  2.1455779 ,\n",
       "        2.30320197,  1.56957496,  2.17999149,  2.62090269,  3.0976856 ,\n",
       "        1.48436856,  2.1356232 ,  1.91666215,  1.77965751,  1.27663607,\n",
       "        1.80657616,  1.68681543,  1.86799804,  1.42852415,  1.54803981,\n",
       "        0.54339605,  1.38183764,  1.18485622,  2.35209653,  1.15632867,\n",
       "        1.37720118,  1.86153181,  2.61963514,  3.3246249 ,  0.68581504,\n",
       "        1.01170817,  2.03379105,  1.25439588, -0.0754052 ,  2.03335413,\n",
       "        0.61071059, -0.05061758,  0.97254429,  2.95858702,  0.99705329,\n",
       "        1.42581686,  2.24810012,  1.69045623,  2.69418569,  0.51362826,\n",
       "        0.39824257,  0.39287209,  1.54084957,  3.88807236,  2.11524311,\n",
       "        2.09393558,  1.6539875 ,  1.29592183,  2.20893913,  3.45690183,\n",
       "        1.7608098 ,  0.57595843,  1.78333434,  1.6836628 ,  2.29329978,\n",
       "        3.14638154,  2.99009274,  0.74101353,  1.59808935,  1.09460944,\n",
       "        1.4420465 ,  0.67552163,  4.63190565,  1.82982306,  3.89223425,\n",
       "        2.01557928,  1.92302136,  3.55115172,  2.64612299,  3.30983448,\n",
       "        2.32016402,  2.41627487,  1.90878136,  2.28266079,  2.50345506,\n",
       "        2.53174876,  3.2459756 ,  2.61143354,  2.56000996,  1.85805483,\n",
       "        1.70438483,  1.97999707,  1.38908103,  0.93255772,  2.03632631,\n",
       "        4.37761909,  0.97066293,  1.870766  ,  0.9793559 ,  2.65665109,\n",
       "        1.30697422,  2.45526365,  1.38686228,  2.7415799 ,  0.90948108,\n",
       "        1.1681655 ,  0.95689202,  3.38909719,  1.93904009,  1.90222278,\n",
       "        2.67765205,  3.80375792,  2.28430698,  0.1596758 ,  0.73961082,\n",
       "        1.09325865,  2.43912817,  1.4010806 ,  0.06917945,  2.10162477,\n",
       "        2.89732415,  1.53618661,  1.92965112,  0.1824731 ,  1.84759255,\n",
       "        3.6350137 ,  1.37529618,  1.73887861,  1.67696999,  1.33942125,\n",
       "        1.7870693 ,  3.48505503,  2.52391433,  2.73133929,  2.46411606,\n",
       "        2.27700303,  2.02647508,  1.36673844,  3.87190195,  1.60754877,\n",
       "        1.77151942,  1.97407332,  1.30639162,  3.40637762,  1.88767546,\n",
       "        3.48532237,  2.42500507,  2.36426025,  1.78635961,  3.36651288,\n",
       "       -0.49012404,  2.47365896,  1.78252164,  2.0068495 ,  1.17785284,\n",
       "        0.17105283,  1.61062394, -1.51854552, -2.92084106, -2.01879502,\n",
       "       -1.10940287, -0.71608384, -2.04289786, -3.25789228, -0.7674439 ,\n",
       "       -3.36880957, -0.75968893, -1.86715866, -1.77453541, -0.77222576,\n",
       "       -2.1387491 , -0.89972501, -1.36387531, -2.2978928 , -1.0376841 ,\n",
       "       -2.97249649, -1.66033059, -2.70723864, -1.46772205, -2.21737965,\n",
       "       -0.52740716, -0.15016718, -2.8748874 , -1.00115735, -1.10249099,\n",
       "       -1.63769649, -3.59083865, -1.78454986, -2.16746906, -0.46565987,\n",
       "       -2.13090322, -2.97536275, -1.06897179, -1.18869545, -1.23644687,\n",
       "       -2.83824218, -3.07349968, -3.78976386, -0.75386437, -3.69264907,\n",
       "       -1.29755088, -2.98333434, -2.25687246, -1.95533752, -0.86475958,\n",
       "       -1.8743159 , -2.86098573, -0.76913754, -0.51918625, -3.00911695,\n",
       "       -2.71561212, -1.31808368, -1.90428952, -3.66561928, -2.81296746,\n",
       "       -2.16224999,  0.00904217, -2.01766769, -0.15965467, -0.8067595 ,\n",
       "       -1.60802047, -2.69235318, -2.41035955, -0.49857705, -1.34203358,\n",
       "       -1.82392522, -2.11171904, -2.31206035, -4.67193239, -1.4533547 ,\n",
       "       -3.12231006, -2.18736676, -2.7854615 , -0.92092161, -3.12547258,\n",
       "       -3.43511942, -2.75777208, -2.63315794, -1.41178781, -2.33667832,\n",
       "       -3.09554119, -1.01158757, -3.76016889, -1.80683777, -3.58532839,\n",
       "       -0.73525604, -1.95113255, -1.63350871, -2.70179502, -2.37400367,\n",
       "       -2.3229456 , -3.53897698, -0.98856269, -1.2401288 , -1.28756255,\n",
       "       -2.91649257, -2.22654082, -2.03383811, -2.96536689, -3.47754962,\n",
       "       -1.59904832, -0.82189349, -0.85484903, -2.50839925, -1.26743838,\n",
       "       -3.29127103, -4.34930656, -2.09147128, -1.46556475, -1.83404197,\n",
       "       -1.05443081,  0.71205444, -1.65572051, -2.52197034, -3.28621964,\n",
       "       -3.57309257, -1.72829324, -1.45340513,  0.14399267, -3.32407733,\n",
       "       -3.43793037, -2.28914579, -1.09051119, -2.96932904, -3.38044674,\n",
       "       -2.6972599 , -2.6470665 , -1.77310734, -0.63020754, -2.68309659,\n",
       "       -1.93835873, -2.04179916, -3.14092723, -1.46049179, -0.56603087,\n",
       "       -0.93465289, -1.42935169, -2.11518719, -3.20262054, -2.12719949,\n",
       "       -2.27978448, -2.66445644, -1.64035076, -0.69156516, -1.35476979,\n",
       "       -3.4600756 , -1.5136754 , -1.53081262, -3.66941662, -2.49788864,\n",
       "       -0.81443359, -1.02036361, -1.13582003, -1.66945652, -3.01159402,\n",
       "       -2.87251896, -4.07720822, -2.0276248 , -1.35232719, -1.48294265,\n",
       "       -0.92431859, -2.21206786, -2.30611904, -2.63432399, -1.81481644,\n",
       "       -2.87620167, -2.90790754, -2.48402239, -1.61027429, -1.33978356,\n",
       "       -1.88665147, -2.58252471, -0.85569331, -2.19763243, -2.53567531,\n",
       "       -0.45303952, -1.14282755, -2.24828946, -2.71311532, -1.61361261,\n",
       "       -2.61849167, -0.9057933 , -1.13198795, -0.25231802, -2.14395636,\n",
       "       -3.12675841, -3.95434408, -2.1351561 , -4.19956836,  0.15515354,\n",
       "       -1.8250707 , -4.44470119, -1.94087591, -1.70870752, -2.73000254,\n",
       "       -4.27859003, -2.73199891, -1.62846475, -1.51552854, -3.79651785,\n",
       "       -3.36061823, -1.10111002, -2.12127066, -0.7358356 , -1.51081753,\n",
       "       -2.58507291, -0.11811269, -1.95969375, -0.85621604, -3.21530722,\n",
       "       -3.07770299, -3.17701622, -1.67106305, -1.95211991, -2.13853606,\n",
       "       -2.67867911, -3.44339019, -2.54189669, -1.73063136, -1.63084169,\n",
       "       -1.69796311, -1.61583166, -1.30805   , -2.10805542, -4.26419427,\n",
       "       -2.02264798, -3.00373371, -3.22895365, -1.80772218, -3.13273569,\n",
       "       -1.89903377, -1.43552587, -1.64518802, -0.84691896,  0.0558505 ,\n",
       "       -3.10190681, -1.93788674, -2.02897931, -1.44764702, -3.17374592,\n",
       "       -1.49541978, -0.88312138, -3.48119315, -0.18737566, -1.37217417,\n",
       "       -2.62301376, -2.20172572, -3.02228771, -3.08201924, -2.21879119,\n",
       "       -2.2322101 , -3.86885786, -1.20175876, -0.66746129, -2.0443597 ,\n",
       "       -1.26738453, -3.54429541, -1.68562209, -1.42279723, -1.55923639,\n",
       "       -2.70558762, -1.43480547, -3.06535677, -1.04058766, -3.37502247,\n",
       "       -0.87253027, -0.69222801, -1.38210712, -2.82436212, -3.96746323,\n",
       "       -2.20995211, -2.51769023,  0.27802202, -3.11839942, -1.38556157,\n",
       "       -2.31371548, -2.51224053, -1.28093737, -1.58540108, -2.39701353,\n",
       "       -1.49215894, -2.92618661, -3.06228966, -1.54424052, -0.92663612,\n",
       "        0.06598135, -3.67756806, -0.62934323, -2.19640624, -0.77621221,\n",
       "       -2.39968592, -1.67406623, -1.05898895, -1.58606259, -3.22431917,\n",
       "       -2.36628392, -1.48948464, -2.43133145, -1.30998916, -2.40215428,\n",
       "       -1.91385012, -2.5961514 , -3.53749545, -3.68563816, -1.23472071,\n",
       "       -1.92118342, -1.602709  , -0.52079822, -2.78890981, -2.07486775,\n",
       "       -3.37924494, -2.4794711 , -1.77103831, -2.38605985, -1.21285585,\n",
       "       -1.58457013, -2.28633889, -2.56679241, -0.74124673, -0.98292118,\n",
       "       -2.1395097 , -2.44765857, -0.77636229, -1.49022726, -2.15838281,\n",
       "       -0.78683121, -2.84844002, -2.22717463, -1.32126368, -1.2419701 ])"
      ]
     },
     "execution_count": 20,
     "metadata": {},
     "output_type": "execute_result"
    }
   ],
   "source": [
    "N1 = stats.norm(loc=2, scale=sp.sqrt(1))\n",
    "N2 = stats.norm(loc=-2, scale=sp.sqrt(1))\n",
    "\n",
    "s1 = N1.rvs(size=int(sp.around(1000/3*2)))\n",
    "s2 = N2.rvs(size=int(sp.around(1000/3*1)))\n",
    "\n",
    "data_x = sp.hstack((s1, s2))\n",
    "data_x"
   ]
  },
  {
   "cell_type": "code",
   "execution_count": 21,
   "metadata": {},
   "outputs": [
    {
     "data": {
      "text/plain": [
       "(array([0.00627788, 0.01569471, 0.01883365, 0.05336201, 0.07533461,\n",
       "        0.08475143, 0.10044614, 0.12555768, 0.10986297, 0.12555768,\n",
       "        0.11300191, 0.09102932, 0.07533461, 0.04708413, 0.05336201,\n",
       "        0.07847355, 0.11614086, 0.14439133, 0.20089229, 0.26053219,\n",
       "        0.29506055, 0.25739325, 0.20403123, 0.1789197 , 0.1192798 ,\n",
       "        0.08789038, 0.05022307, 0.03452836, 0.00627788, 0.00941683]),\n",
       " array([-4.67193239, -4.35335372, -4.03477504, -3.71619636, -3.39761768,\n",
       "        -3.07903901, -2.76046033, -2.44188165, -2.12330297, -1.8047243 ,\n",
       "        -1.48614562, -1.16756694, -0.84898827, -0.53040959, -0.21183091,\n",
       "         0.10674777,  0.42532644,  0.74390512,  1.0624838 ,  1.38106248,\n",
       "         1.69964115,  2.01821983,  2.33679851,  2.65537719,  2.97395586,\n",
       "         3.29253454,  3.61111322,  3.9296919 ,  4.24827057,  4.56684925,\n",
       "         4.88542793]),\n",
       " <a list of 30 Patch objects>)"
      ]
     },
     "execution_count": 21,
     "metadata": {},
     "output_type": "execute_result"
    },
    {
     "data": {
      "image/png": "[encoded data removed]",
      "text/plain": [
       "<Figure size 432x288 with 1 Axes>"
      ]
     },
     "metadata": {
      "needs_background": "light"
     },
     "output_type": "display_data"
    }
   ],
   "source": [
    "# print(\"True:\", 2/3, 1/3)\n",
    "plt.hist(data_x, bins=30, density=True)\n"
   ]
  },
  {
   "cell_type": "code",
   "execution_count": 22,
   "metadata": {},
   "outputs": [
    {
     "name": "stderr",
     "output_type": "stream",
     "text": [
      "/Users/masanoritakahashi/anaconda3/lib/python3.7/site-packages/ipykernel_launcher.py:7: DeprecationWarning: scipy.linspace is deprecated and will be removed in SciPy 2.0.0, use numpy.linspace instead\n",
      "  import sys\n",
      "/Users/masanoritakahashi/anaconda3/lib/python3.7/site-packages/ipykernel_launcher.py:2: DeprecationWarning: scipy.zeros_like is deprecated and will be removed in SciPy 2.0.0, use numpy.zeros_like instead\n",
      "  \n",
      "/Users/masanoritakahashi/anaconda3/lib/python3.7/site-packages/ipykernel_launcher.py:4: DeprecationWarning: scipy.arange is deprecated and will be removed in SciPy 2.0.0, use numpy.arange instead\n",
      "  after removing the cwd from sys.path.\n",
      "/Users/masanoritakahashi/anaconda3/lib/python3.7/site-packages/ipykernel_launcher.py:5: DeprecationWarning: scipy.sqrt is deprecated and will be removed in SciPy 2.0.0, use numpy.lib.scimath.sqrt instead\n",
      "  \"\"\"\n"
     ]
    },
    {
     "data": {
      "text/plain": [
       "[<matplotlib.lines.Line2D at 0x7fc57c10ac18>]"
      ]
     },
     "execution_count": 22,
     "metadata": {},
     "output_type": "execute_result"
    },
    {
     "data": {
      "image/png": "[encoded data removed]",
      "text/plain": [
       "<Figure size 432x288 with 1 Axes>"
      ]
     },
     "metadata": {
      "needs_background": "light"
     },
     "output_type": "display_data"
    }
   ],
   "source": [
    "#init\n",
    "k_size = 2\n",
    "lambda_vec=[0.5, 0.5]\n",
    "mu_vec=[1, -1]\n",
    "sigma2_vec=[1, 1, 1, 1]\n",
    "\n",
    "x = sp.linspace(-6, 6, 200)\n",
    "plt.plot(x, calc_mix_pdf(k_size, x, lambda_vec, mu_vec, sigma2_vec), label=\"ini\")\n"
   ]
  },
  {
   "cell_type": "code",
   "execution_count": 23,
   "metadata": {},
   "outputs": [
    {
     "name": "stderr",
     "output_type": "stream",
     "text": [
      "/Users/masanoritakahashi/anaconda3/lib/python3.7/site-packages/ipykernel_launcher.py:1: DeprecationWarning: scipy.arange is deprecated and will be removed in SciPy 2.0.0, use numpy.arange instead\n",
      "  \"\"\"Entry point for launching an IPython kernel.\n",
      "/Users/masanoritakahashi/anaconda3/lib/python3.7/site-packages/ipykernel_launcher.py:10: DeprecationWarning: scipy.empty is deprecated and will be removed in SciPy 2.0.0, use numpy.empty instead\n",
      "  # Remove the CWD from sys.path while we load stuff.\n",
      "/Users/masanoritakahashi/anaconda3/lib/python3.7/site-packages/ipykernel_launcher.py:11: DeprecationWarning: scipy.arange is deprecated and will be removed in SciPy 2.0.0, use numpy.arange instead\n",
      "  # This is added back by InteractiveShellApp.init_path()\n",
      "/Users/masanoritakahashi/anaconda3/lib/python3.7/site-packages/ipykernel_launcher.py:12: DeprecationWarning: scipy.sqrt is deprecated and will be removed in SciPy 2.0.0, use numpy.lib.scimath.sqrt instead\n",
      "  if sys.path[0] == '':\n",
      "/Users/masanoritakahashi/anaconda3/lib/python3.7/site-packages/ipykernel_launcher.py:15: DeprecationWarning: scipy.sum is deprecated and will be removed in SciPy 2.0.0, use numpy.sum instead\n",
      "  from ipykernel import kernelapp as app\n",
      "/Users/masanoritakahashi/anaconda3/lib/python3.7/site-packages/ipykernel_launcher.py:20: DeprecationWarning: scipy.empty is deprecated and will be removed in SciPy 2.0.0, use numpy.empty instead\n",
      "/Users/masanoritakahashi/anaconda3/lib/python3.7/site-packages/ipykernel_launcher.py:21: DeprecationWarning: scipy.empty is deprecated and will be removed in SciPy 2.0.0, use numpy.empty instead\n",
      "/Users/masanoritakahashi/anaconda3/lib/python3.7/site-packages/ipykernel_launcher.py:22: DeprecationWarning: scipy.empty is deprecated and will be removed in SciPy 2.0.0, use numpy.empty instead\n",
      "/Users/masanoritakahashi/anaconda3/lib/python3.7/site-packages/ipykernel_launcher.py:24: DeprecationWarning: scipy.arange is deprecated and will be removed in SciPy 2.0.0, use numpy.arange instead\n",
      "/Users/masanoritakahashi/anaconda3/lib/python3.7/site-packages/ipykernel_launcher.py:26: DeprecationWarning: scipy.sum is deprecated and will be removed in SciPy 2.0.0, use numpy.sum instead\n",
      "/Users/masanoritakahashi/anaconda3/lib/python3.7/site-packages/ipykernel_launcher.py:27: DeprecationWarning: scipy.sum is deprecated and will be removed in SciPy 2.0.0, use numpy.sum instead\n",
      "/Users/masanoritakahashi/anaconda3/lib/python3.7/site-packages/ipykernel_launcher.py:28: DeprecationWarning: scipy.sum is deprecated and will be removed in SciPy 2.0.0, use numpy.sum instead\n",
      "/Users/masanoritakahashi/anaconda3/lib/python3.7/site-packages/ipykernel_launcher.py:2: DeprecationWarning: scipy.zeros_like is deprecated and will be removed in SciPy 2.0.0, use numpy.zeros_like instead\n",
      "  \n",
      "/Users/masanoritakahashi/anaconda3/lib/python3.7/site-packages/ipykernel_launcher.py:4: DeprecationWarning: scipy.arange is deprecated and will be removed in SciPy 2.0.0, use numpy.arange instead\n",
      "  after removing the cwd from sys.path.\n",
      "/Users/masanoritakahashi/anaconda3/lib/python3.7/site-packages/ipykernel_launcher.py:5: DeprecationWarning: scipy.sqrt is deprecated and will be removed in SciPy 2.0.0, use numpy.lib.scimath.sqrt instead\n",
      "  \"\"\"\n",
      "/Users/masanoritakahashi/anaconda3/lib/python3.7/site-packages/ipykernel_launcher.py:10: DeprecationWarning: scipy.empty is deprecated and will be removed in SciPy 2.0.0, use numpy.empty instead\n",
      "  # Remove the CWD from sys.path while we load stuff.\n",
      "/Users/masanoritakahashi/anaconda3/lib/python3.7/site-packages/ipykernel_launcher.py:11: DeprecationWarning: scipy.arange is deprecated and will be removed in SciPy 2.0.0, use numpy.arange instead\n",
      "  # This is added back by InteractiveShellApp.init_path()\n",
      "/Users/masanoritakahashi/anaconda3/lib/python3.7/site-packages/ipykernel_launcher.py:12: DeprecationWarning: scipy.sqrt is deprecated and will be removed in SciPy 2.0.0, use numpy.lib.scimath.sqrt instead\n",
      "  if sys.path[0] == '':\n",
      "/Users/masanoritakahashi/anaconda3/lib/python3.7/site-packages/ipykernel_launcher.py:15: DeprecationWarning: scipy.sum is deprecated and will be removed in SciPy 2.0.0, use numpy.sum instead\n",
      "  from ipykernel import kernelapp as app\n",
      "/Users/masanoritakahashi/anaconda3/lib/python3.7/site-packages/ipykernel_launcher.py:20: DeprecationWarning: scipy.empty is deprecated and will be removed in SciPy 2.0.0, use numpy.empty instead\n",
      "/Users/masanoritakahashi/anaconda3/lib/python3.7/site-packages/ipykernel_launcher.py:21: DeprecationWarning: scipy.empty is deprecated and will be removed in SciPy 2.0.0, use numpy.empty instead\n",
      "/Users/masanoritakahashi/anaconda3/lib/python3.7/site-packages/ipykernel_launcher.py:22: DeprecationWarning: scipy.empty is deprecated and will be removed in SciPy 2.0.0, use numpy.empty instead\n",
      "/Users/masanoritakahashi/anaconda3/lib/python3.7/site-packages/ipykernel_launcher.py:24: DeprecationWarning: scipy.arange is deprecated and will be removed in SciPy 2.0.0, use numpy.arange instead\n",
      "/Users/masanoritakahashi/anaconda3/lib/python3.7/site-packages/ipykernel_launcher.py:26: DeprecationWarning: scipy.sum is deprecated and will be removed in SciPy 2.0.0, use numpy.sum instead\n",
      "/Users/masanoritakahashi/anaconda3/lib/python3.7/site-packages/ipykernel_launcher.py:27: DeprecationWarning: scipy.sum is deprecated and will be removed in SciPy 2.0.0, use numpy.sum instead\n",
      "/Users/masanoritakahashi/anaconda3/lib/python3.7/site-packages/ipykernel_launcher.py:28: DeprecationWarning: scipy.sum is deprecated and will be removed in SciPy 2.0.0, use numpy.sum instead\n",
      "/Users/masanoritakahashi/anaconda3/lib/python3.7/site-packages/ipykernel_launcher.py:2: DeprecationWarning: scipy.zeros_like is deprecated and will be removed in SciPy 2.0.0, use numpy.zeros_like instead\n",
      "  \n",
      "/Users/masanoritakahashi/anaconda3/lib/python3.7/site-packages/ipykernel_launcher.py:4: DeprecationWarning: scipy.arange is deprecated and will be removed in SciPy 2.0.0, use numpy.arange instead\n",
      "  after removing the cwd from sys.path.\n",
      "/Users/masanoritakahashi/anaconda3/lib/python3.7/site-packages/ipykernel_launcher.py:5: DeprecationWarning: scipy.sqrt is deprecated and will be removed in SciPy 2.0.0, use numpy.lib.scimath.sqrt instead\n",
      "  \"\"\"\n",
      "/Users/masanoritakahashi/anaconda3/lib/python3.7/site-packages/ipykernel_launcher.py:10: DeprecationWarning: scipy.empty is deprecated and will be removed in SciPy 2.0.0, use numpy.empty instead\n",
      "  # Remove the CWD from sys.path while we load stuff.\n",
      "/Users/masanoritakahashi/anaconda3/lib/python3.7/site-packages/ipykernel_launcher.py:11: DeprecationWarning: scipy.arange is deprecated and will be removed in SciPy 2.0.0, use numpy.arange instead\n",
      "  # This is added back by InteractiveShellApp.init_path()\n",
      "/Users/masanoritakahashi/anaconda3/lib/python3.7/site-packages/ipykernel_launcher.py:12: DeprecationWarning: scipy.sqrt is deprecated and will be removed in SciPy 2.0.0, use numpy.lib.scimath.sqrt instead\n",
      "  if sys.path[0] == '':\n",
      "/Users/masanoritakahashi/anaconda3/lib/python3.7/site-packages/ipykernel_launcher.py:15: DeprecationWarning: scipy.sum is deprecated and will be removed in SciPy 2.0.0, use numpy.sum instead\n",
      "  from ipykernel import kernelapp as app\n",
      "/Users/masanoritakahashi/anaconda3/lib/python3.7/site-packages/ipykernel_launcher.py:20: DeprecationWarning: scipy.empty is deprecated and will be removed in SciPy 2.0.0, use numpy.empty instead\n",
      "/Users/masanoritakahashi/anaconda3/lib/python3.7/site-packages/ipykernel_launcher.py:21: DeprecationWarning: scipy.empty is deprecated and will be removed in SciPy 2.0.0, use numpy.empty instead\n",
      "/Users/masanoritakahashi/anaconda3/lib/python3.7/site-packages/ipykernel_launcher.py:22: DeprecationWarning: scipy.empty is deprecated and will be removed in SciPy 2.0.0, use numpy.empty instead\n",
      "/Users/masanoritakahashi/anaconda3/lib/python3.7/site-packages/ipykernel_launcher.py:24: DeprecationWarning: scipy.arange is deprecated and will be removed in SciPy 2.0.0, use numpy.arange instead\n",
      "/Users/masanoritakahashi/anaconda3/lib/python3.7/site-packages/ipykernel_launcher.py:26: DeprecationWarning: scipy.sum is deprecated and will be removed in SciPy 2.0.0, use numpy.sum instead\n",
      "/Users/masanoritakahashi/anaconda3/lib/python3.7/site-packages/ipykernel_launcher.py:27: DeprecationWarning: scipy.sum is deprecated and will be removed in SciPy 2.0.0, use numpy.sum instead\n",
      "/Users/masanoritakahashi/anaconda3/lib/python3.7/site-packages/ipykernel_launcher.py:28: DeprecationWarning: scipy.sum is deprecated and will be removed in SciPy 2.0.0, use numpy.sum instead\n",
      "/Users/masanoritakahashi/anaconda3/lib/python3.7/site-packages/ipykernel_launcher.py:2: DeprecationWarning: scipy.zeros_like is deprecated and will be removed in SciPy 2.0.0, use numpy.zeros_like instead\n",
      "  \n",
      "/Users/masanoritakahashi/anaconda3/lib/python3.7/site-packages/ipykernel_launcher.py:4: DeprecationWarning: scipy.arange is deprecated and will be removed in SciPy 2.0.0, use numpy.arange instead\n",
      "  after removing the cwd from sys.path.\n",
      "/Users/masanoritakahashi/anaconda3/lib/python3.7/site-packages/ipykernel_launcher.py:5: DeprecationWarning: scipy.sqrt is deprecated and will be removed in SciPy 2.0.0, use numpy.lib.scimath.sqrt instead\n",
      "  \"\"\"\n",
      "/Users/masanoritakahashi/anaconda3/lib/python3.7/site-packages/ipykernel_launcher.py:10: DeprecationWarning: scipy.empty is deprecated and will be removed in SciPy 2.0.0, use numpy.empty instead\n",
      "  # Remove the CWD from sys.path while we load stuff.\n",
      "/Users/masanoritakahashi/anaconda3/lib/python3.7/site-packages/ipykernel_launcher.py:11: DeprecationWarning: scipy.arange is deprecated and will be removed in SciPy 2.0.0, use numpy.arange instead\n",
      "  # This is added back by InteractiveShellApp.init_path()\n",
      "/Users/masanoritakahashi/anaconda3/lib/python3.7/site-packages/ipykernel_launcher.py:12: DeprecationWarning: scipy.sqrt is deprecated and will be removed in SciPy 2.0.0, use numpy.lib.scimath.sqrt instead\n",
      "  if sys.path[0] == '':\n",
      "/Users/masanoritakahashi/anaconda3/lib/python3.7/site-packages/ipykernel_launcher.py:15: DeprecationWarning: scipy.sum is deprecated and will be removed in SciPy 2.0.0, use numpy.sum instead\n",
      "  from ipykernel import kernelapp as app\n",
      "/Users/masanoritakahashi/anaconda3/lib/python3.7/site-packages/ipykernel_launcher.py:20: DeprecationWarning: scipy.empty is deprecated and will be removed in SciPy 2.0.0, use numpy.empty instead\n",
      "/Users/masanoritakahashi/anaconda3/lib/python3.7/site-packages/ipykernel_launcher.py:21: DeprecationWarning: scipy.empty is deprecated and will be removed in SciPy 2.0.0, use numpy.empty instead\n",
      "/Users/masanoritakahashi/anaconda3/lib/python3.7/site-packages/ipykernel_launcher.py:22: DeprecationWarning: scipy.empty is deprecated and will be removed in SciPy 2.0.0, use numpy.empty instead\n",
      "/Users/masanoritakahashi/anaconda3/lib/python3.7/site-packages/ipykernel_launcher.py:24: DeprecationWarning: scipy.arange is deprecated and will be removed in SciPy 2.0.0, use numpy.arange instead\n",
      "/Users/masanoritakahashi/anaconda3/lib/python3.7/site-packages/ipykernel_launcher.py:26: DeprecationWarning: scipy.sum is deprecated and will be removed in SciPy 2.0.0, use numpy.sum instead\n",
      "/Users/masanoritakahashi/anaconda3/lib/python3.7/site-packages/ipykernel_launcher.py:27: DeprecationWarning: scipy.sum is deprecated and will be removed in SciPy 2.0.0, use numpy.sum instead\n",
      "/Users/masanoritakahashi/anaconda3/lib/python3.7/site-packages/ipykernel_launcher.py:28: DeprecationWarning: scipy.sum is deprecated and will be removed in SciPy 2.0.0, use numpy.sum instead\n",
      "/Users/masanoritakahashi/anaconda3/lib/python3.7/site-packages/ipykernel_launcher.py:2: DeprecationWarning: scipy.zeros_like is deprecated and will be removed in SciPy 2.0.0, use numpy.zeros_like instead\n",
      "  \n",
      "/Users/masanoritakahashi/anaconda3/lib/python3.7/site-packages/ipykernel_launcher.py:4: DeprecationWarning: scipy.arange is deprecated and will be removed in SciPy 2.0.0, use numpy.arange instead\n",
      "  after removing the cwd from sys.path.\n",
      "/Users/masanoritakahashi/anaconda3/lib/python3.7/site-packages/ipykernel_launcher.py:5: DeprecationWarning: scipy.sqrt is deprecated and will be removed in SciPy 2.0.0, use numpy.lib.scimath.sqrt instead\n",
      "  \"\"\"\n",
      "/Users/masanoritakahashi/anaconda3/lib/python3.7/site-packages/ipykernel_launcher.py:10: DeprecationWarning: scipy.empty is deprecated and will be removed in SciPy 2.0.0, use numpy.empty instead\n",
      "  # Remove the CWD from sys.path while we load stuff.\n",
      "/Users/masanoritakahashi/anaconda3/lib/python3.7/site-packages/ipykernel_launcher.py:11: DeprecationWarning: scipy.arange is deprecated and will be removed in SciPy 2.0.0, use numpy.arange instead\n",
      "  # This is added back by InteractiveShellApp.init_path()\n",
      "/Users/masanoritakahashi/anaconda3/lib/python3.7/site-packages/ipykernel_launcher.py:12: DeprecationWarning: scipy.sqrt is deprecated and will be removed in SciPy 2.0.0, use numpy.lib.scimath.sqrt instead\n",
      "  if sys.path[0] == '':\n",
      "/Users/masanoritakahashi/anaconda3/lib/python3.7/site-packages/ipykernel_launcher.py:15: DeprecationWarning: scipy.sum is deprecated and will be removed in SciPy 2.0.0, use numpy.sum instead\n",
      "  from ipykernel import kernelapp as app\n",
      "/Users/masanoritakahashi/anaconda3/lib/python3.7/site-packages/ipykernel_launcher.py:20: DeprecationWarning: scipy.empty is deprecated and will be removed in SciPy 2.0.0, use numpy.empty instead\n",
      "/Users/masanoritakahashi/anaconda3/lib/python3.7/site-packages/ipykernel_launcher.py:21: DeprecationWarning: scipy.empty is deprecated and will be removed in SciPy 2.0.0, use numpy.empty instead\n",
      "/Users/masanoritakahashi/anaconda3/lib/python3.7/site-packages/ipykernel_launcher.py:22: DeprecationWarning: scipy.empty is deprecated and will be removed in SciPy 2.0.0, use numpy.empty instead\n",
      "/Users/masanoritakahashi/anaconda3/lib/python3.7/site-packages/ipykernel_launcher.py:24: DeprecationWarning: scipy.arange is deprecated and will be removed in SciPy 2.0.0, use numpy.arange instead\n",
      "/Users/masanoritakahashi/anaconda3/lib/python3.7/site-packages/ipykernel_launcher.py:26: DeprecationWarning: scipy.sum is deprecated and will be removed in SciPy 2.0.0, use numpy.sum instead\n",
      "/Users/masanoritakahashi/anaconda3/lib/python3.7/site-packages/ipykernel_launcher.py:27: DeprecationWarning: scipy.sum is deprecated and will be removed in SciPy 2.0.0, use numpy.sum instead\n",
      "/Users/masanoritakahashi/anaconda3/lib/python3.7/site-packages/ipykernel_launcher.py:28: DeprecationWarning: scipy.sum is deprecated and will be removed in SciPy 2.0.0, use numpy.sum instead\n",
      "/Users/masanoritakahashi/anaconda3/lib/python3.7/site-packages/ipykernel_launcher.py:2: DeprecationWarning: scipy.zeros_like is deprecated and will be removed in SciPy 2.0.0, use numpy.zeros_like instead\n",
      "  \n",
      "/Users/masanoritakahashi/anaconda3/lib/python3.7/site-packages/ipykernel_launcher.py:4: DeprecationWarning: scipy.arange is deprecated and will be removed in SciPy 2.0.0, use numpy.arange instead\n",
      "  after removing the cwd from sys.path.\n",
      "/Users/masanoritakahashi/anaconda3/lib/python3.7/site-packages/ipykernel_launcher.py:5: DeprecationWarning: scipy.sqrt is deprecated and will be removed in SciPy 2.0.0, use numpy.lib.scimath.sqrt instead\n",
      "  \"\"\"\n",
      "/Users/masanoritakahashi/anaconda3/lib/python3.7/site-packages/ipykernel_launcher.py:10: DeprecationWarning: scipy.empty is deprecated and will be removed in SciPy 2.0.0, use numpy.empty instead\n",
      "  # Remove the CWD from sys.path while we load stuff.\n",
      "/Users/masanoritakahashi/anaconda3/lib/python3.7/site-packages/ipykernel_launcher.py:11: DeprecationWarning: scipy.arange is deprecated and will be removed in SciPy 2.0.0, use numpy.arange instead\n",
      "  # This is added back by InteractiveShellApp.init_path()\n",
      "/Users/masanoritakahashi/anaconda3/lib/python3.7/site-packages/ipykernel_launcher.py:12: DeprecationWarning: scipy.sqrt is deprecated and will be removed in SciPy 2.0.0, use numpy.lib.scimath.sqrt instead\n",
      "  if sys.path[0] == '':\n",
      "/Users/masanoritakahashi/anaconda3/lib/python3.7/site-packages/ipykernel_launcher.py:15: DeprecationWarning: scipy.sum is deprecated and will be removed in SciPy 2.0.0, use numpy.sum instead\n",
      "  from ipykernel import kernelapp as app\n",
      "/Users/masanoritakahashi/anaconda3/lib/python3.7/site-packages/ipykernel_launcher.py:20: DeprecationWarning: scipy.empty is deprecated and will be removed in SciPy 2.0.0, use numpy.empty instead\n",
      "/Users/masanoritakahashi/anaconda3/lib/python3.7/site-packages/ipykernel_launcher.py:21: DeprecationWarning: scipy.empty is deprecated and will be removed in SciPy 2.0.0, use numpy.empty instead\n",
      "/Users/masanoritakahashi/anaconda3/lib/python3.7/site-packages/ipykernel_launcher.py:22: DeprecationWarning: scipy.empty is deprecated and will be removed in SciPy 2.0.0, use numpy.empty instead\n",
      "/Users/masanoritakahashi/anaconda3/lib/python3.7/site-packages/ipykernel_launcher.py:24: DeprecationWarning: scipy.arange is deprecated and will be removed in SciPy 2.0.0, use numpy.arange instead\n",
      "/Users/masanoritakahashi/anaconda3/lib/python3.7/site-packages/ipykernel_launcher.py:26: DeprecationWarning: scipy.sum is deprecated and will be removed in SciPy 2.0.0, use numpy.sum instead\n",
      "/Users/masanoritakahashi/anaconda3/lib/python3.7/site-packages/ipykernel_launcher.py:27: DeprecationWarning: scipy.sum is deprecated and will be removed in SciPy 2.0.0, use numpy.sum instead\n",
      "/Users/masanoritakahashi/anaconda3/lib/python3.7/site-packages/ipykernel_launcher.py:28: DeprecationWarning: scipy.sum is deprecated and will be removed in SciPy 2.0.0, use numpy.sum instead\n",
      "/Users/masanoritakahashi/anaconda3/lib/python3.7/site-packages/ipykernel_launcher.py:2: DeprecationWarning: scipy.zeros_like is deprecated and will be removed in SciPy 2.0.0, use numpy.zeros_like instead\n",
      "  \n",
      "/Users/masanoritakahashi/anaconda3/lib/python3.7/site-packages/ipykernel_launcher.py:4: DeprecationWarning: scipy.arange is deprecated and will be removed in SciPy 2.0.0, use numpy.arange instead\n",
      "  after removing the cwd from sys.path.\n",
      "/Users/masanoritakahashi/anaconda3/lib/python3.7/site-packages/ipykernel_launcher.py:5: DeprecationWarning: scipy.sqrt is deprecated and will be removed in SciPy 2.0.0, use numpy.lib.scimath.sqrt instead\n",
      "  \"\"\"\n",
      "/Users/masanoritakahashi/anaconda3/lib/python3.7/site-packages/ipykernel_launcher.py:10: DeprecationWarning: scipy.empty is deprecated and will be removed in SciPy 2.0.0, use numpy.empty instead\n",
      "  # Remove the CWD from sys.path while we load stuff.\n",
      "/Users/masanoritakahashi/anaconda3/lib/python3.7/site-packages/ipykernel_launcher.py:11: DeprecationWarning: scipy.arange is deprecated and will be removed in SciPy 2.0.0, use numpy.arange instead\n",
      "  # This is added back by InteractiveShellApp.init_path()\n",
      "/Users/masanoritakahashi/anaconda3/lib/python3.7/site-packages/ipykernel_launcher.py:12: DeprecationWarning: scipy.sqrt is deprecated and will be removed in SciPy 2.0.0, use numpy.lib.scimath.sqrt instead\n",
      "  if sys.path[0] == '':\n",
      "/Users/masanoritakahashi/anaconda3/lib/python3.7/site-packages/ipykernel_launcher.py:15: DeprecationWarning: scipy.sum is deprecated and will be removed in SciPy 2.0.0, use numpy.sum instead\n",
      "  from ipykernel import kernelapp as app\n",
      "/Users/masanoritakahashi/anaconda3/lib/python3.7/site-packages/ipykernel_launcher.py:20: DeprecationWarning: scipy.empty is deprecated and will be removed in SciPy 2.0.0, use numpy.empty instead\n",
      "/Users/masanoritakahashi/anaconda3/lib/python3.7/site-packages/ipykernel_launcher.py:21: DeprecationWarning: scipy.empty is deprecated and will be removed in SciPy 2.0.0, use numpy.empty instead\n",
      "/Users/masanoritakahashi/anaconda3/lib/python3.7/site-packages/ipykernel_launcher.py:22: DeprecationWarning: scipy.empty is deprecated and will be removed in SciPy 2.0.0, use numpy.empty instead\n",
      "/Users/masanoritakahashi/anaconda3/lib/python3.7/site-packages/ipykernel_launcher.py:24: DeprecationWarning: scipy.arange is deprecated and will be removed in SciPy 2.0.0, use numpy.arange instead\n",
      "/Users/masanoritakahashi/anaconda3/lib/python3.7/site-packages/ipykernel_launcher.py:26: DeprecationWarning: scipy.sum is deprecated and will be removed in SciPy 2.0.0, use numpy.sum instead\n",
      "/Users/masanoritakahashi/anaconda3/lib/python3.7/site-packages/ipykernel_launcher.py:27: DeprecationWarning: scipy.sum is deprecated and will be removed in SciPy 2.0.0, use numpy.sum instead\n",
      "/Users/masanoritakahashi/anaconda3/lib/python3.7/site-packages/ipykernel_launcher.py:28: DeprecationWarning: scipy.sum is deprecated and will be removed in SciPy 2.0.0, use numpy.sum instead\n",
      "/Users/masanoritakahashi/anaconda3/lib/python3.7/site-packages/ipykernel_launcher.py:2: DeprecationWarning: scipy.zeros_like is deprecated and will be removed in SciPy 2.0.0, use numpy.zeros_like instead\n",
      "  \n",
      "/Users/masanoritakahashi/anaconda3/lib/python3.7/site-packages/ipykernel_launcher.py:4: DeprecationWarning: scipy.arange is deprecated and will be removed in SciPy 2.0.0, use numpy.arange instead\n",
      "  after removing the cwd from sys.path.\n",
      "/Users/masanoritakahashi/anaconda3/lib/python3.7/site-packages/ipykernel_launcher.py:5: DeprecationWarning: scipy.sqrt is deprecated and will be removed in SciPy 2.0.0, use numpy.lib.scimath.sqrt instead\n",
      "  \"\"\"\n",
      "/Users/masanoritakahashi/anaconda3/lib/python3.7/site-packages/ipykernel_launcher.py:10: DeprecationWarning: scipy.empty is deprecated and will be removed in SciPy 2.0.0, use numpy.empty instead\n",
      "  # Remove the CWD from sys.path while we load stuff.\n",
      "/Users/masanoritakahashi/anaconda3/lib/python3.7/site-packages/ipykernel_launcher.py:11: DeprecationWarning: scipy.arange is deprecated and will be removed in SciPy 2.0.0, use numpy.arange instead\n",
      "  # This is added back by InteractiveShellApp.init_path()\n",
      "/Users/masanoritakahashi/anaconda3/lib/python3.7/site-packages/ipykernel_launcher.py:12: DeprecationWarning: scipy.sqrt is deprecated and will be removed in SciPy 2.0.0, use numpy.lib.scimath.sqrt instead\n",
      "  if sys.path[0] == '':\n",
      "/Users/masanoritakahashi/anaconda3/lib/python3.7/site-packages/ipykernel_launcher.py:15: DeprecationWarning: scipy.sum is deprecated and will be removed in SciPy 2.0.0, use numpy.sum instead\n",
      "  from ipykernel import kernelapp as app\n",
      "/Users/masanoritakahashi/anaconda3/lib/python3.7/site-packages/ipykernel_launcher.py:20: DeprecationWarning: scipy.empty is deprecated and will be removed in SciPy 2.0.0, use numpy.empty instead\n",
      "/Users/masanoritakahashi/anaconda3/lib/python3.7/site-packages/ipykernel_launcher.py:21: DeprecationWarning: scipy.empty is deprecated and will be removed in SciPy 2.0.0, use numpy.empty instead\n",
      "/Users/masanoritakahashi/anaconda3/lib/python3.7/site-packages/ipykernel_launcher.py:22: DeprecationWarning: scipy.empty is deprecated and will be removed in SciPy 2.0.0, use numpy.empty instead\n",
      "/Users/masanoritakahashi/anaconda3/lib/python3.7/site-packages/ipykernel_launcher.py:24: DeprecationWarning: scipy.arange is deprecated and will be removed in SciPy 2.0.0, use numpy.arange instead\n",
      "/Users/masanoritakahashi/anaconda3/lib/python3.7/site-packages/ipykernel_launcher.py:26: DeprecationWarning: scipy.sum is deprecated and will be removed in SciPy 2.0.0, use numpy.sum instead\n",
      "/Users/masanoritakahashi/anaconda3/lib/python3.7/site-packages/ipykernel_launcher.py:27: DeprecationWarning: scipy.sum is deprecated and will be removed in SciPy 2.0.0, use numpy.sum instead\n",
      "/Users/masanoritakahashi/anaconda3/lib/python3.7/site-packages/ipykernel_launcher.py:28: DeprecationWarning: scipy.sum is deprecated and will be removed in SciPy 2.0.0, use numpy.sum instead\n",
      "/Users/masanoritakahashi/anaconda3/lib/python3.7/site-packages/ipykernel_launcher.py:2: DeprecationWarning: scipy.zeros_like is deprecated and will be removed in SciPy 2.0.0, use numpy.zeros_like instead\n",
      "  \n",
      "/Users/masanoritakahashi/anaconda3/lib/python3.7/site-packages/ipykernel_launcher.py:4: DeprecationWarning: scipy.arange is deprecated and will be removed in SciPy 2.0.0, use numpy.arange instead\n",
      "  after removing the cwd from sys.path.\n",
      "/Users/masanoritakahashi/anaconda3/lib/python3.7/site-packages/ipykernel_launcher.py:5: DeprecationWarning: scipy.sqrt is deprecated and will be removed in SciPy 2.0.0, use numpy.lib.scimath.sqrt instead\n",
      "  \"\"\"\n",
      "/Users/masanoritakahashi/anaconda3/lib/python3.7/site-packages/ipykernel_launcher.py:10: DeprecationWarning: scipy.empty is deprecated and will be removed in SciPy 2.0.0, use numpy.empty instead\n",
      "  # Remove the CWD from sys.path while we load stuff.\n",
      "/Users/masanoritakahashi/anaconda3/lib/python3.7/site-packages/ipykernel_launcher.py:11: DeprecationWarning: scipy.arange is deprecated and will be removed in SciPy 2.0.0, use numpy.arange instead\n",
      "  # This is added back by InteractiveShellApp.init_path()\n",
      "/Users/masanoritakahashi/anaconda3/lib/python3.7/site-packages/ipykernel_launcher.py:12: DeprecationWarning: scipy.sqrt is deprecated and will be removed in SciPy 2.0.0, use numpy.lib.scimath.sqrt instead\n",
      "  if sys.path[0] == '':\n"
     ]
    },
    {
     "name": "stdout",
     "output_type": "stream",
     "text": [
      "i: 0 lambda [0.63935801 0.36064199] mu [ 1.94468623 -1.74361672] sigma2 [1.08571327 1.71029308]\n",
      "i: 5 lambda [0.59795469 0.40204531] mu [ 2.08919976 -1.57872125] sigma2 [0.78861128 1.84504482]\n",
      "i: 10 lambda [0.5819644 0.4180356] mu [ 2.11450856 -1.47365289] sigma2 [0.77108096 2.07325785]\n",
      "i: 15 lambda [0.57234352 0.42765648] mu [ 2.12772541 -1.41061941] sigma2 [0.76284323 2.21348615]\n",
      "i: 20 lambda [0.56699804 0.43300196] mu [ 2.13439105 -1.37566632] sigma2 [0.75879772 2.29238734]\n",
      "i: 25 lambda [0.56418389 0.43581611] mu [ 2.13769355 -1.35727641] sigma2 [0.7567937  2.33426989]\n",
      "i: 30 lambda [0.56274656 0.43725344] mu [ 2.13932309 -1.34788505] sigma2 [0.75579981 2.35576477]\n",
      "i: 35 lambda [0.562024 0.437976] mu [ 2.14012733 -1.34316398] sigma2 [0.75530724 2.36659863]\n"
     ]
    },
    {
     "name": "stderr",
     "output_type": "stream",
     "text": [
      "/Users/masanoritakahashi/anaconda3/lib/python3.7/site-packages/ipykernel_launcher.py:15: DeprecationWarning: scipy.sum is deprecated and will be removed in SciPy 2.0.0, use numpy.sum instead\n",
      "  from ipykernel import kernelapp as app\n",
      "/Users/masanoritakahashi/anaconda3/lib/python3.7/site-packages/ipykernel_launcher.py:20: DeprecationWarning: scipy.empty is deprecated and will be removed in SciPy 2.0.0, use numpy.empty instead\n",
      "/Users/masanoritakahashi/anaconda3/lib/python3.7/site-packages/ipykernel_launcher.py:21: DeprecationWarning: scipy.empty is deprecated and will be removed in SciPy 2.0.0, use numpy.empty instead\n",
      "/Users/masanoritakahashi/anaconda3/lib/python3.7/site-packages/ipykernel_launcher.py:22: DeprecationWarning: scipy.empty is deprecated and will be removed in SciPy 2.0.0, use numpy.empty instead\n",
      "/Users/masanoritakahashi/anaconda3/lib/python3.7/site-packages/ipykernel_launcher.py:24: DeprecationWarning: scipy.arange is deprecated and will be removed in SciPy 2.0.0, use numpy.arange instead\n",
      "/Users/masanoritakahashi/anaconda3/lib/python3.7/site-packages/ipykernel_launcher.py:26: DeprecationWarning: scipy.sum is deprecated and will be removed in SciPy 2.0.0, use numpy.sum instead\n",
      "/Users/masanoritakahashi/anaconda3/lib/python3.7/site-packages/ipykernel_launcher.py:27: DeprecationWarning: scipy.sum is deprecated and will be removed in SciPy 2.0.0, use numpy.sum instead\n",
      "/Users/masanoritakahashi/anaconda3/lib/python3.7/site-packages/ipykernel_launcher.py:28: DeprecationWarning: scipy.sum is deprecated and will be removed in SciPy 2.0.0, use numpy.sum instead\n",
      "/Users/masanoritakahashi/anaconda3/lib/python3.7/site-packages/ipykernel_launcher.py:2: DeprecationWarning: scipy.zeros_like is deprecated and will be removed in SciPy 2.0.0, use numpy.zeros_like instead\n",
      "  \n",
      "/Users/masanoritakahashi/anaconda3/lib/python3.7/site-packages/ipykernel_launcher.py:4: DeprecationWarning: scipy.arange is deprecated and will be removed in SciPy 2.0.0, use numpy.arange instead\n",
      "  after removing the cwd from sys.path.\n",
      "/Users/masanoritakahashi/anaconda3/lib/python3.7/site-packages/ipykernel_launcher.py:5: DeprecationWarning: scipy.sqrt is deprecated and will be removed in SciPy 2.0.0, use numpy.lib.scimath.sqrt instead\n",
      "  \"\"\"\n",
      "/Users/masanoritakahashi/anaconda3/lib/python3.7/site-packages/ipykernel_launcher.py:10: DeprecationWarning: scipy.empty is deprecated and will be removed in SciPy 2.0.0, use numpy.empty instead\n",
      "  # Remove the CWD from sys.path while we load stuff.\n",
      "/Users/masanoritakahashi/anaconda3/lib/python3.7/site-packages/ipykernel_launcher.py:11: DeprecationWarning: scipy.arange is deprecated and will be removed in SciPy 2.0.0, use numpy.arange instead\n",
      "  # This is added back by InteractiveShellApp.init_path()\n",
      "/Users/masanoritakahashi/anaconda3/lib/python3.7/site-packages/ipykernel_launcher.py:12: DeprecationWarning: scipy.sqrt is deprecated and will be removed in SciPy 2.0.0, use numpy.lib.scimath.sqrt instead\n",
      "  if sys.path[0] == '':\n",
      "/Users/masanoritakahashi/anaconda3/lib/python3.7/site-packages/ipykernel_launcher.py:15: DeprecationWarning: scipy.sum is deprecated and will be removed in SciPy 2.0.0, use numpy.sum instead\n",
      "  from ipykernel import kernelapp as app\n",
      "/Users/masanoritakahashi/anaconda3/lib/python3.7/site-packages/ipykernel_launcher.py:20: DeprecationWarning: scipy.empty is deprecated and will be removed in SciPy 2.0.0, use numpy.empty instead\n",
      "/Users/masanoritakahashi/anaconda3/lib/python3.7/site-packages/ipykernel_launcher.py:21: DeprecationWarning: scipy.empty is deprecated and will be removed in SciPy 2.0.0, use numpy.empty instead\n",
      "/Users/masanoritakahashi/anaconda3/lib/python3.7/site-packages/ipykernel_launcher.py:22: DeprecationWarning: scipy.empty is deprecated and will be removed in SciPy 2.0.0, use numpy.empty instead\n",
      "/Users/masanoritakahashi/anaconda3/lib/python3.7/site-packages/ipykernel_launcher.py:24: DeprecationWarning: scipy.arange is deprecated and will be removed in SciPy 2.0.0, use numpy.arange instead\n",
      "/Users/masanoritakahashi/anaconda3/lib/python3.7/site-packages/ipykernel_launcher.py:26: DeprecationWarning: scipy.sum is deprecated and will be removed in SciPy 2.0.0, use numpy.sum instead\n",
      "/Users/masanoritakahashi/anaconda3/lib/python3.7/site-packages/ipykernel_launcher.py:27: DeprecationWarning: scipy.sum is deprecated and will be removed in SciPy 2.0.0, use numpy.sum instead\n",
      "/Users/masanoritakahashi/anaconda3/lib/python3.7/site-packages/ipykernel_launcher.py:28: DeprecationWarning: scipy.sum is deprecated and will be removed in SciPy 2.0.0, use numpy.sum instead\n",
      "/Users/masanoritakahashi/anaconda3/lib/python3.7/site-packages/ipykernel_launcher.py:2: DeprecationWarning: scipy.zeros_like is deprecated and will be removed in SciPy 2.0.0, use numpy.zeros_like instead\n",
      "  \n",
      "/Users/masanoritakahashi/anaconda3/lib/python3.7/site-packages/ipykernel_launcher.py:4: DeprecationWarning: scipy.arange is deprecated and will be removed in SciPy 2.0.0, use numpy.arange instead\n",
      "  after removing the cwd from sys.path.\n",
      "/Users/masanoritakahashi/anaconda3/lib/python3.7/site-packages/ipykernel_launcher.py:5: DeprecationWarning: scipy.sqrt is deprecated and will be removed in SciPy 2.0.0, use numpy.lib.scimath.sqrt instead\n",
      "  \"\"\"\n",
      "/Users/masanoritakahashi/anaconda3/lib/python3.7/site-packages/ipykernel_launcher.py:10: DeprecationWarning: scipy.empty is deprecated and will be removed in SciPy 2.0.0, use numpy.empty instead\n",
      "  # Remove the CWD from sys.path while we load stuff.\n",
      "/Users/masanoritakahashi/anaconda3/lib/python3.7/site-packages/ipykernel_launcher.py:11: DeprecationWarning: scipy.arange is deprecated and will be removed in SciPy 2.0.0, use numpy.arange instead\n",
      "  # This is added back by InteractiveShellApp.init_path()\n",
      "/Users/masanoritakahashi/anaconda3/lib/python3.7/site-packages/ipykernel_launcher.py:12: DeprecationWarning: scipy.sqrt is deprecated and will be removed in SciPy 2.0.0, use numpy.lib.scimath.sqrt instead\n",
      "  if sys.path[0] == '':\n",
      "/Users/masanoritakahashi/anaconda3/lib/python3.7/site-packages/ipykernel_launcher.py:15: DeprecationWarning: scipy.sum is deprecated and will be removed in SciPy 2.0.0, use numpy.sum instead\n",
      "  from ipykernel import kernelapp as app\n",
      "/Users/masanoritakahashi/anaconda3/lib/python3.7/site-packages/ipykernel_launcher.py:20: DeprecationWarning: scipy.empty is deprecated and will be removed in SciPy 2.0.0, use numpy.empty instead\n",
      "/Users/masanoritakahashi/anaconda3/lib/python3.7/site-packages/ipykernel_launcher.py:21: DeprecationWarning: scipy.empty is deprecated and will be removed in SciPy 2.0.0, use numpy.empty instead\n",
      "/Users/masanoritakahashi/anaconda3/lib/python3.7/site-packages/ipykernel_launcher.py:22: DeprecationWarning: scipy.empty is deprecated and will be removed in SciPy 2.0.0, use numpy.empty instead\n",
      "/Users/masanoritakahashi/anaconda3/lib/python3.7/site-packages/ipykernel_launcher.py:24: DeprecationWarning: scipy.arange is deprecated and will be removed in SciPy 2.0.0, use numpy.arange instead\n",
      "/Users/masanoritakahashi/anaconda3/lib/python3.7/site-packages/ipykernel_launcher.py:26: DeprecationWarning: scipy.sum is deprecated and will be removed in SciPy 2.0.0, use numpy.sum instead\n",
      "/Users/masanoritakahashi/anaconda3/lib/python3.7/site-packages/ipykernel_launcher.py:27: DeprecationWarning: scipy.sum is deprecated and will be removed in SciPy 2.0.0, use numpy.sum instead\n",
      "/Users/masanoritakahashi/anaconda3/lib/python3.7/site-packages/ipykernel_launcher.py:28: DeprecationWarning: scipy.sum is deprecated and will be removed in SciPy 2.0.0, use numpy.sum instead\n",
      "/Users/masanoritakahashi/anaconda3/lib/python3.7/site-packages/ipykernel_launcher.py:2: DeprecationWarning: scipy.zeros_like is deprecated and will be removed in SciPy 2.0.0, use numpy.zeros_like instead\n",
      "  \n",
      "/Users/masanoritakahashi/anaconda3/lib/python3.7/site-packages/ipykernel_launcher.py:4: DeprecationWarning: scipy.arange is deprecated and will be removed in SciPy 2.0.0, use numpy.arange instead\n",
      "  after removing the cwd from sys.path.\n",
      "/Users/masanoritakahashi/anaconda3/lib/python3.7/site-packages/ipykernel_launcher.py:5: DeprecationWarning: scipy.sqrt is deprecated and will be removed in SciPy 2.0.0, use numpy.lib.scimath.sqrt instead\n",
      "  \"\"\"\n",
      "/Users/masanoritakahashi/anaconda3/lib/python3.7/site-packages/ipykernel_launcher.py:2: DeprecationWarning: scipy.zeros_like is deprecated and will be removed in SciPy 2.0.0, use numpy.zeros_like instead\n",
      "  \n",
      "/Users/masanoritakahashi/anaconda3/lib/python3.7/site-packages/ipykernel_launcher.py:4: DeprecationWarning: scipy.arange is deprecated and will be removed in SciPy 2.0.0, use numpy.arange instead\n",
      "  after removing the cwd from sys.path.\n",
      "/Users/masanoritakahashi/anaconda3/lib/python3.7/site-packages/ipykernel_launcher.py:5: DeprecationWarning: scipy.sqrt is deprecated and will be removed in SciPy 2.0.0, use numpy.lib.scimath.sqrt instead\n",
      "  \"\"\"\n"
     ]
    },
    {
     "name": "stdout",
     "output_type": "stream",
     "text": [
      "i: 40 lambda [0.56166367 0.43833633] mu [ 2.1405246  -1.34080968] sigma2 [0.75506331 2.37200849]\n",
      "i: 45 lambda [0.56148471 0.43851529] mu [ 2.14072097 -1.33964037] sigma2 [0.75494257 2.3746972 ]\n",
      "i: 50 lambda [0.56139601 0.43860399] mu [ 2.14081807 -1.33906078] sigma2 [0.75488283 2.37603037]\n"
     ]
    },
    {
     "data": {
      "image/png": "[encoded data removed]",
      "text/plain": [
       "<Figure size 432x288 with 1 Axes>"
      ]
     },
     "metadata": {
      "needs_background": "light"
     },
     "output_type": "display_data"
    }
   ],
   "source": [
    "for i in sp.arange(50+1):\n",
    "    responsibility = EStep(k_size, data_x, lambda_vec, mu_vec, sigma2_vec)\n",
    "    lambda_vec, mu_vec, sigma2_vec = MStep(k_size, responsibility, data_x)\n",
    "    if i % 5 == 0:\n",
    "        print(\"i:\", i, \"lambda\", lambda_vec, \"mu\", mu_vec, \"sigma2\", sigma2_vec)\n",
    "        plt.plot(x, calc_mix_pdf(k_size, x, lambda_vec, mu_vec, sigma2_vec), label=f\"i:{i}\", linestyle=\"--\")\n",
    "        \n",
    "plt.plot(x, calc_mix_pdf(k_size, x, lambda_vec, mu_vec, sigma2_vec), label=f\"last{i}\", linestyle=\"-\")\n",
    "\n",
    "plt.legend()\n",
    "plt.tight_layout()\n",
    "plt.show()"
   ]
  },
  {
   "cell_type": "code",
   "execution_count": 24,
   "metadata": {},
   "outputs": [
    {
     "data": {
      "text/plain": [
       "2"
      ]
     },
     "execution_count": 24,
     "metadata": {},
     "output_type": "execute_result"
    }
   ],
   "source": [
    "k_size"
   ]
  },
  {
   "cell_type": "code",
   "execution_count": 25,
   "metadata": {},
   "outputs": [
    {
     "data": {
      "text/plain": [
       "array([0.56139601, 0.43860399])"
      ]
     },
     "execution_count": 25,
     "metadata": {},
     "output_type": "execute_result"
    }
   ],
   "source": [
    "lambda_vec"
   ]
  },
  {
   "cell_type": "code",
   "execution_count": 26,
   "metadata": {},
   "outputs": [
    {
     "data": {
      "text/plain": [
       "array([ 2.14081807, -1.33906078])"
      ]
     },
     "execution_count": 26,
     "metadata": {},
     "output_type": "execute_result"
    }
   ],
   "source": [
    "mu_vec"
   ]
  },
  {
   "cell_type": "code",
   "execution_count": 27,
   "metadata": {},
   "outputs": [
    {
     "data": {
      "text/plain": [
       "array([0.75488283, 2.37603037])"
      ]
     },
     "execution_count": 27,
     "metadata": {},
     "output_type": "execute_result"
    }
   ],
   "source": [
    "sigma2_vec"
   ]
  },
  {
   "cell_type": "markdown",
   "metadata": {},
   "source": [
    "# 真の値\n",
    "2/3N(2,1) + 1/3N(-2, 1)"
   ]
  },
  {
   "cell_type": "code",
   "execution_count": null,
   "metadata": {},
   "outputs": [],
   "source": []
  }
 ],
 "metadata": {
  "kernelspec": {
   "display_name": "Python 3",
   "language": "python",
   "name": "python3"
  },
  "language_info": {
   "codemirror_mode": {
    "name": "ipython",
    "version": 3
   },
   "file_extension": ".py",
   "mimetype": "text/x-python",
   "name": "python",
   "nbconvert_exporter": "python",
   "pygments_lexer": "ipython3",
   "version": "3.7.3"
  }
 },
 "nbformat": 4,
 "nbformat_minor": 4
}
