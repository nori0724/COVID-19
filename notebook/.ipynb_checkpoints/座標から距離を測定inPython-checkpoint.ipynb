{
 "cells": [
  {
   "cell_type": "code",
   "execution_count": 1,
   "metadata": {},
   "outputs": [],
   "source": [
    "# https://amano-tec.com/data/download.php"
   ]
  },
  {
   "cell_type": "markdown",
   "metadata": {},
   "source": [
    "# やりたいこと  \n",
    "- 国の座標データをメインデータ(data_covid_fix_name_code)にmerge"
   ]
  },
  {
   "cell_type": "code",
   "execution_count": 2,
   "metadata": {},
   "outputs": [],
   "source": [
    "import pandas as pd"
   ]
  },
  {
   "cell_type": "markdown",
   "metadata": {},
   "source": [
    "### データの読み込み"
   ]
  },
  {
   "cell_type": "code",
   "execution_count": 3,
   "metadata": {},
   "outputs": [],
   "source": [
    "# 国の座標データ\n",
    "df_code2 = pd.read_excel(\"../data/country_coordinates/h3104world_sjis.xls\")\n",
    "\n",
    "# メインデータ\n",
    "df = pd.read_csv(\"../data/data_covid_fix_name_code.csv\")"
   ]
  },
  {
   "cell_type": "code",
   "execution_count": 4,
   "metadata": {},
   "outputs": [
    {
     "data": {
      "text/html": [
       "<div>\n",
       "<style scoped>\n",
       "    .dataframe tbody tr th:only-of-type {\n",
       "        vertical-align: middle;\n",
       "    }\n",
       "\n",
       "    .dataframe tbody tr th {\n",
       "        vertical-align: top;\n",
       "    }\n",
       "\n",
       "    .dataframe thead th {\n",
       "        text-align: right;\n",
       "    }\n",
       "</style>\n",
       "<table border=\"1\" class=\"dataframe\">\n",
       "  <thead>\n",
       "    <tr style=\"text-align: right;\">\n",
       "      <th></th>\n",
       "      <th>country_code\\tname_jp\\tname_jps\\tcapital_jp\\tname_en\\tname_ens\\tcapital_en\\tlat\\tlon</th>\n",
       "      <th>Unnamed: 1</th>\n",
       "    </tr>\n",
       "  </thead>\n",
       "  <tbody>\n",
       "    <tr>\n",
       "      <th>0</th>\n",
       "      <td>AD\\tアンドラ公国\\tアンドラ\\tアンドララベラ\\tPrincipality of And...</td>\n",
       "      <td>NaN</td>\n",
       "    </tr>\n",
       "    <tr>\n",
       "      <th>1</th>\n",
       "      <td>AE\\tアラブ首長国連邦\\tアラブ首長国連邦\\tアブダビ\\tUnited Arab Emir...</td>\n",
       "      <td>NaN</td>\n",
       "    </tr>\n",
       "    <tr>\n",
       "      <th>2</th>\n",
       "      <td>AF\\tアフガニスタン・イスラム共和国\\tアフガニスタン\\tカブール\\tIslamic Re...</td>\n",
       "      <td>NaN</td>\n",
       "    </tr>\n",
       "    <tr>\n",
       "      <th>3</th>\n",
       "      <td>AG\\tアンティグア・バーブーダ\\tアンティグア・バーブーダ\\tセントジョンズ\\tAntig...</td>\n",
       "      <td>NaN</td>\n",
       "    </tr>\n",
       "    <tr>\n",
       "      <th>4</th>\n",
       "      <td>AL\\tアルバニア共和国\\tアルバニア\\tティラナ\\tRepublic of Albania...</td>\n",
       "      <td>NaN</td>\n",
       "    </tr>\n",
       "  </tbody>\n",
       "</table>\n",
       "</div>"
      ],
      "text/plain": [
       "  country_code\\tname_jp\\tname_jps\\tcapital_jp\\tname_en\\tname_ens\\tcapital_en\\tlat\\tlon  \\\n",
       "0  AD\\tアンドラ公国\\tアンドラ\\tアンドララベラ\\tPrincipality of And...                                     \n",
       "1  AE\\tアラブ首長国連邦\\tアラブ首長国連邦\\tアブダビ\\tUnited Arab Emir...                                     \n",
       "2  AF\\tアフガニスタン・イスラム共和国\\tアフガニスタン\\tカブール\\tIslamic Re...                                     \n",
       "3  AG\\tアンティグア・バーブーダ\\tアンティグア・バーブーダ\\tセントジョンズ\\tAntig...                                     \n",
       "4  AL\\tアルバニア共和国\\tアルバニア\\tティラナ\\tRepublic of Albania...                                     \n",
       "\n",
       "  Unnamed: 1  \n",
       "0        NaN  \n",
       "1        NaN  \n",
       "2        NaN  \n",
       "3        NaN  \n",
       "4        NaN  "
      ]
     },
     "execution_count": 4,
     "metadata": {},
     "output_type": "execute_result"
    }
   ],
   "source": [
    "df_code2.head()"
   ]
  },
  {
   "cell_type": "markdown",
   "metadata": {},
   "source": [
    "### 表記ゆれの修正・欠損の補間"
   ]
  },
  {
   "cell_type": "code",
   "execution_count": 5,
   "metadata": {},
   "outputs": [],
   "source": [
    "df_code2 = df_code2.iloc[:,0].str.split(\"\\t\", expand=True)\n",
    "df_code2.columns = [\"code\", \"country_jp\", \"country_jps\", \"capital_jp\", \"country_en\", \"country\", \"capital_en\", \"lat\", \"lon\"]"
   ]
  },
  {
   "cell_type": "code",
   "execution_count": 6,
   "metadata": {},
   "outputs": [],
   "source": [
    "# 表記ゆれの修正\n",
    "df_code2[\"country\"] = df_code2[\"country\"].replace(\"United Kingdom\", \"UK\")\n",
    "df_code2[\"country\"] = df_code2[\"country\"].replace(\"United States\", \"USA\")\n",
    "df_code2[\"country\"] = df_code2[\"country\"].replace(\"Viet Nam\", \"Vietnam\")\n",
    "df_code2[\"country\"] = df_code2[\"country\"].replace(\"Trinidad and Tobago\", \"Tobago\")\n",
    "df_code2[\"country\"] = df_code2[\"country\"].replace(\"Cabo Verde\", \"Cape Verde\")\n",
    "df_code2[\"country\"] = df_code2[\"country\"].replace(\"Central African\", \"Central African Republic\")\n",
    "df_code2[\"country\"] = df_code2[\"country\"].replace(\"North Macedonia\", \"Macedonia\")\n",
    "df_code2[\"country\"] = df_code2[\"country\"].replace(\"East Timor\", \"Timor-Leste\")\n",
    "df_code2[\"country\"] = df_code2[\"country\"].replace(\"UAE\", \"United Arab Emirates\")\n",
    "\n",
    "df_code2.loc[df_code2[\"country_en\"] ==\"Democratic Republic of the Congo\", \"country\"] = \"Democratic Republic of the Congo\"\n",
    "df_code2.loc[df_code2[\"country_en\"] ==\"Republic of Congo\", \"country\"] = \"Congo\""
   ]
  },
  {
   "cell_type": "code",
   "execution_count": 7,
   "metadata": {},
   "outputs": [],
   "source": [
    "# アメリカ\n",
    "df_code2.loc[df_code2[\"country\"]==\"USA\", \"lat\"] = 38.9071923\n",
    "df_code2.loc[df_code2[\"country\"]==\"USA\", \"lon\"] = -77.0368707\n",
    "\n",
    "# Congo(Congo, Republic of the)\n",
    "df_code2.loc[df_code2[\"country\"]==\"Congo\", \"lat\"] = -4.2633597\n",
    "df_code2.loc[df_code2[\"country\"]==\"Congo\", \"lon\"] = 15.2428853\n",
    "\n",
    "# Democratic Republic of the Congo(Congo, DR)\n",
    "df_code2.loc[df_code2[\"country\"]==\"Democratic Republic of the Congo\", \"lat\"] = -4.4419311\n",
    "df_code2.loc[df_code2[\"country\"]==\"Democratic Republic of the Congo\", \"lon\"] = 15.2662931"
   ]
  },
  {
   "cell_type": "code",
   "execution_count": 8,
   "metadata": {},
   "outputs": [],
   "source": [
    "del df_code2[\"country_jp\"], df_code2[\"country_jps\"], df_code2[\"capital_jp\"], df_code2[\"country_en\"], df_code2[\"capital_en\"]"
   ]
  },
  {
   "cell_type": "markdown",
   "metadata": {},
   "source": [
    "### merge"
   ]
  },
  {
   "cell_type": "code",
   "execution_count": 9,
   "metadata": {},
   "outputs": [],
   "source": [
    "df= pd.merge(df, df_code2, how=\"left\", on=\"country\")"
   ]
  },
  {
   "cell_type": "code",
   "execution_count": 10,
   "metadata": {},
   "outputs": [],
   "source": [
    "df = df.rename(columns = {\"code_x\":\"code3\", \"code_y\":\"code2\"})"
   ]
  },
  {
   "cell_type": "code",
   "execution_count": 11,
   "metadata": {},
   "outputs": [],
   "source": [
    "df.to_csv(\"../data/data_covid_fix_name_code_coordinate.csv\", index = False)"
   ]
  }
 ],
 "metadata": {
  "kernelspec": {
   "display_name": "Python 3",
   "language": "python",
   "name": "python3"
  },
  "language_info": {
   "codemirror_mode": {
    "name": "ipython",
    "version": 3
   },
   "file_extension": ".py",
   "mimetype": "text/x-python",
   "name": "python",
   "nbconvert_exporter": "python",
   "pygments_lexer": "ipython3",
   "version": "3.7.3"
  }
 },
 "nbformat": 4,
 "nbformat_minor": 4
}
