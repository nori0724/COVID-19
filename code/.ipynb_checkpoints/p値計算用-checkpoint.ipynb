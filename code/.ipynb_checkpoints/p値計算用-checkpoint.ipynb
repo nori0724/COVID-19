{
 "cells": [
  {
   "cell_type": "code",
   "execution_count": 1,
   "metadata": {},
   "outputs": [],
   "source": [
    "from scipy import stats"
   ]
  },
  {
   "cell_type": "code",
   "execution_count": 24,
   "metadata": {},
   "outputs": [
    {
     "name": "stdout",
     "output_type": "stream",
     "text": [
      "0.29014412718745497\n",
      "0.01613102452374364\n",
      "0.3706184253839705\n",
      "0.25318368054989904\n",
      "0.00631534310409094\n",
      "0.38275983897930943\n",
      "0.4053696737175696\n"
     ]
    }
   ],
   "source": [
    "#1\n",
    "# p値\n",
    "t_values=[-1.073170732, -2.521276596, -0.906344411, -1.160736196, -2.895683453, -0.883333333, -0.841688654]\n",
    "N=47\n",
    "df=9\n",
    "\n",
    "for t_value in t_values:\n",
    "    print(2*stats.t.cdf(t_value, N-df-1))"
   ]
  },
  {
   "cell_type": "code",
   "execution_count": 25,
   "metadata": {},
   "outputs": [
    {
     "name": "stdout",
     "output_type": "stream",
     "text": [
      "0.015584999943878994\n",
      "0.2493085988412253\n",
      "0.11703835293247722\n",
      "0.7945031563541647\n",
      "0.013193549055318055\n",
      "0.032641957607449076\n",
      "0.7441014681192221\n"
     ]
    }
   ],
   "source": [
    "#2\n",
    "t_values=[-2.588235294, -1.178403756, -1.621212121, -0.263157895, -2.660377358, -2.256944444, -0.329923274]\n",
    "N=36\n",
    "for t_value in t_values:\n",
    "    print(2*stats.t.cdf(t_value, N-df-1))"
   ]
  },
  {
   "cell_type": "code",
   "execution_count": 23,
   "metadata": {},
   "outputs": [
    {
     "name": "stdout",
     "output_type": "stream",
     "text": [
      "0.3838630057592517\n",
      "0.2502390546618576\n",
      "0.7777296331346853\n",
      "0.13340533227202891\n",
      "0.8839360081238983\n",
      "0.07484120270736068\n",
      "0.22869682915715367\n"
     ]
    }
   ],
   "source": [
    "#3\n",
    "t_values=[-0.890350877, -1.184143223,- 0.28611898, -1.564417178, -0.147857143, -1.879396985, -1.241743725]\n",
    "N=30\n",
    "for t_value in t_values:\n",
    "    print(2*stats.t.cdf(t_value, N-df-1))"
   ]
  },
  {
   "cell_type": "code",
   "execution_count": 22,
   "metadata": {},
   "outputs": [
    {
     "name": "stdout",
     "output_type": "stream",
     "text": [
      "0.07055015462901955\n",
      "0.003204562233107808\n",
      "0.9845759905001027\n",
      "0.023641548046318763\n",
      "0.0019828249934592244\n",
      "0.45510636546309857\n",
      "0.5236472224477031\n"
     ]
    }
   ],
   "source": [
    "# 4\n",
    "t_values=[-1.882758621, -3.235087719, -0.019512195, -2.3984375, -3.424408015, -0.757847534, -0.646133683]\n",
    "N=37\n",
    "for t_value in t_values:\n",
    "    print(2*stats.t.cdf(t_value, N-df-1))"
   ]
  },
  {
   "cell_type": "code",
   "execution_count": null,
   "metadata": {},
   "outputs": [],
   "source": [
    "0.07055015462901955\n",
    "0.003204562233107808\n",
    "0.9845759905001027\n",
    "0.023641548046318763\n",
    "0.0019828249934592244\n",
    "0.45510636546309857\n",
    "0.5236472224477031"
   ]
  }
 ],
 "metadata": {
  "kernelspec": {
   "display_name": "Python 3",
   "language": "python",
   "name": "python3"
  },
  "language_info": {
   "codemirror_mode": {
    "name": "ipython",
    "version": 3
   },
   "file_extension": ".py",
   "mimetype": "text/x-python",
   "name": "python",
   "nbconvert_exporter": "python",
   "pygments_lexer": "ipython3",
   "version": "3.7.3"
  }
 },
 "nbformat": 4,
 "nbformat_minor": 4
}
