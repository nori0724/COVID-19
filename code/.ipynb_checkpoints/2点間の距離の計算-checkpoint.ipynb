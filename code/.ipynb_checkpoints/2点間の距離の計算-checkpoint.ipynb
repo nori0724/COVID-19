{
 "cells": [
  {
   "cell_type": "code",
   "execution_count": 1,
   "metadata": {},
   "outputs": [
    {
     "name": "stdout",
     "output_type": "stream",
     "text": [
      "\n",
      "The downloaded binary packages are in\n",
      "\t/var/folders/jb/jxztdls55vncm84hp50zf9n40000gn/T//RtmpVfHqJi/downloaded_packages\n"
     ]
    }
   ],
   "source": [
    "install.packages(\"geosphere\")\n",
    "library(\"geosphere\")\n",
    "library(openxlsx)"
   ]
  },
  {
   "cell_type": "markdown",
   "metadata": {},
   "source": [
    "# 目的  \n",
    "- 距離の定義の仕方の確認  \n",
    "- 国の代表点同士の距離なのか、武漢と各国の代表点との距離なのか、武漢と各国の初感染都市との距離なのか  \n",
    "(例えば、日本の場合、東京なのか初感染都市の北海道なのか)  "
   ]
  },
  {
   "cell_type": "code",
   "execution_count": 6,
   "metadata": {},
   "outputs": [
    {
     "data": {
      "text/html": [
       "<table>\n",
       "<caption>A data.frame: 6 × 13</caption>\n",
       "<thead>\n",
       "\t<tr><th></th><th scope=col>country</th><th scope=col>pop</th><th scope=col>urb</th><th scope=col>gdp</th><th scope=col>dist</th><th scope=col>hf</th><th scope=col>pf</th><th scope=col>ef</th><th scope=col>date_first</th><th scope=col>detection</th><th scope=col>status</th><th scope=col>cumul</th><th scope=col>air</th></tr>\n",
       "\t<tr><th></th><th scope=col>&lt;chr&gt;</th><th scope=col>&lt;dbl&gt;</th><th scope=col>&lt;dbl&gt;</th><th scope=col>&lt;dbl&gt;</th><th scope=col>&lt;dbl&gt;</th><th scope=col>&lt;dbl&gt;</th><th scope=col>&lt;dbl&gt;</th><th scope=col>&lt;dbl&gt;</th><th scope=col>&lt;dbl&gt;</th><th scope=col>&lt;dbl&gt;</th><th scope=col>&lt;dbl&gt;</th><th scope=col>&lt;dbl&gt;</th><th scope=col>&lt;dbl&gt;</th></tr>\n",
       "</thead>\n",
       "<tbody>\n",
       "\t<tr><th scope=row>1</th><td>Albania  </td><td> 2866376</td><td>60.319</td><td>13364.155</td><td> 6996524</td><td>7.84</td><td>8.005411</td><td>7.67</td><td>70</td><td>74.3</td><td>1</td><td>108641</td><td>  303.14</td></tr>\n",
       "\t<tr><th scope=row>2</th><td>Algeria  </td><td>42228429</td><td>72.629</td><td>15481.788</td><td> 9108277</td><td>4.99</td><td>5.201489</td><td>4.77</td><td>58</td><td>12.0</td><td>1</td><td> 80272</td><td> 6442.44</td></tr>\n",
       "\t<tr><th scope=row>3</th><td>Angola   </td><td>30809762</td><td>65.514</td><td> 6452.355</td><td>10490120</td><td>5.40</td><td>5.979936</td><td>4.83</td><td>83</td><td>17.9</td><td>1</td><td>303691</td><td>   76.94</td></tr>\n",
       "\t<tr><th scope=row>4</th><td>Argentina</td><td>44494502</td><td>91.870</td><td>20610.569</td><td>19025624</td><td>6.86</td><td>8.044600</td><td>5.67</td><td>65</td><td>74.9</td><td>1</td><td> 92122</td><td> 1516.63</td></tr>\n",
       "\t<tr><th scope=row>6</th><td>Australia</td><td>24992369</td><td>86.012</td><td>51663.365</td><td> 7608913</td><td>8.62</td><td>9.160533</td><td>8.07</td><td>26</td><td>97.3</td><td>1</td><td>  1347</td><td>75667.65</td></tr>\n",
       "\t<tr><th scope=row>7</th><td>Austria  </td><td> 8847037</td><td>58.297</td><td>55454.689</td><td> 7103537</td><td>8.48</td><td>9.245685</td><td>7.71</td><td>58</td><td>73.2</td><td>1</td><td> 80272</td><td>12935.50</td></tr>\n",
       "</tbody>\n",
       "</table>\n"
      ],
      "text/latex": [
       "A data.frame: 6 × 13\n",
       "\\begin{tabular}{r|lllllllllllll}\n",
       "  & country & pop & urb & gdp & dist & hf & pf & ef & date\\_first & detection & status & cumul & air\\\\\n",
       "  & <chr> & <dbl> & <dbl> & <dbl> & <dbl> & <dbl> & <dbl> & <dbl> & <dbl> & <dbl> & <dbl> & <dbl> & <dbl>\\\\\n",
       "\\hline\n",
       "\t1 & Albania   &  2866376 & 60.319 & 13364.155 &  6996524 & 7.84 & 8.005411 & 7.67 & 70 & 74.3 & 1 & 108641 &   303.14\\\\\n",
       "\t2 & Algeria   & 42228429 & 72.629 & 15481.788 &  9108277 & 4.99 & 5.201489 & 4.77 & 58 & 12.0 & 1 &  80272 &  6442.44\\\\\n",
       "\t3 & Angola    & 30809762 & 65.514 &  6452.355 & 10490120 & 5.40 & 5.979936 & 4.83 & 83 & 17.9 & 1 & 303691 &    76.94\\\\\n",
       "\t4 & Argentina & 44494502 & 91.870 & 20610.569 & 19025624 & 6.86 & 8.044600 & 5.67 & 65 & 74.9 & 1 &  92122 &  1516.63\\\\\n",
       "\t6 & Australia & 24992369 & 86.012 & 51663.365 &  7608913 & 8.62 & 9.160533 & 8.07 & 26 & 97.3 & 1 &   1347 & 75667.65\\\\\n",
       "\t7 & Austria   &  8847037 & 58.297 & 55454.689 &  7103537 & 8.48 & 9.245685 & 7.71 & 58 & 73.2 & 1 &  80272 & 12935.50\\\\\n",
       "\\end{tabular}\n"
      ],
      "text/markdown": [
       "\n",
       "A data.frame: 6 × 13\n",
       "\n",
       "| <!--/--> | country &lt;chr&gt; | pop &lt;dbl&gt; | urb &lt;dbl&gt; | gdp &lt;dbl&gt; | dist &lt;dbl&gt; | hf &lt;dbl&gt; | pf &lt;dbl&gt; | ef &lt;dbl&gt; | date_first &lt;dbl&gt; | detection &lt;dbl&gt; | status &lt;dbl&gt; | cumul &lt;dbl&gt; | air &lt;dbl&gt; |\n",
       "|---|---|---|---|---|---|---|---|---|---|---|---|---|---|\n",
       "| 1 | Albania   |  2866376 | 60.319 | 13364.155 |  6996524 | 7.84 | 8.005411 | 7.67 | 70 | 74.3 | 1 | 108641 |   303.14 |\n",
       "| 2 | Algeria   | 42228429 | 72.629 | 15481.788 |  9108277 | 4.99 | 5.201489 | 4.77 | 58 | 12.0 | 1 |  80272 |  6442.44 |\n",
       "| 3 | Angola    | 30809762 | 65.514 |  6452.355 | 10490120 | 5.40 | 5.979936 | 4.83 | 83 | 17.9 | 1 | 303691 |    76.94 |\n",
       "| 4 | Argentina | 44494502 | 91.870 | 20610.569 | 19025624 | 6.86 | 8.044600 | 5.67 | 65 | 74.9 | 1 |  92122 |  1516.63 |\n",
       "| 6 | Australia | 24992369 | 86.012 | 51663.365 |  7608913 | 8.62 | 9.160533 | 8.07 | 26 | 97.3 | 1 |   1347 | 75667.65 |\n",
       "| 7 | Austria   |  8847037 | 58.297 | 55454.689 |  7103537 | 8.48 | 9.245685 | 7.71 | 58 | 73.2 | 1 |  80272 | 12935.50 |\n",
       "\n"
      ],
      "text/plain": [
       "  country   pop      urb    gdp       dist     hf   pf       ef   date_first\n",
       "1 Albania    2866376 60.319 13364.155  6996524 7.84 8.005411 7.67 70        \n",
       "2 Algeria   42228429 72.629 15481.788  9108277 4.99 5.201489 4.77 58        \n",
       "3 Angola    30809762 65.514  6452.355 10490120 5.40 5.979936 4.83 83        \n",
       "4 Argentina 44494502 91.870 20610.569 19025624 6.86 8.044600 5.67 65        \n",
       "6 Australia 24992369 86.012 51663.365  7608913 8.62 9.160533 8.07 26        \n",
       "7 Austria    8847037 58.297 55454.689  7103537 8.48 9.245685 7.71 58        \n",
       "  detection status cumul  air     \n",
       "1 74.3      1      108641   303.14\n",
       "2 12.0      1       80272  6442.44\n",
       "3 17.9      1      303691    76.94\n",
       "4 74.9      1       92122  1516.63\n",
       "6 97.3      1        1347 75667.65\n",
       "7 73.2      1       80272 12935.50"
      ]
     },
     "metadata": {},
     "output_type": "display_data"
    }
   ],
   "source": [
    "df <- read.xlsx(\"/Users/masanoritakahashi/Documents/講義/ゼミ/M2/空間生存時間/COVID-19/data/data_covid_fix_name.xlsx\")\n",
    "df <- na.omit(df)\n",
    "head(df)"
   ]
  },
  {
   "cell_type": "code",
   "execution_count": 9,
   "metadata": {},
   "outputs": [
    {
     "data": {
      "text/html": [
       "<table>\n",
       "<caption>A data.frame: 1 × 13</caption>\n",
       "<thead>\n",
       "\t<tr><th></th><th scope=col>country</th><th scope=col>pop</th><th scope=col>urb</th><th scope=col>gdp</th><th scope=col>dist</th><th scope=col>hf</th><th scope=col>pf</th><th scope=col>ef</th><th scope=col>date_first</th><th scope=col>detection</th><th scope=col>status</th><th scope=col>cumul</th><th scope=col>air</th></tr>\n",
       "\t<tr><th></th><th scope=col>&lt;chr&gt;</th><th scope=col>&lt;dbl&gt;</th><th scope=col>&lt;dbl&gt;</th><th scope=col>&lt;dbl&gt;</th><th scope=col>&lt;dbl&gt;</th><th scope=col>&lt;dbl&gt;</th><th scope=col>&lt;dbl&gt;</th><th scope=col>&lt;dbl&gt;</th><th scope=col>&lt;dbl&gt;</th><th scope=col>&lt;dbl&gt;</th><th scope=col>&lt;dbl&gt;</th><th scope=col>&lt;dbl&gt;</th><th scope=col>&lt;dbl&gt;</th></tr>\n",
       "</thead>\n",
       "<tbody>\n",
       "\t<tr><th scope=row>73</th><td>Japan</td><td>126529100</td><td>91.616</td><td>42797.46</td><td>3024190</td><td>8.28</td><td>8.699179</td><td>7.86</td><td>16</td><td>70.1</td><td>1</td><td>61</td><td>126387.5</td></tr>\n",
       "</tbody>\n",
       "</table>\n"
      ],
      "text/latex": [
       "A data.frame: 1 × 13\n",
       "\\begin{tabular}{r|lllllllllllll}\n",
       "  & country & pop & urb & gdp & dist & hf & pf & ef & date\\_first & detection & status & cumul & air\\\\\n",
       "  & <chr> & <dbl> & <dbl> & <dbl> & <dbl> & <dbl> & <dbl> & <dbl> & <dbl> & <dbl> & <dbl> & <dbl> & <dbl>\\\\\n",
       "\\hline\n",
       "\t73 & Japan & 126529100 & 91.616 & 42797.46 & 3024190 & 8.28 & 8.699179 & 7.86 & 16 & 70.1 & 1 & 61 & 126387.5\\\\\n",
       "\\end{tabular}\n"
      ],
      "text/markdown": [
       "\n",
       "A data.frame: 1 × 13\n",
       "\n",
       "| <!--/--> | country &lt;chr&gt; | pop &lt;dbl&gt; | urb &lt;dbl&gt; | gdp &lt;dbl&gt; | dist &lt;dbl&gt; | hf &lt;dbl&gt; | pf &lt;dbl&gt; | ef &lt;dbl&gt; | date_first &lt;dbl&gt; | detection &lt;dbl&gt; | status &lt;dbl&gt; | cumul &lt;dbl&gt; | air &lt;dbl&gt; |\n",
       "|---|---|---|---|---|---|---|---|---|---|---|---|---|---|\n",
       "| 73 | Japan | 126529100 | 91.616 | 42797.46 | 3024190 | 8.28 | 8.699179 | 7.86 | 16 | 70.1 | 1 | 61 | 126387.5 |\n",
       "\n"
      ],
      "text/plain": [
       "   country pop       urb    gdp      dist    hf   pf       ef   date_first\n",
       "73 Japan   126529100 91.616 42797.46 3024190 8.28 8.699179 7.86 16        \n",
       "   detection status cumul air     \n",
       "73 70.1      1      61    126387.5"
      ]
     },
     "metadata": {},
     "output_type": "display_data"
    }
   ],
   "source": [
    "# 日本と中国の距離は3024190で定義されている\n",
    "df[df$country  == \"Japan\", ]"
   ]
  },
  {
   "cell_type": "code",
   "execution_count": 24,
   "metadata": {},
   "outputs": [],
   "source": [
    "# 経度、緯度の順で定義(google検索)\n",
    "tokyo <- c(139.7690, 35.6804)\n",
    "japan <- c(138.2529, 36.2048)\n",
    "hokkaido <- c(142.8635, 43.2203)\n",
    "\n",
    "bukan <- c(114.3055, 30.5928)\n",
    "china <- c(104.1954, 35.8617)"
   ]
  },
  {
   "cell_type": "code",
   "execution_count": 26,
   "metadata": {},
   "outputs": [
    {
     "data": {
      "text/html": [
       "2306382.04519618"
      ],
      "text/latex": [
       "2306382.04519618"
      ],
      "text/markdown": [
       "2306382.04519618"
      ],
      "text/plain": [
       "[1] 2306382"
      ]
     },
     "metadata": {},
     "output_type": "display_data"
    },
    {
     "data": {
      "text/html": [
       "2434551.95545334"
      ],
      "text/latex": [
       "2434551.95545334"
      ],
      "text/markdown": [
       "2434551.95545334"
      ],
      "text/plain": [
       "[1] 2434552"
      ]
     },
     "metadata": {},
     "output_type": "display_data"
    },
    {
     "data": {
      "text/html": [
       "3053703.63043494"
      ],
      "text/latex": [
       "3053703.63043494"
      ],
      "text/markdown": [
       "3053703.63043494"
      ],
      "text/plain": [
       "[1] 3053704"
      ]
     },
     "metadata": {},
     "output_type": "display_data"
    },
    {
     "data": {
      "text/html": [
       "3198669.13444806"
      ],
      "text/latex": [
       "3198669.13444806"
      ],
      "text/markdown": [
       "3198669.13444806"
      ],
      "text/plain": [
       "[1] 3198669"
      ]
     },
     "metadata": {},
     "output_type": "display_data"
    },
    {
     "data": {
      "text/html": [
       "3390666.87583541"
      ],
      "text/latex": [
       "3390666.87583541"
      ],
      "text/markdown": [
       "3390666.87583541"
      ],
      "text/plain": [
       "[1] 3390667"
      ]
     },
     "metadata": {},
     "output_type": "display_data"
    }
   ],
   "source": [
    "# 都市ごとの距離の違い\n",
    "distGeo(bukan, japan)\n",
    "distGeo(bukan, tokyo)\n",
    "\n",
    "distGeo(china, japan)\n",
    "distGeo(china, tokyo)\n",
    "\n",
    "distGeo(china, hokkaido)"
   ]
  },
  {
   "cell_type": "code",
   "execution_count": 17,
   "metadata": {},
   "outputs": [
    {
     "data": {
      "text/html": [
       "3050168.28586381"
      ],
      "text/latex": [
       "3050168.28586381"
      ],
      "text/markdown": [
       "3050168.28586381"
      ],
      "text/plain": [
       "[1] 3050168"
      ]
     },
     "metadata": {},
     "output_type": "display_data"
    },
    {
     "data": {
      "text/html": [
       "3050168.28586381"
      ],
      "text/latex": [
       "3050168.28586381"
      ],
      "text/markdown": [
       "3050168.28586381"
      ],
      "text/plain": [
       "[1] 3050168"
      ]
     },
     "metadata": {},
     "output_type": "display_data"
    },
    {
     "data": {
      "text/html": [
       "3050168.28586381"
      ],
      "text/latex": [
       "3050168.28586381"
      ],
      "text/markdown": [
       "3050168.28586381"
      ],
      "text/plain": [
       "[1] 3050168"
      ]
     },
     "metadata": {},
     "output_type": "display_data"
    },
    {
     "data": {
      "text/html": [
       "3053703.42197817"
      ],
      "text/latex": [
       "3053703.42197817"
      ],
      "text/markdown": [
       "3053703.42197817"
      ],
      "text/plain": [
       "[1] 3053703"
      ]
     },
     "metadata": {},
     "output_type": "display_data"
    },
    {
     "data": {
      "text/html": [
       "3053703.63043494"
      ],
      "text/latex": [
       "3053703.63043494"
      ],
      "text/markdown": [
       "3053703.63043494"
      ],
      "text/plain": [
       "[1] 3053704"
      ]
     },
     "metadata": {},
     "output_type": "display_data"
    },
    {
     "data": {
      "text/html": [
       "3053703.63044179"
      ],
      "text/latex": [
       "3053703.63044179"
      ],
      "text/markdown": [
       "3053703.63044179"
      ],
      "text/plain": [
       "[1] 3053704"
      ]
     },
     "metadata": {},
     "output_type": "display_data"
    }
   ],
   "source": [
    "# 関数間での距離の違いはせいぜい2000mほど\n",
    "distCosine(china, japan)\n",
    "distVincentySphere(china, japan)\n",
    "distHaversine(china, japan)\n",
    "\n",
    "distMeeus(china, japan)\n",
    "distGeo(china, japan)\n",
    "distVincentyEllipsoid(china, japan)"
   ]
  },
  {
   "cell_type": "code",
   "execution_count": 19,
   "metadata": {},
   "outputs": [
    {
     "data": {
      "text/html": [
       "<table>\n",
       "<caption>A data.frame: 1 × 13</caption>\n",
       "<thead>\n",
       "\t<tr><th></th><th scope=col>country</th><th scope=col>pop</th><th scope=col>urb</th><th scope=col>gdp</th><th scope=col>dist</th><th scope=col>hf</th><th scope=col>pf</th><th scope=col>ef</th><th scope=col>date_first</th><th scope=col>detection</th><th scope=col>status</th><th scope=col>cumul</th><th scope=col>air</th></tr>\n",
       "\t<tr><th></th><th scope=col>&lt;chr&gt;</th><th scope=col>&lt;dbl&gt;</th><th scope=col>&lt;dbl&gt;</th><th scope=col>&lt;dbl&gt;</th><th scope=col>&lt;dbl&gt;</th><th scope=col>&lt;dbl&gt;</th><th scope=col>&lt;dbl&gt;</th><th scope=col>&lt;dbl&gt;</th><th scope=col>&lt;dbl&gt;</th><th scope=col>&lt;dbl&gt;</th><th scope=col>&lt;dbl&gt;</th><th scope=col>&lt;dbl&gt;</th><th scope=col>&lt;dbl&gt;</th></tr>\n",
       "</thead>\n",
       "<tbody>\n",
       "\t<tr><th scope=row>65</th><td>India</td><td>1352617328</td><td>34.03</td><td>7762.882</td><td>2777278</td><td>6.64</td><td>6.368844</td><td>6.91</td><td>31</td><td>47.4</td><td>1</td><td>7815</td><td>164035.6</td></tr>\n",
       "</tbody>\n",
       "</table>\n"
      ],
      "text/latex": [
       "A data.frame: 1 × 13\n",
       "\\begin{tabular}{r|lllllllllllll}\n",
       "  & country & pop & urb & gdp & dist & hf & pf & ef & date\\_first & detection & status & cumul & air\\\\\n",
       "  & <chr> & <dbl> & <dbl> & <dbl> & <dbl> & <dbl> & <dbl> & <dbl> & <dbl> & <dbl> & <dbl> & <dbl> & <dbl>\\\\\n",
       "\\hline\n",
       "\t65 & India & 1352617328 & 34.03 & 7762.882 & 2777278 & 6.64 & 6.368844 & 6.91 & 31 & 47.4 & 1 & 7815 & 164035.6\\\\\n",
       "\\end{tabular}\n"
      ],
      "text/markdown": [
       "\n",
       "A data.frame: 1 × 13\n",
       "\n",
       "| <!--/--> | country &lt;chr&gt; | pop &lt;dbl&gt; | urb &lt;dbl&gt; | gdp &lt;dbl&gt; | dist &lt;dbl&gt; | hf &lt;dbl&gt; | pf &lt;dbl&gt; | ef &lt;dbl&gt; | date_first &lt;dbl&gt; | detection &lt;dbl&gt; | status &lt;dbl&gt; | cumul &lt;dbl&gt; | air &lt;dbl&gt; |\n",
       "|---|---|---|---|---|---|---|---|---|---|---|---|---|---|\n",
       "| 65 | India | 1352617328 | 34.03 | 7762.882 | 2777278 | 6.64 | 6.368844 | 6.91 | 31 | 47.4 | 1 | 7815 | 164035.6 |\n",
       "\n"
      ],
      "text/plain": [
       "   country pop        urb   gdp      dist    hf   pf       ef   date_first\n",
       "65 India   1352617328 34.03 7762.882 2777278 6.64 6.368844 6.91 31        \n",
       "   detection status cumul air     \n",
       "65 47.4      1      7815  164035.6"
      ]
     },
     "metadata": {},
     "output_type": "display_data"
    }
   ],
   "source": [
    "# インドと中国の距離は2777278で定義されている\n",
    "df[df$country  == \"India\", ]"
   ]
  },
  {
   "cell_type": "code",
   "execution_count": 22,
   "metadata": {},
   "outputs": [],
   "source": [
    "# 経度、緯度の順で定義(google検索)\n",
    "india <- c(78.9629, 20.5937)\n",
    "newdelhi <- c(77.2090, 28.6139)"
   ]
  },
  {
   "cell_type": "code",
   "execution_count": 23,
   "metadata": {},
   "outputs": [
    {
     "data": {
      "text/html": [
       "3701622.09835876"
      ],
      "text/latex": [
       "3701622.09835876"
      ],
      "text/markdown": [
       "3701622.09835876"
      ],
      "text/plain": [
       "[1] 3701622"
      ]
     },
     "metadata": {},
     "output_type": "display_data"
    },
    {
     "data": {
      "text/html": [
       "2984383.97778604"
      ],
      "text/latex": [
       "2984383.97778604"
      ],
      "text/markdown": [
       "2984383.97778604"
      ],
      "text/plain": [
       "[1] 2984384"
      ]
     },
     "metadata": {},
     "output_type": "display_data"
    },
    {
     "data": {
      "text/html": [
       "3584017.23485767"
      ],
      "text/latex": [
       "3584017.23485767"
      ],
      "text/markdown": [
       "3584017.23485767"
      ],
      "text/plain": [
       "[1] 3584017"
      ]
     },
     "metadata": {},
     "output_type": "display_data"
    },
    {
     "data": {
      "text/html": [
       "2657343.68704637"
      ],
      "text/latex": [
       "2657343.68704637"
      ],
      "text/markdown": [
       "2657343.68704637"
      ],
      "text/plain": [
       "[1] 2657344"
      ]
     },
     "metadata": {},
     "output_type": "display_data"
    }
   ],
   "source": [
    "distGeo(bukan, india)\n",
    "distGeo(china, india)\n",
    "\n",
    "distGeo(bukan, newdelhi)\n",
    "distGeo(china, newdelhi)"
   ]
  },
  {
   "cell_type": "markdown",
   "metadata": {},
   "source": [
    "論文と正確な距離計算はできていないが、おそらく武漢ではなく、中国の代表点と各国の距離を測っている"
   ]
  }
 ],
 "metadata": {
  "kernelspec": {
   "display_name": "R",
   "language": "R",
   "name": "ir"
  },
  "language_info": {
   "codemirror_mode": "r",
   "file_extension": ".r",
   "mimetype": "text/x-r-source",
   "name": "R",
   "pygments_lexer": "r",
   "version": "3.6.1"
  }
 },
 "nbformat": 4,
 "nbformat_minor": 4
}
