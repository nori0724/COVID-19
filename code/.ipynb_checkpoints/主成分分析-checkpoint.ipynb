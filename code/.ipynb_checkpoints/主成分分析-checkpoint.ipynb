{
 "cells": [
  {
   "cell_type": "code",
   "execution_count": 1,
   "metadata": {},
   "outputs": [],
   "source": [
    "import pandas as pd\n",
    "import numpy as np\n",
    "import datetime\n",
    "import seaborn as sns\n",
    "import matplotlib.pyplot as plt\n",
    "from sklearn.preprocessing import StandardScaler\n",
    "# インポート\n",
    "from sklearn.decomposition import PCA\n",
    "\n",
    "pd.set_option('display.max_columns', 500)\n",
    "pd.set_option('display.max_rows', 500)"
   ]
  },
  {
   "cell_type": "code",
   "execution_count": 2,
   "metadata": {},
   "outputs": [],
   "source": [
    "df = pd.read_excel('/Users/masanoritakahashi/Documents/講義/ゼミ/M2/空間生存時間/COVID-19/data/data_covid_fix_name.xlsx')\n",
    "del df[\"cumul\"]"
   ]
  },
  {
   "cell_type": "code",
   "execution_count": 3,
   "metadata": {},
   "outputs": [],
   "source": [
    "# 欠損の削除\n",
    "df.dropna(inplace=True)\n",
    "\n",
    "df.reset_index(inplace=True)\n",
    "del df[\"index\"]"
   ]
  },
  {
   "cell_type": "code",
   "execution_count": 4,
   "metadata": {},
   "outputs": [
    {
     "data": {
      "text/html": [
       "<div>\n",
       "<style scoped>\n",
       "    .dataframe tbody tr th:only-of-type {\n",
       "        vertical-align: middle;\n",
       "    }\n",
       "\n",
       "    .dataframe tbody tr th {\n",
       "        vertical-align: top;\n",
       "    }\n",
       "\n",
       "    .dataframe thead th {\n",
       "        text-align: right;\n",
       "    }\n",
       "</style>\n",
       "<table border=\"1\" class=\"dataframe\">\n",
       "  <thead>\n",
       "    <tr style=\"text-align: right;\">\n",
       "      <th></th>\n",
       "      <th>country</th>\n",
       "      <th>pop</th>\n",
       "      <th>urb</th>\n",
       "      <th>gdp</th>\n",
       "      <th>dist</th>\n",
       "      <th>hf</th>\n",
       "      <th>pf</th>\n",
       "      <th>ef</th>\n",
       "      <th>date_first</th>\n",
       "      <th>detection</th>\n",
       "      <th>status</th>\n",
       "      <th>air</th>\n",
       "    </tr>\n",
       "  </thead>\n",
       "  <tbody>\n",
       "    <tr>\n",
       "      <th>0</th>\n",
       "      <td>Albania</td>\n",
       "      <td>2866376</td>\n",
       "      <td>60.319</td>\n",
       "      <td>13364.155397</td>\n",
       "      <td>6.996524e+06</td>\n",
       "      <td>7.84</td>\n",
       "      <td>8.005411</td>\n",
       "      <td>7.67</td>\n",
       "      <td>70</td>\n",
       "      <td>74.3</td>\n",
       "      <td>1</td>\n",
       "      <td>303.14</td>\n",
       "    </tr>\n",
       "    <tr>\n",
       "      <th>1</th>\n",
       "      <td>Algeria</td>\n",
       "      <td>42228429</td>\n",
       "      <td>72.629</td>\n",
       "      <td>15481.787620</td>\n",
       "      <td>9.108277e+06</td>\n",
       "      <td>4.99</td>\n",
       "      <td>5.201489</td>\n",
       "      <td>4.77</td>\n",
       "      <td>58</td>\n",
       "      <td>12.0</td>\n",
       "      <td>1</td>\n",
       "      <td>6442.44</td>\n",
       "    </tr>\n",
       "    <tr>\n",
       "      <th>2</th>\n",
       "      <td>Angola</td>\n",
       "      <td>30809762</td>\n",
       "      <td>65.514</td>\n",
       "      <td>6452.355165</td>\n",
       "      <td>1.049012e+07</td>\n",
       "      <td>5.40</td>\n",
       "      <td>5.979936</td>\n",
       "      <td>4.83</td>\n",
       "      <td>83</td>\n",
       "      <td>17.9</td>\n",
       "      <td>1</td>\n",
       "      <td>76.94</td>\n",
       "    </tr>\n",
       "    <tr>\n",
       "      <th>3</th>\n",
       "      <td>Argentina</td>\n",
       "      <td>44494502</td>\n",
       "      <td>91.870</td>\n",
       "      <td>20610.568550</td>\n",
       "      <td>1.902562e+07</td>\n",
       "      <td>6.86</td>\n",
       "      <td>8.044600</td>\n",
       "      <td>5.67</td>\n",
       "      <td>65</td>\n",
       "      <td>74.9</td>\n",
       "      <td>1</td>\n",
       "      <td>1516.63</td>\n",
       "    </tr>\n",
       "    <tr>\n",
       "      <th>4</th>\n",
       "      <td>Australia</td>\n",
       "      <td>24992369</td>\n",
       "      <td>86.012</td>\n",
       "      <td>51663.365095</td>\n",
       "      <td>7.608913e+06</td>\n",
       "      <td>8.62</td>\n",
       "      <td>9.160533</td>\n",
       "      <td>8.07</td>\n",
       "      <td>26</td>\n",
       "      <td>97.3</td>\n",
       "      <td>1</td>\n",
       "      <td>75667.65</td>\n",
       "    </tr>\n",
       "  </tbody>\n",
       "</table>\n",
       "</div>"
      ],
      "text/plain": [
       "     country       pop     urb           gdp          dist    hf        pf  \\\n",
       "0    Albania   2866376  60.319  13364.155397  6.996524e+06  7.84  8.005411   \n",
       "1    Algeria  42228429  72.629  15481.787620  9.108277e+06  4.99  5.201489   \n",
       "2     Angola  30809762  65.514   6452.355165  1.049012e+07  5.40  5.979936   \n",
       "3  Argentina  44494502  91.870  20610.568550  1.902562e+07  6.86  8.044600   \n",
       "4  Australia  24992369  86.012  51663.365095  7.608913e+06  8.62  9.160533   \n",
       "\n",
       "     ef  date_first  detection  status       air  \n",
       "0  7.67          70       74.3       1    303.14  \n",
       "1  4.77          58       12.0       1   6442.44  \n",
       "2  4.83          83       17.9       1     76.94  \n",
       "3  5.67          65       74.9       1   1516.63  \n",
       "4  8.07          26       97.3       1  75667.65  "
      ]
     },
     "execution_count": 4,
     "metadata": {},
     "output_type": "execute_result"
    }
   ],
   "source": [
    "df.head()"
   ]
  },
  {
   "cell_type": "code",
   "execution_count": 5,
   "metadata": {},
   "outputs": [],
   "source": [
    "data = df[[\"pop\", \"urb\", \"gdp\", \"dist\", \"ef\", \"pf\", \"detection\", \"air\"]]\n",
    "#data[\"pop\"] = np.log(data[\"pop\"])\n",
    "\n",
    "# 標準化\n",
    "sc = StandardScaler()\n",
    "sc.fit(data)\n",
    "data_std = sc.transform(data)"
   ]
  },
  {
   "cell_type": "markdown",
   "metadata": {},
   "source": [
    "# 主成分分析"
   ]
  },
  {
   "cell_type": "code",
   "execution_count": 6,
   "metadata": {},
   "outputs": [
    {
     "data": {
      "text/plain": [
       "PCA(copy=True, iterated_power='auto', n_components=2, random_state=None,\n",
       "    svd_solver='auto', tol=0.0, whiten=False)"
      ]
     },
     "execution_count": 6,
     "metadata": {},
     "output_type": "execute_result"
    }
   ],
   "source": [
    "# 主成分分析\n",
    "pca = PCA(n_components=2)\n",
    "pca.fit(data_std)"
   ]
  },
  {
   "cell_type": "code",
   "execution_count": 7,
   "metadata": {},
   "outputs": [
    {
     "name": "stdout",
     "output_type": "stream",
     "text": [
      "[[ 0.01574305  0.38505076  0.44832296 -0.09010042  0.46848727  0.43566311\n",
      "   0.4064428   0.26057261]\n",
      " [ 0.66708858 -0.26167787 -0.08861959 -0.40399012 -0.04508077 -0.20588224\n",
      "   0.19289573  0.48355716]]\n"
     ]
    }
   ],
   "source": [
    "print(pca.components_)"
   ]
  },
  {
   "cell_type": "code",
   "execution_count": 8,
   "metadata": {},
   "outputs": [
    {
     "name": "stdout",
     "output_type": "stream",
     "text": [
      "各主成分の分散:[3.05917208 1.49896976]\n"
     ]
    }
   ],
   "source": [
    "print('各主成分の分散:{}'.format(pca.explained_variance_))"
   ]
  },
  {
   "cell_type": "code",
   "execution_count": 9,
   "metadata": {},
   "outputs": [
    {
     "name": "stdout",
     "output_type": "stream",
     "text": [
      "各主成分の分散割合:[0.3798472  0.18612208]\n"
     ]
    }
   ],
   "source": [
    "print('各主成分の分散割合:{}'.format(pca.explained_variance_ratio_))"
   ]
  },
  {
   "cell_type": "code",
   "execution_count": 15,
   "metadata": {},
   "outputs": [],
   "source": [
    "res = pca.transform(data_std)"
   ]
  },
  {
   "cell_type": "code",
   "execution_count": 16,
   "metadata": {},
   "outputs": [
    {
     "data": {
      "text/plain": [
       "<matplotlib.collections.PathCollection at 0x7f8e711e4b38>"
      ]
     },
     "execution_count": 16,
     "metadata": {},
     "output_type": "execute_result"
    },
    {
     "data": {
      "image/png": "[encoded data removed]",
      "text/plain": [
       "<Figure size 432x288 with 1 Axes>"
      ]
     },
     "metadata": {
      "needs_background": "light"
     },
     "output_type": "display_data"
    }
   ],
   "source": [
    "plt.scatter(res[:, 0], res[:, 1], alpha=0.2)"
   ]
  },
  {
   "cell_type": "code",
   "execution_count": 17,
   "metadata": {},
   "outputs": [
    {
     "data": {
      "text/plain": [
       "array([[ 9.52036629e-01, -1.14440215e-01],\n",
       "       [-2.27439257e+00, -2.22109163e-01],\n",
       "       [-2.25219891e+00, -4.08747852e-01],\n",
       "       [ 3.94963318e-01, -1.39622373e+00],\n",
       "       [ 3.35434325e+00, -2.93710565e-02],\n",
       "       [ 2.14479562e+00, -3.40214206e-01],\n",
       "       [-7.71125837e-01,  2.74928861e-01],\n",
       "       [ 3.58198660e-01, -1.51658494e+00],\n",
       "       [ 8.55154559e-01, -3.06697432e-01],\n",
       "       [-1.46875569e+00,  1.88833077e+00],\n",
       "       [-3.28546998e-01, -3.51507402e-01],\n",
       "       [ 2.40608789e+00, -8.83039444e-01],\n",
       "       [-1.07256623e+00, -8.39391792e-01],\n",
       "       [-1.44945294e+00, -4.94701234e-01],\n",
       "       [-8.85324299e-01,  6.77715981e-01],\n",
       "       [-1.02959571e+00, -1.34596404e+00],\n",
       "       [-3.20069321e-01, -2.16941851e-01],\n",
       "       [-1.78828803e-01, -8.49941668e-01],\n",
       "       [ 6.53394531e-01,  7.22647660e-01],\n",
       "       [ 3.15424450e-01, -1.19281294e-01],\n",
       "       [ 9.48045457e-01, -4.28570213e-01],\n",
       "       [-1.63932750e+00, -1.56778187e-01],\n",
       "       [-3.00203506e+00,  3.24669908e-01],\n",
       "       [-5.46481493e-01,  9.19177067e-01],\n",
       "       [-1.77793025e+00, -6.02702879e-02],\n",
       "       [ 3.22913371e+00,  3.63260032e-02],\n",
       "       [-7.10421425e-01, -1.18134514e+00],\n",
       "       [-2.67302439e+00, -5.97603432e-02],\n",
       "       [-2.55362708e+00,  4.24533986e-01],\n",
       "       [ 1.64679942e+00, -1.63241822e+00],\n",
       "       [-8.24462370e-02, -8.74697508e-01],\n",
       "       [-2.14307076e+00, -6.93092061e-01],\n",
       "       [ 7.28037913e-01, -1.26720000e+00],\n",
       "       [-1.13250596e+00, -3.24681996e-01],\n",
       "       [ 1.06330294e+00, -1.79909926e-01],\n",
       "       [ 4.58154975e-01, -8.02428666e-01],\n",
       "       [ 1.49853640e+00, -6.82703031e-01],\n",
       "       [-2.55144430e+00,  3.76086012e-01],\n",
       "       [ 2.97391810e+00, -6.32333939e-01],\n",
       "       [-1.24692373e-01, -1.16836704e+00],\n",
       "       [-1.61832823e-01, -8.25775740e-01],\n",
       "       [-2.48323674e+00,  1.14021183e+00],\n",
       "       [ 2.18986817e-01, -7.17576170e-01],\n",
       "       [ 2.04099132e+00, -3.37741402e-01],\n",
       "       [-2.62765069e+00,  1.25785190e+00],\n",
       "       [-8.53902299e-01, -6.29024205e-01],\n",
       "       [ 2.35516748e+00, -6.32217154e-01],\n",
       "       [ 2.19151995e+00,  7.91870716e-02],\n",
       "       [-1.25771453e+00, -1.04374745e+00],\n",
       "       [-1.27284873e+00, -3.73910562e-01],\n",
       "       [ 9.45433071e-01,  1.66552177e-01],\n",
       "       [ 3.02588224e+00,  5.36783001e-01],\n",
       "       [-7.54914027e-01, -4.04169236e-01],\n",
       "       [ 1.19471248e+00, -1.73956308e-01],\n",
       "       [-3.96318526e-01, -6.15542091e-01],\n",
       "       [-1.81422353e+00,  1.36092312e-01],\n",
       "       [-2.17751447e+00, -5.11846122e-01],\n",
       "       [-1.84459503e+00, -8.07363335e-01],\n",
       "       [-1.00406834e+00, -8.94447844e-01],\n",
       "       [ 1.05873226e+00, -2.10772484e-01],\n",
       "       [ 2.08035220e+00, -1.20162388e+00],\n",
       "       [-1.79264310e-01,  9.26257076e+00],\n",
       "       [ 5.19838191e-01,  2.58422179e+00],\n",
       "       [-1.22263785e+00,  8.13053164e-01],\n",
       "       [-1.95723841e+00,  6.10651736e-01],\n",
       "       [ 3.44894722e+00,  3.88335528e-01],\n",
       "       [ 1.50307043e+00, -5.85250867e-01],\n",
       "       [ 1.91080205e+00,  5.03754303e-02],\n",
       "       [-7.70025999e-01, -1.04460002e+00],\n",
       "       [ 2.82121585e+00,  1.12086481e+00],\n",
       "       [ 2.17844763e-01, -3.24684334e-01],\n",
       "       [-2.42010276e-01,  1.88926418e-01],\n",
       "       [-6.49374133e-01,  7.17553475e-01],\n",
       "       [ 1.10947289e+00, -4.72725853e-01],\n",
       "       [-3.97910403e-01,  7.66865068e-01],\n",
       "       [-7.58224691e-01,  1.08524905e+00],\n",
       "       [ 2.15765391e+00, -8.38274046e-02],\n",
       "       [ 4.43016616e-01, -1.77093654e-01],\n",
       "       [-1.50570114e+00, -4.85223889e-01],\n",
       "       [-1.87189389e+00, -1.68417300e-01],\n",
       "       [ 1.99192530e+00, -2.59817392e-01],\n",
       "       [ 3.29366737e+00, -1.38858696e+00],\n",
       "       [-1.53166610e+00,  1.82276026e-01],\n",
       "       [-2.10437402e+00,  7.92760185e-02],\n",
       "       [ 9.72179040e-01,  8.29647336e-01],\n",
       "       [ 1.73541658e+00, -1.19094582e+00],\n",
       "       [-1.81723549e+00, -1.32646150e-01],\n",
       "       [ 9.72926360e-02, -1.65255444e-01],\n",
       "       [ 5.98494226e-01,  3.69317640e-01],\n",
       "       [-7.85722018e-01,  1.09789070e-01],\n",
       "       [ 1.10397834e+00,  4.51198065e-01],\n",
       "       [ 4.48489762e-01, -3.55941913e-01],\n",
       "       [-6.59402053e-01,  5.64847952e-02],\n",
       "       [-1.96559843e+00,  8.65777353e-03],\n",
       "       [-1.71090374e+00,  1.45334900e+00],\n",
       "       [-7.74879225e-01, -4.45749539e-01],\n",
       "       [-1.83772352e+00,  8.79959532e-01],\n",
       "       [ 3.09217231e+00, -4.30912485e-01],\n",
       "       [ 2.02573219e+00, -1.37847427e+00],\n",
       "       [-7.54619707e-01, -8.80151591e-01],\n",
       "       [-2.22030940e+00,  4.65849726e-01],\n",
       "       [-9.73702965e-01,  9.55818393e-01],\n",
       "       [-5.96742274e-02, -2.91268670e-01],\n",
       "       [ 2.46846485e+00, -7.22651812e-01],\n",
       "       [ 8.54460474e-02, -7.23481639e-02],\n",
       "       [-1.73898940e+00,  1.95498233e+00],\n",
       "       [ 5.44096731e-01, -1.19030904e+00],\n",
       "       [-1.83045028e+00,  4.38712035e-01],\n",
       "       [-6.86419448e-01, -1.33105432e+00],\n",
       "       [ 2.48532569e-01, -1.31306613e+00],\n",
       "       [ 2.02989475e-02,  1.42404740e+00],\n",
       "       [ 9.86320132e-01, -1.74483381e-02],\n",
       "       [ 1.22948389e+00, -6.61666392e-01],\n",
       "       [ 2.05392130e+00, -5.79852936e-01],\n",
       "       [ 7.46813971e-01, -2.66636641e-01],\n",
       "       [ 8.58104538e-02,  1.47643170e+00],\n",
       "       [-1.45857301e+00,  2.47891495e-01],\n",
       "       [ 6.32999282e-01,  5.65310137e-01],\n",
       "       [-1.35414689e+00, -4.18591041e-01],\n",
       "       [-3.04214090e-02, -1.88573120e-01],\n",
       "       [-4.97658473e-02, -3.82163925e-01],\n",
       "       [-1.74213702e+00, -2.00890544e-01],\n",
       "       [ 3.74587575e+00, -4.14144494e-01],\n",
       "       [ 7.96735461e-01, -3.83919185e-01],\n",
       "       [ 1.28796901e+00, -2.44274232e-01],\n",
       "       [ 5.15477123e-01,  3.94844708e-02],\n",
       "       [ 2.77587289e+00,  8.74779352e-01],\n",
       "       [ 2.34846289e+00,  9.14654019e-02],\n",
       "       [-1.35733598e+00,  8.64468817e-01],\n",
       "       [-3.65134141e+00,  5.29066661e-01],\n",
       "       [-2.02884404e-01, -1.33600031e+00],\n",
       "       [ 2.84644629e+00, -5.11641510e-01],\n",
       "       [ 2.79140406e+00, -6.76853379e-01],\n",
       "       [ 4.20011225e-01,  1.64006542e+00],\n",
       "       [-1.40558674e+00, -1.19380185e-01],\n",
       "       [-1.00595236e+00, -1.12043719e+00],\n",
       "       [-1.16779705e+00, -3.14624330e-01],\n",
       "       [ 1.91054475e-01,  1.03865636e+00],\n",
       "       [-1.17733375e+00,  5.76168520e-01],\n",
       "       [-9.09591785e-01,  1.51547299e-01],\n",
       "       [ 1.04213703e+00,  2.40740615e-01],\n",
       "       [ 3.22900881e+00,  7.46182566e-01],\n",
       "       [-1.46775746e+00,  4.75107200e-01],\n",
       "       [ 6.10936913e+00,  6.44873229e+00],\n",
       "       [ 5.79256312e-01, -2.07627084e+00],\n",
       "       [-3.32247118e+00, -1.01757157e+00],\n",
       "       [-8.50266997e-01,  1.65284962e+00],\n",
       "       [-3.36502085e+00,  7.33159795e-01],\n",
       "       [-1.52790886e+00, -2.17379537e-01],\n",
       "       [-1.69565597e+00,  3.97515968e-01]])"
      ]
     },
     "execution_count": 17,
     "metadata": {},
     "output_type": "execute_result"
    }
   ],
   "source": [
    "res"
   ]
  },
  {
   "cell_type": "code",
   "execution_count": null,
   "metadata": {},
   "outputs": [],
   "source": []
  }
 ],
 "metadata": {
  "kernelspec": {
   "display_name": "Python 3",
   "language": "python",
   "name": "python3"
  },
  "language_info": {
   "codemirror_mode": {
    "name": "ipython",
    "version": 3
   },
   "file_extension": ".py",
   "mimetype": "text/x-python",
   "name": "python",
   "nbconvert_exporter": "python",
   "pygments_lexer": "ipython3",
   "version": "3.7.3"
  }
 },
 "nbformat": 4,
 "nbformat_minor": 4
}
