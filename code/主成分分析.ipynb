{
 "cells": [
  {
   "cell_type": "code",
   "execution_count": 1,
   "metadata": {},
   "outputs": [],
   "source": [
    "import pandas as pd\n",
    "import numpy as np\n",
    "import datetime\n",
    "import seaborn as sns\n",
    "import matplotlib.pyplot as plt\n",
    "from sklearn.preprocessing import StandardScaler\n",
    "# インポート\n",
    "from sklearn.decomposition import PCA\n",
    "\n",
    "pd.set_option('display.max_columns', 500)\n",
    "pd.set_option('display.max_rows', 500)"
   ]
  },
  {
   "cell_type": "code",
   "execution_count": 2,
   "metadata": {},
   "outputs": [],
   "source": [
    "df = pd.read_excel('/Users/masanoritakahashi/Documents/講義/ゼミ/M2/空間生存時間/COVID-19/data/data_covid_fix_name.xlsx')\n",
    "del df[\"cumul\"]"
   ]
  },
  {
   "cell_type": "code",
   "execution_count": 3,
   "metadata": {},
   "outputs": [],
   "source": [
    "# 欠損の削除\n",
    "df.dropna(inplace=True)\n",
    "\n",
    "df.reset_index(inplace=True)\n",
    "del df[\"index\"]"
   ]
  },
  {
   "cell_type": "code",
   "execution_count": 4,
   "metadata": {},
   "outputs": [
    {
     "data": {
      "text/html": [
       "<div>\n",
       "<style scoped>\n",
       "    .dataframe tbody tr th:only-of-type {\n",
       "        vertical-align: middle;\n",
       "    }\n",
       "\n",
       "    .dataframe tbody tr th {\n",
       "        vertical-align: top;\n",
       "    }\n",
       "\n",
       "    .dataframe thead th {\n",
       "        text-align: right;\n",
       "    }\n",
       "</style>\n",
       "<table border=\"1\" class=\"dataframe\">\n",
       "  <thead>\n",
       "    <tr style=\"text-align: right;\">\n",
       "      <th></th>\n",
       "      <th>country</th>\n",
       "      <th>pop</th>\n",
       "      <th>urb</th>\n",
       "      <th>gdp</th>\n",
       "      <th>dist</th>\n",
       "      <th>hf</th>\n",
       "      <th>pf</th>\n",
       "      <th>ef</th>\n",
       "      <th>date_first</th>\n",
       "      <th>detection</th>\n",
       "      <th>status</th>\n",
       "      <th>air</th>\n",
       "    </tr>\n",
       "  </thead>\n",
       "  <tbody>\n",
       "    <tr>\n",
       "      <th>0</th>\n",
       "      <td>Albania</td>\n",
       "      <td>2866376</td>\n",
       "      <td>60.319</td>\n",
       "      <td>13364.155397</td>\n",
       "      <td>6.996524e+06</td>\n",
       "      <td>7.84</td>\n",
       "      <td>8.005411</td>\n",
       "      <td>7.67</td>\n",
       "      <td>70</td>\n",
       "      <td>74.3</td>\n",
       "      <td>1</td>\n",
       "      <td>303.14</td>\n",
       "    </tr>\n",
       "    <tr>\n",
       "      <th>1</th>\n",
       "      <td>Algeria</td>\n",
       "      <td>42228429</td>\n",
       "      <td>72.629</td>\n",
       "      <td>15481.787620</td>\n",
       "      <td>9.108277e+06</td>\n",
       "      <td>4.99</td>\n",
       "      <td>5.201489</td>\n",
       "      <td>4.77</td>\n",
       "      <td>58</td>\n",
       "      <td>12.0</td>\n",
       "      <td>1</td>\n",
       "      <td>6442.44</td>\n",
       "    </tr>\n",
       "    <tr>\n",
       "      <th>2</th>\n",
       "      <td>Angola</td>\n",
       "      <td>30809762</td>\n",
       "      <td>65.514</td>\n",
       "      <td>6452.355165</td>\n",
       "      <td>1.049012e+07</td>\n",
       "      <td>5.40</td>\n",
       "      <td>5.979936</td>\n",
       "      <td>4.83</td>\n",
       "      <td>83</td>\n",
       "      <td>17.9</td>\n",
       "      <td>1</td>\n",
       "      <td>76.94</td>\n",
       "    </tr>\n",
       "    <tr>\n",
       "      <th>3</th>\n",
       "      <td>Argentina</td>\n",
       "      <td>44494502</td>\n",
       "      <td>91.870</td>\n",
       "      <td>20610.568550</td>\n",
       "      <td>1.902562e+07</td>\n",
       "      <td>6.86</td>\n",
       "      <td>8.044600</td>\n",
       "      <td>5.67</td>\n",
       "      <td>65</td>\n",
       "      <td>74.9</td>\n",
       "      <td>1</td>\n",
       "      <td>1516.63</td>\n",
       "    </tr>\n",
       "    <tr>\n",
       "      <th>4</th>\n",
       "      <td>Australia</td>\n",
       "      <td>24992369</td>\n",
       "      <td>86.012</td>\n",
       "      <td>51663.365095</td>\n",
       "      <td>7.608913e+06</td>\n",
       "      <td>8.62</td>\n",
       "      <td>9.160533</td>\n",
       "      <td>8.07</td>\n",
       "      <td>26</td>\n",
       "      <td>97.3</td>\n",
       "      <td>1</td>\n",
       "      <td>75667.65</td>\n",
       "    </tr>\n",
       "  </tbody>\n",
       "</table>\n",
       "</div>"
      ],
      "text/plain": [
       "     country       pop     urb           gdp          dist    hf        pf  \\\n",
       "0    Albania   2866376  60.319  13364.155397  6.996524e+06  7.84  8.005411   \n",
       "1    Algeria  42228429  72.629  15481.787620  9.108277e+06  4.99  5.201489   \n",
       "2     Angola  30809762  65.514   6452.355165  1.049012e+07  5.40  5.979936   \n",
       "3  Argentina  44494502  91.870  20610.568550  1.902562e+07  6.86  8.044600   \n",
       "4  Australia  24992369  86.012  51663.365095  7.608913e+06  8.62  9.160533   \n",
       "\n",
       "     ef  date_first  detection  status       air  \n",
       "0  7.67          70       74.3       1    303.14  \n",
       "1  4.77          58       12.0       1   6442.44  \n",
       "2  4.83          83       17.9       1     76.94  \n",
       "3  5.67          65       74.9       1   1516.63  \n",
       "4  8.07          26       97.3       1  75667.65  "
      ]
     },
     "execution_count": 4,
     "metadata": {},
     "output_type": "execute_result"
    }
   ],
   "source": [
    "df.head()"
   ]
  },
  {
   "cell_type": "code",
   "execution_count": 5,
   "metadata": {},
   "outputs": [],
   "source": [
    "data = df[[\"pop\", \"urb\", \"gdp\", \"dist\", \"ef\", \"pf\", \"detection\", \"air\", \"date_first\"]]\n",
    "#data[\"pop\"] = np.log(data[\"pop\"])\n",
    "\n",
    "# 標準化\n",
    "sc = StandardScaler()\n",
    "sc.fit(data)\n",
    "data_std = sc.transform(data)"
   ]
  },
  {
   "cell_type": "markdown",
   "metadata": {},
   "source": [
    "# 主成分分析"
   ]
  },
  {
   "cell_type": "code",
   "execution_count": 14,
   "metadata": {},
   "outputs": [
    {
     "data": {
      "text/plain": [
       "PCA(copy=True, iterated_power='auto', n_components=9, random_state=None,\n",
       "    svd_solver='auto', tol=0.0, whiten=False)"
      ]
     },
     "execution_count": 14,
     "metadata": {},
     "output_type": "execute_result"
    }
   ],
   "source": [
    "# 主成分分析\n",
    "pca = PCA(n_components=9)\n",
    "pca.fit(data_std)"
   ]
  },
  {
   "cell_type": "code",
   "execution_count": 15,
   "metadata": {},
   "outputs": [
    {
     "name": "stdout",
     "output_type": "stream",
     "text": [
      "[[ 0.06450146  0.33942472  0.40765733 -0.13492427  0.41551701  0.37360936\n",
      "   0.39274605  0.26965268 -0.39628399]\n",
      " [ 0.59966864 -0.30685954 -0.15865159 -0.41246223 -0.15932673 -0.30618737\n",
      "   0.10125132  0.36887356 -0.29237659]\n",
      " [ 0.36354318  0.13092204 -0.17552773  0.74614737 -0.05786029  0.14281926\n",
      "  -0.00506617  0.47245519  0.12714228]\n",
      " [ 0.01158543  0.56397097  0.45106228 -0.01840164 -0.3609286  -0.42582453\n",
      "  -0.37096734  0.13840685 -0.09817086]\n",
      " [ 0.539548   -0.03445846  0.22409259 -0.12391871  0.39247688  0.23683648\n",
      "  -0.56219984 -0.22498982  0.25555533]\n",
      " [-0.39312328 -0.31503294  0.20998245 -0.16464318  0.21515969 -0.0536199\n",
      "  -0.21838516  0.67263392  0.35455758]\n",
      " [-0.22608077 -0.18897313 -0.16397996  0.11453709 -0.04160897  0.27110644\n",
      "  -0.55741258  0.078156   -0.69362909]\n",
      " [ 0.05198694 -0.04512775  0.15945812 -0.23601245 -0.67324813  0.64498224\n",
      "   0.02922451  0.07460147  0.19608032]\n",
      " [ 0.06682883 -0.56324396  0.65402719  0.37856568 -0.11409293 -0.12835136\n",
      "   0.15010889 -0.18471279 -0.14520278]]\n"
     ]
    }
   ],
   "source": [
    "print(pca.components_)"
   ]
  },
  {
   "cell_type": "code",
   "execution_count": 16,
   "metadata": {},
   "outputs": [
    {
     "name": "stdout",
     "output_type": "stream",
     "text": [
      "各主成分の分散:[3.51101547 1.63172138 1.06310831 0.93224606 0.56514256 0.5185557\n",
      " 0.35936618 0.26388822 0.2153588 ]\n"
     ]
    }
   ],
   "source": [
    "print('各主成分の分散:{}'.format(pca.explained_variance_))"
   ]
  },
  {
   "cell_type": "code",
   "execution_count": 17,
   "metadata": {},
   "outputs": [
    {
     "name": "stdout",
     "output_type": "stream",
     "text": [
      "各主成分の分散割合:[0.38751208 0.18009369 0.11733566 0.10289234 0.06237499 0.05723318\n",
      " 0.03966338 0.02912544 0.02376923]\n"
     ]
    }
   ],
   "source": [
    "print('各主成分の分散割合:{}'.format(pca.explained_variance_ratio_))"
   ]
  },
  {
   "cell_type": "code",
   "execution_count": 18,
   "metadata": {},
   "outputs": [],
   "source": [
    "res = pca.transform(data_std)"
   ]
  },
  {
   "cell_type": "code",
   "execution_count": 19,
   "metadata": {},
   "outputs": [
    {
     "data": {
      "text/plain": [
       "<matplotlib.collections.PathCollection at 0x7fd717905940>"
      ]
     },
     "execution_count": 19,
     "metadata": {},
     "output_type": "execute_result"
    },
    {
     "data": {
      "image/png": "[encoded data removed]",
      "text/plain": [
       "<Figure size 432x288 with 1 Axes>"
      ]
     },
     "metadata": {
      "needs_background": "light"
     },
     "output_type": "display_data"
    }
   ],
   "source": [
    "plt.scatter(res[:, 0], res[:, 1], alpha=0.2)"
   ]
  },
  {
   "cell_type": "code",
   "execution_count": 20,
   "metadata": {},
   "outputs": [
    {
     "data": {
      "text/plain": [
       "array([[ 0.72464045, -0.40828585, -0.3684508 , ..., -0.65347677,\n",
       "        -0.09199096, -0.4223579 ],\n",
       "       [-1.95023382,  0.42133141,  0.07259453, ...,  0.84068242,\n",
       "         0.43306523, -0.18850506],\n",
       "       [-2.5046914 , -0.19941972,  0.53056994, ...,  0.06205182,\n",
       "         0.87746822, -0.35724953],\n",
       "       ...,\n",
       "       [-3.82807871,  0.85626345, -0.71104523, ..., -0.94454455,\n",
       "        -0.81807675, -0.20101254],\n",
       "       [-1.78592755, -0.17370558,  0.09188685, ...,  0.22274736,\n",
       "        -0.47173274, -0.14850988],\n",
       "       [-1.91360565,  0.43501633,  0.08929291, ..., -0.88106809,\n",
       "         0.20949424,  0.59512841]])"
      ]
     },
     "execution_count": 20,
     "metadata": {},
     "output_type": "execute_result"
    }
   ],
   "source": [
    "res"
   ]
  },
  {
   "cell_type": "code",
   "execution_count": null,
   "metadata": {},
   "outputs": [],
   "source": []
  }
 ],
 "metadata": {
  "kernelspec": {
   "display_name": "Python 3",
   "language": "python",
   "name": "python3"
  },
  "language_info": {
   "codemirror_mode": {
    "name": "ipython",
    "version": 3
   },
   "file_extension": ".py",
   "mimetype": "text/x-python",
   "name": "python",
   "nbconvert_exporter": "python",
   "pygments_lexer": "ipython3",
   "version": "3.7.3"
  }
 },
 "nbformat": 4,
 "nbformat_minor": 4
}
