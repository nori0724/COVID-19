{
 "cells": [
  {
   "cell_type": "code",
   "execution_count": 3,
   "metadata": {},
   "outputs": [],
   "source": [
    "df = read.csv(\"../data/data_covid_fix_name_code.csv\")"
   ]
  },
  {
   "cell_type": "code",
   "execution_count": 7,
   "metadata": {},
   "outputs": [
    {
     "ename": "ERROR",
     "evalue": "Error in install.package(\"tidygeocoder\"):  関数 \"install.package\" を見つけることができませんでした \n",
     "output_type": "error",
     "traceback": [
      "Error in install.package(\"tidygeocoder\"):  関数 \"install.package\" を見つけることができませんでした \nTraceback:\n"
     ]
    }
   ],
   "source": [
    "install.package(\"tidygeocoder\")"
   ]
  },
  {
   "cell_type": "code",
   "execution_count": 8,
   "metadata": {},
   "outputs": [
    {
     "name": "stderr",
     "output_type": "stream",
     "text": [
      "Loading required package: rjson\n",
      "\n",
      "Loading required package: RCurl\n",
      "\n",
      "Warning message in library(package, lib.loc = lib.loc, character.only = TRUE, logical.return = TRUE, :\n",
      "“there is no package called ‘RCurl’”\n"
     ]
    }
   ],
   "source": [
    "### ライブラリのロード\n",
    "require(rjson)\n",
    "require(RCurl)"
   ]
  }
 ],
 "metadata": {
  "kernelspec": {
   "display_name": "R",
   "language": "R",
   "name": "ir"
  },
  "language_info": {
   "codemirror_mode": "r",
   "file_extension": ".r",
   "mimetype": "text/x-r-source",
   "name": "R",
   "pygments_lexer": "r",
   "version": "3.6.1"
  }
 },
 "nbformat": 4,
 "nbformat_minor": 4
}
